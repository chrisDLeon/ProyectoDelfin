{
 "cells": [
  {
   "cell_type": "code",
   "execution_count": 1,
   "metadata": {
    "scrolled": true
   },
   "outputs": [],
   "source": [
    "import numpy as np\n",
    "import pandas as pd"
   ]
  },
  {
   "cell_type": "code",
   "execution_count": 2,
   "metadata": {},
   "outputs": [],
   "source": [
    "df_ = 'C:/Users/chris/Documents/TRABAJO/PROYECTOS/PROGRAMA DELFIN/PROYECTOCRIMEN/2017/tmod_vic_envipe2017/conjunto_de_datos/tmod_vic2017.csv'"
   ]
  },
  {
   "cell_type": "code",
   "execution_count": 3,
   "metadata": {},
   "outputs": [],
   "source": [
    "df = pd.read_csv(df_)\n",
    "df_copy = df"
   ]
  },
  {
   "cell_type": "code",
   "execution_count": 4,
   "metadata": {},
   "outputs": [
    {
     "data": {
      "text/plain": [
       "1     6918\n",
       "5     6894\n",
       "2     6880\n",
       "4     6843\n",
       "3     6757\n",
       "8      770\n",
       "11     747\n",
       "15     735\n",
       "13     722\n",
       "10     703\n",
       "7      694\n",
       "17     692\n",
       "16     686\n",
       "19     674\n",
       "12     671\n",
       "6      657\n",
       "20     657\n",
       "14     642\n",
       "18     620\n",
       "9      616\n",
       "21      33\n",
       "22      15\n",
       "23       4\n",
       "Name: VIV_SEL, dtype: int64"
      ]
     },
     "execution_count": 4,
     "metadata": {},
     "output_type": "execute_result"
    }
   ],
   "source": [
    "df_copy.VIV_SEL.value_counts()"
   ]
  },
  {
   "cell_type": "code",
   "execution_count": 5,
   "metadata": {},
   "outputs": [
    {
     "data": {
      "text/plain": [
       "1    43903\n",
       "2      630\n",
       "3       91\n",
       "4        4\n",
       "5        2\n",
       "Name: HOGAR, dtype: int64"
      ]
     },
     "execution_count": 5,
     "metadata": {},
     "output_type": "execute_result"
    }
   ],
   "source": [
    "df_copy.HOGAR.value_counts()"
   ]
  },
  {
   "cell_type": "code",
   "execution_count": 6,
   "metadata": {},
   "outputs": [
    {
     "data": {
      "text/plain": [
       "1    36633\n",
       "2     5537\n",
       "3     1639\n",
       "4      541\n",
       "5      280\n",
       "Name: ND_TIPO, dtype: int64"
      ]
     },
     "execution_count": 6,
     "metadata": {},
     "output_type": "execute_result"
    }
   ],
   "source": [
    "df_copy.ND_TIPO.value_counts()"
   ]
  },
  {
   "cell_type": "code",
   "execution_count": 7,
   "metadata": {},
   "outputs": [
    {
     "data": {
      "text/plain": [
       "1    31096\n",
       "2     7796\n",
       "3     3294\n",
       "5     1400\n",
       "4     1044\n",
       "Name: TD_TIPO, dtype: int64"
      ]
     },
     "execution_count": 7,
     "metadata": {},
     "output_type": "execute_result"
    }
   ],
   "source": [
    "df_copy.TD_TIPO.value_counts()"
   ]
  },
  {
   "cell_type": "code",
   "execution_count": 8,
   "metadata": {},
   "outputs": [
    {
     "data": {
      "text/plain": [
       "2     7475\n",
       "9     7386\n",
       "3     6618\n",
       "5     5818\n",
       "4     5799\n",
       "10    2742\n",
       "7     2087\n",
       "6     1832\n",
       "8     1799\n",
       "1     1106\n",
       "11     982\n",
       "13     707\n",
       "15     121\n",
       "14      82\n",
       "12      76\n",
       "Name: BPCOD, dtype: int64"
      ]
     },
     "execution_count": 8,
     "metadata": {},
     "output_type": "execute_result"
    }
   ],
   "source": [
    "df_copy.BPCOD.value_counts()"
   ]
  },
  {
   "cell_type": "code",
   "execution_count": 9,
   "metadata": {},
   "outputs": [
    {
     "data": {
      "text/plain": [
       "1     22309\n",
       "2     14211\n",
       "3      5250\n",
       "4      1911\n",
       "5       646\n",
       "6       188\n",
       "7        74\n",
       "8        23\n",
       "11        9\n",
       "10        6\n",
       "9         3\n",
       "Name: R_SEL, dtype: int64"
      ]
     },
     "execution_count": 9,
     "metadata": {},
     "output_type": "execute_result"
    }
   ],
   "source": [
    "df_copy.R_SEL.value_counts()"
   ]
  },
  {
   "cell_type": "code",
   "execution_count": 10,
   "metadata": {},
   "outputs": [
    {
     "data": {
      "text/plain": [
       "A\\r    44630\n",
       "Name: RESUL_H, dtype: int64"
      ]
     },
     "execution_count": 10,
     "metadata": {},
     "output_type": "execute_result"
    }
   ],
   "source": [
    "df_copy.RESUL_H.value_counts()"
   ]
  },
  {
   "cell_type": "code",
   "execution_count": 11,
   "metadata": {},
   "outputs": [],
   "source": [
    "df_copy.replace({'A\\r':'A'}, inplace=True)"
   ]
  },
  {
   "cell_type": "code",
   "execution_count": 12,
   "metadata": {},
   "outputs": [
    {
     "data": {
      "text/plain": [
       "A    44630\n",
       "Name: RESUL_H, dtype: int64"
      ]
     },
     "execution_count": 12,
     "metadata": {},
     "output_type": "execute_result"
    }
   ],
   "source": [
    "df_copy.RESUL_H.value_counts()"
   ]
  },
  {
   "cell_type": "code",
   "execution_count": 13,
   "metadata": {},
   "outputs": [
    {
     "data": {
      "text/plain": [
       "2    22423\n",
       "1    22207\n",
       "Name: SEXO, dtype: int64"
      ]
     },
     "execution_count": 13,
     "metadata": {},
     "output_type": "execute_result"
    }
   ],
   "source": [
    "df_copy.SEXO.value_counts()"
   ]
  },
  {
   "cell_type": "code",
   "execution_count": 14,
   "metadata": {},
   "outputs": [
    {
     "data": {
      "text/plain": [
       "32    1334\n",
       "30    1300\n",
       "40    1275\n",
       "23    1215\n",
       "36    1207\n",
       "22    1203\n",
       "34    1197\n",
       "38    1191\n",
       "27    1174\n",
       "24    1172\n",
       "28    1166\n",
       "26    1144\n",
       "21    1143\n",
       "37    1127\n",
       "25    1121\n",
       "35    1098\n",
       "42    1096\n",
       "39    1054\n",
       "33    1044\n",
       "43    1028\n",
       "31    1024\n",
       "29    1015\n",
       "20     996\n",
       "18     980\n",
       "19     921\n",
       "44     871\n",
       "50     848\n",
       "41     840\n",
       "45     823\n",
       "46     818\n",
       "      ... \n",
       "70     238\n",
       "67     219\n",
       "69     192\n",
       "72     172\n",
       "73     165\n",
       "74     143\n",
       "75     111\n",
       "76     109\n",
       "71     103\n",
       "77      94\n",
       "80      92\n",
       "78      90\n",
       "83      70\n",
       "81      68\n",
       "79      62\n",
       "82      45\n",
       "84      43\n",
       "85      39\n",
       "86      37\n",
       "87      19\n",
       "88      13\n",
       "90      12\n",
       "93       9\n",
       "97       9\n",
       "89       8\n",
       "92       7\n",
       "91       7\n",
       "94       4\n",
       "96       3\n",
       "95       2\n",
       "Name: EDAD, Length: 81, dtype: int64"
      ]
     },
     "execution_count": 14,
     "metadata": {},
     "output_type": "execute_result"
    }
   ],
   "source": [
    "df_copy.EDAD.value_counts()"
   ]
  },
  {
   "cell_type": "code",
   "execution_count": 15,
   "metadata": {},
   "outputs": [
    {
     "data": {
      "text/plain": [
       "\\r      17926\n",
       "01\\r     5904\n",
       "02\\r     1488\n",
       "03\\r     1248\n",
       "04\\r     1152\n",
       "29\\r     1129\n",
       "14\\r     1065\n",
       "36\\r     1009\n",
       "21\\r      954\n",
       "06\\r      840\n",
       "08\\r      816\n",
       "39\\r      766\n",
       "41\\r      716\n",
       "33\\r      696\n",
       "18\\r      686\n",
       "40\\r      669\n",
       "25\\r      666\n",
       "05\\r      605\n",
       "26\\r      595\n",
       "09\\r      551\n",
       "07\\r      525\n",
       "15\\r      493\n",
       "13\\r      493\n",
       "27\\r      408\n",
       "31\\r      403\n",
       "19\\r      398\n",
       "28\\r      393\n",
       "24\\r      379\n",
       "10\\r      352\n",
       "43\\r      344\n",
       "17\\r      295\n",
       "32\\r      281\n",
       "16\\r      269\n",
       "12\\r      116\n",
       "Name: AREAM_OCU, dtype: int64"
      ]
     },
     "execution_count": 15,
     "metadata": {},
     "output_type": "execute_result"
    }
   ],
   "source": [
    "df_copy.AREAM_OCU.value_counts()"
   ]
  },
  {
   "cell_type": "code",
   "execution_count": 16,
   "metadata": {},
   "outputs": [],
   "source": [
    "df_copy.replace({'01\\r':1,'02\\r':2,'03\\r':3,'04\\r':4,\n",
    "                '29\\r':29,'14\\r':14,'36\\r':36,'21\\r':21,'06\\r':6,\n",
    "                '08\\r':8,'39\\r':39,'41\\r':41,'33\\r':33,'18\\r':18,\n",
    "                '40\\r':40,'25\\r':25,'05\\r':5,'26\\r':26,'09\\r':9,\n",
    "                '07\\r':7,'13\\r':13,'15\\r':15,'27\\r':27,'31\\r':31,\n",
    "                '19\\r':19,'28\\r':28,'24\\r':24,'10\\r':10,'43\\r':43,\n",
    "                '17\\r':17,'32\\r':32,'16\\r':16,'12\\r':12,'\\r':99}, inplace=True)"
   ]
  },
  {
   "cell_type": "code",
   "execution_count": 17,
   "metadata": {},
   "outputs": [
    {
     "data": {
      "text/plain": [
       "99    17926\n",
       "1      5904\n",
       "2      1488\n",
       "3      1248\n",
       "4      1152\n",
       "29     1129\n",
       "14     1065\n",
       "36     1009\n",
       "21      954\n",
       "6       840\n",
       "8       816\n",
       "39      766\n",
       "41      716\n",
       "33      696\n",
       "18      686\n",
       "40      669\n",
       "25      666\n",
       "5       605\n",
       "26      595\n",
       "9       551\n",
       "7       525\n",
       "13      493\n",
       "15      493\n",
       "27      408\n",
       "31      403\n",
       "19      398\n",
       "28      393\n",
       "24      379\n",
       "10      352\n",
       "43      344\n",
       "17      295\n",
       "32      281\n",
       "16      269\n",
       "12      116\n",
       "Name: AREAM_OCU, dtype: int64"
      ]
     },
     "execution_count": 17,
     "metadata": {},
     "output_type": "execute_result"
    }
   ],
   "source": [
    "df_copy.AREAM_OCU.value_counts()"
   ]
  },
  {
   "cell_type": "code",
   "execution_count": 18,
   "metadata": {},
   "outputs": [],
   "source": [
    "df_copy.replace({'\\r':'99'}, inplace=True)"
   ]
  },
  {
   "cell_type": "code",
   "execution_count": 19,
   "metadata": {},
   "outputs": [
    {
     "data": {
      "text/plain": [
       "99    17926\n",
       "1      5904\n",
       "2      1488\n",
       "3      1248\n",
       "4      1152\n",
       "29     1129\n",
       "14     1065\n",
       "36     1009\n",
       "21      954\n",
       "6       840\n",
       "8       816\n",
       "39      766\n",
       "41      716\n",
       "33      696\n",
       "18      686\n",
       "40      669\n",
       "25      666\n",
       "5       605\n",
       "26      595\n",
       "9       551\n",
       "7       525\n",
       "13      493\n",
       "15      493\n",
       "27      408\n",
       "31      403\n",
       "19      398\n",
       "28      393\n",
       "24      379\n",
       "10      352\n",
       "43      344\n",
       "17      295\n",
       "32      281\n",
       "16      269\n",
       "12      116\n",
       "Name: AREAM_OCU, dtype: int64"
      ]
     },
     "execution_count": 19,
     "metadata": {},
     "output_type": "execute_result"
    }
   ],
   "source": [
    "df_copy.AREAM_OCU.value_counts()"
   ]
  },
  {
   "cell_type": "code",
   "execution_count": 20,
   "metadata": {},
   "outputs": [
    {
     "data": {
      "text/plain": [
       "12    5151\n",
       "11    4920\n",
       "6     4184\n",
       "10    3605\n",
       "3     3452\n",
       "5     3415\n",
       "2     3404\n",
       "8     3205\n",
       "9     3194\n",
       "7     3072\n",
       "1     2659\n",
       "4     2604\n",
       "99    1765\n",
       "Name: BP1_1, dtype: int64"
      ]
     },
     "execution_count": 20,
     "metadata": {},
     "output_type": "execute_result"
    }
   ],
   "source": [
    "df_copy.BP1_1.value_counts()"
   ]
  },
  {
   "cell_type": "code",
   "execution_count": 21,
   "metadata": {},
   "outputs": [
    {
     "data": {
      "text/plain": [
       "9     4116\n",
       "15    2454\n",
       "2     2128\n",
       "14    1963\n",
       "21    1884\n",
       "17    1748\n",
       "8     1692\n",
       "16    1520\n",
       "12    1482\n",
       "27    1350\n",
       "26    1345\n",
       "6     1341\n",
       "19    1340\n",
       "22    1311\n",
       "3     1306\n",
       "11    1295\n",
       "25    1276\n",
       "1     1225\n",
       "23    1216\n",
       "10    1175\n",
       "28    1156\n",
       "31    1122\n",
       "7     1094\n",
       "5     1073\n",
       "29    1023\n",
       "20    1001\n",
       "13     967\n",
       "30     959\n",
       "4      907\n",
       "24     741\n",
       "18     707\n",
       "32     680\n",
       "99      33\n",
       "Name: BP1_2C, dtype: int64"
      ]
     },
     "execution_count": 21,
     "metadata": {},
     "output_type": "execute_result"
    }
   ],
   "source": [
    "df_copy.BP1_2C.value_counts()"
   ]
  },
  {
   "cell_type": "code",
   "execution_count": 22,
   "metadata": {},
   "outputs": [
    {
     "data": {
      "text/plain": [
       "2      2403\n",
       "5      2368\n",
       "1      2220\n",
       "4      2218\n",
       "7      2204\n",
       "3      1685\n",
       "14     1301\n",
       "39     1286\n",
       "6      1156\n",
       "8      1114\n",
       "30     1084\n",
       "10     1027\n",
       "114    1018\n",
       "17     1017\n",
       "37      851\n",
       "12      850\n",
       "20      771\n",
       "19      762\n",
       "50      754\n",
       "11      668\n",
       "15      655\n",
       "35      650\n",
       "9       616\n",
       "28      583\n",
       "18      580\n",
       "53      576\n",
       "33      568\n",
       "101     567\n",
       "48      475\n",
       "32      431\n",
       "       ... \n",
       "137       2\n",
       "210       2\n",
       "234       2\n",
       "406       2\n",
       "181       2\n",
       "199       2\n",
       "248       2\n",
       "454       2\n",
       "491       2\n",
       "133       2\n",
       "265       2\n",
       "212       1\n",
       "364       1\n",
       "171       1\n",
       "459       1\n",
       "367       1\n",
       "211       1\n",
       "179       1\n",
       "558       1\n",
       "201       1\n",
       "253       1\n",
       "226       1\n",
       "375       1\n",
       "167       1\n",
       "366       1\n",
       "135       1\n",
       "173       1\n",
       "293       1\n",
       "409       1\n",
       "191       1\n",
       "Name: BP1_3C, Length: 248, dtype: int64"
      ]
     },
     "execution_count": 22,
     "metadata": {},
     "output_type": "execute_result"
    }
   ],
   "source": [
    "df_copy.BP1_3C.value_counts()"
   ]
  },
  {
   "cell_type": "code",
   "execution_count": 23,
   "metadata": {},
   "outputs": [
    {
     "data": {
      "text/plain": [
       "2    13875\n",
       "3    11394\n",
       "1     8859\n",
       "4     8430\n",
       "9     2072\n",
       "Name: BP1_4, dtype: int64"
      ]
     },
     "execution_count": 23,
     "metadata": {},
     "output_type": "execute_result"
    }
   ],
   "source": [
    "df_copy.BP1_4.value_counts()"
   ]
  },
  {
   "cell_type": "code",
   "execution_count": 24,
   "metadata": {},
   "outputs": [],
   "source": [
    "df_copy.BP1_4.replace({9:99}, inplace=True)"
   ]
  },
  {
   "cell_type": "code",
   "execution_count": 25,
   "metadata": {},
   "outputs": [
    {
     "data": {
      "text/plain": [
       "2     13875\n",
       "3     11394\n",
       "1      8859\n",
       "4      8430\n",
       "99     2072\n",
       "Name: BP1_4, dtype: int64"
      ]
     },
     "execution_count": 25,
     "metadata": {},
     "output_type": "execute_result"
    }
   ],
   "source": [
    "df_copy.BP1_4.value_counts()"
   ]
  },
  {
   "cell_type": "code",
   "execution_count": 26,
   "metadata": {},
   "outputs": [
    {
     "data": {
      "text/plain": [
       "2    20153\n",
       "1    14604\n",
       "4     2812\n",
       "3     2072\n",
       "6     1848\n",
       "5     1703\n",
       "8      935\n",
       "9      309\n",
       "7      194\n",
       "Name: BP1_5, dtype: int64"
      ]
     },
     "execution_count": 26,
     "metadata": {},
     "output_type": "execute_result"
    }
   ],
   "source": [
    "df_copy.BP1_5.value_counts()"
   ]
  },
  {
   "cell_type": "code",
   "execution_count": 27,
   "metadata": {},
   "outputs": [],
   "source": [
    "df_copy.BP1_5.replace({9:99}, inplace=True)"
   ]
  },
  {
   "cell_type": "code",
   "execution_count": 28,
   "metadata": {},
   "outputs": [
    {
     "data": {
      "text/plain": [
       "2     20153\n",
       "1     14604\n",
       "4      2812\n",
       "3      2072\n",
       "6      1848\n",
       "5      1703\n",
       "8       935\n",
       "99      309\n",
       "7       194\n",
       "Name: BP1_5, dtype: int64"
      ]
     },
     "execution_count": 28,
     "metadata": {},
     "output_type": "execute_result"
    }
   ],
   "source": [
    "df_copy.BP1_5.value_counts()"
   ]
  },
  {
   "cell_type": "code",
   "execution_count": 29,
   "metadata": {},
   "outputs": [
    {
     "data": {
      "text/plain": [
       "1\\r    20273\n",
       "2\\r    13853\n",
       "99     10504\n",
       "Name: BP1_6, dtype: int64"
      ]
     },
     "execution_count": 29,
     "metadata": {},
     "output_type": "execute_result"
    }
   ],
   "source": [
    "df_copy.BP1_6.value_counts()"
   ]
  },
  {
   "cell_type": "code",
   "execution_count": 30,
   "metadata": {},
   "outputs": [],
   "source": [
    "df_copy.BP1_6.replace({'1\\r':1,'2\\r':2}, inplace=True)"
   ]
  },
  {
   "cell_type": "code",
   "execution_count": 31,
   "metadata": {},
   "outputs": [
    {
     "data": {
      "text/plain": [
       "1     20273\n",
       "2     13853\n",
       "99    10504\n",
       "Name: BP1_6, dtype: int64"
      ]
     },
     "execution_count": 31,
     "metadata": {},
     "output_type": "execute_result"
    }
   ],
   "source": [
    "df_copy.BP1_6.value_counts()"
   ]
  },
  {
   "cell_type": "code",
   "execution_count": 32,
   "metadata": {},
   "outputs": [
    {
     "data": {
      "text/plain": [
       "99     24357\n",
       "1\\r    15775\n",
       "2\\r     4498\n",
       "Name: BP1_7, dtype: int64"
      ]
     },
     "execution_count": 32,
     "metadata": {},
     "output_type": "execute_result"
    }
   ],
   "source": [
    "df_copy.BP1_7.value_counts()"
   ]
  },
  {
   "cell_type": "code",
   "execution_count": 33,
   "metadata": {},
   "outputs": [],
   "source": [
    "df_copy.BP1_7.replace({'1\\r':1,'2\\r':2}, inplace=True)"
   ]
  },
  {
   "cell_type": "code",
   "execution_count": 34,
   "metadata": {},
   "outputs": [
    {
     "data": {
      "text/plain": [
       "99    24357\n",
       "1     15775\n",
       "2      4498\n",
       "Name: BP1_7, dtype: int64"
      ]
     },
     "execution_count": 34,
     "metadata": {},
     "output_type": "execute_result"
    }
   ],
   "source": [
    "df_copy.BP1_7.value_counts()"
   ]
  },
  {
   "cell_type": "code",
   "execution_count": 35,
   "metadata": {},
   "outputs": [
    {
     "data": {
      "text/plain": [
       "99     28855\n",
       "2\\r     8653\n",
       "1\\r     7116\n",
       "9\\r        6\n",
       "Name: BP1_8, dtype: int64"
      ]
     },
     "execution_count": 35,
     "metadata": {},
     "output_type": "execute_result"
    }
   ],
   "source": [
    "df_copy.BP1_8.value_counts()"
   ]
  },
  {
   "cell_type": "code",
   "execution_count": 36,
   "metadata": {},
   "outputs": [],
   "source": [
    "df_copy.BP1_8.replace({'1\\r':1,'2\\r':2,'9\\r':99}, inplace=True)"
   ]
  },
  {
   "cell_type": "code",
   "execution_count": 37,
   "metadata": {},
   "outputs": [
    {
     "data": {
      "text/plain": [
       "99    28861\n",
       "2      8653\n",
       "1      7116\n",
       "Name: BP1_8, dtype: int64"
      ]
     },
     "execution_count": 37,
     "metadata": {},
     "output_type": "execute_result"
    }
   ],
   "source": [
    "df_copy.BP1_8.value_counts()"
   ]
  },
  {
   "cell_type": "code",
   "execution_count": 38,
   "metadata": {},
   "outputs": [
    {
     "data": {
      "text/plain": [
       "99     28855\n",
       "1\\r     7894\n",
       "2\\r     4516\n",
       "3\\r     1607\n",
       "9\\r      572\n",
       "4\\r      555\n",
       "6\\r      406\n",
       "5\\r      225\n",
       "Name: BP1_9, dtype: int64"
      ]
     },
     "execution_count": 38,
     "metadata": {},
     "output_type": "execute_result"
    }
   ],
   "source": [
    "df_copy.BP1_9.value_counts()"
   ]
  },
  {
   "cell_type": "code",
   "execution_count": 39,
   "metadata": {},
   "outputs": [],
   "source": [
    "df_copy.BP1_9.replace({'1\\r':1,'2\\r':2,'3\\r':3,'4\\r':4,\n",
    "                '5\\r':5,'6\\r':6,'9\\r':99,'99':99}, inplace=True)"
   ]
  },
  {
   "cell_type": "code",
   "execution_count": 40,
   "metadata": {},
   "outputs": [
    {
     "data": {
      "text/plain": [
       "99    29427\n",
       "1      7894\n",
       "2      4516\n",
       "3      1607\n",
       "4       555\n",
       "6       406\n",
       "5       225\n",
       "Name: BP1_9, dtype: int64"
      ]
     },
     "execution_count": 40,
     "metadata": {},
     "output_type": "execute_result"
    }
   ],
   "source": [
    "df_copy.BP1_9.value_counts()"
   ]
  },
  {
   "cell_type": "code",
   "execution_count": 41,
   "metadata": {},
   "outputs": [
    {
     "data": {
      "text/plain": [
       "99     28855\n",
       "1\\r    14333\n",
       "0\\r     1442\n",
       "Name: BP1_10_1, dtype: int64"
      ]
     },
     "execution_count": 41,
     "metadata": {},
     "output_type": "execute_result"
    }
   ],
   "source": [
    "df_copy.BP1_10_1.value_counts()"
   ]
  },
  {
   "cell_type": "code",
   "execution_count": 42,
   "metadata": {},
   "outputs": [],
   "source": [
    "df_copy.BP1_10_1.replace({'1\\r':1,'0\\r':0,'99':99}, inplace=True)"
   ]
  },
  {
   "cell_type": "code",
   "execution_count": 43,
   "metadata": {},
   "outputs": [
    {
     "data": {
      "text/plain": [
       "99    28855\n",
       "1     14333\n",
       "0      1442\n",
       "Name: BP1_10_1, dtype: int64"
      ]
     },
     "execution_count": 43,
     "metadata": {},
     "output_type": "execute_result"
    }
   ],
   "source": [
    "df_copy.BP1_10_1.value_counts()"
   ]
  },
  {
   "cell_type": "code",
   "execution_count": 44,
   "metadata": {},
   "outputs": [
    {
     "data": {
      "text/plain": [
       "99     28855\n",
       "0\\r    13413\n",
       "1\\r     2362\n",
       "Name: BP1_10_2, dtype: int64"
      ]
     },
     "execution_count": 44,
     "metadata": {},
     "output_type": "execute_result"
    }
   ],
   "source": [
    "df_copy.BP1_10_2.value_counts()"
   ]
  },
  {
   "cell_type": "code",
   "execution_count": 45,
   "metadata": {},
   "outputs": [],
   "source": [
    "df_copy.BP1_10_2.replace({'1\\r':1,'0\\r':0,'99':99}, inplace=True)"
   ]
  },
  {
   "cell_type": "code",
   "execution_count": 46,
   "metadata": {},
   "outputs": [
    {
     "data": {
      "text/plain": [
       "99    28855\n",
       "0     13413\n",
       "1      2362\n",
       "Name: BP1_10_2, dtype: int64"
      ]
     },
     "execution_count": 46,
     "metadata": {},
     "output_type": "execute_result"
    }
   ],
   "source": [
    "df_copy.BP1_10_2.value_counts()"
   ]
  },
  {
   "cell_type": "code",
   "execution_count": 47,
   "metadata": {},
   "outputs": [
    {
     "data": {
      "text/plain": [
       "99     28855\n",
       "0\\r    15370\n",
       "1\\r      405\n",
       "Name: BP1_10_9, dtype: int64"
      ]
     },
     "execution_count": 47,
     "metadata": {},
     "output_type": "execute_result"
    }
   ],
   "source": [
    "df_copy.BP1_10_9.value_counts()"
   ]
  },
  {
   "cell_type": "code",
   "execution_count": 48,
   "metadata": {},
   "outputs": [],
   "source": [
    "df_copy.BP1_10_9.replace({'1\\r':1,'0\\r':0,'99':99}, inplace=True)"
   ]
  },
  {
   "cell_type": "code",
   "execution_count": 49,
   "metadata": {},
   "outputs": [
    {
     "data": {
      "text/plain": [
       "99    28855\n",
       "0     15370\n",
       "1       405\n",
       "Name: BP1_10_9, dtype: int64"
      ]
     },
     "execution_count": 49,
     "metadata": {},
     "output_type": "execute_result"
    }
   ],
   "source": [
    "df_copy.BP1_10_9.value_counts()"
   ]
  },
  {
   "cell_type": "code",
   "execution_count": 50,
   "metadata": {},
   "outputs": [
    {
     "data": {
      "text/plain": [
       "99     28855\n",
       "4\\r     4759\n",
       "3\\r     3610\n",
       "5\\r     2842\n",
       "9\\r     2129\n",
       "8\\r      998\n",
       "6\\r      945\n",
       "2\\r      378\n",
       "7\\r       97\n",
       "1\\r       17\n",
       "Name: BP1_11, dtype: int64"
      ]
     },
     "execution_count": 50,
     "metadata": {},
     "output_type": "execute_result"
    }
   ],
   "source": [
    "df_copy.BP1_11.value_counts()"
   ]
  },
  {
   "cell_type": "code",
   "execution_count": 51,
   "metadata": {},
   "outputs": [],
   "source": [
    "df_copy.BP1_11.replace({'4\\r':4,'3\\r':3,'5\\r':5,'9\\r':9,\n",
    "                '8\\r':8,'6\\r':6,'2\\r':2,'7\\r':7,'1\\r':1,'9\\r':99,'99':99}, inplace=True)"
   ]
  },
  {
   "cell_type": "code",
   "execution_count": 52,
   "metadata": {},
   "outputs": [
    {
     "data": {
      "text/plain": [
       "99    30984\n",
       "4      4759\n",
       "3      3610\n",
       "5      2842\n",
       "8       998\n",
       "6       945\n",
       "2       378\n",
       "7        97\n",
       "1        17\n",
       "Name: BP1_11, dtype: int64"
      ]
     },
     "execution_count": 52,
     "metadata": {},
     "output_type": "execute_result"
    }
   ],
   "source": [
    "df_copy.BP1_11.value_counts()"
   ]
  },
  {
   "cell_type": "code",
   "execution_count": 53,
   "metadata": {},
   "outputs": [
    {
     "data": {
      "text/plain": [
       "99     28855\n",
       "1\\r    11884\n",
       "0\\r     3891\n",
       "Name: BP1_12_1, dtype: int64"
      ]
     },
     "execution_count": 53,
     "metadata": {},
     "output_type": "execute_result"
    }
   ],
   "source": [
    "df_copy.BP1_12_1.value_counts()"
   ]
  },
  {
   "cell_type": "code",
   "execution_count": 54,
   "metadata": {},
   "outputs": [],
   "source": [
    "df_copy.BP1_12_1.replace({'1\\r':1,'0\\r':0,'99':99}, inplace=True)"
   ]
  },
  {
   "cell_type": "code",
   "execution_count": 55,
   "metadata": {},
   "outputs": [
    {
     "data": {
      "text/plain": [
       "99    28855\n",
       "1     11884\n",
       "0      3891\n",
       "Name: BP1_12_1, dtype: int64"
      ]
     },
     "execution_count": 55,
     "metadata": {},
     "output_type": "execute_result"
    }
   ],
   "source": [
    "df_copy.BP1_12_1.value_counts()"
   ]
  },
  {
   "cell_type": "code",
   "execution_count": 56,
   "metadata": {},
   "outputs": [
    {
     "data": {
      "text/plain": [
       "99     28855\n",
       "0\\r    14269\n",
       "1\\r     1506\n",
       "Name: BP1_12_2, dtype: int64"
      ]
     },
     "execution_count": 56,
     "metadata": {},
     "output_type": "execute_result"
    }
   ],
   "source": [
    "df_copy.BP1_12_2.value_counts()"
   ]
  },
  {
   "cell_type": "code",
   "execution_count": 57,
   "metadata": {},
   "outputs": [],
   "source": [
    "df_copy.BP1_12_2.replace({'1\\r':1,'0\\r':0,'99':99}, inplace=True)"
   ]
  },
  {
   "cell_type": "code",
   "execution_count": 58,
   "metadata": {},
   "outputs": [
    {
     "data": {
      "text/plain": [
       "99    28855\n",
       "0     14269\n",
       "1      1506\n",
       "Name: BP1_12_2, dtype: int64"
      ]
     },
     "execution_count": 58,
     "metadata": {},
     "output_type": "execute_result"
    }
   ],
   "source": [
    "df_copy.BP1_12_2.value_counts()"
   ]
  },
  {
   "cell_type": "code",
   "execution_count": 59,
   "metadata": {},
   "outputs": [
    {
     "data": {
      "text/plain": [
       "99     28855\n",
       "0\\r    14829\n",
       "1\\r      946\n",
       "Name: BP1_12_3, dtype: int64"
      ]
     },
     "execution_count": 59,
     "metadata": {},
     "output_type": "execute_result"
    }
   ],
   "source": [
    "df_copy.BP1_12_3.value_counts()"
   ]
  },
  {
   "cell_type": "code",
   "execution_count": 60,
   "metadata": {},
   "outputs": [],
   "source": [
    "df_copy.BP1_12_3.replace({'1\\r':1,'0\\r':0,'99':99}, inplace=True)"
   ]
  },
  {
   "cell_type": "code",
   "execution_count": 61,
   "metadata": {},
   "outputs": [
    {
     "data": {
      "text/plain": [
       "99    28855\n",
       "0     14829\n",
       "1       946\n",
       "Name: BP1_12_3, dtype: int64"
      ]
     },
     "execution_count": 61,
     "metadata": {},
     "output_type": "execute_result"
    }
   ],
   "source": [
    "df_copy.BP1_12_3.value_counts()"
   ]
  },
  {
   "cell_type": "code",
   "execution_count": 62,
   "metadata": {},
   "outputs": [
    {
     "data": {
      "text/plain": [
       "99     28855\n",
       "0\\r    15043\n",
       "1\\r      732\n",
       "Name: BP1_12_4, dtype: int64"
      ]
     },
     "execution_count": 62,
     "metadata": {},
     "output_type": "execute_result"
    }
   ],
   "source": [
    "df_copy.BP1_12_4.value_counts()"
   ]
  },
  {
   "cell_type": "code",
   "execution_count": 63,
   "metadata": {},
   "outputs": [],
   "source": [
    "df_copy.BP1_12_4.replace({'1\\r':1,'0\\r':0,'99':99}, inplace=True)"
   ]
  },
  {
   "cell_type": "code",
   "execution_count": 64,
   "metadata": {},
   "outputs": [
    {
     "data": {
      "text/plain": [
       "99    28855\n",
       "0     15043\n",
       "1       732\n",
       "Name: BP1_12_4, dtype: int64"
      ]
     },
     "execution_count": 64,
     "metadata": {},
     "output_type": "execute_result"
    }
   ],
   "source": [
    "df_copy.BP1_12_4.value_counts()"
   ]
  },
  {
   "cell_type": "code",
   "execution_count": 65,
   "metadata": {},
   "outputs": [
    {
     "data": {
      "text/plain": [
       "99     28855\n",
       "0\\r    15363\n",
       "1\\r      412\n",
       "Name: BP1_12_5, dtype: int64"
      ]
     },
     "execution_count": 65,
     "metadata": {},
     "output_type": "execute_result"
    }
   ],
   "source": [
    "df_copy.BP1_12_5.value_counts()"
   ]
  },
  {
   "cell_type": "code",
   "execution_count": 66,
   "metadata": {},
   "outputs": [],
   "source": [
    "df_copy.BP1_12_5.replace({'1\\r':1,'0\\r':0,'99':99}, inplace=True)"
   ]
  },
  {
   "cell_type": "code",
   "execution_count": 67,
   "metadata": {},
   "outputs": [
    {
     "data": {
      "text/plain": [
       "99    28855\n",
       "0     15363\n",
       "1       412\n",
       "Name: BP1_12_5, dtype: int64"
      ]
     },
     "execution_count": 67,
     "metadata": {},
     "output_type": "execute_result"
    }
   ],
   "source": [
    "df_copy.BP1_12_5.value_counts()"
   ]
  },
  {
   "cell_type": "code",
   "execution_count": 68,
   "metadata": {},
   "outputs": [
    {
     "data": {
      "text/plain": [
       "99     28855\n",
       "0\\r    15395\n",
       "1\\r      380\n",
       "Name: BP1_12_9, dtype: int64"
      ]
     },
     "execution_count": 68,
     "metadata": {},
     "output_type": "execute_result"
    }
   ],
   "source": [
    "df_copy.BP1_12_9.value_counts()"
   ]
  },
  {
   "cell_type": "code",
   "execution_count": 69,
   "metadata": {},
   "outputs": [],
   "source": [
    "df_copy.BP1_12_9.replace({'1\\r':1,'0\\r':0,'99':99}, inplace=True)"
   ]
  },
  {
   "cell_type": "code",
   "execution_count": 70,
   "metadata": {},
   "outputs": [
    {
     "data": {
      "text/plain": [
       "99    28855\n",
       "0     15395\n",
       "1       380\n",
       "Name: BP1_12_9, dtype: int64"
      ]
     },
     "execution_count": 70,
     "metadata": {},
     "output_type": "execute_result"
    }
   ],
   "source": [
    "df_copy.BP1_12_9.value_counts()"
   ]
  },
  {
   "cell_type": "code",
   "execution_count": 71,
   "metadata": {},
   "outputs": [
    {
     "data": {
      "text/plain": [
       "99     32746\n",
       "2\\r     9282\n",
       "1\\r     2601\n",
       "9\\r        1\n",
       "Name: BP1_13, dtype: int64"
      ]
     },
     "execution_count": 71,
     "metadata": {},
     "output_type": "execute_result"
    }
   ],
   "source": [
    "df_copy.BP1_13.value_counts()"
   ]
  },
  {
   "cell_type": "code",
   "execution_count": 72,
   "metadata": {},
   "outputs": [],
   "source": [
    "df_copy.BP1_13.replace({'1\\r':1,'2\\r':0,'99':99,'9\\r':99}, inplace=True)"
   ]
  },
  {
   "cell_type": "code",
   "execution_count": 73,
   "metadata": {},
   "outputs": [
    {
     "data": {
      "text/plain": [
       "99    32747\n",
       "0      9282\n",
       "1      2601\n",
       "Name: BP1_13, dtype: int64"
      ]
     },
     "execution_count": 73,
     "metadata": {},
     "output_type": "execute_result"
    }
   ],
   "source": [
    "df_copy.BP1_13.value_counts()"
   ]
  },
  {
   "cell_type": "code",
   "execution_count": 74,
   "metadata": {},
   "outputs": [
    {
     "data": {
      "text/plain": [
       "99     28855\n",
       "0\\r    13095\n",
       "1\\r     2680\n",
       "Name: BP1_14_1, dtype: int64"
      ]
     },
     "execution_count": 74,
     "metadata": {},
     "output_type": "execute_result"
    }
   ],
   "source": [
    "df_copy.BP1_14_1.value_counts()"
   ]
  },
  {
   "cell_type": "code",
   "execution_count": 75,
   "metadata": {},
   "outputs": [],
   "source": [
    "df_copy.BP1_14_1.replace({'1\\r':1,'0\\r':0,'99':99}, inplace=True)"
   ]
  },
  {
   "cell_type": "code",
   "execution_count": 76,
   "metadata": {},
   "outputs": [
    {
     "data": {
      "text/plain": [
       "99    28855\n",
       "0     13095\n",
       "1      2680\n",
       "Name: BP1_14_1, dtype: int64"
      ]
     },
     "execution_count": 76,
     "metadata": {},
     "output_type": "execute_result"
    }
   ],
   "source": [
    "df_copy.BP1_14_1.value_counts()"
   ]
  },
  {
   "cell_type": "code",
   "execution_count": 77,
   "metadata": {},
   "outputs": [
    {
     "data": {
      "text/plain": [
       "99     28855\n",
       "0\\r    13885\n",
       "1\\r     1890\n",
       "Name: BP1_14_2, dtype: int64"
      ]
     },
     "execution_count": 77,
     "metadata": {},
     "output_type": "execute_result"
    }
   ],
   "source": [
    "df_copy.BP1_14_2.value_counts()"
   ]
  },
  {
   "cell_type": "code",
   "execution_count": 78,
   "metadata": {},
   "outputs": [],
   "source": [
    "df_copy.BP1_14_2.replace({'1\\r':1,'0\\r':0,'99':99}, inplace=True)"
   ]
  },
  {
   "cell_type": "code",
   "execution_count": 79,
   "metadata": {},
   "outputs": [
    {
     "data": {
      "text/plain": [
       "99    28855\n",
       "0     13885\n",
       "1      1890\n",
       "Name: BP1_14_2, dtype: int64"
      ]
     },
     "execution_count": 79,
     "metadata": {},
     "output_type": "execute_result"
    }
   ],
   "source": [
    "df_copy.BP1_14_2.value_counts()"
   ]
  },
  {
   "cell_type": "code",
   "execution_count": 80,
   "metadata": {},
   "outputs": [
    {
     "data": {
      "text/plain": [
       "99     28855\n",
       "0\\r    15729\n",
       "1\\r       46\n",
       "Name: BP1_14_3, dtype: int64"
      ]
     },
     "execution_count": 80,
     "metadata": {},
     "output_type": "execute_result"
    }
   ],
   "source": [
    "df_copy.BP1_14_3.value_counts()"
   ]
  },
  {
   "cell_type": "code",
   "execution_count": 81,
   "metadata": {},
   "outputs": [],
   "source": [
    "df_copy.BP1_14_3.replace({'1\\r':1,'0\\r':0,'99':99}, inplace=True)"
   ]
  },
  {
   "cell_type": "code",
   "execution_count": 82,
   "metadata": {},
   "outputs": [
    {
     "data": {
      "text/plain": [
       "99    28855\n",
       "0     15729\n",
       "1        46\n",
       "Name: BP1_14_3, dtype: int64"
      ]
     },
     "execution_count": 82,
     "metadata": {},
     "output_type": "execute_result"
    }
   ],
   "source": [
    "df_copy.BP1_14_3.value_counts()"
   ]
  },
  {
   "cell_type": "code",
   "execution_count": 83,
   "metadata": {},
   "outputs": [
    {
     "data": {
      "text/plain": [
       "99     28855\n",
       "0\\r     8840\n",
       "1\\r     6935\n",
       "Name: BP1_14_4, dtype: int64"
      ]
     },
     "execution_count": 83,
     "metadata": {},
     "output_type": "execute_result"
    }
   ],
   "source": [
    "df_copy.BP1_14_4.value_counts()"
   ]
  },
  {
   "cell_type": "code",
   "execution_count": 84,
   "metadata": {},
   "outputs": [],
   "source": [
    "df_copy.BP1_14_4.replace({'1\\r':1,'0\\r':0,'99':99}, inplace=True)"
   ]
  },
  {
   "cell_type": "code",
   "execution_count": 85,
   "metadata": {},
   "outputs": [
    {
     "data": {
      "text/plain": [
       "99    28855\n",
       "0      8840\n",
       "1      6935\n",
       "Name: BP1_14_4, dtype: int64"
      ]
     },
     "execution_count": 85,
     "metadata": {},
     "output_type": "execute_result"
    }
   ],
   "source": [
    "df_copy.BP1_14_4.value_counts()"
   ]
  },
  {
   "cell_type": "code",
   "execution_count": 86,
   "metadata": {},
   "outputs": [
    {
     "data": {
      "text/plain": [
       "99     28855\n",
       "0\\r    10905\n",
       "1\\r     4870\n",
       "Name: BP1_14_9, dtype: int64"
      ]
     },
     "execution_count": 86,
     "metadata": {},
     "output_type": "execute_result"
    }
   ],
   "source": [
    "df_copy.BP1_14_9.value_counts()"
   ]
  },
  {
   "cell_type": "code",
   "execution_count": 87,
   "metadata": {},
   "outputs": [],
   "source": [
    "df_copy.BP1_14_9.replace({'1\\r':1,'0\\r':0,'99':99}, inplace=True)"
   ]
  },
  {
   "cell_type": "code",
   "execution_count": 88,
   "metadata": {},
   "outputs": [
    {
     "data": {
      "text/plain": [
       "99     28855\n",
       "2\\r     7023\n",
       "1\\r     5560\n",
       "9\\r     3192\n",
       "Name: BP1_15, dtype: int64"
      ]
     },
     "execution_count": 88,
     "metadata": {},
     "output_type": "execute_result"
    }
   ],
   "source": [
    "df_copy.BP1_15.value_counts()"
   ]
  },
  {
   "cell_type": "code",
   "execution_count": 89,
   "metadata": {},
   "outputs": [],
   "source": [
    "df_copy.BP1_15.replace({'1\\r':1,'2\\r':2,'99':99,'9\\r':99}, inplace=True)"
   ]
  },
  {
   "cell_type": "code",
   "execution_count": 90,
   "metadata": {},
   "outputs": [
    {
     "data": {
      "text/plain": [
       "99    32047\n",
       "2      7023\n",
       "1      5560\n",
       "Name: BP1_15, dtype: int64"
      ]
     },
     "execution_count": 90,
     "metadata": {},
     "output_type": "execute_result"
    }
   ],
   "source": [
    "df_copy.BP1_15.value_counts()"
   ]
  },
  {
   "cell_type": "code",
   "execution_count": 91,
   "metadata": {},
   "outputs": [
    {
     "data": {
      "text/plain": [
       "99     39070\n",
       "1\\r     3220\n",
       "0\\r     2340\n",
       "Name: BP1_16_1, dtype: int64"
      ]
     },
     "execution_count": 91,
     "metadata": {},
     "output_type": "execute_result"
    }
   ],
   "source": [
    "df_copy.BP1_16_1.value_counts()"
   ]
  },
  {
   "cell_type": "code",
   "execution_count": 92,
   "metadata": {},
   "outputs": [],
   "source": [
    "df_copy.BP1_16_1.replace({'1\\r':1,'0\\r':0,'99':99}, inplace=True)"
   ]
  },
  {
   "cell_type": "code",
   "execution_count": 93,
   "metadata": {},
   "outputs": [
    {
     "data": {
      "text/plain": [
       "99    39070\n",
       "1      3220\n",
       "0      2340\n",
       "Name: BP1_16_1, dtype: int64"
      ]
     },
     "execution_count": 93,
     "metadata": {},
     "output_type": "execute_result"
    }
   ],
   "source": [
    "df_copy.BP1_16_1.value_counts()"
   ]
  },
  {
   "cell_type": "code",
   "execution_count": 94,
   "metadata": {},
   "outputs": [
    {
     "data": {
      "text/plain": [
       "99     39070\n",
       "0\\r     3046\n",
       "1\\r     2514\n",
       "Name: BP1_16_2, dtype: int64"
      ]
     },
     "execution_count": 94,
     "metadata": {},
     "output_type": "execute_result"
    }
   ],
   "source": [
    "df_copy.BP1_16_2.value_counts()"
   ]
  },
  {
   "cell_type": "code",
   "execution_count": 95,
   "metadata": {},
   "outputs": [],
   "source": [
    "df_copy.BP1_16_2.replace({'1\\r':1,'0\\r':0,'99':99}, inplace=True)"
   ]
  },
  {
   "cell_type": "code",
   "execution_count": 96,
   "metadata": {},
   "outputs": [
    {
     "data": {
      "text/plain": [
       "99    39070\n",
       "0      3046\n",
       "1      2514\n",
       "Name: BP1_16_2, dtype: int64"
      ]
     },
     "execution_count": 96,
     "metadata": {},
     "output_type": "execute_result"
    }
   ],
   "source": [
    "df_copy.BP1_16_2.value_counts()"
   ]
  },
  {
   "cell_type": "code",
   "execution_count": 97,
   "metadata": {},
   "outputs": [
    {
     "data": {
      "text/plain": [
       "99     39070\n",
       "0\\r     5302\n",
       "1\\r      258\n",
       "Name: BP1_16_3, dtype: int64"
      ]
     },
     "execution_count": 97,
     "metadata": {},
     "output_type": "execute_result"
    }
   ],
   "source": [
    "df_copy.BP1_16_3.value_counts()"
   ]
  },
  {
   "cell_type": "code",
   "execution_count": 98,
   "metadata": {},
   "outputs": [],
   "source": [
    "df_copy.BP1_16_3.replace({'1\\r':1,'0\\r':0,'99':99}, inplace=True)"
   ]
  },
  {
   "cell_type": "code",
   "execution_count": 99,
   "metadata": {},
   "outputs": [
    {
     "data": {
      "text/plain": [
       "99    39070\n",
       "0      5302\n",
       "1       258\n",
       "Name: BP1_16_3, dtype: int64"
      ]
     },
     "execution_count": 99,
     "metadata": {},
     "output_type": "execute_result"
    }
   ],
   "source": [
    "df_copy.BP1_16_3.value_counts()"
   ]
  },
  {
   "cell_type": "code",
   "execution_count": 100,
   "metadata": {},
   "outputs": [
    {
     "data": {
      "text/plain": [
       "99     39070\n",
       "0\\r     5517\n",
       "1\\r       43\n",
       "Name: BP1_16_4, dtype: int64"
      ]
     },
     "execution_count": 100,
     "metadata": {},
     "output_type": "execute_result"
    }
   ],
   "source": [
    "df_copy.BP1_16_4.value_counts()"
   ]
  },
  {
   "cell_type": "code",
   "execution_count": 101,
   "metadata": {},
   "outputs": [],
   "source": [
    "df_copy.BP1_16_4.replace({'1\\r':1,'0\\r':0,'99':99}, inplace=True)"
   ]
  },
  {
   "cell_type": "code",
   "execution_count": 102,
   "metadata": {},
   "outputs": [
    {
     "data": {
      "text/plain": [
       "99    39070\n",
       "0      5517\n",
       "1        43\n",
       "Name: BP1_16_4, dtype: int64"
      ]
     },
     "execution_count": 102,
     "metadata": {},
     "output_type": "execute_result"
    }
   ],
   "source": [
    "df_copy.BP1_16_4.value_counts()"
   ]
  },
  {
   "cell_type": "code",
   "execution_count": 103,
   "metadata": {},
   "outputs": [
    {
     "data": {
      "text/plain": [
       "99     39070\n",
       "0\\r     5527\n",
       "1\\r       33\n",
       "Name: BP1_16_9, dtype: int64"
      ]
     },
     "execution_count": 103,
     "metadata": {},
     "output_type": "execute_result"
    }
   ],
   "source": [
    "df_copy.BP1_16_9.value_counts()"
   ]
  },
  {
   "cell_type": "code",
   "execution_count": 104,
   "metadata": {},
   "outputs": [],
   "source": [
    "df_copy.BP1_16_9.replace({'1\\r':1,'0\\r':0,'99':99}, inplace=True)"
   ]
  },
  {
   "cell_type": "code",
   "execution_count": 105,
   "metadata": {},
   "outputs": [
    {
     "data": {
      "text/plain": [
       "99    39070\n",
       "0      5527\n",
       "1        33\n",
       "Name: BP1_16_9, dtype: int64"
      ]
     },
     "execution_count": 105,
     "metadata": {},
     "output_type": "execute_result"
    }
   ],
   "source": [
    "df_copy.BP1_16_9.value_counts()"
   ]
  },
  {
   "cell_type": "code",
   "execution_count": 106,
   "metadata": {},
   "outputs": [
    {
     "data": {
      "text/plain": [
       "99     39070\n",
       "2\\r     5120\n",
       "1\\r      438\n",
       "9\\r        2\n",
       "Name: BP1_17, dtype: int64"
      ]
     },
     "execution_count": 106,
     "metadata": {},
     "output_type": "execute_result"
    }
   ],
   "source": [
    "df_copy.BP1_17.value_counts()"
   ]
  },
  {
   "cell_type": "code",
   "execution_count": 107,
   "metadata": {},
   "outputs": [],
   "source": [
    "df_copy.BP1_17.replace({'1\\r':1,'2\\r':2,'99':99,'9\\r':99}, inplace=True)"
   ]
  },
  {
   "cell_type": "code",
   "execution_count": 108,
   "metadata": {},
   "outputs": [
    {
     "data": {
      "text/plain": [
       "99    39072\n",
       "2      5120\n",
       "1       438\n",
       "Name: BP1_17, dtype: int64"
      ]
     },
     "execution_count": 108,
     "metadata": {},
     "output_type": "execute_result"
    }
   ],
   "source": [
    "df_copy.BP1_17.value_counts()"
   ]
  },
  {
   "cell_type": "code",
   "execution_count": 109,
   "metadata": {},
   "outputs": [
    {
     "data": {
      "text/plain": [
       "99     29293\n",
       "2\\r    12838\n",
       "1\\r     2245\n",
       "9\\r      254\n",
       "Name: BP1_18, dtype: int64"
      ]
     },
     "execution_count": 109,
     "metadata": {},
     "output_type": "execute_result"
    }
   ],
   "source": [
    "df_copy.BP1_18.value_counts()"
   ]
  },
  {
   "cell_type": "code",
   "execution_count": 110,
   "metadata": {},
   "outputs": [],
   "source": [
    "df_copy.BP1_18.replace({'1\\r':1,'2\\r':2,'99':99,'9\\r':99}, inplace=True)"
   ]
  },
  {
   "cell_type": "code",
   "execution_count": 111,
   "metadata": {},
   "outputs": [
    {
     "data": {
      "text/plain": [
       "99    29547\n",
       "2     12838\n",
       "1      2245\n",
       "Name: BP1_18, dtype: int64"
      ]
     },
     "execution_count": 111,
     "metadata": {},
     "output_type": "execute_result"
    }
   ],
   "source": [
    "df_copy.BP1_18.value_counts()"
   ]
  },
  {
   "cell_type": "code",
   "execution_count": 112,
   "metadata": {},
   "outputs": [
    {
     "data": {
      "text/plain": [
       "99     41947\n",
       "1\\r     1914\n",
       "0\\r      769\n",
       "Name: BP1_19_1, dtype: int64"
      ]
     },
     "execution_count": 112,
     "metadata": {},
     "output_type": "execute_result"
    }
   ],
   "source": [
    "df_copy.BP1_19_1.value_counts()"
   ]
  },
  {
   "cell_type": "code",
   "execution_count": 113,
   "metadata": {},
   "outputs": [],
   "source": [
    "df_copy.BP1_19_1.replace({'1\\r':1,'0\\r':0,'99':99}, inplace=True)"
   ]
  },
  {
   "cell_type": "code",
   "execution_count": 114,
   "metadata": {},
   "outputs": [
    {
     "data": {
      "text/plain": [
       "99    41947\n",
       "1      1914\n",
       "0       769\n",
       "Name: BP1_19_1, dtype: int64"
      ]
     },
     "execution_count": 114,
     "metadata": {},
     "output_type": "execute_result"
    }
   ],
   "source": [
    "df_copy.BP1_19_1.value_counts()"
   ]
  },
  {
   "cell_type": "code",
   "execution_count": 115,
   "metadata": {},
   "outputs": [
    {
     "data": {
      "text/plain": [
       "99     41947\n",
       "0\\r     2215\n",
       "1\\r      468\n",
       "Name: BP1_19_2, dtype: int64"
      ]
     },
     "execution_count": 115,
     "metadata": {},
     "output_type": "execute_result"
    }
   ],
   "source": [
    "df_copy.BP1_19_2.value_counts()"
   ]
  },
  {
   "cell_type": "code",
   "execution_count": 116,
   "metadata": {},
   "outputs": [],
   "source": [
    "df_copy.BP1_19_2.replace({'1\\r':1,'0\\r':0,'99':99}, inplace=True)"
   ]
  },
  {
   "cell_type": "code",
   "execution_count": 117,
   "metadata": {},
   "outputs": [
    {
     "data": {
      "text/plain": [
       "99    41947\n",
       "0      2215\n",
       "1       468\n",
       "Name: BP1_19_2, dtype: int64"
      ]
     },
     "execution_count": 117,
     "metadata": {},
     "output_type": "execute_result"
    }
   ],
   "source": [
    "df_copy.BP1_19_2.value_counts()"
   ]
  },
  {
   "cell_type": "code",
   "execution_count": 118,
   "metadata": {},
   "outputs": [
    {
     "data": {
      "text/plain": [
       "99     41947\n",
       "0\\r     2591\n",
       "1\\r       92\n",
       "Name: BP1_19_3, dtype: int64"
      ]
     },
     "execution_count": 118,
     "metadata": {},
     "output_type": "execute_result"
    }
   ],
   "source": [
    "df_copy.BP1_19_3.value_counts()"
   ]
  },
  {
   "cell_type": "code",
   "execution_count": 119,
   "metadata": {},
   "outputs": [],
   "source": [
    "df_copy.BP1_19_3.replace({'1\\r':1,'0\\r':0,'99':99}, inplace=True)"
   ]
  },
  {
   "cell_type": "code",
   "execution_count": 120,
   "metadata": {},
   "outputs": [
    {
     "data": {
      "text/plain": [
       "99    41947\n",
       "0      2591\n",
       "1        92\n",
       "Name: BP1_19_3, dtype: int64"
      ]
     },
     "execution_count": 120,
     "metadata": {},
     "output_type": "execute_result"
    }
   ],
   "source": [
    "df_copy.BP1_19_3.value_counts()"
   ]
  },
  {
   "cell_type": "code",
   "execution_count": 121,
   "metadata": {},
   "outputs": [
    {
     "data": {
      "text/plain": [
       "99     41947\n",
       "0\\r     2536\n",
       "1\\r      147\n",
       "Name: BP1_19_4, dtype: int64"
      ]
     },
     "execution_count": 121,
     "metadata": {},
     "output_type": "execute_result"
    }
   ],
   "source": [
    "df_copy.BP1_19_4.value_counts()"
   ]
  },
  {
   "cell_type": "code",
   "execution_count": 122,
   "metadata": {},
   "outputs": [],
   "source": [
    "df_copy.BP1_19_4.replace({'1\\r':1,'0\\r':0,'99':99}, inplace=True)"
   ]
  },
  {
   "cell_type": "code",
   "execution_count": 123,
   "metadata": {},
   "outputs": [
    {
     "data": {
      "text/plain": [
       "99    41947\n",
       "0      2536\n",
       "1       147\n",
       "Name: BP1_19_4, dtype: int64"
      ]
     },
     "execution_count": 123,
     "metadata": {},
     "output_type": "execute_result"
    }
   ],
   "source": [
    "df_copy.BP1_19_4.value_counts()"
   ]
  },
  {
   "cell_type": "code",
   "execution_count": 124,
   "metadata": {},
   "outputs": [
    {
     "data": {
      "text/plain": [
       "99     41947\n",
       "0\\r     2675\n",
       "1\\r        8\n",
       "Name: BP1_19_5, dtype: int64"
      ]
     },
     "execution_count": 124,
     "metadata": {},
     "output_type": "execute_result"
    }
   ],
   "source": [
    "df_copy.BP1_19_5.value_counts()"
   ]
  },
  {
   "cell_type": "code",
   "execution_count": 125,
   "metadata": {},
   "outputs": [],
   "source": [
    "df_copy.BP1_19_5.replace({'1\\r':1,'0\\r':0,'99':99}, inplace=True)"
   ]
  },
  {
   "cell_type": "code",
   "execution_count": 126,
   "metadata": {},
   "outputs": [
    {
     "data": {
      "text/plain": [
       "99    41947\n",
       "0      2675\n",
       "1         8\n",
       "Name: BP1_19_5, dtype: int64"
      ]
     },
     "execution_count": 126,
     "metadata": {},
     "output_type": "execute_result"
    }
   ],
   "source": [
    "df_copy.BP1_19_5.value_counts()"
   ]
  },
  {
   "cell_type": "code",
   "execution_count": 127,
   "metadata": {},
   "outputs": [
    {
     "data": {
      "text/plain": [
       "99     41947\n",
       "0\\r     2598\n",
       "1\\r       85\n",
       "Name: BP1_19_6, dtype: int64"
      ]
     },
     "execution_count": 127,
     "metadata": {},
     "output_type": "execute_result"
    }
   ],
   "source": [
    "df_copy.BP1_19_6.value_counts()"
   ]
  },
  {
   "cell_type": "code",
   "execution_count": 128,
   "metadata": {},
   "outputs": [],
   "source": [
    "df_copy.BP1_19_6.replace({'1\\r':1,'0\\r':0,'99':99}, inplace=True)"
   ]
  },
  {
   "cell_type": "code",
   "execution_count": 129,
   "metadata": {},
   "outputs": [
    {
     "data": {
      "text/plain": [
       "99    41947\n",
       "0      2598\n",
       "1        85\n",
       "Name: BP1_19_6, dtype: int64"
      ]
     },
     "execution_count": 129,
     "metadata": {},
     "output_type": "execute_result"
    }
   ],
   "source": [
    "df_copy.BP1_19_6.value_counts()"
   ]
  },
  {
   "cell_type": "code",
   "execution_count": 130,
   "metadata": {},
   "outputs": [
    {
     "data": {
      "text/plain": [
       "99     41947\n",
       "0\\r     2650\n",
       "1\\r       33\n",
       "Name: BP1_19_7, dtype: int64"
      ]
     },
     "execution_count": 130,
     "metadata": {},
     "output_type": "execute_result"
    }
   ],
   "source": [
    "df_copy.BP1_19_7.value_counts()"
   ]
  },
  {
   "cell_type": "code",
   "execution_count": 131,
   "metadata": {},
   "outputs": [],
   "source": [
    "df_copy.BP1_19_7.replace({'1\\r':1,'0\\r':0,'99':99}, inplace=True)"
   ]
  },
  {
   "cell_type": "code",
   "execution_count": 132,
   "metadata": {},
   "outputs": [
    {
     "data": {
      "text/plain": [
       "99    41947\n",
       "0      2650\n",
       "1        33\n",
       "Name: BP1_19_7, dtype: int64"
      ]
     },
     "execution_count": 132,
     "metadata": {},
     "output_type": "execute_result"
    }
   ],
   "source": [
    "df_copy.BP1_19_7.value_counts()"
   ]
  },
  {
   "cell_type": "code",
   "execution_count": 133,
   "metadata": {},
   "outputs": [
    {
     "data": {
      "text/plain": [
       "99     41947\n",
       "0\\r     2152\n",
       "1\\r      531\n",
       "Name: BP1_19_8, dtype: int64"
      ]
     },
     "execution_count": 133,
     "metadata": {},
     "output_type": "execute_result"
    }
   ],
   "source": [
    "df_copy.BP1_19_8.value_counts()"
   ]
  },
  {
   "cell_type": "code",
   "execution_count": 134,
   "metadata": {},
   "outputs": [],
   "source": [
    "df_copy.BP1_19_8.replace({'1\\r':1,'0\\r':0,'99':99}, inplace=True)"
   ]
  },
  {
   "cell_type": "code",
   "execution_count": 135,
   "metadata": {},
   "outputs": [
    {
     "data": {
      "text/plain": [
       "99    41947\n",
       "0      2152\n",
       "1       531\n",
       "Name: BP1_19_8, dtype: int64"
      ]
     },
     "execution_count": 135,
     "metadata": {},
     "output_type": "execute_result"
    }
   ],
   "source": [
    "df_copy.BP1_19_8.value_counts()"
   ]
  },
  {
   "cell_type": "code",
   "execution_count": 136,
   "metadata": {},
   "outputs": [
    {
     "data": {
      "text/plain": [
       "2    39954\n",
       "1     4676\n",
       "Name: BP1_20, dtype: int64"
      ]
     },
     "execution_count": 136,
     "metadata": {},
     "output_type": "execute_result"
    }
   ],
   "source": [
    "df_copy.BP1_20.value_counts()"
   ]
  },
  {
   "cell_type": "code",
   "execution_count": 137,
   "metadata": {},
   "outputs": [
    {
     "data": {
      "text/plain": [
       "99     26171\n",
       "2\\r    18196\n",
       "1\\r      162\n",
       "9\\r      101\n",
       "Name: BP1_21, dtype: int64"
      ]
     },
     "execution_count": 137,
     "metadata": {},
     "output_type": "execute_result"
    }
   ],
   "source": [
    "df_copy.BP1_21.value_counts()"
   ]
  },
  {
   "cell_type": "code",
   "execution_count": 138,
   "metadata": {},
   "outputs": [],
   "source": [
    "df_copy.BP1_21.replace({'1\\r':1,'2\\r':2,'99':99,'9\\r':99}, inplace=True)"
   ]
  },
  {
   "cell_type": "code",
   "execution_count": 139,
   "metadata": {},
   "outputs": [
    {
     "data": {
      "text/plain": [
       "99    26272\n",
       "2     18196\n",
       "1       162\n",
       "Name: BP1_21, dtype: int64"
      ]
     },
     "execution_count": 139,
     "metadata": {},
     "output_type": "execute_result"
    }
   ],
   "source": [
    "df_copy.BP1_21.value_counts()"
   ]
  },
  {
   "cell_type": "code",
   "execution_count": 140,
   "metadata": {},
   "outputs": [
    {
     "data": {
      "text/plain": [
       "99     44468\n",
       "2\\r      121\n",
       "1\\r       41\n",
       "Name: BP1_22, dtype: int64"
      ]
     },
     "execution_count": 140,
     "metadata": {},
     "output_type": "execute_result"
    }
   ],
   "source": [
    "df_copy.BP1_22.value_counts()"
   ]
  },
  {
   "cell_type": "code",
   "execution_count": 141,
   "metadata": {},
   "outputs": [],
   "source": [
    "df_copy.BP1_22.replace({'1\\r':1,'2\\r':2,'99':99}, inplace=True)"
   ]
  },
  {
   "cell_type": "code",
   "execution_count": 142,
   "metadata": {},
   "outputs": [
    {
     "data": {
      "text/plain": [
       "99    44468\n",
       "2       121\n",
       "1        41\n",
       "Name: BP1_22, dtype: int64"
      ]
     },
     "execution_count": 142,
     "metadata": {},
     "output_type": "execute_result"
    }
   ],
   "source": [
    "df_copy.BP1_22.value_counts()"
   ]
  },
  {
   "cell_type": "code",
   "execution_count": 143,
   "metadata": {},
   "outputs": [
    {
     "data": {
      "text/plain": [
       "4       13219\n",
       "6        6371\n",
       "3        5167\n",
       "99       4838\n",
       "7        4443\n",
       "9        3498\n",
       "5        3052\n",
       "1        1941\n",
       "8        1605\n",
       "99\\r      312\n",
       "2         184\n",
       "Name: BP1_23, dtype: int64"
      ]
     },
     "execution_count": 143,
     "metadata": {},
     "output_type": "execute_result"
    }
   ],
   "source": [
    "df_copy.BP1_23.value_counts()"
   ]
  },
  {
   "cell_type": "code",
   "execution_count": 144,
   "metadata": {},
   "outputs": [],
   "source": [
    "df_copy.BP1_23.replace({'99\\r':99,'99':99}, inplace=True)"
   ]
  },
  {
   "cell_type": "code",
   "execution_count": 145,
   "metadata": {},
   "outputs": [
    {
     "data": {
      "text/plain": [
       "4     13219\n",
       "6      6371\n",
       "3      5167\n",
       "99     5150\n",
       "7      4443\n",
       "9      3498\n",
       "5      3052\n",
       "1      1941\n",
       "8      1605\n",
       "2       184\n",
       "Name: BP1_23, dtype: int64"
      ]
     },
     "execution_count": 145,
     "metadata": {},
     "output_type": "execute_result"
    }
   ],
   "source": [
    "df_copy.BP1_23.value_counts()"
   ]
  },
  {
   "cell_type": "code",
   "execution_count": 146,
   "metadata": {},
   "outputs": [
    {
     "data": {
      "text/plain": [
       "99     39913\n",
       "1\\r     3054\n",
       "2\\r     1260\n",
       "9\\r      403\n",
       "Name: BP1_24_1, dtype: int64"
      ]
     },
     "execution_count": 146,
     "metadata": {},
     "output_type": "execute_result"
    }
   ],
   "source": [
    "df_copy.BP1_24_1.value_counts()"
   ]
  },
  {
   "cell_type": "code",
   "execution_count": 147,
   "metadata": {},
   "outputs": [],
   "source": [
    "df_copy.BP1_24_1.replace({'1\\r':1,'2\\r':2,'99':99,'9\\r':99}, inplace=True)"
   ]
  },
  {
   "cell_type": "code",
   "execution_count": 148,
   "metadata": {},
   "outputs": [
    {
     "data": {
      "text/plain": [
       "99    40316\n",
       "1      3054\n",
       "2      1260\n",
       "Name: BP1_24_1, dtype: int64"
      ]
     },
     "execution_count": 148,
     "metadata": {},
     "output_type": "execute_result"
    }
   ],
   "source": [
    "df_copy.BP1_24_1.value_counts()"
   ]
  },
  {
   "cell_type": "code",
   "execution_count": 149,
   "metadata": {},
   "outputs": [
    {
     "data": {
      "text/plain": [
       "99     39913\n",
       "1\\r     1940\n",
       "2\\r     1778\n",
       "9\\r      999\n",
       "Name: BP1_24_2, dtype: int64"
      ]
     },
     "execution_count": 149,
     "metadata": {},
     "output_type": "execute_result"
    }
   ],
   "source": [
    "df_copy.BP1_24_2.value_counts()"
   ]
  },
  {
   "cell_type": "code",
   "execution_count": 150,
   "metadata": {},
   "outputs": [],
   "source": [
    "df_copy.BP1_24_2.replace({'1\\r':1,'2\\r':2,'99':99,'9\\r':99}, inplace=True)"
   ]
  },
  {
   "cell_type": "code",
   "execution_count": 151,
   "metadata": {},
   "outputs": [
    {
     "data": {
      "text/plain": [
       "99    40912\n",
       "1      1940\n",
       "2      1778\n",
       "Name: BP1_24_2, dtype: int64"
      ]
     },
     "execution_count": 151,
     "metadata": {},
     "output_type": "execute_result"
    }
   ],
   "source": [
    "df_copy.BP1_24_2.value_counts()"
   ]
  },
  {
   "cell_type": "code",
   "execution_count": 152,
   "metadata": {},
   "outputs": [
    {
     "data": {
      "text/plain": [
       "99     41576\n",
       "7\\r     1486\n",
       "2\\r      655\n",
       "3\\r      273\n",
       "9\\r      200\n",
       "5\\r      160\n",
       "8\\r      116\n",
       "4\\r       83\n",
       "1\\r       81\n",
       "Name: BP1_25_1, dtype: int64"
      ]
     },
     "execution_count": 152,
     "metadata": {},
     "output_type": "execute_result"
    }
   ],
   "source": [
    "df_copy.BP1_25_1.value_counts()"
   ]
  },
  {
   "cell_type": "code",
   "execution_count": 153,
   "metadata": {},
   "outputs": [],
   "source": [
    "df_copy.BP1_25_1.replace({'1\\r':1,'2\\r':2,'3\\r':3,'4\\r':4,'5\\r':5,'7\\r':7,'8\\r':8,'99':99,'9\\r':99}, inplace=True)"
   ]
  },
  {
   "cell_type": "code",
   "execution_count": 154,
   "metadata": {},
   "outputs": [
    {
     "data": {
      "text/plain": [
       "99    41776\n",
       "7      1486\n",
       "2       655\n",
       "3       273\n",
       "5       160\n",
       "8       116\n",
       "4        83\n",
       "1        81\n",
       "Name: BP1_25_1, dtype: int64"
      ]
     },
     "execution_count": 154,
     "metadata": {},
     "output_type": "execute_result"
    }
   ],
   "source": [
    "df_copy.BP1_25_1.value_counts()"
   ]
  },
  {
   "cell_type": "code",
   "execution_count": 155,
   "metadata": {},
   "outputs": [
    {
     "data": {
      "text/plain": [
       "99     42690\n",
       "7\\r      701\n",
       "2\\r      453\n",
       "6\\r      197\n",
       "3\\r      178\n",
       "9\\r      158\n",
       "5\\r       88\n",
       "1\\r       70\n",
       "4\\r       58\n",
       "8\\r       37\n",
       "Name: BP1_25_2, dtype: int64"
      ]
     },
     "execution_count": 155,
     "metadata": {},
     "output_type": "execute_result"
    }
   ],
   "source": [
    "df_copy.BP1_25_2.value_counts()"
   ]
  },
  {
   "cell_type": "code",
   "execution_count": 156,
   "metadata": {},
   "outputs": [],
   "source": [
    "df_copy.BP1_25_2.replace({'1\\r':1,'2\\r':2,'3\\r':3,'4\\r':4,'5\\r':5,'6\\r':6,'7\\r':7,'8\\r':8,'99':99,'9\\r':99}, inplace=True)"
   ]
  },
  {
   "cell_type": "code",
   "execution_count": 157,
   "metadata": {},
   "outputs": [
    {
     "data": {
      "text/plain": [
       "99    42848\n",
       "7       701\n",
       "2       453\n",
       "6       197\n",
       "3       178\n",
       "5        88\n",
       "1        70\n",
       "4        58\n",
       "8        37\n",
       "Name: BP1_25_2, dtype: int64"
      ]
     },
     "execution_count": 157,
     "metadata": {},
     "output_type": "execute_result"
    }
   ],
   "source": [
    "df_copy.BP1_25_2.value_counts()"
   ]
  },
  {
   "cell_type": "code",
   "execution_count": 158,
   "metadata": {},
   "outputs": [
    {
     "data": {
      "text/plain": [
       "99     43370\n",
       "4\\r      383\n",
       "2\\r      325\n",
       "9\\r      160\n",
       "6\\r      130\n",
       "1\\r      116\n",
       "3\\r      115\n",
       "5\\r       31\n",
       "Name: BP1_26_1, dtype: int64"
      ]
     },
     "execution_count": 158,
     "metadata": {},
     "output_type": "execute_result"
    }
   ],
   "source": [
    "df_copy.BP1_26_1.value_counts()"
   ]
  },
  {
   "cell_type": "code",
   "execution_count": 159,
   "metadata": {},
   "outputs": [],
   "source": [
    "df_copy.BP1_26_1.replace({'1\\r':1,'2\\r':2,'3\\r':3,'4\\r':4,'5\\r':5,'6\\r':6,'99':99,'9\\r':99}, inplace=True)"
   ]
  },
  {
   "cell_type": "code",
   "execution_count": 160,
   "metadata": {},
   "outputs": [
    {
     "data": {
      "text/plain": [
       "99    43530\n",
       "4       383\n",
       "2       325\n",
       "6       130\n",
       "1       116\n",
       "3       115\n",
       "5        31\n",
       "Name: BP1_26_1, dtype: int64"
      ]
     },
     "execution_count": 160,
     "metadata": {},
     "output_type": "execute_result"
    }
   ],
   "source": [
    "df_copy.BP1_26_1.value_counts()"
   ]
  },
  {
   "cell_type": "code",
   "execution_count": 161,
   "metadata": {},
   "outputs": [
    {
     "data": {
      "text/plain": [
       "99     42852\n",
       "4\\r      481\n",
       "2\\r      419\n",
       "9\\r      400\n",
       "6\\r      156\n",
       "1\\r      131\n",
       "3\\r      120\n",
       "5\\r       71\n",
       "Name: BP1_26_2, dtype: int64"
      ]
     },
     "execution_count": 161,
     "metadata": {},
     "output_type": "execute_result"
    }
   ],
   "source": [
    "df_copy.BP1_26_2.value_counts()"
   ]
  },
  {
   "cell_type": "code",
   "execution_count": 162,
   "metadata": {},
   "outputs": [],
   "source": [
    "df_copy.BP1_26_2.replace({'1\\r':1,'2\\r':2,'3\\r':3,'4\\r':4,'5\\r':5,'6\\r':6,'99':99,'9\\r':99}, inplace=True)"
   ]
  },
  {
   "cell_type": "code",
   "execution_count": 163,
   "metadata": {},
   "outputs": [
    {
     "data": {
      "text/plain": [
       "99    43252\n",
       "4       481\n",
       "2       419\n",
       "6       156\n",
       "1       131\n",
       "3       120\n",
       "5        71\n",
       "Name: BP1_26_2, dtype: int64"
      ]
     },
     "execution_count": 163,
     "metadata": {},
     "output_type": "execute_result"
    }
   ],
   "source": [
    "df_copy.BP1_26_2.value_counts()"
   ]
  },
  {
   "cell_type": "code",
   "execution_count": 164,
   "metadata": {},
   "outputs": [
    {
     "data": {
      "text/plain": [
       "99     39913\n",
       "2\\r     1592\n",
       "4\\r     1286\n",
       "3\\r     1018\n",
       "1\\r      703\n",
       "9\\r      118\n",
       "Name: BP1_27, dtype: int64"
      ]
     },
     "execution_count": 164,
     "metadata": {},
     "output_type": "execute_result"
    }
   ],
   "source": [
    "df_copy.BP1_27.value_counts()"
   ]
  },
  {
   "cell_type": "code",
   "execution_count": 165,
   "metadata": {},
   "outputs": [],
   "source": [
    "df_copy.BP1_27.replace({'1\\r':1,'2\\r':2,'3\\r':3,'4\\r':4,'99':99,'9\\r':99}, inplace=True)"
   ]
  },
  {
   "cell_type": "code",
   "execution_count": 166,
   "metadata": {},
   "outputs": [
    {
     "data": {
      "text/plain": [
       "99    40031\n",
       "2      1592\n",
       "4      1286\n",
       "3      1018\n",
       "1       703\n",
       "Name: BP1_27, dtype: int64"
      ]
     },
     "execution_count": 166,
     "metadata": {},
     "output_type": "execute_result"
    }
   ],
   "source": [
    "df_copy.BP1_27.value_counts()"
   ]
  },
  {
   "cell_type": "code",
   "execution_count": 167,
   "metadata": {},
   "outputs": [
    {
     "data": {
      "text/plain": [
       "99     39913\n",
       "3\\r     1657\n",
       "2\\r     1486\n",
       "5\\r      473\n",
       "4\\r      469\n",
       "6\\r      348\n",
       "1\\r      270\n",
       "9\\r       14\n",
       "Name: BP1_28, dtype: int64"
      ]
     },
     "execution_count": 167,
     "metadata": {},
     "output_type": "execute_result"
    }
   ],
   "source": [
    "df_copy.BP1_28.value_counts()"
   ]
  },
  {
   "cell_type": "code",
   "execution_count": 168,
   "metadata": {},
   "outputs": [],
   "source": [
    "df_copy.BP1_28.replace({'1\\r':1,'2\\r':2,'3\\r':3,'4\\r':4,'5\\r':5,'6\\r':6,'99':99,'9\\r':99}, inplace=True)"
   ]
  },
  {
   "cell_type": "code",
   "execution_count": 169,
   "metadata": {},
   "outputs": [
    {
     "data": {
      "text/plain": [
       "99    39927\n",
       "3      1657\n",
       "2      1486\n",
       "5       473\n",
       "4       469\n",
       "6       348\n",
       "1       270\n",
       "Name: BP1_28, dtype: int64"
      ]
     },
     "execution_count": 169,
     "metadata": {},
     "output_type": "execute_result"
    }
   ],
   "source": [
    "df_copy.BP1_28.value_counts()"
   ]
  },
  {
   "cell_type": "code",
   "execution_count": 170,
   "metadata": {},
   "outputs": [
    {
     "data": {
      "text/plain": [
       "99     39913\n",
       "2\\r     2203\n",
       "3\\r     1276\n",
       "4\\r      947\n",
       "1\\r      291\n",
       "Name: BP1_29, dtype: int64"
      ]
     },
     "execution_count": 170,
     "metadata": {},
     "output_type": "execute_result"
    }
   ],
   "source": [
    "df_copy.BP1_29.value_counts()"
   ]
  },
  {
   "cell_type": "code",
   "execution_count": 171,
   "metadata": {},
   "outputs": [],
   "source": [
    "df_copy.BP1_29.replace({'1\\r':1,'2\\r':2,'3\\r':3,'4\\r':4,'99':99}, inplace=True)"
   ]
  },
  {
   "cell_type": "code",
   "execution_count": 172,
   "metadata": {},
   "outputs": [
    {
     "data": {
      "text/plain": [
       "2    40759\n",
       "1     3871\n",
       "Name: BP1_30, dtype: int64"
      ]
     },
     "execution_count": 172,
     "metadata": {},
     "output_type": "execute_result"
    }
   ],
   "source": [
    "df_copy.BP1_30.value_counts()"
   ]
  },
  {
   "cell_type": "code",
   "execution_count": 173,
   "metadata": {},
   "outputs": [
    {
     "data": {
      "text/plain": [
       "99     40759\n",
       "0\\r     3635\n",
       "1\\r      236\n",
       "Name: BP1_31_1, dtype: int64"
      ]
     },
     "execution_count": 173,
     "metadata": {},
     "output_type": "execute_result"
    }
   ],
   "source": [
    "df_copy.BP1_31_1.value_counts()"
   ]
  },
  {
   "cell_type": "code",
   "execution_count": 174,
   "metadata": {},
   "outputs": [],
   "source": [
    "df_copy.BP1_31_1.replace({'1\\r':1,'0\\r':0,'99':99}, inplace=True)"
   ]
  },
  {
   "cell_type": "code",
   "execution_count": 175,
   "metadata": {},
   "outputs": [
    {
     "data": {
      "text/plain": [
       "99    40759\n",
       "0      3635\n",
       "1       236\n",
       "Name: BP1_31_1, dtype: int64"
      ]
     },
     "execution_count": 175,
     "metadata": {},
     "output_type": "execute_result"
    }
   ],
   "source": [
    "df_copy.BP1_31_1.value_counts()"
   ]
  },
  {
   "cell_type": "code",
   "execution_count": 176,
   "metadata": {},
   "outputs": [
    {
     "data": {
      "text/plain": [
       "99     40759\n",
       "1\\r     2241\n",
       "0\\r     1630\n",
       "Name: BP1_31_2, dtype: int64"
      ]
     },
     "execution_count": 176,
     "metadata": {},
     "output_type": "execute_result"
    }
   ],
   "source": [
    "df_copy.BP1_31_2.value_counts()"
   ]
  },
  {
   "cell_type": "code",
   "execution_count": 177,
   "metadata": {},
   "outputs": [],
   "source": [
    "df_copy.BP1_31_2.replace({'1\\r':1,'0\\r':0,'99':99}, inplace=True)"
   ]
  },
  {
   "cell_type": "code",
   "execution_count": 178,
   "metadata": {},
   "outputs": [
    {
     "data": {
      "text/plain": [
       "99    40759\n",
       "1      2241\n",
       "0      1630\n",
       "Name: BP1_31_2, dtype: int64"
      ]
     },
     "execution_count": 178,
     "metadata": {},
     "output_type": "execute_result"
    }
   ],
   "source": [
    "df_copy.BP1_31_2.value_counts()"
   ]
  },
  {
   "cell_type": "code",
   "execution_count": 179,
   "metadata": {},
   "outputs": [
    {
     "data": {
      "text/plain": [
       "99     40759\n",
       "0\\r     3802\n",
       "1\\r       69\n",
       "Name: BP1_31_3, dtype: int64"
      ]
     },
     "execution_count": 179,
     "metadata": {},
     "output_type": "execute_result"
    }
   ],
   "source": [
    "df_copy.BP1_31_3.value_counts()"
   ]
  },
  {
   "cell_type": "code",
   "execution_count": 180,
   "metadata": {},
   "outputs": [],
   "source": [
    "df_copy.BP1_31_3.replace({'1\\r':1,'0\\r':0,'99':99}, inplace=True)"
   ]
  },
  {
   "cell_type": "code",
   "execution_count": 181,
   "metadata": {},
   "outputs": [
    {
     "data": {
      "text/plain": [
       "99    40759\n",
       "0      3802\n",
       "1        69\n",
       "Name: BP1_31_3, dtype: int64"
      ]
     },
     "execution_count": 181,
     "metadata": {},
     "output_type": "execute_result"
    }
   ],
   "source": [
    "df_copy.BP1_31_3.value_counts()"
   ]
  },
  {
   "cell_type": "code",
   "execution_count": 182,
   "metadata": {},
   "outputs": [
    {
     "data": {
      "text/plain": [
       "99     40759\n",
       "0\\r     3474\n",
       "1\\r      397\n",
       "Name: BP1_31_4, dtype: int64"
      ]
     },
     "execution_count": 182,
     "metadata": {},
     "output_type": "execute_result"
    }
   ],
   "source": [
    "df_copy.BP1_31_4.value_counts()"
   ]
  },
  {
   "cell_type": "code",
   "execution_count": 183,
   "metadata": {},
   "outputs": [],
   "source": [
    "df_copy.BP1_31_4.replace({'1\\r':1,'0\\r':0,'99':99}, inplace=True)"
   ]
  },
  {
   "cell_type": "code",
   "execution_count": 184,
   "metadata": {},
   "outputs": [
    {
     "data": {
      "text/plain": [
       "99    40759\n",
       "0      3474\n",
       "1       397\n",
       "Name: BP1_31_4, dtype: int64"
      ]
     },
     "execution_count": 184,
     "metadata": {},
     "output_type": "execute_result"
    }
   ],
   "source": [
    "df_copy.BP1_31_4.value_counts()"
   ]
  },
  {
   "cell_type": "code",
   "execution_count": 185,
   "metadata": {},
   "outputs": [
    {
     "data": {
      "text/plain": [
       "99     40759\n",
       "0\\r     3715\n",
       "1\\r      156\n",
       "Name: BP1_31_5, dtype: int64"
      ]
     },
     "execution_count": 185,
     "metadata": {},
     "output_type": "execute_result"
    }
   ],
   "source": [
    "df_copy.BP1_31_5.value_counts()"
   ]
  },
  {
   "cell_type": "code",
   "execution_count": 186,
   "metadata": {},
   "outputs": [],
   "source": [
    "df_copy.BP1_31_5.replace({'1\\r':1,'0\\r':0,'99':99}, inplace=True)"
   ]
  },
  {
   "cell_type": "code",
   "execution_count": 187,
   "metadata": {},
   "outputs": [
    {
     "data": {
      "text/plain": [
       "99    40759\n",
       "0      3715\n",
       "1       156\n",
       "Name: BP1_31_5, dtype: int64"
      ]
     },
     "execution_count": 187,
     "metadata": {},
     "output_type": "execute_result"
    }
   ],
   "source": [
    "df_copy.BP1_31_5.value_counts()"
   ]
  },
  {
   "cell_type": "code",
   "execution_count": 188,
   "metadata": {},
   "outputs": [
    {
     "data": {
      "text/plain": [
       "99     40759\n",
       "0\\r     3812\n",
       "1\\r       59\n",
       "Name: BP1_31_6, dtype: int64"
      ]
     },
     "execution_count": 188,
     "metadata": {},
     "output_type": "execute_result"
    }
   ],
   "source": [
    "df_copy.BP1_31_6.value_counts()"
   ]
  },
  {
   "cell_type": "code",
   "execution_count": 189,
   "metadata": {},
   "outputs": [],
   "source": [
    "df_copy.BP1_31_6.replace({'1\\r':1,'0\\r':0,'99':99}, inplace=True)"
   ]
  },
  {
   "cell_type": "code",
   "execution_count": 190,
   "metadata": {},
   "outputs": [
    {
     "data": {
      "text/plain": [
       "99    40759\n",
       "0      3812\n",
       "1        59\n",
       "Name: BP1_31_6, dtype: int64"
      ]
     },
     "execution_count": 190,
     "metadata": {},
     "output_type": "execute_result"
    }
   ],
   "source": [
    "df_copy.BP1_31_6.value_counts()"
   ]
  },
  {
   "cell_type": "code",
   "execution_count": 191,
   "metadata": {},
   "outputs": [
    {
     "data": {
      "text/plain": [
       "99     40759\n",
       "0\\r     3783\n",
       "1\\r       88\n",
       "Name: BP1_31_7, dtype: int64"
      ]
     },
     "execution_count": 191,
     "metadata": {},
     "output_type": "execute_result"
    }
   ],
   "source": [
    "df_copy.BP1_31_7.value_counts()"
   ]
  },
  {
   "cell_type": "code",
   "execution_count": 192,
   "metadata": {},
   "outputs": [],
   "source": [
    "df_copy.BP1_31_7.replace({'1\\r':1,'0\\r':0,'99':99}, inplace=True)"
   ]
  },
  {
   "cell_type": "code",
   "execution_count": 193,
   "metadata": {},
   "outputs": [
    {
     "data": {
      "text/plain": [
       "99    40759\n",
       "0      3783\n",
       "1        88\n",
       "Name: BP1_31_7, dtype: int64"
      ]
     },
     "execution_count": 193,
     "metadata": {},
     "output_type": "execute_result"
    }
   ],
   "source": [
    "df_copy.BP1_31_7.value_counts()"
   ]
  },
  {
   "cell_type": "code",
   "execution_count": 194,
   "metadata": {},
   "outputs": [
    {
     "data": {
      "text/plain": [
       "99     40759\n",
       "0\\r     3446\n",
       "1\\r      425\n",
       "Name: BP1_31_8, dtype: int64"
      ]
     },
     "execution_count": 194,
     "metadata": {},
     "output_type": "execute_result"
    }
   ],
   "source": [
    "df_copy.BP1_31_8.value_counts()"
   ]
  },
  {
   "cell_type": "code",
   "execution_count": 195,
   "metadata": {},
   "outputs": [],
   "source": [
    "df_copy.BP1_31_8.replace({'1\\r':1,'0\\r':0,'99':99}, inplace=True)"
   ]
  },
  {
   "cell_type": "code",
   "execution_count": 196,
   "metadata": {},
   "outputs": [
    {
     "data": {
      "text/plain": [
       "99    40759\n",
       "0      3446\n",
       "1       425\n",
       "Name: BP1_31_8, dtype: int64"
      ]
     },
     "execution_count": 196,
     "metadata": {},
     "output_type": "execute_result"
    }
   ],
   "source": [
    "df_copy.BP1_31_8.value_counts()"
   ]
  },
  {
   "cell_type": "code",
   "execution_count": 197,
   "metadata": {},
   "outputs": [
    {
     "data": {
      "text/plain": [
       "99     40759\n",
       "0\\r     3566\n",
       "1\\r      305\n",
       "Name: BP1_31_9, dtype: int64"
      ]
     },
     "execution_count": 197,
     "metadata": {},
     "output_type": "execute_result"
    }
   ],
   "source": [
    "df_copy.BP1_31_9.value_counts()"
   ]
  },
  {
   "cell_type": "code",
   "execution_count": 198,
   "metadata": {},
   "outputs": [],
   "source": [
    "df_copy.BP1_31_9.replace({'1\\r':1,'0\\r':0,'99':99}, inplace=True)"
   ]
  },
  {
   "cell_type": "code",
   "execution_count": 199,
   "metadata": {},
   "outputs": [
    {
     "data": {
      "text/plain": [
       "99    40759\n",
       "0      3566\n",
       "1       305\n",
       "Name: BP1_31_9, dtype: int64"
      ]
     },
     "execution_count": 199,
     "metadata": {},
     "output_type": "execute_result"
    }
   ],
   "source": [
    "df_copy.BP1_31_9.value_counts()"
   ]
  },
  {
   "cell_type": "code",
   "execution_count": 200,
   "metadata": {},
   "outputs": [
    {
     "data": {
      "text/plain": [
       "99     36743\n",
       "0\\r     5650\n",
       "1\\r     2237\n",
       "Name: BP1_32_1, dtype: int64"
      ]
     },
     "execution_count": 200,
     "metadata": {},
     "output_type": "execute_result"
    }
   ],
   "source": [
    "df_copy.BP1_32_1.value_counts()"
   ]
  },
  {
   "cell_type": "code",
   "execution_count": 201,
   "metadata": {},
   "outputs": [],
   "source": [
    "df_copy.BP1_32_1.replace({'1\\r':1,'0\\r':0,'99':99}, inplace=True)"
   ]
  },
  {
   "cell_type": "code",
   "execution_count": 202,
   "metadata": {},
   "outputs": [
    {
     "data": {
      "text/plain": [
       "99    36743\n",
       "0      5650\n",
       "1      2237\n",
       "Name: BP1_32_1, dtype: int64"
      ]
     },
     "execution_count": 202,
     "metadata": {},
     "output_type": "execute_result"
    }
   ],
   "source": [
    "df_copy.BP1_32_1.value_counts()"
   ]
  },
  {
   "cell_type": "code",
   "execution_count": 203,
   "metadata": {},
   "outputs": [
    {
     "data": {
      "text/plain": [
       "99     36743\n",
       "0\\r     7775\n",
       "1\\r      112\n",
       "Name: BP1_32_2, dtype: int64"
      ]
     },
     "execution_count": 203,
     "metadata": {},
     "output_type": "execute_result"
    }
   ],
   "source": [
    "df_copy.BP1_32_2.value_counts()"
   ]
  },
  {
   "cell_type": "code",
   "execution_count": 204,
   "metadata": {},
   "outputs": [],
   "source": [
    "df_copy.BP1_32_2.replace({'1\\r':1,'0\\r':0,'99':99}, inplace=True)"
   ]
  },
  {
   "cell_type": "code",
   "execution_count": 205,
   "metadata": {},
   "outputs": [
    {
     "data": {
      "text/plain": [
       "99    36743\n",
       "0      7775\n",
       "1       112\n",
       "Name: BP1_32_2, dtype: int64"
      ]
     },
     "execution_count": 205,
     "metadata": {},
     "output_type": "execute_result"
    }
   ],
   "source": [
    "df_copy.BP1_32_2.value_counts()"
   ]
  },
  {
   "cell_type": "code",
   "execution_count": 206,
   "metadata": {},
   "outputs": [
    {
     "data": {
      "text/plain": [
       "99     36743\n",
       "0\\r     7848\n",
       "1\\r       39\n",
       "Name: BP1_32_3, dtype: int64"
      ]
     },
     "execution_count": 206,
     "metadata": {},
     "output_type": "execute_result"
    }
   ],
   "source": [
    "df_copy.BP1_32_3.value_counts()"
   ]
  },
  {
   "cell_type": "code",
   "execution_count": 207,
   "metadata": {},
   "outputs": [],
   "source": [
    "df_copy.BP1_32_3.replace({'1\\r':1,'0\\r':0,'99':99}, inplace=True)"
   ]
  },
  {
   "cell_type": "code",
   "execution_count": 208,
   "metadata": {},
   "outputs": [
    {
     "data": {
      "text/plain": [
       "99    36743\n",
       "0      7848\n",
       "1        39\n",
       "Name: BP1_32_3, dtype: int64"
      ]
     },
     "execution_count": 208,
     "metadata": {},
     "output_type": "execute_result"
    }
   ],
   "source": [
    "df_copy.BP1_32_3.value_counts()"
   ]
  },
  {
   "cell_type": "code",
   "execution_count": 209,
   "metadata": {},
   "outputs": [
    {
     "data": {
      "text/plain": [
       "99     36743\n",
       "0\\r     7856\n",
       "1\\r       31\n",
       "Name: BP1_32_4, dtype: int64"
      ]
     },
     "execution_count": 209,
     "metadata": {},
     "output_type": "execute_result"
    }
   ],
   "source": [
    "df_copy.BP1_32_4.value_counts()"
   ]
  },
  {
   "cell_type": "code",
   "execution_count": 210,
   "metadata": {},
   "outputs": [],
   "source": [
    "df_copy.BP1_32_4.replace({'1\\r':1,'0\\r':0,'99':99}, inplace=True)"
   ]
  },
  {
   "cell_type": "code",
   "execution_count": 211,
   "metadata": {},
   "outputs": [
    {
     "data": {
      "text/plain": [
       "99    36743\n",
       "0      7856\n",
       "1        31\n",
       "Name: BP1_32_4, dtype: int64"
      ]
     },
     "execution_count": 211,
     "metadata": {},
     "output_type": "execute_result"
    }
   ],
   "source": [
    "df_copy.BP1_32_4.value_counts()"
   ]
  },
  {
   "cell_type": "code",
   "execution_count": 212,
   "metadata": {},
   "outputs": [
    {
     "data": {
      "text/plain": [
       "99     36743\n",
       "1\\r     5421\n",
       "0\\r     2466\n",
       "Name: BP1_32_5, dtype: int64"
      ]
     },
     "execution_count": 212,
     "metadata": {},
     "output_type": "execute_result"
    }
   ],
   "source": [
    "df_copy.BP1_32_5.value_counts()"
   ]
  },
  {
   "cell_type": "code",
   "execution_count": 213,
   "metadata": {},
   "outputs": [],
   "source": [
    "df_copy.BP1_32_5.replace({'1\\r':1,'0\\r':0,'99':99}, inplace=True)"
   ]
  },
  {
   "cell_type": "code",
   "execution_count": 214,
   "metadata": {},
   "outputs": [
    {
     "data": {
      "text/plain": [
       "99    36743\n",
       "1      5421\n",
       "0      2466\n",
       "Name: BP1_32_5, dtype: int64"
      ]
     },
     "execution_count": 214,
     "metadata": {},
     "output_type": "execute_result"
    }
   ],
   "source": [
    "df_copy.BP1_32_5.value_counts()"
   ]
  },
  {
   "cell_type": "code",
   "execution_count": 215,
   "metadata": {},
   "outputs": [
    {
     "data": {
      "text/plain": [
       "99     36743\n",
       "0\\r     7791\n",
       "1\\r       96\n",
       "Name: BP1_32_9, dtype: int64"
      ]
     },
     "execution_count": 215,
     "metadata": {},
     "output_type": "execute_result"
    }
   ],
   "source": [
    "df_copy.BP1_32_9.value_counts()"
   ]
  },
  {
   "cell_type": "code",
   "execution_count": 216,
   "metadata": {},
   "outputs": [],
   "source": [
    "df_copy.BP1_32_9.replace({'1\\r':1,'0\\r':0,'99':99}, inplace=True)"
   ]
  },
  {
   "cell_type": "code",
   "execution_count": 217,
   "metadata": {},
   "outputs": [
    {
     "data": {
      "text/plain": [
       "99    36743\n",
       "0      7791\n",
       "1        96\n",
       "Name: BP1_32_9, dtype: int64"
      ]
     },
     "execution_count": 217,
     "metadata": {},
     "output_type": "execute_result"
    }
   ],
   "source": [
    "df_copy.BP1_32_9.value_counts()"
   ]
  },
  {
   "cell_type": "code",
   "execution_count": 218,
   "metadata": {},
   "outputs": [
    {
     "data": {
      "text/plain": [
       "1    26523\n",
       "5     9038\n",
       "3     7668\n",
       "2     1156\n",
       "4      138\n",
       "9      107\n",
       "Name: BP1_33, dtype: int64"
      ]
     },
     "execution_count": 218,
     "metadata": {},
     "output_type": "execute_result"
    }
   ],
   "source": [
    "df_copy.BP1_33.value_counts()"
   ]
  },
  {
   "cell_type": "code",
   "execution_count": 219,
   "metadata": {
    "scrolled": false
   },
   "outputs": [
    {
     "data": {
      "text/plain": [
       "99           9145\n",
       "0000000\\r    7534\n",
       "0002000\\r    2121\n",
       "0001000\\r    1984\n",
       "0003000\\r    1802\n",
       "0000500\\r    1688\n",
       "9999999\\r    1503\n",
       "0005000\\r    1449\n",
       "0001500\\r    1350\n",
       "0000200\\r    1080\n",
       "0000300\\r     937\n",
       "0004000\\r     895\n",
       "0010000\\r     775\n",
       "0000800\\r     711\n",
       "0002500\\r     626\n",
       "0006000\\r     620\n",
       "0000600\\r     574\n",
       "0000100\\r     573\n",
       "0001200\\r     572\n",
       "0000400\\r     529\n",
       "0015000\\r     455\n",
       "0008000\\r     436\n",
       "0020000\\r     435\n",
       "0007000\\r     428\n",
       "0000700\\r     400\n",
       "0003500\\r     380\n",
       "0030000\\r     297\n",
       "0001800\\r     244\n",
       "0000050\\r     214\n",
       "0050000\\r     201\n",
       "             ... \n",
       "0006100\\r       1\n",
       "0000054\\r       1\n",
       "0000021\\r       1\n",
       "0001770\\r       1\n",
       "0000108\\r       1\n",
       "0051000\\r       1\n",
       "0002250\\r       1\n",
       "0005400\\r       1\n",
       "0000830\\r       1\n",
       "1500000\\r       1\n",
       "0270000\\r       1\n",
       "0000085\\r       1\n",
       "0016300\\r       1\n",
       "0001320\\r       1\n",
       "0008300\\r       1\n",
       "0002367\\r       1\n",
       "0000014\\r       1\n",
       "0001070\\r       1\n",
       "0000294\\r       1\n",
       "0000710\\r       1\n",
       "0029800\\r       1\n",
       "0006300\\r       1\n",
       "0047000\\r       1\n",
       "0001870\\r       1\n",
       "0012100\\r       1\n",
       "0000199\\r       1\n",
       "0000175\\r       1\n",
       "0001360\\r       1\n",
       "0000256\\r       1\n",
       "0000135\\r       1\n",
       "Name: BP1_34, Length: 404, dtype: int64"
      ]
     },
     "execution_count": 219,
     "metadata": {},
     "output_type": "execute_result"
    }
   ],
   "source": [
    "df_copy.BP1_34.value_counts()\n",
    "#Pediente"
   ]
  },
  {
   "cell_type": "code",
   "execution_count": 220,
   "metadata": {},
   "outputs": [
    {
     "data": {
      "text/plain": [
       "0000000    32621\n",
       "99          9145\n",
       "9999999      987\n",
       "0001000      194\n",
       "0000500      162\n",
       "0002000      153\n",
       "0000200      112\n",
       "0000300      112\n",
       "0005000      105\n",
       "0003000      102\n",
       "0001500       84\n",
       "0000800       70\n",
       "0000600       59\n",
       "0010000       56\n",
       "0000100       54\n",
       "0004000       49\n",
       "0000400       41\n",
       "0001200       34\n",
       "0015000       29\n",
       "0002500       29\n",
       "0000700       28\n",
       "0006000       22\n",
       "0007000       21\n",
       "0000050       21\n",
       "0000150       20\n",
       "0008000       19\n",
       "0020000       19\n",
       "0000250       17\n",
       "0050000       12\n",
       "0030000       12\n",
       "           ...  \n",
       "0001100        1\n",
       "0000419        1\n",
       "0250000        1\n",
       "0003900        1\n",
       "0003200        1\n",
       "0001750        1\n",
       "0024000        1\n",
       "0000009        1\n",
       "0004300        1\n",
       "0000630        1\n",
       "0072000        1\n",
       "0042000        1\n",
       "0005200        1\n",
       "0035000        1\n",
       "0013000        1\n",
       "0000555        1\n",
       "0090000        1\n",
       "0001050        1\n",
       "0016000        1\n",
       "0003800        1\n",
       "0001950        1\n",
       "0650000        1\n",
       "0093426        1\n",
       "0005800        1\n",
       "0000075        1\n",
       "0000015        1\n",
       "0003450        1\n",
       "0003600        1\n",
       "0004700        1\n",
       "0000090        1\n",
       "Name: BP1_34, Length: 127, dtype: int64"
      ]
     },
     "execution_count": 220,
     "metadata": {},
     "output_type": "execute_result"
    }
   ],
   "source": [
    "df_copy.BP1_34 =  df_copy.BP1_35.replace( '\\r', \"\", regex = True  )\n",
    "df_copy.BP1_34.value_counts()"
   ]
  },
  {
   "cell_type": "code",
   "execution_count": 221,
   "metadata": {
    "scrolled": true
   },
   "outputs": [
    {
     "data": {
      "text/plain": [
       "0000000\\r    32621\n",
       "99            9145\n",
       "9999999\\r      987\n",
       "0001000\\r      194\n",
       "0000500\\r      162\n",
       "0002000\\r      153\n",
       "0000200\\r      112\n",
       "0000300\\r      112\n",
       "0005000\\r      105\n",
       "0003000\\r      102\n",
       "0001500\\r       84\n",
       "0000800\\r       70\n",
       "0000600\\r       59\n",
       "0010000\\r       56\n",
       "0000100\\r       54\n",
       "0004000\\r       49\n",
       "0000400\\r       41\n",
       "0001200\\r       34\n",
       "0002500\\r       29\n",
       "0015000\\r       29\n",
       "0000700\\r       28\n",
       "0006000\\r       22\n",
       "0007000\\r       21\n",
       "0000050\\r       21\n",
       "0000150\\r       20\n",
       "0020000\\r       19\n",
       "0008000\\r       19\n",
       "0000250\\r       17\n",
       "0050000\\r       12\n",
       "0030000\\r       12\n",
       "             ...  \n",
       "0000015\\r        1\n",
       "0003600\\r        1\n",
       "0000630\\r        1\n",
       "0003200\\r        1\n",
       "0000090\\r        1\n",
       "0024000\\r        1\n",
       "0004300\\r        1\n",
       "0000260\\r        1\n",
       "0004700\\r        1\n",
       "0003400\\r        1\n",
       "0005500\\r        1\n",
       "0028000\\r        1\n",
       "0042000\\r        1\n",
       "0002700\\r        1\n",
       "0013000\\r        1\n",
       "0001050\\r        1\n",
       "0001950\\r        1\n",
       "0017500\\r        1\n",
       "0048000\\r        1\n",
       "0090000\\r        1\n",
       "0013400\\r        1\n",
       "0003700\\r        1\n",
       "0035000\\r        1\n",
       "0001770\\r        1\n",
       "0110000\\r        1\n",
       "0093426\\r        1\n",
       "0000022\\r        1\n",
       "0000009\\r        1\n",
       "0005200\\r        1\n",
       "0003900\\r        1\n",
       "Name: BP1_35, Length: 127, dtype: int64"
      ]
     },
     "execution_count": 221,
     "metadata": {},
     "output_type": "execute_result"
    }
   ],
   "source": [
    "df_copy.BP1_35.value_counts()\n",
    "#Pendiente"
   ]
  },
  {
   "cell_type": "code",
   "execution_count": 222,
   "metadata": {},
   "outputs": [
    {
     "data": {
      "text/plain": [
       "0000000    32621\n",
       "99          9145\n",
       "9999999      987\n",
       "0001000      194\n",
       "0000500      162\n",
       "0002000      153\n",
       "0000200      112\n",
       "0000300      112\n",
       "0005000      105\n",
       "0003000      102\n",
       "0001500       84\n",
       "0000800       70\n",
       "0000600       59\n",
       "0010000       56\n",
       "0000100       54\n",
       "0004000       49\n",
       "0000400       41\n",
       "0001200       34\n",
       "0015000       29\n",
       "0002500       29\n",
       "0000700       28\n",
       "0006000       22\n",
       "0007000       21\n",
       "0000050       21\n",
       "0000150       20\n",
       "0008000       19\n",
       "0020000       19\n",
       "0000250       17\n",
       "0050000       12\n",
       "0030000       12\n",
       "           ...  \n",
       "0001100        1\n",
       "0000419        1\n",
       "0250000        1\n",
       "0003900        1\n",
       "0003200        1\n",
       "0001750        1\n",
       "0024000        1\n",
       "0000009        1\n",
       "0004300        1\n",
       "0000630        1\n",
       "0072000        1\n",
       "0042000        1\n",
       "0005200        1\n",
       "0035000        1\n",
       "0013000        1\n",
       "0000555        1\n",
       "0090000        1\n",
       "0001050        1\n",
       "0016000        1\n",
       "0003800        1\n",
       "0001950        1\n",
       "0650000        1\n",
       "0093426        1\n",
       "0005800        1\n",
       "0000075        1\n",
       "0000015        1\n",
       "0003450        1\n",
       "0003600        1\n",
       "0004700        1\n",
       "0000090        1\n",
       "Name: BP1_35, Length: 127, dtype: int64"
      ]
     },
     "execution_count": 222,
     "metadata": {},
     "output_type": "execute_result"
    }
   ],
   "source": [
    "df_copy.BP1_35 =  df_copy.BP1_35.replace( '\\r', \"\", regex = True  )\n",
    "df_copy.BP1_35.value_counts()"
   ]
  },
  {
   "cell_type": "code",
   "execution_count": 223,
   "metadata": {},
   "outputs": [
    {
     "data": {
      "text/plain": [
       "99     18436\n",
       "0\\r    16608\n",
       "1\\r     9586\n",
       "Name: BP1_36_01, dtype: int64"
      ]
     },
     "execution_count": 223,
     "metadata": {},
     "output_type": "execute_result"
    }
   ],
   "source": [
    "df_copy.BP1_36_01.value_counts()"
   ]
  },
  {
   "cell_type": "code",
   "execution_count": 224,
   "metadata": {},
   "outputs": [],
   "source": [
    "df_copy.BP1_36_01.replace({'1\\r':1,'0\\r':0,'99':99}, inplace=True)"
   ]
  },
  {
   "cell_type": "code",
   "execution_count": 225,
   "metadata": {},
   "outputs": [
    {
     "data": {
      "text/plain": [
       "99     18436\n",
       "0\\r    17730\n",
       "1\\r     8464\n",
       "Name: BP1_36_02, dtype: int64"
      ]
     },
     "execution_count": 225,
     "metadata": {},
     "output_type": "execute_result"
    }
   ],
   "source": [
    "df_copy.BP1_36_02.value_counts()"
   ]
  },
  {
   "cell_type": "code",
   "execution_count": 226,
   "metadata": {},
   "outputs": [],
   "source": [
    "df_copy.BP1_36_02.replace({'1\\r':1,'0\\r':0,'99':99}, inplace=True)"
   ]
  },
  {
   "cell_type": "code",
   "execution_count": 227,
   "metadata": {},
   "outputs": [
    {
     "data": {
      "text/plain": [
       "99    18436\n",
       "0     17730\n",
       "1      8464\n",
       "Name: BP1_36_02, dtype: int64"
      ]
     },
     "execution_count": 227,
     "metadata": {},
     "output_type": "execute_result"
    }
   ],
   "source": [
    "df_copy.BP1_36_02.value_counts()"
   ]
  },
  {
   "cell_type": "code",
   "execution_count": 228,
   "metadata": {},
   "outputs": [
    {
     "data": {
      "text/plain": [
       "99     18436\n",
       "0\\r    15510\n",
       "1\\r    10684\n",
       "Name: BP1_36_03, dtype: int64"
      ]
     },
     "execution_count": 228,
     "metadata": {},
     "output_type": "execute_result"
    }
   ],
   "source": [
    "df_copy.BP1_36_03.value_counts()"
   ]
  },
  {
   "cell_type": "code",
   "execution_count": 229,
   "metadata": {},
   "outputs": [],
   "source": [
    "df_copy.BP1_36_03.replace({'1\\r':1,'0\\r':0,'99':99}, inplace=True)"
   ]
  },
  {
   "cell_type": "code",
   "execution_count": 230,
   "metadata": {},
   "outputs": [
    {
     "data": {
      "text/plain": [
       "99    18436\n",
       "0     15510\n",
       "1     10684\n",
       "Name: BP1_36_03, dtype: int64"
      ]
     },
     "execution_count": 230,
     "metadata": {},
     "output_type": "execute_result"
    }
   ],
   "source": [
    "df_copy.BP1_36_03.value_counts()"
   ]
  },
  {
   "cell_type": "code",
   "execution_count": 231,
   "metadata": {},
   "outputs": [
    {
     "data": {
      "text/plain": [
       "99     18436\n",
       "0\\r    14307\n",
       "1\\r    11887\n",
       "Name: BP1_36_04, dtype: int64"
      ]
     },
     "execution_count": 231,
     "metadata": {},
     "output_type": "execute_result"
    }
   ],
   "source": [
    "df_copy.BP1_36_04.value_counts()"
   ]
  },
  {
   "cell_type": "code",
   "execution_count": 232,
   "metadata": {},
   "outputs": [],
   "source": [
    "df_copy.BP1_36_04.replace({'1\\r':1,'0\\r':0,'99':99}, inplace=True)"
   ]
  },
  {
   "cell_type": "code",
   "execution_count": 233,
   "metadata": {},
   "outputs": [
    {
     "data": {
      "text/plain": [
       "99    18436\n",
       "0     14307\n",
       "1     11887\n",
       "Name: BP1_36_04, dtype: int64"
      ]
     },
     "execution_count": 233,
     "metadata": {},
     "output_type": "execute_result"
    }
   ],
   "source": [
    "df_copy.BP1_36_04.value_counts()"
   ]
  },
  {
   "cell_type": "code",
   "execution_count": 234,
   "metadata": {},
   "outputs": [
    {
     "data": {
      "text/plain": [
       "0\\r    22510\n",
       "99     18436\n",
       "1\\r     3684\n",
       "Name: BP1_36_05, dtype: int64"
      ]
     },
     "execution_count": 234,
     "metadata": {},
     "output_type": "execute_result"
    }
   ],
   "source": [
    "df_copy.BP1_36_05.value_counts()"
   ]
  },
  {
   "cell_type": "code",
   "execution_count": 235,
   "metadata": {},
   "outputs": [],
   "source": [
    "df_copy.BP1_36_05.replace({'1\\r':1,'0\\r':0,'99':99}, inplace=True)"
   ]
  },
  {
   "cell_type": "code",
   "execution_count": 236,
   "metadata": {},
   "outputs": [
    {
     "data": {
      "text/plain": [
       "0     22510\n",
       "99    18436\n",
       "1      3684\n",
       "Name: BP1_36_05, dtype: int64"
      ]
     },
     "execution_count": 236,
     "metadata": {},
     "output_type": "execute_result"
    }
   ],
   "source": [
    "df_copy.BP1_36_05.value_counts()"
   ]
  },
  {
   "cell_type": "code",
   "execution_count": 237,
   "metadata": {},
   "outputs": [
    {
     "data": {
      "text/plain": [
       "0\\r    19878\n",
       "99     18436\n",
       "1\\r     6316\n",
       "Name: BP1_36_06, dtype: int64"
      ]
     },
     "execution_count": 237,
     "metadata": {},
     "output_type": "execute_result"
    }
   ],
   "source": [
    "df_copy.BP1_36_06.value_counts()"
   ]
  },
  {
   "cell_type": "code",
   "execution_count": 238,
   "metadata": {},
   "outputs": [],
   "source": [
    "df_copy.BP1_36_06.replace({'1\\r':1,'0\\r':0,'99':99}, inplace=True)"
   ]
  },
  {
   "cell_type": "code",
   "execution_count": 239,
   "metadata": {},
   "outputs": [
    {
     "data": {
      "text/plain": [
       "0     19878\n",
       "99    18436\n",
       "1      6316\n",
       "Name: BP1_36_06, dtype: int64"
      ]
     },
     "execution_count": 239,
     "metadata": {},
     "output_type": "execute_result"
    }
   ],
   "source": [
    "df_copy.BP1_36_06.value_counts()"
   ]
  },
  {
   "cell_type": "code",
   "execution_count": 240,
   "metadata": {},
   "outputs": [
    {
     "data": {
      "text/plain": [
       "0\\r    20885\n",
       "99     18436\n",
       "1\\r     5309\n",
       "Name: BP1_36_07, dtype: int64"
      ]
     },
     "execution_count": 240,
     "metadata": {},
     "output_type": "execute_result"
    }
   ],
   "source": [
    "df_copy.BP1_36_07.value_counts()"
   ]
  },
  {
   "cell_type": "code",
   "execution_count": 241,
   "metadata": {},
   "outputs": [],
   "source": [
    "df_copy.BP1_36_07.replace({'1\\r':1,'0\\r':0,'99':99}, inplace=True)"
   ]
  },
  {
   "cell_type": "code",
   "execution_count": 242,
   "metadata": {},
   "outputs": [
    {
     "data": {
      "text/plain": [
       "0     20885\n",
       "99    18436\n",
       "1      5309\n",
       "Name: BP1_36_07, dtype: int64"
      ]
     },
     "execution_count": 242,
     "metadata": {},
     "output_type": "execute_result"
    }
   ],
   "source": [
    "df_copy.BP1_36_07.value_counts()"
   ]
  },
  {
   "cell_type": "code",
   "execution_count": 243,
   "metadata": {},
   "outputs": [
    {
     "data": {
      "text/plain": [
       "99     18436\n",
       "0\\r    14627\n",
       "1\\r    11567\n",
       "Name: BP1_36_08, dtype: int64"
      ]
     },
     "execution_count": 243,
     "metadata": {},
     "output_type": "execute_result"
    }
   ],
   "source": [
    "df_copy.BP1_36_08.value_counts()"
   ]
  },
  {
   "cell_type": "code",
   "execution_count": 244,
   "metadata": {},
   "outputs": [],
   "source": [
    "df_copy.BP1_36_08.replace({'1\\r':1,'0\\r':0,'99':99}, inplace=True)"
   ]
  },
  {
   "cell_type": "code",
   "execution_count": 245,
   "metadata": {},
   "outputs": [
    {
     "data": {
      "text/plain": [
       "99    18436\n",
       "0     14627\n",
       "1     11567\n",
       "Name: BP1_36_08, dtype: int64"
      ]
     },
     "execution_count": 245,
     "metadata": {},
     "output_type": "execute_result"
    }
   ],
   "source": [
    "df_copy.BP1_36_08.value_counts()"
   ]
  },
  {
   "cell_type": "code",
   "execution_count": 246,
   "metadata": {},
   "outputs": [
    {
     "data": {
      "text/plain": [
       "99     18436\n",
       "1\\r    14536\n",
       "0\\r    11658\n",
       "Name: BP1_36_09, dtype: int64"
      ]
     },
     "execution_count": 246,
     "metadata": {},
     "output_type": "execute_result"
    }
   ],
   "source": [
    "df_copy.BP1_36_09.value_counts()"
   ]
  },
  {
   "cell_type": "code",
   "execution_count": 247,
   "metadata": {},
   "outputs": [],
   "source": [
    "df_copy.BP1_36_09.replace({'1\\r':1,'0\\r':0,'99':99}, inplace=True)"
   ]
  },
  {
   "cell_type": "code",
   "execution_count": 248,
   "metadata": {},
   "outputs": [
    {
     "data": {
      "text/plain": [
       "99    18436\n",
       "1     14536\n",
       "0     11658\n",
       "Name: BP1_36_09, dtype: int64"
      ]
     },
     "execution_count": 248,
     "metadata": {},
     "output_type": "execute_result"
    }
   ],
   "source": [
    "df_copy.BP1_36_09.value_counts()"
   ]
  },
  {
   "cell_type": "code",
   "execution_count": 249,
   "metadata": {},
   "outputs": [
    {
     "data": {
      "text/plain": [
       "0\\r    25239\n",
       "99     18436\n",
       "1\\r      955\n",
       "Name: BP1_36_10, dtype: int64"
      ]
     },
     "execution_count": 249,
     "metadata": {},
     "output_type": "execute_result"
    }
   ],
   "source": [
    "df_copy.BP1_36_10.value_counts()"
   ]
  },
  {
   "cell_type": "code",
   "execution_count": 250,
   "metadata": {},
   "outputs": [],
   "source": [
    "df_copy.BP1_36_10.replace({'1\\r':1,'0\\r':0,'99':99}, inplace=True)"
   ]
  },
  {
   "cell_type": "code",
   "execution_count": 251,
   "metadata": {},
   "outputs": [
    {
     "data": {
      "text/plain": [
       "0     25239\n",
       "99    18436\n",
       "1       955\n",
       "Name: BP1_36_10, dtype: int64"
      ]
     },
     "execution_count": 251,
     "metadata": {},
     "output_type": "execute_result"
    }
   ],
   "source": [
    "df_copy.BP1_36_10.value_counts()"
   ]
  },
  {
   "cell_type": "code",
   "execution_count": 252,
   "metadata": {},
   "outputs": [
    {
     "data": {
      "text/plain": [
       "0\\r    25464\n",
       "99     18436\n",
       "1\\r      730\n",
       "Name: BP1_36_11, dtype: int64"
      ]
     },
     "execution_count": 252,
     "metadata": {},
     "output_type": "execute_result"
    }
   ],
   "source": [
    "df_copy.BP1_36_11.value_counts()"
   ]
  },
  {
   "cell_type": "code",
   "execution_count": 253,
   "metadata": {},
   "outputs": [],
   "source": [
    "df_copy.BP1_36_11.replace({'1\\r':1,'0\\r':0,'99':99}, inplace=True)"
   ]
  },
  {
   "cell_type": "code",
   "execution_count": 254,
   "metadata": {},
   "outputs": [
    {
     "data": {
      "text/plain": [
       "0     25464\n",
       "99    18436\n",
       "1       730\n",
       "Name: BP1_36_11, dtype: int64"
      ]
     },
     "execution_count": 254,
     "metadata": {},
     "output_type": "execute_result"
    }
   ],
   "source": [
    "df_copy.BP1_36_11.value_counts()"
   ]
  },
  {
   "cell_type": "code",
   "execution_count": 255,
   "metadata": {},
   "outputs": [
    {
     "data": {
      "text/plain": [
       "0\\r    25967\n",
       "99     18436\n",
       "1\\r      227\n",
       "Name: BP1_36_99, dtype: int64"
      ]
     },
     "execution_count": 255,
     "metadata": {},
     "output_type": "execute_result"
    }
   ],
   "source": [
    "df_copy.BP1_36_99.value_counts()"
   ]
  },
  {
   "cell_type": "code",
   "execution_count": 256,
   "metadata": {},
   "outputs": [],
   "source": [
    "df_copy.BP1_36_99.replace({'1\\r':1,'0\\r':0,'99':99}, inplace=True)"
   ]
  },
  {
   "cell_type": "code",
   "execution_count": 257,
   "metadata": {},
   "outputs": [
    {
     "data": {
      "text/plain": [
       "0     25967\n",
       "99    18436\n",
       "1       227\n",
       "Name: BP1_36_99, dtype: int64"
      ]
     },
     "execution_count": 257,
     "metadata": {},
     "output_type": "execute_result"
    }
   ],
   "source": [
    "df_copy.BP1_36_99.value_counts()"
   ]
  },
  {
   "cell_type": "code",
   "execution_count": 258,
   "metadata": {},
   "outputs": [
    {
     "data": {
      "text/plain": [
       "99     43524\n",
       "2\\r      772\n",
       "1\\r      323\n",
       "9\\r       11\n",
       "Name: BP2_1, dtype: int64"
      ]
     },
     "execution_count": 258,
     "metadata": {},
     "output_type": "execute_result"
    }
   ],
   "source": [
    "df_copy.BP2_1.value_counts()"
   ]
  },
  {
   "cell_type": "code",
   "execution_count": 259,
   "metadata": {},
   "outputs": [],
   "source": [
    "df_copy.BP2_1.replace({'1\\r':1,'2\\r':2,'99':99,'9\\r':99}, inplace=True)"
   ]
  },
  {
   "cell_type": "code",
   "execution_count": 260,
   "metadata": {},
   "outputs": [
    {
     "data": {
      "text/plain": [
       "99    43535\n",
       "2       772\n",
       "1       323\n",
       "Name: BP2_1, dtype: int64"
      ]
     },
     "execution_count": 260,
     "metadata": {},
     "output_type": "execute_result"
    }
   ],
   "source": [
    "df_copy.BP2_1.value_counts()"
   ]
  },
  {
   "cell_type": "code",
   "execution_count": 261,
   "metadata": {},
   "outputs": [
    {
     "data": {
      "text/plain": [
       "99     31181\n",
       "0\\r    13189\n",
       "1\\r      260\n",
       "Name: BP3_1_01, dtype: int64"
      ]
     },
     "execution_count": 261,
     "metadata": {},
     "output_type": "execute_result"
    }
   ],
   "source": [
    "df_copy.BP3_1_01.value_counts()"
   ]
  },
  {
   "cell_type": "code",
   "execution_count": 262,
   "metadata": {},
   "outputs": [],
   "source": [
    "df_copy.BP3_1_01.replace({'1\\r':1,'0\\r':0,'99':99}, inplace=True)"
   ]
  },
  {
   "cell_type": "code",
   "execution_count": 263,
   "metadata": {},
   "outputs": [
    {
     "data": {
      "text/plain": [
       "99    31181\n",
       "0     13189\n",
       "1       260\n",
       "Name: BP3_1_01, dtype: int64"
      ]
     },
     "execution_count": 263,
     "metadata": {},
     "output_type": "execute_result"
    }
   ],
   "source": [
    "df_copy.BP3_1_01.value_counts()"
   ]
  },
  {
   "cell_type": "code",
   "execution_count": 264,
   "metadata": {},
   "outputs": [],
   "source": [
    "df_copy.BP3_1_02.replace({'1\\r':1,'0\\r':0,'99':99}, inplace=True)"
   ]
  },
  {
   "cell_type": "code",
   "execution_count": 265,
   "metadata": {},
   "outputs": [
    {
     "data": {
      "text/plain": [
       "99    31181\n",
       "0     12970\n",
       "1       479\n",
       "Name: BP3_1_02, dtype: int64"
      ]
     },
     "execution_count": 265,
     "metadata": {},
     "output_type": "execute_result"
    }
   ],
   "source": [
    "df_copy.BP3_1_02.value_counts()"
   ]
  },
  {
   "cell_type": "code",
   "execution_count": 266,
   "metadata": {},
   "outputs": [
    {
     "data": {
      "text/plain": [
       "99     31181\n",
       "0\\r    11572\n",
       "1\\r     1877\n",
       "Name: BP3_1_03, dtype: int64"
      ]
     },
     "execution_count": 266,
     "metadata": {},
     "output_type": "execute_result"
    }
   ],
   "source": [
    "df_copy.BP3_1_03.value_counts()"
   ]
  },
  {
   "cell_type": "code",
   "execution_count": 267,
   "metadata": {},
   "outputs": [],
   "source": [
    "df_copy.BP3_1_03.replace({'1\\r':1,'0\\r':0,'99':99}, inplace=True)"
   ]
  },
  {
   "cell_type": "code",
   "execution_count": 268,
   "metadata": {},
   "outputs": [
    {
     "data": {
      "text/plain": [
       "99    31181\n",
       "0     11572\n",
       "1      1877\n",
       "Name: BP3_1_03, dtype: int64"
      ]
     },
     "execution_count": 268,
     "metadata": {},
     "output_type": "execute_result"
    }
   ],
   "source": [
    "df_copy.BP3_1_03.value_counts()"
   ]
  },
  {
   "cell_type": "code",
   "execution_count": 269,
   "metadata": {},
   "outputs": [
    {
     "data": {
      "text/plain": [
       "99     31181\n",
       "0\\r    12467\n",
       "1\\r      982\n",
       "Name: BP3_1_04, dtype: int64"
      ]
     },
     "execution_count": 269,
     "metadata": {},
     "output_type": "execute_result"
    }
   ],
   "source": [
    "df_copy.BP3_1_04.value_counts()"
   ]
  },
  {
   "cell_type": "code",
   "execution_count": 270,
   "metadata": {},
   "outputs": [],
   "source": [
    "df_copy.BP3_1_04.replace({'1\\r':1,'0\\r':0,'99':99}, inplace=True)"
   ]
  },
  {
   "cell_type": "code",
   "execution_count": 271,
   "metadata": {},
   "outputs": [
    {
     "data": {
      "text/plain": [
       "99    31181\n",
       "0     12467\n",
       "1       982\n",
       "Name: BP3_1_04, dtype: int64"
      ]
     },
     "execution_count": 271,
     "metadata": {},
     "output_type": "execute_result"
    }
   ],
   "source": [
    "df_copy.BP3_1_04.value_counts()"
   ]
  },
  {
   "cell_type": "code",
   "execution_count": 272,
   "metadata": {},
   "outputs": [
    {
     "data": {
      "text/plain": [
       "99     31181\n",
       "0\\r    12543\n",
       "1\\r      906\n",
       "Name: BP3_1_05, dtype: int64"
      ]
     },
     "execution_count": 272,
     "metadata": {},
     "output_type": "execute_result"
    }
   ],
   "source": [
    "df_copy.BP3_1_05.value_counts()"
   ]
  },
  {
   "cell_type": "code",
   "execution_count": 273,
   "metadata": {},
   "outputs": [],
   "source": [
    "df_copy.BP3_1_05.replace({'1\\r':1,'0\\r':0,'99':99}, inplace=True)"
   ]
  },
  {
   "cell_type": "code",
   "execution_count": 274,
   "metadata": {},
   "outputs": [
    {
     "data": {
      "text/plain": [
       "99    31181\n",
       "0     12543\n",
       "1       906\n",
       "Name: BP3_1_05, dtype: int64"
      ]
     },
     "execution_count": 274,
     "metadata": {},
     "output_type": "execute_result"
    }
   ],
   "source": [
    "df_copy.BP3_1_05.value_counts()"
   ]
  },
  {
   "cell_type": "code",
   "execution_count": 275,
   "metadata": {},
   "outputs": [
    {
     "data": {
      "text/plain": [
       "99     31181\n",
       "0\\r    12144\n",
       "1\\r     1305\n",
       "Name: BP3_1_06, dtype: int64"
      ]
     },
     "execution_count": 275,
     "metadata": {},
     "output_type": "execute_result"
    }
   ],
   "source": [
    "df_copy.BP3_1_06.value_counts()"
   ]
  },
  {
   "cell_type": "code",
   "execution_count": 276,
   "metadata": {},
   "outputs": [
    {
     "data": {
      "text/plain": [
       "99    31181\n",
       "0     12144\n",
       "1      1305\n",
       "Name: BP3_1_06, dtype: int64"
      ]
     },
     "execution_count": 276,
     "metadata": {},
     "output_type": "execute_result"
    }
   ],
   "source": [
    "df_copy.BP3_1_06.replace({'1\\r':1,'0\\r':0,'99':99}, inplace=True)\n",
    "df_copy.BP3_1_06.value_counts()"
   ]
  },
  {
   "cell_type": "code",
   "execution_count": 277,
   "metadata": {},
   "outputs": [
    {
     "data": {
      "text/plain": [
       "99     31181\n",
       "0\\r     8264\n",
       "1\\r     5185\n",
       "Name: BP3_1_07, dtype: int64"
      ]
     },
     "execution_count": 277,
     "metadata": {},
     "output_type": "execute_result"
    }
   ],
   "source": [
    "df_copy.BP3_1_07.value_counts()"
   ]
  },
  {
   "cell_type": "code",
   "execution_count": 278,
   "metadata": {},
   "outputs": [
    {
     "data": {
      "text/plain": [
       "99    31181\n",
       "0      8264\n",
       "1      5185\n",
       "Name: BP3_1_07, dtype: int64"
      ]
     },
     "execution_count": 278,
     "metadata": {},
     "output_type": "execute_result"
    }
   ],
   "source": [
    "df_copy.BP3_1_07.replace({'1\\r':1,'0\\r':0,'99':99}, inplace=True)\n",
    "df_copy.BP3_1_07.value_counts()"
   ]
  },
  {
   "cell_type": "code",
   "execution_count": 279,
   "metadata": {},
   "outputs": [
    {
     "data": {
      "text/plain": [
       "99     31181\n",
       "0\\r    12721\n",
       "1\\r      728\n",
       "Name: BP3_1_08, dtype: int64"
      ]
     },
     "execution_count": 279,
     "metadata": {},
     "output_type": "execute_result"
    }
   ],
   "source": [
    "df_copy.BP3_1_08.value_counts()"
   ]
  },
  {
   "cell_type": "code",
   "execution_count": 280,
   "metadata": {},
   "outputs": [
    {
     "data": {
      "text/plain": [
       "99    31181\n",
       "0     12721\n",
       "1       728\n",
       "Name: BP3_1_08, dtype: int64"
      ]
     },
     "execution_count": 280,
     "metadata": {},
     "output_type": "execute_result"
    }
   ],
   "source": [
    "df_copy.BP3_1_08.replace({'1\\r':1,'0\\r':0,'99':99}, inplace=True)\n",
    "df_copy.BP3_1_08.value_counts()"
   ]
  },
  {
   "cell_type": "code",
   "execution_count": 281,
   "metadata": {},
   "outputs": [
    {
     "data": {
      "text/plain": [
       "99     31181\n",
       "0\\r    10009\n",
       "1\\r     3440\n",
       "Name: BP3_1_09, dtype: int64"
      ]
     },
     "execution_count": 281,
     "metadata": {},
     "output_type": "execute_result"
    }
   ],
   "source": [
    "df_copy.BP3_1_09.value_counts()"
   ]
  },
  {
   "cell_type": "code",
   "execution_count": 282,
   "metadata": {},
   "outputs": [
    {
     "data": {
      "text/plain": [
       "99    31181\n",
       "0     10009\n",
       "1      3440\n",
       "Name: BP3_1_09, dtype: int64"
      ]
     },
     "execution_count": 282,
     "metadata": {},
     "output_type": "execute_result"
    }
   ],
   "source": [
    "df_copy.BP3_1_09.replace({'1\\r':1,'0\\r':0,'99':99}, inplace=True)\n",
    "df_copy.BP3_1_09.value_counts()"
   ]
  },
  {
   "cell_type": "code",
   "execution_count": 283,
   "metadata": {},
   "outputs": [
    {
     "data": {
      "text/plain": [
       "99     31181\n",
       "0\\r    12836\n",
       "1\\r      613\n",
       "Name: BP3_1_10, dtype: int64"
      ]
     },
     "execution_count": 283,
     "metadata": {},
     "output_type": "execute_result"
    }
   ],
   "source": [
    "df_copy.BP3_1_10.value_counts()"
   ]
  },
  {
   "cell_type": "code",
   "execution_count": 284,
   "metadata": {},
   "outputs": [
    {
     "data": {
      "text/plain": [
       "99    31181\n",
       "0     12836\n",
       "1       613\n",
       "Name: BP3_1_10, dtype: int64"
      ]
     },
     "execution_count": 284,
     "metadata": {},
     "output_type": "execute_result"
    }
   ],
   "source": [
    "df_copy.BP3_1_10.replace({'1\\r':1,'0\\r':0,'99':99}, inplace=True)\n",
    "df_copy.BP3_1_10.value_counts()"
   ]
  },
  {
   "cell_type": "code",
   "execution_count": 285,
   "metadata": {},
   "outputs": [
    {
     "data": {
      "text/plain": [
       "99     31181\n",
       "0\\r    10843\n",
       "1\\r     2606\n",
       "Name: BP3_1_11, dtype: int64"
      ]
     },
     "execution_count": 285,
     "metadata": {},
     "output_type": "execute_result"
    }
   ],
   "source": [
    "df_copy.BP3_1_11.value_counts()"
   ]
  },
  {
   "cell_type": "code",
   "execution_count": 286,
   "metadata": {},
   "outputs": [
    {
     "data": {
      "text/plain": [
       "99    31181\n",
       "0     10843\n",
       "1      2606\n",
       "Name: BP3_1_11, dtype: int64"
      ]
     },
     "execution_count": 286,
     "metadata": {},
     "output_type": "execute_result"
    }
   ],
   "source": [
    "df_copy.BP3_1_11.replace({'1\\r':1,'0\\r':0,'99':99}, inplace=True)\n",
    "df_copy.BP3_1_11.value_counts()"
   ]
  },
  {
   "cell_type": "code",
   "execution_count": 287,
   "metadata": {},
   "outputs": [
    {
     "data": {
      "text/plain": [
       "99     31181\n",
       "0\\r    11482\n",
       "1\\r     1967\n",
       "Name: BP3_1_12, dtype: int64"
      ]
     },
     "execution_count": 287,
     "metadata": {},
     "output_type": "execute_result"
    }
   ],
   "source": [
    "df_copy.BP3_1_12.value_counts()"
   ]
  },
  {
   "cell_type": "code",
   "execution_count": 288,
   "metadata": {},
   "outputs": [
    {
     "data": {
      "text/plain": [
       "99    31181\n",
       "0     11482\n",
       "1      1967\n",
       "Name: BP3_1_12, dtype: int64"
      ]
     },
     "execution_count": 288,
     "metadata": {},
     "output_type": "execute_result"
    }
   ],
   "source": [
    "df_copy.BP3_1_12.replace({'1\\r':1,'0\\r':0,'99':99}, inplace=True)\n",
    "df_copy.BP3_1_12.value_counts()"
   ]
  },
  {
   "cell_type": "code",
   "execution_count": 289,
   "metadata": {},
   "outputs": [
    {
     "data": {
      "text/plain": [
       "99     31181\n",
       "0\\r    13301\n",
       "1\\r      148\n",
       "Name: BP3_1_99, dtype: int64"
      ]
     },
     "execution_count": 289,
     "metadata": {},
     "output_type": "execute_result"
    }
   ],
   "source": [
    "df_copy.BP3_1_99.value_counts()"
   ]
  },
  {
   "cell_type": "code",
   "execution_count": 290,
   "metadata": {},
   "outputs": [
    {
     "data": {
      "text/plain": [
       "99    31181\n",
       "0     13301\n",
       "1       148\n",
       "Name: BP3_1_99, dtype: int64"
      ]
     },
     "execution_count": 290,
     "metadata": {},
     "output_type": "execute_result"
    }
   ],
   "source": [
    "df_copy.BP3_1_99.replace({'1\\r':1,'0\\r':0,'99':99}, inplace=True)\n",
    "df_copy.BP3_1_99.value_counts()"
   ]
  },
  {
   "cell_type": "code",
   "execution_count": 291,
   "metadata": {},
   "outputs": [
    {
     "data": {
      "text/plain": [
       "99     38831\n",
       "2\\r     3768\n",
       "1\\r     1991\n",
       "9\\r       40\n",
       "Name: BP3_2, dtype: int64"
      ]
     },
     "execution_count": 291,
     "metadata": {},
     "output_type": "execute_result"
    }
   ],
   "source": [
    "df_copy.BP3_2.value_counts()"
   ]
  },
  {
   "cell_type": "code",
   "execution_count": 292,
   "metadata": {},
   "outputs": [
    {
     "data": {
      "text/plain": [
       "99    38871\n",
       "2      3768\n",
       "1      1991\n",
       "Name: BP3_2, dtype: int64"
      ]
     },
     "execution_count": 292,
     "metadata": {},
     "output_type": "execute_result"
    }
   ],
   "source": [
    "df_copy.BP3_2.replace({'1\\r':1,'2\\r':2,'99':99,'9\\r':99}, inplace=True)\n",
    "df_copy.BP3_2.value_counts()"
   ]
  },
  {
   "cell_type": "code",
   "execution_count": 293,
   "metadata": {},
   "outputs": [
    {
     "data": {
      "text/plain": [
       "99     40744\n",
       "1\\r     1882\n",
       "4\\r     1429\n",
       "3\\r      452\n",
       "5\\r       59\n",
       "6\\r       23\n",
       "9\\r       21\n",
       "2\\r       20\n",
       "Name: BP4_1, dtype: int64"
      ]
     },
     "execution_count": 293,
     "metadata": {},
     "output_type": "execute_result"
    }
   ],
   "source": [
    "df_copy.BP4_1.value_counts()"
   ]
  },
  {
   "cell_type": "code",
   "execution_count": 294,
   "metadata": {},
   "outputs": [
    {
     "data": {
      "text/plain": [
       "99    40765\n",
       "1      1882\n",
       "4      1429\n",
       "3       452\n",
       "5        59\n",
       "6        23\n",
       "2        20\n",
       "Name: BP4_1, dtype: int64"
      ]
     },
     "execution_count": 294,
     "metadata": {},
     "output_type": "execute_result"
    }
   ],
   "source": [
    "df_copy.BP4_1.replace({'1\\r':1,'2\\r':2,'3\\r':3,'4\\r':4,'5\\r':5,'6\\r':6,'99':99,'9\\r':99}, inplace=True)\n",
    "df_copy.BP4_1.value_counts()"
   ]
  },
  {
   "cell_type": "code",
   "execution_count": 295,
   "metadata": {},
   "outputs": [
    {
     "data": {
      "text/plain": [
       "99     37244\n",
       "1\\r     7008\n",
       "4\\r      185\n",
       "7\\r       70\n",
       "5\\r       44\n",
       "2\\r       35\n",
       "6\\r       19\n",
       "9\\r       14\n",
       "3\\r       11\n",
       "Name: BP5_1, dtype: int64"
      ]
     },
     "execution_count": 295,
     "metadata": {},
     "output_type": "execute_result"
    }
   ],
   "source": [
    "df_copy.BP5_1.value_counts()"
   ]
  },
  {
   "cell_type": "code",
   "execution_count": 296,
   "metadata": {},
   "outputs": [
    {
     "data": {
      "text/plain": [
       "99    37258\n",
       "1      7008\n",
       "4       185\n",
       "7        70\n",
       "5        44\n",
       "2        35\n",
       "6        19\n",
       "3        11\n",
       "Name: BP5_1, dtype: int64"
      ]
     },
     "execution_count": 296,
     "metadata": {},
     "output_type": "execute_result"
    }
   ],
   "source": [
    "df_copy.BP5_1.replace({'1\\r':1,'2\\r':2,'3\\r':3,'4\\r':4,'5\\r':5,'6\\r':6,'7\\r':7,'99':99,'9\\r':99}, inplace=True)\n",
    "df_copy.BP5_1.value_counts()"
   ]
  },
  {
   "cell_type": "code",
   "execution_count": 297,
   "metadata": {},
   "outputs": [
    {
     "data": {
      "text/plain": [
       "99     37244\n",
       "1\\r     5040\n",
       "0\\r     2343\n",
       "9\\r        3\n",
       "Name: BP5_2_1, dtype: int64"
      ]
     },
     "execution_count": 297,
     "metadata": {},
     "output_type": "execute_result"
    }
   ],
   "source": [
    "df_copy.BP5_2_1.value_counts()"
   ]
  },
  {
   "cell_type": "code",
   "execution_count": 298,
   "metadata": {},
   "outputs": [
    {
     "data": {
      "text/plain": [
       "99    37247\n",
       "1      5040\n",
       "0      2343\n",
       "Name: BP5_2_1, dtype: int64"
      ]
     },
     "execution_count": 298,
     "metadata": {},
     "output_type": "execute_result"
    }
   ],
   "source": [
    "df_copy.BP5_2_1.replace({'1\\r':1,'0\\r':0,'99':99,'9\\r':99}, inplace=True)\n",
    "df_copy.BP5_2_1.value_counts()"
   ]
  },
  {
   "cell_type": "code",
   "execution_count": 299,
   "metadata": {},
   "outputs": [
    {
     "data": {
      "text/plain": [
       "99     37244\n",
       "0\\r     7252\n",
       "1\\r      131\n",
       "9\\r        3\n",
       "Name: BP5_2_2, dtype: int64"
      ]
     },
     "execution_count": 299,
     "metadata": {},
     "output_type": "execute_result"
    }
   ],
   "source": [
    "df_copy.BP5_2_2.value_counts()"
   ]
  },
  {
   "cell_type": "code",
   "execution_count": 300,
   "metadata": {},
   "outputs": [
    {
     "data": {
      "text/plain": [
       "99    37247\n",
       "0      7252\n",
       "1       131\n",
       "Name: BP5_2_2, dtype: int64"
      ]
     },
     "execution_count": 300,
     "metadata": {},
     "output_type": "execute_result"
    }
   ],
   "source": [
    "df_copy.BP5_2_2.replace({'1\\r':1,'0\\r':0,'99':99,'9\\r':99}, inplace=True)\n",
    "df_copy.BP5_2_2.value_counts()"
   ]
  },
  {
   "cell_type": "code",
   "execution_count": 301,
   "metadata": {},
   "outputs": [
    {
     "data": {
      "text/plain": [
       "99     37244\n",
       "0\\r     7168\n",
       "1\\r      215\n",
       "9\\r        3\n",
       "Name: BP5_2_3, dtype: int64"
      ]
     },
     "execution_count": 301,
     "metadata": {},
     "output_type": "execute_result"
    }
   ],
   "source": [
    "df_copy.BP5_2_3.value_counts()"
   ]
  },
  {
   "cell_type": "code",
   "execution_count": 302,
   "metadata": {},
   "outputs": [
    {
     "data": {
      "text/plain": [
       "99    37247\n",
       "0      7168\n",
       "1       215\n",
       "Name: BP5_2_3, dtype: int64"
      ]
     },
     "execution_count": 302,
     "metadata": {},
     "output_type": "execute_result"
    }
   ],
   "source": [
    "df_copy.BP5_2_3.replace({'1\\r':1,'0\\r':0,'99':99,'9\\r':99}, inplace=True)\n",
    "df_copy.BP5_2_3.value_counts()"
   ]
  },
  {
   "cell_type": "code",
   "execution_count": 303,
   "metadata": {},
   "outputs": [
    {
     "data": {
      "text/plain": [
       "99     37244\n",
       "0\\r     5314\n",
       "1\\r     2069\n",
       "9\\r        3\n",
       "Name: BP5_2_4, dtype: int64"
      ]
     },
     "execution_count": 303,
     "metadata": {},
     "output_type": "execute_result"
    }
   ],
   "source": [
    "df_copy.BP5_2_4.value_counts()"
   ]
  },
  {
   "cell_type": "code",
   "execution_count": 304,
   "metadata": {},
   "outputs": [
    {
     "data": {
      "text/plain": [
       "99    37247\n",
       "0      5314\n",
       "1      2069\n",
       "Name: BP5_2_4, dtype: int64"
      ]
     },
     "execution_count": 304,
     "metadata": {},
     "output_type": "execute_result"
    }
   ],
   "source": [
    "df_copy.BP5_2_4.replace({'1\\r':1,'0\\r':0,'99':99,'9\\r':99}, inplace=True)\n",
    "df_copy.BP5_2_4.value_counts()"
   ]
  },
  {
   "cell_type": "code",
   "execution_count": 305,
   "metadata": {},
   "outputs": [
    {
     "data": {
      "text/plain": [
       "99     39313\n",
       "3\\r     4937\n",
       "1\\r      231\n",
       "2\\r      125\n",
       "9\\r       24\n",
       "Name: BP5_3, dtype: int64"
      ]
     },
     "execution_count": 305,
     "metadata": {},
     "output_type": "execute_result"
    }
   ],
   "source": [
    "df_copy.BP5_3.value_counts()"
   ]
  },
  {
   "cell_type": "code",
   "execution_count": 306,
   "metadata": {},
   "outputs": [
    {
     "data": {
      "text/plain": [
       "99    39337\n",
       "3      4937\n",
       "1       231\n",
       "2       125\n",
       "Name: BP5_3, dtype: int64"
      ]
     },
     "execution_count": 306,
     "metadata": {},
     "output_type": "execute_result"
    }
   ],
   "source": [
    "df_copy.BP5_3.replace({'1\\r':1,'2\\r':2,'3\\r':3,'99':99,'9\\r':99}, inplace=True)\n",
    "df_copy.BP5_3.value_counts()"
   ]
  },
  {
   "cell_type": "code",
   "execution_count": 307,
   "metadata": {},
   "outputs": [
    {
     "data": {
      "text/plain": [
       "99     44554\n",
       "2\\r       24\n",
       "1\\r       21\n",
       "3\\r       15\n",
       "9\\r       12\n",
       "4\\r        4\n",
       "Name: BP6_1, dtype: int64"
      ]
     },
     "execution_count": 307,
     "metadata": {},
     "output_type": "execute_result"
    }
   ],
   "source": [
    "df_copy.BP6_1.value_counts()"
   ]
  },
  {
   "cell_type": "code",
   "execution_count": 308,
   "metadata": {},
   "outputs": [
    {
     "data": {
      "text/plain": [
       "99    44566\n",
       "2        24\n",
       "1        21\n",
       "3        15\n",
       "4         4\n",
       "Name: BP6_1, dtype: int64"
      ]
     },
     "execution_count": 308,
     "metadata": {},
     "output_type": "execute_result"
    }
   ],
   "source": [
    "df_copy.BP6_1.replace({'1\\r':1,'2\\r':2,'3\\r':3,'4\\r':4,'99':99,'9\\r':99}, inplace=True)\n",
    "df_copy.BP6_1.value_counts()"
   ]
  },
  {
   "cell_type": "code",
   "execution_count": 309,
   "metadata": {},
   "outputs": [
    {
     "data": {
      "text/plain": [
       "99     44554\n",
       "1\\r       30\n",
       "9\\r       15\n",
       "3\\r       12\n",
       "2\\r       11\n",
       "4\\r        8\n",
       "Name: BP6_2, dtype: int64"
      ]
     },
     "execution_count": 309,
     "metadata": {},
     "output_type": "execute_result"
    }
   ],
   "source": [
    "df_copy.BP6_2.value_counts()"
   ]
  },
  {
   "cell_type": "code",
   "execution_count": 310,
   "metadata": {},
   "outputs": [
    {
     "data": {
      "text/plain": [
       "99    44569\n",
       "1        30\n",
       "3        12\n",
       "2        11\n",
       "4         8\n",
       "Name: BP6_2, dtype: int64"
      ]
     },
     "execution_count": 310,
     "metadata": {},
     "output_type": "execute_result"
    }
   ],
   "source": [
    "df_copy.BP6_2.replace({'1\\r':1,'2\\r':2,'3\\r':3,'4\\r':4,'99':99,'9\\r':99}, inplace=True)\n",
    "df_copy.BP6_2.value_counts()"
   ]
  },
  {
   "cell_type": "code",
   "execution_count": 311,
   "metadata": {},
   "outputs": [
    {
     "data": {
      "text/plain": [
       "99     44617\n",
       "2\\r        8\n",
       "1\\r        3\n",
       "9\\r        2\n",
       "Name: BP6_3, dtype: int64"
      ]
     },
     "execution_count": 311,
     "metadata": {},
     "output_type": "execute_result"
    }
   ],
   "source": [
    "df_copy.BP6_3.value_counts()"
   ]
  },
  {
   "cell_type": "code",
   "execution_count": 312,
   "metadata": {},
   "outputs": [
    {
     "data": {
      "text/plain": [
       "99    44619\n",
       "2         8\n",
       "1         3\n",
       "Name: BP6_3, dtype: int64"
      ]
     },
     "execution_count": 312,
     "metadata": {},
     "output_type": "execute_result"
    }
   ],
   "source": [
    "df_copy.BP6_3.replace({'1\\r':1,'2\\r':2,'99':99,'9\\r':99}, inplace=True)\n",
    "df_copy.BP6_3.value_counts()"
   ]
  },
  {
   "cell_type": "code",
   "execution_count": 313,
   "metadata": {},
   "outputs": [
    {
     "data": {
      "text/plain": [
       "99     43923\n",
       "2\\r      305\n",
       "3\\r      203\n",
       "4\\r      113\n",
       "1\\r       69\n",
       "9\\r       16\n",
       "5\\r        1\n",
       "Name: BP7_1, dtype: int64"
      ]
     },
     "execution_count": 313,
     "metadata": {},
     "output_type": "execute_result"
    }
   ],
   "source": [
    "df_copy.BP7_1.value_counts()"
   ]
  },
  {
   "cell_type": "code",
   "execution_count": 314,
   "metadata": {},
   "outputs": [
    {
     "data": {
      "text/plain": [
       "99    43939\n",
       "2       305\n",
       "3       203\n",
       "4       113\n",
       "1        69\n",
       "5         1\n",
       "Name: BP7_1, dtype: int64"
      ]
     },
     "execution_count": 314,
     "metadata": {},
     "output_type": "execute_result"
    }
   ],
   "source": [
    "df_copy.BP7_1.replace({'1\\r':1,'2\\r':2,'3\\r':3,'4\\r':4,'5\\r':5,'99':99,'9\\r':99}, inplace=True)\n",
    "df_copy.BP7_1.value_counts()"
   ]
  },
  {
   "cell_type": "code",
   "execution_count": 315,
   "metadata": {},
   "outputs": [
    {
     "data": {
      "text/plain": [
       "201      155\n",
       "181      139\n",
       "372      137\n",
       "388      135\n",
       "197      131\n",
       "369      129\n",
       "206      128\n",
       "187      125\n",
       "168      123\n",
       "196      122\n",
       "209      122\n",
       "200      119\n",
       "192      117\n",
       "176      115\n",
       "399      113\n",
       "211      113\n",
       "185      112\n",
       "338      111\n",
       "195      111\n",
       "212      110\n",
       "198      105\n",
       "191      105\n",
       "205      104\n",
       "400      102\n",
       "202      102\n",
       "186      102\n",
       "375      101\n",
       "180      100\n",
       "355      100\n",
       "362       99\n",
       "        ... \n",
       "6701       1\n",
       "2671       1\n",
       "2767       1\n",
       "3151       1\n",
       "1294       1\n",
       "2700       1\n",
       "3471       1\n",
       "1518       1\n",
       "1582       1\n",
       "3631       1\n",
       "5740       1\n",
       "3727       1\n",
       "6477       1\n",
       "4428       1\n",
       "2191       1\n",
       "10315      1\n",
       "1965       1\n",
       "4012       1\n",
       "3596       1\n",
       "7502       1\n",
       "3372       1\n",
       "5359       1\n",
       "5295       1\n",
       "1165       1\n",
       "7278       1\n",
       "2924       1\n",
       "4943       1\n",
       "4879       1\n",
       "2828       1\n",
       "2049       1\n",
       "Name: FAC_DEL, Length: 3113, dtype: int64"
      ]
     },
     "execution_count": 315,
     "metadata": {},
     "output_type": "execute_result"
    }
   ],
   "source": [
    "df_copy.FAC_DEL.value_counts()"
   ]
  },
  {
   "cell_type": "code",
   "execution_count": 316,
   "metadata": {},
   "outputs": [
    {
     "data": {
      "text/plain": [
       "99          17926\n",
       "000201\\r      114\n",
       "000211\\r       89\n",
       "000372\\r       88\n",
       "000400\\r       87\n",
       "000181\\r       84\n",
       "000388\\r       81\n",
       "000200\\r       81\n",
       "000192\\r       80\n",
       "000198\\r       76\n",
       "000187\\r       75\n",
       "000399\\r       74\n",
       "000385\\r       72\n",
       "000197\\r       71\n",
       "000186\\r       71\n",
       "000194\\r       70\n",
       "000196\\r       70\n",
       "000193\\r       70\n",
       "000206\\r       69\n",
       "000202\\r       68\n",
       "000464\\r       68\n",
       "000168\\r       68\n",
       "000405\\r       68\n",
       "000182\\r       67\n",
       "000411\\r       66\n",
       "000338\\r       65\n",
       "000195\\r       65\n",
       "000191\\r       64\n",
       "000458\\r       64\n",
       "000397\\r       64\n",
       "            ...  \n",
       "002465\\r        1\n",
       "002834\\r        1\n",
       "003273\\r        1\n",
       "002339\\r        1\n",
       "002900\\r        1\n",
       "002553\\r        1\n",
       "002464\\r        1\n",
       "002351\\r        1\n",
       "001827\\r        1\n",
       "002371\\r        1\n",
       "011482\\r        1\n",
       "002179\\r        1\n",
       "001717\\r        1\n",
       "001681\\r        1\n",
       "001595\\r        1\n",
       "003711\\r        1\n",
       "003560\\r        1\n",
       "007484\\r        1\n",
       "003558\\r        1\n",
       "002149\\r        1\n",
       "003588\\r        1\n",
       "001866\\r        1\n",
       "003236\\r        1\n",
       "002090\\r        1\n",
       "001838\\r        1\n",
       "003257\\r        1\n",
       "009868\\r        1\n",
       "008338\\r        1\n",
       "006607\\r        1\n",
       "002295\\r        1\n",
       "Name: FAC_DEL_AM, Length: 2842, dtype: int64"
      ]
     },
     "execution_count": 316,
     "metadata": {},
     "output_type": "execute_result"
    }
   ],
   "source": [
    "df_copy.FAC_DEL_AM.value_counts()\n",
    "#Pendiente"
   ]
  },
  {
   "cell_type": "code",
   "execution_count": 317,
   "metadata": {},
   "outputs": [
    {
     "data": {
      "text/plain": [
       "99        17926\n",
       "000201      114\n",
       "000211       89\n",
       "000372       88\n",
       "000400       87\n",
       "000181       84\n",
       "000388       81\n",
       "000200       81\n",
       "000192       80\n",
       "000198       76\n",
       "000187       75\n",
       "000399       74\n",
       "000385       72\n",
       "000197       71\n",
       "000186       71\n",
       "000196       70\n",
       "000193       70\n",
       "000194       70\n",
       "000206       69\n",
       "000405       68\n",
       "000202       68\n",
       "000464       68\n",
       "000168       68\n",
       "000182       67\n",
       "000411       66\n",
       "000338       65\n",
       "000195       65\n",
       "000191       64\n",
       "000177       64\n",
       "000458       64\n",
       "          ...  \n",
       "002161        1\n",
       "003822        1\n",
       "003308        1\n",
       "001589        1\n",
       "002570        1\n",
       "002322        1\n",
       "005370        1\n",
       "001922        1\n",
       "001440        1\n",
       "002870        1\n",
       "004799        1\n",
       "005783        1\n",
       "002010        1\n",
       "001860        1\n",
       "003969        1\n",
       "007561        1\n",
       "007678        1\n",
       "002795        1\n",
       "001208        1\n",
       "009868        1\n",
       "003039        1\n",
       "003162        1\n",
       "004392        1\n",
       "001189        1\n",
       "003409        1\n",
       "004409        1\n",
       "006607        1\n",
       "004486        1\n",
       "010229        1\n",
       "002428        1\n",
       "Name: FAC_DEL_AM, Length: 2842, dtype: int64"
      ]
     },
     "execution_count": 317,
     "metadata": {},
     "output_type": "execute_result"
    }
   ],
   "source": [
    "df_copy.FAC_DEL_AM =  df_copy.FAC_DEL_AM.replace( '\\r', \"\", regex = True  )\n",
    "df_copy.FAC_DEL_AM.value_counts()"
   ]
  },
  {
   "cell_type": "code",
   "execution_count": 318,
   "metadata": {},
   "outputs": [
    {
     "data": {
      "text/plain": [
       "U\\r    30764\n",
       "C\\r     9401\n",
       "R\\r     4465\n",
       "Name: DOMINIO, dtype: int64"
      ]
     },
     "execution_count": 318,
     "metadata": {},
     "output_type": "execute_result"
    }
   ],
   "source": [
    "df_copy.DOMINIO.value_counts()"
   ]
  },
  {
   "cell_type": "code",
   "execution_count": 319,
   "metadata": {},
   "outputs": [
    {
     "data": {
      "text/plain": [
       "U    30764\n",
       "C     9401\n",
       "R     4465\n",
       "Name: DOMINIO, dtype: int64"
      ]
     },
     "execution_count": 319,
     "metadata": {},
     "output_type": "execute_result"
    }
   ],
   "source": [
    "df_copy.DOMINIO.replace({'U\\r':'U','C\\r':'C','R\\r':'R'}, inplace=True)\n",
    "df_copy.DOMINIO.value_counts()"
   ]
  },
  {
   "cell_type": "code",
   "execution_count": 320,
   "metadata": {},
   "outputs": [
    {
     "data": {
      "text/plain": [
       "2    22149\n",
       "3    13095\n",
       "4     5782\n",
       "1     3604\n",
       "Name: ESTRATO, dtype: int64"
      ]
     },
     "execution_count": 320,
     "metadata": {},
     "output_type": "execute_result"
    }
   ],
   "source": [
    "df_copy.ESTRATO.value_counts()"
   ]
  },
  {
   "cell_type": "code",
   "execution_count": 321,
   "metadata": {},
   "outputs": [
    {
     "data": {
      "text/plain": [
       "149    1808\n",
       "148    1345\n",
       "249     897\n",
       "150     714\n",
       "232     639\n",
       "2       483\n",
       "323     481\n",
       "394     410\n",
       "250     366\n",
       "126     365\n",
       "324     364\n",
       "130     340\n",
       "13      336\n",
       "14      334\n",
       "358     327\n",
       "157     324\n",
       "212     323\n",
       "377     320\n",
       "20      313\n",
       "233     309\n",
       "291     305\n",
       "322     297\n",
       "36      296\n",
       "292     296\n",
       "357     289\n",
       "512     286\n",
       "445     284\n",
       "195     281\n",
       "573     278\n",
       "93      267\n",
       "       ... \n",
       "217       4\n",
       "547       4\n",
       "327       4\n",
       "550       4\n",
       "6         3\n",
       "113       3\n",
       "82        3\n",
       "551       3\n",
       "531       3\n",
       "500       3\n",
       "494       3\n",
       "155       3\n",
       "452       3\n",
       "12        3\n",
       "578       3\n",
       "501       2\n",
       "147       2\n",
       "328       2\n",
       "561       2\n",
       "321       2\n",
       "163       2\n",
       "280       2\n",
       "460       2\n",
       "135       2\n",
       "88        2\n",
       "535       2\n",
       "488       2\n",
       "548       1\n",
       "269       1\n",
       "230       1\n",
       "Name: EST_DIS, Length: 591, dtype: int64"
      ]
     },
     "execution_count": 321,
     "metadata": {},
     "output_type": "execute_result"
    }
   ],
   "source": [
    "df_copy.EST_DIS.value_counts()"
   ]
  },
  {
   "cell_type": "code",
   "execution_count": 322,
   "metadata": {},
   "outputs": [
    {
     "data": {
      "text/plain": [
       "6283     33\n",
       "9759     33\n",
       "10801    32\n",
       "10447    32\n",
       "5621     30\n",
       "6249     30\n",
       "6272     29\n",
       "10798    29\n",
       "6782     28\n",
       "7467     28\n",
       "6763     28\n",
       "5610     27\n",
       "6748     27\n",
       "10800    26\n",
       "5398     26\n",
       "6250     26\n",
       "6261     26\n",
       "1019     25\n",
       "11008    25\n",
       "7500     25\n",
       "10948    25\n",
       "12074    25\n",
       "7516     24\n",
       "1041     24\n",
       "6248     24\n",
       "6282     24\n",
       "8742     24\n",
       "3849     23\n",
       "7424     23\n",
       "10799    23\n",
       "         ..\n",
       "9482      1\n",
       "4141      1\n",
       "12043     1\n",
       "12329     1\n",
       "12297     1\n",
       "12267     1\n",
       "8141      1\n",
       "12235     1\n",
       "10154     1\n",
       "8077      1\n",
       "1902      1\n",
       "3919      1\n",
       "1870      1\n",
       "12107     1\n",
       "10058     1\n",
       "3823      1\n",
       "9514      1\n",
       "9962      1\n",
       "7885      1\n",
       "1710      1\n",
       "7821      1\n",
       "9802      1\n",
       "3631      1\n",
       "11755     1\n",
       "11723     1\n",
       "9674      1\n",
       "9642      1\n",
       "11659     1\n",
       "11563     1\n",
       "2049      1\n",
       "Name: UPM_DIS, Length: 11009, dtype: int64"
      ]
     },
     "execution_count": 322,
     "metadata": {},
     "output_type": "execute_result"
    }
   ],
   "source": [
    "df_copy.UPM_DIS.value_counts()"
   ]
  },
  {
   "cell_type": "code",
   "execution_count": 323,
   "metadata": {},
   "outputs": [
    {
     "data": {
      "text/html": [
       "<div>\n",
       "<style scoped>\n",
       "    .dataframe tbody tr th:only-of-type {\n",
       "        vertical-align: middle;\n",
       "    }\n",
       "\n",
       "    .dataframe tbody tr th {\n",
       "        vertical-align: top;\n",
       "    }\n",
       "\n",
       "    .dataframe thead th {\n",
       "        text-align: right;\n",
       "    }\n",
       "</style>\n",
       "<table border=\"1\" class=\"dataframe\">\n",
       "  <thead>\n",
       "    <tr style=\"text-align: right;\">\n",
       "      <th></th>\n",
       "      <th>ID_VIV</th>\n",
       "      <th>ID_HOG</th>\n",
       "      <th>ID_PER</th>\n",
       "      <th>ID_DEL</th>\n",
       "      <th>UPM</th>\n",
       "      <th>VIV_SEL</th>\n",
       "      <th>HOGAR</th>\n",
       "      <th>ND_TIPO</th>\n",
       "      <th>TD_TIPO</th>\n",
       "      <th>BPCOD</th>\n",
       "      <th>...</th>\n",
       "      <th>BP6_1</th>\n",
       "      <th>BP6_2</th>\n",
       "      <th>BP6_3</th>\n",
       "      <th>BP7_1</th>\n",
       "      <th>FAC_DEL</th>\n",
       "      <th>FAC_DEL_AM</th>\n",
       "      <th>DOMINIO</th>\n",
       "      <th>ESTRATO</th>\n",
       "      <th>EST_DIS</th>\n",
       "      <th>UPM_DIS</th>\n",
       "    </tr>\n",
       "  </thead>\n",
       "  <tbody>\n",
       "    <tr>\n",
       "      <th>0</th>\n",
       "      <td>100172.02</td>\n",
       "      <td>0100172.02.01\\r</td>\n",
       "      <td>0100172.02.01.02\\r</td>\n",
       "      <td>0100172.02.01.02.09\\r</td>\n",
       "      <td>100172</td>\n",
       "      <td>2</td>\n",
       "      <td>1</td>\n",
       "      <td>1</td>\n",
       "      <td>1</td>\n",
       "      <td>9</td>\n",
       "      <td>...</td>\n",
       "      <td>99</td>\n",
       "      <td>99</td>\n",
       "      <td>99</td>\n",
       "      <td>99</td>\n",
       "      <td>364</td>\n",
       "      <td>000364</td>\n",
       "      <td>U</td>\n",
       "      <td>3</td>\n",
       "      <td>2</td>\n",
       "      <td>11</td>\n",
       "    </tr>\n",
       "    <tr>\n",
       "      <th>1</th>\n",
       "      <td>100931.01</td>\n",
       "      <td>0100931.01.01\\r</td>\n",
       "      <td>0100931.01.01.01\\r</td>\n",
       "      <td>0100931.01.01.01.03\\r</td>\n",
       "      <td>100931</td>\n",
       "      <td>1</td>\n",
       "      <td>1</td>\n",
       "      <td>1</td>\n",
       "      <td>1</td>\n",
       "      <td>3</td>\n",
       "      <td>...</td>\n",
       "      <td>99</td>\n",
       "      <td>99</td>\n",
       "      <td>99</td>\n",
       "      <td>99</td>\n",
       "      <td>182</td>\n",
       "      <td>000182</td>\n",
       "      <td>U</td>\n",
       "      <td>3</td>\n",
       "      <td>2</td>\n",
       "      <td>111</td>\n",
       "    </tr>\n",
       "    <tr>\n",
       "      <th>2</th>\n",
       "      <td>160114.20</td>\n",
       "      <td>0160114.20.01\\r</td>\n",
       "      <td>0160114.20.01.01\\r</td>\n",
       "      <td>0160114.20.01.01.02\\r</td>\n",
       "      <td>160114</td>\n",
       "      <td>20</td>\n",
       "      <td>1</td>\n",
       "      <td>4</td>\n",
       "      <td>4</td>\n",
       "      <td>2</td>\n",
       "      <td>...</td>\n",
       "      <td>99</td>\n",
       "      <td>99</td>\n",
       "      <td>99</td>\n",
       "      <td>99</td>\n",
       "      <td>211</td>\n",
       "      <td>000211</td>\n",
       "      <td>R</td>\n",
       "      <td>2</td>\n",
       "      <td>11</td>\n",
       "      <td>295</td>\n",
       "    </tr>\n",
       "    <tr>\n",
       "      <th>3</th>\n",
       "      <td>100208.04</td>\n",
       "      <td>0100208.04.01\\r</td>\n",
       "      <td>0100208.04.01.01\\r</td>\n",
       "      <td>0100208.04.01.01.03\\r</td>\n",
       "      <td>100208</td>\n",
       "      <td>4</td>\n",
       "      <td>1</td>\n",
       "      <td>1</td>\n",
       "      <td>2</td>\n",
       "      <td>3</td>\n",
       "      <td>...</td>\n",
       "      <td>99</td>\n",
       "      <td>99</td>\n",
       "      <td>99</td>\n",
       "      <td>99</td>\n",
       "      <td>147</td>\n",
       "      <td>000147</td>\n",
       "      <td>U</td>\n",
       "      <td>3</td>\n",
       "      <td>2</td>\n",
       "      <td>15</td>\n",
       "    </tr>\n",
       "    <tr>\n",
       "      <th>4</th>\n",
       "      <td>1409568.04</td>\n",
       "      <td>1409568.04.01\\r</td>\n",
       "      <td>1409568.04.01.01\\r</td>\n",
       "      <td>1409568.04.01.01.02\\r</td>\n",
       "      <td>1409568</td>\n",
       "      <td>4</td>\n",
       "      <td>1</td>\n",
       "      <td>1</td>\n",
       "      <td>1</td>\n",
       "      <td>2</td>\n",
       "      <td>...</td>\n",
       "      <td>99</td>\n",
       "      <td>99</td>\n",
       "      <td>99</td>\n",
       "      <td>99</td>\n",
       "      <td>1026</td>\n",
       "      <td>001026</td>\n",
       "      <td>U</td>\n",
       "      <td>4</td>\n",
       "      <td>233</td>\n",
       "      <td>6238</td>\n",
       "    </tr>\n",
       "  </tbody>\n",
       "</table>\n",
       "<p>5 rows × 132 columns</p>\n",
       "</div>"
      ],
      "text/plain": [
       "       ID_VIV           ID_HOG              ID_PER                 ID_DEL  \\\n",
       "0   100172.02  0100172.02.01\\r  0100172.02.01.02\\r  0100172.02.01.02.09\\r   \n",
       "1   100931.01  0100931.01.01\\r  0100931.01.01.01\\r  0100931.01.01.01.03\\r   \n",
       "2   160114.20  0160114.20.01\\r  0160114.20.01.01\\r  0160114.20.01.01.02\\r   \n",
       "3   100208.04  0100208.04.01\\r  0100208.04.01.01\\r  0100208.04.01.01.03\\r   \n",
       "4  1409568.04  1409568.04.01\\r  1409568.04.01.01\\r  1409568.04.01.01.02\\r   \n",
       "\n",
       "       UPM  VIV_SEL  HOGAR  ND_TIPO  TD_TIPO  BPCOD   ...     BP6_1 BP6_2  \\\n",
       "0   100172        2      1        1        1      9   ...        99    99   \n",
       "1   100931        1      1        1        1      3   ...        99    99   \n",
       "2   160114       20      1        4        4      2   ...        99    99   \n",
       "3   100208        4      1        1        2      3   ...        99    99   \n",
       "4  1409568        4      1        1        1      2   ...        99    99   \n",
       "\n",
       "   BP6_3  BP7_1  FAC_DEL  FAC_DEL_AM  DOMINIO  ESTRATO  EST_DIS  UPM_DIS  \n",
       "0     99     99      364      000364        U        3        2       11  \n",
       "1     99     99      182      000182        U        3        2      111  \n",
       "2     99     99      211      000211        R        2       11      295  \n",
       "3     99     99      147      000147        U        3        2       15  \n",
       "4     99     99     1026      001026        U        4      233     6238  \n",
       "\n",
       "[5 rows x 132 columns]"
      ]
     },
     "execution_count": 323,
     "metadata": {},
     "output_type": "execute_result"
    }
   ],
   "source": [
    "df_copy.head()"
   ]
  },
  {
   "cell_type": "code",
   "execution_count": 324,
   "metadata": {},
   "outputs": [
    {
     "data": {
      "text/plain": [
       "0300117.05.01\\r    20\n",
       "0503969.02.01\\r    18\n",
       "2760149.17.01\\r    17\n",
       "0801393.05.01\\r    15\n",
       "2504246.03.03\\r    15\n",
       "2602317.01.01\\r    15\n",
       "0200962.02.01\\r    14\n",
       "2404049.12.01\\r    14\n",
       "1906743.02.01\\r    14\n",
       "2105792.05.01\\r    14\n",
       "1602091.04.01\\r    14\n",
       "2300512.01.01\\r    14\n",
       "2300549.04.01\\r    14\n",
       "2001905.02.01\\r    14\n",
       "1601328.05.02\\r    13\n",
       "1602178.05.01\\r    13\n",
       "2504574.13.01\\r    13\n",
       "2201503.04.01\\r    13\n",
       "0916991.01.01\\r    13\n",
       "1524460.17.01\\r    13\n",
       "2102068.04.01\\r    13\n",
       "1701412.03.01\\r    13\n",
       "0903979.02.01\\r    13\n",
       "1202588.05.01\\r    13\n",
       "2900696.02.01\\r    13\n",
       "0301017.10.01\\r    13\n",
       "3201065.02.01\\r    12\n",
       "0207208.02.01\\r    12\n",
       "0101312.01.01\\r    12\n",
       "3101351.04.01\\r    12\n",
       "                   ..\n",
       "1700578.05.01\\r     1\n",
       "2900250.05.01\\r     1\n",
       "2900015.03.01\\r     1\n",
       "2760638.18.01\\r     1\n",
       "1101604.02.01\\r     1\n",
       "0921935.01.01\\r     1\n",
       "1504126.01.01\\r     1\n",
       "1410646.02.01\\r     1\n",
       "0916547.05.01\\r     1\n",
       "2202163.01.01\\r     1\n",
       "2400264.01.01\\r     1\n",
       "2301859.02.01\\r     1\n",
       "2302903.14.01\\r     1\n",
       "2700081.04.01\\r     1\n",
       "2902094.02.01\\r     1\n",
       "0807487.03.01\\r     1\n",
       "2300331.01.01\\r     1\n",
       "1909830.19.01\\r     1\n",
       "1060008.19.01\\r     1\n",
       "2700010.05.01\\r     1\n",
       "1410646.12.01\\r     1\n",
       "1601316.04.01\\r     1\n",
       "0400638.02.01\\r     1\n",
       "1510210.03.01\\r     1\n",
       "0202401.03.01\\r     1\n",
       "0501384.03.01\\r     1\n",
       "2302746.02.01\\r     1\n",
       "0806919.03.01\\r     1\n",
       "0506246.02.01\\r     1\n",
       "2901357.04.01\\r     1\n",
       "Name: ID_HOG, Length: 26180, dtype: int64"
      ]
     },
     "execution_count": 324,
     "metadata": {},
     "output_type": "execute_result"
    }
   ],
   "source": [
    "df_copy.ID_HOG.value_counts()"
   ]
  },
  {
   "cell_type": "code",
   "execution_count": 325,
   "metadata": {},
   "outputs": [
    {
     "data": {
      "text/plain": [
       "0300117.05.01    20\n",
       "0503969.02.01    18\n",
       "2760149.17.01    17\n",
       "0801393.05.01    15\n",
       "2504246.03.03    15\n",
       "2602317.01.01    15\n",
       "2001905.02.01    14\n",
       "0200962.02.01    14\n",
       "1602091.04.01    14\n",
       "1906743.02.01    14\n",
       "2300549.04.01    14\n",
       "2404049.12.01    14\n",
       "2105792.05.01    14\n",
       "2300512.01.01    14\n",
       "1524460.17.01    13\n",
       "0916991.01.01    13\n",
       "2504574.13.01    13\n",
       "1601328.05.02    13\n",
       "2900696.02.01    13\n",
       "1602178.05.01    13\n",
       "1202588.05.01    13\n",
       "0301017.10.01    13\n",
       "2201503.04.01    13\n",
       "2102068.04.01    13\n",
       "0903979.02.01    13\n",
       "1701412.03.01    13\n",
       "0500043.01.01    12\n",
       "0601551.02.01    12\n",
       "1100586.01.01    12\n",
       "1412809.10.01    12\n",
       "                 ..\n",
       "2402253.04.01     1\n",
       "0301086.06.01     1\n",
       "2560390.01.01     1\n",
       "0205648.03.01     1\n",
       "2301690.01.01     1\n",
       "1403781.04.01     1\n",
       "3103560.01.01     1\n",
       "0911239.03.01     1\n",
       "2500581.03.01     1\n",
       "0300469.02.01     1\n",
       "1302540.11.01     1\n",
       "0903889.03.01     1\n",
       "0922336.04.01     1\n",
       "0911636.01.01     1\n",
       "0903190.03.01     1\n",
       "1605599.20.01     1\n",
       "0203054.01.01     1\n",
       "0905438.05.01     1\n",
       "1660490.12.01     1\n",
       "2804763.04.01     1\n",
       "2760535.03.01     1\n",
       "0100535.02.01     1\n",
       "3000152.05.01     1\n",
       "0360119.02.01     1\n",
       "1104741.04.01     1\n",
       "0102139.11.01     1\n",
       "0100694.02.01     1\n",
       "0916547.03.01     1\n",
       "1512587.02.01     1\n",
       "0203216.04.01     1\n",
       "Name: ID_HOG, Length: 26180, dtype: int64"
      ]
     },
     "execution_count": 325,
     "metadata": {},
     "output_type": "execute_result"
    }
   ],
   "source": [
    "df_copy.ID_HOG =  df_copy.ID_HOG.replace( '\\r', \"\", regex = True  )\n",
    "df_copy.ID_HOG.value_counts()"
   ]
  },
  {
   "cell_type": "code",
   "execution_count": 326,
   "metadata": {},
   "outputs": [
    {
     "data": {
      "text/plain": [
       "0300117.05.01.01    20\n",
       "0503969.02.01.01    18\n",
       "2760149.17.01.01    17\n",
       "2504246.03.03.01    15\n",
       "2602317.01.01.01    15\n",
       "0801393.05.01.02    15\n",
       "2001905.02.01.01    14\n",
       "1602091.04.01.03    14\n",
       "2105792.05.01.01    14\n",
       "1906743.02.01.01    14\n",
       "2300549.04.01.02    14\n",
       "2300512.01.01.04    14\n",
       "0200962.02.01.02    14\n",
       "2404049.12.01.01    14\n",
       "1524460.17.01.01    13\n",
       "1701412.03.01.03    13\n",
       "1601328.05.02.01    13\n",
       "2504574.13.01.02    13\n",
       "1202588.05.01.01    13\n",
       "1602178.05.01.02    13\n",
       "0903979.02.01.01    13\n",
       "2201503.04.01.01    13\n",
       "2900696.02.01.01    13\n",
       "0916991.01.01.01    13\n",
       "0301017.10.01.01    13\n",
       "2102068.04.01.02    13\n",
       "0300083.01.01.01    12\n",
       "2100318.03.01.01    12\n",
       "1412809.10.01.03    12\n",
       "1100586.01.01.02    12\n",
       "                    ..\n",
       "0300599.01.01.01     1\n",
       "3102850.02.01.01     1\n",
       "0300032.05.01.03     1\n",
       "1800226.02.01.02     1\n",
       "1001261.02.01.03     1\n",
       "1760018.03.01.01     1\n",
       "1260715.01.01.04     1\n",
       "1302698.12.01.01     1\n",
       "0914480.05.01.01     1\n",
       "0207260.04.01.05     1\n",
       "0460211.08.01.01     1\n",
       "2503653.03.01.02     1\n",
       "1201240.01.01.02     1\n",
       "0600198.05.01.01     1\n",
       "1204532.12.01.03     1\n",
       "0805452.04.01.02     1\n",
       "2900558.03.01.02     1\n",
       "1900524.01.01.02     1\n",
       "0917000.02.02.01     1\n",
       "2807367.02.01.02     1\n",
       "0600706.03.01.02     1\n",
       "2062335.19.01.01     1\n",
       "2500279.01.01.04     1\n",
       "0260116.18.01.01     1\n",
       "2501546.02.01.01     1\n",
       "0300312.03.01.01     1\n",
       "0207283.01.01.01     1\n",
       "0502475.04.01.02     1\n",
       "1302399.01.01.02     1\n",
       "1203647.15.01.02     1\n",
       "Name: ID_PER, Length: 26180, dtype: int64"
      ]
     },
     "execution_count": 326,
     "metadata": {},
     "output_type": "execute_result"
    }
   ],
   "source": [
    "df_copy.ID_PER =  df_copy.ID_PER.replace( '\\r', \"\", regex = True  )\n",
    "df_copy.ID_PER.value_counts()"
   ]
  },
  {
   "cell_type": "code",
   "execution_count": 327,
   "metadata": {},
   "outputs": [
    {
     "data": {
      "text/html": [
       "<div>\n",
       "<style scoped>\n",
       "    .dataframe tbody tr th:only-of-type {\n",
       "        vertical-align: middle;\n",
       "    }\n",
       "\n",
       "    .dataframe tbody tr th {\n",
       "        vertical-align: top;\n",
       "    }\n",
       "\n",
       "    .dataframe thead th {\n",
       "        text-align: right;\n",
       "    }\n",
       "</style>\n",
       "<table border=\"1\" class=\"dataframe\">\n",
       "  <thead>\n",
       "    <tr style=\"text-align: right;\">\n",
       "      <th></th>\n",
       "      <th>ID_VIV</th>\n",
       "      <th>ID_HOG</th>\n",
       "      <th>ID_PER</th>\n",
       "      <th>ID_DEL</th>\n",
       "      <th>UPM</th>\n",
       "      <th>VIV_SEL</th>\n",
       "      <th>HOGAR</th>\n",
       "      <th>ND_TIPO</th>\n",
       "      <th>TD_TIPO</th>\n",
       "      <th>BPCOD</th>\n",
       "      <th>...</th>\n",
       "      <th>BP6_1</th>\n",
       "      <th>BP6_2</th>\n",
       "      <th>BP6_3</th>\n",
       "      <th>BP7_1</th>\n",
       "      <th>FAC_DEL</th>\n",
       "      <th>FAC_DEL_AM</th>\n",
       "      <th>DOMINIO</th>\n",
       "      <th>ESTRATO</th>\n",
       "      <th>EST_DIS</th>\n",
       "      <th>UPM_DIS</th>\n",
       "    </tr>\n",
       "  </thead>\n",
       "  <tbody>\n",
       "    <tr>\n",
       "      <th>0</th>\n",
       "      <td>100172.02</td>\n",
       "      <td>0100172.02.01</td>\n",
       "      <td>0100172.02.01.02</td>\n",
       "      <td>0100172.02.01.02.09\\r</td>\n",
       "      <td>100172</td>\n",
       "      <td>2</td>\n",
       "      <td>1</td>\n",
       "      <td>1</td>\n",
       "      <td>1</td>\n",
       "      <td>9</td>\n",
       "      <td>...</td>\n",
       "      <td>99</td>\n",
       "      <td>99</td>\n",
       "      <td>99</td>\n",
       "      <td>99</td>\n",
       "      <td>364</td>\n",
       "      <td>000364</td>\n",
       "      <td>U</td>\n",
       "      <td>3</td>\n",
       "      <td>2</td>\n",
       "      <td>11</td>\n",
       "    </tr>\n",
       "    <tr>\n",
       "      <th>1</th>\n",
       "      <td>100931.01</td>\n",
       "      <td>0100931.01.01</td>\n",
       "      <td>0100931.01.01.01</td>\n",
       "      <td>0100931.01.01.01.03\\r</td>\n",
       "      <td>100931</td>\n",
       "      <td>1</td>\n",
       "      <td>1</td>\n",
       "      <td>1</td>\n",
       "      <td>1</td>\n",
       "      <td>3</td>\n",
       "      <td>...</td>\n",
       "      <td>99</td>\n",
       "      <td>99</td>\n",
       "      <td>99</td>\n",
       "      <td>99</td>\n",
       "      <td>182</td>\n",
       "      <td>000182</td>\n",
       "      <td>U</td>\n",
       "      <td>3</td>\n",
       "      <td>2</td>\n",
       "      <td>111</td>\n",
       "    </tr>\n",
       "    <tr>\n",
       "      <th>2</th>\n",
       "      <td>160114.20</td>\n",
       "      <td>0160114.20.01</td>\n",
       "      <td>0160114.20.01.01</td>\n",
       "      <td>0160114.20.01.01.02\\r</td>\n",
       "      <td>160114</td>\n",
       "      <td>20</td>\n",
       "      <td>1</td>\n",
       "      <td>4</td>\n",
       "      <td>4</td>\n",
       "      <td>2</td>\n",
       "      <td>...</td>\n",
       "      <td>99</td>\n",
       "      <td>99</td>\n",
       "      <td>99</td>\n",
       "      <td>99</td>\n",
       "      <td>211</td>\n",
       "      <td>000211</td>\n",
       "      <td>R</td>\n",
       "      <td>2</td>\n",
       "      <td>11</td>\n",
       "      <td>295</td>\n",
       "    </tr>\n",
       "    <tr>\n",
       "      <th>3</th>\n",
       "      <td>100208.04</td>\n",
       "      <td>0100208.04.01</td>\n",
       "      <td>0100208.04.01.01</td>\n",
       "      <td>0100208.04.01.01.03\\r</td>\n",
       "      <td>100208</td>\n",
       "      <td>4</td>\n",
       "      <td>1</td>\n",
       "      <td>1</td>\n",
       "      <td>2</td>\n",
       "      <td>3</td>\n",
       "      <td>...</td>\n",
       "      <td>99</td>\n",
       "      <td>99</td>\n",
       "      <td>99</td>\n",
       "      <td>99</td>\n",
       "      <td>147</td>\n",
       "      <td>000147</td>\n",
       "      <td>U</td>\n",
       "      <td>3</td>\n",
       "      <td>2</td>\n",
       "      <td>15</td>\n",
       "    </tr>\n",
       "    <tr>\n",
       "      <th>4</th>\n",
       "      <td>1409568.04</td>\n",
       "      <td>1409568.04.01</td>\n",
       "      <td>1409568.04.01.01</td>\n",
       "      <td>1409568.04.01.01.02\\r</td>\n",
       "      <td>1409568</td>\n",
       "      <td>4</td>\n",
       "      <td>1</td>\n",
       "      <td>1</td>\n",
       "      <td>1</td>\n",
       "      <td>2</td>\n",
       "      <td>...</td>\n",
       "      <td>99</td>\n",
       "      <td>99</td>\n",
       "      <td>99</td>\n",
       "      <td>99</td>\n",
       "      <td>1026</td>\n",
       "      <td>001026</td>\n",
       "      <td>U</td>\n",
       "      <td>4</td>\n",
       "      <td>233</td>\n",
       "      <td>6238</td>\n",
       "    </tr>\n",
       "  </tbody>\n",
       "</table>\n",
       "<p>5 rows × 132 columns</p>\n",
       "</div>"
      ],
      "text/plain": [
       "       ID_VIV         ID_HOG            ID_PER                 ID_DEL  \\\n",
       "0   100172.02  0100172.02.01  0100172.02.01.02  0100172.02.01.02.09\\r   \n",
       "1   100931.01  0100931.01.01  0100931.01.01.01  0100931.01.01.01.03\\r   \n",
       "2   160114.20  0160114.20.01  0160114.20.01.01  0160114.20.01.01.02\\r   \n",
       "3   100208.04  0100208.04.01  0100208.04.01.01  0100208.04.01.01.03\\r   \n",
       "4  1409568.04  1409568.04.01  1409568.04.01.01  1409568.04.01.01.02\\r   \n",
       "\n",
       "       UPM  VIV_SEL  HOGAR  ND_TIPO  TD_TIPO  BPCOD   ...     BP6_1 BP6_2  \\\n",
       "0   100172        2      1        1        1      9   ...        99    99   \n",
       "1   100931        1      1        1        1      3   ...        99    99   \n",
       "2   160114       20      1        4        4      2   ...        99    99   \n",
       "3   100208        4      1        1        2      3   ...        99    99   \n",
       "4  1409568        4      1        1        1      2   ...        99    99   \n",
       "\n",
       "   BP6_3  BP7_1  FAC_DEL  FAC_DEL_AM  DOMINIO  ESTRATO  EST_DIS  UPM_DIS  \n",
       "0     99     99      364      000364        U        3        2       11  \n",
       "1     99     99      182      000182        U        3        2      111  \n",
       "2     99     99      211      000211        R        2       11      295  \n",
       "3     99     99      147      000147        U        3        2       15  \n",
       "4     99     99     1026      001026        U        4      233     6238  \n",
       "\n",
       "[5 rows x 132 columns]"
      ]
     },
     "execution_count": 327,
     "metadata": {},
     "output_type": "execute_result"
    }
   ],
   "source": [
    "df_copy.head()"
   ]
  },
  {
   "cell_type": "code",
   "execution_count": 328,
   "metadata": {},
   "outputs": [
    {
     "data": {
      "text/plain": [
       "2605658.19.01.01.09    5\n",
       "1601544.02.01.01.03    5\n",
       "2504574.13.01.02.13    5\n",
       "0803422.01.01.01.04    5\n",
       "0804860.05.01.03.09    5\n",
       "0805295.02.01.01.10    5\n",
       "0400976.01.01.01.04    5\n",
       "2901868.03.01.02.09    5\n",
       "1102509.02.01.02.02    5\n",
       "1907910.01.01.01.09    5\n",
       "2200899.05.01.02.03    5\n",
       "1000168.05.01.01.03    5\n",
       "2505169.01.01.02.09    5\n",
       "1701412.02.01.01.04    5\n",
       "1100019.02.01.01.09    5\n",
       "0202624.01.01.03.10    5\n",
       "2161015.06.01.01.03    5\n",
       "0805962.04.01.01.11    5\n",
       "1301544.19.01.01.09    5\n",
       "0702123.04.01.01.02    5\n",
       "2860081.14.01.01.09    5\n",
       "2900971.04.01.02.10    5\n",
       "1400766.02.01.02.13    5\n",
       "3103192.03.01.03.10    5\n",
       "1409325.04.01.01.03    5\n",
       "2201611.03.01.02.03    5\n",
       "1800739.02.01.01.09    5\n",
       "1519525.05.01.04.05    5\n",
       "1403645.02.01.04.03    5\n",
       "1909398.04.01.01.02    5\n",
       "                      ..\n",
       "0921493.02.01.03.05    1\n",
       "0360082.08.02.01.07    1\n",
       "1102425.03.01.01.03    1\n",
       "0200385.02.01.01.09    1\n",
       "1517765.01.01.01.08    1\n",
       "1412206.13.02.01.09    1\n",
       "2301499.01.01.02.04    1\n",
       "2802407.01.01.02.10    1\n",
       "2503323.03.01.01.05    1\n",
       "3103383.01.01.02.07    1\n",
       "0806898.01.01.01.03    1\n",
       "1760256.08.01.02.03    1\n",
       "2900108.02.01.02.03    1\n",
       "2601357.03.01.01.04    1\n",
       "0801739.03.01.01.01    1\n",
       "0600182.03.01.01.10    1\n",
       "1601878.05.01.02.09    1\n",
       "1412594.16.01.02.05    1\n",
       "3102619.02.01.01.02    1\n",
       "2001572.01.01.03.03    1\n",
       "0804525.04.01.01.04    1\n",
       "1603000.10.01.01.02    1\n",
       "1700387.01.01.02.13    1\n",
       "0100079.03.01.01.06    1\n",
       "0100488.05.01.05.11    1\n",
       "0601379.14.01.01.10    1\n",
       "3200632.05.01.01.02    1\n",
       "2401235.05.01.01.03    1\n",
       "2300797.01.01.01.02    1\n",
       "0911994.04.01.01.05    1\n",
       "Name: ID_DEL, Length: 36633, dtype: int64"
      ]
     },
     "execution_count": 328,
     "metadata": {},
     "output_type": "execute_result"
    }
   ],
   "source": [
    "df_copy.ID_DEL =  df_copy.ID_DEL.replace( '\\r', \"\", regex = True  )\n",
    "df_copy.ID_DEL.value_counts()"
   ]
  },
  {
   "cell_type": "code",
   "execution_count": 329,
   "metadata": {},
   "outputs": [],
   "source": [
    "df_copy.to_csv(\"2017.csv\")"
   ]
  },
  {
   "cell_type": "code",
   "execution_count": null,
   "metadata": {},
   "outputs": [],
   "source": []
  }
 ],
 "metadata": {
  "kernelspec": {
   "display_name": "Python 3",
   "language": "python",
   "name": "python3"
  },
  "language_info": {
   "codemirror_mode": {
    "name": "ipython",
    "version": 3
   },
   "file_extension": ".py",
   "mimetype": "text/x-python",
   "name": "python",
   "nbconvert_exporter": "python",
   "pygments_lexer": "ipython3",
   "version": "3.6.5"
  }
 },
 "nbformat": 4,
 "nbformat_minor": 2
}
