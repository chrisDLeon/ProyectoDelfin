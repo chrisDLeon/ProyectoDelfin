{
 "cells": [
  {
   "cell_type": "code",
   "execution_count": 1,
   "metadata": {},
   "outputs": [],
   "source": [
    "import pandas as pd\n",
    "import numpy as np"
   ]
  },
  {
   "cell_type": "code",
   "execution_count": 2,
   "metadata": {},
   "outputs": [],
   "source": [
    "df_ = 'C:/Users/chris/Documents/TRABAJO/PROYECTOS/PROGRAMA DELFIN/PROYECTOCRIMEN/2014/tmod_vic2014.csv'"
   ]
  },
  {
   "cell_type": "code",
   "execution_count": 3,
   "metadata": {},
   "outputs": [],
   "source": [
    "df = pd.read_csv(df_,low_memory=False)\n",
    "df_copy = df"
   ]
  },
  {
   "cell_type": "code",
   "execution_count": 4,
   "metadata": {},
   "outputs": [
    {
     "data": {
      "text/plain": [
       "2     6719\n",
       "1     6624\n",
       "3     6531\n",
       "4     6472\n",
       "5     6435\n",
       "7      802\n",
       "10     753\n",
       "6      746\n",
       "8      742\n",
       "19     713\n",
       "9      712\n",
       "12     710\n",
       "17     697\n",
       "13     664\n",
       "18     661\n",
       "16     660\n",
       "11     658\n",
       "14     649\n",
       "20     634\n",
       "15     631\n",
       "21      36\n",
       "22      20\n",
       "25      20\n",
       "35      17\n",
       "29      17\n",
       "39      15\n",
       "38      14\n",
       "24      14\n",
       "40      13\n",
       "43      10\n",
       "23      10\n",
       "30       9\n",
       "37       9\n",
       "26       9\n",
       "28       9\n",
       "33       9\n",
       "34       7\n",
       "31       7\n",
       "36       5\n",
       "45       5\n",
       "27       5\n",
       "32       4\n",
       "41       1\n",
       "Name: VIV_SEL, dtype: int64"
      ]
     },
     "execution_count": 4,
     "metadata": {},
     "output_type": "execute_result"
    }
   ],
   "source": [
    "df_copy.VIV_SEL.value_counts()"
   ]
  },
  {
   "cell_type": "code",
   "execution_count": 5,
   "metadata": {},
   "outputs": [
    {
     "data": {
      "text/plain": [
       "1    42540\n",
       "2      823\n",
       "3       96\n",
       "4       19\n",
       "Name: HOGAR, dtype: int64"
      ]
     },
     "execution_count": 5,
     "metadata": {},
     "output_type": "execute_result"
    }
   ],
   "source": [
    "df_copy.HOGAR.value_counts()"
   ]
  },
  {
   "cell_type": "code",
   "execution_count": 6,
   "metadata": {},
   "outputs": [
    {
     "data": {
      "text/plain": [
       "1    32486\n",
       "2     7400\n",
       "3     2380\n",
       "4      789\n",
       "5      423\n",
       "Name: ND_TIPO, dtype: int64"
      ]
     },
     "execution_count": 6,
     "metadata": {},
     "output_type": "execute_result"
    }
   ],
   "source": [
    "df_copy.ND_TIPO.value_counts()"
   ]
  },
  {
   "cell_type": "code",
   "execution_count": 7,
   "metadata": {},
   "outputs": [
    {
     "data": {
      "text/plain": [
       "1    25086\n",
       "2    10040\n",
       "3     4773\n",
       "5     2115\n",
       "4     1464\n",
       "Name: TD_TIPO, dtype: int64"
      ]
     },
     "execution_count": 7,
     "metadata": {},
     "output_type": "execute_result"
    }
   ],
   "source": [
    "df_copy.TD_TIPO.value_counts()"
   ]
  },
  {
   "cell_type": "code",
   "execution_count": 8,
   "metadata": {},
   "outputs": [
    {
     "data": {
      "text/plain": [
       "3     8164\n",
       "2     7349\n",
       "9     6373\n",
       "4     5804\n",
       "5     5424\n",
       "10    3008\n",
       "8     1594\n",
       "6     1455\n",
       "7     1300\n",
       "1     1235\n",
       "11     919\n",
       "13     575\n",
       "15     120\n",
       "14      82\n",
       "12      76\n",
       "Name: BPCOD, dtype: int64"
      ]
     },
     "execution_count": 8,
     "metadata": {},
     "output_type": "execute_result"
    }
   ],
   "source": [
    "df_copy.BPCOD.value_counts()"
   ]
  },
  {
   "cell_type": "code",
   "execution_count": 9,
   "metadata": {},
   "outputs": [
    {
     "data": {
      "text/plain": [
       "1     20788\n",
       "2     14386\n",
       "3      5050\n",
       "4      2142\n",
       "5       756\n",
       "6       200\n",
       "7        88\n",
       "8        33\n",
       "9        25\n",
       "10        6\n",
       "14        2\n",
       "18        1\n",
       "11        1\n",
       "Name: R_SEL, dtype: int64"
      ]
     },
     "execution_count": 9,
     "metadata": {},
     "output_type": "execute_result"
    }
   ],
   "source": [
    "df_copy.R_SEL.value_counts()"
   ]
  },
  {
   "cell_type": "code",
   "execution_count": 10,
   "metadata": {},
   "outputs": [
    {
     "data": {
      "text/plain": [
       "1.0     4466\n",
       "2.0     1907\n",
       "4.0     1563\n",
       "3.0     1311\n",
       "21.0    1240\n",
       "36.0    1093\n",
       "29.0    1013\n",
       "7.0      878\n",
       "8.0      813\n",
       "39.0     809\n",
       "41.0     786\n",
       "14.0     695\n",
       "33.0     668\n",
       "5.0      661\n",
       "24.0     642\n",
       "18.0     633\n",
       "40.0     610\n",
       "15.0     596\n",
       "26.0     526\n",
       "27.0     425\n",
       "31.0     410\n",
       "9.0      404\n",
       "25.0     386\n",
       "28.0     380\n",
       "19.0     329\n",
       "17.0     298\n",
       "43.0     287\n",
       "13.0     246\n",
       "12.0     179\n",
       "16.0     171\n",
       "10.0     149\n",
       "32.0     100\n",
       "Name: AREAM_OCU, dtype: int64"
      ]
     },
     "execution_count": 10,
     "metadata": {},
     "output_type": "execute_result"
    }
   ],
   "source": [
    "df_copy.AREAM_OCU.value_counts()"
   ]
  },
  {
   "cell_type": "code",
   "execution_count": 11,
   "metadata": {},
   "outputs": [],
   "source": [
    "df_copy.AREAM_OCU.replace({1.0:'1',2.0:'2',3.0:'3',4.0:'4',\n",
    "                29.0:'29',14.0:'14',36.0:'36',21.0:'21',6.0:'6',\n",
    "                8.0:'8',39.0:'39',41.0:'41',33.0:'33',18.0:'18',\n",
    "                40.0:'40',25.0:'25',5.0:'5',26.0:'26',9.0:'9',\n",
    "                7.0:'7',13.0:'13',15.0:'15',27.0:'27',31.0:'31',\n",
    "                19.0:'19',28.0:'28',24.0:'24',10.0:'10',43.0:'43',\n",
    "                17.0:'17',32.0:'32',16.0:'16',12.0:'12'}, inplace=True)"
   ]
  },
  {
   "cell_type": "code",
   "execution_count": 12,
   "metadata": {
    "scrolled": true
   },
   "outputs": [
    {
     "data": {
      "text/plain": [
       "1     4466\n",
       "2     1907\n",
       "4     1563\n",
       "3     1311\n",
       "21    1240\n",
       "36    1093\n",
       "29    1013\n",
       "7      878\n",
       "8      813\n",
       "39     809\n",
       "41     786\n",
       "14     695\n",
       "33     668\n",
       "5      661\n",
       "24     642\n",
       "18     633\n",
       "40     610\n",
       "15     596\n",
       "26     526\n",
       "27     425\n",
       "31     410\n",
       "9      404\n",
       "25     386\n",
       "28     380\n",
       "19     329\n",
       "17     298\n",
       "43     287\n",
       "13     246\n",
       "12     179\n",
       "16     171\n",
       "10     149\n",
       "32     100\n",
       "Name: AREAM_OCU, dtype: int64"
      ]
     },
     "execution_count": 12,
     "metadata": {},
     "output_type": "execute_result"
    }
   ],
   "source": [
    "df_copy.AREAM_OCU.value_counts()"
   ]
  },
  {
   "cell_type": "code",
   "execution_count": 13,
   "metadata": {},
   "outputs": [
    {
     "data": {
      "text/plain": [
       "A    43478\n",
       "Name: RESUL_H, dtype: int64"
      ]
     },
     "execution_count": 13,
     "metadata": {},
     "output_type": "execute_result"
    }
   ],
   "source": [
    "df_copy.RESUL_H.value_counts()"
   ]
  },
  {
   "cell_type": "code",
   "execution_count": 14,
   "metadata": {},
   "outputs": [
    {
     "data": {
      "text/plain": [
       "12    4926\n",
       "11    4527\n",
       "6     4041\n",
       "3     3657\n",
       "2     3451\n",
       "5     3410\n",
       "10    3388\n",
       "8     3314\n",
       "9     3153\n",
       "7     2960\n",
       "1     2716\n",
       "4     2640\n",
       "99    1295\n",
       "Name: BP1_1, dtype: int64"
      ]
     },
     "execution_count": 14,
     "metadata": {},
     "output_type": "execute_result"
    }
   ],
   "source": [
    "df_copy.BP1_1.value_counts()"
   ]
  },
  {
   "cell_type": "code",
   "execution_count": 15,
   "metadata": {},
   "outputs": [
    {
     "data": {
      "text/plain": [
       "15    3481\n",
       "2     2582\n",
       "14    2318\n",
       "21    2259\n",
       "9     1592\n",
       "25    1566\n",
       "17    1554\n",
       "16    1483\n",
       "30    1416\n",
       "22    1411\n",
       "11    1402\n",
       "19    1390\n",
       "23    1345\n",
       "8     1323\n",
       "27    1318\n",
       "6     1274\n",
       "3     1195\n",
       "24    1160\n",
       "12    1136\n",
       "31    1117\n",
       "26    1081\n",
       "29    1079\n",
       "4     1026\n",
       "7     1007\n",
       "10    1004\n",
       "5      979\n",
       "13     977\n",
       "20     910\n",
       "1      801\n",
       "28     791\n",
       "32     758\n",
       "18     741\n",
       "99       2\n",
       "Name: BP1_2C, dtype: int64"
      ]
     },
     "execution_count": 15,
     "metadata": {},
     "output_type": "execute_result"
    }
   ],
   "source": [
    "df_copy.BP1_2C.value_counts()"
   ]
  },
  {
   "cell_type": "code",
   "execution_count": 16,
   "metadata": {},
   "outputs": [
    {
     "data": {
      "text/plain": [
       "4      2418\n",
       "2      2225\n",
       "5      1840\n",
       "39     1734\n",
       "1      1688\n",
       "7      1628\n",
       "3      1461\n",
       "6      1444\n",
       "114    1389\n",
       "14     1278\n",
       "8      1058\n",
       "28      982\n",
       "17      923\n",
       "37      904\n",
       "33      861\n",
       "20      811\n",
       "50      810\n",
       "11      772\n",
       "57      763\n",
       "30      742\n",
       "35      737\n",
       "12      720\n",
       "10      666\n",
       "53      637\n",
       "120     616\n",
       "18      605\n",
       "19      532\n",
       "9       521\n",
       "29      513\n",
       "101     510\n",
       "       ... \n",
       "153       2\n",
       "439       2\n",
       "205       1\n",
       "301       1\n",
       "334       1\n",
       "333       1\n",
       "225       1\n",
       "318       1\n",
       "148       1\n",
       "130       1\n",
       "215       1\n",
       "200       1\n",
       "265       1\n",
       "553       1\n",
       "213       1\n",
       "181       1\n",
       "149       1\n",
       "551       1\n",
       "327       1\n",
       "375       1\n",
       "401       1\n",
       "134       1\n",
       "197       1\n",
       "505       1\n",
       "203       1\n",
       "427       1\n",
       "186       1\n",
       "300       1\n",
       "386       1\n",
       "455       1\n",
       "Name: BP1_3C, Length: 242, dtype: int64"
      ]
     },
     "execution_count": 16,
     "metadata": {},
     "output_type": "execute_result"
    }
   ],
   "source": [
    "df_copy.BP1_3C.value_counts()"
   ]
  },
  {
   "cell_type": "code",
   "execution_count": 17,
   "metadata": {},
   "outputs": [
    {
     "data": {
      "text/plain": [
       "2    12668\n",
       "3    11732\n",
       "4     8966\n",
       "1     8556\n",
       "9     1556\n",
       "Name: BP1_4, dtype: int64"
      ]
     },
     "execution_count": 17,
     "metadata": {},
     "output_type": "execute_result"
    }
   ],
   "source": [
    "df_copy.BP1_4.value_counts()"
   ]
  },
  {
   "cell_type": "code",
   "execution_count": 18,
   "metadata": {},
   "outputs": [
    {
     "data": {
      "text/plain": [
       "2     12668\n",
       "3     11732\n",
       "4      8966\n",
       "1      8556\n",
       "99     1556\n",
       "Name: BP1_4, dtype: int64"
      ]
     },
     "execution_count": 18,
     "metadata": {},
     "output_type": "execute_result"
    }
   ],
   "source": [
    "df_copy.BP1_4.replace({9:99}, inplace=True)\n",
    "df_copy.BP1_4.value_counts()"
   ]
  },
  {
   "cell_type": "code",
   "execution_count": 19,
   "metadata": {},
   "outputs": [
    {
     "data": {
      "text/plain": [
       "2    20877\n",
       "1    14458\n",
       "4     2051\n",
       "3     1804\n",
       "5     1600\n",
       "6     1530\n",
       "8      698\n",
       "7      260\n",
       "9      200\n",
       "Name: BP1_5, dtype: int64"
      ]
     },
     "execution_count": 19,
     "metadata": {},
     "output_type": "execute_result"
    }
   ],
   "source": [
    "df_copy.BP1_5.value_counts()"
   ]
  },
  {
   "cell_type": "code",
   "execution_count": 20,
   "metadata": {},
   "outputs": [
    {
     "data": {
      "text/plain": [
       "2     20877\n",
       "1     14458\n",
       "4      2051\n",
       "3      1804\n",
       "5      1600\n",
       "6      1530\n",
       "8       698\n",
       "7       260\n",
       "99      200\n",
       "Name: BP1_5, dtype: int64"
      ]
     },
     "execution_count": 20,
     "metadata": {},
     "output_type": "execute_result"
    }
   ],
   "source": [
    "df_copy.BP1_5.replace({9:99}, inplace=True)\n",
    "df_copy.BP1_5.value_counts()"
   ]
  },
  {
   "cell_type": "code",
   "execution_count": 21,
   "metadata": {},
   "outputs": [
    {
     "data": {
      "text/plain": [
       "1.0    18677\n",
       "2.0    13743\n",
       "Name: BP1_6, dtype: int64"
      ]
     },
     "execution_count": 21,
     "metadata": {},
     "output_type": "execute_result"
    }
   ],
   "source": [
    "df_copy.BP1_6.value_counts()"
   ]
  },
  {
   "cell_type": "code",
   "execution_count": 22,
   "metadata": {},
   "outputs": [
    {
     "data": {
      "text/plain": [
       "1    18677\n",
       "2    13743\n",
       "Name: BP1_6, dtype: int64"
      ]
     },
     "execution_count": 22,
     "metadata": {},
     "output_type": "execute_result"
    }
   ],
   "source": [
    "df_copy.BP1_6.replace({1.0:'1',2.0:'2'}, inplace=True)\n",
    "df_copy.BP1_6.value_counts()"
   ]
  },
  {
   "cell_type": "code",
   "execution_count": 23,
   "metadata": {},
   "outputs": [
    {
     "data": {
      "text/plain": [
       "1.0    13976\n",
       "2.0     4701\n",
       "Name: BP1_7, dtype: int64"
      ]
     },
     "execution_count": 23,
     "metadata": {},
     "output_type": "execute_result"
    }
   ],
   "source": [
    "df_copy.BP1_7.value_counts()"
   ]
  },
  {
   "cell_type": "code",
   "execution_count": 24,
   "metadata": {},
   "outputs": [
    {
     "data": {
      "text/plain": [
       "1    13976\n",
       "2     4701\n",
       "Name: BP1_7, dtype: int64"
      ]
     },
     "execution_count": 24,
     "metadata": {},
     "output_type": "execute_result"
    }
   ],
   "source": [
    "df_copy.BP1_7.replace({1.0:'1',2.0:'2'}, inplace=True)\n",
    "df_copy.BP1_7.value_counts()"
   ]
  },
  {
   "cell_type": "code",
   "execution_count": 25,
   "metadata": {},
   "outputs": [
    {
     "data": {
      "text/plain": [
       "2.0    7239\n",
       "1.0    6711\n",
       "9.0      26\n",
       "Name: BP1_8, dtype: int64"
      ]
     },
     "execution_count": 25,
     "metadata": {},
     "output_type": "execute_result"
    }
   ],
   "source": [
    "df_copy.BP1_8.value_counts()"
   ]
  },
  {
   "cell_type": "code",
   "execution_count": 26,
   "metadata": {},
   "outputs": [
    {
     "data": {
      "text/plain": [
       "2     7239\n",
       "1     6711\n",
       "99      26\n",
       "Name: BP1_8, dtype: int64"
      ]
     },
     "execution_count": 26,
     "metadata": {},
     "output_type": "execute_result"
    }
   ],
   "source": [
    "df_copy.BP1_8.replace({1.0:'1',2.0:'2',9.0:'99'}, inplace=True)\n",
    "df_copy.BP1_8.value_counts()"
   ]
  },
  {
   "cell_type": "code",
   "execution_count": 27,
   "metadata": {},
   "outputs": [
    {
     "data": {
      "text/plain": [
       "1.0    6780\n",
       "2.0    3810\n",
       "3.0    1643\n",
       "4.0     600\n",
       "9.0     456\n",
       "6.0     450\n",
       "5.0     237\n",
       "Name: BP1_9, dtype: int64"
      ]
     },
     "execution_count": 27,
     "metadata": {},
     "output_type": "execute_result"
    }
   ],
   "source": [
    "df_copy.BP1_9.value_counts()"
   ]
  },
  {
   "cell_type": "code",
   "execution_count": 28,
   "metadata": {},
   "outputs": [
    {
     "data": {
      "text/plain": [
       "1     6780\n",
       "2     3810\n",
       "3     1643\n",
       "4      600\n",
       "99     456\n",
       "6      450\n",
       "5      237\n",
       "Name: BP1_9, dtype: int64"
      ]
     },
     "execution_count": 28,
     "metadata": {},
     "output_type": "execute_result"
    }
   ],
   "source": [
    "df_copy.BP1_9.replace({1.0:'1',2.0:'2',3.0:'3',4.0:'4',5.0:'5',6.0:'6',9.0:'99'}, inplace=True)\n",
    "df_copy.BP1_9.value_counts()"
   ]
  },
  {
   "cell_type": "code",
   "execution_count": 29,
   "metadata": {},
   "outputs": [
    {
     "data": {
      "text/plain": [
       "1.0    12773\n",
       "0.0     1203\n",
       "Name: BP1_10_1, dtype: int64"
      ]
     },
     "execution_count": 29,
     "metadata": {},
     "output_type": "execute_result"
    }
   ],
   "source": [
    "df_copy.BP1_10_1.value_counts()"
   ]
  },
  {
   "cell_type": "code",
   "execution_count": 30,
   "metadata": {},
   "outputs": [
    {
     "data": {
      "text/plain": [
       "1    12773\n",
       "0     1203\n",
       "Name: BP1_10_1, dtype: int64"
      ]
     },
     "execution_count": 30,
     "metadata": {},
     "output_type": "execute_result"
    }
   ],
   "source": [
    "df_copy.BP1_10_1.replace({1.0:'1',0.0:'0'}, inplace=True)\n",
    "df_copy.BP1_10_1.value_counts().astype('int64')"
   ]
  },
  {
   "cell_type": "code",
   "execution_count": 31,
   "metadata": {},
   "outputs": [
    {
     "data": {
      "text/plain": [
       "0.0    12169\n",
       "1.0     1807\n",
       "Name: BP1_10_2, dtype: int64"
      ]
     },
     "execution_count": 31,
     "metadata": {},
     "output_type": "execute_result"
    }
   ],
   "source": [
    "df_copy.BP1_10_2.value_counts()"
   ]
  },
  {
   "cell_type": "code",
   "execution_count": 32,
   "metadata": {},
   "outputs": [
    {
     "data": {
      "text/plain": [
       "0    12169\n",
       "1     1807\n",
       "Name: BP1_10_2, dtype: int64"
      ]
     },
     "execution_count": 32,
     "metadata": {},
     "output_type": "execute_result"
    }
   ],
   "source": [
    "df_copy.BP1_10_2.replace({1.0:'1',0.0:'0'}, inplace=True)\n",
    "df_copy.BP1_10_2.value_counts().astype('int64')"
   ]
  },
  {
   "cell_type": "code",
   "execution_count": 33,
   "metadata": {},
   "outputs": [
    {
     "data": {
      "text/plain": [
       "0.0    13641\n",
       "1.0      335\n",
       "Name: BP1_10_9, dtype: int64"
      ]
     },
     "execution_count": 33,
     "metadata": {},
     "output_type": "execute_result"
    }
   ],
   "source": [
    "df_copy.BP1_10_9.value_counts()"
   ]
  },
  {
   "cell_type": "code",
   "execution_count": 34,
   "metadata": {},
   "outputs": [
    {
     "data": {
      "text/plain": [
       "0    13641\n",
       "1      335\n",
       "Name: BP1_10_9, dtype: int64"
      ]
     },
     "execution_count": 34,
     "metadata": {},
     "output_type": "execute_result"
    }
   ],
   "source": [
    "df_copy.BP1_10_9.replace({1.0:'1',0.0:'0'}, inplace=True)\n",
    "df_copy.BP1_10_9.value_counts().astype('int64')"
   ]
  },
  {
   "cell_type": "code",
   "execution_count": 35,
   "metadata": {},
   "outputs": [
    {
     "data": {
      "text/plain": [
       "4.0    4264\n",
       "3.0    3682\n",
       "5.0    2352\n",
       "9.0    1525\n",
       "8.0     912\n",
       "6.0     737\n",
       "2.0     402\n",
       "7.0      91\n",
       "1.0      11\n",
       "Name: BP1_11, dtype: int64"
      ]
     },
     "execution_count": 35,
     "metadata": {},
     "output_type": "execute_result"
    }
   ],
   "source": [
    "df_copy.BP1_11.value_counts()"
   ]
  },
  {
   "cell_type": "code",
   "execution_count": 36,
   "metadata": {},
   "outputs": [
    {
     "data": {
      "text/plain": [
       "4     4264\n",
       "3     3682\n",
       "5     2352\n",
       "99    1525\n",
       "8      912\n",
       "6      737\n",
       "2      402\n",
       "7       91\n",
       "1       11\n",
       "Name: BP1_11, dtype: int64"
      ]
     },
     "execution_count": 36,
     "metadata": {},
     "output_type": "execute_result"
    }
   ],
   "source": [
    "df_copy.BP1_11.replace({1.0:'1',2.0:'2',3.0:'3',4.0:'4',5.0:'5',6.0:'6',7.0:'7',8.0:'8',9.0:'99'}, inplace=True)\n",
    "df_copy.BP1_11.value_counts()"
   ]
  },
  {
   "cell_type": "code",
   "execution_count": 37,
   "metadata": {},
   "outputs": [
    {
     "data": {
      "text/plain": [
       "1.0    10137\n",
       "0.0     3839\n",
       "Name: BP1_12_1, dtype: int64"
      ]
     },
     "execution_count": 37,
     "metadata": {},
     "output_type": "execute_result"
    }
   ],
   "source": [
    "df_copy.BP1_12_1.value_counts()"
   ]
  },
  {
   "cell_type": "code",
   "execution_count": 38,
   "metadata": {},
   "outputs": [
    {
     "data": {
      "text/plain": [
       "1    10137\n",
       "0     3839\n",
       "Name: BP1_12_1, dtype: int64"
      ]
     },
     "execution_count": 38,
     "metadata": {},
     "output_type": "execute_result"
    }
   ],
   "source": [
    "df_copy.BP1_12_1.replace({1.0:'1',0.0:'0'}, inplace=True)\n",
    "df_copy.BP1_12_1.value_counts().astype('int64')"
   ]
  },
  {
   "cell_type": "code",
   "execution_count": 39,
   "metadata": {},
   "outputs": [
    {
     "data": {
      "text/plain": [
       "0.0    12494\n",
       "1.0     1482\n",
       "Name: BP1_12_2, dtype: int64"
      ]
     },
     "execution_count": 39,
     "metadata": {},
     "output_type": "execute_result"
    }
   ],
   "source": [
    "df_copy.BP1_12_2.value_counts()"
   ]
  },
  {
   "cell_type": "code",
   "execution_count": 40,
   "metadata": {},
   "outputs": [
    {
     "data": {
      "text/plain": [
       "0    12494\n",
       "1     1482\n",
       "Name: BP1_12_2, dtype: int64"
      ]
     },
     "execution_count": 40,
     "metadata": {},
     "output_type": "execute_result"
    }
   ],
   "source": [
    "df_copy.BP1_12_2.replace({1.0:'1',0.0:'0'}, inplace=True)\n",
    "df_copy.BP1_12_2.value_counts().astype('int64')"
   ]
  },
  {
   "cell_type": "code",
   "execution_count": 41,
   "metadata": {},
   "outputs": [
    {
     "data": {
      "text/plain": [
       "0.0    13097\n",
       "1.0      879\n",
       "Name: BP1_12_3, dtype: int64"
      ]
     },
     "execution_count": 41,
     "metadata": {},
     "output_type": "execute_result"
    }
   ],
   "source": [
    "df_copy.BP1_12_3.value_counts()"
   ]
  },
  {
   "cell_type": "code",
   "execution_count": 42,
   "metadata": {},
   "outputs": [
    {
     "data": {
      "text/plain": [
       "0    13097\n",
       "1      879\n",
       "Name: BP1_12_3, dtype: int64"
      ]
     },
     "execution_count": 42,
     "metadata": {},
     "output_type": "execute_result"
    }
   ],
   "source": [
    "df_copy.BP1_12_3.replace({1.0:'1',0.0:'0'}, inplace=True)\n",
    "df_copy.BP1_12_3.value_counts().astype('int64')"
   ]
  },
  {
   "cell_type": "code",
   "execution_count": 43,
   "metadata": {},
   "outputs": [
    {
     "data": {
      "text/plain": [
       "0.0    13214\n",
       "1.0      762\n",
       "Name: BP1_12_4, dtype: int64"
      ]
     },
     "execution_count": 43,
     "metadata": {},
     "output_type": "execute_result"
    }
   ],
   "source": [
    "df_copy.BP1_12_4.value_counts()"
   ]
  },
  {
   "cell_type": "code",
   "execution_count": 44,
   "metadata": {},
   "outputs": [
    {
     "data": {
      "text/plain": [
       "0    13214\n",
       "1      762\n",
       "Name: BP1_12_4, dtype: int64"
      ]
     },
     "execution_count": 44,
     "metadata": {},
     "output_type": "execute_result"
    }
   ],
   "source": [
    "df_copy.BP1_12_4.replace({1.0:'1',0.0:'0'}, inplace=True)\n",
    "df_copy.BP1_12_4.value_counts().astype('int64')"
   ]
  },
  {
   "cell_type": "code",
   "execution_count": 45,
   "metadata": {},
   "outputs": [
    {
     "data": {
      "text/plain": [
       "0.0    13587\n",
       "1.0      389\n",
       "Name: BP1_12_9, dtype: int64"
      ]
     },
     "execution_count": 45,
     "metadata": {},
     "output_type": "execute_result"
    }
   ],
   "source": [
    "df_copy.BP1_12_9.value_counts()"
   ]
  },
  {
   "cell_type": "code",
   "execution_count": 46,
   "metadata": {},
   "outputs": [
    {
     "data": {
      "text/plain": [
       "0    13587\n",
       "1      389\n",
       "Name: BP1_12_9, dtype: int64"
      ]
     },
     "execution_count": 46,
     "metadata": {},
     "output_type": "execute_result"
    }
   ],
   "source": [
    "df_copy.BP1_12_9.replace({1.0:'1',0.0:'0'}, inplace=True)\n",
    "df_copy.BP1_12_9.value_counts().astype('int64')"
   ]
  },
  {
   "cell_type": "code",
   "execution_count": 47,
   "metadata": {},
   "outputs": [
    {
     "data": {
      "text/plain": [
       "0.0    13533\n",
       "1.0      443\n",
       "Name: BP1_12_5, dtype: int64"
      ]
     },
     "execution_count": 47,
     "metadata": {},
     "output_type": "execute_result"
    }
   ],
   "source": [
    "df_copy.BP1_12_5.value_counts()"
   ]
  },
  {
   "cell_type": "code",
   "execution_count": 48,
   "metadata": {},
   "outputs": [
    {
     "data": {
      "text/plain": [
       "0    13533\n",
       "1      443\n",
       "Name: BP1_12_5, dtype: int64"
      ]
     },
     "execution_count": 48,
     "metadata": {},
     "output_type": "execute_result"
    }
   ],
   "source": [
    "df_copy.BP1_12_5.replace({1.0:'1',0.0:'0'}, inplace=True)\n",
    "df_copy.BP1_12_5.value_counts().astype('int64')"
   ]
  },
  {
   "cell_type": "code",
   "execution_count": 49,
   "metadata": {},
   "outputs": [
    {
     "data": {
      "text/plain": [
       "2.0    7690\n",
       "1.0    2447\n",
       "Name: BP1_13, dtype: int64"
      ]
     },
     "execution_count": 49,
     "metadata": {},
     "output_type": "execute_result"
    }
   ],
   "source": [
    "df_copy.BP1_13.value_counts()"
   ]
  },
  {
   "cell_type": "code",
   "execution_count": 50,
   "metadata": {},
   "outputs": [
    {
     "data": {
      "text/plain": [
       "2    7690\n",
       "1    2447\n",
       "Name: BP1_13, dtype: int64"
      ]
     },
     "execution_count": 50,
     "metadata": {},
     "output_type": "execute_result"
    }
   ],
   "source": [
    "df_copy.BP1_13.replace({1.0:'1',2.0:'2'}, inplace=True)\n",
    "df_copy.BP1_13.value_counts().astype('int64')"
   ]
  },
  {
   "cell_type": "code",
   "execution_count": 51,
   "metadata": {},
   "outputs": [
    {
     "data": {
      "text/plain": [
       "0.0    11255\n",
       "1.0     2721\n",
       "Name: BP1_14_1, dtype: int64"
      ]
     },
     "execution_count": 51,
     "metadata": {},
     "output_type": "execute_result"
    }
   ],
   "source": [
    "df_copy.BP1_14_1.value_counts()"
   ]
  },
  {
   "cell_type": "code",
   "execution_count": 52,
   "metadata": {},
   "outputs": [
    {
     "data": {
      "text/plain": [
       "0    11255\n",
       "1     2721\n",
       "Name: BP1_14_1, dtype: int64"
      ]
     },
     "execution_count": 52,
     "metadata": {},
     "output_type": "execute_result"
    }
   ],
   "source": [
    "df_copy.BP1_14_1.replace({1.0:'1',0.0:'0'}, inplace=True)\n",
    "df_copy.BP1_14_1.value_counts().astype('int64')"
   ]
  },
  {
   "cell_type": "code",
   "execution_count": 53,
   "metadata": {},
   "outputs": [
    {
     "data": {
      "text/plain": [
       "0.0    12094\n",
       "1.0     1882\n",
       "Name: BP1_14_2, dtype: int64"
      ]
     },
     "execution_count": 53,
     "metadata": {},
     "output_type": "execute_result"
    }
   ],
   "source": [
    "df_copy.BP1_14_2.value_counts()"
   ]
  },
  {
   "cell_type": "code",
   "execution_count": 54,
   "metadata": {},
   "outputs": [
    {
     "data": {
      "text/plain": [
       "0    12094\n",
       "1     1882\n",
       "Name: BP1_14_2, dtype: int64"
      ]
     },
     "execution_count": 54,
     "metadata": {},
     "output_type": "execute_result"
    }
   ],
   "source": [
    "df_copy.BP1_14_2.replace({1.0:'1',0.0:'0'}, inplace=True)\n",
    "df_copy.BP1_14_2.value_counts().astype('int64')"
   ]
  },
  {
   "cell_type": "code",
   "execution_count": 55,
   "metadata": {},
   "outputs": [
    {
     "data": {
      "text/plain": [
       "0.0    13959\n",
       "1.0       17\n",
       "Name: BP1_14_3, dtype: int64"
      ]
     },
     "execution_count": 55,
     "metadata": {},
     "output_type": "execute_result"
    }
   ],
   "source": [
    "df_copy.BP1_14_3.value_counts()"
   ]
  },
  {
   "cell_type": "code",
   "execution_count": 56,
   "metadata": {},
   "outputs": [
    {
     "data": {
      "text/plain": [
       "0    13959\n",
       "1       17\n",
       "Name: BP1_14_3, dtype: int64"
      ]
     },
     "execution_count": 56,
     "metadata": {},
     "output_type": "execute_result"
    }
   ],
   "source": [
    "df_copy.BP1_14_3.replace({1.0:'1',0.0:'0'}, inplace=True)\n",
    "df_copy.BP1_14_3.value_counts().astype('int64')"
   ]
  },
  {
   "cell_type": "code",
   "execution_count": 57,
   "metadata": {},
   "outputs": [
    {
     "data": {
      "text/plain": [
       "0.0    7193\n",
       "1.0    6783\n",
       "Name: BP1_14_4, dtype: int64"
      ]
     },
     "execution_count": 57,
     "metadata": {},
     "output_type": "execute_result"
    }
   ],
   "source": [
    "df_copy.BP1_14_4.value_counts()"
   ]
  },
  {
   "cell_type": "code",
   "execution_count": 58,
   "metadata": {},
   "outputs": [
    {
     "data": {
      "text/plain": [
       "0    7193\n",
       "1    6783\n",
       "Name: BP1_14_4, dtype: int64"
      ]
     },
     "execution_count": 58,
     "metadata": {},
     "output_type": "execute_result"
    }
   ],
   "source": [
    "df_copy.BP1_14_4.replace({1.0:'1',0.0:'0'}, inplace=True)\n",
    "df_copy.BP1_14_4.value_counts().astype('int64')"
   ]
  },
  {
   "cell_type": "code",
   "execution_count": 59,
   "metadata": {},
   "outputs": [
    {
     "data": {
      "text/plain": [
       "0.0    10892\n",
       "1.0     3084\n",
       "Name: BP1_14_9, dtype: int64"
      ]
     },
     "execution_count": 59,
     "metadata": {},
     "output_type": "execute_result"
    }
   ],
   "source": [
    "df_copy.BP1_14_9.value_counts()"
   ]
  },
  {
   "cell_type": "code",
   "execution_count": 60,
   "metadata": {},
   "outputs": [
    {
     "data": {
      "text/plain": [
       "0    10892\n",
       "1     3084\n",
       "Name: BP1_14_9, dtype: int64"
      ]
     },
     "execution_count": 60,
     "metadata": {},
     "output_type": "execute_result"
    }
   ],
   "source": [
    "df_copy.BP1_14_9.replace({1.0:'1',0.0:'0'}, inplace=True)\n",
    "df_copy.BP1_14_9.value_counts().astype('int64')"
   ]
  },
  {
   "cell_type": "code",
   "execution_count": 61,
   "metadata": {},
   "outputs": [
    {
     "data": {
      "text/plain": [
       "2.0    6441\n",
       "1.0    5357\n",
       "9.0    2178\n",
       "Name: BP1_15, dtype: int64"
      ]
     },
     "execution_count": 61,
     "metadata": {},
     "output_type": "execute_result"
    }
   ],
   "source": [
    "df_copy.BP1_15.value_counts()"
   ]
  },
  {
   "cell_type": "code",
   "execution_count": 62,
   "metadata": {},
   "outputs": [
    {
     "data": {
      "text/plain": [
       "2     6441\n",
       "1     5357\n",
       "99    2178\n",
       "Name: BP1_15, dtype: int64"
      ]
     },
     "execution_count": 62,
     "metadata": {},
     "output_type": "execute_result"
    }
   ],
   "source": [
    "df_copy.BP1_15.replace({1.0:'1',2.0:'2',9.0:'99'}, inplace=True)\n",
    "df_copy.BP1_15.value_counts().astype('int64')"
   ]
  },
  {
   "cell_type": "code",
   "execution_count": 63,
   "metadata": {},
   "outputs": [
    {
     "data": {
      "text/plain": [
       "1.0    3155\n",
       "0.0    2202\n",
       "Name: BP1_16_1, dtype: int64"
      ]
     },
     "execution_count": 63,
     "metadata": {},
     "output_type": "execute_result"
    }
   ],
   "source": [
    "df_copy.BP1_16_1.value_counts()"
   ]
  },
  {
   "cell_type": "code",
   "execution_count": 64,
   "metadata": {},
   "outputs": [
    {
     "data": {
      "text/plain": [
       "1    3155\n",
       "0    2202\n",
       "Name: BP1_16_1, dtype: int64"
      ]
     },
     "execution_count": 64,
     "metadata": {},
     "output_type": "execute_result"
    }
   ],
   "source": [
    "df_copy.BP1_16_1.replace({1.0:'1',0.0:'0'}, inplace=True)\n",
    "df_copy.BP1_16_1.value_counts().astype('int64')"
   ]
  },
  {
   "cell_type": "code",
   "execution_count": 65,
   "metadata": {},
   "outputs": [
    {
     "data": {
      "text/plain": [
       "0.0    3031\n",
       "1.0    2326\n",
       "Name: BP1_16_2, dtype: int64"
      ]
     },
     "execution_count": 65,
     "metadata": {},
     "output_type": "execute_result"
    }
   ],
   "source": [
    "df_copy.BP1_16_2.value_counts()"
   ]
  },
  {
   "cell_type": "code",
   "execution_count": 66,
   "metadata": {},
   "outputs": [
    {
     "data": {
      "text/plain": [
       "0    3031\n",
       "1    2326\n",
       "Name: BP1_16_2, dtype: int64"
      ]
     },
     "execution_count": 66,
     "metadata": {},
     "output_type": "execute_result"
    }
   ],
   "source": [
    "df_copy.BP1_16_2.replace({1.0:'1',0.0:'0'}, inplace=True)\n",
    "df_copy.BP1_16_2.value_counts().astype('int64')"
   ]
  },
  {
   "cell_type": "code",
   "execution_count": 67,
   "metadata": {},
   "outputs": [
    {
     "data": {
      "text/plain": [
       "0.0    5129\n",
       "1.0     228\n",
       "Name: BP1_16_3, dtype: int64"
      ]
     },
     "execution_count": 67,
     "metadata": {},
     "output_type": "execute_result"
    }
   ],
   "source": [
    "df_copy.BP1_16_3.value_counts()"
   ]
  },
  {
   "cell_type": "code",
   "execution_count": 68,
   "metadata": {},
   "outputs": [
    {
     "data": {
      "text/plain": [
       "0    5129\n",
       "1     228\n",
       "Name: BP1_16_3, dtype: int64"
      ]
     },
     "execution_count": 68,
     "metadata": {},
     "output_type": "execute_result"
    }
   ],
   "source": [
    "df_copy.BP1_16_3.replace({1.0:'1',0.0:'0'}, inplace=True)\n",
    "df_copy.BP1_16_3.value_counts().astype('int64')"
   ]
  },
  {
   "cell_type": "code",
   "execution_count": 69,
   "metadata": {},
   "outputs": [
    {
     "data": {
      "text/plain": [
       "0.0    5315\n",
       "1.0      42\n",
       "Name: BP1_16_4, dtype: int64"
      ]
     },
     "execution_count": 69,
     "metadata": {},
     "output_type": "execute_result"
    }
   ],
   "source": [
    "df_copy.BP1_16_4.value_counts()"
   ]
  },
  {
   "cell_type": "code",
   "execution_count": 70,
   "metadata": {},
   "outputs": [
    {
     "data": {
      "text/plain": [
       "0    5315\n",
       "1      42\n",
       "Name: BP1_16_4, dtype: int64"
      ]
     },
     "execution_count": 70,
     "metadata": {},
     "output_type": "execute_result"
    }
   ],
   "source": [
    "df_copy.BP1_16_4.replace({1.0:'1',0.0:'0'}, inplace=True)\n",
    "df_copy.BP1_16_4.value_counts().astype('int64')"
   ]
  },
  {
   "cell_type": "code",
   "execution_count": 71,
   "metadata": {},
   "outputs": [
    {
     "data": {
      "text/plain": [
       "0.0    5316\n",
       "1.0      41\n",
       "Name: BP1_16_9, dtype: int64"
      ]
     },
     "execution_count": 71,
     "metadata": {},
     "output_type": "execute_result"
    }
   ],
   "source": [
    "df_copy.BP1_16_9.value_counts()"
   ]
  },
  {
   "cell_type": "code",
   "execution_count": 72,
   "metadata": {},
   "outputs": [
    {
     "data": {
      "text/plain": [
       "0    5316\n",
       "1      41\n",
       "Name: BP1_16_9, dtype: int64"
      ]
     },
     "execution_count": 72,
     "metadata": {},
     "output_type": "execute_result"
    }
   ],
   "source": [
    "df_copy.BP1_16_9.replace({1.0:'1',0.0:'0'}, inplace=True)\n",
    "df_copy.BP1_16_9.value_counts().astype('int64')"
   ]
  },
  {
   "cell_type": "code",
   "execution_count": 73,
   "metadata": {},
   "outputs": [
    {
     "data": {
      "text/plain": [
       "2.0    4767\n",
       "1.0     585\n",
       "9.0       5\n",
       "Name: BP1_17, dtype: int64"
      ]
     },
     "execution_count": 73,
     "metadata": {},
     "output_type": "execute_result"
    }
   ],
   "source": [
    "df_copy.BP1_17.value_counts()"
   ]
  },
  {
   "cell_type": "code",
   "execution_count": 74,
   "metadata": {},
   "outputs": [
    {
     "data": {
      "text/plain": [
       "2     4767\n",
       "1      585\n",
       "99       5\n",
       "Name: BP1_17, dtype: int64"
      ]
     },
     "execution_count": 74,
     "metadata": {},
     "output_type": "execute_result"
    }
   ],
   "source": [
    "df_copy.BP1_17.replace({1.0:'1',2.0:'2',9.0:'99'}, inplace=True)\n",
    "df_copy.BP1_17.value_counts().astype('int64')"
   ]
  },
  {
   "cell_type": "code",
   "execution_count": 75,
   "metadata": {},
   "outputs": [
    {
     "data": {
      "text/plain": [
       "2.0    11059\n",
       "1.0     1966\n",
       "9.0      366\n",
       "Name: BP1_18, dtype: int64"
      ]
     },
     "execution_count": 75,
     "metadata": {},
     "output_type": "execute_result"
    }
   ],
   "source": [
    "df_copy.BP1_18.value_counts()"
   ]
  },
  {
   "cell_type": "code",
   "execution_count": 76,
   "metadata": {},
   "outputs": [
    {
     "data": {
      "text/plain": [
       "2     11059\n",
       "1      1966\n",
       "99      366\n",
       "Name: BP1_18, dtype: int64"
      ]
     },
     "execution_count": 76,
     "metadata": {},
     "output_type": "execute_result"
    }
   ],
   "source": [
    "df_copy.BP1_18.replace({1.0:'1',2.0:'2',9.0:'99'}, inplace=True)\n",
    "df_copy.BP1_18.value_counts().astype('int64')"
   ]
  },
  {
   "cell_type": "code",
   "execution_count": 77,
   "metadata": {},
   "outputs": [
    {
     "data": {
      "text/plain": [
       "1.0    1861\n",
       "0.0     690\n",
       "Name: BP1_19_1, dtype: int64"
      ]
     },
     "execution_count": 77,
     "metadata": {},
     "output_type": "execute_result"
    }
   ],
   "source": [
    "df_copy.BP1_19_1.value_counts()"
   ]
  },
  {
   "cell_type": "code",
   "execution_count": 78,
   "metadata": {},
   "outputs": [
    {
     "data": {
      "text/plain": [
       "1    1861\n",
       "0     690\n",
       "Name: BP1_19_1, dtype: int64"
      ]
     },
     "execution_count": 78,
     "metadata": {},
     "output_type": "execute_result"
    }
   ],
   "source": [
    "df_copy.BP1_19_1.replace({1.0:'1',0.0:'0'}, inplace=True)\n",
    "df_copy.BP1_19_1.value_counts().astype('int64')"
   ]
  },
  {
   "cell_type": "code",
   "execution_count": 79,
   "metadata": {},
   "outputs": [
    {
     "data": {
      "text/plain": [
       "0.0    2075\n",
       "1.0     476\n",
       "Name: BP1_19_2, dtype: int64"
      ]
     },
     "execution_count": 79,
     "metadata": {},
     "output_type": "execute_result"
    }
   ],
   "source": [
    "df_copy.BP1_19_2.value_counts()"
   ]
  },
  {
   "cell_type": "code",
   "execution_count": 80,
   "metadata": {},
   "outputs": [
    {
     "data": {
      "text/plain": [
       "0    2075\n",
       "1     476\n",
       "Name: BP1_19_2, dtype: int64"
      ]
     },
     "execution_count": 80,
     "metadata": {},
     "output_type": "execute_result"
    }
   ],
   "source": [
    "df_copy.BP1_19_2.replace({1.0:'1',0.0:'0'}, inplace=True)\n",
    "df_copy.BP1_19_2.value_counts().astype('int64')"
   ]
  },
  {
   "cell_type": "code",
   "execution_count": 81,
   "metadata": {},
   "outputs": [
    {
     "data": {
      "text/plain": [
       "0.0    2466\n",
       "1.0      85\n",
       "Name: BP1_19_3, dtype: int64"
      ]
     },
     "execution_count": 81,
     "metadata": {},
     "output_type": "execute_result"
    }
   ],
   "source": [
    "df_copy.BP1_19_3.value_counts()"
   ]
  },
  {
   "cell_type": "code",
   "execution_count": 82,
   "metadata": {},
   "outputs": [
    {
     "data": {
      "text/plain": [
       "0    2466\n",
       "1      85\n",
       "Name: BP1_19_3, dtype: int64"
      ]
     },
     "execution_count": 82,
     "metadata": {},
     "output_type": "execute_result"
    }
   ],
   "source": [
    "df_copy.BP1_19_3.replace({1.0:'1',0.0:'0'}, inplace=True)\n",
    "df_copy.BP1_19_3.value_counts().astype('int64')"
   ]
  },
  {
   "cell_type": "code",
   "execution_count": 83,
   "metadata": {},
   "outputs": [
    {
     "data": {
      "text/plain": [
       "0.0    2398\n",
       "1.0     153\n",
       "Name: BP1_19_4, dtype: int64"
      ]
     },
     "execution_count": 83,
     "metadata": {},
     "output_type": "execute_result"
    }
   ],
   "source": [
    "df_copy.BP1_19_4.value_counts()"
   ]
  },
  {
   "cell_type": "code",
   "execution_count": 84,
   "metadata": {},
   "outputs": [
    {
     "data": {
      "text/plain": [
       "0    2398\n",
       "1     153\n",
       "Name: BP1_19_4, dtype: int64"
      ]
     },
     "execution_count": 84,
     "metadata": {},
     "output_type": "execute_result"
    }
   ],
   "source": [
    "df_copy.BP1_19_4.replace({1.0:'1',0.0:'0'}, inplace=True)\n",
    "df_copy.BP1_19_4.value_counts().astype('int64')"
   ]
  },
  {
   "cell_type": "code",
   "execution_count": 85,
   "metadata": {},
   "outputs": [
    {
     "data": {
      "text/plain": [
       "0.0    2541\n",
       "1.0      10\n",
       "Name: BP1_19_5, dtype: int64"
      ]
     },
     "execution_count": 85,
     "metadata": {},
     "output_type": "execute_result"
    }
   ],
   "source": [
    "df_copy.BP1_19_5.value_counts()"
   ]
  },
  {
   "cell_type": "code",
   "execution_count": 86,
   "metadata": {},
   "outputs": [
    {
     "data": {
      "text/plain": [
       "0    2541\n",
       "1      10\n",
       "Name: BP1_19_5, dtype: int64"
      ]
     },
     "execution_count": 86,
     "metadata": {},
     "output_type": "execute_result"
    }
   ],
   "source": [
    "df_copy.BP1_19_5.replace({1.0:'1',0.0:'0'}, inplace=True)\n",
    "df_copy.BP1_19_5.value_counts().astype('int64')"
   ]
  },
  {
   "cell_type": "code",
   "execution_count": 87,
   "metadata": {},
   "outputs": [
    {
     "data": {
      "text/plain": [
       "0.0    2480\n",
       "1.0      71\n",
       "Name: BP1_19_6, dtype: int64"
      ]
     },
     "execution_count": 87,
     "metadata": {},
     "output_type": "execute_result"
    }
   ],
   "source": [
    "df_copy.BP1_19_6.value_counts()"
   ]
  },
  {
   "cell_type": "code",
   "execution_count": 88,
   "metadata": {},
   "outputs": [
    {
     "data": {
      "text/plain": [
       "0    2480\n",
       "1      71\n",
       "Name: BP1_19_6, dtype: int64"
      ]
     },
     "execution_count": 88,
     "metadata": {},
     "output_type": "execute_result"
    }
   ],
   "source": [
    "df_copy.BP1_19_6.replace({1.0:'1',0.0:'0'}, inplace=True)\n",
    "df_copy.BP1_19_6.value_counts().astype('int64')"
   ]
  },
  {
   "cell_type": "code",
   "execution_count": 89,
   "metadata": {},
   "outputs": [
    {
     "data": {
      "text/plain": [
       "0.0    2106\n",
       "1.0     445\n",
       "Name: BP1_19_8, dtype: int64"
      ]
     },
     "execution_count": 89,
     "metadata": {},
     "output_type": "execute_result"
    }
   ],
   "source": [
    "df_copy.BP1_19_8.value_counts()"
   ]
  },
  {
   "cell_type": "code",
   "execution_count": 90,
   "metadata": {},
   "outputs": [
    {
     "data": {
      "text/plain": [
       "0    2106\n",
       "1     445\n",
       "Name: BP1_19_8, dtype: int64"
      ]
     },
     "execution_count": 90,
     "metadata": {},
     "output_type": "execute_result"
    }
   ],
   "source": [
    "df_copy.BP1_19_8.replace({1.0:'1',0.0:'0'}, inplace=True)\n",
    "df_copy.BP1_19_8.value_counts().astype('int64')"
   ]
  },
  {
   "cell_type": "code",
   "execution_count": 91,
   "metadata": {},
   "outputs": [
    {
     "data": {
      "text/plain": [
       "0.0    2545\n",
       "1.0       6\n",
       "Name: BP1_19_7, dtype: int64"
      ]
     },
     "execution_count": 91,
     "metadata": {},
     "output_type": "execute_result"
    }
   ],
   "source": [
    "df_copy.BP1_19_7.value_counts()"
   ]
  },
  {
   "cell_type": "code",
   "execution_count": 92,
   "metadata": {},
   "outputs": [
    {
     "data": {
      "text/plain": [
       "0    2545\n",
       "1       6\n",
       "Name: BP1_19_7, dtype: int64"
      ]
     },
     "execution_count": 92,
     "metadata": {},
     "output_type": "execute_result"
    }
   ],
   "source": [
    "df_copy.BP1_19_7.replace({1.0:'1',0.0:'0'}, inplace=True)\n",
    "df_copy.BP1_19_7.value_counts().astype('int64')"
   ]
  },
  {
   "cell_type": "code",
   "execution_count": 93,
   "metadata": {},
   "outputs": [
    {
     "data": {
      "text/plain": [
       "2    38386\n",
       "1     5092\n",
       "Name: BP1_20, dtype: int64"
      ]
     },
     "execution_count": 93,
     "metadata": {},
     "output_type": "execute_result"
    }
   ],
   "source": [
    "df_copy.BP1_20.value_counts()"
   ]
  },
  {
   "cell_type": "code",
   "execution_count": 94,
   "metadata": {},
   "outputs": [
    {
     "data": {
      "text/plain": [
       "2.0    19342\n",
       "1.0      150\n",
       "9.0      119\n",
       "Name: BP1_21, dtype: int64"
      ]
     },
     "execution_count": 94,
     "metadata": {},
     "output_type": "execute_result"
    }
   ],
   "source": [
    "df_copy.BP1_21.value_counts()"
   ]
  },
  {
   "cell_type": "code",
   "execution_count": 95,
   "metadata": {},
   "outputs": [
    {
     "data": {
      "text/plain": [
       "2     19342\n",
       "1       150\n",
       "99      119\n",
       "Name: BP1_21, dtype: int64"
      ]
     },
     "execution_count": 95,
     "metadata": {},
     "output_type": "execute_result"
    }
   ],
   "source": [
    "df_copy.BP1_21.replace({1.0:'1',2.0:'2',9.0:99}, inplace=True)\n",
    "df_copy.BP1_21.value_counts().astype('int64')"
   ]
  },
  {
   "cell_type": "code",
   "execution_count": 96,
   "metadata": {},
   "outputs": [
    {
     "data": {
      "text/plain": [
       "2.0    111\n",
       "1.0     39\n",
       "Name: BP1_22, dtype: int64"
      ]
     },
     "execution_count": 96,
     "metadata": {},
     "output_type": "execute_result"
    }
   ],
   "source": [
    "df_copy.BP1_22.value_counts()"
   ]
  },
  {
   "cell_type": "code",
   "execution_count": 97,
   "metadata": {},
   "outputs": [
    {
     "data": {
      "text/plain": [
       "2    111\n",
       "1     39\n",
       "Name: BP1_22, dtype: int64"
      ]
     },
     "execution_count": 97,
     "metadata": {},
     "output_type": "execute_result"
    }
   ],
   "source": [
    "df_copy.BP1_22.replace({1.0:'1',2.0:'2'}, inplace=True)\n",
    "df_copy.BP1_22.value_counts().astype('int64')"
   ]
  },
  {
   "cell_type": "code",
   "execution_count": 98,
   "metadata": {},
   "outputs": [
    {
     "data": {
      "text/plain": [
       "4.0     12273\n",
       "6.0      6261\n",
       "3.0      5098\n",
       "7.0      4629\n",
       "5.0      2840\n",
       "9.0      2775\n",
       "1.0      2517\n",
       "8.0      1456\n",
       "2.0       219\n",
       "99.0      168\n",
       "Name: BP1_23, dtype: int64"
      ]
     },
     "execution_count": 98,
     "metadata": {},
     "output_type": "execute_result"
    }
   ],
   "source": [
    "df_copy.BP1_23.value_counts()"
   ]
  },
  {
   "cell_type": "code",
   "execution_count": 99,
   "metadata": {},
   "outputs": [
    {
     "data": {
      "text/plain": [
       "4     12273\n",
       "6      6261\n",
       "3      5098\n",
       "7      4629\n",
       "5      2840\n",
       "9      2775\n",
       "1      2517\n",
       "8      1456\n",
       "2       219\n",
       "99      168\n",
       "Name: BP1_23, dtype: int64"
      ]
     },
     "execution_count": 99,
     "metadata": {},
     "output_type": "execute_result"
    }
   ],
   "source": [
    "df_copy.BP1_23.replace({1.0:'1',2.0:'2',3.0:'3',4.0:'4',5.0:'5',6.0:'6',7.0:'7',8.0:'8',9.0:'9',99.0:'99'}, inplace=True)\n",
    "df_copy.BP1_23.value_counts().astype('int64')"
   ]
  },
  {
   "cell_type": "code",
   "execution_count": 100,
   "metadata": {},
   "outputs": [
    {
     "data": {
      "text/plain": [
       "1.0    3417\n",
       "2.0    1400\n",
       "9.0     314\n",
       "Name: BP1_24, dtype: int64"
      ]
     },
     "execution_count": 100,
     "metadata": {},
     "output_type": "execute_result"
    }
   ],
   "source": [
    "df_copy.BP1_24.value_counts()"
   ]
  },
  {
   "cell_type": "code",
   "execution_count": 101,
   "metadata": {},
   "outputs": [
    {
     "data": {
      "text/plain": [
       "1     3417\n",
       "2     1400\n",
       "99     314\n",
       "Name: BP1_24, dtype: int64"
      ]
     },
     "execution_count": 101,
     "metadata": {},
     "output_type": "execute_result"
    }
   ],
   "source": [
    "df_copy.BP1_24.replace({1.0:'1',2.0:'2',3.0:'3',4.0:'4',5.0:'5',6.0:'6',7.0:'7',8.0:'8',9.0:'99',99.0:'99'}, inplace=True)\n",
    "df_copy.BP1_24.value_counts().astype('int64')"
   ]
  },
  {
   "cell_type": "code",
   "execution_count": 102,
   "metadata": {},
   "outputs": [
    {
     "data": {
      "text/plain": [
       "5.0    1723\n",
       "2.0     791\n",
       "3.0     399\n",
       "4.0     234\n",
       "1.0     102\n",
       "9.0     100\n",
       "6.0      68\n",
       "Name: BP1_25, dtype: int64"
      ]
     },
     "execution_count": 102,
     "metadata": {},
     "output_type": "execute_result"
    }
   ],
   "source": [
    "df_copy.BP1_25.value_counts()"
   ]
  },
  {
   "cell_type": "code",
   "execution_count": 103,
   "metadata": {},
   "outputs": [
    {
     "data": {
      "text/plain": [
       "5     1723\n",
       "2      791\n",
       "3      399\n",
       "4      234\n",
       "1      102\n",
       "99     100\n",
       "6       68\n",
       "Name: BP1_25, dtype: int64"
      ]
     },
     "execution_count": 103,
     "metadata": {},
     "output_type": "execute_result"
    }
   ],
   "source": [
    "df_copy.BP1_25.replace({1.0:'1',2.0:'2',3.0:'3',4.0:'4',5.0:'5',6.0:'6',7.0:'7',8.0:'8',9.0:'99',99.0:'99'}, inplace=True)\n",
    "df_copy.BP1_25.value_counts().astype('int64')"
   ]
  },
  {
   "cell_type": "code",
   "execution_count": 104,
   "metadata": {},
   "outputs": [
    {
     "data": {
      "text/plain": [
       "4.0    465\n",
       "2.0    388\n",
       "1.0    146\n",
       "3.0    137\n",
       "6.0    116\n",
       "9.0    103\n",
       "5.0     45\n",
       "Name: BP1_26, dtype: int64"
      ]
     },
     "execution_count": 104,
     "metadata": {},
     "output_type": "execute_result"
    }
   ],
   "source": [
    "df_copy.BP1_26.value_counts()"
   ]
  },
  {
   "cell_type": "code",
   "execution_count": 105,
   "metadata": {},
   "outputs": [
    {
     "data": {
      "text/plain": [
       "4     465\n",
       "2     388\n",
       "1     146\n",
       "3     137\n",
       "6     116\n",
       "99    103\n",
       "5      45\n",
       "Name: BP1_26, dtype: int64"
      ]
     },
     "execution_count": 105,
     "metadata": {},
     "output_type": "execute_result"
    }
   ],
   "source": [
    "df_copy.BP1_26.replace({1.0:'1',2.0:'2',3.0:'3',4.0:'4',5.0:'5',6.0:'6',7.0:'7',8.0:'8',9.0:'99',99.0:'99'}, inplace=True)\n",
    "df_copy.BP1_26.value_counts().astype('int64')"
   ]
  },
  {
   "cell_type": "code",
   "execution_count": 106,
   "metadata": {},
   "outputs": [
    {
     "data": {
      "text/plain": [
       "2.0    1708\n",
       "4.0    1344\n",
       "3.0    1068\n",
       "1.0    1011\n",
       "Name: BP1_27, dtype: int64"
      ]
     },
     "execution_count": 106,
     "metadata": {},
     "output_type": "execute_result"
    }
   ],
   "source": [
    "df_copy.BP1_27.value_counts()"
   ]
  },
  {
   "cell_type": "code",
   "execution_count": 107,
   "metadata": {},
   "outputs": [
    {
     "data": {
      "text/plain": [
       "2    1708\n",
       "4    1344\n",
       "3    1068\n",
       "1    1011\n",
       "Name: BP1_27, dtype: int64"
      ]
     },
     "execution_count": 107,
     "metadata": {},
     "output_type": "execute_result"
    }
   ],
   "source": [
    "df_copy.BP1_27.replace({1.0:'1',2.0:'2',3.0:'3',4.0:'4',5.0:'5',6.0:'6',7.0:'7',8.0:'8',9.0:'99',99.0:'99'}, inplace=True)\n",
    "df_copy.BP1_27.value_counts().astype('int64')"
   ]
  },
  {
   "cell_type": "code",
   "execution_count": 108,
   "metadata": {},
   "outputs": [
    {
     "data": {
      "text/plain": [
       "3.0    2017\n",
       "2.0    1591\n",
       "5.0     531\n",
       "4.0     450\n",
       "6.0     256\n",
       "1.0     243\n",
       "9.0      43\n",
       "Name: BP1_28, dtype: int64"
      ]
     },
     "execution_count": 108,
     "metadata": {},
     "output_type": "execute_result"
    }
   ],
   "source": [
    "df_copy.BP1_28.value_counts()"
   ]
  },
  {
   "cell_type": "code",
   "execution_count": 109,
   "metadata": {},
   "outputs": [
    {
     "data": {
      "text/plain": [
       "3     2017\n",
       "2     1591\n",
       "5      531\n",
       "4      450\n",
       "6      256\n",
       "1      243\n",
       "99      43\n",
       "Name: BP1_28, dtype: int64"
      ]
     },
     "execution_count": 109,
     "metadata": {},
     "output_type": "execute_result"
    }
   ],
   "source": [
    "df_copy.BP1_28.replace({1.0:'1',2.0:'2',3.0:'3',4.0:'4',5.0:'5',6.0:'6',7.0:'7',8.0:'8',9.0:'99',99.0:'99'}, inplace=True)\n",
    "df_copy.BP1_28.value_counts().astype('int64')"
   ]
  },
  {
   "cell_type": "code",
   "execution_count": 110,
   "metadata": {},
   "outputs": [
    {
     "data": {
      "text/plain": [
       "2.0    2462\n",
       "3.0    1466\n",
       "4.0     909\n",
       "1.0     294\n",
       "Name: BP1_29, dtype: int64"
      ]
     },
     "execution_count": 110,
     "metadata": {},
     "output_type": "execute_result"
    }
   ],
   "source": [
    "df_copy.BP1_29.value_counts()"
   ]
  },
  {
   "cell_type": "code",
   "execution_count": 111,
   "metadata": {},
   "outputs": [
    {
     "data": {
      "text/plain": [
       "2    2462\n",
       "3    1466\n",
       "4     909\n",
       "1     294\n",
       "Name: BP1_29, dtype: int64"
      ]
     },
     "execution_count": 111,
     "metadata": {},
     "output_type": "execute_result"
    }
   ],
   "source": [
    "df_copy.BP1_29.replace({1.0:'1',2.0:'2',3.0:'3',4.0:'4',5.0:'5',6.0:'6',7.0:'7',8.0:'8',9.0:'99',99.0:'99'}, inplace=True)\n",
    "df_copy.BP1_29.value_counts().astype('int64')"
   ]
  },
  {
   "cell_type": "code",
   "execution_count": 112,
   "metadata": {},
   "outputs": [
    {
     "data": {
      "text/plain": [
       "2    40052\n",
       "1     3426\n",
       "Name: BP1_30, dtype: int64"
      ]
     },
     "execution_count": 112,
     "metadata": {},
     "output_type": "execute_result"
    }
   ],
   "source": [
    "df_copy.BP1_30.value_counts()"
   ]
  },
  {
   "cell_type": "code",
   "execution_count": 113,
   "metadata": {},
   "outputs": [
    {
     "data": {
      "text/plain": [
       "0.0    3168\n",
       "1.0     258\n",
       "Name: BP1_31_1, dtype: int64"
      ]
     },
     "execution_count": 113,
     "metadata": {},
     "output_type": "execute_result"
    }
   ],
   "source": [
    "df_copy.BP1_31_1.value_counts()"
   ]
  },
  {
   "cell_type": "code",
   "execution_count": 114,
   "metadata": {},
   "outputs": [
    {
     "data": {
      "text/plain": [
       "0    3168\n",
       "1     258\n",
       "Name: BP1_31_1, dtype: int64"
      ]
     },
     "execution_count": 114,
     "metadata": {},
     "output_type": "execute_result"
    }
   ],
   "source": [
    "df_copy.BP1_31_1.replace({1.0:'1',0.0:'0'}, inplace=True)\n",
    "df_copy.BP1_31_1.value_counts().astype('int64')"
   ]
  },
  {
   "cell_type": "code",
   "execution_count": 115,
   "metadata": {},
   "outputs": [
    {
     "data": {
      "text/plain": [
       "1.0    1921\n",
       "0.0    1505\n",
       "Name: BP1_31_2, dtype: int64"
      ]
     },
     "execution_count": 115,
     "metadata": {},
     "output_type": "execute_result"
    }
   ],
   "source": [
    "df_copy.BP1_31_2.value_counts()"
   ]
  },
  {
   "cell_type": "code",
   "execution_count": 116,
   "metadata": {},
   "outputs": [
    {
     "data": {
      "text/plain": [
       "1    1921\n",
       "0    1505\n",
       "Name: BP1_31_2, dtype: int64"
      ]
     },
     "execution_count": 116,
     "metadata": {},
     "output_type": "execute_result"
    }
   ],
   "source": [
    "df_copy.BP1_31_2.replace({1.0:'1',0.0:'0'}, inplace=True)\n",
    "df_copy.BP1_31_2.value_counts().astype('int64')"
   ]
  },
  {
   "cell_type": "code",
   "execution_count": 117,
   "metadata": {},
   "outputs": [
    {
     "data": {
      "text/plain": [
       "0.0    3346\n",
       "1.0      80\n",
       "Name: BP1_31_3, dtype: int64"
      ]
     },
     "execution_count": 117,
     "metadata": {},
     "output_type": "execute_result"
    }
   ],
   "source": [
    "df_copy.BP1_31_3.value_counts()"
   ]
  },
  {
   "cell_type": "code",
   "execution_count": 118,
   "metadata": {},
   "outputs": [
    {
     "data": {
      "text/plain": [
       "0    3346\n",
       "1      80\n",
       "Name: BP1_31_3, dtype: int64"
      ]
     },
     "execution_count": 118,
     "metadata": {},
     "output_type": "execute_result"
    }
   ],
   "source": [
    "df_copy.BP1_31_3.replace({1.0:'1',0.0:'0'}, inplace=True)\n",
    "df_copy.BP1_31_3.value_counts().astype('int64')"
   ]
  },
  {
   "cell_type": "code",
   "execution_count": 119,
   "metadata": {},
   "outputs": [
    {
     "data": {
      "text/plain": [
       "0.0    3068\n",
       "1.0     358\n",
       "Name: BP1_31_4, dtype: int64"
      ]
     },
     "execution_count": 119,
     "metadata": {},
     "output_type": "execute_result"
    }
   ],
   "source": [
    "df_copy.BP1_31_4.value_counts()"
   ]
  },
  {
   "cell_type": "code",
   "execution_count": 120,
   "metadata": {},
   "outputs": [
    {
     "data": {
      "text/plain": [
       "0    3068\n",
       "1     358\n",
       "Name: BP1_31_4, dtype: int64"
      ]
     },
     "execution_count": 120,
     "metadata": {},
     "output_type": "execute_result"
    }
   ],
   "source": [
    "df_copy.BP1_31_4.replace({1.0:'1',0.0:'0'}, inplace=True)\n",
    "df_copy.BP1_31_4.value_counts().astype('int64')"
   ]
  },
  {
   "cell_type": "code",
   "execution_count": 121,
   "metadata": {},
   "outputs": [
    {
     "data": {
      "text/plain": [
       "0.0    3276\n",
       "1.0     150\n",
       "Name: BP1_31_5, dtype: int64"
      ]
     },
     "execution_count": 121,
     "metadata": {},
     "output_type": "execute_result"
    }
   ],
   "source": [
    "df_copy.BP1_31_5.value_counts()"
   ]
  },
  {
   "cell_type": "code",
   "execution_count": 122,
   "metadata": {},
   "outputs": [
    {
     "data": {
      "text/plain": [
       "0    3276\n",
       "1     150\n",
       "Name: BP1_31_5, dtype: int64"
      ]
     },
     "execution_count": 122,
     "metadata": {},
     "output_type": "execute_result"
    }
   ],
   "source": [
    "df_copy.BP1_31_5.replace({1.0:'1',0.0:'0'}, inplace=True)\n",
    "df_copy.BP1_31_5.value_counts().astype('int64')"
   ]
  },
  {
   "cell_type": "code",
   "execution_count": 123,
   "metadata": {},
   "outputs": [
    {
     "data": {
      "text/plain": [
       "0.0    3338\n",
       "1.0      88\n",
       "Name: BP1_31_6, dtype: int64"
      ]
     },
     "execution_count": 123,
     "metadata": {},
     "output_type": "execute_result"
    }
   ],
   "source": [
    "df_copy.BP1_31_6.value_counts()"
   ]
  },
  {
   "cell_type": "code",
   "execution_count": 124,
   "metadata": {},
   "outputs": [
    {
     "data": {
      "text/plain": [
       "0    3338\n",
       "1      88\n",
       "Name: BP1_31_6, dtype: int64"
      ]
     },
     "execution_count": 124,
     "metadata": {},
     "output_type": "execute_result"
    }
   ],
   "source": [
    "df_copy.BP1_31_6.replace({1.0:'1',0.0:'0'}, inplace=True)\n",
    "df_copy.BP1_31_6.value_counts().astype('int64')"
   ]
  },
  {
   "cell_type": "code",
   "execution_count": 125,
   "metadata": {},
   "outputs": [
    {
     "data": {
      "text/plain": [
       "0.0    3335\n",
       "1.0      91\n",
       "Name: BP1_31_7, dtype: int64"
      ]
     },
     "execution_count": 125,
     "metadata": {},
     "output_type": "execute_result"
    }
   ],
   "source": [
    "df_copy.BP1_31_7.value_counts()"
   ]
  },
  {
   "cell_type": "code",
   "execution_count": 126,
   "metadata": {},
   "outputs": [
    {
     "data": {
      "text/plain": [
       "0    3335\n",
       "1      91\n",
       "Name: BP1_31_7, dtype: int64"
      ]
     },
     "execution_count": 126,
     "metadata": {},
     "output_type": "execute_result"
    }
   ],
   "source": [
    "df_copy.BP1_31_7.replace({1.0:'1',0.0:'0'}, inplace=True)\n",
    "df_copy.BP1_31_7.value_counts().astype('int64')"
   ]
  },
  {
   "cell_type": "code",
   "execution_count": 127,
   "metadata": {},
   "outputs": [
    {
     "data": {
      "text/plain": [
       "0.0    3040\n",
       "1.0     386\n",
       "Name: BP1_31_8, dtype: int64"
      ]
     },
     "execution_count": 127,
     "metadata": {},
     "output_type": "execute_result"
    }
   ],
   "source": [
    "df_copy.BP1_31_8.value_counts()"
   ]
  },
  {
   "cell_type": "code",
   "execution_count": 128,
   "metadata": {},
   "outputs": [
    {
     "data": {
      "text/plain": [
       "0    3040\n",
       "1     386\n",
       "Name: BP1_31_8, dtype: int64"
      ]
     },
     "execution_count": 128,
     "metadata": {},
     "output_type": "execute_result"
    }
   ],
   "source": [
    "df_copy.BP1_31_8.replace({1.0:'1',0.0:'0'}, inplace=True)\n",
    "df_copy.BP1_31_8.value_counts().astype('int64')"
   ]
  },
  {
   "cell_type": "code",
   "execution_count": 129,
   "metadata": {},
   "outputs": [
    {
     "data": {
      "text/plain": [
       "0.0    3200\n",
       "1.0     226\n",
       "Name: BP1_31_9, dtype: int64"
      ]
     },
     "execution_count": 129,
     "metadata": {},
     "output_type": "execute_result"
    }
   ],
   "source": [
    "df_copy.BP1_31_9.value_counts()"
   ]
  },
  {
   "cell_type": "code",
   "execution_count": 130,
   "metadata": {},
   "outputs": [
    {
     "data": {
      "text/plain": [
       "0    3200\n",
       "1     226\n",
       "Name: BP1_31_9, dtype: int64"
      ]
     },
     "execution_count": 130,
     "metadata": {},
     "output_type": "execute_result"
    }
   ],
   "source": [
    "df_copy.BP1_31_9.replace({1.0:'1',0.0:'0'}, inplace=True)\n",
    "df_copy.BP1_31_9.value_counts().astype('int64')"
   ]
  },
  {
   "cell_type": "code",
   "execution_count": 131,
   "metadata": {},
   "outputs": [
    {
     "data": {
      "text/plain": [
       "0.0    5428\n",
       "1.0    2366\n",
       "Name: BP1_32_1, dtype: int64"
      ]
     },
     "execution_count": 131,
     "metadata": {},
     "output_type": "execute_result"
    }
   ],
   "source": [
    "df_copy.BP1_32_1.value_counts()"
   ]
  },
  {
   "cell_type": "code",
   "execution_count": 132,
   "metadata": {},
   "outputs": [
    {
     "data": {
      "text/plain": [
       "0    5428\n",
       "1    2366\n",
       "Name: BP1_32_1, dtype: int64"
      ]
     },
     "execution_count": 132,
     "metadata": {},
     "output_type": "execute_result"
    }
   ],
   "source": [
    "df_copy.BP1_32_1.replace({1.0:'1',0.0:'0'}, inplace=True)\n",
    "df_copy.BP1_32_1.value_counts().astype('int64')"
   ]
  },
  {
   "cell_type": "code",
   "execution_count": 133,
   "metadata": {},
   "outputs": [
    {
     "data": {
      "text/plain": [
       "0.0    7726\n",
       "1.0      68\n",
       "Name: BP1_32_2, dtype: int64"
      ]
     },
     "execution_count": 133,
     "metadata": {},
     "output_type": "execute_result"
    }
   ],
   "source": [
    "df_copy.BP1_32_2.value_counts()"
   ]
  },
  {
   "cell_type": "code",
   "execution_count": 134,
   "metadata": {},
   "outputs": [
    {
     "data": {
      "text/plain": [
       "0    7726\n",
       "1      68\n",
       "Name: BP1_32_2, dtype: int64"
      ]
     },
     "execution_count": 134,
     "metadata": {},
     "output_type": "execute_result"
    }
   ],
   "source": [
    "df_copy.BP1_32_2.replace({1.0:'1',0.0:'0'}, inplace=True)\n",
    "df_copy.BP1_32_2.value_counts().astype('int64')"
   ]
  },
  {
   "cell_type": "code",
   "execution_count": 135,
   "metadata": {},
   "outputs": [
    {
     "data": {
      "text/plain": [
       "0.0    7763\n",
       "1.0      31\n",
       "Name: BP1_32_3, dtype: int64"
      ]
     },
     "execution_count": 135,
     "metadata": {},
     "output_type": "execute_result"
    }
   ],
   "source": [
    "df_copy.BP1_32_3.value_counts()"
   ]
  },
  {
   "cell_type": "code",
   "execution_count": 136,
   "metadata": {},
   "outputs": [
    {
     "data": {
      "text/plain": [
       "0    7763\n",
       "1      31\n",
       "Name: BP1_32_3, dtype: int64"
      ]
     },
     "execution_count": 136,
     "metadata": {},
     "output_type": "execute_result"
    }
   ],
   "source": [
    "df_copy.BP1_32_3.replace({1.0:'1',0.0:'0'}, inplace=True)\n",
    "df_copy.BP1_32_3.value_counts().astype('int64')"
   ]
  },
  {
   "cell_type": "code",
   "execution_count": 137,
   "metadata": {},
   "outputs": [
    {
     "data": {
      "text/plain": [
       "0.0    7772\n",
       "1.0      22\n",
       "Name: BP1_32_4, dtype: int64"
      ]
     },
     "execution_count": 137,
     "metadata": {},
     "output_type": "execute_result"
    }
   ],
   "source": [
    "df_copy.BP1_32_4.value_counts()"
   ]
  },
  {
   "cell_type": "code",
   "execution_count": 138,
   "metadata": {},
   "outputs": [
    {
     "data": {
      "text/plain": [
       "0    7772\n",
       "1      22\n",
       "Name: BP1_32_4, dtype: int64"
      ]
     },
     "execution_count": 138,
     "metadata": {},
     "output_type": "execute_result"
    }
   ],
   "source": [
    "df_copy.BP1_32_4.replace({1.0:'1',0.0:'0'}, inplace=True)\n",
    "df_copy.BP1_32_4.value_counts().astype('int64')"
   ]
  },
  {
   "cell_type": "code",
   "execution_count": 139,
   "metadata": {},
   "outputs": [
    {
     "data": {
      "text/plain": [
       "1.0    5297\n",
       "0.0    2497\n",
       "Name: BP1_32_5, dtype: int64"
      ]
     },
     "execution_count": 139,
     "metadata": {},
     "output_type": "execute_result"
    }
   ],
   "source": [
    "df_copy.BP1_32_5.value_counts()"
   ]
  },
  {
   "cell_type": "code",
   "execution_count": 140,
   "metadata": {},
   "outputs": [
    {
     "data": {
      "text/plain": [
       "1    5297\n",
       "0    2497\n",
       "Name: BP1_32_5, dtype: int64"
      ]
     },
     "execution_count": 140,
     "metadata": {},
     "output_type": "execute_result"
    }
   ],
   "source": [
    "df_copy.BP1_32_5.replace({1.0:'1',0.0:'0'}, inplace=True)\n",
    "df_copy.BP1_32_5.value_counts().astype('int64')"
   ]
  },
  {
   "cell_type": "code",
   "execution_count": 141,
   "metadata": {},
   "outputs": [
    {
     "data": {
      "text/plain": [
       "0.0    7751\n",
       "1.0      43\n",
       "Name: BP1_32_9, dtype: int64"
      ]
     },
     "execution_count": 141,
     "metadata": {},
     "output_type": "execute_result"
    }
   ],
   "source": [
    "df_copy.BP1_32_9.value_counts()"
   ]
  },
  {
   "cell_type": "code",
   "execution_count": 142,
   "metadata": {},
   "outputs": [
    {
     "data": {
      "text/plain": [
       "0    7751\n",
       "1      43\n",
       "Name: BP1_32_9, dtype: int64"
      ]
     },
     "execution_count": 142,
     "metadata": {},
     "output_type": "execute_result"
    }
   ],
   "source": [
    "df_copy.BP1_32_9.replace({1.0:'1',0.0:'0'}, inplace=True)\n",
    "df_copy.BP1_32_9.value_counts().astype('int64')"
   ]
  },
  {
   "cell_type": "code",
   "execution_count": 143,
   "metadata": {},
   "outputs": [
    {
     "data": {
      "text/plain": [
       "1    26097\n",
       "3     8948\n",
       "5     6877\n",
       "2     1266\n",
       "4      227\n",
       "9       63\n",
       "Name: BP1_33, dtype: int64"
      ]
     },
     "execution_count": 143,
     "metadata": {},
     "output_type": "execute_result"
    }
   ],
   "source": [
    "df_copy.BP1_33.value_counts()"
   ]
  },
  {
   "cell_type": "code",
   "execution_count": 144,
   "metadata": {},
   "outputs": [
    {
     "data": {
      "text/plain": [
       "1     26097\n",
       "3      8948\n",
       "5      6877\n",
       "2      1266\n",
       "4       227\n",
       "99       63\n",
       "Name: BP1_33, dtype: int64"
      ]
     },
     "execution_count": 144,
     "metadata": {},
     "output_type": "execute_result"
    }
   ],
   "source": [
    "df_copy.BP1_33.replace({9:99}, inplace=True)\n",
    "df_copy.BP1_33.value_counts().astype('int64')"
   ]
  },
  {
   "cell_type": "code",
   "execution_count": 145,
   "metadata": {},
   "outputs": [
    {
     "data": {
      "text/plain": [
       "0.0          8840\n",
       "1000.0       2212\n",
       "2000.0       2018\n",
       "500.0        1866\n",
       "3000.0       1662\n",
       "1500.0       1462\n",
       "5000.0       1258\n",
       "300.0        1242\n",
       "200.0        1193\n",
       "800.0         836\n",
       "4000.0        776\n",
       "600.0         749\n",
       "10000.0       711\n",
       "100.0         691\n",
       "400.0         627\n",
       "1200.0        615\n",
       "2500.0        614\n",
       "9999999.0     531\n",
       "6000.0        506\n",
       "700.0         468\n",
       "15000.0       431\n",
       "20000.0       402\n",
       "7000.0        394\n",
       "8000.0        351\n",
       "3500.0        336\n",
       "30000.0       316\n",
       "150.0         278\n",
       "1800.0        208\n",
       "12000.0       204\n",
       "1300.0        190\n",
       "             ... \n",
       "2160.0          1\n",
       "565.0           1\n",
       "279.0           1\n",
       "910.0           1\n",
       "4550.0          1\n",
       "9800.0          1\n",
       "3825.0          1\n",
       "36.0            1\n",
       "7680.0          1\n",
       "10100.0         1\n",
       "66000.0         1\n",
       "1950.0          1\n",
       "5380.0          1\n",
       "680.0           1\n",
       "2350.0          1\n",
       "50400.0         1\n",
       "50300.0         1\n",
       "1090.0          1\n",
       "12400.0         1\n",
       "570.0           1\n",
       "125.0           1\n",
       "3050.0          1\n",
       "7600.0          1\n",
       "11800.0         1\n",
       "369.0           1\n",
       "320000.0        1\n",
       "2524.0          1\n",
       "190.0           1\n",
       "3979.0          1\n",
       "1060.0          1\n",
       "Name: BP1_34, Length: 399, dtype: int64"
      ]
     },
     "execution_count": 145,
     "metadata": {},
     "output_type": "execute_result"
    }
   ],
   "source": [
    "df_copy.BP1_34.value_counts()\n",
    "#Pendiente"
   ]
  },
  {
   "cell_type": "code",
   "execution_count": 146,
   "metadata": {},
   "outputs": [
    {
     "data": {
      "text/plain": [
       "0          8840\n",
       "nan        6940\n",
       "1000       2212\n",
       "2000       2018\n",
       "500        1866\n",
       "3000       1662\n",
       "1500       1462\n",
       "5000       1258\n",
       "300        1242\n",
       "200        1193\n",
       "800         836\n",
       "4000        776\n",
       "600         749\n",
       "10000       711\n",
       "100         691\n",
       "400         627\n",
       "1200        615\n",
       "2500        614\n",
       "9999999     531\n",
       "6000        506\n",
       "700         468\n",
       "15000       431\n",
       "20000       402\n",
       "7000        394\n",
       "8000        351\n",
       "3500        336\n",
       "30000       316\n",
       "150         278\n",
       "1800        208\n",
       "12000       204\n",
       "           ... \n",
       "1595          1\n",
       "3250          1\n",
       "2260          1\n",
       "11300         1\n",
       "3070          1\n",
       "3060          1\n",
       "3058          1\n",
       "3050          1\n",
       "650000        1\n",
       "2524          1\n",
       "84375         1\n",
       "2450          1\n",
       "2386          1\n",
       "2370          1\n",
       "2350          1\n",
       "2160          1\n",
       "9800          1\n",
       "2150          1\n",
       "2125          1\n",
       "2080          1\n",
       "600000        1\n",
       "1980          1\n",
       "10160         1\n",
       "1915          1\n",
       "10100         1\n",
       "1870          1\n",
       "51000         1\n",
       "26300         1\n",
       "1625          1\n",
       "1950          1\n",
       "Name: BP1_34, Length: 400, dtype: int64"
      ]
     },
     "execution_count": 146,
     "metadata": {},
     "output_type": "execute_result"
    }
   ],
   "source": [
    "l=[]\n",
    "for i in df_copy.BP1_34:\n",
    "    k = str(i)\n",
    "    if(k != \"nan\"):\n",
    "        k = int(eval(k))\n",
    "        l.append(k)\n",
    "    else:\n",
    "        l.append(k)\n",
    "df_copy.BP1_34 = l\n",
    "df_copy.BP1_34.value_counts()"
   ]
  },
  {
   "cell_type": "code",
   "execution_count": 147,
   "metadata": {},
   "outputs": [
    {
     "data": {
      "text/plain": [
       "0.0          34539\n",
       "500.0          219\n",
       "1000.0         174\n",
       "2000.0         153\n",
       "300.0          140\n",
       "5000.0         108\n",
       "3000.0         101\n",
       "200.0          100\n",
       "1500.0          95\n",
       "9999999.0       84\n",
       "400.0           65\n",
       "10000.0         62\n",
       "600.0           58\n",
       "100.0           58\n",
       "800.0           51\n",
       "4000.0          33\n",
       "6000.0          33\n",
       "150.0           33\n",
       "700.0           31\n",
       "20000.0         26\n",
       "2500.0          26\n",
       "15000.0         24\n",
       "50.0            24\n",
       "3500.0          21\n",
       "8000.0          19\n",
       "1200.0          19\n",
       "50000.0         15\n",
       "30000.0         14\n",
       "250.0           12\n",
       "7000.0          11\n",
       "             ...  \n",
       "66000.0          1\n",
       "26000.0          1\n",
       "37000.0          1\n",
       "114.0            1\n",
       "360.0            1\n",
       "64.0             1\n",
       "230.0            1\n",
       "22000.0          1\n",
       "3200.0           1\n",
       "240.0            1\n",
       "65000.0          1\n",
       "16000.0          1\n",
       "40.0             1\n",
       "270.0            1\n",
       "220.0            1\n",
       "32000.0          1\n",
       "25.0             1\n",
       "6800.0           1\n",
       "38000.0          1\n",
       "300000.0         1\n",
       "250000.0         1\n",
       "10500.0          1\n",
       "480.0            1\n",
       "170.0            1\n",
       "15.0             1\n",
       "500000.0         1\n",
       "4800.0           1\n",
       "21000.0          1\n",
       "2100.0           1\n",
       "550.0            1\n",
       "Name: BP1_35, Length: 113, dtype: int64"
      ]
     },
     "execution_count": 147,
     "metadata": {},
     "output_type": "execute_result"
    }
   ],
   "source": [
    "df_copy.BP1_35.value_counts()\n",
    "#Pendiente"
   ]
  },
  {
   "cell_type": "code",
   "execution_count": 148,
   "metadata": {},
   "outputs": [
    {
     "data": {
      "text/plain": [
       "0          34539\n",
       "nan         6940\n",
       "500          219\n",
       "1000         174\n",
       "2000         153\n",
       "300          140\n",
       "5000         108\n",
       "3000         101\n",
       "200          100\n",
       "1500          95\n",
       "9999999       84\n",
       "400           65\n",
       "10000         62\n",
       "100           58\n",
       "600           58\n",
       "800           51\n",
       "6000          33\n",
       "4000          33\n",
       "150           33\n",
       "700           31\n",
       "2500          26\n",
       "20000         26\n",
       "15000         24\n",
       "50            24\n",
       "3500          21\n",
       "8000          19\n",
       "1200          19\n",
       "50000         15\n",
       "30000         14\n",
       "250           12\n",
       "           ...  \n",
       "92             1\n",
       "230            1\n",
       "220            1\n",
       "37000          1\n",
       "240            1\n",
       "270            1\n",
       "3200           1\n",
       "3100           1\n",
       "85000          1\n",
       "21000          1\n",
       "2800           1\n",
       "4800           1\n",
       "10500          1\n",
       "2100           1\n",
       "300000         1\n",
       "38000          1\n",
       "26000          1\n",
       "16000          1\n",
       "22000          1\n",
       "750            1\n",
       "740            1\n",
       "250000         1\n",
       "550            1\n",
       "6600           1\n",
       "480            1\n",
       "66000          1\n",
       "6800           1\n",
       "360            1\n",
       "500000         1\n",
       "6500           1\n",
       "Name: BP1_35, Length: 114, dtype: int64"
      ]
     },
     "execution_count": 148,
     "metadata": {},
     "output_type": "execute_result"
    }
   ],
   "source": [
    "l=[]\n",
    "for i in df_copy.BP1_35:\n",
    "    k = str(i)\n",
    "    if(k != \"nan\"):\n",
    "        k = int(eval(k))\n",
    "        l.append(k)\n",
    "    else:\n",
    "        l.append(k)\n",
    "df_copy.BP1_35 = l\n",
    "df_copy.BP1_35.value_counts()"
   ]
  },
  {
   "cell_type": "code",
   "execution_count": 149,
   "metadata": {},
   "outputs": [
    {
     "data": {
      "text/plain": [
       "0.0    8631\n",
       "1.0    3074\n",
       "Name: BP1_36_01, dtype: int64"
      ]
     },
     "execution_count": 149,
     "metadata": {},
     "output_type": "execute_result"
    }
   ],
   "source": [
    "df_copy.BP1_36_01.value_counts()"
   ]
  },
  {
   "cell_type": "code",
   "execution_count": 150,
   "metadata": {},
   "outputs": [
    {
     "data": {
      "text/plain": [
       "0    8631\n",
       "1    3074\n",
       "Name: BP1_36_01, dtype: int64"
      ]
     },
     "execution_count": 150,
     "metadata": {},
     "output_type": "execute_result"
    }
   ],
   "source": [
    "df_copy.BP1_36_01.replace({1.0:'1',0.0:'0'}, inplace=True)\n",
    "df_copy.BP1_36_01.value_counts().astype('int64')"
   ]
  },
  {
   "cell_type": "code",
   "execution_count": 151,
   "metadata": {},
   "outputs": [
    {
     "data": {
      "text/plain": [
       "0.0    8935\n",
       "1.0    2770\n",
       "Name: BP1_36_02, dtype: int64"
      ]
     },
     "execution_count": 151,
     "metadata": {},
     "output_type": "execute_result"
    }
   ],
   "source": [
    "df_copy.BP1_36_02.value_counts()"
   ]
  },
  {
   "cell_type": "code",
   "execution_count": 152,
   "metadata": {},
   "outputs": [
    {
     "data": {
      "text/plain": [
       "0    8935\n",
       "1    2770\n",
       "Name: BP1_36_02, dtype: int64"
      ]
     },
     "execution_count": 152,
     "metadata": {},
     "output_type": "execute_result"
    }
   ],
   "source": [
    "df_copy.BP1_36_02.replace({1.0:'1',0.0:'0'}, inplace=True)\n",
    "df_copy.BP1_36_02.value_counts().astype('int64')"
   ]
  },
  {
   "cell_type": "code",
   "execution_count": 153,
   "metadata": {},
   "outputs": [
    {
     "data": {
      "text/plain": [
       "0.0    7580\n",
       "1.0    4125\n",
       "Name: BP1_36_03, dtype: int64"
      ]
     },
     "execution_count": 153,
     "metadata": {},
     "output_type": "execute_result"
    }
   ],
   "source": [
    "df_copy.BP1_36_03.value_counts()"
   ]
  },
  {
   "cell_type": "code",
   "execution_count": 154,
   "metadata": {},
   "outputs": [
    {
     "data": {
      "text/plain": [
       "0    7580\n",
       "1    4125\n",
       "Name: BP1_36_03, dtype: int64"
      ]
     },
     "execution_count": 154,
     "metadata": {},
     "output_type": "execute_result"
    }
   ],
   "source": [
    "df_copy.BP1_36_03.replace({1.0:'1',0.0:'0'}, inplace=True)\n",
    "df_copy.BP1_36_03.value_counts().astype('int64')"
   ]
  },
  {
   "cell_type": "code",
   "execution_count": 155,
   "metadata": {},
   "outputs": [
    {
     "data": {
      "text/plain": [
       "0.0    7443\n",
       "1.0    4262\n",
       "Name: BP1_36_04, dtype: int64"
      ]
     },
     "execution_count": 155,
     "metadata": {},
     "output_type": "execute_result"
    }
   ],
   "source": [
    "df_copy.BP1_36_04.value_counts()"
   ]
  },
  {
   "cell_type": "code",
   "execution_count": 156,
   "metadata": {},
   "outputs": [
    {
     "data": {
      "text/plain": [
       "0    7443\n",
       "1    4262\n",
       "Name: BP1_36_04, dtype: int64"
      ]
     },
     "execution_count": 156,
     "metadata": {},
     "output_type": "execute_result"
    }
   ],
   "source": [
    "df_copy.BP1_36_04.replace({1.0:'1',0.0:'0'}, inplace=True)\n",
    "df_copy.BP1_36_04.value_counts().astype('int64')"
   ]
  },
  {
   "cell_type": "code",
   "execution_count": 157,
   "metadata": {},
   "outputs": [
    {
     "data": {
      "text/plain": [
       "0.0    10888\n",
       "1.0      817\n",
       "Name: BP1_36_05, dtype: int64"
      ]
     },
     "execution_count": 157,
     "metadata": {},
     "output_type": "execute_result"
    }
   ],
   "source": [
    "df_copy.BP1_36_05.value_counts()"
   ]
  },
  {
   "cell_type": "code",
   "execution_count": 158,
   "metadata": {},
   "outputs": [
    {
     "data": {
      "text/plain": [
       "0    10888\n",
       "1      817\n",
       "Name: BP1_36_05, dtype: int64"
      ]
     },
     "execution_count": 158,
     "metadata": {},
     "output_type": "execute_result"
    }
   ],
   "source": [
    "df_copy.BP1_36_05.replace({1.0:'1',0.0:'0'}, inplace=True)\n",
    "df_copy.BP1_36_05.value_counts().astype('int64')"
   ]
  },
  {
   "cell_type": "code",
   "execution_count": 159,
   "metadata": {},
   "outputs": [
    {
     "data": {
      "text/plain": [
       "0.0    9387\n",
       "1.0    2318\n",
       "Name: BP1_36_06, dtype: int64"
      ]
     },
     "execution_count": 159,
     "metadata": {},
     "output_type": "execute_result"
    }
   ],
   "source": [
    "df_copy.BP1_36_06.value_counts()"
   ]
  },
  {
   "cell_type": "code",
   "execution_count": 160,
   "metadata": {},
   "outputs": [
    {
     "data": {
      "text/plain": [
       "0    9387\n",
       "1    2318\n",
       "Name: BP1_36_06, dtype: int64"
      ]
     },
     "execution_count": 160,
     "metadata": {},
     "output_type": "execute_result"
    }
   ],
   "source": [
    "df_copy.BP1_36_06.replace({1.0:'1',0.0:'0'}, inplace=True)\n",
    "df_copy.BP1_36_06.value_counts().astype('int64')"
   ]
  },
  {
   "cell_type": "code",
   "execution_count": 161,
   "metadata": {},
   "outputs": [
    {
     "data": {
      "text/plain": [
       "0.0    10159\n",
       "1.0     1546\n",
       "Name: BP1_36_07, dtype: int64"
      ]
     },
     "execution_count": 161,
     "metadata": {},
     "output_type": "execute_result"
    }
   ],
   "source": [
    "df_copy.BP1_36_07.value_counts()"
   ]
  },
  {
   "cell_type": "code",
   "execution_count": 162,
   "metadata": {},
   "outputs": [
    {
     "data": {
      "text/plain": [
       "0    10159\n",
       "1     1546\n",
       "Name: BP1_36_07, dtype: int64"
      ]
     },
     "execution_count": 162,
     "metadata": {},
     "output_type": "execute_result"
    }
   ],
   "source": [
    "df_copy.BP1_36_07.replace({1.0:'1',0.0:'0'}, inplace=True)\n",
    "df_copy.BP1_36_07.value_counts().astype('int64')"
   ]
  },
  {
   "cell_type": "code",
   "execution_count": 163,
   "metadata": {},
   "outputs": [
    {
     "data": {
      "text/plain": [
       "0.0    7877\n",
       "1.0    3828\n",
       "Name: BP1_36_08, dtype: int64"
      ]
     },
     "execution_count": 163,
     "metadata": {},
     "output_type": "execute_result"
    }
   ],
   "source": [
    "df_copy.BP1_36_08.value_counts()"
   ]
  },
  {
   "cell_type": "code",
   "execution_count": 164,
   "metadata": {},
   "outputs": [
    {
     "data": {
      "text/plain": [
       "0    7877\n",
       "1    3828\n",
       "Name: BP1_36_08, dtype: int64"
      ]
     },
     "execution_count": 164,
     "metadata": {},
     "output_type": "execute_result"
    }
   ],
   "source": [
    "df_copy.BP1_36_08.replace({1.0:'1',0.0:'0'}, inplace=True)\n",
    "df_copy.BP1_36_08.value_counts().astype('int64')"
   ]
  },
  {
   "cell_type": "code",
   "execution_count": 165,
   "metadata": {},
   "outputs": [
    {
     "data": {
      "text/plain": [
       "0.0    6833\n",
       "1.0    4872\n",
       "Name: BP1_36_09, dtype: int64"
      ]
     },
     "execution_count": 165,
     "metadata": {},
     "output_type": "execute_result"
    }
   ],
   "source": [
    "df_copy.BP1_36_09.value_counts()"
   ]
  },
  {
   "cell_type": "code",
   "execution_count": 166,
   "metadata": {},
   "outputs": [
    {
     "data": {
      "text/plain": [
       "0    6833\n",
       "1    4872\n",
       "Name: BP1_36_09, dtype: int64"
      ]
     },
     "execution_count": 166,
     "metadata": {},
     "output_type": "execute_result"
    }
   ],
   "source": [
    "df_copy.BP1_36_09.replace({1.0:'1',0.0:'0'}, inplace=True)\n",
    "df_copy.BP1_36_09.value_counts().astype('int64')"
   ]
  },
  {
   "cell_type": "code",
   "execution_count": 167,
   "metadata": {},
   "outputs": [
    {
     "data": {
      "text/plain": [
       "0.0    11294\n",
       "1.0      411\n",
       "Name: BP1_36_10, dtype: int64"
      ]
     },
     "execution_count": 167,
     "metadata": {},
     "output_type": "execute_result"
    }
   ],
   "source": [
    "df_copy.BP1_36_10.value_counts()"
   ]
  },
  {
   "cell_type": "code",
   "execution_count": 168,
   "metadata": {},
   "outputs": [
    {
     "data": {
      "text/plain": [
       "0    11294\n",
       "1      411\n",
       "Name: BP1_36_10, dtype: int64"
      ]
     },
     "execution_count": 168,
     "metadata": {},
     "output_type": "execute_result"
    }
   ],
   "source": [
    "df_copy.BP1_36_10.replace({1.0:'1',0.0:'0'}, inplace=True)\n",
    "df_copy.BP1_36_10.value_counts().astype('int64')"
   ]
  },
  {
   "cell_type": "code",
   "execution_count": 169,
   "metadata": {},
   "outputs": [
    {
     "data": {
      "text/plain": [
       "0.0    11431\n",
       "1.0      274\n",
       "Name: BP1_36_11, dtype: int64"
      ]
     },
     "execution_count": 169,
     "metadata": {},
     "output_type": "execute_result"
    }
   ],
   "source": [
    "df_copy.BP1_36_11.value_counts()"
   ]
  },
  {
   "cell_type": "code",
   "execution_count": 170,
   "metadata": {},
   "outputs": [
    {
     "data": {
      "text/plain": [
       "0    11431\n",
       "1      274\n",
       "Name: BP1_36_11, dtype: int64"
      ]
     },
     "execution_count": 170,
     "metadata": {},
     "output_type": "execute_result"
    }
   ],
   "source": [
    "df_copy.BP1_36_11.replace({1.0:'1',0.0:'0'}, inplace=True)\n",
    "df_copy.BP1_36_11.value_counts().astype('int64')"
   ]
  },
  {
   "cell_type": "code",
   "execution_count": 171,
   "metadata": {},
   "outputs": [
    {
     "data": {
      "text/plain": [
       "0.0    11642\n",
       "1.0       63\n",
       "Name: BP1_36_99, dtype: int64"
      ]
     },
     "execution_count": 171,
     "metadata": {},
     "output_type": "execute_result"
    }
   ],
   "source": [
    "df_copy.BP1_36_99.value_counts()"
   ]
  },
  {
   "cell_type": "code",
   "execution_count": 172,
   "metadata": {},
   "outputs": [
    {
     "data": {
      "text/plain": [
       "0    11642\n",
       "1       63\n",
       "Name: BP1_36_99, dtype: int64"
      ]
     },
     "execution_count": 172,
     "metadata": {},
     "output_type": "execute_result"
    }
   ],
   "source": [
    "df_copy.BP1_36_99.replace({1.0:'1',0.0:'0'}, inplace=True)\n",
    "df_copy.BP1_36_99.value_counts().astype('int64')"
   ]
  },
  {
   "cell_type": "code",
   "execution_count": 173,
   "metadata": {},
   "outputs": [
    {
     "data": {
      "text/plain": [
       "2.0    903\n",
       "1.0    317\n",
       "9.0     15\n",
       "Name: BP2_1, dtype: int64"
      ]
     },
     "execution_count": 173,
     "metadata": {},
     "output_type": "execute_result"
    }
   ],
   "source": [
    "df_copy.BP2_1.value_counts()"
   ]
  },
  {
   "cell_type": "code",
   "execution_count": 174,
   "metadata": {},
   "outputs": [
    {
     "data": {
      "text/plain": [
       "2     903\n",
       "1     317\n",
       "99     15\n",
       "Name: BP2_1, dtype: int64"
      ]
     },
     "execution_count": 174,
     "metadata": {},
     "output_type": "execute_result"
    }
   ],
   "source": [
    "df_copy.BP2_1.replace({1.0:'1',2.0:'2',9.0:'99'}, inplace=True)\n",
    "df_copy.BP2_1.value_counts().astype('int64')"
   ]
  },
  {
   "cell_type": "code",
   "execution_count": 175,
   "metadata": {},
   "outputs": [
    {
     "data": {
      "text/plain": [
       "0.0    12268\n",
       "1.0      415\n",
       "Name: BP3_1_01, dtype: int64"
      ]
     },
     "execution_count": 175,
     "metadata": {},
     "output_type": "execute_result"
    }
   ],
   "source": [
    "df_copy.BP3_1_01.value_counts()"
   ]
  },
  {
   "cell_type": "code",
   "execution_count": 176,
   "metadata": {},
   "outputs": [
    {
     "data": {
      "text/plain": [
       "0    12268\n",
       "1      415\n",
       "Name: BP3_1_01, dtype: int64"
      ]
     },
     "execution_count": 176,
     "metadata": {},
     "output_type": "execute_result"
    }
   ],
   "source": [
    "df_copy.BP3_1_01.replace({1.0:'1',0.0:'0'}, inplace=True)\n",
    "df_copy.BP3_1_01.value_counts().astype('int64')"
   ]
  },
  {
   "cell_type": "code",
   "execution_count": 177,
   "metadata": {},
   "outputs": [
    {
     "data": {
      "text/plain": [
       "0.0    12222\n",
       "1.0      461\n",
       "Name: BP3_1_02, dtype: int64"
      ]
     },
     "execution_count": 177,
     "metadata": {},
     "output_type": "execute_result"
    }
   ],
   "source": [
    "df_copy.BP3_1_02.value_counts()"
   ]
  },
  {
   "cell_type": "code",
   "execution_count": 178,
   "metadata": {},
   "outputs": [
    {
     "data": {
      "text/plain": [
       "0    12222\n",
       "1      461\n",
       "Name: BP3_1_02, dtype: int64"
      ]
     },
     "execution_count": 178,
     "metadata": {},
     "output_type": "execute_result"
    }
   ],
   "source": [
    "df_copy.BP3_1_02.replace({1.0:'1',0.0:'0'}, inplace=True)\n",
    "df_copy.BP3_1_02.value_counts().astype('int64')"
   ]
  },
  {
   "cell_type": "code",
   "execution_count": 179,
   "metadata": {},
   "outputs": [
    {
     "data": {
      "text/plain": [
       "0.0    10795\n",
       "1.0     1888\n",
       "Name: BP3_1_03, dtype: int64"
      ]
     },
     "execution_count": 179,
     "metadata": {},
     "output_type": "execute_result"
    }
   ],
   "source": [
    "df_copy.BP3_1_03.value_counts()"
   ]
  },
  {
   "cell_type": "code",
   "execution_count": 180,
   "metadata": {},
   "outputs": [
    {
     "data": {
      "text/plain": [
       "0    10795\n",
       "1     1888\n",
       "Name: BP3_1_03, dtype: int64"
      ]
     },
     "execution_count": 180,
     "metadata": {},
     "output_type": "execute_result"
    }
   ],
   "source": [
    "df_copy.BP3_1_03.replace({1.0:'1',0.0:'0'}, inplace=True)\n",
    "df_copy.BP3_1_03.value_counts().astype('int64')"
   ]
  },
  {
   "cell_type": "code",
   "execution_count": 181,
   "metadata": {},
   "outputs": [
    {
     "data": {
      "text/plain": [
       "0.0    11832\n",
       "1.0      851\n",
       "Name: BP3_1_04, dtype: int64"
      ]
     },
     "execution_count": 181,
     "metadata": {},
     "output_type": "execute_result"
    }
   ],
   "source": [
    "df_copy.BP3_1_04.value_counts()"
   ]
  },
  {
   "cell_type": "code",
   "execution_count": 182,
   "metadata": {},
   "outputs": [
    {
     "data": {
      "text/plain": [
       "0    11832\n",
       "1      851\n",
       "Name: BP3_1_04, dtype: int64"
      ]
     },
     "execution_count": 182,
     "metadata": {},
     "output_type": "execute_result"
    }
   ],
   "source": [
    "df_copy.BP3_1_04.replace({1.0:'1',0.0:'0'}, inplace=True)\n",
    "df_copy.BP3_1_04.value_counts().astype('int64')"
   ]
  },
  {
   "cell_type": "code",
   "execution_count": 183,
   "metadata": {},
   "outputs": [
    {
     "data": {
      "text/plain": [
       "0.0    11880\n",
       "1.0      803\n",
       "Name: BP3_1_05, dtype: int64"
      ]
     },
     "execution_count": 183,
     "metadata": {},
     "output_type": "execute_result"
    }
   ],
   "source": [
    "df_copy.BP3_1_05.value_counts()"
   ]
  },
  {
   "cell_type": "code",
   "execution_count": 184,
   "metadata": {},
   "outputs": [
    {
     "data": {
      "text/plain": [
       "0    11880\n",
       "1      803\n",
       "Name: BP3_1_05, dtype: int64"
      ]
     },
     "execution_count": 184,
     "metadata": {},
     "output_type": "execute_result"
    }
   ],
   "source": [
    "df_copy.BP3_1_05.replace({1.0:'1',0.0:'0'}, inplace=True)\n",
    "df_copy.BP3_1_05.value_counts().astype('int64')"
   ]
  },
  {
   "cell_type": "code",
   "execution_count": 185,
   "metadata": {},
   "outputs": [
    {
     "data": {
      "text/plain": [
       "0.0    11056\n",
       "1.0     1627\n",
       "Name: BP3_1_06, dtype: int64"
      ]
     },
     "execution_count": 185,
     "metadata": {},
     "output_type": "execute_result"
    }
   ],
   "source": [
    "df_copy.BP3_1_06.value_counts()"
   ]
  },
  {
   "cell_type": "code",
   "execution_count": 186,
   "metadata": {},
   "outputs": [
    {
     "data": {
      "text/plain": [
       "0    11056\n",
       "1     1627\n",
       "Name: BP3_1_06, dtype: int64"
      ]
     },
     "execution_count": 186,
     "metadata": {},
     "output_type": "execute_result"
    }
   ],
   "source": [
    "df_copy.BP3_1_06.replace({1.0:'1',0.0:'0'}, inplace=True)\n",
    "df_copy.BP3_1_06.value_counts().astype('int64')"
   ]
  },
  {
   "cell_type": "code",
   "execution_count": 187,
   "metadata": {},
   "outputs": [
    {
     "data": {
      "text/plain": [
       "0.0    7662\n",
       "1.0    5021\n",
       "Name: BP3_1_07, dtype: int64"
      ]
     },
     "execution_count": 187,
     "metadata": {},
     "output_type": "execute_result"
    }
   ],
   "source": [
    "df_copy.BP3_1_07.value_counts()"
   ]
  },
  {
   "cell_type": "code",
   "execution_count": 188,
   "metadata": {},
   "outputs": [
    {
     "data": {
      "text/plain": [
       "0    7662\n",
       "1    5021\n",
       "Name: BP3_1_07, dtype: int64"
      ]
     },
     "execution_count": 188,
     "metadata": {},
     "output_type": "execute_result"
    }
   ],
   "source": [
    "df_copy.BP3_1_07.replace({1.0:'1',0.0:'0'}, inplace=True)\n",
    "df_copy.BP3_1_07.value_counts().astype('int64')"
   ]
  },
  {
   "cell_type": "code",
   "execution_count": 189,
   "metadata": {},
   "outputs": [
    {
     "data": {
      "text/plain": [
       "0.0    12004\n",
       "1.0      679\n",
       "Name: BP3_1_08, dtype: int64"
      ]
     },
     "execution_count": 189,
     "metadata": {},
     "output_type": "execute_result"
    }
   ],
   "source": [
    "df_copy.BP3_1_08.value_counts()"
   ]
  },
  {
   "cell_type": "code",
   "execution_count": 190,
   "metadata": {},
   "outputs": [
    {
     "data": {
      "text/plain": [
       "0    12004\n",
       "1      679\n",
       "Name: BP3_1_08, dtype: int64"
      ]
     },
     "execution_count": 190,
     "metadata": {},
     "output_type": "execute_result"
    }
   ],
   "source": [
    "df_copy.BP3_1_08.replace({1.0:'1',0.0:'0'}, inplace=True)\n",
    "df_copy.BP3_1_08.value_counts().astype('int64')"
   ]
  },
  {
   "cell_type": "code",
   "execution_count": 191,
   "metadata": {},
   "outputs": [
    {
     "data": {
      "text/plain": [
       "0.0    9975\n",
       "1.0    2708\n",
       "Name: BP3_1_09, dtype: int64"
      ]
     },
     "execution_count": 191,
     "metadata": {},
     "output_type": "execute_result"
    }
   ],
   "source": [
    "df_copy.BP3_1_09.value_counts()"
   ]
  },
  {
   "cell_type": "code",
   "execution_count": 192,
   "metadata": {},
   "outputs": [
    {
     "data": {
      "text/plain": [
       "0    9975\n",
       "1    2708\n",
       "Name: BP3_1_09, dtype: int64"
      ]
     },
     "execution_count": 192,
     "metadata": {},
     "output_type": "execute_result"
    }
   ],
   "source": [
    "df_copy.BP3_1_09.replace({1.0:'1',0.0:'0'}, inplace=True)\n",
    "df_copy.BP3_1_09.value_counts().astype('int64')"
   ]
  },
  {
   "cell_type": "code",
   "execution_count": 193,
   "metadata": {},
   "outputs": [
    {
     "data": {
      "text/plain": [
       "0.0    12185\n",
       "1.0      498\n",
       "Name: BP3_1_10, dtype: int64"
      ]
     },
     "execution_count": 193,
     "metadata": {},
     "output_type": "execute_result"
    }
   ],
   "source": [
    "df_copy.BP3_1_10.value_counts()"
   ]
  },
  {
   "cell_type": "code",
   "execution_count": 194,
   "metadata": {},
   "outputs": [
    {
     "data": {
      "text/plain": [
       "0    12185\n",
       "1      498\n",
       "Name: BP3_1_10, dtype: int64"
      ]
     },
     "execution_count": 194,
     "metadata": {},
     "output_type": "execute_result"
    }
   ],
   "source": [
    "df_copy.BP3_1_10.replace({1.0:'1',0.0:'0'}, inplace=True)\n",
    "df_copy.BP3_1_10.value_counts().astype('int64')"
   ]
  },
  {
   "cell_type": "code",
   "execution_count": 195,
   "metadata": {},
   "outputs": [
    {
     "data": {
      "text/plain": [
       "0.0    9532\n",
       "1.0    3151\n",
       "Name: BP3_1_11, dtype: int64"
      ]
     },
     "execution_count": 195,
     "metadata": {},
     "output_type": "execute_result"
    }
   ],
   "source": [
    "df_copy.BP3_1_11.value_counts()"
   ]
  },
  {
   "cell_type": "code",
   "execution_count": 196,
   "metadata": {},
   "outputs": [
    {
     "data": {
      "text/plain": [
       "0    9532\n",
       "1    3151\n",
       "Name: BP3_1_11, dtype: int64"
      ]
     },
     "execution_count": 196,
     "metadata": {},
     "output_type": "execute_result"
    }
   ],
   "source": [
    "df_copy.BP3_1_11.replace({1.0:'1',0.0:'0'}, inplace=True)\n",
    "df_copy.BP3_1_11.value_counts().astype('int64')"
   ]
  },
  {
   "cell_type": "code",
   "execution_count": 197,
   "metadata": {},
   "outputs": [
    {
     "data": {
      "text/plain": [
       "0.0    12005\n",
       "1.0      678\n",
       "Name: BP3_1_99, dtype: int64"
      ]
     },
     "execution_count": 197,
     "metadata": {},
     "output_type": "execute_result"
    }
   ],
   "source": [
    "df_copy.BP3_1_99.value_counts()"
   ]
  },
  {
   "cell_type": "code",
   "execution_count": 198,
   "metadata": {},
   "outputs": [
    {
     "data": {
      "text/plain": [
       "0    12005\n",
       "1      678\n",
       "Name: BP3_1_99, dtype: int64"
      ]
     },
     "execution_count": 198,
     "metadata": {},
     "output_type": "execute_result"
    }
   ],
   "source": [
    "df_copy.BP3_1_99.replace({1.0:'1',0.0:'0'}, inplace=True)\n",
    "df_copy.BP3_1_99.value_counts().astype('int64')"
   ]
  },
  {
   "cell_type": "code",
   "execution_count": 199,
   "metadata": {},
   "outputs": [
    {
     "data": {
      "text/plain": [
       "2.0    3667\n",
       "1.0    2117\n",
       "9.0      20\n",
       "Name: BP3_2, dtype: int64"
      ]
     },
     "execution_count": 199,
     "metadata": {},
     "output_type": "execute_result"
    }
   ],
   "source": [
    "df_copy.BP3_2.value_counts()"
   ]
  },
  {
   "cell_type": "code",
   "execution_count": 200,
   "metadata": {},
   "outputs": [
    {
     "data": {
      "text/plain": [
       "2     3667\n",
       "1     2117\n",
       "99      20\n",
       "Name: BP3_2, dtype: int64"
      ]
     },
     "execution_count": 200,
     "metadata": {},
     "output_type": "execute_result"
    }
   ],
   "source": [
    "df_copy.BP3_2.replace({1.0:'1',2.0:'2',9.0:'99'}, inplace=True)\n",
    "df_copy.BP3_2.value_counts().astype('int64')"
   ]
  },
  {
   "cell_type": "code",
   "execution_count": 201,
   "metadata": {},
   "outputs": [
    {
     "data": {
      "text/plain": [
       "1.0    1664\n",
       "4.0     976\n",
       "3.0     154\n",
       "5.0      43\n",
       "2.0      25\n",
       "6.0      22\n",
       "9.0      10\n",
       "Name: BP4_1, dtype: int64"
      ]
     },
     "execution_count": 201,
     "metadata": {},
     "output_type": "execute_result"
    }
   ],
   "source": [
    "df_copy.BP4_1.value_counts()"
   ]
  },
  {
   "cell_type": "code",
   "execution_count": 202,
   "metadata": {},
   "outputs": [
    {
     "data": {
      "text/plain": [
       "1     1664\n",
       "4      976\n",
       "3      154\n",
       "5       43\n",
       "2       25\n",
       "6       22\n",
       "99      10\n",
       "Name: BP4_1, dtype: int64"
      ]
     },
     "execution_count": 202,
     "metadata": {},
     "output_type": "execute_result"
    }
   ],
   "source": [
    "df_copy.BP4_1.replace({1.0:'1',2.0:'2',3.0:'3',4.0:'4',5.0:'5',6.0:'6',9.0:'99'}, inplace=True)\n",
    "df_copy.BP4_1.value_counts().astype('int64')"
   ]
  },
  {
   "cell_type": "code",
   "execution_count": 203,
   "metadata": {},
   "outputs": [
    {
     "data": {
      "text/plain": [
       "1.0    5965\n",
       "4.0     154\n",
       "5.0      90\n",
       "7.0      71\n",
       "2.0      31\n",
       "6.0      23\n",
       "9.0      22\n",
       "3.0      17\n",
       "Name: BP5_1, dtype: int64"
      ]
     },
     "execution_count": 203,
     "metadata": {},
     "output_type": "execute_result"
    }
   ],
   "source": [
    "df_copy.BP5_1.value_counts()"
   ]
  },
  {
   "cell_type": "code",
   "execution_count": 204,
   "metadata": {},
   "outputs": [
    {
     "data": {
      "text/plain": [
       "1     5965\n",
       "4      154\n",
       "5       90\n",
       "7       71\n",
       "2       31\n",
       "6       23\n",
       "99      22\n",
       "3       17\n",
       "Name: BP5_1, dtype: int64"
      ]
     },
     "execution_count": 204,
     "metadata": {},
     "output_type": "execute_result"
    }
   ],
   "source": [
    "df_copy.BP5_1.replace({1.0:'1',2.0:'2',3.0:'3',4.0:'4',5.0:'5',6.0:'6',7.0:'7',9.0:'99'}, inplace=True)\n",
    "df_copy.BP5_1.value_counts().astype('int64')"
   ]
  },
  {
   "cell_type": "code",
   "execution_count": 205,
   "metadata": {},
   "outputs": [
    {
     "data": {
      "text/plain": [
       "1.0    4612\n",
       "0.0    1761\n",
       "Name: BP5_2_1, dtype: int64"
      ]
     },
     "execution_count": 205,
     "metadata": {},
     "output_type": "execute_result"
    }
   ],
   "source": [
    "df_copy.BP5_2_1.value_counts()"
   ]
  },
  {
   "cell_type": "code",
   "execution_count": 206,
   "metadata": {},
   "outputs": [
    {
     "data": {
      "text/plain": [
       "1    4612\n",
       "0    1761\n",
       "Name: BP5_2_1, dtype: int64"
      ]
     },
     "execution_count": 206,
     "metadata": {},
     "output_type": "execute_result"
    }
   ],
   "source": [
    "df_copy.BP5_2_1.replace({1.0:'1',0.0:'0'}, inplace=True)\n",
    "df_copy.BP5_2_1.value_counts().astype('int64')"
   ]
  },
  {
   "cell_type": "code",
   "execution_count": 207,
   "metadata": {},
   "outputs": [
    {
     "data": {
      "text/plain": [
       "0.0    6128\n",
       "1.0     245\n",
       "Name: BP5_2_2, dtype: int64"
      ]
     },
     "execution_count": 207,
     "metadata": {},
     "output_type": "execute_result"
    }
   ],
   "source": [
    "df_copy.BP5_2_2.value_counts()"
   ]
  },
  {
   "cell_type": "code",
   "execution_count": 208,
   "metadata": {},
   "outputs": [
    {
     "data": {
      "text/plain": [
       "0    6128\n",
       "1     245\n",
       "Name: BP5_2_2, dtype: int64"
      ]
     },
     "execution_count": 208,
     "metadata": {},
     "output_type": "execute_result"
    }
   ],
   "source": [
    "df_copy.BP5_2_2.replace({1.0:'1',0.0:'0'}, inplace=True)\n",
    "df_copy.BP5_2_2.value_counts().astype('int64')"
   ]
  },
  {
   "cell_type": "code",
   "execution_count": 209,
   "metadata": {},
   "outputs": [
    {
     "data": {
      "text/plain": [
       "0.0    6139\n",
       "1.0     234\n",
       "Name: BP5_2_3, dtype: int64"
      ]
     },
     "execution_count": 209,
     "metadata": {},
     "output_type": "execute_result"
    }
   ],
   "source": [
    "df_copy.BP5_2_3.value_counts()"
   ]
  },
  {
   "cell_type": "code",
   "execution_count": 210,
   "metadata": {},
   "outputs": [
    {
     "data": {
      "text/plain": [
       "0    6139\n",
       "1     234\n",
       "Name: BP5_2_3, dtype: int64"
      ]
     },
     "execution_count": 210,
     "metadata": {},
     "output_type": "execute_result"
    }
   ],
   "source": [
    "df_copy.BP5_2_3.replace({1.0:'1',0.0:'0'}, inplace=True)\n",
    "df_copy.BP5_2_3.value_counts().astype('int64')"
   ]
  },
  {
   "cell_type": "code",
   "execution_count": 211,
   "metadata": {},
   "outputs": [
    {
     "data": {
      "text/plain": [
       "0.0    4990\n",
       "1.0    1383\n",
       "Name: BP5_2_4, dtype: int64"
      ]
     },
     "execution_count": 211,
     "metadata": {},
     "output_type": "execute_result"
    }
   ],
   "source": [
    "df_copy.BP5_2_4.value_counts()"
   ]
  },
  {
   "cell_type": "code",
   "execution_count": 212,
   "metadata": {},
   "outputs": [
    {
     "data": {
      "text/plain": [
       "0    4990\n",
       "1    1383\n",
       "Name: BP5_2_4, dtype: int64"
      ]
     },
     "execution_count": 212,
     "metadata": {},
     "output_type": "execute_result"
    }
   ],
   "source": [
    "df_copy.BP5_2_4.replace({1.0:'1',0.0:'0'}, inplace=True)\n",
    "df_copy.BP5_2_4.value_counts().astype('int64')"
   ]
  },
  {
   "cell_type": "code",
   "execution_count": 213,
   "metadata": {},
   "outputs": [
    {
     "data": {
      "text/plain": [
       "3.0    4551\n",
       "1.0     305\n",
       "2.0     124\n",
       "9.0      10\n",
       "Name: BP5_3, dtype: int64"
      ]
     },
     "execution_count": 213,
     "metadata": {},
     "output_type": "execute_result"
    }
   ],
   "source": [
    "df_copy.BP5_3.value_counts()"
   ]
  },
  {
   "cell_type": "code",
   "execution_count": 214,
   "metadata": {},
   "outputs": [
    {
     "data": {
      "text/plain": [
       "3     4551\n",
       "1      305\n",
       "2      124\n",
       "99      10\n",
       "Name: BP5_3, dtype: int64"
      ]
     },
     "execution_count": 214,
     "metadata": {},
     "output_type": "execute_result"
    }
   ],
   "source": [
    "df_copy.BP5_3.replace({1.0:'1',2.0:'2',3.0:'3',4.0:'4',5.0:'5',6.0:'6',7.0:'7',9.0:'99'}, inplace=True)\n",
    "df_copy.BP5_3.value_counts().astype('int64')"
   ]
  },
  {
   "cell_type": "code",
   "execution_count": 215,
   "metadata": {},
   "outputs": [
    {
     "data": {
      "text/plain": [
       "9.0    30\n",
       "2.0    25\n",
       "1.0    21\n",
       "Name: BP6_1, dtype: int64"
      ]
     },
     "execution_count": 215,
     "metadata": {},
     "output_type": "execute_result"
    }
   ],
   "source": [
    "df_copy.BP6_1.value_counts()"
   ]
  },
  {
   "cell_type": "code",
   "execution_count": 216,
   "metadata": {},
   "outputs": [
    {
     "data": {
      "text/plain": [
       "99    30\n",
       "2     25\n",
       "1     21\n",
       "Name: BP6_1, dtype: int64"
      ]
     },
     "execution_count": 216,
     "metadata": {},
     "output_type": "execute_result"
    }
   ],
   "source": [
    "df_copy.BP6_1.replace({1.0:'1',2.0:'2',3.0:'3',4.0:'4',5.0:'5',6.0:'6',7.0:'7',9.0:'99'}, inplace=True)\n",
    "df_copy.BP6_1.value_counts().astype('int64')"
   ]
  },
  {
   "cell_type": "code",
   "execution_count": 217,
   "metadata": {},
   "outputs": [
    {
     "data": {
      "text/plain": [
       "1.0    35\n",
       "3.0    27\n",
       "9.0     8\n",
       "2.0     6\n",
       "Name: BP6_2, dtype: int64"
      ]
     },
     "execution_count": 217,
     "metadata": {},
     "output_type": "execute_result"
    }
   ],
   "source": [
    "df_copy.BP6_2.value_counts()"
   ]
  },
  {
   "cell_type": "code",
   "execution_count": 218,
   "metadata": {},
   "outputs": [
    {
     "data": {
      "text/plain": [
       "1     35\n",
       "3     27\n",
       "99     8\n",
       "2      6\n",
       "Name: BP6_2, dtype: int64"
      ]
     },
     "execution_count": 218,
     "metadata": {},
     "output_type": "execute_result"
    }
   ],
   "source": [
    "df_copy.BP6_2.replace({1.0:'1',2.0:'2',3.0:'3',4.0:'4',5.0:'5',6.0:'6',7.0:'7',9.0:'99'}, inplace=True)\n",
    "df_copy.BP6_2.value_counts().astype('int64')"
   ]
  },
  {
   "cell_type": "code",
   "execution_count": 219,
   "metadata": {},
   "outputs": [
    {
     "data": {
      "text/plain": [
       "2.0    9\n",
       "1.0    9\n",
       "Name: BP6_3, dtype: int64"
      ]
     },
     "execution_count": 219,
     "metadata": {},
     "output_type": "execute_result"
    }
   ],
   "source": [
    "df_copy.BP6_3.value_counts()"
   ]
  },
  {
   "cell_type": "code",
   "execution_count": 220,
   "metadata": {},
   "outputs": [
    {
     "data": {
      "text/plain": [
       "1    9\n",
       "2    9\n",
       "Name: BP6_3, dtype: int64"
      ]
     },
     "execution_count": 220,
     "metadata": {},
     "output_type": "execute_result"
    }
   ],
   "source": [
    "df_copy.BP6_3.replace({1.0:'1',2.0:'2',3.0:'3',4.0:'4',5.0:'5',6.0:'6',7.0:'7',9.0:'99'}, inplace=True)\n",
    "df_copy.BP6_3.value_counts().astype('int64')"
   ]
  },
  {
   "cell_type": "code",
   "execution_count": 221,
   "metadata": {},
   "outputs": [
    {
     "data": {
      "text/plain": [
       "2.0    212\n",
       "3.0    191\n",
       "4.0    100\n",
       "1.0     66\n",
       "9.0      4\n",
       "5.0      2\n",
       "Name: BP7_1, dtype: int64"
      ]
     },
     "execution_count": 221,
     "metadata": {},
     "output_type": "execute_result"
    }
   ],
   "source": [
    "df_copy.BP7_1.value_counts()"
   ]
  },
  {
   "cell_type": "code",
   "execution_count": 222,
   "metadata": {},
   "outputs": [
    {
     "data": {
      "text/plain": [
       "2     212\n",
       "3     191\n",
       "4     100\n",
       "1      66\n",
       "99      4\n",
       "5       2\n",
       "Name: BP7_1, dtype: int64"
      ]
     },
     "execution_count": 222,
     "metadata": {},
     "output_type": "execute_result"
    }
   ],
   "source": [
    "df_copy.BP7_1.replace({1.0:'1',2.0:'2',3.0:'3',4.0:'4',5.0:'5',6.0:'6',7.0:'7',9.0:'99'}, inplace=True)\n",
    "df_copy.BP7_1.value_counts().astype('int64')"
   ]
  },
  {
   "cell_type": "code",
   "execution_count": 223,
   "metadata": {},
   "outputs": [
    {
     "data": {
      "text/plain": [
       "180     162\n",
       "204     136\n",
       "192     136\n",
       "179     132\n",
       "186     127\n",
       "406     126\n",
       "190     123\n",
       "426     121\n",
       "171     121\n",
       "220     120\n",
       "178     119\n",
       "380     118\n",
       "202     118\n",
       "194     115\n",
       "364     115\n",
       "412     114\n",
       "382     112\n",
       "152     108\n",
       "460     106\n",
       "398     105\n",
       "376     100\n",
       "196      99\n",
       "386      99\n",
       "366      99\n",
       "418      99\n",
       "378      96\n",
       "162      96\n",
       "188      95\n",
       "374      95\n",
       "176      95\n",
       "       ... \n",
       "3690      1\n",
       "3052      1\n",
       "1581      1\n",
       "6028      1\n",
       "2799      1\n",
       "1774      1\n",
       "1454      1\n",
       "7565      1\n",
       "1358      1\n",
       "5452      1\n",
       "5420      1\n",
       "1262      1\n",
       "5324      1\n",
       "1166      1\n",
       "5228      1\n",
       "5196      1\n",
       "2735      1\n",
       "3756      1\n",
       "4716      1\n",
       "4556      1\n",
       "4428      1\n",
       "2319      1\n",
       "2255      1\n",
       "2223      1\n",
       "2159      1\n",
       "1805      1\n",
       "3852      1\n",
       "1773      1\n",
       "1709      1\n",
       "2049      1\n",
       "Name: FAC_DEL, Length: 2898, dtype: int64"
      ]
     },
     "execution_count": 223,
     "metadata": {},
     "output_type": "execute_result"
    }
   ],
   "source": [
    "df_copy.FAC_DEL.value_counts()"
   ]
  },
  {
   "cell_type": "code",
   "execution_count": 224,
   "metadata": {},
   "outputs": [
    {
     "data": {
      "text/plain": [
       "U    29752\n",
       "C     9216\n",
       "R     4510\n",
       "Name: DOM, dtype: int64"
      ]
     },
     "execution_count": 224,
     "metadata": {},
     "output_type": "execute_result"
    }
   ],
   "source": [
    "df_copy.DOM.value_counts()"
   ]
  },
  {
   "cell_type": "code",
   "execution_count": 225,
   "metadata": {},
   "outputs": [
    {
     "data": {
      "text/plain": [
       "104    1926\n",
       "13      984\n",
       "97      874\n",
       "105     721\n",
       "151     709\n",
       "12      701\n",
       "165     682\n",
       "212     597\n",
       "60      581\n",
       "61      566\n",
       "152     560\n",
       "136     557\n",
       "120     550\n",
       "193     491\n",
       "57      479\n",
       "14      470\n",
       "159     466\n",
       "56      453\n",
       "28      450\n",
       "96      435\n",
       "174     422\n",
       "182     419\n",
       "98      417\n",
       "147     399\n",
       "108     398\n",
       "36      393\n",
       "117     377\n",
       "85      374\n",
       "190     374\n",
       "121     373\n",
       "       ... \n",
       "99       24\n",
       "125      23\n",
       "154      23\n",
       "134      22\n",
       "188      22\n",
       "48       22\n",
       "32       20\n",
       "39       19\n",
       "142      18\n",
       "133      18\n",
       "54       17\n",
       "168      17\n",
       "203      16\n",
       "95       15\n",
       "11       15\n",
       "59       15\n",
       "208      14\n",
       "27       13\n",
       "93       13\n",
       "74       12\n",
       "202      11\n",
       "145      10\n",
       "66        8\n",
       "204       7\n",
       "112       6\n",
       "132       5\n",
       "84        4\n",
       "220       2\n",
       "180       2\n",
       "33        1\n",
       "Name: EST, Length: 238, dtype: int64"
      ]
     },
     "execution_count": 225,
     "metadata": {},
     "output_type": "execute_result"
    }
   ],
   "source": [
    "df_copy.EST.value_counts()"
   ]
  },
  {
   "cell_type": "code",
   "execution_count": 226,
   "metadata": {},
   "outputs": [
    {
     "data": {
      "text/plain": [
       "7517     49\n",
       "735      46\n",
       "9300     42\n",
       "5428     41\n",
       "8487     38\n",
       "5263     33\n",
       "5454     33\n",
       "5069     33\n",
       "615      33\n",
       "5327     32\n",
       "6122     32\n",
       "5450     32\n",
       "5087     32\n",
       "4161     31\n",
       "4980     30\n",
       "5183     27\n",
       "5458     27\n",
       "10452    27\n",
       "5045     27\n",
       "5852     27\n",
       "4585     27\n",
       "1104     27\n",
       "458      26\n",
       "11366    26\n",
       "8320     26\n",
       "8466     26\n",
       "10664    26\n",
       "5432     25\n",
       "5337     25\n",
       "7169     25\n",
       "         ..\n",
       "4036      1\n",
       "7056      1\n",
       "7088      1\n",
       "2994      1\n",
       "11190     1\n",
       "5991      1\n",
       "3090      1\n",
       "5959      1\n",
       "3122      1\n",
       "3154      1\n",
       "1829      1\n",
       "8983      1\n",
       "6928      1\n",
       "755       1\n",
       "4196      1\n",
       "2386      1\n",
       "134       1\n",
       "4228      1\n",
       "4625      1\n",
       "531       1\n",
       "102       1\n",
       "10806     1\n",
       "4849      1\n",
       "70        1\n",
       "10307     1\n",
       "2706      1\n",
       "10902     1\n",
       "38        1\n",
       "10934     1\n",
       "2049      1\n",
       "Name: UPM, Length: 9534, dtype: int64"
      ]
     },
     "execution_count": 226,
     "metadata": {},
     "output_type": "execute_result"
    }
   ],
   "source": [
    "df_copy.UPM.value_counts()"
   ]
  },
  {
   "cell_type": "code",
   "execution_count": 227,
   "metadata": {},
   "outputs": [
    {
     "data": {
      "text/plain": [
       "180.0     85\n",
       "178.0     80\n",
       "390.0     74\n",
       "203.0     72\n",
       "410.0     70\n",
       "408.0     67\n",
       "211.0     66\n",
       "378.0     65\n",
       "212.0     64\n",
       "182.0     63\n",
       "172.0     63\n",
       "412.0     61\n",
       "186.0     61\n",
       "372.0     60\n",
       "188.0     60\n",
       "169.0     59\n",
       "197.0     57\n",
       "192.0     57\n",
       "191.0     56\n",
       "216.0     55\n",
       "360.0     55\n",
       "190.0     54\n",
       "176.0     54\n",
       "200.0     54\n",
       "138.0     53\n",
       "202.0     53\n",
       "388.0     52\n",
       "156.0     51\n",
       "170.0     51\n",
       "370.0     51\n",
       "          ..\n",
       "6004.0     1\n",
       "3756.0     1\n",
       "1255.0     1\n",
       "927.0      1\n",
       "2752.0     1\n",
       "2656.0     1\n",
       "3048.0     1\n",
       "8944.0     1\n",
       "665.0      1\n",
       "7880.0     1\n",
       "3939.0     1\n",
       "2045.0     1\n",
       "5576.0     1\n",
       "8688.0     1\n",
       "723.0      1\n",
       "4446.0     1\n",
       "3186.0     1\n",
       "1706.0     1\n",
       "3978.0     1\n",
       "1978.0     1\n",
       "4748.0     1\n",
       "2662.0     1\n",
       "2425.0     1\n",
       "989.0      1\n",
       "3010.0     1\n",
       "3413.0     1\n",
       "5466.0     1\n",
       "1029.0     1\n",
       "3456.0     1\n",
       "3086.0     1\n",
       "Name: FAC_DEL_AM, Length: 2621, dtype: int64"
      ]
     },
     "execution_count": 227,
     "metadata": {},
     "output_type": "execute_result"
    }
   ],
   "source": [
    "df_copy.FAC_DEL_AM.value_counts()\n",
    "#Pendiente"
   ]
  },
  {
   "cell_type": "code",
   "execution_count": 228,
   "metadata": {},
   "outputs": [
    {
     "data": {
      "text/plain": [
       "nan      20823\n",
       "180         85\n",
       "178         80\n",
       "390         74\n",
       "203         72\n",
       "410         70\n",
       "408         67\n",
       "211         66\n",
       "378         65\n",
       "212         64\n",
       "172         63\n",
       "182         63\n",
       "186         61\n",
       "412         61\n",
       "188         60\n",
       "372         60\n",
       "169         59\n",
       "197         57\n",
       "192         57\n",
       "191         56\n",
       "216         55\n",
       "360         55\n",
       "190         54\n",
       "176         54\n",
       "200         54\n",
       "202         53\n",
       "138         53\n",
       "388         52\n",
       "370         51\n",
       "156         51\n",
       "         ...  \n",
       "2806         1\n",
       "2808         1\n",
       "2812         1\n",
       "2828         1\n",
       "2892         1\n",
       "2895         1\n",
       "2900         1\n",
       "2908         1\n",
       "2708         1\n",
       "8603         1\n",
       "2690         1\n",
       "2686         1\n",
       "2566         1\n",
       "2583         1\n",
       "673          1\n",
       "2592         1\n",
       "669          1\n",
       "2596         1\n",
       "665          1\n",
       "2606         1\n",
       "2614         1\n",
       "2619         1\n",
       "2625         1\n",
       "2645         1\n",
       "2656         1\n",
       "649          1\n",
       "2662         1\n",
       "10860        1\n",
       "10871        1\n",
       "8976         1\n",
       "Name: FAC_DEL_AM, Length: 2622, dtype: int64"
      ]
     },
     "execution_count": 228,
     "metadata": {},
     "output_type": "execute_result"
    }
   ],
   "source": [
    "l=[]\n",
    "for i in df_copy.FAC_DEL_AM:\n",
    "    k = str(i)\n",
    "    if(k != \"nan\"):\n",
    "        k = int(eval(k))\n",
    "        l.append(k)\n",
    "    else:\n",
    "        l.append(k)\n",
    "df_copy.FAC_DEL_AM = l\n",
    "df_copy.FAC_DEL_AM.value_counts()"
   ]
  },
  {
   "cell_type": "code",
   "execution_count": 232,
   "metadata": {},
   "outputs": [],
   "source": [
    "df_copy.to_csv('2014.csv')"
   ]
  },
  {
   "cell_type": "code",
   "execution_count": null,
   "metadata": {},
   "outputs": [],
   "source": []
  }
 ],
 "metadata": {
  "kernelspec": {
   "display_name": "Python 3",
   "language": "python",
   "name": "python3"
  },
  "language_info": {
   "codemirror_mode": {
    "name": "ipython",
    "version": 3
   },
   "file_extension": ".py",
   "mimetype": "text/x-python",
   "name": "python",
   "nbconvert_exporter": "python",
   "pygments_lexer": "ipython3",
   "version": "3.6.5"
  }
 },
 "nbformat": 4,
 "nbformat_minor": 2
}
