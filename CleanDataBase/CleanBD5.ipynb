{
 "cells": [
  {
   "cell_type": "code",
   "execution_count": 1,
   "metadata": {},
   "outputs": [],
   "source": [
    "import pandas as pd\n",
    "import numpy as np"
   ]
  },
  {
   "cell_type": "code",
   "execution_count": 2,
   "metadata": {},
   "outputs": [],
   "source": [
    "df_ = 'C:/Users/chris/Documents/TRABAJO/PROYECTOS/PROGRAMA DELFIN/PROYECTOCRIMEN/2012/tmod_vic2012.csv'"
   ]
  },
  {
   "cell_type": "code",
   "execution_count": 3,
   "metadata": {},
   "outputs": [],
   "source": [
    "df = pd.read_csv(df_,low_memory = False)\n",
    "df_copy = df"
   ]
  },
  {
   "cell_type": "code",
   "execution_count": 4,
   "metadata": {},
   "outputs": [
    {
     "data": {
      "text/plain": [
       "4     5361\n",
       "3     5278\n",
       "1     5106\n",
       "5     5080\n",
       "2     5073\n",
       "6      572\n",
       "7      494\n",
       "8      491\n",
       "9      481\n",
       "10     444\n",
       "20     384\n",
       "19     358\n",
       "12     356\n",
       "15     353\n",
       "14     337\n",
       "16     331\n",
       "18     323\n",
       "17     321\n",
       "13     318\n",
       "11     306\n",
       "22      60\n",
       "21      55\n",
       "24      47\n",
       "37      40\n",
       "36      40\n",
       "26      40\n",
       "25      38\n",
       "35      38\n",
       "39      37\n",
       "32      36\n",
       "28      34\n",
       "23      32\n",
       "40      32\n",
       "38      30\n",
       "27      30\n",
       "30      29\n",
       "33      28\n",
       "29      26\n",
       "31      24\n",
       "34      23\n",
       "43       2\n",
       "44       2\n",
       "41       1\n",
       "45       1\n",
       "47       1\n",
       "Name: VIV_SEL, dtype: int64"
      ]
     },
     "execution_count": 4,
     "metadata": {},
     "output_type": "execute_result"
    }
   ],
   "source": [
    "df_copy.VIV_SEL.value_counts()"
   ]
  },
  {
   "cell_type": "code",
   "execution_count": 5,
   "metadata": {},
   "outputs": [
    {
     "data": {
      "text/plain": [
       "1    31862\n",
       "2      521\n",
       "3       84\n",
       "4       19\n",
       "5        4\n",
       "6        2\n",
       "8        1\n",
       "Name: HOGAR, dtype: int64"
      ]
     },
     "execution_count": 5,
     "metadata": {},
     "output_type": "execute_result"
    }
   ],
   "source": [
    "df_copy.HOGAR.value_counts()"
   ]
  },
  {
   "cell_type": "code",
   "execution_count": 6,
   "metadata": {},
   "outputs": [
    {
     "data": {
      "text/plain": [
       "1    25392\n",
       "2     4811\n",
       "3     1515\n",
       "4      519\n",
       "5      255\n",
       "0        1\n",
       "Name: ND_TIPO, dtype: int64"
      ]
     },
     "execution_count": 6,
     "metadata": {},
     "output_type": "execute_result"
    }
   ],
   "source": [
    "df_copy.ND_TIPO.value_counts()"
   ]
  },
  {
   "cell_type": "code",
   "execution_count": 7,
   "metadata": {},
   "outputs": [
    {
     "data": {
      "text/plain": [
       "2     7316\n",
       "3     5161\n",
       "8     5095\n",
       "4     5066\n",
       "9     2294\n",
       "1     1655\n",
       "6     1407\n",
       "5     1227\n",
       "7     1107\n",
       "10    1063\n",
       "12     790\n",
       "14     157\n",
       "11      81\n",
       "13      74\n",
       "Name: BPCOD, dtype: int64"
      ]
     },
     "execution_count": 7,
     "metadata": {},
     "output_type": "execute_result"
    }
   ],
   "source": [
    "df_copy.BPCOD.value_counts()"
   ]
  },
  {
   "cell_type": "code",
   "execution_count": 8,
   "metadata": {},
   "outputs": [
    {
     "data": {
      "text/plain": [
       "1     15443\n",
       "2     10558\n",
       "3      3912\n",
       "4      1744\n",
       "5       550\n",
       "6       170\n",
       "7        70\n",
       "8        27\n",
       "9         9\n",
       "10        7\n",
       "14        1\n",
       "12        1\n",
       "11        1\n",
       "Name: R_SEL, dtype: int64"
      ]
     },
     "execution_count": 8,
     "metadata": {},
     "output_type": "execute_result"
    }
   ],
   "source": [
    "df_copy.R_SEL.value_counts()"
   ]
  },
  {
   "cell_type": "code",
   "execution_count": 9,
   "metadata": {},
   "outputs": [
    {
     "data": {
      "text/plain": [
       "12    3654\n",
       "11    3451\n",
       "10    2707\n",
       "2     2682\n",
       "6     2637\n",
       "3     2636\n",
       "8     2402\n",
       "9     2368\n",
       "5     2317\n",
       "7     2116\n",
       "4     2028\n",
       "1     2025\n",
       "99    1470\n",
       "Name: BP1_1, dtype: int64"
      ]
     },
     "execution_count": 9,
     "metadata": {},
     "output_type": "execute_result"
    }
   ],
   "source": [
    "df_copy.BP1_1.value_counts()"
   ]
  },
  {
   "cell_type": "code",
   "execution_count": 10,
   "metadata": {},
   "outputs": [
    {
     "data": {
      "text/plain": [
       "21    1728\n",
       "25    1426\n",
       "15    1415\n",
       "16    1357\n",
       "14    1280\n",
       "2     1273\n",
       "13    1259\n",
       "30    1196\n",
       "8     1173\n",
       "3     1116\n",
       "23    1100\n",
       "19    1071\n",
       "11    1060\n",
       "26    1055\n",
       "27    1045\n",
       "12    1037\n",
       "7     1029\n",
       "9     1025\n",
       "22     972\n",
       "20     955\n",
       "17     951\n",
       "10     918\n",
       "6      829\n",
       "28     788\n",
       "24     788\n",
       "5      748\n",
       "1      727\n",
       "31     667\n",
       "29     657\n",
       "18     648\n",
       "4      619\n",
       "32     487\n",
       "99      94\n",
       "Name: BP1_2C, dtype: int64"
      ]
     },
     "execution_count": 10,
     "metadata": {},
     "output_type": "execute_result"
    }
   ],
   "source": [
    "df_copy.BP1_2C.value_counts()"
   ]
  },
  {
   "cell_type": "code",
   "execution_count": 11,
   "metadata": {},
   "outputs": [
    {
     "data": {
      "text/plain": [
       "5      1857\n",
       "1      1774\n",
       "4      1741\n",
       "2      1492\n",
       "114    1437\n",
       "3      1286\n",
       "30     1284\n",
       "6      1241\n",
       "39     1147\n",
       "53     1008\n",
       "7       919\n",
       "19      907\n",
       "14      885\n",
       "28      836\n",
       "48      831\n",
       "20      751\n",
       "101     749\n",
       "17      642\n",
       "67      603\n",
       "50      553\n",
       "193     486\n",
       "10      438\n",
       "33      386\n",
       "8       376\n",
       "15      363\n",
       "12      351\n",
       "38      343\n",
       "11      321\n",
       "120     298\n",
       "106     295\n",
       "       ... \n",
       "117       2\n",
       "409       2\n",
       "439       2\n",
       "324       2\n",
       "149       2\n",
       "498       2\n",
       "213       2\n",
       "153       2\n",
       "211       2\n",
       "392       2\n",
       "232       2\n",
       "327       1\n",
       "144       1\n",
       "565       1\n",
       "307       1\n",
       "403       1\n",
       "293       1\n",
       "176       1\n",
       "557       1\n",
       "147       1\n",
       "110       1\n",
       "139       1\n",
       "397       1\n",
       "444       1\n",
       "137       1\n",
       "348       1\n",
       "172       1\n",
       "539       1\n",
       "500       1\n",
       "551       1\n",
       "Name: BP1_3C, Length: 214, dtype: int64"
      ]
     },
     "execution_count": 11,
     "metadata": {},
     "output_type": "execute_result"
    }
   ],
   "source": [
    "df_copy.BP1_3C.value_counts()"
   ]
  },
  {
   "cell_type": "code",
   "execution_count": 12,
   "metadata": {},
   "outputs": [
    {
     "data": {
      "text/plain": [
       "2    10365\n",
       "3     8602\n",
       "1     6742\n",
       "4     5217\n",
       "9     1567\n",
       "Name: BP1_4, dtype: int64"
      ]
     },
     "execution_count": 12,
     "metadata": {},
     "output_type": "execute_result"
    }
   ],
   "source": [
    "df_copy.BP1_4.value_counts()"
   ]
  },
  {
   "cell_type": "code",
   "execution_count": 13,
   "metadata": {},
   "outputs": [],
   "source": [
    "df_copy.BP1_4.replace({9:99}, inplace=True)"
   ]
  },
  {
   "cell_type": "code",
   "execution_count": 14,
   "metadata": {},
   "outputs": [
    {
     "data": {
      "text/plain": [
       "2     10365\n",
       "3      8602\n",
       "1      6742\n",
       "4      5217\n",
       "99     1567\n",
       "Name: BP1_4, dtype: int64"
      ]
     },
     "execution_count": 14,
     "metadata": {},
     "output_type": "execute_result"
    }
   ],
   "source": [
    "df_copy.BP1_4.value_counts()"
   ]
  },
  {
   "cell_type": "code",
   "execution_count": 15,
   "metadata": {},
   "outputs": [
    {
     "data": {
      "text/plain": [
       "1    13206\n",
       "2    12575\n",
       "4     1813\n",
       "3     1438\n",
       "6     1226\n",
       "5     1182\n",
       "8      555\n",
       "9      318\n",
       "7      180\n",
       "Name: BP1_5, dtype: int64"
      ]
     },
     "execution_count": 15,
     "metadata": {},
     "output_type": "execute_result"
    }
   ],
   "source": [
    "df_copy.BP1_5.value_counts()"
   ]
  },
  {
   "cell_type": "code",
   "execution_count": 16,
   "metadata": {},
   "outputs": [],
   "source": [
    "df_copy.BP1_5.replace({9:99}, inplace=True)"
   ]
  },
  {
   "cell_type": "code",
   "execution_count": 17,
   "metadata": {},
   "outputs": [
    {
     "data": {
      "text/plain": [
       "1     13206\n",
       "2     12575\n",
       "4      1813\n",
       "3      1438\n",
       "6      1226\n",
       "5      1182\n",
       "8       555\n",
       "99      318\n",
       "7       180\n",
       "Name: BP1_5, dtype: int64"
      ]
     },
     "execution_count": 17,
     "metadata": {},
     "output_type": "execute_result"
    }
   ],
   "source": [
    "df_copy.BP1_5.value_counts()"
   ]
  },
  {
   "cell_type": "code",
   "execution_count": 18,
   "metadata": {},
   "outputs": [
    {
     "data": {
      "text/plain": [
       "2.0    13482\n",
       "1.0     7129\n",
       "Name: BP1_6, dtype: int64"
      ]
     },
     "execution_count": 18,
     "metadata": {},
     "output_type": "execute_result"
    }
   ],
   "source": [
    "df_copy.BP1_6.value_counts()"
   ]
  },
  {
   "cell_type": "code",
   "execution_count": 19,
   "metadata": {},
   "outputs": [
    {
     "data": {
      "text/plain": [
       "2    13482\n",
       "1     7129\n",
       "Name: BP1_6, dtype: int64"
      ]
     },
     "execution_count": 19,
     "metadata": {},
     "output_type": "execute_result"
    }
   ],
   "source": [
    "df_copy.BP1_6.replace({2.0:'2',1.0:'1'}, inplace=True)\n",
    "df_copy.BP1_6.value_counts()"
   ]
  },
  {
   "cell_type": "code",
   "execution_count": 20,
   "metadata": {},
   "outputs": [
    {
     "data": {
      "text/plain": [
       "1.0    8353\n",
       "2.0    8108\n",
       "9.0      36\n",
       "Name: BP1_7, dtype: int64"
      ]
     },
     "execution_count": 20,
     "metadata": {},
     "output_type": "execute_result"
    }
   ],
   "source": [
    "df_copy.BP1_7.value_counts()"
   ]
  },
  {
   "cell_type": "code",
   "execution_count": 21,
   "metadata": {},
   "outputs": [
    {
     "data": {
      "text/plain": [
       "1     8353\n",
       "2     8108\n",
       "99      36\n",
       "Name: BP1_7, dtype: int64"
      ]
     },
     "execution_count": 21,
     "metadata": {},
     "output_type": "execute_result"
    }
   ],
   "source": [
    "df_copy.BP1_7.replace({2.0:'2',1.0:'1',9.0:'99'}, inplace=True)\n",
    "df_copy.BP1_7.value_counts()"
   ]
  },
  {
   "cell_type": "code",
   "execution_count": 22,
   "metadata": {},
   "outputs": [
    {
     "data": {
      "text/plain": [
       "1.0    12085\n",
       "2.0     4412\n",
       "Name: BP1_8, dtype: int64"
      ]
     },
     "execution_count": 22,
     "metadata": {},
     "output_type": "execute_result"
    }
   ],
   "source": [
    "df_copy.BP1_8.value_counts()"
   ]
  },
  {
   "cell_type": "code",
   "execution_count": 23,
   "metadata": {},
   "outputs": [
    {
     "data": {
      "text/plain": [
       "1    12085\n",
       "2     4412\n",
       "Name: BP1_8, dtype: int64"
      ]
     },
     "execution_count": 23,
     "metadata": {},
     "output_type": "execute_result"
    }
   ],
   "source": [
    "df_copy.BP1_8.replace({2.0:'2',1.0:'1',9.0:'99'}, inplace=True)\n",
    "df_copy.BP1_8.value_counts()"
   ]
  },
  {
   "cell_type": "code",
   "execution_count": 24,
   "metadata": {},
   "outputs": [
    {
     "data": {
      "text/plain": [
       "1.0    5805\n",
       "2.0    3223\n",
       "3.0    1410\n",
       "4.0     579\n",
       "6.0     552\n",
       "9.0     284\n",
       "5.0     232\n",
       "Name: BP1_9, dtype: int64"
      ]
     },
     "execution_count": 24,
     "metadata": {},
     "output_type": "execute_result"
    }
   ],
   "source": [
    "df_copy.BP1_9.value_counts()"
   ]
  },
  {
   "cell_type": "code",
   "execution_count": 25,
   "metadata": {},
   "outputs": [
    {
     "data": {
      "text/plain": [
       "1     5805\n",
       "2     3223\n",
       "3     1410\n",
       "4      579\n",
       "6      552\n",
       "99     284\n",
       "5      232\n",
       "Name: BP1_9, dtype: int64"
      ]
     },
     "execution_count": 25,
     "metadata": {},
     "output_type": "execute_result"
    }
   ],
   "source": [
    "df_copy.BP1_9.replace({2.0:'2',1.0:'1',3.0:'3',4.0:'4',5.0:'5',6.0:'6',9.0:'99'}, inplace=True)\n",
    "df_copy.BP1_9.value_counts()"
   ]
  },
  {
   "cell_type": "code",
   "execution_count": 26,
   "metadata": {},
   "outputs": [
    {
     "data": {
      "text/plain": [
       "1.0     5855\n",
       "2.0     2928\n",
       "3.0     1259\n",
       "0.0      570\n",
       "4.0      490\n",
       "5.0      206\n",
       "6.0      190\n",
       "7.0       79\n",
       "8.0       70\n",
       "10.0      60\n",
       "20.0      25\n",
       "15.0      22\n",
       "12.0      10\n",
       "9.0        9\n",
       "13.0       4\n",
       "25.0       4\n",
       "11.0       3\n",
       "16.0       3\n",
       "40.0       3\n",
       "14.0       3\n",
       "30.0       2\n",
       "45.0       2\n",
       "99.0       2\n",
       "18.0       1\n",
       "22.0       1\n",
       "Name: BP1_10_1, dtype: int64"
      ]
     },
     "execution_count": 26,
     "metadata": {},
     "output_type": "execute_result"
    }
   ],
   "source": [
    "df_copy.BP1_10_1.value_counts()"
   ]
  },
  {
   "cell_type": "code",
   "execution_count": 27,
   "metadata": {},
   "outputs": [
    {
     "data": {
      "text/plain": [
       "1     5855\n",
       "2     2928\n",
       "3     1259\n",
       "0      570\n",
       "4      490\n",
       "5      206\n",
       "6      190\n",
       "7       79\n",
       "8       70\n",
       "10      60\n",
       "20      25\n",
       "15      22\n",
       "12      10\n",
       "9        9\n",
       "13       4\n",
       "25       4\n",
       "11       3\n",
       "16       3\n",
       "40       3\n",
       "14       3\n",
       "30       2\n",
       "99       2\n",
       "45       2\n",
       "22       1\n",
       "18       1\n",
       "Name: BP1_10_1, dtype: int64"
      ]
     },
     "execution_count": 27,
     "metadata": {},
     "output_type": "execute_result"
    }
   ],
   "source": [
    "df_copy.BP1_10_1.replace({0.0:'0',1.0:'1',2.0:'2',3.0:'3',4.0:'4',5.0:'5',6.0:'6',7.0:'7',\n",
    "                          8.0:'8',9.0:'9',10.0:'10',11.0:'11',12.0:'12',\n",
    "                          13.0:'13',14.0:'14',15.0:'15',16.0:'16',17.0:'17',\n",
    "                          18.0:'18',19.0:'19',20.0:'20',21.0:'21',22.0:'22',\n",
    "                          23.0:'23',24.0:'24',25.0:'25',26.0:'26',27.0:'27',\n",
    "                          28.0:'28',29.0:'29',30.0:'30',31.0:'31',32.0:'32',\n",
    "                          33.0:'33',34.0:'34',35.0:'35',36.0:'36',37.0:'37',\n",
    "                          38.0:'38',39.0:'39',40.0:'40',41.0:'41',42.0:'42',\n",
    "                          43.0:'43',44.0:'44',45.0:'45',46.0:'46',47.0:'47',\n",
    "                          99.0:'99',98.0:'99',88.0:'99',50.0:'50'}, inplace=True)\n",
    "df_copy.BP1_10_1.value_counts()"
   ]
  },
  {
   "cell_type": "code",
   "execution_count": 28,
   "metadata": {},
   "outputs": [
    {
     "data": {
      "text/plain": [
       "0.0     10346\n",
       "1.0      1082\n",
       "2.0       233\n",
       "3.0        64\n",
       "4.0        26\n",
       "5.0        13\n",
       "6.0         8\n",
       "8.0         8\n",
       "7.0         5\n",
       "15.0        5\n",
       "10.0        5\n",
       "11.0        2\n",
       "99.0        2\n",
       "50.0        1\n",
       "12.0        1\n",
       "Name: BP1_10_2, dtype: int64"
      ]
     },
     "execution_count": 28,
     "metadata": {},
     "output_type": "execute_result"
    }
   ],
   "source": [
    "df_copy.BP1_10_2.value_counts()"
   ]
  },
  {
   "cell_type": "code",
   "execution_count": 29,
   "metadata": {},
   "outputs": [
    {
     "data": {
      "text/plain": [
       "0     10346\n",
       "1      1082\n",
       "2       233\n",
       "3        64\n",
       "4        26\n",
       "5        13\n",
       "6         8\n",
       "8         8\n",
       "7         5\n",
       "10        5\n",
       "15        5\n",
       "99        2\n",
       "11        2\n",
       "50        1\n",
       "12        1\n",
       "Name: BP1_10_2, dtype: int64"
      ]
     },
     "execution_count": 29,
     "metadata": {},
     "output_type": "execute_result"
    }
   ],
   "source": [
    "df_copy.BP1_10_2.replace({0.0:'0',1.0:'1',2.0:'2',3.0:'3',4.0:'4',5.0:'5',6.0:'6',7.0:'7',\n",
    "                          8.0:'8',9.0:'9',10.0:'10',11.0:'11',12.0:'12',\n",
    "                          13.0:'13',14.0:'14',15.0:'15',16.0:'16',17.0:'17',\n",
    "                          18.0:'18',19.0:'19',20.0:'20',21.0:'21',22.0:'22',\n",
    "                          23.0:'23',24.0:'24',25.0:'25',26.0:'26',27.0:'27',\n",
    "                          28.0:'28',29.0:'29',30.0:'30',31.0:'31',32.0:'32',\n",
    "                          33.0:'33',34.0:'34',35.0:'35',36.0:'36',37.0:'37',\n",
    "                          38.0:'38',39.0:'39',40.0:'40',41.0:'41',42.0:'42',\n",
    "                          43.0:'43',44.0:'44',45.0:'45',46.0:'46',47.0:'47',\n",
    "                          99.0:'99',98.0:'99',88.0:'99',50.0:'50'}, inplace=True)\n",
    "df_copy.BP1_10_2.value_counts()"
   ]
  },
  {
   "cell_type": "code",
   "execution_count": 30,
   "metadata": {},
   "outputs": [
    {
     "data": {
      "text/plain": [
       "4.0    3773\n",
       "3.0    3304\n",
       "5.0    2096\n",
       "9.0    1237\n",
       "6.0     627\n",
       "8.0     618\n",
       "2.0     356\n",
       "7.0      58\n",
       "1.0      16\n",
       "Name: BP1_11, dtype: int64"
      ]
     },
     "execution_count": 30,
     "metadata": {},
     "output_type": "execute_result"
    }
   ],
   "source": [
    "df_copy.BP1_11.value_counts()"
   ]
  },
  {
   "cell_type": "code",
   "execution_count": 31,
   "metadata": {},
   "outputs": [
    {
     "data": {
      "text/plain": [
       "4     3773\n",
       "3     3304\n",
       "5     2096\n",
       "99    1237\n",
       "6      627\n",
       "8      618\n",
       "2      356\n",
       "7       58\n",
       "1       16\n",
       "Name: BP1_11, dtype: int64"
      ]
     },
     "execution_count": 31,
     "metadata": {},
     "output_type": "execute_result"
    }
   ],
   "source": [
    "df_copy.BP1_11.replace({0.0:'0',1.0:'1',2.0:'2',3.0:'3',4.0:'4',5.0:'5',6.0:'6',7.0:'7',\n",
    "                          8.0:'8',9.0:'99'}, inplace=True)\n",
    "df_copy.BP1_11.value_counts()"
   ]
  },
  {
   "cell_type": "code",
   "execution_count": 32,
   "metadata": {},
   "outputs": [
    {
     "data": {
      "text/plain": [
       "1.0    9340\n",
       "0.0    2744\n",
       "9.0       1\n",
       "Name: BP1_12_1, dtype: int64"
      ]
     },
     "execution_count": 32,
     "metadata": {},
     "output_type": "execute_result"
    }
   ],
   "source": [
    "df_copy.BP1_12_1.value_counts()"
   ]
  },
  {
   "cell_type": "code",
   "execution_count": 33,
   "metadata": {},
   "outputs": [
    {
     "data": {
      "text/plain": [
       "1     9340\n",
       "0     2744\n",
       "99       1\n",
       "Name: BP1_12_1, dtype: int64"
      ]
     },
     "execution_count": 33,
     "metadata": {},
     "output_type": "execute_result"
    }
   ],
   "source": [
    "df_copy.BP1_12_1.replace({0.0:'0',1.0:'1',9.0:'99'}, inplace=True)\n",
    "df_copy.BP1_12_1.value_counts()"
   ]
  },
  {
   "cell_type": "code",
   "execution_count": 34,
   "metadata": {},
   "outputs": [
    {
     "data": {
      "text/plain": [
       "0.0    10822\n",
       "1.0     1262\n",
       "9.0        1\n",
       "Name: BP1_12_2, dtype: int64"
      ]
     },
     "execution_count": 34,
     "metadata": {},
     "output_type": "execute_result"
    }
   ],
   "source": [
    "df_copy.BP1_12_2.value_counts()"
   ]
  },
  {
   "cell_type": "code",
   "execution_count": 35,
   "metadata": {},
   "outputs": [
    {
     "data": {
      "text/plain": [
       "0     10822\n",
       "1      1262\n",
       "99        1\n",
       "Name: BP1_12_2, dtype: int64"
      ]
     },
     "execution_count": 35,
     "metadata": {},
     "output_type": "execute_result"
    }
   ],
   "source": [
    "df_copy.BP1_12_2.replace({0.0:'0',1.0:'1',9.0:'99'}, inplace=True)\n",
    "df_copy.BP1_12_2.value_counts()"
   ]
  },
  {
   "cell_type": "code",
   "execution_count": 36,
   "metadata": {},
   "outputs": [
    {
     "data": {
      "text/plain": [
       "0.0    11403\n",
       "1.0      681\n",
       "9.0        1\n",
       "Name: BP1_12_3, dtype: int64"
      ]
     },
     "execution_count": 36,
     "metadata": {},
     "output_type": "execute_result"
    }
   ],
   "source": [
    "df_copy.BP1_12_3.value_counts()"
   ]
  },
  {
   "cell_type": "code",
   "execution_count": 37,
   "metadata": {},
   "outputs": [
    {
     "data": {
      "text/plain": [
       "0     11403\n",
       "1       681\n",
       "99        1\n",
       "Name: BP1_12_3, dtype: int64"
      ]
     },
     "execution_count": 37,
     "metadata": {},
     "output_type": "execute_result"
    }
   ],
   "source": [
    "df_copy.BP1_12_3.replace({0.0:'0',1.0:'1',9.0:'99'}, inplace=True)\n",
    "df_copy.BP1_12_3.value_counts()"
   ]
  },
  {
   "cell_type": "code",
   "execution_count": 38,
   "metadata": {},
   "outputs": [
    {
     "data": {
      "text/plain": [
       "0.0    11511\n",
       "1.0      573\n",
       "9.0        1\n",
       "Name: BP1_12_4, dtype: int64"
      ]
     },
     "execution_count": 38,
     "metadata": {},
     "output_type": "execute_result"
    }
   ],
   "source": [
    "df_copy.BP1_12_4.value_counts()"
   ]
  },
  {
   "cell_type": "code",
   "execution_count": 39,
   "metadata": {},
   "outputs": [
    {
     "data": {
      "text/plain": [
       "0     11511\n",
       "1       573\n",
       "99        1\n",
       "Name: BP1_12_4, dtype: int64"
      ]
     },
     "execution_count": 39,
     "metadata": {},
     "output_type": "execute_result"
    }
   ],
   "source": [
    "df_copy.BP1_12_4.replace({0.0:'0',1.0:'1',9.0:'99'}, inplace=True)\n",
    "df_copy.BP1_12_4.value_counts()"
   ]
  },
  {
   "cell_type": "code",
   "execution_count": 40,
   "metadata": {},
   "outputs": [
    {
     "data": {
      "text/plain": [
       "0.0    11780\n",
       "1.0      304\n",
       "9.0        1\n",
       "Name: BP1_12_5, dtype: int64"
      ]
     },
     "execution_count": 40,
     "metadata": {},
     "output_type": "execute_result"
    }
   ],
   "source": [
    "df_copy.BP1_12_5.value_counts()"
   ]
  },
  {
   "cell_type": "code",
   "execution_count": 41,
   "metadata": {},
   "outputs": [
    {
     "data": {
      "text/plain": [
       "0     11780\n",
       "1       304\n",
       "99        1\n",
       "Name: BP1_12_5, dtype: int64"
      ]
     },
     "execution_count": 41,
     "metadata": {},
     "output_type": "execute_result"
    }
   ],
   "source": [
    "df_copy.BP1_12_5.replace({0.0:'0',1.0:'1',9.0:'99'}, inplace=True)\n",
    "df_copy.BP1_12_5.value_counts()"
   ]
  },
  {
   "cell_type": "code",
   "execution_count": 42,
   "metadata": {},
   "outputs": [
    {
     "data": {
      "text/plain": [
       "2.0    7003\n",
       "1.0    2337\n",
       "Name: BP1_13, dtype: int64"
      ]
     },
     "execution_count": 42,
     "metadata": {},
     "output_type": "execute_result"
    }
   ],
   "source": [
    "df_copy.BP1_13.value_counts()"
   ]
  },
  {
   "cell_type": "code",
   "execution_count": 43,
   "metadata": {},
   "outputs": [
    {
     "data": {
      "text/plain": [
       "2    7003\n",
       "1    2337\n",
       "Name: BP1_13, dtype: int64"
      ]
     },
     "execution_count": 43,
     "metadata": {},
     "output_type": "execute_result"
    }
   ],
   "source": [
    "df_copy.BP1_13.replace({2.0:'2',1.0:'1',9.0:'99'}, inplace=True)\n",
    "df_copy.BP1_13.value_counts()"
   ]
  },
  {
   "cell_type": "code",
   "execution_count": 44,
   "metadata": {},
   "outputs": [
    {
     "data": {
      "text/plain": [
       "0.0    9843\n",
       "1.0    2242\n",
       "Name: BP1_14_1, dtype: int64"
      ]
     },
     "execution_count": 44,
     "metadata": {},
     "output_type": "execute_result"
    }
   ],
   "source": [
    "df_copy.BP1_14_1.value_counts()"
   ]
  },
  {
   "cell_type": "code",
   "execution_count": 45,
   "metadata": {},
   "outputs": [
    {
     "data": {
      "text/plain": [
       "0    9843\n",
       "1    2242\n",
       "Name: BP1_14_1, dtype: int64"
      ]
     },
     "execution_count": 45,
     "metadata": {},
     "output_type": "execute_result"
    }
   ],
   "source": [
    "df_copy.BP1_14_1.replace({0.0:'0',1.0:'1',9.0:'99'}, inplace=True)\n",
    "df_copy.BP1_14_1.value_counts()"
   ]
  },
  {
   "cell_type": "code",
   "execution_count": 46,
   "metadata": {},
   "outputs": [
    {
     "data": {
      "text/plain": [
       "0.0    10478\n",
       "1.0     1607\n",
       "Name: BP1_14_2, dtype: int64"
      ]
     },
     "execution_count": 46,
     "metadata": {},
     "output_type": "execute_result"
    }
   ],
   "source": [
    "df_copy.BP1_14_2.value_counts()"
   ]
  },
  {
   "cell_type": "code",
   "execution_count": 47,
   "metadata": {},
   "outputs": [
    {
     "data": {
      "text/plain": [
       "0    10478\n",
       "1     1607\n",
       "Name: BP1_14_2, dtype: int64"
      ]
     },
     "execution_count": 47,
     "metadata": {},
     "output_type": "execute_result"
    }
   ],
   "source": [
    "df_copy.BP1_14_2.replace({0.0:'0',1.0:'1',9.0:'99'}, inplace=True)\n",
    "df_copy.BP1_14_2.value_counts()"
   ]
  },
  {
   "cell_type": "code",
   "execution_count": 48,
   "metadata": {},
   "outputs": [
    {
     "data": {
      "text/plain": [
       "0.0    12036\n",
       "1.0       49\n",
       "Name: BP1_14_3, dtype: int64"
      ]
     },
     "execution_count": 48,
     "metadata": {},
     "output_type": "execute_result"
    }
   ],
   "source": [
    "df_copy.BP1_14_3.value_counts()"
   ]
  },
  {
   "cell_type": "code",
   "execution_count": 49,
   "metadata": {},
   "outputs": [
    {
     "data": {
      "text/plain": [
       "0    12036\n",
       "1       49\n",
       "Name: BP1_14_3, dtype: int64"
      ]
     },
     "execution_count": 49,
     "metadata": {},
     "output_type": "execute_result"
    }
   ],
   "source": [
    "df_copy.BP1_14_3.replace({0.0:'0',1.0:'1',9.0:'99'}, inplace=True)\n",
    "df_copy.BP1_14_3.value_counts()"
   ]
  },
  {
   "cell_type": "code",
   "execution_count": 50,
   "metadata": {},
   "outputs": [
    {
     "data": {
      "text/plain": [
       "0.0    6581\n",
       "1.0    5504\n",
       "Name: BP1_14_4, dtype: int64"
      ]
     },
     "execution_count": 50,
     "metadata": {},
     "output_type": "execute_result"
    }
   ],
   "source": [
    "df_copy.BP1_14_4.value_counts()"
   ]
  },
  {
   "cell_type": "code",
   "execution_count": 51,
   "metadata": {},
   "outputs": [
    {
     "data": {
      "text/plain": [
       "0    6581\n",
       "1    5504\n",
       "Name: BP1_14_4, dtype: int64"
      ]
     },
     "execution_count": 51,
     "metadata": {},
     "output_type": "execute_result"
    }
   ],
   "source": [
    "df_copy.BP1_14_4.replace({0.0:'0',1.0:'1',9.0:'99'}, inplace=True)\n",
    "df_copy.BP1_14_4.value_counts()"
   ]
  },
  {
   "cell_type": "code",
   "execution_count": 52,
   "metadata": {},
   "outputs": [
    {
     "data": {
      "text/plain": [
       "0.0    8950\n",
       "1.0    3135\n",
       "Name: BP1_14_9, dtype: int64"
      ]
     },
     "execution_count": 52,
     "metadata": {},
     "output_type": "execute_result"
    }
   ],
   "source": [
    "df_copy.BP1_14_9.value_counts()"
   ]
  },
  {
   "cell_type": "code",
   "execution_count": 53,
   "metadata": {},
   "outputs": [
    {
     "data": {
      "text/plain": [
       "0    8950\n",
       "1    3135\n",
       "Name: BP1_14_9, dtype: int64"
      ]
     },
     "execution_count": 53,
     "metadata": {},
     "output_type": "execute_result"
    }
   ],
   "source": [
    "df_copy.BP1_14_9.replace({0.0:'0',1.0:'1',9.0:'99'}, inplace=True)\n",
    "df_copy.BP1_14_9.value_counts()"
   ]
  },
  {
   "cell_type": "code",
   "execution_count": 54,
   "metadata": {},
   "outputs": [
    {
     "data": {
      "text/plain": [
       "2.0    5541\n",
       "1.0    4658\n",
       "9.0    1886\n",
       "Name: BP1_15, dtype: int64"
      ]
     },
     "execution_count": 54,
     "metadata": {},
     "output_type": "execute_result"
    }
   ],
   "source": [
    "df_copy.BP1_15.value_counts()"
   ]
  },
  {
   "cell_type": "code",
   "execution_count": 55,
   "metadata": {},
   "outputs": [
    {
     "data": {
      "text/plain": [
       "2.0    5541\n",
       "1      4658\n",
       "99     1886\n",
       "Name: BP1_15, dtype: int64"
      ]
     },
     "execution_count": 55,
     "metadata": {},
     "output_type": "execute_result"
    }
   ],
   "source": [
    "df_copy.BP1_15.replace({0.0:'0',1.0:'1',9.0:'99'}, inplace=True)\n",
    "df_copy.BP1_15.value_counts()"
   ]
  },
  {
   "cell_type": "code",
   "execution_count": 56,
   "metadata": {},
   "outputs": [
    {
     "data": {
      "text/plain": [
       "1.0    2639\n",
       "0.0    2019\n",
       "Name: BP1_16_1, dtype: int64"
      ]
     },
     "execution_count": 56,
     "metadata": {},
     "output_type": "execute_result"
    }
   ],
   "source": [
    "df_copy.BP1_16_1.value_counts()"
   ]
  },
  {
   "cell_type": "code",
   "execution_count": 57,
   "metadata": {},
   "outputs": [
    {
     "data": {
      "text/plain": [
       "1    2639\n",
       "0    2019\n",
       "Name: BP1_16_1, dtype: int64"
      ]
     },
     "execution_count": 57,
     "metadata": {},
     "output_type": "execute_result"
    }
   ],
   "source": [
    "df_copy.BP1_16_1.replace({0.0:'0',1.0:'1',9.0:'99'}, inplace=True)\n",
    "df_copy.BP1_16_1.value_counts()"
   ]
  },
  {
   "cell_type": "code",
   "execution_count": 58,
   "metadata": {},
   "outputs": [
    {
     "data": {
      "text/plain": [
       "0.0    4606\n",
       "1.0      52\n",
       "Name: BP1_16_4, dtype: int64"
      ]
     },
     "execution_count": 58,
     "metadata": {},
     "output_type": "execute_result"
    }
   ],
   "source": [
    "df_copy.BP1_16_4.value_counts()"
   ]
  },
  {
   "cell_type": "code",
   "execution_count": 59,
   "metadata": {},
   "outputs": [
    {
     "data": {
      "text/plain": [
       "0    4606\n",
       "1      52\n",
       "Name: BP1_16_4, dtype: int64"
      ]
     },
     "execution_count": 59,
     "metadata": {},
     "output_type": "execute_result"
    }
   ],
   "source": [
    "df_copy.BP1_16_4.replace({0.0:'0',1.0:'1',9.0:'99'}, inplace=True)\n",
    "df_copy.BP1_16_4.value_counts()"
   ]
  },
  {
   "cell_type": "code",
   "execution_count": 60,
   "metadata": {},
   "outputs": [
    {
     "data": {
      "text/plain": [
       "0.0    2583\n",
       "1.0    2075\n",
       "Name: BP1_16_2, dtype: int64"
      ]
     },
     "execution_count": 60,
     "metadata": {},
     "output_type": "execute_result"
    }
   ],
   "source": [
    "df_copy.BP1_16_2.value_counts()"
   ]
  },
  {
   "cell_type": "code",
   "execution_count": 61,
   "metadata": {},
   "outputs": [
    {
     "data": {
      "text/plain": [
       "0    2583\n",
       "1    2075\n",
       "Name: BP1_16_2, dtype: int64"
      ]
     },
     "execution_count": 61,
     "metadata": {},
     "output_type": "execute_result"
    }
   ],
   "source": [
    "df_copy.BP1_16_2.replace({0.0:'0',1.0:'1',9.0:'99'}, inplace=True)\n",
    "df_copy.BP1_16_2.value_counts()"
   ]
  },
  {
   "cell_type": "code",
   "execution_count": 62,
   "metadata": {},
   "outputs": [
    {
     "data": {
      "text/plain": [
       "0.0    4464\n",
       "1.0     194\n",
       "Name: BP1_16_3, dtype: int64"
      ]
     },
     "execution_count": 62,
     "metadata": {},
     "output_type": "execute_result"
    }
   ],
   "source": [
    "df_copy.BP1_16_3.value_counts()"
   ]
  },
  {
   "cell_type": "code",
   "execution_count": 63,
   "metadata": {},
   "outputs": [
    {
     "data": {
      "text/plain": [
       "0    4464\n",
       "1     194\n",
       "Name: BP1_16_3, dtype: int64"
      ]
     },
     "execution_count": 63,
     "metadata": {},
     "output_type": "execute_result"
    }
   ],
   "source": [
    "df_copy.BP1_16_3.replace({0.0:'0',1.0:'1',9.0:'99'}, inplace=True)\n",
    "df_copy.BP1_16_3.value_counts()"
   ]
  },
  {
   "cell_type": "code",
   "execution_count": 64,
   "metadata": {},
   "outputs": [
    {
     "data": {
      "text/plain": [
       "0.0    4633\n",
       "1.0      25\n",
       "Name: BP1_16_9, dtype: int64"
      ]
     },
     "execution_count": 64,
     "metadata": {},
     "output_type": "execute_result"
    }
   ],
   "source": [
    "df_copy.BP1_16_9.value_counts()"
   ]
  },
  {
   "cell_type": "code",
   "execution_count": 65,
   "metadata": {},
   "outputs": [
    {
     "data": {
      "text/plain": [
       "0    4633\n",
       "1      25\n",
       "Name: BP1_16_9, dtype: int64"
      ]
     },
     "execution_count": 65,
     "metadata": {},
     "output_type": "execute_result"
    }
   ],
   "source": [
    "df_copy.BP1_16_9.replace({0.0:'0',1.0:'1',9.0:'99'}, inplace=True)\n",
    "df_copy.BP1_16_9.value_counts()"
   ]
  },
  {
   "cell_type": "code",
   "execution_count": 66,
   "metadata": {},
   "outputs": [
    {
     "data": {
      "text/plain": [
       "2.0    3701\n",
       "1.0     955\n",
       "9.0       2\n",
       "Name: BP1_17, dtype: int64"
      ]
     },
     "execution_count": 66,
     "metadata": {},
     "output_type": "execute_result"
    }
   ],
   "source": [
    "df_copy.BP1_17.value_counts()"
   ]
  },
  {
   "cell_type": "code",
   "execution_count": 67,
   "metadata": {},
   "outputs": [
    {
     "data": {
      "text/plain": [
       "2     3701\n",
       "1      955\n",
       "99       2\n",
       "Name: BP1_17, dtype: int64"
      ]
     },
     "execution_count": 67,
     "metadata": {},
     "output_type": "execute_result"
    }
   ],
   "source": [
    "df_copy.BP1_17.replace({2.0:'2',1.0:'1',9.0:'99'}, inplace=True)\n",
    "df_copy.BP1_17.value_counts()"
   ]
  },
  {
   "cell_type": "code",
   "execution_count": 68,
   "metadata": {},
   "outputs": [
    {
     "data": {
      "text/plain": [
       "2.0    8935\n",
       "1.0    2102\n",
       "9.0      93\n",
       "Name: BP1_18, dtype: int64"
      ]
     },
     "execution_count": 68,
     "metadata": {},
     "output_type": "execute_result"
    }
   ],
   "source": [
    "df_copy.BP1_18.value_counts()"
   ]
  },
  {
   "cell_type": "code",
   "execution_count": 69,
   "metadata": {},
   "outputs": [
    {
     "data": {
      "text/plain": [
       "2     8935\n",
       "1     2102\n",
       "99      93\n",
       "Name: BP1_18, dtype: int64"
      ]
     },
     "execution_count": 69,
     "metadata": {},
     "output_type": "execute_result"
    }
   ],
   "source": [
    "df_copy.BP1_18.replace({2.0:'2',1.0:'1',9.0:'99'}, inplace=True)\n",
    "df_copy.BP1_18.value_counts()"
   ]
  },
  {
   "cell_type": "code",
   "execution_count": 70,
   "metadata": {},
   "outputs": [
    {
     "data": {
      "text/plain": [
       "0.0    1577\n",
       "1.0    1480\n",
       "Name: BP1_19_1, dtype: int64"
      ]
     },
     "execution_count": 70,
     "metadata": {},
     "output_type": "execute_result"
    }
   ],
   "source": [
    "df_copy.BP1_19_1.value_counts()"
   ]
  },
  {
   "cell_type": "code",
   "execution_count": 71,
   "metadata": {},
   "outputs": [
    {
     "data": {
      "text/plain": [
       "0    1577\n",
       "1    1480\n",
       "Name: BP1_19_1, dtype: int64"
      ]
     },
     "execution_count": 71,
     "metadata": {},
     "output_type": "execute_result"
    }
   ],
   "source": [
    "df_copy.BP1_19_1.replace({0.0:'0',1.0:'1',9.0:'99'}, inplace=True)\n",
    "df_copy.BP1_19_1.value_counts()"
   ]
  },
  {
   "cell_type": "code",
   "execution_count": 72,
   "metadata": {},
   "outputs": [
    {
     "data": {
      "text/plain": [
       "0.0    2573\n",
       "1.0     484\n",
       "Name: BP1_19_2, dtype: int64"
      ]
     },
     "execution_count": 72,
     "metadata": {},
     "output_type": "execute_result"
    }
   ],
   "source": [
    "df_copy.BP1_19_2.value_counts()"
   ]
  },
  {
   "cell_type": "code",
   "execution_count": 73,
   "metadata": {},
   "outputs": [
    {
     "data": {
      "text/plain": [
       "0    2573\n",
       "1     484\n",
       "Name: BP1_19_2, dtype: int64"
      ]
     },
     "execution_count": 73,
     "metadata": {},
     "output_type": "execute_result"
    }
   ],
   "source": [
    "df_copy.BP1_19_2.replace({0.0:'0',1.0:'1',9.0:'99'}, inplace=True)\n",
    "df_copy.BP1_19_2.value_counts()"
   ]
  },
  {
   "cell_type": "code",
   "execution_count": 74,
   "metadata": {},
   "outputs": [
    {
     "data": {
      "text/plain": [
       "0.0    2975\n",
       "1.0      82\n",
       "Name: BP1_19_3, dtype: int64"
      ]
     },
     "execution_count": 74,
     "metadata": {},
     "output_type": "execute_result"
    }
   ],
   "source": [
    "df_copy.BP1_19_3.value_counts()"
   ]
  },
  {
   "cell_type": "code",
   "execution_count": 75,
   "metadata": {},
   "outputs": [
    {
     "data": {
      "text/plain": [
       "0    2975\n",
       "1      82\n",
       "Name: BP1_19_3, dtype: int64"
      ]
     },
     "execution_count": 75,
     "metadata": {},
     "output_type": "execute_result"
    }
   ],
   "source": [
    "df_copy.BP1_19_3.replace({0.0:'0',1.0:'1',9.0:'99'}, inplace=True)\n",
    "df_copy.BP1_19_3.value_counts()"
   ]
  },
  {
   "cell_type": "code",
   "execution_count": 76,
   "metadata": {},
   "outputs": [
    {
     "data": {
      "text/plain": [
       "0.0    2906\n",
       "1.0     151\n",
       "Name: BP1_19_4, dtype: int64"
      ]
     },
     "execution_count": 76,
     "metadata": {},
     "output_type": "execute_result"
    }
   ],
   "source": [
    "df_copy.BP1_19_4.value_counts()"
   ]
  },
  {
   "cell_type": "code",
   "execution_count": 77,
   "metadata": {},
   "outputs": [
    {
     "data": {
      "text/plain": [
       "0    2906\n",
       "1     151\n",
       "Name: BP1_19_4, dtype: int64"
      ]
     },
     "execution_count": 77,
     "metadata": {},
     "output_type": "execute_result"
    }
   ],
   "source": [
    "df_copy.BP1_19_4.replace({0.0:'0',1.0:'1',9.0:'99'}, inplace=True)\n",
    "df_copy.BP1_19_4.value_counts()"
   ]
  },
  {
   "cell_type": "code",
   "execution_count": 78,
   "metadata": {},
   "outputs": [
    {
     "data": {
      "text/plain": [
       "0.0    3043\n",
       "1.0      14\n",
       "Name: BP1_19_5, dtype: int64"
      ]
     },
     "execution_count": 78,
     "metadata": {},
     "output_type": "execute_result"
    }
   ],
   "source": [
    "df_copy.BP1_19_5.value_counts()"
   ]
  },
  {
   "cell_type": "code",
   "execution_count": 79,
   "metadata": {},
   "outputs": [
    {
     "data": {
      "text/plain": [
       "0    3043\n",
       "1      14\n",
       "Name: BP1_19_5, dtype: int64"
      ]
     },
     "execution_count": 79,
     "metadata": {},
     "output_type": "execute_result"
    }
   ],
   "source": [
    "df_copy.BP1_19_5.replace({0.0:'0',1.0:'1',9.0:'99'}, inplace=True)\n",
    "df_copy.BP1_19_5.value_counts()"
   ]
  },
  {
   "cell_type": "code",
   "execution_count": 80,
   "metadata": {},
   "outputs": [
    {
     "data": {
      "text/plain": [
       "0.0    2989\n",
       "1.0      68\n",
       "Name: BP1_19_6, dtype: int64"
      ]
     },
     "execution_count": 80,
     "metadata": {},
     "output_type": "execute_result"
    }
   ],
   "source": [
    "df_copy.BP1_19_6.value_counts()"
   ]
  },
  {
   "cell_type": "code",
   "execution_count": 81,
   "metadata": {},
   "outputs": [
    {
     "data": {
      "text/plain": [
       "0    2989\n",
       "1      68\n",
       "Name: BP1_19_6, dtype: int64"
      ]
     },
     "execution_count": 81,
     "metadata": {},
     "output_type": "execute_result"
    }
   ],
   "source": [
    "df_copy.BP1_19_6.replace({0.0:'0',1.0:'1',9.0:'99'}, inplace=True)\n",
    "df_copy.BP1_19_6.value_counts()"
   ]
  },
  {
   "cell_type": "code",
   "execution_count": 82,
   "metadata": {},
   "outputs": [
    {
     "data": {
      "text/plain": [
       "0.0    1817\n",
       "1.0    1240\n",
       "Name: BP1_19_7, dtype: int64"
      ]
     },
     "execution_count": 82,
     "metadata": {},
     "output_type": "execute_result"
    }
   ],
   "source": [
    "df_copy.BP1_19_7.value_counts()"
   ]
  },
  {
   "cell_type": "code",
   "execution_count": 83,
   "metadata": {},
   "outputs": [
    {
     "data": {
      "text/plain": [
       "0    1817\n",
       "1    1240\n",
       "Name: BP1_19_7, dtype: int64"
      ]
     },
     "execution_count": 83,
     "metadata": {},
     "output_type": "execute_result"
    }
   ],
   "source": [
    "df_copy.BP1_19_7.replace({0.0:'0',1.0:'1',9.0:'99'}, inplace=True)\n",
    "df_copy.BP1_19_7.value_counts()"
   ]
  },
  {
   "cell_type": "code",
   "execution_count": 84,
   "metadata": {},
   "outputs": [
    {
     "data": {
      "text/plain": [
       "2    27274\n",
       "1     5219\n",
       "Name: BP1_20, dtype: int64"
      ]
     },
     "execution_count": 84,
     "metadata": {},
     "output_type": "execute_result"
    }
   ],
   "source": [
    "df_copy.BP1_20.value_counts()"
   ]
  },
  {
   "cell_type": "code",
   "execution_count": 85,
   "metadata": {},
   "outputs": [
    {
     "data": {
      "text/plain": [
       "2.0    10804\n",
       "1.0      178\n",
       "9.0       68\n",
       "Name: BP1_21, dtype: int64"
      ]
     },
     "execution_count": 85,
     "metadata": {},
     "output_type": "execute_result"
    }
   ],
   "source": [
    "df_copy.BP1_21.value_counts()"
   ]
  },
  {
   "cell_type": "code",
   "execution_count": 86,
   "metadata": {},
   "outputs": [
    {
     "data": {
      "text/plain": [
       "2     10804\n",
       "1       178\n",
       "99       68\n",
       "Name: BP1_21, dtype: int64"
      ]
     },
     "execution_count": 86,
     "metadata": {},
     "output_type": "execute_result"
    }
   ],
   "source": [
    "df_copy.BP1_21.replace({2.0:'2',1.0:'1',9.0:'99'}, inplace=True)\n",
    "df_copy.BP1_21.value_counts()"
   ]
  },
  {
   "cell_type": "code",
   "execution_count": 87,
   "metadata": {},
   "outputs": [
    {
     "data": {
      "text/plain": [
       "2.0    126\n",
       "1.0     52\n",
       "Name: BP1_22, dtype: int64"
      ]
     },
     "execution_count": 87,
     "metadata": {},
     "output_type": "execute_result"
    }
   ],
   "source": [
    "df_copy.BP1_22.value_counts()"
   ]
  },
  {
   "cell_type": "code",
   "execution_count": 88,
   "metadata": {},
   "outputs": [
    {
     "data": {
      "text/plain": [
       "2    126\n",
       "1     52\n",
       "Name: BP1_22, dtype: int64"
      ]
     },
     "execution_count": 88,
     "metadata": {},
     "output_type": "execute_result"
    }
   ],
   "source": [
    "df_copy.BP1_22.replace({2.0:'2',1.0:'1',9.0:'99'}, inplace=True)\n",
    "df_copy.BP1_22.value_counts()"
   ]
  },
  {
   "cell_type": "code",
   "execution_count": 89,
   "metadata": {},
   "outputs": [
    {
     "data": {
      "text/plain": [
       "4.0     9696\n",
       "6.0     4251\n",
       "3.0     2754\n",
       "5.0     2535\n",
       "7.0     2500\n",
       "1.0     2163\n",
       "9.0     2037\n",
       "8.0      675\n",
       "99.0     248\n",
       "2.0      237\n",
       "Name: BP1_23, dtype: int64"
      ]
     },
     "execution_count": 89,
     "metadata": {},
     "output_type": "execute_result"
    }
   ],
   "source": [
    "df_copy.BP1_23.value_counts()"
   ]
  },
  {
   "cell_type": "code",
   "execution_count": 90,
   "metadata": {},
   "outputs": [
    {
     "data": {
      "text/plain": [
       "4     9696\n",
       "6     4251\n",
       "3     2754\n",
       "5     2535\n",
       "7     2500\n",
       "1     2163\n",
       "9     2037\n",
       "8      675\n",
       "99     248\n",
       "2      237\n",
       "Name: BP1_23, dtype: int64"
      ]
     },
     "execution_count": 90,
     "metadata": {},
     "output_type": "execute_result"
    }
   ],
   "source": [
    "df_copy.BP1_23.replace({0.0:'0',1.0:'1',2.0:'2',3.0:'3',4.0:'4',5.0:'5',6.0:'6',7.0:'7',\n",
    "                          8.0:'8',9.0:'9',10.0:'10',11.0:'11',12.0:'12',\n",
    "                          13.0:'13',14.0:'14',15.0:'15',16.0:'16',17.0:'17',\n",
    "                          18.0:'18',19.0:'19',20.0:'20',21.0:'21',22.0:'22',\n",
    "                          23.0:'23',24.0:'24',25.0:'25',26.0:'26',27.0:'27',\n",
    "                          28.0:'28',29.0:'29',30.0:'30',31.0:'31',32.0:'32',\n",
    "                          33.0:'33',34.0:'34',35.0:'35',36.0:'36',37.0:'37',\n",
    "                          38.0:'38',39.0:'39',40.0:'40',41.0:'41',42.0:'42',\n",
    "                          43.0:'43',44.0:'44',45.0:'45',46.0:'46',47.0:'47',\n",
    "                          99.0:'99',98.0:'99',88.0:'99',50.0:'50'}, inplace=True)\n",
    "df_copy.BP1_23.value_counts()"
   ]
  },
  {
   "cell_type": "code",
   "execution_count": 91,
   "metadata": {},
   "outputs": [
    {
     "data": {
      "text/plain": [
       "1.0    3641\n",
       "2.0    1290\n",
       "9.0     340\n",
       "Name: BP1_24, dtype: int64"
      ]
     },
     "execution_count": 91,
     "metadata": {},
     "output_type": "execute_result"
    }
   ],
   "source": [
    "df_copy.BP1_24.value_counts()"
   ]
  },
  {
   "cell_type": "code",
   "execution_count": 92,
   "metadata": {},
   "outputs": [
    {
     "data": {
      "text/plain": [
       "1     3641\n",
       "2     1290\n",
       "99     340\n",
       "Name: BP1_24, dtype: int64"
      ]
     },
     "execution_count": 92,
     "metadata": {},
     "output_type": "execute_result"
    }
   ],
   "source": [
    "df_copy.BP1_24.replace({2.0:'2',1.0:'1',9.0:'99'}, inplace=True)\n",
    "df_copy.BP1_24.value_counts()"
   ]
  },
  {
   "cell_type": "code",
   "execution_count": 93,
   "metadata": {},
   "outputs": [
    {
     "data": {
      "text/plain": [
       "4.0    385\n",
       "2.0    352\n",
       "5.0    218\n",
       "1.0    126\n",
       "3.0    120\n",
       "9.0     89\n",
       "Name: BP1_25, dtype: int64"
      ]
     },
     "execution_count": 93,
     "metadata": {},
     "output_type": "execute_result"
    }
   ],
   "source": [
    "df_copy.BP1_25.value_counts()"
   ]
  },
  {
   "cell_type": "code",
   "execution_count": 94,
   "metadata": {},
   "outputs": [
    {
     "data": {
      "text/plain": [
       "4    385\n",
       "2    352\n",
       "5    218\n",
       "1    126\n",
       "3    120\n",
       "9     89\n",
       "Name: BP1_25, dtype: int64"
      ]
     },
     "execution_count": 94,
     "metadata": {},
     "output_type": "execute_result"
    }
   ],
   "source": [
    "df_copy.BP1_25.replace({0.0:'0',1.0:'1',2.0:'2',3.0:'3',4.0:'4',5.0:'5',6.0:'6',7.0:'7',\n",
    "                          8.0:'8',9.0:'9',10.0:'10',11.0:'11',12.0:'12',\n",
    "                          13.0:'13',14.0:'14',15.0:'15',16.0:'16',17.0:'17',\n",
    "                          18.0:'18',19.0:'19',20.0:'20',21.0:'21',22.0:'22',\n",
    "                          23.0:'23',24.0:'24',25.0:'25',26.0:'26',27.0:'27',\n",
    "                          28.0:'28',29.0:'29',30.0:'30',31.0:'31',32.0:'32',\n",
    "                          33.0:'33',34.0:'34',35.0:'35',36.0:'36',37.0:'37',\n",
    "                          38.0:'38',39.0:'39',40.0:'40',41.0:'41',42.0:'42',\n",
    "                          43.0:'43',44.0:'44',45.0:'45',46.0:'46',47.0:'47',\n",
    "                          99.0:'99',98.0:'99',88.0:'99',50.0:'50'}, inplace=True)\n",
    "df_copy.BP1_25.value_counts()"
   ]
  },
  {
   "cell_type": "code",
   "execution_count": 95,
   "metadata": {},
   "outputs": [
    {
     "data": {
      "text/plain": [
       "11.0    554\n",
       "12.0    526\n",
       "2.0     484\n",
       "3.0     456\n",
       "10.0    441\n",
       "6.0     414\n",
       "4.0     404\n",
       "1.0     399\n",
       "8.0     382\n",
       "9.0     380\n",
       "5.0     376\n",
       "7.0     343\n",
       "99.0    112\n",
       "Name: BP1_26_1, dtype: int64"
      ]
     },
     "execution_count": 95,
     "metadata": {},
     "output_type": "execute_result"
    }
   ],
   "source": [
    "df_copy.BP1_26_1.value_counts()"
   ]
  },
  {
   "cell_type": "code",
   "execution_count": 96,
   "metadata": {},
   "outputs": [
    {
     "data": {
      "text/plain": [
       "11    554\n",
       "12    526\n",
       "2     484\n",
       "3     456\n",
       "10    441\n",
       "6     414\n",
       "4     404\n",
       "1     399\n",
       "8     382\n",
       "9     380\n",
       "5     376\n",
       "7     343\n",
       "99    112\n",
       "Name: BP1_26_1, dtype: int64"
      ]
     },
     "execution_count": 96,
     "metadata": {},
     "output_type": "execute_result"
    }
   ],
   "source": [
    "df_copy.BP1_26_1.replace({0.0:'0',1.0:'1',2.0:'2',3.0:'3',4.0:'4',5.0:'5',6.0:'6',7.0:'7',\n",
    "                          8.0:'8',9.0:'9',10.0:'10',11.0:'11',12.0:'12',\n",
    "                          13.0:'13',14.0:'14',15.0:'15',16.0:'16',17.0:'17',\n",
    "                          18.0:'18',19.0:'19',20.0:'20',21.0:'21',22.0:'22',\n",
    "                          23.0:'23',24.0:'24',25.0:'25',26.0:'26',27.0:'27',\n",
    "                          28.0:'28',29.0:'29',30.0:'30',31.0:'31',32.0:'32',\n",
    "                          33.0:'33',34.0:'34',35.0:'35',36.0:'36',37.0:'37',\n",
    "                          38.0:'38',39.0:'39',40.0:'40',41.0:'41',42.0:'42',\n",
    "                          43.0:'43',44.0:'44',45.0:'45',46.0:'46',47.0:'47',\n",
    "                          99.0:'99',98.0:'99',88.0:'99',50.0:'50'}, inplace=True)\n",
    "df_copy.BP1_26_1.value_counts()"
   ]
  },
  {
   "cell_type": "code",
   "execution_count": 97,
   "metadata": {},
   "outputs": [
    {
     "data": {
      "text/plain": [
       "11.0    5095\n",
       "12.0      94\n",
       "99.0      82\n",
       "Name: BP1_26_2, dtype: int64"
      ]
     },
     "execution_count": 97,
     "metadata": {},
     "output_type": "execute_result"
    }
   ],
   "source": [
    "df_copy.BP1_26_2.value_counts()"
   ]
  },
  {
   "cell_type": "code",
   "execution_count": 98,
   "metadata": {},
   "outputs": [
    {
     "data": {
      "text/plain": [
       "11    5095\n",
       "12      94\n",
       "99      82\n",
       "Name: BP1_26_2, dtype: int64"
      ]
     },
     "execution_count": 98,
     "metadata": {},
     "output_type": "execute_result"
    }
   ],
   "source": [
    "df_copy.BP1_26_2.replace({0.0:'0',1.0:'1',2.0:'2',3.0:'3',4.0:'4',5.0:'5',6.0:'6',7.0:'7',\n",
    "                          8.0:'8',9.0:'9',10.0:'10',11.0:'11',12.0:'12',\n",
    "                          13.0:'13',14.0:'14',15.0:'15',16.0:'16',17.0:'17',\n",
    "                          18.0:'18',19.0:'19',20.0:'20',21.0:'21',22.0:'22',\n",
    "                          23.0:'23',24.0:'24',25.0:'25',26.0:'26',27.0:'27',\n",
    "                          28.0:'28',29.0:'29',30.0:'30',31.0:'31',32.0:'32',\n",
    "                          33.0:'33',34.0:'34',35.0:'35',36.0:'36',37.0:'37',\n",
    "                          38.0:'38',39.0:'39',40.0:'40',41.0:'41',42.0:'42',\n",
    "                          43.0:'43',44.0:'44',45.0:'45',46.0:'46',47.0:'47',\n",
    "                          99.0:'99',98.0:'99',88.0:'99',50.0:'50'}, inplace=True)\n",
    "df_copy.BP1_26_2.value_counts()"
   ]
  },
  {
   "cell_type": "code",
   "execution_count": 99,
   "metadata": {},
   "outputs": [
    {
     "data": {
      "text/plain": [
       "2.0    1918\n",
       "4.0    1193\n",
       "3.0    1054\n",
       "1.0    1020\n",
       "9.0      86\n",
       "Name: BP1_27, dtype: int64"
      ]
     },
     "execution_count": 99,
     "metadata": {},
     "output_type": "execute_result"
    }
   ],
   "source": [
    "df_copy.BP1_27.value_counts()"
   ]
  },
  {
   "cell_type": "code",
   "execution_count": 100,
   "metadata": {},
   "outputs": [
    {
     "data": {
      "text/plain": [
       "2     1918\n",
       "4     1193\n",
       "3     1054\n",
       "1     1020\n",
       "99      86\n",
       "Name: BP1_27, dtype: int64"
      ]
     },
     "execution_count": 100,
     "metadata": {},
     "output_type": "execute_result"
    }
   ],
   "source": [
    "df_copy.BP1_27.replace({0.0:'0',1.0:'1',2.0:'2',3.0:'3',4.0:'4',9.0:'99'}, inplace=True)\n",
    "df_copy.BP1_27.value_counts()"
   ]
  },
  {
   "cell_type": "code",
   "execution_count": 101,
   "metadata": {},
   "outputs": [
    {
     "data": {
      "text/plain": [
       "5.0    3316\n",
       "2.0     809\n",
       "3.0     457\n",
       "4.0     226\n",
       "9.0     199\n",
       "1.0     163\n",
       "6.0     101\n",
       "Name: BP1_28, dtype: int64"
      ]
     },
     "execution_count": 101,
     "metadata": {},
     "output_type": "execute_result"
    }
   ],
   "source": [
    "df_copy.BP1_28.value_counts()"
   ]
  },
  {
   "cell_type": "code",
   "execution_count": 102,
   "metadata": {},
   "outputs": [
    {
     "data": {
      "text/plain": [
       "5     3316\n",
       "2      809\n",
       "3      457\n",
       "4      226\n",
       "99     199\n",
       "1      163\n",
       "6      101\n",
       "Name: BP1_28, dtype: int64"
      ]
     },
     "execution_count": 102,
     "metadata": {},
     "output_type": "execute_result"
    }
   ],
   "source": [
    "df_copy.BP1_28.replace({0.0:'0',1.0:'1',2.0:'2',3.0:'3',4.0:'4',5.0:'5',6.0:'6',9.0:'99'}, inplace=True)\n",
    "df_copy.BP1_28.value_counts()"
   ]
  },
  {
   "cell_type": "code",
   "execution_count": 103,
   "metadata": {},
   "outputs": [
    {
     "data": {
      "text/plain": [
       "2.0    1962\n",
       "3.0    1865\n",
       "4.0     608\n",
       "5.0     433\n",
       "1.0     278\n",
       "9.0     125\n",
       "Name: BP1_29, dtype: int64"
      ]
     },
     "execution_count": 103,
     "metadata": {},
     "output_type": "execute_result"
    }
   ],
   "source": [
    "df_copy.BP1_29.value_counts()"
   ]
  },
  {
   "cell_type": "code",
   "execution_count": 104,
   "metadata": {},
   "outputs": [
    {
     "data": {
      "text/plain": [
       "2     1962\n",
       "3     1865\n",
       "4      608\n",
       "5      433\n",
       "1      278\n",
       "99     125\n",
       "Name: BP1_29, dtype: int64"
      ]
     },
     "execution_count": 104,
     "metadata": {},
     "output_type": "execute_result"
    }
   ],
   "source": [
    "df_copy.BP1_29.replace({0.0:'0',1.0:'1',2.0:'2',3.0:'3',4.0:'4',5.0:'5',6.0:'6',9.0:'99'}, inplace=True)\n",
    "df_copy.BP1_29.value_counts()"
   ]
  },
  {
   "cell_type": "code",
   "execution_count": 105,
   "metadata": {},
   "outputs": [
    {
     "data": {
      "text/plain": [
       "3.0    1627\n",
       "2.0    1547\n",
       "4.0    1037\n",
       "5.0     752\n",
       "1.0     224\n",
       "9.0      84\n",
       "Name: BP1_30, dtype: int64"
      ]
     },
     "execution_count": 105,
     "metadata": {},
     "output_type": "execute_result"
    }
   ],
   "source": [
    "df_copy.BP1_30.value_counts()"
   ]
  },
  {
   "cell_type": "code",
   "execution_count": 106,
   "metadata": {},
   "outputs": [
    {
     "data": {
      "text/plain": [
       "3     1627\n",
       "2     1547\n",
       "4     1037\n",
       "5      752\n",
       "1      224\n",
       "99      84\n",
       "Name: BP1_30, dtype: int64"
      ]
     },
     "execution_count": 106,
     "metadata": {},
     "output_type": "execute_result"
    }
   ],
   "source": [
    "df_copy.BP1_30.replace({0.0:'0',1.0:'1',2.0:'2',3.0:'3',4.0:'4',5.0:'5',6.0:'6',9.0:'99'}, inplace=True)\n",
    "df_copy.BP1_30.value_counts()"
   ]
  },
  {
   "cell_type": "code",
   "execution_count": 107,
   "metadata": {},
   "outputs": [
    {
     "data": {
      "text/plain": [
       "2    29046\n",
       "1     3447\n",
       "Name: BP1_31, dtype: int64"
      ]
     },
     "execution_count": 107,
     "metadata": {},
     "output_type": "execute_result"
    }
   ],
   "source": [
    "df_copy.BP1_31.value_counts()"
   ]
  },
  {
   "cell_type": "code",
   "execution_count": 108,
   "metadata": {},
   "outputs": [
    {
     "data": {
      "text/plain": [
       "0.0    3337\n",
       "1.0     110\n",
       "Name: BP1_32_1, dtype: int64"
      ]
     },
     "execution_count": 108,
     "metadata": {},
     "output_type": "execute_result"
    }
   ],
   "source": [
    "df_copy.BP1_32_1.value_counts()"
   ]
  },
  {
   "cell_type": "code",
   "execution_count": 109,
   "metadata": {},
   "outputs": [
    {
     "data": {
      "text/plain": [
       "0    3337\n",
       "1     110\n",
       "Name: BP1_32_1, dtype: int64"
      ]
     },
     "execution_count": 109,
     "metadata": {},
     "output_type": "execute_result"
    }
   ],
   "source": [
    "df_copy.BP1_32_1.replace({0.0:'0',1.0:'1'}, inplace=True)\n",
    "df_copy.BP1_32_1.value_counts()"
   ]
  },
  {
   "cell_type": "code",
   "execution_count": 110,
   "metadata": {},
   "outputs": [
    {
     "data": {
      "text/plain": [
       "0.0    2113\n",
       "1.0    1334\n",
       "Name: BP1_32_2, dtype: int64"
      ]
     },
     "execution_count": 110,
     "metadata": {},
     "output_type": "execute_result"
    }
   ],
   "source": [
    "df_copy.BP1_32_2.value_counts()"
   ]
  },
  {
   "cell_type": "code",
   "execution_count": 111,
   "metadata": {},
   "outputs": [
    {
     "data": {
      "text/plain": [
       "0    2113\n",
       "1    1334\n",
       "Name: BP1_32_2, dtype: int64"
      ]
     },
     "execution_count": 111,
     "metadata": {},
     "output_type": "execute_result"
    }
   ],
   "source": [
    "df_copy.BP1_32_2.replace({0.0:'0',1.0:'1'}, inplace=True)\n",
    "df_copy.BP1_32_2.value_counts()"
   ]
  },
  {
   "cell_type": "code",
   "execution_count": 112,
   "metadata": {},
   "outputs": [
    {
     "data": {
      "text/plain": [
       "0.0    3412\n",
       "1.0      35\n",
       "Name: BP1_32_3, dtype: int64"
      ]
     },
     "execution_count": 112,
     "metadata": {},
     "output_type": "execute_result"
    }
   ],
   "source": [
    "df_copy.BP1_32_3.value_counts()"
   ]
  },
  {
   "cell_type": "code",
   "execution_count": 113,
   "metadata": {},
   "outputs": [
    {
     "data": {
      "text/plain": [
       "0    3412\n",
       "1      35\n",
       "Name: BP1_32_3, dtype: int64"
      ]
     },
     "execution_count": 113,
     "metadata": {},
     "output_type": "execute_result"
    }
   ],
   "source": [
    "df_copy.BP1_32_3.replace({0.0:'0',1.0:'1'}, inplace=True)\n",
    "df_copy.BP1_32_3.value_counts()"
   ]
  },
  {
   "cell_type": "code",
   "execution_count": 114,
   "metadata": {},
   "outputs": [
    {
     "data": {
      "text/plain": [
       "0.0    3066\n",
       "1.0     381\n",
       "Name: BP1_32_4, dtype: int64"
      ]
     },
     "execution_count": 114,
     "metadata": {},
     "output_type": "execute_result"
    }
   ],
   "source": [
    "df_copy.BP1_32_4.value_counts()"
   ]
  },
  {
   "cell_type": "code",
   "execution_count": 115,
   "metadata": {},
   "outputs": [
    {
     "data": {
      "text/plain": [
       "0    3066\n",
       "1     381\n",
       "Name: BP1_32_4, dtype: int64"
      ]
     },
     "execution_count": 115,
     "metadata": {},
     "output_type": "execute_result"
    }
   ],
   "source": [
    "df_copy.BP1_32_4.replace({0.0:'0',1.0:'1'}, inplace=True)\n",
    "df_copy.BP1_32_4.value_counts()"
   ]
  },
  {
   "cell_type": "code",
   "execution_count": 116,
   "metadata": {},
   "outputs": [
    {
     "data": {
      "text/plain": [
       "0.0    3253\n",
       "1.0     194\n",
       "Name: BP1_32_5, dtype: int64"
      ]
     },
     "execution_count": 116,
     "metadata": {},
     "output_type": "execute_result"
    }
   ],
   "source": [
    "df_copy.BP1_32_5.value_counts()"
   ]
  },
  {
   "cell_type": "code",
   "execution_count": 117,
   "metadata": {},
   "outputs": [
    {
     "data": {
      "text/plain": [
       "0    3253\n",
       "1     194\n",
       "Name: BP1_32_5, dtype: int64"
      ]
     },
     "execution_count": 117,
     "metadata": {},
     "output_type": "execute_result"
    }
   ],
   "source": [
    "df_copy.BP1_32_5.replace({0.0:'0',1.0:'1'}, inplace=True)\n",
    "df_copy.BP1_32_5.value_counts()"
   ]
  },
  {
   "cell_type": "code",
   "execution_count": 118,
   "metadata": {},
   "outputs": [
    {
     "data": {
      "text/plain": [
       "0.0    3386\n",
       "1.0      61\n",
       "Name: BP1_32_6, dtype: int64"
      ]
     },
     "execution_count": 118,
     "metadata": {},
     "output_type": "execute_result"
    }
   ],
   "source": [
    "df_copy.BP1_32_6.value_counts()"
   ]
  },
  {
   "cell_type": "code",
   "execution_count": 119,
   "metadata": {},
   "outputs": [
    {
     "data": {
      "text/plain": [
       "0    3386\n",
       "1      61\n",
       "Name: BP1_32_6, dtype: int64"
      ]
     },
     "execution_count": 119,
     "metadata": {},
     "output_type": "execute_result"
    }
   ],
   "source": [
    "df_copy.BP1_32_6.replace({0.0:'0',1.0:'1'}, inplace=True)\n",
    "df_copy.BP1_32_6.value_counts()"
   ]
  },
  {
   "cell_type": "code",
   "execution_count": 120,
   "metadata": {},
   "outputs": [
    {
     "data": {
      "text/plain": [
       "0.0    3238\n",
       "1.0     209\n",
       "Name: BP1_32_7, dtype: int64"
      ]
     },
     "execution_count": 120,
     "metadata": {},
     "output_type": "execute_result"
    }
   ],
   "source": [
    "df_copy.BP1_32_7.value_counts()"
   ]
  },
  {
   "cell_type": "code",
   "execution_count": 121,
   "metadata": {},
   "outputs": [
    {
     "data": {
      "text/plain": [
       "0    3238\n",
       "1     209\n",
       "Name: BP1_32_7, dtype: int64"
      ]
     },
     "execution_count": 121,
     "metadata": {},
     "output_type": "execute_result"
    }
   ],
   "source": [
    "df_copy.BP1_32_7.replace({0.0:'0',1.0:'1'}, inplace=True)\n",
    "df_copy.BP1_32_7.value_counts()"
   ]
  },
  {
   "cell_type": "code",
   "execution_count": 122,
   "metadata": {},
   "outputs": [
    {
     "data": {
      "text/plain": [
       "0.0    3383\n",
       "1.0      64\n",
       "Name: BP1_32_8, dtype: int64"
      ]
     },
     "execution_count": 122,
     "metadata": {},
     "output_type": "execute_result"
    }
   ],
   "source": [
    "df_copy.BP1_32_8.value_counts()"
   ]
  },
  {
   "cell_type": "code",
   "execution_count": 123,
   "metadata": {},
   "outputs": [
    {
     "data": {
      "text/plain": [
       "0    3383\n",
       "1      64\n",
       "Name: BP1_32_8, dtype: int64"
      ]
     },
     "execution_count": 123,
     "metadata": {},
     "output_type": "execute_result"
    }
   ],
   "source": [
    "df_copy.BP1_32_8.replace({0.0:'0',1.0:'1'}, inplace=True)\n",
    "df_copy.BP1_32_8.value_counts()"
   ]
  },
  {
   "cell_type": "code",
   "execution_count": 124,
   "metadata": {},
   "outputs": [
    {
     "data": {
      "text/plain": [
       "0.0    2464\n",
       "1.0     983\n",
       "Name: BP1_32_9, dtype: int64"
      ]
     },
     "execution_count": 124,
     "metadata": {},
     "output_type": "execute_result"
    }
   ],
   "source": [
    "df_copy.BP1_32_9.value_counts()"
   ]
  },
  {
   "cell_type": "code",
   "execution_count": 125,
   "metadata": {},
   "outputs": [
    {
     "data": {
      "text/plain": [
       "0    2464\n",
       "1     983\n",
       "Name: BP1_32_9, dtype: int64"
      ]
     },
     "execution_count": 125,
     "metadata": {},
     "output_type": "execute_result"
    }
   ],
   "source": [
    "df_copy.BP1_32_9.replace({0.0:'0',1.0:'1'}, inplace=True)\n",
    "df_copy.BP1_32_9.value_counts()"
   ]
  },
  {
   "cell_type": "code",
   "execution_count": 126,
   "metadata": {},
   "outputs": [
    {
     "data": {
      "text/plain": [
       "0.0    3274\n",
       "1.0     173\n",
       "Name: BP1_32_99, dtype: int64"
      ]
     },
     "execution_count": 126,
     "metadata": {},
     "output_type": "execute_result"
    }
   ],
   "source": [
    "df_copy.BP1_32_99.value_counts()"
   ]
  },
  {
   "cell_type": "code",
   "execution_count": 127,
   "metadata": {},
   "outputs": [
    {
     "data": {
      "text/plain": [
       "0    3274\n",
       "1     173\n",
       "Name: BP1_32_99, dtype: int64"
      ]
     },
     "execution_count": 127,
     "metadata": {},
     "output_type": "execute_result"
    }
   ],
   "source": [
    "df_copy.BP1_32_99.replace({0.0:'0',1.0:'1'}, inplace=True)\n",
    "df_copy.BP1_32_99.value_counts()"
   ]
  },
  {
   "cell_type": "code",
   "execution_count": 128,
   "metadata": {},
   "outputs": [
    {
     "data": {
      "text/plain": [
       "0.0    5895\n",
       "1.0    1959\n",
       "Name: BP1_33_1, dtype: int64"
      ]
     },
     "execution_count": 128,
     "metadata": {},
     "output_type": "execute_result"
    }
   ],
   "source": [
    "df_copy.BP1_33_1.value_counts()"
   ]
  },
  {
   "cell_type": "code",
   "execution_count": 129,
   "metadata": {},
   "outputs": [
    {
     "data": {
      "text/plain": [
       "0    5895\n",
       "1    1959\n",
       "Name: BP1_33_1, dtype: int64"
      ]
     },
     "execution_count": 129,
     "metadata": {},
     "output_type": "execute_result"
    }
   ],
   "source": [
    "df_copy.BP1_33_1.replace({0.0:'0',1.0:'1'}, inplace=True)\n",
    "df_copy.BP1_33_1.value_counts()"
   ]
  },
  {
   "cell_type": "code",
   "execution_count": 130,
   "metadata": {},
   "outputs": [
    {
     "data": {
      "text/plain": [
       "0.0    7799\n",
       "1.0      55\n",
       "Name: BP1_33_2, dtype: int64"
      ]
     },
     "execution_count": 130,
     "metadata": {},
     "output_type": "execute_result"
    }
   ],
   "source": [
    "df_copy.BP1_33_2.value_counts()"
   ]
  },
  {
   "cell_type": "code",
   "execution_count": 131,
   "metadata": {},
   "outputs": [
    {
     "data": {
      "text/plain": [
       "0    7799\n",
       "1      55\n",
       "Name: BP1_33_2, dtype: int64"
      ]
     },
     "execution_count": 131,
     "metadata": {},
     "output_type": "execute_result"
    }
   ],
   "source": [
    "df_copy.BP1_33_2.replace({0.0:'0',1.0:'1'}, inplace=True)\n",
    "df_copy.BP1_33_2.value_counts()"
   ]
  },
  {
   "cell_type": "code",
   "execution_count": 132,
   "metadata": {},
   "outputs": [
    {
     "data": {
      "text/plain": [
       "0.0    7811\n",
       "1.0      43\n",
       "Name: BP1_33_3, dtype: int64"
      ]
     },
     "execution_count": 132,
     "metadata": {},
     "output_type": "execute_result"
    }
   ],
   "source": [
    "df_copy.BP1_33_3.value_counts()"
   ]
  },
  {
   "cell_type": "code",
   "execution_count": 133,
   "metadata": {},
   "outputs": [
    {
     "data": {
      "text/plain": [
       "0    7811\n",
       "1      43\n",
       "Name: BP1_33_3, dtype: int64"
      ]
     },
     "execution_count": 133,
     "metadata": {},
     "output_type": "execute_result"
    }
   ],
   "source": [
    "df_copy.BP1_33_3.replace({0.0:'0',1.0:'1'}, inplace=True)\n",
    "df_copy.BP1_33_3.value_counts()"
   ]
  },
  {
   "cell_type": "code",
   "execution_count": 134,
   "metadata": {},
   "outputs": [
    {
     "data": {
      "text/plain": [
       "0.0    7826\n",
       "1.0      28\n",
       "Name: BP1_33_4, dtype: int64"
      ]
     },
     "execution_count": 134,
     "metadata": {},
     "output_type": "execute_result"
    }
   ],
   "source": [
    "df_copy.BP1_33_4.value_counts()"
   ]
  },
  {
   "cell_type": "code",
   "execution_count": 135,
   "metadata": {},
   "outputs": [
    {
     "data": {
      "text/plain": [
       "0    7826\n",
       "1      28\n",
       "Name: BP1_33_4, dtype: int64"
      ]
     },
     "execution_count": 135,
     "metadata": {},
     "output_type": "execute_result"
    }
   ],
   "source": [
    "df_copy.BP1_33_4.replace({0.0:'0',1.0:'1'}, inplace=True)\n",
    "df_copy.BP1_33_4.value_counts()"
   ]
  },
  {
   "cell_type": "code",
   "execution_count": 136,
   "metadata": {},
   "outputs": [
    {
     "data": {
      "text/plain": [
       "1.0    5618\n",
       "0.0    2236\n",
       "Name: BP1_33_5, dtype: int64"
      ]
     },
     "execution_count": 136,
     "metadata": {},
     "output_type": "execute_result"
    }
   ],
   "source": [
    "df_copy.BP1_33_5.value_counts()"
   ]
  },
  {
   "cell_type": "code",
   "execution_count": 137,
   "metadata": {},
   "outputs": [
    {
     "data": {
      "text/plain": [
       "1    5618\n",
       "0    2236\n",
       "Name: BP1_33_5, dtype: int64"
      ]
     },
     "execution_count": 137,
     "metadata": {},
     "output_type": "execute_result"
    }
   ],
   "source": [
    "df_copy.BP1_33_5.replace({0.0:'0',1.0:'1'}, inplace=True)\n",
    "df_copy.BP1_33_5.value_counts()"
   ]
  },
  {
   "cell_type": "code",
   "execution_count": 138,
   "metadata": {},
   "outputs": [
    {
     "data": {
      "text/plain": [
       "0.0    7668\n",
       "1.0     186\n",
       "Name: BP1_33_9, dtype: int64"
      ]
     },
     "execution_count": 138,
     "metadata": {},
     "output_type": "execute_result"
    }
   ],
   "source": [
    "df_copy.BP1_33_9.value_counts()"
   ]
  },
  {
   "cell_type": "code",
   "execution_count": 139,
   "metadata": {},
   "outputs": [
    {
     "data": {
      "text/plain": [
       "0    7668\n",
       "1     186\n",
       "Name: BP1_33_9, dtype: int64"
      ]
     },
     "execution_count": 139,
     "metadata": {},
     "output_type": "execute_result"
    }
   ],
   "source": [
    "df_copy.BP1_33_9.replace({0.0:'0',1.0:'1'}, inplace=True)\n",
    "df_copy.BP1_33_9.value_counts()"
   ]
  },
  {
   "cell_type": "code",
   "execution_count": 140,
   "metadata": {},
   "outputs": [
    {
     "data": {
      "text/plain": [
       "0.0    7423\n",
       "1.0     431\n",
       "Name: BP1_34_1, dtype: int64"
      ]
     },
     "execution_count": 140,
     "metadata": {},
     "output_type": "execute_result"
    }
   ],
   "source": [
    "df_copy.BP1_34_1.value_counts()"
   ]
  },
  {
   "cell_type": "code",
   "execution_count": 141,
   "metadata": {},
   "outputs": [
    {
     "data": {
      "text/plain": [
       "0    7423\n",
       "1     431\n",
       "Name: BP1_34_1, dtype: int64"
      ]
     },
     "execution_count": 141,
     "metadata": {},
     "output_type": "execute_result"
    }
   ],
   "source": [
    "df_copy.BP1_34_1.replace({0.0:'0',1.0:'1'}, inplace=True)\n",
    "df_copy.BP1_34_1.value_counts()"
   ]
  },
  {
   "cell_type": "code",
   "execution_count": 142,
   "metadata": {},
   "outputs": [
    {
     "data": {
      "text/plain": [
       "0.0    6325\n",
       "1.0    1529\n",
       "Name: BP1_34_2, dtype: int64"
      ]
     },
     "execution_count": 142,
     "metadata": {},
     "output_type": "execute_result"
    }
   ],
   "source": [
    "df_copy.BP1_34_2.value_counts()"
   ]
  },
  {
   "cell_type": "code",
   "execution_count": 143,
   "metadata": {},
   "outputs": [
    {
     "data": {
      "text/plain": [
       "0    6325\n",
       "1    1529\n",
       "Name: BP1_34_2, dtype: int64"
      ]
     },
     "execution_count": 143,
     "metadata": {},
     "output_type": "execute_result"
    }
   ],
   "source": [
    "df_copy.BP1_34_2.replace({0.0:'0',1.0:'1'}, inplace=True)\n",
    "df_copy.BP1_34_2.value_counts()"
   ]
  },
  {
   "cell_type": "code",
   "execution_count": 144,
   "metadata": {},
   "outputs": [
    {
     "data": {
      "text/plain": [
       "0.0    6781\n",
       "1.0    1073\n",
       "Name: BP1_34_3, dtype: int64"
      ]
     },
     "execution_count": 144,
     "metadata": {},
     "output_type": "execute_result"
    }
   ],
   "source": [
    "df_copy.BP1_34_3.value_counts()"
   ]
  },
  {
   "cell_type": "code",
   "execution_count": 145,
   "metadata": {},
   "outputs": [
    {
     "data": {
      "text/plain": [
       "0    6781\n",
       "1    1073\n",
       "Name: BP1_34_3, dtype: int64"
      ]
     },
     "execution_count": 145,
     "metadata": {},
     "output_type": "execute_result"
    }
   ],
   "source": [
    "df_copy.BP1_34_3.replace({0.0:'0',1.0:'1'}, inplace=True)\n",
    "df_copy.BP1_34_3.value_counts()"
   ]
  },
  {
   "cell_type": "code",
   "execution_count": 146,
   "metadata": {},
   "outputs": [
    {
     "data": {
      "text/plain": [
       "0.0    6536\n",
       "1.0    1318\n",
       "Name: BP1_34_4, dtype: int64"
      ]
     },
     "execution_count": 146,
     "metadata": {},
     "output_type": "execute_result"
    }
   ],
   "source": [
    "df_copy.BP1_34_4.value_counts()"
   ]
  },
  {
   "cell_type": "code",
   "execution_count": 147,
   "metadata": {},
   "outputs": [
    {
     "data": {
      "text/plain": [
       "0    6536\n",
       "1    1318\n",
       "Name: BP1_34_4, dtype: int64"
      ]
     },
     "execution_count": 147,
     "metadata": {},
     "output_type": "execute_result"
    }
   ],
   "source": [
    "df_copy.BP1_34_4.replace({0.0:'0',1.0:'1'}, inplace=True)\n",
    "df_copy.BP1_34_4.value_counts()"
   ]
  },
  {
   "cell_type": "code",
   "execution_count": 148,
   "metadata": {},
   "outputs": [
    {
     "data": {
      "text/plain": [
       "0.0    7807\n",
       "1.0      47\n",
       "Name: BP1_34_5, dtype: int64"
      ]
     },
     "execution_count": 148,
     "metadata": {},
     "output_type": "execute_result"
    }
   ],
   "source": [
    "df_copy.BP1_34_5.value_counts()"
   ]
  },
  {
   "cell_type": "code",
   "execution_count": 149,
   "metadata": {},
   "outputs": [
    {
     "data": {
      "text/plain": [
       "0    7807\n",
       "1      47\n",
       "Name: BP1_34_5, dtype: int64"
      ]
     },
     "execution_count": 149,
     "metadata": {},
     "output_type": "execute_result"
    }
   ],
   "source": [
    "df_copy.BP1_34_5.replace({0.0:'0',1.0:'1'}, inplace=True)\n",
    "df_copy.BP1_34_5.value_counts()"
   ]
  },
  {
   "cell_type": "code",
   "execution_count": 150,
   "metadata": {},
   "outputs": [
    {
     "data": {
      "text/plain": [
       "0.0    7743\n",
       "1.0     111\n",
       "Name: BP1_34_6, dtype: int64"
      ]
     },
     "execution_count": 150,
     "metadata": {},
     "output_type": "execute_result"
    }
   ],
   "source": [
    "df_copy.BP1_34_6.value_counts()"
   ]
  },
  {
   "cell_type": "code",
   "execution_count": 151,
   "metadata": {},
   "outputs": [
    {
     "data": {
      "text/plain": [
       "0    7743\n",
       "1     111\n",
       "Name: BP1_34_6, dtype: int64"
      ]
     },
     "execution_count": 151,
     "metadata": {},
     "output_type": "execute_result"
    }
   ],
   "source": [
    "df_copy.BP1_34_6.replace({0.0:'0',1.0:'1'}, inplace=True)\n",
    "df_copy.BP1_34_6.value_counts()"
   ]
  },
  {
   "cell_type": "code",
   "execution_count": 152,
   "metadata": {},
   "outputs": [
    {
     "data": {
      "text/plain": [
       "0.0    7747\n",
       "1.0     107\n",
       "Name: BP1_34_7, dtype: int64"
      ]
     },
     "execution_count": 152,
     "metadata": {},
     "output_type": "execute_result"
    }
   ],
   "source": [
    "df_copy.BP1_34_7.value_counts()"
   ]
  },
  {
   "cell_type": "code",
   "execution_count": 153,
   "metadata": {},
   "outputs": [
    {
     "data": {
      "text/plain": [
       "0    7747\n",
       "1     107\n",
       "Name: BP1_34_7, dtype: int64"
      ]
     },
     "execution_count": 153,
     "metadata": {},
     "output_type": "execute_result"
    }
   ],
   "source": [
    "df_copy.BP1_34_7.replace({0.0:'0',1.0:'1'}, inplace=True)\n",
    "df_copy.BP1_34_7.value_counts()"
   ]
  },
  {
   "cell_type": "code",
   "execution_count": 154,
   "metadata": {},
   "outputs": [
    {
     "data": {
      "text/plain": [
       "0.0    7405\n",
       "1.0     449\n",
       "Name: BP1_34_8, dtype: int64"
      ]
     },
     "execution_count": 154,
     "metadata": {},
     "output_type": "execute_result"
    }
   ],
   "source": [
    "df_copy.BP1_34_8.value_counts()"
   ]
  },
  {
   "cell_type": "code",
   "execution_count": 155,
   "metadata": {},
   "outputs": [
    {
     "data": {
      "text/plain": [
       "0    7405\n",
       "1     449\n",
       "Name: BP1_34_8, dtype: int64"
      ]
     },
     "execution_count": 155,
     "metadata": {},
     "output_type": "execute_result"
    }
   ],
   "source": [
    "df_copy.BP1_34_8.replace({0.0:'0',1.0:'1'}, inplace=True)\n",
    "df_copy.BP1_34_8.value_counts()"
   ]
  },
  {
   "cell_type": "code",
   "execution_count": 156,
   "metadata": {},
   "outputs": [
    {
     "data": {
      "text/plain": [
       "0.0    7423\n",
       "1.0     431\n",
       "Name: BP1_34_9, dtype: int64"
      ]
     },
     "execution_count": 156,
     "metadata": {},
     "output_type": "execute_result"
    }
   ],
   "source": [
    "df_copy.BP1_34_9.value_counts()"
   ]
  },
  {
   "cell_type": "code",
   "execution_count": 157,
   "metadata": {},
   "outputs": [
    {
     "data": {
      "text/plain": [
       "0    7423\n",
       "1     431\n",
       "Name: BP1_34_9, dtype: int64"
      ]
     },
     "execution_count": 157,
     "metadata": {},
     "output_type": "execute_result"
    }
   ],
   "source": [
    "df_copy.BP1_34_9.replace({0.0:'0',1.0:'1'}, inplace=True)\n",
    "df_copy.BP1_34_9.value_counts()"
   ]
  },
  {
   "cell_type": "code",
   "execution_count": 158,
   "metadata": {},
   "outputs": [
    {
     "data": {
      "text/plain": [
       "0.0    7587\n",
       "1.0     267\n",
       "Name: BP1_34_10, dtype: int64"
      ]
     },
     "execution_count": 158,
     "metadata": {},
     "output_type": "execute_result"
    }
   ],
   "source": [
    "df_copy.BP1_34_10.value_counts()"
   ]
  },
  {
   "cell_type": "code",
   "execution_count": 159,
   "metadata": {},
   "outputs": [
    {
     "data": {
      "text/plain": [
       "0    7587\n",
       "1     267\n",
       "Name: BP1_34_10, dtype: int64"
      ]
     },
     "execution_count": 159,
     "metadata": {},
     "output_type": "execute_result"
    }
   ],
   "source": [
    "df_copy.BP1_34_10.replace({0.0:'0',1.0:'1'}, inplace=True)\n",
    "df_copy.BP1_34_10.value_counts()"
   ]
  },
  {
   "cell_type": "code",
   "execution_count": 160,
   "metadata": {},
   "outputs": [
    {
     "data": {
      "text/plain": [
       "0.0    4811\n",
       "1.0    3043\n",
       "Name: BP1_34_11, dtype: int64"
      ]
     },
     "execution_count": 160,
     "metadata": {},
     "output_type": "execute_result"
    }
   ],
   "source": [
    "df_copy.BP1_34_11.value_counts()"
   ]
  },
  {
   "cell_type": "code",
   "execution_count": 161,
   "metadata": {},
   "outputs": [
    {
     "data": {
      "text/plain": [
       "0    4811\n",
       "1    3043\n",
       "Name: BP1_34_11, dtype: int64"
      ]
     },
     "execution_count": 161,
     "metadata": {},
     "output_type": "execute_result"
    }
   ],
   "source": [
    "df_copy.BP1_34_11.replace({0.0:'0',1.0:'1'}, inplace=True)\n",
    "df_copy.BP1_34_11.value_counts()"
   ]
  },
  {
   "cell_type": "code",
   "execution_count": 162,
   "metadata": {},
   "outputs": [
    {
     "data": {
      "text/plain": [
       "0.0    7656\n",
       "1.0     198\n",
       "Name: BP1_34_99, dtype: int64"
      ]
     },
     "execution_count": 162,
     "metadata": {},
     "output_type": "execute_result"
    }
   ],
   "source": [
    "df_copy.BP1_34_99.value_counts()"
   ]
  },
  {
   "cell_type": "code",
   "execution_count": 163,
   "metadata": {},
   "outputs": [
    {
     "data": {
      "text/plain": [
       "0    7656\n",
       "1     198\n",
       "Name: BP1_34_99, dtype: int64"
      ]
     },
     "execution_count": 163,
     "metadata": {},
     "output_type": "execute_result"
    }
   ],
   "source": [
    "df_copy.BP1_34_99.replace({0.0:'0',1.0:'1'}, inplace=True)\n",
    "df_copy.BP1_34_99.value_counts()"
   ]
  },
  {
   "cell_type": "code",
   "execution_count": 164,
   "metadata": {},
   "outputs": [
    {
     "data": {
      "text/plain": [
       "0    27111\n",
       "1     5382\n",
       "Name: BP1_35_1, dtype: int64"
      ]
     },
     "execution_count": 164,
     "metadata": {},
     "output_type": "execute_result"
    }
   ],
   "source": [
    "df_copy.BP1_35_1.value_counts()"
   ]
  },
  {
   "cell_type": "code",
   "execution_count": 165,
   "metadata": {},
   "outputs": [
    {
     "data": {
      "text/plain": [
       "0    27111\n",
       "1     5382\n",
       "Name: BP1_35_1, dtype: int64"
      ]
     },
     "execution_count": 165,
     "metadata": {},
     "output_type": "execute_result"
    }
   ],
   "source": [
    "df_copy.BP1_35_1.replace({0.0:'0',1.0:'1'}, inplace=True)\n",
    "df_copy.BP1_35_1.value_counts()"
   ]
  },
  {
   "cell_type": "code",
   "execution_count": 166,
   "metadata": {},
   "outputs": [
    {
     "data": {
      "text/plain": [
       "0    26282\n",
       "1     6211\n",
       "Name: BP1_35_2, dtype: int64"
      ]
     },
     "execution_count": 166,
     "metadata": {},
     "output_type": "execute_result"
    }
   ],
   "source": [
    "df_copy.BP1_35_2.value_counts()"
   ]
  },
  {
   "cell_type": "code",
   "execution_count": 167,
   "metadata": {},
   "outputs": [
    {
     "data": {
      "text/plain": [
       "0    23020\n",
       "1     9473\n",
       "Name: BP1_35_3, dtype: int64"
      ]
     },
     "execution_count": 167,
     "metadata": {},
     "output_type": "execute_result"
    }
   ],
   "source": [
    "df_copy.BP1_35_3.value_counts()"
   ]
  },
  {
   "cell_type": "code",
   "execution_count": 168,
   "metadata": {},
   "outputs": [
    {
     "data": {
      "text/plain": [
       "0    22266\n",
       "1    10227\n",
       "Name: BP1_35_4, dtype: int64"
      ]
     },
     "execution_count": 168,
     "metadata": {},
     "output_type": "execute_result"
    }
   ],
   "source": [
    "df_copy.BP1_35_4.value_counts()"
   ]
  },
  {
   "cell_type": "code",
   "execution_count": 169,
   "metadata": {},
   "outputs": [
    {
     "data": {
      "text/plain": [
       "0    31863\n",
       "1      630\n",
       "Name: BP1_35_5, dtype: int64"
      ]
     },
     "execution_count": 169,
     "metadata": {},
     "output_type": "execute_result"
    }
   ],
   "source": [
    "df_copy.BP1_35_5.value_counts()"
   ]
  },
  {
   "cell_type": "code",
   "execution_count": 170,
   "metadata": {},
   "outputs": [
    {
     "data": {
      "text/plain": [
       "0    30780\n",
       "1     1713\n",
       "Name: BP1_35_6, dtype: int64"
      ]
     },
     "execution_count": 170,
     "metadata": {},
     "output_type": "execute_result"
    }
   ],
   "source": [
    "df_copy.BP1_35_6.value_counts()"
   ]
  },
  {
   "cell_type": "code",
   "execution_count": 171,
   "metadata": {},
   "outputs": [
    {
     "data": {
      "text/plain": [
       "0    31577\n",
       "1      916\n",
       "Name: BP1_35_7, dtype: int64"
      ]
     },
     "execution_count": 171,
     "metadata": {},
     "output_type": "execute_result"
    }
   ],
   "source": [
    "df_copy.BP1_35_7.value_counts()"
   ]
  },
  {
   "cell_type": "code",
   "execution_count": 172,
   "metadata": {},
   "outputs": [
    {
     "data": {
      "text/plain": [
       "0    27921\n",
       "1     4572\n",
       "Name: BP1_35_8, dtype: int64"
      ]
     },
     "execution_count": 172,
     "metadata": {},
     "output_type": "execute_result"
    }
   ],
   "source": [
    "df_copy.BP1_35_8.value_counts()"
   ]
  },
  {
   "cell_type": "code",
   "execution_count": 173,
   "metadata": {},
   "outputs": [
    {
     "data": {
      "text/plain": [
       "0    24963\n",
       "1     7530\n",
       "Name: BP1_35_9, dtype: int64"
      ]
     },
     "execution_count": 173,
     "metadata": {},
     "output_type": "execute_result"
    }
   ],
   "source": [
    "df_copy.BP1_35_9.value_counts()"
   ]
  },
  {
   "cell_type": "code",
   "execution_count": 174,
   "metadata": {},
   "outputs": [
    {
     "data": {
      "text/plain": [
       "0    30884\n",
       "1     1609\n",
       "Name: BP1_35_10, dtype: int64"
      ]
     },
     "execution_count": 174,
     "metadata": {},
     "output_type": "execute_result"
    }
   ],
   "source": [
    "df_copy.BP1_35_10.value_counts()"
   ]
  },
  {
   "cell_type": "code",
   "execution_count": 175,
   "metadata": {},
   "outputs": [
    {
     "data": {
      "text/plain": [
       "0    31128\n",
       "1     1365\n",
       "Name: BP1_35_11, dtype: int64"
      ]
     },
     "execution_count": 175,
     "metadata": {},
     "output_type": "execute_result"
    }
   ],
   "source": [
    "df_copy.BP1_35_11.value_counts()"
   ]
  },
  {
   "cell_type": "code",
   "execution_count": 176,
   "metadata": {},
   "outputs": [
    {
     "data": {
      "text/plain": [
       "0    31901\n",
       "1      592\n",
       "Name: BP1_35_99, dtype: int64"
      ]
     },
     "execution_count": 176,
     "metadata": {},
     "output_type": "execute_result"
    }
   ],
   "source": [
    "df_copy.BP1_35_99.value_counts()"
   ]
  },
  {
   "cell_type": "code",
   "execution_count": 177,
   "metadata": {},
   "outputs": [
    {
     "data": {
      "text/plain": [
       "1    20682\n",
       "3     7669\n",
       "5     2541\n",
       "2     1267\n",
       "4      202\n",
       "9      132\n",
       "Name: BP1_36, dtype: int64"
      ]
     },
     "execution_count": 177,
     "metadata": {},
     "output_type": "execute_result"
    }
   ],
   "source": [
    "df_copy.BP1_36.value_counts()"
   ]
  },
  {
   "cell_type": "code",
   "execution_count": 178,
   "metadata": {},
   "outputs": [
    {
     "data": {
      "text/plain": [
       "1     20682\n",
       "3      7669\n",
       "5      2541\n",
       "2      1267\n",
       "4       202\n",
       "99      132\n",
       "Name: BP1_36, dtype: int64"
      ]
     },
     "execution_count": 178,
     "metadata": {},
     "output_type": "execute_result"
    }
   ],
   "source": [
    "df_copy.replace({9:99},inplace = True)\n",
    "df_copy.BP1_36.value_counts()"
   ]
  },
  {
   "cell_type": "code",
   "execution_count": 179,
   "metadata": {},
   "outputs": [
    {
     "data": {
      "text/plain": [
       "0.0          6703\n",
       "2000.0       1927\n",
       "3000.0       1699\n",
       "1000.0       1658\n",
       "5000.0       1400\n",
       "1500.0       1127\n",
       "500.0        1022\n",
       "4000.0        853\n",
       "10000.0       829\n",
       "9999999.0     816\n",
       "300.0         586\n",
       "800.0         584\n",
       "2500.0        570\n",
       "6000.0        495\n",
       "20000.0       493\n",
       "600.0         480\n",
       "1200.0        473\n",
       "200.0         471\n",
       "15000.0       468\n",
       "8000.0        436\n",
       "7000.0        413\n",
       "30000.0       378\n",
       "400.0         326\n",
       "700.0         309\n",
       "3500.0        284\n",
       "50000.0       239\n",
       "12000.0       232\n",
       "40000.0       227\n",
       "100.0         213\n",
       "25000.0       203\n",
       "             ... \n",
       "25600.0         1\n",
       "44.0            1\n",
       "480.0           1\n",
       "29250.0         1\n",
       "2070.0          1\n",
       "2033.0          1\n",
       "1950.0          1\n",
       "8941.0          1\n",
       "79000.0         1\n",
       "10700.0         1\n",
       "388.0           1\n",
       "115.0           1\n",
       "13200.0         1\n",
       "230.0           1\n",
       "315000.0        1\n",
       "5250.0          1\n",
       "366000.0        1\n",
       "4940.0          1\n",
       "475.0           1\n",
       "29000.0         1\n",
       "98000.0         1\n",
       "45700.0         1\n",
       "84000.0         1\n",
       "22300.0         1\n",
       "420000.0        1\n",
       "6000000.0       1\n",
       "8400.0          1\n",
       "73.0            1\n",
       "708.0           1\n",
       "895.0           1\n",
       "Name: BP1_37, Length: 371, dtype: int64"
      ]
     },
     "execution_count": 179,
     "metadata": {},
     "output_type": "execute_result"
    }
   ],
   "source": [
    "df_copy.BP1_37.value_counts()\n",
    "#Pendiente"
   ]
  },
  {
   "cell_type": "code",
   "execution_count": 180,
   "metadata": {},
   "outputs": [
    {
     "data": {
      "text/plain": [
       "0          6703\n",
       "nan        2673\n",
       "2000       1927\n",
       "3000       1699\n",
       "1000       1658\n",
       "5000       1400\n",
       "1500       1127\n",
       "500        1022\n",
       "4000        853\n",
       "10000       829\n",
       "9999999     816\n",
       "300         586\n",
       "800         584\n",
       "2500        570\n",
       "6000        495\n",
       "20000       493\n",
       "600         480\n",
       "1200        473\n",
       "200         471\n",
       "15000       468\n",
       "8000        436\n",
       "7000        413\n",
       "30000       378\n",
       "400         326\n",
       "700         309\n",
       "3500        284\n",
       "50000       239\n",
       "12000       232\n",
       "40000       227\n",
       "100         213\n",
       "           ... \n",
       "660           1\n",
       "45700         1\n",
       "5250          1\n",
       "890000        1\n",
       "133000        1\n",
       "79000         1\n",
       "1923          1\n",
       "1870          1\n",
       "1850          1\n",
       "51000         1\n",
       "22300         1\n",
       "1790          1\n",
       "138000        1\n",
       "5850          1\n",
       "46800         1\n",
       "1640          1\n",
       "1590          1\n",
       "190000        1\n",
       "63000         1\n",
       "1470          1\n",
       "366000        1\n",
       "9600          1\n",
       "41000         1\n",
       "1380          1\n",
       "1520          1\n",
       "105300        1\n",
       "1240          1\n",
       "1230          1\n",
       "13500         1\n",
       "1260          1\n",
       "Name: BP1_37, Length: 372, dtype: int64"
      ]
     },
     "execution_count": 180,
     "metadata": {},
     "output_type": "execute_result"
    }
   ],
   "source": [
    "l=[]\n",
    "for i in df_copy.BP1_37:\n",
    "    k = str(i)\n",
    "    if(k != \"nan\"):\n",
    "        k = int(eval(k))\n",
    "        l.append(k)\n",
    "    else:\n",
    "        l.append(k)\n",
    "df_copy.BP1_37 = l\n",
    "df_copy.BP1_37.value_counts()"
   ]
  },
  {
   "cell_type": "code",
   "execution_count": 181,
   "metadata": {},
   "outputs": [
    {
     "data": {
      "text/plain": [
       "0.0          27659\n",
       "1000.0         211\n",
       "2000.0         177\n",
       "500.0          169\n",
       "9999999.0      151\n",
       "3000.0         145\n",
       "300.0          111\n",
       "5000.0         110\n",
       "200.0          107\n",
       "1500.0          78\n",
       "600.0           73\n",
       "10000.0         69\n",
       "400.0           60\n",
       "800.0           53\n",
       "99.0            50\n",
       "4000.0          47\n",
       "20000.0         40\n",
       "100.0           37\n",
       "6000.0          35\n",
       "7000.0          28\n",
       "700.0           26\n",
       "15000.0         24\n",
       "50.0            21\n",
       "250.0           19\n",
       "1200.0          18\n",
       "30000.0         17\n",
       "2500.0          17\n",
       "8000.0          16\n",
       "50000.0         15\n",
       "350.0           14\n",
       "             ...  \n",
       "9200.0           1\n",
       "89.0             1\n",
       "3200.0           1\n",
       "5.0              1\n",
       "1.0              1\n",
       "3.0              1\n",
       "70.0             1\n",
       "630000.0         1\n",
       "24000.0          1\n",
       "80000.0          1\n",
       "15.0             1\n",
       "3250.0           1\n",
       "160.0            1\n",
       "600000.0         1\n",
       "8400.0           1\n",
       "19000.0          1\n",
       "1700.0           1\n",
       "880.0            1\n",
       "5200.0           1\n",
       "750.0            1\n",
       "29000.0          1\n",
       "130.0            1\n",
       "17000.0          1\n",
       "300000.0         1\n",
       "330.0            1\n",
       "120000.0         1\n",
       "260.0            1\n",
       "280.0            1\n",
       "16000.0          1\n",
       "270.0            1\n",
       "Name: BP1_38, Length: 105, dtype: int64"
      ]
     },
     "execution_count": 181,
     "metadata": {},
     "output_type": "execute_result"
    }
   ],
   "source": [
    "df_copy.BP1_38.value_counts()\n",
    "#Pendiente"
   ]
  },
  {
   "cell_type": "code",
   "execution_count": 182,
   "metadata": {},
   "outputs": [
    {
     "data": {
      "text/plain": [
       "0          27659\n",
       "nan         2673\n",
       "1000         211\n",
       "2000         177\n",
       "500          169\n",
       "9999999      151\n",
       "3000         145\n",
       "300          111\n",
       "5000         110\n",
       "200          107\n",
       "1500          78\n",
       "600           73\n",
       "10000         69\n",
       "400           60\n",
       "800           53\n",
       "99            50\n",
       "4000          47\n",
       "20000         40\n",
       "100           37\n",
       "6000          35\n",
       "7000          28\n",
       "700           26\n",
       "15000         24\n",
       "50            21\n",
       "250           19\n",
       "1200          18\n",
       "30000         17\n",
       "2500          17\n",
       "8000          16\n",
       "50000         15\n",
       "           ...  \n",
       "160            1\n",
       "3              1\n",
       "1              1\n",
       "260            1\n",
       "4800           1\n",
       "275            1\n",
       "5200           1\n",
       "2700           1\n",
       "19000          1\n",
       "6400           1\n",
       "80000          1\n",
       "600000         1\n",
       "1700           1\n",
       "22000          1\n",
       "3200           1\n",
       "800000         1\n",
       "120000         1\n",
       "9200           1\n",
       "280            1\n",
       "3250           1\n",
       "300000         1\n",
       "630000         1\n",
       "750            1\n",
       "720            1\n",
       "17000          1\n",
       "24000          1\n",
       "380            1\n",
       "330            1\n",
       "29000          1\n",
       "880            1\n",
       "Name: BP1_38, Length: 106, dtype: int64"
      ]
     },
     "execution_count": 182,
     "metadata": {},
     "output_type": "execute_result"
    }
   ],
   "source": [
    "l=[]\n",
    "for i in df_copy.BP1_38:\n",
    "    k = str(i)\n",
    "    if(k != \"nan\"):\n",
    "        k = int(eval(k))\n",
    "        l.append(k)\n",
    "    else:\n",
    "        l.append(k)\n",
    "df_copy.BP1_38 = l\n",
    "df_copy.BP1_38.value_counts()"
   ]
  },
  {
   "cell_type": "code",
   "execution_count": 183,
   "metadata": {},
   "outputs": [
    {
     "data": {
      "text/plain": [
       "1.0     1083\n",
       "2.0      530\n",
       "99.0      26\n",
       "3.0       16\n",
       "Name: BP2_1, dtype: int64"
      ]
     },
     "execution_count": 183,
     "metadata": {},
     "output_type": "execute_result"
    }
   ],
   "source": [
    "df_copy.BP2_1.value_counts()"
   ]
  },
  {
   "cell_type": "code",
   "execution_count": 184,
   "metadata": {},
   "outputs": [
    {
     "data": {
      "text/plain": [
       "1     1083\n",
       "2      530\n",
       "99      26\n",
       "3       16\n",
       "Name: BP2_1, dtype: int64"
      ]
     },
     "execution_count": 184,
     "metadata": {},
     "output_type": "execute_result"
    }
   ],
   "source": [
    "df_copy.BP2_1.replace({1.0:'1',2.0:'2',3.0:'3',99.0:'99'}, inplace=True)\n",
    "df_copy.BP2_1.value_counts()"
   ]
  },
  {
   "cell_type": "code",
   "execution_count": 185,
   "metadata": {},
   "outputs": [
    {
     "data": {
      "text/plain": [
       "2.0     1136\n",
       "1.0      497\n",
       "99.0      22\n",
       "Name: BP2_2, dtype: int64"
      ]
     },
     "execution_count": 185,
     "metadata": {},
     "output_type": "execute_result"
    }
   ],
   "source": [
    "df_copy.BP2_2.value_counts()"
   ]
  },
  {
   "cell_type": "code",
   "execution_count": 186,
   "metadata": {},
   "outputs": [
    {
     "data": {
      "text/plain": [
       "2     1136\n",
       "1      497\n",
       "99      22\n",
       "Name: BP2_2, dtype: int64"
      ]
     },
     "execution_count": 186,
     "metadata": {},
     "output_type": "execute_result"
    }
   ],
   "source": [
    "df_copy.BP2_2.replace({1.0:'1',2.0:'2',3.0:'3',99.0:'99'}, inplace=True)\n",
    "df_copy.BP2_2.value_counts()"
   ]
  },
  {
   "cell_type": "code",
   "execution_count": 187,
   "metadata": {},
   "outputs": [
    {
     "data": {
      "text/plain": [
       "2.0    1102\n",
       "1.0     553\n",
       "Name: BP2_3, dtype: int64"
      ]
     },
     "execution_count": 187,
     "metadata": {},
     "output_type": "execute_result"
    }
   ],
   "source": [
    "df_copy.BP2_3.value_counts()"
   ]
  },
  {
   "cell_type": "code",
   "execution_count": 188,
   "metadata": {},
   "outputs": [
    {
     "data": {
      "text/plain": [
       "2    1102\n",
       "1     553\n",
       "Name: BP2_3, dtype: int64"
      ]
     },
     "execution_count": 188,
     "metadata": {},
     "output_type": "execute_result"
    }
   ],
   "source": [
    "df_copy.BP2_3.replace({1.0:'1',2.0:'2',3.0:'3',99.0:'99'}, inplace=True)\n",
    "df_copy.BP2_3.value_counts()"
   ]
  },
  {
   "cell_type": "code",
   "execution_count": 189,
   "metadata": {},
   "outputs": [
    {
     "data": {
      "text/plain": [
       "2.0    323\n",
       "1.0    230\n",
       "Name: BP2_4, dtype: int64"
      ]
     },
     "execution_count": 189,
     "metadata": {},
     "output_type": "execute_result"
    }
   ],
   "source": [
    "df_copy.BP2_4.value_counts()"
   ]
  },
  {
   "cell_type": "code",
   "execution_count": 190,
   "metadata": {},
   "outputs": [
    {
     "data": {
      "text/plain": [
       "2    323\n",
       "1    230\n",
       "Name: BP2_4, dtype: int64"
      ]
     },
     "execution_count": 190,
     "metadata": {},
     "output_type": "execute_result"
    }
   ],
   "source": [
    "df_copy.BP2_4.replace({1.0:'1',2.0:'2',3.0:'3',99.0:'99'}, inplace=True)\n",
    "df_copy.BP2_4.value_counts()"
   ]
  },
  {
   "cell_type": "code",
   "execution_count": 191,
   "metadata": {},
   "outputs": [
    {
     "data": {
      "text/plain": [
       "0.0    10776\n",
       "1.0      678\n",
       "Name: BP3_1_1, dtype: int64"
      ]
     },
     "execution_count": 191,
     "metadata": {},
     "output_type": "execute_result"
    }
   ],
   "source": [
    "df_copy.BP3_1_1.value_counts()"
   ]
  },
  {
   "cell_type": "code",
   "execution_count": 192,
   "metadata": {},
   "outputs": [
    {
     "data": {
      "text/plain": [
       "0    10776\n",
       "1      678\n",
       "Name: BP3_1_1, dtype: int64"
      ]
     },
     "execution_count": 192,
     "metadata": {},
     "output_type": "execute_result"
    }
   ],
   "source": [
    "df_copy.BP3_1_1.replace({0.0:'0',1.0:'1',2.0:'2',3.0:'3',99.0:'99'}, inplace=True)\n",
    "df_copy.BP3_1_1.value_counts()"
   ]
  },
  {
   "cell_type": "code",
   "execution_count": 193,
   "metadata": {},
   "outputs": [
    {
     "data": {
      "text/plain": [
       "0.0    9245\n",
       "1.0    2209\n",
       "Name: BP3_1_2, dtype: int64"
      ]
     },
     "execution_count": 193,
     "metadata": {},
     "output_type": "execute_result"
    }
   ],
   "source": [
    "df_copy.BP3_1_2.value_counts()"
   ]
  },
  {
   "cell_type": "code",
   "execution_count": 194,
   "metadata": {},
   "outputs": [
    {
     "data": {
      "text/plain": [
       "0    9245\n",
       "1    2209\n",
       "Name: BP3_1_2, dtype: int64"
      ]
     },
     "execution_count": 194,
     "metadata": {},
     "output_type": "execute_result"
    }
   ],
   "source": [
    "df_copy.BP3_1_2.replace({0.0:'0',1.0:'1',2.0:'2',3.0:'3',99.0:'99'}, inplace=True)\n",
    "df_copy.BP3_1_2.value_counts()"
   ]
  },
  {
   "cell_type": "code",
   "execution_count": 195,
   "metadata": {},
   "outputs": [
    {
     "data": {
      "text/plain": [
       "0.0    10542\n",
       "1.0      912\n",
       "Name: BP3_1_3, dtype: int64"
      ]
     },
     "execution_count": 195,
     "metadata": {},
     "output_type": "execute_result"
    }
   ],
   "source": [
    "df_copy.BP3_1_3.value_counts()"
   ]
  },
  {
   "cell_type": "code",
   "execution_count": 196,
   "metadata": {},
   "outputs": [
    {
     "data": {
      "text/plain": [
       "0    10542\n",
       "1      912\n",
       "Name: BP3_1_3, dtype: int64"
      ]
     },
     "execution_count": 196,
     "metadata": {},
     "output_type": "execute_result"
    }
   ],
   "source": [
    "df_copy.BP3_1_3.replace({0.0:'0',1.0:'1',2.0:'2',3.0:'3',99.0:'99'}, inplace=True)\n",
    "df_copy.BP3_1_3.value_counts()"
   ]
  },
  {
   "cell_type": "code",
   "execution_count": 197,
   "metadata": {},
   "outputs": [
    {
     "data": {
      "text/plain": [
       "0.0    10513\n",
       "1.0      941\n",
       "Name: BP3_1_4, dtype: int64"
      ]
     },
     "execution_count": 197,
     "metadata": {},
     "output_type": "execute_result"
    }
   ],
   "source": [
    "df_copy.BP3_1_4.value_counts()"
   ]
  },
  {
   "cell_type": "code",
   "execution_count": 198,
   "metadata": {},
   "outputs": [
    {
     "data": {
      "text/plain": [
       "0    10513\n",
       "1      941\n",
       "Name: BP3_1_4, dtype: int64"
      ]
     },
     "execution_count": 198,
     "metadata": {},
     "output_type": "execute_result"
    }
   ],
   "source": [
    "df_copy.BP3_1_4.replace({0.0:'0',1.0:'1',2.0:'2',3.0:'3',99.0:'99'}, inplace=True)\n",
    "df_copy.BP3_1_4.value_counts()"
   ]
  },
  {
   "cell_type": "code",
   "execution_count": 199,
   "metadata": {},
   "outputs": [
    {
     "data": {
      "text/plain": [
       "0.0    9488\n",
       "1.0    1966\n",
       "Name: BP3_1_5, dtype: int64"
      ]
     },
     "execution_count": 199,
     "metadata": {},
     "output_type": "execute_result"
    }
   ],
   "source": [
    "df_copy.BP3_1_5.value_counts()"
   ]
  },
  {
   "cell_type": "code",
   "execution_count": 200,
   "metadata": {},
   "outputs": [
    {
     "data": {
      "text/plain": [
       "0    9488\n",
       "1    1966\n",
       "Name: BP3_1_5, dtype: int64"
      ]
     },
     "execution_count": 200,
     "metadata": {},
     "output_type": "execute_result"
    }
   ],
   "source": [
    "df_copy.BP3_1_5.replace({0.0:'0',1.0:'1',2.0:'2',3.0:'3',99.0:'99'}, inplace=True)\n",
    "df_copy.BP3_1_5.value_counts()"
   ]
  },
  {
   "cell_type": "code",
   "execution_count": 201,
   "metadata": {},
   "outputs": [
    {
     "data": {
      "text/plain": [
       "0.0    11321\n",
       "1.0      133\n",
       "Name: BP3_1_6, dtype: int64"
      ]
     },
     "execution_count": 201,
     "metadata": {},
     "output_type": "execute_result"
    }
   ],
   "source": [
    "df_copy.BP3_1_6.value_counts()"
   ]
  },
  {
   "cell_type": "code",
   "execution_count": 202,
   "metadata": {},
   "outputs": [
    {
     "data": {
      "text/plain": [
       "0    11321\n",
       "1      133\n",
       "Name: BP3_1_6, dtype: int64"
      ]
     },
     "execution_count": 202,
     "metadata": {},
     "output_type": "execute_result"
    }
   ],
   "source": [
    "df_copy.BP3_1_6.replace({0.0:'0',1.0:'1',2.0:'2',3.0:'3',99.0:'99'}, inplace=True)\n",
    "df_copy.BP3_1_6.value_counts()"
   ]
  },
  {
   "cell_type": "code",
   "execution_count": 203,
   "metadata": {},
   "outputs": [
    {
     "data": {
      "text/plain": [
       "0.0    6917\n",
       "1.0    4537\n",
       "Name: BP3_1_7, dtype: int64"
      ]
     },
     "execution_count": 203,
     "metadata": {},
     "output_type": "execute_result"
    }
   ],
   "source": [
    "df_copy.BP3_1_7.value_counts()"
   ]
  },
  {
   "cell_type": "code",
   "execution_count": 204,
   "metadata": {},
   "outputs": [
    {
     "data": {
      "text/plain": [
       "0    6917\n",
       "1    4537\n",
       "Name: BP3_1_7, dtype: int64"
      ]
     },
     "execution_count": 204,
     "metadata": {},
     "output_type": "execute_result"
    }
   ],
   "source": [
    "df_copy.BP3_1_7.replace({0.0:'0',1.0:'1',2.0:'2',3.0:'3',99.0:'99'}, inplace=True)\n",
    "df_copy.BP3_1_7.value_counts()"
   ]
  },
  {
   "cell_type": "code",
   "execution_count": 205,
   "metadata": {},
   "outputs": [
    {
     "data": {
      "text/plain": [
       "0.0    10922\n",
       "1.0      532\n",
       "Name: BP3_1_8, dtype: int64"
      ]
     },
     "execution_count": 205,
     "metadata": {},
     "output_type": "execute_result"
    }
   ],
   "source": [
    "df_copy.BP3_1_8.value_counts()"
   ]
  },
  {
   "cell_type": "code",
   "execution_count": 206,
   "metadata": {},
   "outputs": [
    {
     "data": {
      "text/plain": [
       "0    10922\n",
       "1      532\n",
       "Name: BP3_1_8, dtype: int64"
      ]
     },
     "execution_count": 206,
     "metadata": {},
     "output_type": "execute_result"
    }
   ],
   "source": [
    "df_copy.BP3_1_8.replace({0.0:'0',1.0:'1',2.0:'2',3.0:'3',99.0:'99'}, inplace=True)\n",
    "df_copy.BP3_1_8.value_counts()"
   ]
  },
  {
   "cell_type": "code",
   "execution_count": 207,
   "metadata": {},
   "outputs": [
    {
     "data": {
      "text/plain": [
       "0.0    9389\n",
       "1.0    2065\n",
       "Name: BP3_1_9, dtype: int64"
      ]
     },
     "execution_count": 207,
     "metadata": {},
     "output_type": "execute_result"
    }
   ],
   "source": [
    "df_copy.BP3_1_9.value_counts()"
   ]
  },
  {
   "cell_type": "code",
   "execution_count": 208,
   "metadata": {},
   "outputs": [
    {
     "data": {
      "text/plain": [
       "0    9389\n",
       "1    2065\n",
       "Name: BP3_1_9, dtype: int64"
      ]
     },
     "execution_count": 208,
     "metadata": {},
     "output_type": "execute_result"
    }
   ],
   "source": [
    "df_copy.BP3_1_9.replace({0.0:'0',1.0:'1',2.0:'2',3.0:'3',99.0:'99'}, inplace=True)\n",
    "df_copy.BP3_1_9.value_counts()"
   ]
  },
  {
   "cell_type": "code",
   "execution_count": 209,
   "metadata": {},
   "outputs": [
    {
     "data": {
      "text/plain": [
       "0.0    11027\n",
       "1.0      427\n",
       "Name: BP3_1_10, dtype: int64"
      ]
     },
     "execution_count": 209,
     "metadata": {},
     "output_type": "execute_result"
    }
   ],
   "source": [
    "df_copy.BP3_1_10.value_counts()"
   ]
  },
  {
   "cell_type": "code",
   "execution_count": 210,
   "metadata": {},
   "outputs": [
    {
     "data": {
      "text/plain": [
       "0    11027\n",
       "1      427\n",
       "Name: BP3_1_10, dtype: int64"
      ]
     },
     "execution_count": 210,
     "metadata": {},
     "output_type": "execute_result"
    }
   ],
   "source": [
    "df_copy.BP3_1_10.replace({0.0:'0',1.0:'1',2.0:'2',3.0:'3',99.0:'99'}, inplace=True)\n",
    "df_copy.BP3_1_10.value_counts()"
   ]
  },
  {
   "cell_type": "code",
   "execution_count": 211,
   "metadata": {},
   "outputs": [
    {
     "data": {
      "text/plain": [
       "0.0    9047\n",
       "1.0    2407\n",
       "Name: BP3_1_11, dtype: int64"
      ]
     },
     "execution_count": 211,
     "metadata": {},
     "output_type": "execute_result"
    }
   ],
   "source": [
    "df_copy.BP3_1_11.value_counts()"
   ]
  },
  {
   "cell_type": "code",
   "execution_count": 212,
   "metadata": {},
   "outputs": [
    {
     "data": {
      "text/plain": [
       "0    9047\n",
       "1    2407\n",
       "Name: BP3_1_11, dtype: int64"
      ]
     },
     "execution_count": 212,
     "metadata": {},
     "output_type": "execute_result"
    }
   ],
   "source": [
    "df_copy.BP3_1_11.replace({0.0:'0',1.0:'1',2.0:'2',3.0:'3',99.0:'99'}, inplace=True)\n",
    "df_copy.BP3_1_11.value_counts()"
   ]
  },
  {
   "cell_type": "code",
   "execution_count": 213,
   "metadata": {},
   "outputs": [
    {
     "data": {
      "text/plain": [
       "0.0    11084\n",
       "1.0      370\n",
       "Name: BP3_1_99, dtype: int64"
      ]
     },
     "execution_count": 213,
     "metadata": {},
     "output_type": "execute_result"
    }
   ],
   "source": [
    "df_copy.BP3_1_99.value_counts()"
   ]
  },
  {
   "cell_type": "code",
   "execution_count": 214,
   "metadata": {},
   "outputs": [
    {
     "data": {
      "text/plain": [
       "0    11084\n",
       "1      370\n",
       "Name: BP3_1_99, dtype: int64"
      ]
     },
     "execution_count": 214,
     "metadata": {},
     "output_type": "execute_result"
    }
   ],
   "source": [
    "df_copy.BP3_1_99.replace({0.0:'0',1.0:'1',2.0:'2',3.0:'3',99.0:'99'}, inplace=True)\n",
    "df_copy.BP3_1_99.value_counts()"
   ]
  },
  {
   "cell_type": "code",
   "execution_count": 215,
   "metadata": {},
   "outputs": [
    {
     "data": {
      "text/plain": [
       "2.0     3801\n",
       "1.0     1317\n",
       "99.0      43\n",
       "Name: BP3_2, dtype: int64"
      ]
     },
     "execution_count": 215,
     "metadata": {},
     "output_type": "execute_result"
    }
   ],
   "source": [
    "df_copy.BP3_2.value_counts()"
   ]
  },
  {
   "cell_type": "code",
   "execution_count": 216,
   "metadata": {},
   "outputs": [
    {
     "data": {
      "text/plain": [
       "2     3801\n",
       "1     1317\n",
       "99      43\n",
       "Name: BP3_2, dtype: int64"
      ]
     },
     "execution_count": 216,
     "metadata": {},
     "output_type": "execute_result"
    }
   ],
   "source": [
    "df_copy.BP3_2.replace({0.0:'0',1.0:'1',2.0:'2',3.0:'3',99.0:'99'}, inplace=True)\n",
    "df_copy.BP3_2.value_counts()"
   ]
  },
  {
   "cell_type": "code",
   "execution_count": 217,
   "metadata": {},
   "outputs": [
    {
     "data": {
      "text/plain": [
       "2.0     888\n",
       "99.0     78\n",
       "3.0      43\n",
       "1.0      36\n",
       "4.0      33\n",
       "5.0      29\n",
       "Name: BP4_1, dtype: int64"
      ]
     },
     "execution_count": 217,
     "metadata": {},
     "output_type": "execute_result"
    }
   ],
   "source": [
    "df_copy.BP4_1.value_counts()"
   ]
  },
  {
   "cell_type": "code",
   "execution_count": 218,
   "metadata": {},
   "outputs": [
    {
     "data": {
      "text/plain": [
       "2     888\n",
       "99     78\n",
       "3      43\n",
       "1      36\n",
       "4      33\n",
       "5      29\n",
       "Name: BP4_1, dtype: int64"
      ]
     },
     "execution_count": 218,
     "metadata": {},
     "output_type": "execute_result"
    }
   ],
   "source": [
    "df_copy.BP4_1.replace({0.0:'0',1.0:'1',2.0:'2',3.0:'3',4.0:'4',5.0:'5',99.0:'99'}, inplace=True)\n",
    "df_copy.BP4_1.value_counts()"
   ]
  },
  {
   "cell_type": "code",
   "execution_count": 219,
   "metadata": {},
   "outputs": [
    {
     "data": {
      "text/plain": [
       "1.0     4591\n",
       "4.0      212\n",
       "99.0      79\n",
       "2.0       70\n",
       "7.0       62\n",
       "5.0       50\n",
       "6.0       26\n",
       "3.0        5\n",
       "Name: BP5_1, dtype: int64"
      ]
     },
     "execution_count": 219,
     "metadata": {},
     "output_type": "execute_result"
    }
   ],
   "source": [
    "df_copy.BP5_1.value_counts()"
   ]
  },
  {
   "cell_type": "code",
   "execution_count": 220,
   "metadata": {},
   "outputs": [
    {
     "data": {
      "text/plain": [
       "1     4591\n",
       "4      212\n",
       "99      79\n",
       "2       70\n",
       "7       62\n",
       "5       50\n",
       "6       26\n",
       "3        5\n",
       "Name: BP5_1, dtype: int64"
      ]
     },
     "execution_count": 220,
     "metadata": {},
     "output_type": "execute_result"
    }
   ],
   "source": [
    "df_copy.BP5_1.replace({0.0:'0',1.0:'1',2.0:'2',3.0:'3',4.0:'4',5.0:'5',6.0:'6',7.0:'7',99.0:'99'}, inplace=True)\n",
    "df_copy.BP5_1.value_counts()"
   ]
  },
  {
   "cell_type": "code",
   "execution_count": 221,
   "metadata": {},
   "outputs": [
    {
     "data": {
      "text/plain": [
       "1.0    3998\n",
       "0.0    1097\n",
       "Name: BP5_2_1, dtype: int64"
      ]
     },
     "execution_count": 221,
     "metadata": {},
     "output_type": "execute_result"
    }
   ],
   "source": [
    "df_copy.BP5_2_1.value_counts()"
   ]
  },
  {
   "cell_type": "code",
   "execution_count": 222,
   "metadata": {},
   "outputs": [
    {
     "data": {
      "text/plain": [
       "1    3998\n",
       "0    1097\n",
       "Name: BP5_2_1, dtype: int64"
      ]
     },
     "execution_count": 222,
     "metadata": {},
     "output_type": "execute_result"
    }
   ],
   "source": [
    "df_copy.BP5_2_1.replace({0.0:'0',1.0:'1',99.0:'99'}, inplace=True)\n",
    "df_copy.BP5_2_1.value_counts()"
   ]
  },
  {
   "cell_type": "code",
   "execution_count": 223,
   "metadata": {},
   "outputs": [
    {
     "data": {
      "text/plain": [
       "0.0    4844\n",
       "1.0     251\n",
       "Name: BP5_2_2, dtype: int64"
      ]
     },
     "execution_count": 223,
     "metadata": {},
     "output_type": "execute_result"
    }
   ],
   "source": [
    "df_copy.BP5_2_2.value_counts()"
   ]
  },
  {
   "cell_type": "code",
   "execution_count": 224,
   "metadata": {},
   "outputs": [
    {
     "data": {
      "text/plain": [
       "0    4844\n",
       "1     251\n",
       "Name: BP5_2_2, dtype: int64"
      ]
     },
     "execution_count": 224,
     "metadata": {},
     "output_type": "execute_result"
    }
   ],
   "source": [
    "df_copy.BP5_2_2.replace({0.0:'0',1.0:'1',99.0:'99'}, inplace=True)\n",
    "df_copy.BP5_2_2.value_counts()"
   ]
  },
  {
   "cell_type": "code",
   "execution_count": 225,
   "metadata": {},
   "outputs": [
    {
     "data": {
      "text/plain": [
       "0.0    4843\n",
       "1.0     252\n",
       "Name: BP5_2_3, dtype: int64"
      ]
     },
     "execution_count": 225,
     "metadata": {},
     "output_type": "execute_result"
    }
   ],
   "source": [
    "df_copy.BP5_2_3.value_counts()"
   ]
  },
  {
   "cell_type": "code",
   "execution_count": 226,
   "metadata": {},
   "outputs": [
    {
     "data": {
      "text/plain": [
       "0    4843\n",
       "1     252\n",
       "Name: BP5_2_3, dtype: int64"
      ]
     },
     "execution_count": 226,
     "metadata": {},
     "output_type": "execute_result"
    }
   ],
   "source": [
    "df_copy.BP5_2_3.replace({0.0:'0',1.0:'1',99.0:'99'}, inplace=True)\n",
    "df_copy.BP5_2_3.value_counts()"
   ]
  },
  {
   "cell_type": "code",
   "execution_count": 227,
   "metadata": {},
   "outputs": [
    {
     "data": {
      "text/plain": [
       "0.0    4401\n",
       "1.0     694\n",
       "Name: BP5_2_4, dtype: int64"
      ]
     },
     "execution_count": 227,
     "metadata": {},
     "output_type": "execute_result"
    }
   ],
   "source": [
    "df_copy.BP5_2_4.value_counts()"
   ]
  },
  {
   "cell_type": "code",
   "execution_count": 228,
   "metadata": {},
   "outputs": [
    {
     "data": {
      "text/plain": [
       "0    4401\n",
       "1     694\n",
       "Name: BP5_2_4, dtype: int64"
      ]
     },
     "execution_count": 228,
     "metadata": {},
     "output_type": "execute_result"
    }
   ],
   "source": [
    "df_copy.BP5_2_4.replace({0.0:'0',1.0:'1',99.0:'99'}, inplace=True)\n",
    "df_copy.BP5_2_4.value_counts()"
   ]
  },
  {
   "cell_type": "code",
   "execution_count": 229,
   "metadata": {},
   "outputs": [
    {
     "data": {
      "text/plain": [
       "2.0     3915\n",
       "1.0      444\n",
       "99.0      42\n",
       "Name: BP5_3, dtype: int64"
      ]
     },
     "execution_count": 229,
     "metadata": {},
     "output_type": "execute_result"
    }
   ],
   "source": [
    "df_copy.BP5_3.value_counts()"
   ]
  },
  {
   "cell_type": "code",
   "execution_count": 230,
   "metadata": {},
   "outputs": [
    {
     "data": {
      "text/plain": [
       "2     3915\n",
       "1      444\n",
       "99      42\n",
       "Name: BP5_3, dtype: int64"
      ]
     },
     "execution_count": 230,
     "metadata": {},
     "output_type": "execute_result"
    }
   ],
   "source": [
    "df_copy.BP5_3.replace({2.0:'2',1.0:'1',99.0:'99'}, inplace=True)\n",
    "df_copy.BP5_3.value_counts()"
   ]
  },
  {
   "cell_type": "code",
   "execution_count": 231,
   "metadata": {},
   "outputs": [
    {
     "data": {
      "text/plain": [
       "2.0     3865\n",
       "1.0       47\n",
       "99.0      45\n",
       "Name: BP5_4, dtype: int64"
      ]
     },
     "execution_count": 231,
     "metadata": {},
     "output_type": "execute_result"
    }
   ],
   "source": [
    "df_copy.BP5_4.value_counts()"
   ]
  },
  {
   "cell_type": "code",
   "execution_count": 232,
   "metadata": {},
   "outputs": [
    {
     "data": {
      "text/plain": [
       "2     3865\n",
       "1       47\n",
       "99      45\n",
       "Name: BP5_4, dtype: int64"
      ]
     },
     "execution_count": 232,
     "metadata": {},
     "output_type": "execute_result"
    }
   ],
   "source": [
    "df_copy.BP5_4.replace({2.0:'2',1.0:'1',99.0:'99'}, inplace=True)\n",
    "df_copy.BP5_4.value_counts()"
   ]
  },
  {
   "cell_type": "code",
   "execution_count": 233,
   "metadata": {},
   "outputs": [
    {
     "data": {
      "text/plain": [
       "1.0     42\n",
       "2.0     13\n",
       "3.0     12\n",
       "99.0    11\n",
       "5.0      2\n",
       "4.0      1\n",
       "Name: BP6_1, dtype: int64"
      ]
     },
     "execution_count": 233,
     "metadata": {},
     "output_type": "execute_result"
    }
   ],
   "source": [
    "df_copy.BP6_1.value_counts()"
   ]
  },
  {
   "cell_type": "code",
   "execution_count": 234,
   "metadata": {},
   "outputs": [
    {
     "data": {
      "text/plain": [
       "1     42\n",
       "2     13\n",
       "3     12\n",
       "99    11\n",
       "5      2\n",
       "4      1\n",
       "Name: BP6_1, dtype: int64"
      ]
     },
     "execution_count": 234,
     "metadata": {},
     "output_type": "execute_result"
    }
   ],
   "source": [
    "df_copy.BP6_1.replace({1.0:'1',2.0:'2',3.0:'3',4.0:'4',5.0:'5',99.0:'99'}, inplace=True)\n",
    "df_copy.BP6_1.value_counts()"
   ]
  },
  {
   "cell_type": "code",
   "execution_count": 235,
   "metadata": {},
   "outputs": [
    {
     "data": {
      "text/plain": [
       "1.0     35\n",
       "99.0    23\n",
       "2.0     23\n",
       "Name: BP6_2, dtype: int64"
      ]
     },
     "execution_count": 235,
     "metadata": {},
     "output_type": "execute_result"
    }
   ],
   "source": [
    "df_copy.BP6_2.value_counts()"
   ]
  },
  {
   "cell_type": "code",
   "execution_count": 236,
   "metadata": {},
   "outputs": [
    {
     "data": {
      "text/plain": [
       "1     35\n",
       "99    23\n",
       "2     23\n",
       "Name: BP6_2, dtype: int64"
      ]
     },
     "execution_count": 236,
     "metadata": {},
     "output_type": "execute_result"
    }
   ],
   "source": [
    "df_copy.BP6_2.replace({1.0:'1',2.0:'2',3.0:'3',4.0:'4',5.0:'5',99.0:'99'}, inplace=True)\n",
    "df_copy.BP6_2.value_counts()"
   ]
  },
  {
   "cell_type": "code",
   "execution_count": 237,
   "metadata": {},
   "outputs": [
    {
     "data": {
      "text/plain": [
       "1.0     45\n",
       "99.0    18\n",
       "2.0     18\n",
       "Name: BP6_3, dtype: int64"
      ]
     },
     "execution_count": 237,
     "metadata": {},
     "output_type": "execute_result"
    }
   ],
   "source": [
    "df_copy.BP6_3.value_counts()"
   ]
  },
  {
   "cell_type": "code",
   "execution_count": 238,
   "metadata": {},
   "outputs": [
    {
     "data": {
      "text/plain": [
       "1     45\n",
       "99    18\n",
       "2     18\n",
       "Name: BP6_3, dtype: int64"
      ]
     },
     "execution_count": 238,
     "metadata": {},
     "output_type": "execute_result"
    }
   ],
   "source": [
    "df_copy.BP6_3.replace({1.0:'1',2.0:'2',3.0:'3',4.0:'4',5.0:'5',99.0:'99'}, inplace=True)\n",
    "df_copy.BP6_3.value_counts()"
   ]
  },
  {
   "cell_type": "code",
   "execution_count": 239,
   "metadata": {},
   "outputs": [
    {
     "data": {
      "text/plain": [
       "2.0     337\n",
       "3.0     246\n",
       "4.0     120\n",
       "1.0      70\n",
       "99.0     13\n",
       "5.0       4\n",
       "Name: BP7_1, dtype: int64"
      ]
     },
     "execution_count": 239,
     "metadata": {},
     "output_type": "execute_result"
    }
   ],
   "source": [
    "df_copy.BP7_1.value_counts()"
   ]
  },
  {
   "cell_type": "code",
   "execution_count": 240,
   "metadata": {},
   "outputs": [
    {
     "data": {
      "text/plain": [
       "2     337\n",
       "3     246\n",
       "4     120\n",
       "1      70\n",
       "99     13\n",
       "5       4\n",
       "Name: BP7_1, dtype: int64"
      ]
     },
     "execution_count": 240,
     "metadata": {},
     "output_type": "execute_result"
    }
   ],
   "source": [
    "df_copy.BP7_1.replace({1.0:'1',2.0:'2',3.0:'3',4.0:'4',5.0:'5',99.0:'99'}, inplace=True)\n",
    "df_copy.BP7_1.value_counts()"
   ]
  },
  {
   "cell_type": "code",
   "execution_count": 241,
   "metadata": {},
   "outputs": [
    {
     "data": {
      "text/plain": [
       "160      137\n",
       "126      123\n",
       "158      119\n",
       "165      108\n",
       "154      108\n",
       "338      105\n",
       "134      105\n",
       "138      104\n",
       "196      104\n",
       "147      102\n",
       "152      101\n",
       "166      100\n",
       "169      100\n",
       "156      100\n",
       "142       99\n",
       "164       98\n",
       "294       97\n",
       "132       95\n",
       "296       95\n",
       "140       94\n",
       "172       93\n",
       "202       93\n",
       "129       92\n",
       "322       91\n",
       "304       91\n",
       "330       91\n",
       "180       90\n",
       "80        90\n",
       "258       90\n",
       "314       88\n",
       "        ... \n",
       "4200       1\n",
       "4257       1\n",
       "2187       1\n",
       "4296       1\n",
       "4360       1\n",
       "6528       1\n",
       "20112      1\n",
       "1193       1\n",
       "3544       1\n",
       "2658       1\n",
       "1273       1\n",
       "3336       1\n",
       "6720       1\n",
       "1417       1\n",
       "6704       1\n",
       "1465       1\n",
       "2594       1\n",
       "6688       1\n",
       "1497       1\n",
       "11868      1\n",
       "3560       1\n",
       "1529       1\n",
       "3592       1\n",
       "2546       1\n",
       "1545       1\n",
       "1561       1\n",
       "5691       1\n",
       "1609       1\n",
       "2498       1\n",
       "2031       1\n",
       "Name: FAC_DEL, Length: 2607, dtype: int64"
      ]
     },
     "execution_count": 241,
     "metadata": {},
     "output_type": "execute_result"
    }
   ],
   "source": [
    "df_copy.FAC_DEL.value_counts()"
   ]
  },
  {
   "cell_type": "code",
   "execution_count": 242,
   "metadata": {},
   "outputs": [
    {
     "data": {
      "text/plain": [
       "U    25021\n",
       "C     5130\n",
       "R     2342\n",
       "Name: DOM, dtype: int64"
      ]
     },
     "execution_count": 242,
     "metadata": {},
     "output_type": "execute_result"
    }
   ],
   "source": [
    "df_copy.DOM.value_counts()"
   ]
  },
  {
   "cell_type": "code",
   "execution_count": 243,
   "metadata": {},
   "outputs": [
    {
     "data": {
      "text/plain": [
       "143    672\n",
       "217    568\n",
       "109    547\n",
       "218    527\n",
       "243    518\n",
       "10     483\n",
       "132    458\n",
       "158    422\n",
       "159    420\n",
       "267    403\n",
       "268    402\n",
       "74     386\n",
       "61     384\n",
       "99     366\n",
       "21     353\n",
       "119    351\n",
       "83     345\n",
       "232    341\n",
       "120    338\n",
       "97     330\n",
       "84     324\n",
       "11     324\n",
       "195    321\n",
       "133    319\n",
       "328    318\n",
       "279    318\n",
       "194    317\n",
       "89     309\n",
       "196    307\n",
       "280    306\n",
       "      ... \n",
       "71       6\n",
       "359      6\n",
       "142      6\n",
       "176      6\n",
       "64       6\n",
       "30       6\n",
       "183      6\n",
       "228      5\n",
       "157      5\n",
       "287      5\n",
       "48       5\n",
       "7        4\n",
       "253      4\n",
       "193      4\n",
       "173      4\n",
       "202      4\n",
       "301      3\n",
       "311      3\n",
       "240      3\n",
       "249      3\n",
       "316      3\n",
       "291      2\n",
       "112      2\n",
       "203      2\n",
       "254      2\n",
       "351      2\n",
       "72       1\n",
       "149      1\n",
       "102      1\n",
       "146      1\n",
       "Name: EST, Length: 360, dtype: int64"
      ]
     },
     "execution_count": 243,
     "metadata": {},
     "output_type": "execute_result"
    }
   ],
   "source": [
    "df_copy.EST.value_counts()"
   ]
  },
  {
   "cell_type": "code",
   "execution_count": 244,
   "metadata": {},
   "outputs": [
    {
     "data": {
      "text/plain": [
       "1057     29\n",
       "6623     29\n",
       "1052     27\n",
       "5180     27\n",
       "9970     27\n",
       "10220    25\n",
       "7157     24\n",
       "10304    24\n",
       "6413     24\n",
       "8575     23\n",
       "10267    22\n",
       "2058     22\n",
       "1059     22\n",
       "6166     21\n",
       "10965    21\n",
       "12448    21\n",
       "1085     20\n",
       "3163     20\n",
       "6590     20\n",
       "7813     20\n",
       "1064     20\n",
       "282      20\n",
       "9606     19\n",
       "13014    19\n",
       "10526    19\n",
       "10186    19\n",
       "8267     19\n",
       "10573    19\n",
       "663      19\n",
       "10539    19\n",
       "         ..\n",
       "6129      1\n",
       "10875     1\n",
       "10215     1\n",
       "12718     1\n",
       "10305     1\n",
       "8620      1\n",
       "4214      1\n",
       "4442      1\n",
       "4246      1\n",
       "2197      1\n",
       "148       1\n",
       "6491      1\n",
       "2425      1\n",
       "2181      1\n",
       "132       1\n",
       "12670     1\n",
       "392       1\n",
       "2441      1\n",
       "7087      1\n",
       "8304      1\n",
       "4198      1\n",
       "100       1\n",
       "956       1\n",
       "4668      1\n",
       "12702     1\n",
       "84        1\n",
       "10321     1\n",
       "424       1\n",
       "2473      1\n",
       "3705      1\n",
       "Name: UPM, Length: 9877, dtype: int64"
      ]
     },
     "execution_count": 244,
     "metadata": {},
     "output_type": "execute_result"
    }
   ],
   "source": [
    "df_copy.UPM.value_counts()"
   ]
  },
  {
   "cell_type": "code",
   "execution_count": 245,
   "metadata": {},
   "outputs": [],
   "source": [
    "df_copy.to_csv('2012.csv')"
   ]
  },
  {
   "cell_type": "code",
   "execution_count": null,
   "metadata": {},
   "outputs": [],
   "source": []
  }
 ],
 "metadata": {
  "kernelspec": {
   "display_name": "Python 3",
   "language": "python",
   "name": "python3"
  },
  "language_info": {
   "codemirror_mode": {
    "name": "ipython",
    "version": 3
   },
   "file_extension": ".py",
   "mimetype": "text/x-python",
   "name": "python",
   "nbconvert_exporter": "python",
   "pygments_lexer": "ipython3",
   "version": "3.6.5"
  }
 },
 "nbformat": 4,
 "nbformat_minor": 2
}
