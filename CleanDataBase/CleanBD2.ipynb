{
 "cells": [
  {
   "cell_type": "code",
   "execution_count": 1,
   "metadata": {},
   "outputs": [],
   "source": [
    "import numpy as np\n",
    "import pandas as pd"
   ]
  },
  {
   "cell_type": "code",
   "execution_count": 2,
   "metadata": {},
   "outputs": [],
   "source": [
    "df_ = 'C:/Users/chris/Documents/TRABAJO/PROYECTOS/PROGRAMA DELFIN/PROYECTOCRIMEN/2015/tmod_vic2015.csv'"
   ]
  },
  {
   "cell_type": "code",
   "execution_count": 3,
   "metadata": {},
   "outputs": [],
   "source": [
    "df = pd.read_csv(df_,low_memory = False)\n",
    "df_copy = df"
   ]
  },
  {
   "cell_type": "code",
   "execution_count": 4,
   "metadata": {},
   "outputs": [
    {
     "data": {
      "text/plain": [
       "1     6988\n",
       "4     6868\n",
       "2     6856\n",
       "5     6724\n",
       "3     6611\n",
       "17     783\n",
       "12     736\n",
       "13     728\n",
       "14     727\n",
       "19     724\n",
       "7      718\n",
       "6      718\n",
       "15     717\n",
       "20     716\n",
       "10     699\n",
       "11     681\n",
       "18     678\n",
       "8      669\n",
       "9      656\n",
       "16     654\n",
       "21      35\n",
       "22      11\n",
       "23       2\n",
       "Name: VIV_SEL, dtype: int64"
      ]
     },
     "execution_count": 4,
     "metadata": {},
     "output_type": "execute_result"
    }
   ],
   "source": [
    "df_copy.VIV_SEL.value_counts()"
   ]
  },
  {
   "cell_type": "code",
   "execution_count": 5,
   "metadata": {},
   "outputs": [
    {
     "data": {
      "text/plain": [
       "1    33789\n",
       "2     7488\n",
       "3     2329\n",
       "4      711\n",
       "5      382\n",
       "Name: ND_TIPO, dtype: int64"
      ]
     },
     "execution_count": 5,
     "metadata": {},
     "output_type": "execute_result"
    }
   ],
   "source": [
    "df_copy.ND_TIPO.value_counts()"
   ]
  },
  {
   "cell_type": "code",
   "execution_count": 6,
   "metadata": {},
   "outputs": [
    {
     "data": {
      "text/plain": [
       "1    26301\n",
       "2    10318\n",
       "3     4854\n",
       "5     1910\n",
       "4     1316\n",
       "Name: TD_TIPO, dtype: int64"
      ]
     },
     "execution_count": 6,
     "metadata": {},
     "output_type": "execute_result"
    }
   ],
   "source": [
    "df_copy.TD_TIPO.value_counts()"
   ]
  },
  {
   "cell_type": "code",
   "execution_count": 7,
   "metadata": {},
   "outputs": [
    {
     "data": {
      "text/plain": [
       "3     8279\n",
       "2     7685\n",
       "9     7113\n",
       "4     5651\n",
       "5     5357\n",
       "10    3022\n",
       "8     1699\n",
       "7     1539\n",
       "6     1482\n",
       "1     1131\n",
       "11     950\n",
       "13     552\n",
       "15      91\n",
       "12      81\n",
       "14      67\n",
       "Name: BPCOD, dtype: int64"
      ]
     },
     "execution_count": 7,
     "metadata": {},
     "output_type": "execute_result"
    }
   ],
   "source": [
    "df_copy.BPCOD.value_counts()"
   ]
  },
  {
   "cell_type": "code",
   "execution_count": 8,
   "metadata": {},
   "outputs": [
    {
     "data": {
      "text/plain": [
       "1     21796\n",
       "2     14210\n",
       "3      5428\n",
       "4      2179\n",
       "5       741\n",
       "6       201\n",
       "7        68\n",
       "8        35\n",
       "10       18\n",
       "9        18\n",
       "12        3\n",
       "19        2\n",
       "Name: R_SEL, dtype: int64"
      ]
     },
     "execution_count": 8,
     "metadata": {},
     "output_type": "execute_result"
    }
   ],
   "source": [
    "df_copy.R_SEL.value_counts()"
   ]
  },
  {
   "cell_type": "code",
   "execution_count": 9,
   "metadata": {},
   "outputs": [
    {
     "data": {
      "text/plain": [
       "1.0     4021\n",
       "2.0     1514\n",
       "4.0     1498\n",
       "21.0    1330\n",
       "29.0    1179\n",
       "14.0    1153\n",
       "36.0    1141\n",
       "3.0     1138\n",
       "39.0    1080\n",
       "8.0     1051\n",
       "41.0     910\n",
       "7.0      806\n",
       "26.0     790\n",
       "33.0     745\n",
       "5.0      740\n",
       "40.0     714\n",
       "18.0     695\n",
       "24.0     619\n",
       "15.0     586\n",
       "10.0     523\n",
       "27.0     489\n",
       "9.0      450\n",
       "31.0     429\n",
       "13.0     396\n",
       "28.0     383\n",
       "25.0     356\n",
       "17.0     339\n",
       "32.0     326\n",
       "19.0     308\n",
       "12.0     266\n",
       "43.0     257\n",
       "16.0     220\n",
       "Name: AREAM_OCU, dtype: int64"
      ]
     },
     "execution_count": 9,
     "metadata": {},
     "output_type": "execute_result"
    }
   ],
   "source": [
    "df_copy.AREAM_OCU.value_counts()"
   ]
  },
  {
   "cell_type": "code",
   "execution_count": 10,
   "metadata": {},
   "outputs": [],
   "source": [
    "df_copy.AREAM_OCU.replace({1.0:'1',2.0:'2',3.0:'3',4.0:'4',\n",
    "                29.0:'29',14.0:'14',36.0:'36',21.0:'21',6.0:'6',\n",
    "                8.0:'8',39.0:'39',41.0:'41',33.0:'33',18.0:'18',\n",
    "                40.0:'40',25.0:'25',5.0:'5',26.0:'26',9.0:'9',\n",
    "                7.0:'7',13.0:'13',15.0:'15',27.0:'27',31.0:'31',\n",
    "                19.0:'19',28.0:'28',24.0:'24',10.0:'10',43.0:'43',\n",
    "                17.0:'17',32.0:'32',16.0:'16',12.0:'12'}, inplace=True)"
   ]
  },
  {
   "cell_type": "code",
   "execution_count": 11,
   "metadata": {},
   "outputs": [
    {
     "data": {
      "text/plain": [
       "1     4021\n",
       "2     1514\n",
       "4     1498\n",
       "21    1330\n",
       "29    1179\n",
       "14    1153\n",
       "36    1141\n",
       "3     1138\n",
       "39    1080\n",
       "8     1051\n",
       "41     910\n",
       "7      806\n",
       "26     790\n",
       "33     745\n",
       "5      740\n",
       "40     714\n",
       "18     695\n",
       "24     619\n",
       "15     586\n",
       "10     523\n",
       "27     489\n",
       "9      450\n",
       "31     429\n",
       "13     396\n",
       "28     383\n",
       "25     356\n",
       "17     339\n",
       "32     326\n",
       "19     308\n",
       "12     266\n",
       "43     257\n",
       "16     220\n",
       "Name: AREAM_OCU, dtype: int64"
      ]
     },
     "execution_count": 11,
     "metadata": {},
     "output_type": "execute_result"
    }
   ],
   "source": [
    "df_copy.AREAM_OCU.value_counts().astype('int64')"
   ]
  },
  {
   "cell_type": "code",
   "execution_count": 12,
   "metadata": {},
   "outputs": [
    {
     "data": {
      "text/plain": [
       "A    44699\n",
       "Name: RESUL_H, dtype: int64"
      ]
     },
     "execution_count": 12,
     "metadata": {},
     "output_type": "execute_result"
    }
   ],
   "source": [
    "df_copy.RESUL_H.value_counts()"
   ]
  },
  {
   "cell_type": "code",
   "execution_count": 13,
   "metadata": {},
   "outputs": [
    {
     "data": {
      "text/plain": [
       "15    2875\n",
       "2     2612\n",
       "21    2157\n",
       "14    1947\n",
       "17    1732\n",
       "9     1716\n",
       "11    1594\n",
       "3     1573\n",
       "25    1569\n",
       "16    1536\n",
       "22    1512\n",
       "31    1453\n",
       "28    1420\n",
       "23    1411\n",
       "6     1351\n",
       "12    1344\n",
       "10    1332\n",
       "29    1318\n",
       "27    1301\n",
       "1     1276\n",
       "19    1203\n",
       "24    1099\n",
       "30    1054\n",
       "8     1008\n",
       "20     987\n",
       "4      985\n",
       "26     953\n",
       "7      939\n",
       "13     928\n",
       "32     899\n",
       "18     856\n",
       "5      759\n",
       "Name: BP1_2C, dtype: int64"
      ]
     },
     "execution_count": 13,
     "metadata": {},
     "output_type": "execute_result"
    }
   ],
   "source": [
    "df_copy.BP1_2C.value_counts()"
   ]
  },
  {
   "cell_type": "code",
   "execution_count": 14,
   "metadata": {},
   "outputs": [
    {
     "data": {
      "text/plain": [
       "4      2530\n",
       "5      2524\n",
       "2      2384\n",
       "1      2377\n",
       "7      1812\n",
       "3      1631\n",
       "39     1409\n",
       "6      1358\n",
       "114    1338\n",
       "14     1194\n",
       "8      1124\n",
       "17     1019\n",
       "50      949\n",
       "20      939\n",
       "28      840\n",
       "30      786\n",
       "10      780\n",
       "33      761\n",
       "12      751\n",
       "11      666\n",
       "53      624\n",
       "9       588\n",
       "29      579\n",
       "19      542\n",
       "37      511\n",
       "35      478\n",
       "18      475\n",
       "101     464\n",
       "13      420\n",
       "38      412\n",
       "       ... \n",
       "234       2\n",
       "203       2\n",
       "349       2\n",
       "221       2\n",
       "141       2\n",
       "169       1\n",
       "384       1\n",
       "152       1\n",
       "412       1\n",
       "405       1\n",
       "375       1\n",
       "149       1\n",
       "294       1\n",
       "181       1\n",
       "424       1\n",
       "464       1\n",
       "261       1\n",
       "485       1\n",
       "215       1\n",
       "496       1\n",
       "153       1\n",
       "459       1\n",
       "196       1\n",
       "470       1\n",
       "482       1\n",
       "113       1\n",
       "150       1\n",
       "126       1\n",
       "136       1\n",
       "125       1\n",
       "Name: BP1_3C, Length: 248, dtype: int64"
      ]
     },
     "execution_count": 14,
     "metadata": {},
     "output_type": "execute_result"
    }
   ],
   "source": [
    "df_copy.BP1_3C.value_counts()"
   ]
  },
  {
   "cell_type": "code",
   "execution_count": 15,
   "metadata": {},
   "outputs": [
    {
     "data": {
      "text/plain": [
       "2    13712\n",
       "3    11967\n",
       "1     8859\n",
       "4     8491\n",
       "9     1670\n",
       "Name: BP1_4, dtype: int64"
      ]
     },
     "execution_count": 15,
     "metadata": {},
     "output_type": "execute_result"
    }
   ],
   "source": [
    "df_copy.BP1_4.value_counts()"
   ]
  },
  {
   "cell_type": "code",
   "execution_count": 16,
   "metadata": {},
   "outputs": [],
   "source": [
    "df_copy.BP1_4.replace({9:99}, inplace=True)"
   ]
  },
  {
   "cell_type": "code",
   "execution_count": 17,
   "metadata": {},
   "outputs": [
    {
     "data": {
      "text/plain": [
       "2     13712\n",
       "3     11967\n",
       "1      8859\n",
       "4      8491\n",
       "99     1670\n",
       "Name: BP1_4, dtype: int64"
      ]
     },
     "execution_count": 17,
     "metadata": {},
     "output_type": "execute_result"
    }
   ],
   "source": [
    "df_copy.BP1_4.value_counts()"
   ]
  },
  {
   "cell_type": "code",
   "execution_count": 18,
   "metadata": {},
   "outputs": [
    {
     "data": {
      "text/plain": [
       "2    21322\n",
       "1    14558\n",
       "4     2327\n",
       "3     1987\n",
       "5     1659\n",
       "6     1488\n",
       "8      910\n",
       "7      238\n",
       "9      210\n",
       "Name: BP1_5, dtype: int64"
      ]
     },
     "execution_count": 18,
     "metadata": {},
     "output_type": "execute_result"
    }
   ],
   "source": [
    "df_copy.BP1_5.value_counts()"
   ]
  },
  {
   "cell_type": "code",
   "execution_count": 19,
   "metadata": {},
   "outputs": [],
   "source": [
    "df_copy.BP1_5.replace({9:99}, inplace=True)"
   ]
  },
  {
   "cell_type": "code",
   "execution_count": 20,
   "metadata": {},
   "outputs": [
    {
     "data": {
      "text/plain": [
       "2     21322\n",
       "1     14558\n",
       "4      2327\n",
       "3      1987\n",
       "5      1659\n",
       "6      1488\n",
       "8       910\n",
       "7       238\n",
       "99      210\n",
       "Name: BP1_5, dtype: int64"
      ]
     },
     "execution_count": 20,
     "metadata": {},
     "output_type": "execute_result"
    }
   ],
   "source": [
    "df_copy.BP1_5.value_counts()"
   ]
  },
  {
   "cell_type": "code",
   "execution_count": 21,
   "metadata": {},
   "outputs": [
    {
     "data": {
      "text/plain": [
       "1.0    18247\n",
       "2.0    14935\n",
       "Name: BP1_6, dtype: int64"
      ]
     },
     "execution_count": 21,
     "metadata": {},
     "output_type": "execute_result"
    }
   ],
   "source": [
    "df_copy.BP1_6.value_counts()"
   ]
  },
  {
   "cell_type": "code",
   "execution_count": 22,
   "metadata": {},
   "outputs": [],
   "source": [
    "df_copy.BP1_6.replace({1.0:1,2.0:2}, inplace=True)"
   ]
  },
  {
   "cell_type": "code",
   "execution_count": 23,
   "metadata": {},
   "outputs": [
    {
     "data": {
      "text/plain": [
       "1.0    18247\n",
       "2.0    14935\n",
       "Name: BP1_6, dtype: int64"
      ]
     },
     "execution_count": 23,
     "metadata": {},
     "output_type": "execute_result"
    }
   ],
   "source": [
    "df_copy.BP1_6.value_counts()"
   ]
  },
  {
   "cell_type": "code",
   "execution_count": 24,
   "metadata": {},
   "outputs": [
    {
     "data": {
      "text/plain": [
       "1.0    13880\n",
       "2.0     4367\n",
       "Name: BP1_7, dtype: int64"
      ]
     },
     "execution_count": 24,
     "metadata": {},
     "output_type": "execute_result"
    }
   ],
   "source": [
    "df_copy.BP1_7.value_counts()"
   ]
  },
  {
   "cell_type": "code",
   "execution_count": 25,
   "metadata": {},
   "outputs": [
    {
     "data": {
      "text/plain": [
       "1.0    13880\n",
       "2.0     4367\n",
       "Name: BP1_7, dtype: int64"
      ]
     },
     "execution_count": 25,
     "metadata": {},
     "output_type": "execute_result"
    }
   ],
   "source": [
    "df_copy.BP1_7.replace({1.0:1,2.0:2}, inplace=True)\n",
    "df_copy.BP1_7.value_counts()"
   ]
  },
  {
   "cell_type": "code",
   "execution_count": 26,
   "metadata": {},
   "outputs": [
    {
     "data": {
      "text/plain": [
       "2.0    7616\n",
       "1.0    6208\n",
       "9.0      56\n",
       "Name: BP1_8, dtype: int64"
      ]
     },
     "execution_count": 26,
     "metadata": {},
     "output_type": "execute_result"
    }
   ],
   "source": [
    "df_copy.BP1_8.value_counts()"
   ]
  },
  {
   "cell_type": "code",
   "execution_count": 27,
   "metadata": {},
   "outputs": [
    {
     "data": {
      "text/plain": [
       "2.0     7616\n",
       "1.0     6208\n",
       "99.0      56\n",
       "Name: BP1_8, dtype: int64"
      ]
     },
     "execution_count": 27,
     "metadata": {},
     "output_type": "execute_result"
    }
   ],
   "source": [
    "df_copy.BP1_8.replace({1.0:1,2.0:2,9.0:99}, inplace=True)\n",
    "df_copy.BP1_8.value_counts()"
   ]
  },
  {
   "cell_type": "code",
   "execution_count": 28,
   "metadata": {},
   "outputs": [
    {
     "data": {
      "text/plain": [
       "1.0    6789\n",
       "2.0    3813\n",
       "3.0    1555\n",
       "4.0     533\n",
       "9.0     525\n",
       "6.0     464\n",
       "5.0     201\n",
       "Name: BP1_9, dtype: int64"
      ]
     },
     "execution_count": 28,
     "metadata": {},
     "output_type": "execute_result"
    }
   ],
   "source": [
    "df_copy.BP1_9.value_counts()"
   ]
  },
  {
   "cell_type": "code",
   "execution_count": 29,
   "metadata": {},
   "outputs": [
    {
     "data": {
      "text/plain": [
       "1      6789\n",
       "2      3813\n",
       "3      1555\n",
       "4       533\n",
       "9.0     525\n",
       "6       464\n",
       "5       201\n",
       "Name: BP1_9, dtype: int64"
      ]
     },
     "execution_count": 29,
     "metadata": {},
     "output_type": "execute_result"
    }
   ],
   "source": [
    "df_copy.BP1_9.replace({1.0:'1',2.0:'2',99.0:'99',3.0:'3',4.0:'4',5.0:'5',6.0:'6',}, inplace=True)\n",
    "df_copy.BP1_9.value_counts().astype('int64')"
   ]
  },
  {
   "cell_type": "code",
   "execution_count": 30,
   "metadata": {},
   "outputs": [
    {
     "data": {
      "text/plain": [
       "1.0    12573\n",
       "0.0     1307\n",
       "Name: BP1_10_1, dtype: int64"
      ]
     },
     "execution_count": 30,
     "metadata": {},
     "output_type": "execute_result"
    }
   ],
   "source": [
    "df_copy.BP1_10_1.value_counts()"
   ]
  },
  {
   "cell_type": "code",
   "execution_count": 31,
   "metadata": {},
   "outputs": [
    {
     "data": {
      "text/plain": [
       "1    12573\n",
       "0     1307\n",
       "Name: BP1_10_1, dtype: int64"
      ]
     },
     "execution_count": 31,
     "metadata": {},
     "output_type": "execute_result"
    }
   ],
   "source": [
    "df_copy.BP1_10_1.replace({1.0:'1',0.0:'0'}, inplace=True)\n",
    "df_copy.BP1_10_1.value_counts().astype('int64')"
   ]
  },
  {
   "cell_type": "code",
   "execution_count": 32,
   "metadata": {},
   "outputs": [
    {
     "data": {
      "text/plain": [
       "0.0    12109\n",
       "1.0     1771\n",
       "Name: BP1_10_2, dtype: int64"
      ]
     },
     "execution_count": 32,
     "metadata": {},
     "output_type": "execute_result"
    }
   ],
   "source": [
    "df_copy.BP1_10_2.value_counts()"
   ]
  },
  {
   "cell_type": "code",
   "execution_count": 33,
   "metadata": {},
   "outputs": [
    {
     "data": {
      "text/plain": [
       "0    12109\n",
       "1     1771\n",
       "Name: BP1_10_2, dtype: int64"
      ]
     },
     "execution_count": 33,
     "metadata": {},
     "output_type": "execute_result"
    }
   ],
   "source": [
    "df_copy.BP1_10_2.replace({1.0:'1',0.0:'0'}, inplace=True)\n",
    "df_copy.BP1_10_2.value_counts().astype('int64')"
   ]
  },
  {
   "cell_type": "code",
   "execution_count": 34,
   "metadata": {},
   "outputs": [
    {
     "data": {
      "text/plain": [
       "0.0    13473\n",
       "1.0      407\n",
       "Name: BP1_10_9, dtype: int64"
      ]
     },
     "execution_count": 34,
     "metadata": {},
     "output_type": "execute_result"
    }
   ],
   "source": [
    "df_copy.BP1_10_9.value_counts()"
   ]
  },
  {
   "cell_type": "code",
   "execution_count": 35,
   "metadata": {},
   "outputs": [
    {
     "data": {
      "text/plain": [
       "0    13473\n",
       "1      407\n",
       "Name: BP1_10_9, dtype: int64"
      ]
     },
     "execution_count": 35,
     "metadata": {},
     "output_type": "execute_result"
    }
   ],
   "source": [
    "df_copy.BP1_10_9.replace({1.0:'1',0.0:'0'}, inplace=True)\n",
    "df_copy.BP1_10_9.value_counts().astype('int64')"
   ]
  },
  {
   "cell_type": "code",
   "execution_count": 36,
   "metadata": {},
   "outputs": [
    {
     "data": {
      "text/plain": [
       "4.0    4201\n",
       "3.0    3567\n",
       "5.0    2472\n",
       "9.0    1639\n",
       "8.0     804\n",
       "6.0     723\n",
       "2.0     370\n",
       "7.0      89\n",
       "1.0      15\n",
       "Name: BP1_11, dtype: int64"
      ]
     },
     "execution_count": 36,
     "metadata": {},
     "output_type": "execute_result"
    }
   ],
   "source": [
    "df_copy.BP1_11.value_counts()"
   ]
  },
  {
   "cell_type": "code",
   "execution_count": 37,
   "metadata": {},
   "outputs": [
    {
     "data": {
      "text/plain": [
       "4     4201\n",
       "3     3567\n",
       "5     2472\n",
       "99    1639\n",
       "8      804\n",
       "6      723\n",
       "2      370\n",
       "7       89\n",
       "1       15\n",
       "Name: BP1_11, dtype: int64"
      ]
     },
     "execution_count": 37,
     "metadata": {},
     "output_type": "execute_result"
    }
   ],
   "source": [
    "df_copy.BP1_11.replace({1.0:'1',2.0:'2',3.0:'3',4.0:'4',5.0:'5',6.0:'6',7.0:'7',8.0:'8',9.0:'99'}, inplace=True)\n",
    "df_copy.BP1_11.value_counts().astype('int64')"
   ]
  },
  {
   "cell_type": "code",
   "execution_count": 38,
   "metadata": {},
   "outputs": [
    {
     "data": {
      "text/plain": [
       "1.0    10042\n",
       "0.0     3838\n",
       "Name: BP1_12_1, dtype: int64"
      ]
     },
     "execution_count": 38,
     "metadata": {},
     "output_type": "execute_result"
    }
   ],
   "source": [
    "df_copy.BP1_12_1.value_counts()"
   ]
  },
  {
   "cell_type": "code",
   "execution_count": 39,
   "metadata": {},
   "outputs": [
    {
     "data": {
      "text/plain": [
       "1    10042\n",
       "0     3838\n",
       "Name: BP1_12_1, dtype: int64"
      ]
     },
     "execution_count": 39,
     "metadata": {},
     "output_type": "execute_result"
    }
   ],
   "source": [
    "df_copy.BP1_12_1.replace({1.0:'1',0.0:'0'}, inplace=True)\n",
    "df_copy.BP1_12_1.value_counts().astype('int64')"
   ]
  },
  {
   "cell_type": "code",
   "execution_count": 40,
   "metadata": {},
   "outputs": [
    {
     "data": {
      "text/plain": [
       "0.0    12370\n",
       "1.0     1510\n",
       "Name: BP1_12_2, dtype: int64"
      ]
     },
     "execution_count": 40,
     "metadata": {},
     "output_type": "execute_result"
    }
   ],
   "source": [
    "df_copy.BP1_12_2.value_counts()"
   ]
  },
  {
   "cell_type": "code",
   "execution_count": 41,
   "metadata": {},
   "outputs": [
    {
     "data": {
      "text/plain": [
       "0    12370\n",
       "1     1510\n",
       "Name: BP1_12_2, dtype: int64"
      ]
     },
     "execution_count": 41,
     "metadata": {},
     "output_type": "execute_result"
    }
   ],
   "source": [
    "df_copy.BP1_12_2.replace({1.0:'1',0.0:'0'}, inplace=True)\n",
    "df_copy.BP1_12_2.value_counts().astype('int64')"
   ]
  },
  {
   "cell_type": "code",
   "execution_count": 42,
   "metadata": {},
   "outputs": [
    {
     "data": {
      "text/plain": [
       "0.0    13071\n",
       "1.0      809\n",
       "Name: BP1_12_3, dtype: int64"
      ]
     },
     "execution_count": 42,
     "metadata": {},
     "output_type": "execute_result"
    }
   ],
   "source": [
    "df_copy.BP1_12_3.value_counts()"
   ]
  },
  {
   "cell_type": "code",
   "execution_count": 43,
   "metadata": {},
   "outputs": [
    {
     "data": {
      "text/plain": [
       "0    13071\n",
       "1      809\n",
       "Name: BP1_12_3, dtype: int64"
      ]
     },
     "execution_count": 43,
     "metadata": {},
     "output_type": "execute_result"
    }
   ],
   "source": [
    "df_copy.BP1_12_3.replace({1.0:'1',0.0:'0'}, inplace=True)\n",
    "df_copy.BP1_12_3.value_counts().astype('int64')"
   ]
  },
  {
   "cell_type": "code",
   "execution_count": 44,
   "metadata": {},
   "outputs": [
    {
     "data": {
      "text/plain": [
       "0.0    13122\n",
       "1.0      758\n",
       "Name: BP1_12_4, dtype: int64"
      ]
     },
     "execution_count": 44,
     "metadata": {},
     "output_type": "execute_result"
    }
   ],
   "source": [
    "df_copy.BP1_12_4.value_counts()"
   ]
  },
  {
   "cell_type": "code",
   "execution_count": 45,
   "metadata": {},
   "outputs": [
    {
     "data": {
      "text/plain": [
       "0    13122\n",
       "1      758\n",
       "Name: BP1_12_4, dtype: int64"
      ]
     },
     "execution_count": 45,
     "metadata": {},
     "output_type": "execute_result"
    }
   ],
   "source": [
    "df_copy.BP1_12_4.replace({1.0:'1',0.0:'0'}, inplace=True)\n",
    "df_copy.BP1_12_4.value_counts().astype('int64')"
   ]
  },
  {
   "cell_type": "code",
   "execution_count": 46,
   "metadata": {},
   "outputs": [
    {
     "data": {
      "text/plain": [
       "0.0    13463\n",
       "1.0      417\n",
       "Name: BP1_12_5, dtype: int64"
      ]
     },
     "execution_count": 46,
     "metadata": {},
     "output_type": "execute_result"
    }
   ],
   "source": [
    "df_copy.BP1_12_5.value_counts()"
   ]
  },
  {
   "cell_type": "code",
   "execution_count": 47,
   "metadata": {},
   "outputs": [
    {
     "data": {
      "text/plain": [
       "0    13463\n",
       "1      417\n",
       "Name: BP1_12_5, dtype: int64"
      ]
     },
     "execution_count": 47,
     "metadata": {},
     "output_type": "execute_result"
    }
   ],
   "source": [
    "df_copy.BP1_12_5.replace({1.0:'1',0.0:'0'}, inplace=True)\n",
    "df_copy.BP1_12_5.value_counts().astype('int64')"
   ]
  },
  {
   "cell_type": "code",
   "execution_count": 48,
   "metadata": {},
   "outputs": [
    {
     "data": {
      "text/plain": [
       "0.0    13442\n",
       "1.0      438\n",
       "Name: BP1_12_9, dtype: int64"
      ]
     },
     "execution_count": 48,
     "metadata": {},
     "output_type": "execute_result"
    }
   ],
   "source": [
    "df_copy.BP1_12_9.value_counts()"
   ]
  },
  {
   "cell_type": "code",
   "execution_count": 49,
   "metadata": {},
   "outputs": [
    {
     "data": {
      "text/plain": [
       "0    13442\n",
       "1      438\n",
       "Name: BP1_12_9, dtype: int64"
      ]
     },
     "execution_count": 49,
     "metadata": {},
     "output_type": "execute_result"
    }
   ],
   "source": [
    "df_copy.BP1_12_9.replace({1.0:'1',0.0:'0'}, inplace=True)\n",
    "df_copy.BP1_12_9.value_counts().astype('int64')"
   ]
  },
  {
   "cell_type": "code",
   "execution_count": 50,
   "metadata": {},
   "outputs": [
    {
     "data": {
      "text/plain": [
       "2.0    7680\n",
       "1.0    2362\n",
       "Name: BP1_13, dtype: int64"
      ]
     },
     "execution_count": 50,
     "metadata": {},
     "output_type": "execute_result"
    }
   ],
   "source": [
    "df_copy.BP1_13.value_counts()"
   ]
  },
  {
   "cell_type": "code",
   "execution_count": 51,
   "metadata": {},
   "outputs": [
    {
     "data": {
      "text/plain": [
       "2    7680\n",
       "1    2362\n",
       "Name: BP1_13, dtype: int64"
      ]
     },
     "execution_count": 51,
     "metadata": {},
     "output_type": "execute_result"
    }
   ],
   "source": [
    "df_copy.BP1_13.replace({1.0:'1',2.0:2}, inplace=True)\n",
    "df_copy.BP1_13.value_counts().astype('int64')"
   ]
  },
  {
   "cell_type": "code",
   "execution_count": 52,
   "metadata": {},
   "outputs": [
    {
     "data": {
      "text/plain": [
       "0.0    11438\n",
       "1.0     2442\n",
       "Name: BP1_14_1, dtype: int64"
      ]
     },
     "execution_count": 52,
     "metadata": {},
     "output_type": "execute_result"
    }
   ],
   "source": [
    "df_copy.BP1_14_1.value_counts()"
   ]
  },
  {
   "cell_type": "code",
   "execution_count": 53,
   "metadata": {},
   "outputs": [
    {
     "data": {
      "text/plain": [
       "0    11438\n",
       "1     2442\n",
       "Name: BP1_14_1, dtype: int64"
      ]
     },
     "execution_count": 53,
     "metadata": {},
     "output_type": "execute_result"
    }
   ],
   "source": [
    "df_copy.BP1_14_1.replace({1.0:'1',0.0:'0'}, inplace=True)\n",
    "df_copy.BP1_14_1.value_counts().astype('int64')"
   ]
  },
  {
   "cell_type": "code",
   "execution_count": 54,
   "metadata": {},
   "outputs": [
    {
     "data": {
      "text/plain": [
       "0.0    11988\n",
       "1.0     1892\n",
       "Name: BP1_14_2, dtype: int64"
      ]
     },
     "execution_count": 54,
     "metadata": {},
     "output_type": "execute_result"
    }
   ],
   "source": [
    "df_copy.BP1_14_2.value_counts()"
   ]
  },
  {
   "cell_type": "code",
   "execution_count": 55,
   "metadata": {},
   "outputs": [
    {
     "data": {
      "text/plain": [
       "0    11988\n",
       "1     1892\n",
       "Name: BP1_14_2, dtype: int64"
      ]
     },
     "execution_count": 55,
     "metadata": {},
     "output_type": "execute_result"
    }
   ],
   "source": [
    "df_copy.BP1_14_2.replace({1.0:'1',0.0:'0'}, inplace=True)\n",
    "df_copy.BP1_14_2.value_counts().astype('int64')"
   ]
  },
  {
   "cell_type": "code",
   "execution_count": 56,
   "metadata": {},
   "outputs": [
    {
     "data": {
      "text/plain": [
       "0.0    13871\n",
       "1.0        9\n",
       "Name: BP1_14_3, dtype: int64"
      ]
     },
     "execution_count": 56,
     "metadata": {},
     "output_type": "execute_result"
    }
   ],
   "source": [
    "df_copy.BP1_14_3.value_counts()"
   ]
  },
  {
   "cell_type": "code",
   "execution_count": 57,
   "metadata": {},
   "outputs": [
    {
     "data": {
      "text/plain": [
       "0    13871\n",
       "1        9\n",
       "Name: BP1_14_3, dtype: int64"
      ]
     },
     "execution_count": 57,
     "metadata": {},
     "output_type": "execute_result"
    }
   ],
   "source": [
    "df_copy.BP1_14_3.replace({1.0:'1',0.0:'0'}, inplace=True)\n",
    "df_copy.BP1_14_3.value_counts().astype('int64')"
   ]
  },
  {
   "cell_type": "code",
   "execution_count": 58,
   "metadata": {},
   "outputs": [
    {
     "data": {
      "text/plain": [
       "0.0    7042\n",
       "1.0    6838\n",
       "Name: BP1_14_4, dtype: int64"
      ]
     },
     "execution_count": 58,
     "metadata": {},
     "output_type": "execute_result"
    }
   ],
   "source": [
    "df_copy.BP1_14_4.value_counts()"
   ]
  },
  {
   "cell_type": "code",
   "execution_count": 59,
   "metadata": {},
   "outputs": [
    {
     "data": {
      "text/plain": [
       "0    7042\n",
       "1    6838\n",
       "Name: BP1_14_4, dtype: int64"
      ]
     },
     "execution_count": 59,
     "metadata": {},
     "output_type": "execute_result"
    }
   ],
   "source": [
    "df_copy.BP1_14_4.replace({1.0:'1',0.0:'0'}, inplace=True)\n",
    "df_copy.BP1_14_4.value_counts().astype('int64')"
   ]
  },
  {
   "cell_type": "code",
   "execution_count": 60,
   "metadata": {},
   "outputs": [
    {
     "data": {
      "text/plain": [
       "0.0    10675\n",
       "1.0     3205\n",
       "Name: BP1_14_9, dtype: int64"
      ]
     },
     "execution_count": 60,
     "metadata": {},
     "output_type": "execute_result"
    }
   ],
   "source": [
    "df_copy.BP1_14_9.value_counts()"
   ]
  },
  {
   "cell_type": "code",
   "execution_count": 61,
   "metadata": {},
   "outputs": [
    {
     "data": {
      "text/plain": [
       "0    10675\n",
       "1     3205\n",
       "Name: BP1_14_9, dtype: int64"
      ]
     },
     "execution_count": 61,
     "metadata": {},
     "output_type": "execute_result"
    }
   ],
   "source": [
    "df_copy.BP1_14_9.replace({1.0:'1',0.0:'0'}, inplace=True)\n",
    "df_copy.BP1_14_9.value_counts().astype('int64')"
   ]
  },
  {
   "cell_type": "code",
   "execution_count": 62,
   "metadata": {},
   "outputs": [
    {
     "data": {
      "text/plain": [
       "2.0    6595\n",
       "1.0    5064\n",
       "9.0    2221\n",
       "Name: BP1_15, dtype: int64"
      ]
     },
     "execution_count": 62,
     "metadata": {},
     "output_type": "execute_result"
    }
   ],
   "source": [
    "df_copy.BP1_15.value_counts()"
   ]
  },
  {
   "cell_type": "code",
   "execution_count": 63,
   "metadata": {},
   "outputs": [
    {
     "data": {
      "text/plain": [
       "0     6595\n",
       "1     5064\n",
       "99    2221\n",
       "Name: BP1_15, dtype: int64"
      ]
     },
     "execution_count": 63,
     "metadata": {},
     "output_type": "execute_result"
    }
   ],
   "source": [
    "df_copy.BP1_15.replace({1.0:'1',2.0:'0',9.0:'99'}, inplace=True)\n",
    "df_copy.BP1_15.value_counts().astype('int64')"
   ]
  },
  {
   "cell_type": "code",
   "execution_count": 64,
   "metadata": {},
   "outputs": [
    {
     "data": {
      "text/plain": [
       "1.0    2942\n",
       "0.0    2122\n",
       "Name: BP1_16_1, dtype: int64"
      ]
     },
     "execution_count": 64,
     "metadata": {},
     "output_type": "execute_result"
    }
   ],
   "source": [
    "df_copy.BP1_16_1.value_counts()"
   ]
  },
  {
   "cell_type": "code",
   "execution_count": 65,
   "metadata": {},
   "outputs": [
    {
     "data": {
      "text/plain": [
       "1    2942\n",
       "0    2122\n",
       "Name: BP1_16_1, dtype: int64"
      ]
     },
     "execution_count": 65,
     "metadata": {},
     "output_type": "execute_result"
    }
   ],
   "source": [
    "df_copy.BP1_16_1.replace({1.0:'1',0.0:'0'}, inplace=True)\n",
    "df_copy.BP1_16_1.value_counts().astype('int64')"
   ]
  },
  {
   "cell_type": "code",
   "execution_count": 66,
   "metadata": {},
   "outputs": [
    {
     "data": {
      "text/plain": [
       "0.0    2789\n",
       "1.0    2275\n",
       "Name: BP1_16_2, dtype: int64"
      ]
     },
     "execution_count": 66,
     "metadata": {},
     "output_type": "execute_result"
    }
   ],
   "source": [
    "df_copy.BP1_16_2.value_counts()"
   ]
  },
  {
   "cell_type": "code",
   "execution_count": 67,
   "metadata": {},
   "outputs": [
    {
     "data": {
      "text/plain": [
       "1    2942\n",
       "0    2122\n",
       "Name: BP1_16_1, dtype: int64"
      ]
     },
     "execution_count": 67,
     "metadata": {},
     "output_type": "execute_result"
    }
   ],
   "source": [
    "df_copy.BP1_16_1.replace({1.0:'1',0.0:'0'}, inplace=True)\n",
    "df_copy.BP1_16_1.value_counts().astype('int64')"
   ]
  },
  {
   "cell_type": "code",
   "execution_count": 68,
   "metadata": {},
   "outputs": [
    {
     "data": {
      "text/plain": [
       "0.0    2789\n",
       "1.0    2275\n",
       "Name: BP1_16_2, dtype: int64"
      ]
     },
     "execution_count": 68,
     "metadata": {},
     "output_type": "execute_result"
    }
   ],
   "source": [
    "df_copy.BP1_16_2.value_counts()"
   ]
  },
  {
   "cell_type": "code",
   "execution_count": 69,
   "metadata": {},
   "outputs": [
    {
     "data": {
      "text/plain": [
       "0    2789\n",
       "1    2275\n",
       "Name: BP1_16_2, dtype: int64"
      ]
     },
     "execution_count": 69,
     "metadata": {},
     "output_type": "execute_result"
    }
   ],
   "source": [
    "df_copy.BP1_16_2.replace({1.0:'1',0.0:'0'}, inplace=True)\n",
    "df_copy.BP1_16_2.value_counts().astype('int64')"
   ]
  },
  {
   "cell_type": "code",
   "execution_count": 70,
   "metadata": {},
   "outputs": [
    {
     "data": {
      "text/plain": [
       "0.0    4891\n",
       "1.0     173\n",
       "Name: BP1_16_3, dtype: int64"
      ]
     },
     "execution_count": 70,
     "metadata": {},
     "output_type": "execute_result"
    }
   ],
   "source": [
    "df_copy.BP1_16_3.value_counts()"
   ]
  },
  {
   "cell_type": "code",
   "execution_count": 71,
   "metadata": {},
   "outputs": [
    {
     "data": {
      "text/plain": [
       "0    4891\n",
       "1     173\n",
       "Name: BP1_16_3, dtype: int64"
      ]
     },
     "execution_count": 71,
     "metadata": {},
     "output_type": "execute_result"
    }
   ],
   "source": [
    "df_copy.BP1_16_3.replace({1.0:'1',0.0:'0'}, inplace=True)\n",
    "df_copy.BP1_16_3.value_counts().astype('int64')"
   ]
  },
  {
   "cell_type": "code",
   "execution_count": 72,
   "metadata": {},
   "outputs": [
    {
     "data": {
      "text/plain": [
       "0.0    5028\n",
       "1.0      36\n",
       "Name: BP1_16_4, dtype: int64"
      ]
     },
     "execution_count": 72,
     "metadata": {},
     "output_type": "execute_result"
    }
   ],
   "source": [
    "df_copy.BP1_16_4.value_counts()"
   ]
  },
  {
   "cell_type": "code",
   "execution_count": 73,
   "metadata": {},
   "outputs": [
    {
     "data": {
      "text/plain": [
       "0    5028\n",
       "1      36\n",
       "Name: BP1_16_4, dtype: int64"
      ]
     },
     "execution_count": 73,
     "metadata": {},
     "output_type": "execute_result"
    }
   ],
   "source": [
    "df_copy.BP1_16_4.replace({1.0:'1',0.0:'0'}, inplace=True)\n",
    "df_copy.BP1_16_4.value_counts().astype('int64')"
   ]
  },
  {
   "cell_type": "code",
   "execution_count": 74,
   "metadata": {},
   "outputs": [
    {
     "data": {
      "text/plain": [
       "0.0    5027\n",
       "1.0      37\n",
       "Name: BP1_16_9, dtype: int64"
      ]
     },
     "execution_count": 74,
     "metadata": {},
     "output_type": "execute_result"
    }
   ],
   "source": [
    "df_copy.BP1_16_9.value_counts()"
   ]
  },
  {
   "cell_type": "code",
   "execution_count": 75,
   "metadata": {},
   "outputs": [
    {
     "data": {
      "text/plain": [
       "0    5027\n",
       "1      37\n",
       "Name: BP1_16_9, dtype: int64"
      ]
     },
     "execution_count": 75,
     "metadata": {},
     "output_type": "execute_result"
    }
   ],
   "source": [
    "df_copy.BP1_16_9.replace({1.0:'1',0.0:'0'}, inplace=True)\n",
    "df_copy.BP1_16_9.value_counts().astype('int64')"
   ]
  },
  {
   "cell_type": "code",
   "execution_count": 76,
   "metadata": {},
   "outputs": [
    {
     "data": {
      "text/plain": [
       "2.0    4399\n",
       "1.0     659\n",
       "9.0       6\n",
       "Name: BP1_17, dtype: int64"
      ]
     },
     "execution_count": 76,
     "metadata": {},
     "output_type": "execute_result"
    }
   ],
   "source": [
    "df_copy.BP1_17.value_counts()"
   ]
  },
  {
   "cell_type": "code",
   "execution_count": 77,
   "metadata": {},
   "outputs": [
    {
     "data": {
      "text/plain": [
       "0     4399\n",
       "1      659\n",
       "99       6\n",
       "Name: BP1_17, dtype: int64"
      ]
     },
     "execution_count": 77,
     "metadata": {},
     "output_type": "execute_result"
    }
   ],
   "source": [
    "df_copy.BP1_17.replace({1.0:'1',2.0:'0',9.0:'99'}, inplace=True)\n",
    "df_copy.BP1_17.value_counts().astype('int64')"
   ]
  },
  {
   "cell_type": "code",
   "execution_count": 78,
   "metadata": {},
   "outputs": [
    {
     "data": {
      "text/plain": [
       "2.0    10844\n",
       "1.0     1956\n",
       "9.0      421\n",
       "Name: BP1_18, dtype: int64"
      ]
     },
     "execution_count": 78,
     "metadata": {},
     "output_type": "execute_result"
    }
   ],
   "source": [
    "df_copy.BP1_18.value_counts()"
   ]
  },
  {
   "cell_type": "code",
   "execution_count": 79,
   "metadata": {},
   "outputs": [
    {
     "data": {
      "text/plain": [
       "0     10844\n",
       "1      1956\n",
       "99      421\n",
       "Name: BP1_18, dtype: int64"
      ]
     },
     "execution_count": 79,
     "metadata": {},
     "output_type": "execute_result"
    }
   ],
   "source": [
    "df_copy.BP1_18.replace({1.0:'1',2.0:'0',9.0:'99'}, inplace=True)\n",
    "df_copy.BP1_18.value_counts().astype('int64')"
   ]
  },
  {
   "cell_type": "code",
   "execution_count": 80,
   "metadata": {},
   "outputs": [
    {
     "data": {
      "text/plain": [
       "1.0    1809\n",
       "0.0     806\n",
       "Name: BP1_19_1, dtype: int64"
      ]
     },
     "execution_count": 80,
     "metadata": {},
     "output_type": "execute_result"
    }
   ],
   "source": [
    "df_copy.BP1_19_1.value_counts()"
   ]
  },
  {
   "cell_type": "code",
   "execution_count": 81,
   "metadata": {},
   "outputs": [
    {
     "data": {
      "text/plain": [
       "1    1809\n",
       "0     806\n",
       "Name: BP1_19_1, dtype: int64"
      ]
     },
     "execution_count": 81,
     "metadata": {},
     "output_type": "execute_result"
    }
   ],
   "source": [
    "df_copy.BP1_19_1.replace({1.0:'1',0.0:'0'}, inplace=True)\n",
    "df_copy.BP1_19_1.value_counts().astype('int64')"
   ]
  },
  {
   "cell_type": "code",
   "execution_count": 82,
   "metadata": {},
   "outputs": [
    {
     "data": {
      "text/plain": [
       "0.0    2150\n",
       "1.0     465\n",
       "Name: BP1_19_2, dtype: int64"
      ]
     },
     "execution_count": 82,
     "metadata": {},
     "output_type": "execute_result"
    }
   ],
   "source": [
    "df_copy.BP1_19_2.value_counts()"
   ]
  },
  {
   "cell_type": "code",
   "execution_count": 83,
   "metadata": {},
   "outputs": [
    {
     "data": {
      "text/plain": [
       "0    2150\n",
       "1     465\n",
       "Name: BP1_19_2, dtype: int64"
      ]
     },
     "execution_count": 83,
     "metadata": {},
     "output_type": "execute_result"
    }
   ],
   "source": [
    "df_copy.BP1_19_2.replace({1.0:'1',0.0:'0'}, inplace=True)\n",
    "df_copy.BP1_19_2.value_counts().astype('int64')"
   ]
  },
  {
   "cell_type": "code",
   "execution_count": 84,
   "metadata": {},
   "outputs": [
    {
     "data": {
      "text/plain": [
       "0.0    2541\n",
       "1.0      74\n",
       "Name: BP1_19_3, dtype: int64"
      ]
     },
     "execution_count": 84,
     "metadata": {},
     "output_type": "execute_result"
    }
   ],
   "source": [
    "df_copy.BP1_19_3.value_counts()"
   ]
  },
  {
   "cell_type": "code",
   "execution_count": 85,
   "metadata": {},
   "outputs": [
    {
     "data": {
      "text/plain": [
       "0    2541\n",
       "1      74\n",
       "Name: BP1_19_3, dtype: int64"
      ]
     },
     "execution_count": 85,
     "metadata": {},
     "output_type": "execute_result"
    }
   ],
   "source": [
    "df_copy.BP1_19_3.replace({1.0:'1',0.0:'0'}, inplace=True)\n",
    "df_copy.BP1_19_3.value_counts().astype('int64')"
   ]
  },
  {
   "cell_type": "code",
   "execution_count": 86,
   "metadata": {},
   "outputs": [
    {
     "data": {
      "text/plain": [
       "0.0    2454\n",
       "1.0     161\n",
       "Name: BP1_19_4, dtype: int64"
      ]
     },
     "execution_count": 86,
     "metadata": {},
     "output_type": "execute_result"
    }
   ],
   "source": [
    "df_copy.BP1_19_4.value_counts()"
   ]
  },
  {
   "cell_type": "code",
   "execution_count": 87,
   "metadata": {},
   "outputs": [
    {
     "data": {
      "text/plain": [
       "0    2454\n",
       "1     161\n",
       "Name: BP1_19_4, dtype: int64"
      ]
     },
     "execution_count": 87,
     "metadata": {},
     "output_type": "execute_result"
    }
   ],
   "source": [
    "df_copy.BP1_19_4.replace({1.0:'1',0.0:'0'}, inplace=True)\n",
    "df_copy.BP1_19_4.value_counts().astype('int64')"
   ]
  },
  {
   "cell_type": "code",
   "execution_count": 88,
   "metadata": {},
   "outputs": [
    {
     "data": {
      "text/plain": [
       "0.0    2604\n",
       "1.0      11\n",
       "Name: BP1_19_5, dtype: int64"
      ]
     },
     "execution_count": 88,
     "metadata": {},
     "output_type": "execute_result"
    }
   ],
   "source": [
    "df_copy.BP1_19_5.value_counts()"
   ]
  },
  {
   "cell_type": "code",
   "execution_count": 89,
   "metadata": {},
   "outputs": [
    {
     "data": {
      "text/plain": [
       "0    2604\n",
       "1      11\n",
       "Name: BP1_19_5, dtype: int64"
      ]
     },
     "execution_count": 89,
     "metadata": {},
     "output_type": "execute_result"
    }
   ],
   "source": [
    "df_copy.BP1_19_5.replace({1.0:'1',0.0:'0'}, inplace=True)\n",
    "df_copy.BP1_19_5.value_counts().astype('int64')"
   ]
  },
  {
   "cell_type": "code",
   "execution_count": 90,
   "metadata": {},
   "outputs": [
    {
     "data": {
      "text/plain": [
       "0.0    2541\n",
       "1.0      74\n",
       "Name: BP1_19_6, dtype: int64"
      ]
     },
     "execution_count": 90,
     "metadata": {},
     "output_type": "execute_result"
    }
   ],
   "source": [
    "df_copy.BP1_19_6.value_counts()"
   ]
  },
  {
   "cell_type": "code",
   "execution_count": 91,
   "metadata": {},
   "outputs": [
    {
     "data": {
      "text/plain": [
       "0    2541\n",
       "1      74\n",
       "Name: BP1_19_6, dtype: int64"
      ]
     },
     "execution_count": 91,
     "metadata": {},
     "output_type": "execute_result"
    }
   ],
   "source": [
    "df_copy.BP1_19_6.replace({1.0:'1',0.0:'0'}, inplace=True)\n",
    "df_copy.BP1_19_6.value_counts().astype('int64')"
   ]
  },
  {
   "cell_type": "code",
   "execution_count": 92,
   "metadata": {},
   "outputs": [
    {
     "data": {
      "text/plain": [
       "0.0    2595\n",
       "1.0      20\n",
       "Name: BP1_19_7, dtype: int64"
      ]
     },
     "execution_count": 92,
     "metadata": {},
     "output_type": "execute_result"
    }
   ],
   "source": [
    "df_copy.BP1_19_7.value_counts()"
   ]
  },
  {
   "cell_type": "code",
   "execution_count": 93,
   "metadata": {},
   "outputs": [
    {
     "data": {
      "text/plain": [
       "0    2595\n",
       "1      20\n",
       "Name: BP1_19_7, dtype: int64"
      ]
     },
     "execution_count": 93,
     "metadata": {},
     "output_type": "execute_result"
    }
   ],
   "source": [
    "df_copy.BP1_19_7.replace({1.0:'1',0.0:'0'}, inplace=True)\n",
    "df_copy.BP1_19_7.value_counts().astype('int64')"
   ]
  },
  {
   "cell_type": "code",
   "execution_count": 94,
   "metadata": {},
   "outputs": [
    {
     "data": {
      "text/plain": [
       "0.0    2109\n",
       "1.0     506\n",
       "Name: BP1_19_8, dtype: int64"
      ]
     },
     "execution_count": 94,
     "metadata": {},
     "output_type": "execute_result"
    }
   ],
   "source": [
    "df_copy.BP1_19_8.value_counts()"
   ]
  },
  {
   "cell_type": "code",
   "execution_count": 95,
   "metadata": {},
   "outputs": [
    {
     "data": {
      "text/plain": [
       "0    2109\n",
       "1     506\n",
       "Name: BP1_19_8, dtype: int64"
      ]
     },
     "execution_count": 95,
     "metadata": {},
     "output_type": "execute_result"
    }
   ],
   "source": [
    "df_copy.BP1_19_8.replace({1.0:'1',0.0:'0'}, inplace=True)\n",
    "df_copy.BP1_19_8.value_counts().astype('int64')"
   ]
  },
  {
   "cell_type": "code",
   "execution_count": 96,
   "metadata": {},
   "outputs": [
    {
     "data": {
      "text/plain": [
       "2    39661\n",
       "1     5038\n",
       "Name: BP1_20, dtype: int64"
      ]
     },
     "execution_count": 96,
     "metadata": {},
     "output_type": "execute_result"
    }
   ],
   "source": [
    "df_copy.BP1_20.value_counts()"
   ]
  },
  {
   "cell_type": "code",
   "execution_count": 97,
   "metadata": {},
   "outputs": [
    {
     "data": {
      "text/plain": [
       "2.0    19690\n",
       "1.0      173\n",
       "9.0       93\n",
       "Name: BP1_21, dtype: int64"
      ]
     },
     "execution_count": 97,
     "metadata": {},
     "output_type": "execute_result"
    }
   ],
   "source": [
    "df_copy.BP1_21.value_counts()"
   ]
  },
  {
   "cell_type": "code",
   "execution_count": 98,
   "metadata": {},
   "outputs": [
    {
     "data": {
      "text/plain": [
       "2     19690\n",
       "1       173\n",
       "99       93\n",
       "Name: BP1_21, dtype: int64"
      ]
     },
     "execution_count": 98,
     "metadata": {},
     "output_type": "execute_result"
    }
   ],
   "source": [
    "df_copy.BP1_21.replace({1.0:'1',2.0:'2',9.0:'99'}, inplace=True)\n",
    "df_copy.BP1_21.value_counts().astype('int64')"
   ]
  },
  {
   "cell_type": "code",
   "execution_count": 99,
   "metadata": {},
   "outputs": [
    {
     "data": {
      "text/plain": [
       "2.0    119\n",
       "1.0     54\n",
       "Name: BP1_22, dtype: int64"
      ]
     },
     "execution_count": 99,
     "metadata": {},
     "output_type": "execute_result"
    }
   ],
   "source": [
    "df_copy.BP1_22.value_counts()"
   ]
  },
  {
   "cell_type": "code",
   "execution_count": 100,
   "metadata": {},
   "outputs": [
    {
     "data": {
      "text/plain": [
       "2    119\n",
       "1     54\n",
       "Name: BP1_22, dtype: int64"
      ]
     },
     "execution_count": 100,
     "metadata": {},
     "output_type": "execute_result"
    }
   ],
   "source": [
    "df_copy.BP1_22.replace({1.0:'1',2.0:'2'}, inplace=True)\n",
    "df_copy.BP1_22.value_counts().astype('int64')"
   ]
  },
  {
   "cell_type": "code",
   "execution_count": 101,
   "metadata": {},
   "outputs": [
    {
     "data": {
      "text/plain": [
       "4.0     12705\n",
       "6.0      6344\n",
       "3.0      5229\n",
       "7.0      4465\n",
       "9.0      3375\n",
       "5.0      2878\n",
       "1.0      2360\n",
       "8.0      1729\n",
       "99.0      202\n",
       "2.0       201\n",
       "Name: BP1_23, dtype: int64"
      ]
     },
     "execution_count": 101,
     "metadata": {},
     "output_type": "execute_result"
    }
   ],
   "source": [
    "df_copy.BP1_23.value_counts()"
   ]
  },
  {
   "cell_type": "code",
   "execution_count": 102,
   "metadata": {},
   "outputs": [
    {
     "data": {
      "text/plain": [
       "4     12705\n",
       "6      6344\n",
       "3      5229\n",
       "7      4465\n",
       "9      3375\n",
       "5      2878\n",
       "1      2360\n",
       "8      1729\n",
       "99      202\n",
       "2       201\n",
       "Name: BP1_23, dtype: int64"
      ]
     },
     "execution_count": 102,
     "metadata": {},
     "output_type": "execute_result"
    }
   ],
   "source": [
    "df_copy.BP1_23.replace({1.0:'1',2.0:'2',3.0:'3',4.0:'4',5.0:'5',6.0:'6',7.0:'7',8.0:'8',9.0:'9',99.0:'99'}, inplace=True)\n",
    "df_copy.BP1_23.value_counts().astype('int64')"
   ]
  },
  {
   "cell_type": "code",
   "execution_count": 103,
   "metadata": {},
   "outputs": [
    {
     "data": {
      "text/plain": [
       "1.0    3349\n",
       "2.0    1497\n",
       "9.0     246\n",
       "Name: BP1_24, dtype: int64"
      ]
     },
     "execution_count": 103,
     "metadata": {},
     "output_type": "execute_result"
    }
   ],
   "source": [
    "df_copy.BP1_24.value_counts()"
   ]
  },
  {
   "cell_type": "code",
   "execution_count": 104,
   "metadata": {},
   "outputs": [
    {
     "data": {
      "text/plain": [
       "1     3349\n",
       "2     1497\n",
       "99     246\n",
       "Name: BP1_24, dtype: int64"
      ]
     },
     "execution_count": 104,
     "metadata": {},
     "output_type": "execute_result"
    }
   ],
   "source": [
    "df_copy.BP1_24.replace({1.0:'1',2.0:'2',9.0:'99'}, inplace=True)\n",
    "df_copy.BP1_24.value_counts().astype('int64')"
   ]
  },
  {
   "cell_type": "code",
   "execution_count": 105,
   "metadata": {},
   "outputs": [
    {
     "data": {
      "text/plain": [
       "5.0    1729\n",
       "2.0     685\n",
       "3.0     439\n",
       "4.0     258\n",
       "6.0      96\n",
       "1.0      93\n",
       "9.0      49\n",
       "Name: BP1_25, dtype: int64"
      ]
     },
     "execution_count": 105,
     "metadata": {},
     "output_type": "execute_result"
    }
   ],
   "source": [
    "df_copy.BP1_25.value_counts()"
   ]
  },
  {
   "cell_type": "code",
   "execution_count": 106,
   "metadata": {},
   "outputs": [
    {
     "data": {
      "text/plain": [
       "5     1729\n",
       "2      685\n",
       "3      439\n",
       "4      258\n",
       "6       96\n",
       "1       93\n",
       "99      49\n",
       "Name: BP1_25, dtype: int64"
      ]
     },
     "execution_count": 106,
     "metadata": {},
     "output_type": "execute_result"
    }
   ],
   "source": [
    "df_copy.BP1_25.replace({1.0:'1',2.0:'2',3.0:'3',4.0:'4',5.0:'5',6.0:'6',9.0:'99'}, inplace=True)\n",
    "df_copy.BP1_25.value_counts().astype('int64')"
   ]
  },
  {
   "cell_type": "code",
   "execution_count": 107,
   "metadata": {},
   "outputs": [
    {
     "data": {
      "text/plain": [
       "4.0    481\n",
       "2.0    427\n",
       "6.0    164\n",
       "3.0    156\n",
       "1.0    137\n",
       "9.0     94\n",
       "5.0     38\n",
       "Name: BP1_26, dtype: int64"
      ]
     },
     "execution_count": 107,
     "metadata": {},
     "output_type": "execute_result"
    }
   ],
   "source": [
    "df_copy.BP1_26.value_counts()"
   ]
  },
  {
   "cell_type": "code",
   "execution_count": 108,
   "metadata": {},
   "outputs": [
    {
     "data": {
      "text/plain": [
       "4     481\n",
       "2     427\n",
       "6     164\n",
       "3     156\n",
       "1     137\n",
       "99     94\n",
       "5      38\n",
       "Name: BP1_26, dtype: int64"
      ]
     },
     "execution_count": 108,
     "metadata": {},
     "output_type": "execute_result"
    }
   ],
   "source": [
    "df_copy.BP1_26.replace({1.0:'1',2.0:'2',3.0:'3',4.0:'4',5.0:'5',6.0:'6',9.0:'99'}, inplace=True)\n",
    "df_copy.BP1_26.value_counts().astype('int64')"
   ]
  },
  {
   "cell_type": "code",
   "execution_count": 109,
   "metadata": {},
   "outputs": [
    {
     "data": {
      "text/plain": [
       "2.0    1888\n",
       "4.0    1318\n",
       "3.0     975\n",
       "1.0     910\n",
       "9.0       1\n",
       "Name: BP1_27, dtype: int64"
      ]
     },
     "execution_count": 109,
     "metadata": {},
     "output_type": "execute_result"
    }
   ],
   "source": [
    "df_copy.BP1_27.value_counts()"
   ]
  },
  {
   "cell_type": "code",
   "execution_count": 110,
   "metadata": {},
   "outputs": [
    {
     "data": {
      "text/plain": [
       "2     1888\n",
       "4     1318\n",
       "3      975\n",
       "1      910\n",
       "99       1\n",
       "Name: BP1_27, dtype: int64"
      ]
     },
     "execution_count": 110,
     "metadata": {},
     "output_type": "execute_result"
    }
   ],
   "source": [
    "df_copy.BP1_27.replace({1.0:'1',2.0:'2',3.0:'3',4.0:'4',9.0:'99'}, inplace=True)\n",
    "df_copy.BP1_27.value_counts().astype('int64')"
   ]
  },
  {
   "cell_type": "code",
   "execution_count": 111,
   "metadata": {},
   "outputs": [
    {
     "data": {
      "text/plain": [
       "3.0    1875\n",
       "2.0    1550\n",
       "5.0     551\n",
       "4.0     513\n",
       "6.0     338\n",
       "1.0     257\n",
       "9.0       8\n",
       "Name: BP1_28, dtype: int64"
      ]
     },
     "execution_count": 111,
     "metadata": {},
     "output_type": "execute_result"
    }
   ],
   "source": [
    "df_copy.BP1_28.value_counts()"
   ]
  },
  {
   "cell_type": "code",
   "execution_count": 112,
   "metadata": {},
   "outputs": [
    {
     "data": {
      "text/plain": [
       "3     1875\n",
       "2     1550\n",
       "5      551\n",
       "4      513\n",
       "6      338\n",
       "1      257\n",
       "99       8\n",
       "Name: BP1_28, dtype: int64"
      ]
     },
     "execution_count": 112,
     "metadata": {},
     "output_type": "execute_result"
    }
   ],
   "source": [
    "df_copy.BP1_28.replace({1.0:'1',2.0:'2',3.0:'3',4.0:'4',5.0:'5',6.0:'6',9.0:'99'}, inplace=True)\n",
    "df_copy.BP1_28.value_counts().astype('int64')"
   ]
  },
  {
   "cell_type": "code",
   "execution_count": 113,
   "metadata": {},
   "outputs": [
    {
     "data": {
      "text/plain": [
       "2.0    2415\n",
       "3.0    1413\n",
       "4.0     919\n",
       "1.0     345\n",
       "Name: BP1_29, dtype: int64"
      ]
     },
     "execution_count": 113,
     "metadata": {},
     "output_type": "execute_result"
    }
   ],
   "source": [
    "df_copy.BP1_29.value_counts()"
   ]
  },
  {
   "cell_type": "code",
   "execution_count": 114,
   "metadata": {},
   "outputs": [
    {
     "data": {
      "text/plain": [
       "2    2415\n",
       "3    1413\n",
       "4     919\n",
       "1     345\n",
       "Name: BP1_29, dtype: int64"
      ]
     },
     "execution_count": 114,
     "metadata": {},
     "output_type": "execute_result"
    }
   ],
   "source": [
    "df_copy.BP1_29.replace({1.0:'1',2.0:'2',3.0:'3',4.0:'4'}, inplace=True)\n",
    "df_copy.BP1_29.value_counts().astype('int64')"
   ]
  },
  {
   "cell_type": "code",
   "execution_count": 115,
   "metadata": {},
   "outputs": [
    {
     "data": {
      "text/plain": [
       "2    41256\n",
       "1     3443\n",
       "Name: BP1_30, dtype: int64"
      ]
     },
     "execution_count": 115,
     "metadata": {},
     "output_type": "execute_result"
    }
   ],
   "source": [
    "df_copy.BP1_30.value_counts()"
   ]
  },
  {
   "cell_type": "code",
   "execution_count": 116,
   "metadata": {},
   "outputs": [
    {
     "data": {
      "text/plain": [
       "0.0    3155\n",
       "1.0     288\n",
       "Name: BP1_31_1, dtype: int64"
      ]
     },
     "execution_count": 116,
     "metadata": {},
     "output_type": "execute_result"
    }
   ],
   "source": [
    "df_copy.BP1_31_1.value_counts()"
   ]
  },
  {
   "cell_type": "code",
   "execution_count": 117,
   "metadata": {},
   "outputs": [
    {
     "data": {
      "text/plain": [
       "0    3155\n",
       "1     288\n",
       "Name: BP1_31_1, dtype: int64"
      ]
     },
     "execution_count": 117,
     "metadata": {},
     "output_type": "execute_result"
    }
   ],
   "source": [
    "df_copy.BP1_31_1.replace({1.0:'1',0.0:'0'}, inplace=True)\n",
    "df_copy.BP1_31_1.value_counts().astype('int64')"
   ]
  },
  {
   "cell_type": "code",
   "execution_count": 118,
   "metadata": {},
   "outputs": [
    {
     "data": {
      "text/plain": [
       "0.0    1723\n",
       "1.0    1720\n",
       "Name: BP1_31_2, dtype: int64"
      ]
     },
     "execution_count": 118,
     "metadata": {},
     "output_type": "execute_result"
    }
   ],
   "source": [
    "df_copy.BP1_31_2.value_counts()"
   ]
  },
  {
   "cell_type": "code",
   "execution_count": 119,
   "metadata": {},
   "outputs": [
    {
     "data": {
      "text/plain": [
       "0    1723\n",
       "1    1720\n",
       "Name: BP1_31_2, dtype: int64"
      ]
     },
     "execution_count": 119,
     "metadata": {},
     "output_type": "execute_result"
    }
   ],
   "source": [
    "df_copy.BP1_31_2.replace({1.0:'1',0.0:'0'}, inplace=True)\n",
    "df_copy.BP1_31_2.value_counts().astype('int64')"
   ]
  },
  {
   "cell_type": "code",
   "execution_count": 120,
   "metadata": {},
   "outputs": [
    {
     "data": {
      "text/plain": [
       "0.0    3386\n",
       "1.0      57\n",
       "Name: BP1_31_3, dtype: int64"
      ]
     },
     "execution_count": 120,
     "metadata": {},
     "output_type": "execute_result"
    }
   ],
   "source": [
    "df_copy.BP1_31_3.value_counts()"
   ]
  },
  {
   "cell_type": "code",
   "execution_count": 121,
   "metadata": {},
   "outputs": [
    {
     "data": {
      "text/plain": [
       "0    3386\n",
       "1      57\n",
       "Name: BP1_31_3, dtype: int64"
      ]
     },
     "execution_count": 121,
     "metadata": {},
     "output_type": "execute_result"
    }
   ],
   "source": [
    "df_copy.BP1_31_3.replace({1.0:'1',0.0:'0'}, inplace=True)\n",
    "df_copy.BP1_31_3.value_counts().astype('int64')"
   ]
  },
  {
   "cell_type": "code",
   "execution_count": 122,
   "metadata": {},
   "outputs": [
    {
     "data": {
      "text/plain": [
       "0.0    2907\n",
       "1.0     536\n",
       "Name: BP1_31_4, dtype: int64"
      ]
     },
     "execution_count": 122,
     "metadata": {},
     "output_type": "execute_result"
    }
   ],
   "source": [
    "df_copy.BP1_31_4.value_counts()"
   ]
  },
  {
   "cell_type": "code",
   "execution_count": 123,
   "metadata": {},
   "outputs": [
    {
     "data": {
      "text/plain": [
       "0    2907\n",
       "1     536\n",
       "Name: BP1_31_4, dtype: int64"
      ]
     },
     "execution_count": 123,
     "metadata": {},
     "output_type": "execute_result"
    }
   ],
   "source": [
    "df_copy.BP1_31_4.replace({1.0:'1',0.0:'0'}, inplace=True)\n",
    "df_copy.BP1_31_4.value_counts().astype('int64')"
   ]
  },
  {
   "cell_type": "code",
   "execution_count": 124,
   "metadata": {},
   "outputs": [
    {
     "data": {
      "text/plain": [
       "0.0    3253\n",
       "1.0     190\n",
       "Name: BP1_31_5, dtype: int64"
      ]
     },
     "execution_count": 124,
     "metadata": {},
     "output_type": "execute_result"
    }
   ],
   "source": [
    "df_copy.BP1_31_5.value_counts()"
   ]
  },
  {
   "cell_type": "code",
   "execution_count": 125,
   "metadata": {},
   "outputs": [
    {
     "data": {
      "text/plain": [
       "0    3253\n",
       "1     190\n",
       "Name: BP1_31_5, dtype: int64"
      ]
     },
     "execution_count": 125,
     "metadata": {},
     "output_type": "execute_result"
    }
   ],
   "source": [
    "df_copy.BP1_31_5.replace({1.0:'1',0.0:'0'}, inplace=True)\n",
    "df_copy.BP1_31_5.value_counts().astype('int64')"
   ]
  },
  {
   "cell_type": "code",
   "execution_count": 126,
   "metadata": {},
   "outputs": [
    {
     "data": {
      "text/plain": [
       "0.0    3352\n",
       "1.0      91\n",
       "Name: BP1_31_6, dtype: int64"
      ]
     },
     "execution_count": 126,
     "metadata": {},
     "output_type": "execute_result"
    }
   ],
   "source": [
    "df_copy.BP1_31_6.value_counts()"
   ]
  },
  {
   "cell_type": "code",
   "execution_count": 127,
   "metadata": {},
   "outputs": [
    {
     "data": {
      "text/plain": [
       "0    3352\n",
       "1      91\n",
       "Name: BP1_31_6, dtype: int64"
      ]
     },
     "execution_count": 127,
     "metadata": {},
     "output_type": "execute_result"
    }
   ],
   "source": [
    "df_copy.BP1_31_6.replace({1.0:'1',0.0:'0'}, inplace=True)\n",
    "df_copy.BP1_31_6.value_counts().astype('int64')"
   ]
  },
  {
   "cell_type": "code",
   "execution_count": 128,
   "metadata": {},
   "outputs": [
    {
     "data": {
      "text/plain": [
       "0.0    3336\n",
       "1.0     107\n",
       "Name: BP1_31_7, dtype: int64"
      ]
     },
     "execution_count": 128,
     "metadata": {},
     "output_type": "execute_result"
    }
   ],
   "source": [
    "df_copy.BP1_31_7.value_counts()"
   ]
  },
  {
   "cell_type": "code",
   "execution_count": 129,
   "metadata": {},
   "outputs": [
    {
     "data": {
      "text/plain": [
       "0    3336\n",
       "1     107\n",
       "Name: BP1_31_7, dtype: int64"
      ]
     },
     "execution_count": 129,
     "metadata": {},
     "output_type": "execute_result"
    }
   ],
   "source": [
    "df_copy.BP1_31_7.replace({1.0:'1',0.0:'0'}, inplace=True)\n",
    "df_copy.BP1_31_7.value_counts().astype('int64')"
   ]
  },
  {
   "cell_type": "code",
   "execution_count": 130,
   "metadata": {},
   "outputs": [
    {
     "data": {
      "text/plain": [
       "0.0    3132\n",
       "1.0     311\n",
       "Name: BP1_31_8, dtype: int64"
      ]
     },
     "execution_count": 130,
     "metadata": {},
     "output_type": "execute_result"
    }
   ],
   "source": [
    "df_copy.BP1_31_8.value_counts()"
   ]
  },
  {
   "cell_type": "code",
   "execution_count": 131,
   "metadata": {},
   "outputs": [
    {
     "data": {
      "text/plain": [
       "0    3132\n",
       "1     311\n",
       "Name: BP1_31_8, dtype: int64"
      ]
     },
     "execution_count": 131,
     "metadata": {},
     "output_type": "execute_result"
    }
   ],
   "source": [
    "df_copy.BP1_31_8.replace({1.0:'1',0.0:'0'}, inplace=True)\n",
    "df_copy.BP1_31_8.value_counts().astype('int64')"
   ]
  },
  {
   "cell_type": "code",
   "execution_count": 132,
   "metadata": {},
   "outputs": [
    {
     "data": {
      "text/plain": [
       "0.0    3185\n",
       "1.0     258\n",
       "Name: BP1_31_9, dtype: int64"
      ]
     },
     "execution_count": 132,
     "metadata": {},
     "output_type": "execute_result"
    }
   ],
   "source": [
    "df_copy.BP1_31_9.value_counts()"
   ]
  },
  {
   "cell_type": "code",
   "execution_count": 133,
   "metadata": {},
   "outputs": [
    {
     "data": {
      "text/plain": [
       "0    3185\n",
       "1     258\n",
       "Name: BP1_31_9, dtype: int64"
      ]
     },
     "execution_count": 133,
     "metadata": {},
     "output_type": "execute_result"
    }
   ],
   "source": [
    "df_copy.BP1_31_9.replace({1.0:'1',0.0:'0'}, inplace=True)\n",
    "df_copy.BP1_31_9.value_counts().astype('int64')"
   ]
  },
  {
   "cell_type": "code",
   "execution_count": 134,
   "metadata": {},
   "outputs": [
    {
     "data": {
      "text/plain": [
       "1    26362\n",
       "5     8790\n",
       "3     8074\n",
       "2     1161\n",
       "4      195\n",
       "9      117\n",
       "Name: BP1_33, dtype: int64"
      ]
     },
     "execution_count": 134,
     "metadata": {},
     "output_type": "execute_result"
    }
   ],
   "source": [
    "df_copy.BP1_33.value_counts()"
   ]
  },
  {
   "cell_type": "code",
   "execution_count": 135,
   "metadata": {},
   "outputs": [
    {
     "data": {
      "text/plain": [
       "1     26362\n",
       "5      8790\n",
       "3      8074\n",
       "2      1161\n",
       "4       195\n",
       "99      117\n",
       "Name: BP1_33, dtype: int64"
      ]
     },
     "execution_count": 135,
     "metadata": {},
     "output_type": "execute_result"
    }
   ],
   "source": [
    "df_copy.BP1_33.replace({9:99}, inplace=True)\n",
    "df_copy.BP1_33.value_counts().astype('int64')"
   ]
  },
  {
   "cell_type": "code",
   "execution_count": 136,
   "metadata": {},
   "outputs": [
    {
     "data": {
      "text/plain": [
       "0.0          8050\n",
       "1000.0       2274\n",
       "2000.0       2100\n",
       "3000.0       1776\n",
       "500.0        1738\n",
       "1500.0       1430\n",
       "5000.0       1320\n",
       "300.0        1276\n",
       "200.0        1192\n",
       "4000.0        864\n",
       "800.0         823\n",
       "100.0         733\n",
       "600.0         698\n",
       "10000.0       695\n",
       "1200.0        656\n",
       "9999999.0     635\n",
       "2500.0        631\n",
       "400.0         587\n",
       "6000.0        528\n",
       "700.0         443\n",
       "7000.0        429\n",
       "15000.0       423\n",
       "20000.0       399\n",
       "8000.0        391\n",
       "3500.0        291\n",
       "30000.0       286\n",
       "150.0         239\n",
       "1800.0        205\n",
       "12000.0       198\n",
       "900.0         183\n",
       "             ... \n",
       "2514.0          1\n",
       "560.0           1\n",
       "590.0           1\n",
       "18500.0         1\n",
       "153500.0        1\n",
       "7300.0          1\n",
       "1560.0          1\n",
       "12050.0         1\n",
       "3850.0          1\n",
       "137000.0        1\n",
       "190.0           1\n",
       "225.0           1\n",
       "27500.0         1\n",
       "44000.0         1\n",
       "2230.0          1\n",
       "46000.0         1\n",
       "245.0           1\n",
       "1160.0          1\n",
       "7.0             1\n",
       "73.0            1\n",
       "12600.0         1\n",
       "640.0           1\n",
       "800000.0        1\n",
       "787.0           1\n",
       "375.0           1\n",
       "15600.0         1\n",
       "234000.0        1\n",
       "17500.0         1\n",
       "1680.0          1\n",
       "526.0           1\n",
       "Name: BP1_34, Length: 404, dtype: int64"
      ]
     },
     "execution_count": 136,
     "metadata": {},
     "output_type": "execute_result"
    }
   ],
   "source": [
    "df_copy.BP1_34.value_counts().astype('int64')\n",
    "#Pendiente"
   ]
  },
  {
   "cell_type": "code",
   "execution_count": 137,
   "metadata": {},
   "outputs": [
    {
     "data": {
      "text/plain": [
       "nan        8907\n",
       "0          8050\n",
       "1000       2274\n",
       "2000       2100\n",
       "3000       1776\n",
       "500        1738\n",
       "1500       1430\n",
       "5000       1320\n",
       "300        1276\n",
       "200        1192\n",
       "4000        864\n",
       "800         823\n",
       "100         733\n",
       "600         698\n",
       "10000       695\n",
       "1200        656\n",
       "9999999     635\n",
       "2500        631\n",
       "400         587\n",
       "6000        528\n",
       "700         443\n",
       "7000        429\n",
       "15000       423\n",
       "20000       399\n",
       "8000        391\n",
       "3500        291\n",
       "30000       286\n",
       "150         239\n",
       "1800        205\n",
       "12000       198\n",
       "           ... \n",
       "220000        1\n",
       "15600         1\n",
       "892           1\n",
       "85            1\n",
       "10400         1\n",
       "46000         1\n",
       "190000        1\n",
       "2350          1\n",
       "520           1\n",
       "6200          1\n",
       "16500         1\n",
       "870           1\n",
       "440           1\n",
       "4000000       1\n",
       "700000        1\n",
       "12800         1\n",
       "89            1\n",
       "12200         1\n",
       "850000        1\n",
       "275           1\n",
       "780           1\n",
       "360000        1\n",
       "437           1\n",
       "59000         1\n",
       "56            1\n",
       "53000         1\n",
       "8400          1\n",
       "2230          1\n",
       "675           1\n",
       "4             1\n",
       "Name: BP1_34, Length: 405, dtype: int64"
      ]
     },
     "execution_count": 137,
     "metadata": {},
     "output_type": "execute_result"
    }
   ],
   "source": [
    "l=[]\n",
    "for i in df_copy.BP1_34:\n",
    "    k = str(i)\n",
    "    if(k != \"nan\"):\n",
    "        k = int(eval(k))\n",
    "        l.append(k)\n",
    "    else:\n",
    "        l.append(k)\n",
    "df_copy.BP1_34 = l\n",
    "df_copy.BP1_34.value_counts()"
   ]
  },
  {
   "cell_type": "code",
   "execution_count": 138,
   "metadata": {},
   "outputs": [
    {
     "data": {
      "text/plain": [
       "0.0          33462\n",
       "9999999.0      281\n",
       "1000.0         218\n",
       "500.0          211\n",
       "2000.0         156\n",
       "3000.0         133\n",
       "300.0          115\n",
       "5000.0         100\n",
       "200.0           97\n",
       "1500.0          89\n",
       "600.0           73\n",
       "100.0           72\n",
       "10000.0         61\n",
       "800.0           55\n",
       "6000.0          53\n",
       "4000.0          52\n",
       "400.0           46\n",
       "2500.0          39\n",
       "20000.0         35\n",
       "700.0           34\n",
       "1200.0          29\n",
       "150.0           25\n",
       "30000.0         23\n",
       "15000.0         21\n",
       "8000.0          17\n",
       "50.0            17\n",
       "350.0           17\n",
       "7000.0          16\n",
       "50000.0         13\n",
       "250.0           13\n",
       "             ...  \n",
       "225.0            1\n",
       "36000.0          1\n",
       "165000.0         1\n",
       "65000.0          1\n",
       "380.0            1\n",
       "3200.0           1\n",
       "400000.0         1\n",
       "85.0             1\n",
       "12.0             1\n",
       "3100.0           1\n",
       "1300.0           1\n",
       "2900.0           1\n",
       "1350.0           1\n",
       "480.0            1\n",
       "85000.0          1\n",
       "17000.0          1\n",
       "4300.0           1\n",
       "240.0            1\n",
       "1400.0           1\n",
       "1570.0           1\n",
       "168000.0         1\n",
       "179.0            1\n",
       "20.0             1\n",
       "160.0            1\n",
       "370.0            1\n",
       "1250.0           1\n",
       "1995.0           1\n",
       "2100.0           1\n",
       "360.0            1\n",
       "55.0             1\n",
       "Name: BP1_35, Length: 112, dtype: int64"
      ]
     },
     "execution_count": 138,
     "metadata": {},
     "output_type": "execute_result"
    }
   ],
   "source": [
    "df_copy.BP1_35.value_counts()\n",
    "#Pendiente"
   ]
  },
  {
   "cell_type": "code",
   "execution_count": 139,
   "metadata": {},
   "outputs": [
    {
     "data": {
      "text/plain": [
       "0          33462\n",
       "nan         8907\n",
       "9999999      281\n",
       "1000         218\n",
       "500          211\n",
       "2000         156\n",
       "3000         133\n",
       "300          115\n",
       "5000         100\n",
       "200           97\n",
       "1500          89\n",
       "600           73\n",
       "100           72\n",
       "10000         61\n",
       "800           55\n",
       "6000          53\n",
       "4000          52\n",
       "400           46\n",
       "2500          39\n",
       "20000         35\n",
       "700           34\n",
       "1200          29\n",
       "150           25\n",
       "30000         23\n",
       "15000         21\n",
       "8000          17\n",
       "350           17\n",
       "50            17\n",
       "7000          16\n",
       "50000         13\n",
       "           ...  \n",
       "7580           1\n",
       "2900           1\n",
       "2100           1\n",
       "3100           1\n",
       "370            1\n",
       "240            1\n",
       "179            1\n",
       "17000          1\n",
       "24000          1\n",
       "480            1\n",
       "85000          1\n",
       "380            1\n",
       "168000         1\n",
       "36000          1\n",
       "1300           1\n",
       "3200           1\n",
       "10             1\n",
       "1350           1\n",
       "160            1\n",
       "65000          1\n",
       "165000         1\n",
       "12             1\n",
       "1570           1\n",
       "400000         1\n",
       "1995           1\n",
       "20             1\n",
       "4300           1\n",
       "80000          1\n",
       "35000          1\n",
       "85             1\n",
       "Name: BP1_35, Length: 113, dtype: int64"
      ]
     },
     "execution_count": 139,
     "metadata": {},
     "output_type": "execute_result"
    }
   ],
   "source": [
    "l=[]\n",
    "for i in df_copy.BP1_35:\n",
    "    k = str(i)\n",
    "    if(k != \"nan\"):\n",
    "        k = int(eval(k))\n",
    "        l.append(k)\n",
    "    else:\n",
    "        l.append(k)\n",
    "df_copy.BP1_35 = l\n",
    "df_copy.BP1_35.value_counts()"
   ]
  },
  {
   "cell_type": "code",
   "execution_count": 140,
   "metadata": {},
   "outputs": [
    {
     "data": {
      "text/plain": [
       "0.0    16074\n",
       "1.0     7419\n",
       "Name: BP1_36_01, dtype: int64"
      ]
     },
     "execution_count": 140,
     "metadata": {},
     "output_type": "execute_result"
    }
   ],
   "source": [
    "df_copy.BP1_36_01.value_counts()"
   ]
  },
  {
   "cell_type": "code",
   "execution_count": 141,
   "metadata": {},
   "outputs": [
    {
     "data": {
      "text/plain": [
       "0    16074\n",
       "1     7419\n",
       "Name: BP1_36_01, dtype: int64"
      ]
     },
     "execution_count": 141,
     "metadata": {},
     "output_type": "execute_result"
    }
   ],
   "source": [
    "df_copy.BP1_36_01.replace({1.0:'1',0.0:'0'}, inplace=True)\n",
    "df_copy.BP1_36_01.value_counts().astype('int64')"
   ]
  },
  {
   "cell_type": "code",
   "execution_count": 142,
   "metadata": {},
   "outputs": [
    {
     "data": {
      "text/plain": [
       "0.0    17041\n",
       "1.0     6452\n",
       "Name: BP1_36_02, dtype: int64"
      ]
     },
     "execution_count": 142,
     "metadata": {},
     "output_type": "execute_result"
    }
   ],
   "source": [
    "df_copy.BP1_36_02.value_counts()"
   ]
  },
  {
   "cell_type": "code",
   "execution_count": 143,
   "metadata": {},
   "outputs": [
    {
     "data": {
      "text/plain": [
       "0    17041\n",
       "1     6452\n",
       "Name: BP1_36_02, dtype: int64"
      ]
     },
     "execution_count": 143,
     "metadata": {},
     "output_type": "execute_result"
    }
   ],
   "source": [
    "df_copy.BP1_36_02.replace({1.0:'1',0.0:'0'}, inplace=True)\n",
    "df_copy.BP1_36_02.value_counts().astype('int64')"
   ]
  },
  {
   "cell_type": "code",
   "execution_count": 144,
   "metadata": {},
   "outputs": [
    {
     "data": {
      "text/plain": [
       "0.0    14562\n",
       "1.0     8931\n",
       "Name: BP1_36_03, dtype: int64"
      ]
     },
     "execution_count": 144,
     "metadata": {},
     "output_type": "execute_result"
    }
   ],
   "source": [
    "df_copy.BP1_36_03.value_counts()"
   ]
  },
  {
   "cell_type": "code",
   "execution_count": 145,
   "metadata": {},
   "outputs": [
    {
     "data": {
      "text/plain": [
       "0    14562\n",
       "1     8931\n",
       "Name: BP1_36_03, dtype: int64"
      ]
     },
     "execution_count": 145,
     "metadata": {},
     "output_type": "execute_result"
    }
   ],
   "source": [
    "df_copy.BP1_36_03.replace({1.0:'1',0.0:'0'}, inplace=True)\n",
    "df_copy.BP1_36_03.value_counts().astype('int64')"
   ]
  },
  {
   "cell_type": "code",
   "execution_count": 146,
   "metadata": {},
   "outputs": [
    {
     "data": {
      "text/plain": [
       "0.0    14408\n",
       "1.0     9085\n",
       "Name: BP1_36_04, dtype: int64"
      ]
     },
     "execution_count": 146,
     "metadata": {},
     "output_type": "execute_result"
    }
   ],
   "source": [
    "df_copy.BP1_36_04.value_counts()"
   ]
  },
  {
   "cell_type": "code",
   "execution_count": 147,
   "metadata": {},
   "outputs": [
    {
     "data": {
      "text/plain": [
       "0    14408\n",
       "1     9085\n",
       "Name: BP1_36_04, dtype: int64"
      ]
     },
     "execution_count": 147,
     "metadata": {},
     "output_type": "execute_result"
    }
   ],
   "source": [
    "df_copy.BP1_36_04.replace({1.0:'1',0.0:'0'}, inplace=True)\n",
    "df_copy.BP1_36_04.value_counts().astype('int64')"
   ]
  },
  {
   "cell_type": "code",
   "execution_count": 148,
   "metadata": {},
   "outputs": [
    {
     "data": {
      "text/plain": [
       "0.0    21403\n",
       "1.0     2090\n",
       "Name: BP1_36_05, dtype: int64"
      ]
     },
     "execution_count": 148,
     "metadata": {},
     "output_type": "execute_result"
    }
   ],
   "source": [
    "df_copy.BP1_36_05.value_counts()"
   ]
  },
  {
   "cell_type": "code",
   "execution_count": 149,
   "metadata": {},
   "outputs": [
    {
     "data": {
      "text/plain": [
       "0    21403\n",
       "1     2090\n",
       "Name: BP1_36_05, dtype: int64"
      ]
     },
     "execution_count": 149,
     "metadata": {},
     "output_type": "execute_result"
    }
   ],
   "source": [
    "df_copy.BP1_36_05.replace({1.0:'1',0.0:'0'}, inplace=True)\n",
    "df_copy.BP1_36_05.value_counts().astype('int64')"
   ]
  },
  {
   "cell_type": "code",
   "execution_count": 150,
   "metadata": {},
   "outputs": [
    {
     "data": {
      "text/plain": [
       "0.0    18658\n",
       "1.0     4835\n",
       "Name: BP1_36_06, dtype: int64"
      ]
     },
     "execution_count": 150,
     "metadata": {},
     "output_type": "execute_result"
    }
   ],
   "source": [
    "df_copy.BP1_36_06.value_counts()"
   ]
  },
  {
   "cell_type": "code",
   "execution_count": 151,
   "metadata": {},
   "outputs": [
    {
     "data": {
      "text/plain": [
       "0    18658\n",
       "1     4835\n",
       "Name: BP1_36_06, dtype: int64"
      ]
     },
     "execution_count": 151,
     "metadata": {},
     "output_type": "execute_result"
    }
   ],
   "source": [
    "df_copy.BP1_36_06.replace({1.0:'1',0.0:'0'}, inplace=True)\n",
    "df_copy.BP1_36_06.value_counts().astype('int64')"
   ]
  },
  {
   "cell_type": "code",
   "execution_count": 152,
   "metadata": {},
   "outputs": [
    {
     "data": {
      "text/plain": [
       "0.0    19720\n",
       "1.0     3773\n",
       "Name: BP1_36_07, dtype: int64"
      ]
     },
     "execution_count": 152,
     "metadata": {},
     "output_type": "execute_result"
    }
   ],
   "source": [
    "df_copy.BP1_36_07.value_counts()"
   ]
  },
  {
   "cell_type": "code",
   "execution_count": 153,
   "metadata": {},
   "outputs": [
    {
     "data": {
      "text/plain": [
       "0    19720\n",
       "1     3773\n",
       "Name: BP1_36_07, dtype: int64"
      ]
     },
     "execution_count": 153,
     "metadata": {},
     "output_type": "execute_result"
    }
   ],
   "source": [
    "df_copy.BP1_36_07.replace({1.0:'1',0.0:'0'}, inplace=True)\n",
    "df_copy.BP1_36_07.value_counts().astype('int64')"
   ]
  },
  {
   "cell_type": "code",
   "execution_count": 154,
   "metadata": {},
   "outputs": [
    {
     "data": {
      "text/plain": [
       "0.0    14252\n",
       "1.0     9241\n",
       "Name: BP1_36_08, dtype: int64"
      ]
     },
     "execution_count": 154,
     "metadata": {},
     "output_type": "execute_result"
    }
   ],
   "source": [
    "df_copy.BP1_36_08.value_counts()"
   ]
  },
  {
   "cell_type": "code",
   "execution_count": 155,
   "metadata": {},
   "outputs": [
    {
     "data": {
      "text/plain": [
       "0    14252\n",
       "1     9241\n",
       "Name: BP1_36_08, dtype: int64"
      ]
     },
     "execution_count": 155,
     "metadata": {},
     "output_type": "execute_result"
    }
   ],
   "source": [
    "df_copy.BP1_36_08.replace({1.0:'1',0.0:'0'}, inplace=True)\n",
    "df_copy.BP1_36_08.value_counts().astype('int64')"
   ]
  },
  {
   "cell_type": "code",
   "execution_count": 156,
   "metadata": {},
   "outputs": [
    {
     "data": {
      "text/plain": [
       "0.0    11793\n",
       "1.0    11700\n",
       "Name: BP1_36_09, dtype: int64"
      ]
     },
     "execution_count": 156,
     "metadata": {},
     "output_type": "execute_result"
    }
   ],
   "source": [
    "df_copy.BP1_36_09.value_counts()"
   ]
  },
  {
   "cell_type": "code",
   "execution_count": 157,
   "metadata": {},
   "outputs": [
    {
     "data": {
      "text/plain": [
       "0    11793\n",
       "1    11700\n",
       "Name: BP1_36_09, dtype: int64"
      ]
     },
     "execution_count": 157,
     "metadata": {},
     "output_type": "execute_result"
    }
   ],
   "source": [
    "df_copy.BP1_36_09.replace({1.0:'1',0.0:'0'}, inplace=True)\n",
    "df_copy.BP1_36_09.value_counts().astype('int64')"
   ]
  },
  {
   "cell_type": "code",
   "execution_count": 158,
   "metadata": {},
   "outputs": [
    {
     "data": {
      "text/plain": [
       "0.0    23193\n",
       "1.0      300\n",
       "Name: BP1_36_10, dtype: int64"
      ]
     },
     "execution_count": 158,
     "metadata": {},
     "output_type": "execute_result"
    }
   ],
   "source": [
    "df_copy.BP1_36_10.value_counts()"
   ]
  },
  {
   "cell_type": "code",
   "execution_count": 159,
   "metadata": {},
   "outputs": [
    {
     "data": {
      "text/plain": [
       "0    23193\n",
       "1      300\n",
       "Name: BP1_36_10, dtype: int64"
      ]
     },
     "execution_count": 159,
     "metadata": {},
     "output_type": "execute_result"
    }
   ],
   "source": [
    "df_copy.BP1_36_10.replace({1.0:'1',0.0:'0'}, inplace=True)\n",
    "df_copy.BP1_36_10.value_counts().astype('int64')"
   ]
  },
  {
   "cell_type": "code",
   "execution_count": 160,
   "metadata": {},
   "outputs": [
    {
     "data": {
      "text/plain": [
       "0.0    22945\n",
       "1.0      548\n",
       "Name: BP1_36_11, dtype: int64"
      ]
     },
     "execution_count": 160,
     "metadata": {},
     "output_type": "execute_result"
    }
   ],
   "source": [
    "df_copy.BP1_36_11.value_counts()"
   ]
  },
  {
   "cell_type": "code",
   "execution_count": 161,
   "metadata": {},
   "outputs": [
    {
     "data": {
      "text/plain": [
       "0    22945\n",
       "1      548\n",
       "Name: BP1_36_11, dtype: int64"
      ]
     },
     "execution_count": 161,
     "metadata": {},
     "output_type": "execute_result"
    }
   ],
   "source": [
    "df_copy.BP1_36_11.replace({1.0:'1',0.0:'0'}, inplace=True)\n",
    "df_copy.BP1_36_11.value_counts().astype('int64')"
   ]
  },
  {
   "cell_type": "code",
   "execution_count": 162,
   "metadata": {},
   "outputs": [
    {
     "data": {
      "text/plain": [
       "0.0    23374\n",
       "1.0      119\n",
       "Name: BP1_36_99, dtype: int64"
      ]
     },
     "execution_count": 162,
     "metadata": {},
     "output_type": "execute_result"
    }
   ],
   "source": [
    "df_copy.BP1_36_99.value_counts()"
   ]
  },
  {
   "cell_type": "code",
   "execution_count": 163,
   "metadata": {},
   "outputs": [
    {
     "data": {
      "text/plain": [
       "0    23374\n",
       "1      119\n",
       "Name: BP1_36_99, dtype: int64"
      ]
     },
     "execution_count": 163,
     "metadata": {},
     "output_type": "execute_result"
    }
   ],
   "source": [
    "df_copy.BP1_36_99.replace({1.0:'1',0.0:'0'}, inplace=True)\n",
    "df_copy.BP1_36_99.value_counts().astype('int64')"
   ]
  },
  {
   "cell_type": "code",
   "execution_count": 164,
   "metadata": {},
   "outputs": [
    {
     "data": {
      "text/plain": [
       "2.0    822\n",
       "1.0    300\n",
       "9.0      9\n",
       "Name: BP2_1, dtype: int64"
      ]
     },
     "execution_count": 164,
     "metadata": {},
     "output_type": "execute_result"
    }
   ],
   "source": [
    "df_copy.BP2_1.value_counts()"
   ]
  },
  {
   "cell_type": "code",
   "execution_count": 165,
   "metadata": {},
   "outputs": [
    {
     "data": {
      "text/plain": [
       "2     822\n",
       "1     300\n",
       "99      9\n",
       "Name: BP2_1, dtype: int64"
      ]
     },
     "execution_count": 165,
     "metadata": {},
     "output_type": "execute_result"
    }
   ],
   "source": [
    "df_copy.BP2_1.replace({1.0:'1',2.0:'2',9.0:'99'}, inplace=True)\n",
    "df_copy.BP2_1.value_counts().astype('int64')"
   ]
  },
  {
   "cell_type": "code",
   "execution_count": 166,
   "metadata": {},
   "outputs": [
    {
     "data": {
      "text/plain": [
       "0.0    12174\n",
       "1.0      316\n",
       "Name: BP3_1_01, dtype: int64"
      ]
     },
     "execution_count": 166,
     "metadata": {},
     "output_type": "execute_result"
    }
   ],
   "source": [
    "df_copy.BP3_1_01.value_counts()"
   ]
  },
  {
   "cell_type": "code",
   "execution_count": 167,
   "metadata": {},
   "outputs": [
    {
     "data": {
      "text/plain": [
       "0    12174\n",
       "1      316\n",
       "Name: BP3_1_01, dtype: int64"
      ]
     },
     "execution_count": 167,
     "metadata": {},
     "output_type": "execute_result"
    }
   ],
   "source": [
    "df_copy.BP3_1_01.replace({1.0:'1',0.0:'0'}, inplace=True)\n",
    "df_copy.BP3_1_01.value_counts().astype('int64')"
   ]
  },
  {
   "cell_type": "code",
   "execution_count": 168,
   "metadata": {},
   "outputs": [
    {
     "data": {
      "text/plain": [
       "0.0    12042\n",
       "1.0      448\n",
       "Name: BP3_1_02, dtype: int64"
      ]
     },
     "execution_count": 168,
     "metadata": {},
     "output_type": "execute_result"
    }
   ],
   "source": [
    "df_copy.BP3_1_02.value_counts()"
   ]
  },
  {
   "cell_type": "code",
   "execution_count": 169,
   "metadata": {},
   "outputs": [
    {
     "data": {
      "text/plain": [
       "0    12042\n",
       "1      448\n",
       "Name: BP3_1_02, dtype: int64"
      ]
     },
     "execution_count": 169,
     "metadata": {},
     "output_type": "execute_result"
    }
   ],
   "source": [
    "df_copy.BP3_1_02.replace({1.0:'1',0.0:'0'}, inplace=True)\n",
    "df_copy.BP3_1_02.value_counts().astype('int64')"
   ]
  },
  {
   "cell_type": "code",
   "execution_count": 170,
   "metadata": {},
   "outputs": [
    {
     "data": {
      "text/plain": [
       "0.0    10695\n",
       "1.0     1795\n",
       "Name: BP3_1_03, dtype: int64"
      ]
     },
     "execution_count": 170,
     "metadata": {},
     "output_type": "execute_result"
    }
   ],
   "source": [
    "df_copy.BP3_1_03.value_counts()"
   ]
  },
  {
   "cell_type": "code",
   "execution_count": 171,
   "metadata": {},
   "outputs": [
    {
     "data": {
      "text/plain": [
       "0    10695\n",
       "1     1795\n",
       "Name: BP3_1_03, dtype: int64"
      ]
     },
     "execution_count": 171,
     "metadata": {},
     "output_type": "execute_result"
    }
   ],
   "source": [
    "df_copy.BP3_1_03.replace({1.0:'1',0.0:'0'}, inplace=True)\n",
    "df_copy.BP3_1_03.value_counts().astype('int64')"
   ]
  },
  {
   "cell_type": "code",
   "execution_count": 172,
   "metadata": {},
   "outputs": [
    {
     "data": {
      "text/plain": [
       "0.0    11646\n",
       "1.0      844\n",
       "Name: BP3_1_04, dtype: int64"
      ]
     },
     "execution_count": 172,
     "metadata": {},
     "output_type": "execute_result"
    }
   ],
   "source": [
    "df_copy.BP3_1_04.value_counts()"
   ]
  },
  {
   "cell_type": "code",
   "execution_count": 173,
   "metadata": {},
   "outputs": [
    {
     "data": {
      "text/plain": [
       "0    11646\n",
       "1      844\n",
       "Name: BP3_1_04, dtype: int64"
      ]
     },
     "execution_count": 173,
     "metadata": {},
     "output_type": "execute_result"
    }
   ],
   "source": [
    "df_copy.BP3_1_04.replace({1.0:'1',0.0:'0'}, inplace=True)\n",
    "df_copy.BP3_1_04.value_counts().astype('int64')"
   ]
  },
  {
   "cell_type": "code",
   "execution_count": 174,
   "metadata": {},
   "outputs": [
    {
     "data": {
      "text/plain": [
       "0.0    11604\n",
       "1.0      886\n",
       "Name: BP3_1_05, dtype: int64"
      ]
     },
     "execution_count": 174,
     "metadata": {},
     "output_type": "execute_result"
    }
   ],
   "source": [
    "df_copy.BP3_1_05.value_counts()"
   ]
  },
  {
   "cell_type": "code",
   "execution_count": 175,
   "metadata": {},
   "outputs": [
    {
     "data": {
      "text/plain": [
       "0    11604\n",
       "1      886\n",
       "Name: BP3_1_05, dtype: int64"
      ]
     },
     "execution_count": 175,
     "metadata": {},
     "output_type": "execute_result"
    }
   ],
   "source": [
    "df_copy.BP3_1_05.replace({1.0:'1',0.0:'0'}, inplace=True)\n",
    "df_copy.BP3_1_05.value_counts().astype('int64')"
   ]
  },
  {
   "cell_type": "code",
   "execution_count": 176,
   "metadata": {},
   "outputs": [
    {
     "data": {
      "text/plain": [
       "0.0    11080\n",
       "1.0     1410\n",
       "Name: BP3_1_06, dtype: int64"
      ]
     },
     "execution_count": 176,
     "metadata": {},
     "output_type": "execute_result"
    }
   ],
   "source": [
    "df_copy.BP3_1_06.value_counts()"
   ]
  },
  {
   "cell_type": "code",
   "execution_count": 177,
   "metadata": {},
   "outputs": [
    {
     "data": {
      "text/plain": [
       "0    11080\n",
       "1     1410\n",
       "Name: BP3_1_06, dtype: int64"
      ]
     },
     "execution_count": 177,
     "metadata": {},
     "output_type": "execute_result"
    }
   ],
   "source": [
    "df_copy.BP3_1_06.replace({1.0:'1',0.0:'0'}, inplace=True)\n",
    "df_copy.BP3_1_06.value_counts().astype('int64')"
   ]
  },
  {
   "cell_type": "code",
   "execution_count": 178,
   "metadata": {},
   "outputs": [
    {
     "data": {
      "text/plain": [
       "0.0    7614\n",
       "1.0    4876\n",
       "Name: BP3_1_07, dtype: int64"
      ]
     },
     "execution_count": 178,
     "metadata": {},
     "output_type": "execute_result"
    }
   ],
   "source": [
    "df_copy.BP3_1_07.value_counts()"
   ]
  },
  {
   "cell_type": "code",
   "execution_count": 179,
   "metadata": {},
   "outputs": [
    {
     "data": {
      "text/plain": [
       "0    7614\n",
       "1    4876\n",
       "Name: BP3_1_07, dtype: int64"
      ]
     },
     "execution_count": 179,
     "metadata": {},
     "output_type": "execute_result"
    }
   ],
   "source": [
    "df_copy.BP3_1_07.replace({1.0:'1',0.0:'0'}, inplace=True)\n",
    "df_copy.BP3_1_07.value_counts().astype('int64')"
   ]
  },
  {
   "cell_type": "code",
   "execution_count": 180,
   "metadata": {},
   "outputs": [
    {
     "data": {
      "text/plain": [
       "0.0    11668\n",
       "1.0      822\n",
       "Name: BP3_1_08, dtype: int64"
      ]
     },
     "execution_count": 180,
     "metadata": {},
     "output_type": "execute_result"
    }
   ],
   "source": [
    "df_copy.BP3_1_08.value_counts()"
   ]
  },
  {
   "cell_type": "code",
   "execution_count": 181,
   "metadata": {},
   "outputs": [
    {
     "data": {
      "text/plain": [
       "0    11668\n",
       "1      822\n",
       "Name: BP3_1_08, dtype: int64"
      ]
     },
     "execution_count": 181,
     "metadata": {},
     "output_type": "execute_result"
    }
   ],
   "source": [
    "df_copy.BP3_1_08.replace({1.0:'1',0.0:'0'}, inplace=True)\n",
    "df_copy.BP3_1_08.value_counts().astype('int64')"
   ]
  },
  {
   "cell_type": "code",
   "execution_count": 182,
   "metadata": {},
   "outputs": [
    {
     "data": {
      "text/plain": [
       "0.0    9814\n",
       "1.0    2676\n",
       "Name: BP3_1_09, dtype: int64"
      ]
     },
     "execution_count": 182,
     "metadata": {},
     "output_type": "execute_result"
    }
   ],
   "source": [
    "df_copy.BP3_1_09.value_counts()"
   ]
  },
  {
   "cell_type": "code",
   "execution_count": 183,
   "metadata": {},
   "outputs": [
    {
     "data": {
      "text/plain": [
       "0    9814\n",
       "1    2676\n",
       "Name: BP3_1_09, dtype: int64"
      ]
     },
     "execution_count": 183,
     "metadata": {},
     "output_type": "execute_result"
    }
   ],
   "source": [
    "df_copy.BP3_1_09.replace({1.0:'1',0.0:'0'}, inplace=True)\n",
    "df_copy.BP3_1_09.value_counts().astype('int64')"
   ]
  },
  {
   "cell_type": "code",
   "execution_count": 184,
   "metadata": {},
   "outputs": [
    {
     "data": {
      "text/plain": [
       "0.0    11994\n",
       "1.0      496\n",
       "Name: BP3_1_10, dtype: int64"
      ]
     },
     "execution_count": 184,
     "metadata": {},
     "output_type": "execute_result"
    }
   ],
   "source": [
    "df_copy.BP3_1_10.value_counts()"
   ]
  },
  {
   "cell_type": "code",
   "execution_count": 185,
   "metadata": {},
   "outputs": [
    {
     "data": {
      "text/plain": [
       "0    11994\n",
       "1      496\n",
       "Name: BP3_1_10, dtype: int64"
      ]
     },
     "execution_count": 185,
     "metadata": {},
     "output_type": "execute_result"
    }
   ],
   "source": [
    "df_copy.BP3_1_10.replace({1.0:'1',0.0:'0'}, inplace=True)\n",
    "df_copy.BP3_1_10.value_counts().astype('int64')"
   ]
  },
  {
   "cell_type": "code",
   "execution_count": 186,
   "metadata": {},
   "outputs": [
    {
     "data": {
      "text/plain": [
       "0.0    9258\n",
       "1.0    3232\n",
       "Name: BP3_1_11, dtype: int64"
      ]
     },
     "execution_count": 186,
     "metadata": {},
     "output_type": "execute_result"
    }
   ],
   "source": [
    "df_copy.BP3_1_11.value_counts()"
   ]
  },
  {
   "cell_type": "code",
   "execution_count": 187,
   "metadata": {},
   "outputs": [
    {
     "data": {
      "text/plain": [
       "0    9258\n",
       "1    3232\n",
       "Name: BP3_1_11, dtype: int64"
      ]
     },
     "execution_count": 187,
     "metadata": {},
     "output_type": "execute_result"
    }
   ],
   "source": [
    "df_copy.BP3_1_11.replace({1.0:'1',0.0:'0'}, inplace=True)\n",
    "df_copy.BP3_1_11.value_counts().astype('int64')"
   ]
  },
  {
   "cell_type": "code",
   "execution_count": 188,
   "metadata": {},
   "outputs": [
    {
     "data": {
      "text/plain": [
       "0.0    11820\n",
       "1.0      670\n",
       "Name: BP3_1_99, dtype: int64"
      ]
     },
     "execution_count": 188,
     "metadata": {},
     "output_type": "execute_result"
    }
   ],
   "source": [
    "df_copy.BP3_1_99.value_counts()"
   ]
  },
  {
   "cell_type": "code",
   "execution_count": 189,
   "metadata": {},
   "outputs": [
    {
     "data": {
      "text/plain": [
       "0    11820\n",
       "1      670\n",
       "Name: BP3_1_99, dtype: int64"
      ]
     },
     "execution_count": 189,
     "metadata": {},
     "output_type": "execute_result"
    }
   ],
   "source": [
    "df_copy.BP3_1_99.replace({1.0:'1',0.0:'0'}, inplace=True)\n",
    "df_copy.BP3_1_99.value_counts().astype('int64')"
   ]
  },
  {
   "cell_type": "code",
   "execution_count": 190,
   "metadata": {},
   "outputs": [
    {
     "data": {
      "text/plain": [
       "2.0    3545\n",
       "1.0    2061\n",
       "9.0      45\n",
       "Name: BP3_2, dtype: int64"
      ]
     },
     "execution_count": 190,
     "metadata": {},
     "output_type": "execute_result"
    }
   ],
   "source": [
    "df_copy.BP3_2.value_counts()"
   ]
  },
  {
   "cell_type": "code",
   "execution_count": 191,
   "metadata": {},
   "outputs": [
    {
     "data": {
      "text/plain": [
       "2     3545\n",
       "1     2061\n",
       "99      45\n",
       "Name: BP3_2, dtype: int64"
      ]
     },
     "execution_count": 191,
     "metadata": {},
     "output_type": "execute_result"
    }
   ],
   "source": [
    "df_copy.BP3_2.replace({1.0:'1',2.0:'2',9.0:'99'}, inplace=True)\n",
    "df_copy.BP3_2.value_counts().astype('int64')"
   ]
  },
  {
   "cell_type": "code",
   "execution_count": 192,
   "metadata": {},
   "outputs": [
    {
     "data": {
      "text/plain": [
       "1.0    1798\n",
       "4.0    1079\n",
       "3.0     236\n",
       "5.0      55\n",
       "6.0      34\n",
       "9.0      19\n",
       "2.0      17\n",
       "Name: BP4_1, dtype: int64"
      ]
     },
     "execution_count": 192,
     "metadata": {},
     "output_type": "execute_result"
    }
   ],
   "source": [
    "df_copy.BP4_1.value_counts()"
   ]
  },
  {
   "cell_type": "code",
   "execution_count": 193,
   "metadata": {},
   "outputs": [
    {
     "data": {
      "text/plain": [
       "1     1798\n",
       "4     1079\n",
       "3      236\n",
       "5       55\n",
       "6       34\n",
       "99      19\n",
       "2       17\n",
       "Name: BP4_1, dtype: int64"
      ]
     },
     "execution_count": 193,
     "metadata": {},
     "output_type": "execute_result"
    }
   ],
   "source": [
    "df_copy.BP4_1.replace({1.0:'1',2.0:'2',3.0:'3',4.0:'4',5.0:'5',6.0:'6',9.0:'99'}, inplace=True)\n",
    "df_copy.BP4_1.value_counts().astype('int64')"
   ]
  },
  {
   "cell_type": "code",
   "execution_count": 194,
   "metadata": {},
   "outputs": [
    {
     "data": {
      "text/plain": [
       "1.0    6671\n",
       "4.0     192\n",
       "7.0      94\n",
       "5.0      66\n",
       "2.0      34\n",
       "9.0      22\n",
       "6.0      17\n",
       "3.0      17\n",
       "Name: BP5_1, dtype: int64"
      ]
     },
     "execution_count": 194,
     "metadata": {},
     "output_type": "execute_result"
    }
   ],
   "source": [
    "df_copy.BP5_1.value_counts()"
   ]
  },
  {
   "cell_type": "code",
   "execution_count": 195,
   "metadata": {},
   "outputs": [
    {
     "data": {
      "text/plain": [
       "1     6671\n",
       "4      192\n",
       "7       94\n",
       "5       66\n",
       "2       34\n",
       "99      22\n",
       "3       17\n",
       "6       17\n",
       "Name: BP5_1, dtype: int64"
      ]
     },
     "execution_count": 195,
     "metadata": {},
     "output_type": "execute_result"
    }
   ],
   "source": [
    "df_copy.BP5_1.replace({1.0:'1',2.0:'2',3.0:'3',4.0:'4',5.0:'5',6.0:'6',7.0:'7',9.0:'99'}, inplace=True)\n",
    "df_copy.BP5_1.value_counts().astype('int64')"
   ]
  },
  {
   "cell_type": "code",
   "execution_count": 196,
   "metadata": {},
   "outputs": [
    {
     "data": {
      "text/plain": [
       "1.0    5022\n",
       "0.0    2091\n",
       "Name: BP5_2_1, dtype: int64"
      ]
     },
     "execution_count": 196,
     "metadata": {},
     "output_type": "execute_result"
    }
   ],
   "source": [
    "df_copy.BP5_2_1.value_counts()"
   ]
  },
  {
   "cell_type": "code",
   "execution_count": 197,
   "metadata": {},
   "outputs": [
    {
     "data": {
      "text/plain": [
       "1    5022\n",
       "0    2091\n",
       "Name: BP5_2_1, dtype: int64"
      ]
     },
     "execution_count": 197,
     "metadata": {},
     "output_type": "execute_result"
    }
   ],
   "source": [
    "df_copy.BP5_2_1.replace({1.0:'1',0.0:'0'}, inplace=True)\n",
    "df_copy.BP5_2_1.value_counts().astype('int64')"
   ]
  },
  {
   "cell_type": "code",
   "execution_count": 198,
   "metadata": {},
   "outputs": [
    {
     "data": {
      "text/plain": [
       "0.0    6905\n",
       "1.0     208\n",
       "Name: BP5_2_2, dtype: int64"
      ]
     },
     "execution_count": 198,
     "metadata": {},
     "output_type": "execute_result"
    }
   ],
   "source": [
    "df_copy.BP5_2_2.value_counts()"
   ]
  },
  {
   "cell_type": "code",
   "execution_count": 199,
   "metadata": {},
   "outputs": [
    {
     "data": {
      "text/plain": [
       "0    6905\n",
       "1     208\n",
       "Name: BP5_2_2, dtype: int64"
      ]
     },
     "execution_count": 199,
     "metadata": {},
     "output_type": "execute_result"
    }
   ],
   "source": [
    "df_copy.BP5_2_2.replace({1.0:'1',0.0:'0'}, inplace=True)\n",
    "df_copy.BP5_2_2.value_counts().astype('int64')"
   ]
  },
  {
   "cell_type": "code",
   "execution_count": 200,
   "metadata": {},
   "outputs": [
    {
     "data": {
      "text/plain": [
       "0.0    6831\n",
       "1.0     282\n",
       "Name: BP5_2_3, dtype: int64"
      ]
     },
     "execution_count": 200,
     "metadata": {},
     "output_type": "execute_result"
    }
   ],
   "source": [
    "df_copy.BP5_2_3.value_counts()"
   ]
  },
  {
   "cell_type": "code",
   "execution_count": 201,
   "metadata": {},
   "outputs": [
    {
     "data": {
      "text/plain": [
       "0    6831\n",
       "1     282\n",
       "Name: BP5_2_3, dtype: int64"
      ]
     },
     "execution_count": 201,
     "metadata": {},
     "output_type": "execute_result"
    }
   ],
   "source": [
    "df_copy.BP5_2_3.replace({1.0:'1',0.0:'0'}, inplace=True)\n",
    "df_copy.BP5_2_3.value_counts().astype('int64')"
   ]
  },
  {
   "cell_type": "code",
   "execution_count": 202,
   "metadata": {},
   "outputs": [
    {
     "data": {
      "text/plain": [
       "0.0    5433\n",
       "1.0    1680\n",
       "Name: BP5_2_4, dtype: int64"
      ]
     },
     "execution_count": 202,
     "metadata": {},
     "output_type": "execute_result"
    }
   ],
   "source": [
    "df_copy.BP5_2_4.value_counts()"
   ]
  },
  {
   "cell_type": "code",
   "execution_count": 203,
   "metadata": {},
   "outputs": [
    {
     "data": {
      "text/plain": [
       "0    5433\n",
       "1    1680\n",
       "Name: BP5_2_4, dtype: int64"
      ]
     },
     "execution_count": 203,
     "metadata": {},
     "output_type": "execute_result"
    }
   ],
   "source": [
    "df_copy.BP5_2_4.replace({1.0:'1',0.0:'0'}, inplace=True)\n",
    "df_copy.BP5_2_4.value_counts().astype('int64')"
   ]
  },
  {
   "cell_type": "code",
   "execution_count": 204,
   "metadata": {},
   "outputs": [
    {
     "data": {
      "text/plain": [
       "3.0    5020\n",
       "1.0     277\n",
       "2.0     129\n",
       "9.0       7\n",
       "Name: BP5_3, dtype: int64"
      ]
     },
     "execution_count": 204,
     "metadata": {},
     "output_type": "execute_result"
    }
   ],
   "source": [
    "df_copy.BP5_3.value_counts()"
   ]
  },
  {
   "cell_type": "code",
   "execution_count": 205,
   "metadata": {},
   "outputs": [
    {
     "data": {
      "text/plain": [
       "3     5020\n",
       "1      277\n",
       "2      129\n",
       "99       7\n",
       "Name: BP5_3, dtype: int64"
      ]
     },
     "execution_count": 205,
     "metadata": {},
     "output_type": "execute_result"
    }
   ],
   "source": [
    "df_copy.BP5_3.replace({1.0:'1',2.0:'2',3.0:'3',9.0:'99'}, inplace=True)\n",
    "df_copy.BP5_3.value_counts().astype('int64')"
   ]
  },
  {
   "cell_type": "code",
   "execution_count": 206,
   "metadata": {},
   "outputs": [
    {
     "data": {
      "text/plain": [
       "9.0    30\n",
       "2.0    29\n",
       "1.0    22\n",
       "Name: BP6_1, dtype: int64"
      ]
     },
     "execution_count": 206,
     "metadata": {},
     "output_type": "execute_result"
    }
   ],
   "source": [
    "df_copy.BP6_1.value_counts()"
   ]
  },
  {
   "cell_type": "code",
   "execution_count": 207,
   "metadata": {},
   "outputs": [
    {
     "data": {
      "text/plain": [
       "99    30\n",
       "2     29\n",
       "1     22\n",
       "Name: BP6_1, dtype: int64"
      ]
     },
     "execution_count": 207,
     "metadata": {},
     "output_type": "execute_result"
    }
   ],
   "source": [
    "df_copy.BP6_1.replace({1.0:'1',2.0:'2',9.0:'99'}, inplace=True)\n",
    "df_copy.BP6_1.value_counts().astype('int64')"
   ]
  },
  {
   "cell_type": "code",
   "execution_count": 208,
   "metadata": {},
   "outputs": [
    {
     "data": {
      "text/plain": [
       "1.0    35\n",
       "3.0    26\n",
       "9.0    13\n",
       "2.0     7\n",
       "Name: BP6_2, dtype: int64"
      ]
     },
     "execution_count": 208,
     "metadata": {},
     "output_type": "execute_result"
    }
   ],
   "source": [
    "df_copy.BP6_2.value_counts()"
   ]
  },
  {
   "cell_type": "code",
   "execution_count": 209,
   "metadata": {
    "scrolled": true
   },
   "outputs": [
    {
     "data": {
      "text/plain": [
       "1     35\n",
       "3     26\n",
       "99    13\n",
       "2      7\n",
       "Name: BP6_2, dtype: int64"
      ]
     },
     "execution_count": 209,
     "metadata": {},
     "output_type": "execute_result"
    }
   ],
   "source": [
    "df_copy.BP6_2.replace({1.0:'1',2.0:'2',3.0:'3',9.0:'99'}, inplace=True)\n",
    "df_copy.BP6_2.value_counts().astype('int64')"
   ]
  },
  {
   "cell_type": "code",
   "execution_count": 210,
   "metadata": {
    "scrolled": true
   },
   "outputs": [
    {
     "data": {
      "text/plain": [
       "2.0    257\n",
       "3.0    149\n",
       "4.0     79\n",
       "1.0     58\n",
       "9.0      9\n",
       "Name: BP7_1, dtype: int64"
      ]
     },
     "execution_count": 210,
     "metadata": {},
     "output_type": "execute_result"
    }
   ],
   "source": [
    "df_copy.BP7_1.value_counts()"
   ]
  },
  {
   "cell_type": "code",
   "execution_count": 211,
   "metadata": {},
   "outputs": [
    {
     "data": {
      "text/plain": [
       "2     257\n",
       "3     149\n",
       "4      79\n",
       "1      58\n",
       "99      9\n",
       "Name: BP7_1, dtype: int64"
      ]
     },
     "execution_count": 211,
     "metadata": {},
     "output_type": "execute_result"
    }
   ],
   "source": [
    "df_copy.BP7_1.replace({1.0:'1',2.0:'2',3.0:'3',4.0:'4',9.0:'99'}, inplace=True)\n",
    "df_copy.BP7_1.value_counts().astype('int64')"
   ]
  },
  {
   "cell_type": "code",
   "execution_count": 212,
   "metadata": {},
   "outputs": [
    {
     "data": {
      "text/plain": [
       "195     157\n",
       "388     144\n",
       "194     144\n",
       "198     134\n",
       "73      132\n",
       "360     132\n",
       "190     132\n",
       "410     127\n",
       "180     125\n",
       "376     124\n",
       "394     124\n",
       "185     124\n",
       "372     124\n",
       "392     122\n",
       "174     121\n",
       "390     119\n",
       "200     115\n",
       "188     114\n",
       "186     113\n",
       "217     113\n",
       "356     111\n",
       "209     110\n",
       "172     110\n",
       "332     110\n",
       "396     110\n",
       "218     109\n",
       "199     109\n",
       "216     108\n",
       "210     108\n",
       "344     107\n",
       "       ... \n",
       "8465      1\n",
       "7205      1\n",
       "998       1\n",
       "4964      1\n",
       "725       1\n",
       "5924      1\n",
       "4566      1\n",
       "5988      1\n",
       "6532      1\n",
       "3378      1\n",
       "2630      1\n",
       "1363      1\n",
       "7536      1\n",
       "3506      1\n",
       "4581      1\n",
       "2502      1\n",
       "6596      1\n",
       "3602      1\n",
       "7888      1\n",
       "6020      1\n",
       "1747      1\n",
       "3858      1\n",
       "1971      1\n",
       "2214      1\n",
       "6167      1\n",
       "2165      1\n",
       "4278      1\n",
       "2022      1\n",
       "1990      1\n",
       "2049      1\n",
       "Name: FAC_DEL, Length: 2967, dtype: int64"
      ]
     },
     "execution_count": 212,
     "metadata": {},
     "output_type": "execute_result"
    }
   ],
   "source": [
    "df_copy.FAC_DEL.value_counts()"
   ]
  },
  {
   "cell_type": "code",
   "execution_count": 213,
   "metadata": {},
   "outputs": [
    {
     "data": {
      "text/plain": [
       "104    1332\n",
       "13      915\n",
       "212     829\n",
       "12      773\n",
       "97      707\n",
       "120     692\n",
       "105     692\n",
       "205     677\n",
       "151     669\n",
       "165     669\n",
       "60      655\n",
       "61      585\n",
       "152     536\n",
       "5       526\n",
       "14      511\n",
       "68      504\n",
       "16      491\n",
       "136     472\n",
       "57      472\n",
       "229     465\n",
       "28      456\n",
       "193     453\n",
       "182     443\n",
       "159     437\n",
       "108     431\n",
       "117     422\n",
       "147     414\n",
       "75      411\n",
       "76      403\n",
       "85      403\n",
       "       ... \n",
       "19       23\n",
       "201      22\n",
       "187      21\n",
       "210      18\n",
       "188      18\n",
       "202      17\n",
       "204      15\n",
       "145      15\n",
       "27       15\n",
       "186      15\n",
       "55       15\n",
       "59       12\n",
       "142      12\n",
       "66       11\n",
       "93       11\n",
       "168      11\n",
       "134      11\n",
       "11       11\n",
       "9         9\n",
       "54        9\n",
       "39        9\n",
       "74        6\n",
       "133       5\n",
       "95        5\n",
       "132       5\n",
       "33        4\n",
       "84        3\n",
       "112       3\n",
       "180       2\n",
       "220       2\n",
       "Name: EST_DIS, Length: 238, dtype: int64"
      ]
     },
     "execution_count": 213,
     "metadata": {},
     "output_type": "execute_result"
    }
   ],
   "source": [
    "df_copy.EST_DIS.value_counts()"
   ]
  },
  {
   "cell_type": "code",
   "execution_count": 214,
   "metadata": {},
   "outputs": [
    {
     "data": {
      "text/plain": [
       "4336     39\n",
       "6175     37\n",
       "5497     35\n",
       "770      33\n",
       "4352     32\n",
       "2463     32\n",
       "4337     31\n",
       "7132     30\n",
       "9139     30\n",
       "772      29\n",
       "10571    29\n",
       "5012     28\n",
       "275      28\n",
       "9106     27\n",
       "714      27\n",
       "6173     27\n",
       "4130     27\n",
       "732      27\n",
       "4325     26\n",
       "5887     25\n",
       "8012     25\n",
       "571      25\n",
       "6163     25\n",
       "1031     24\n",
       "4096     24\n",
       "4289     24\n",
       "11479    24\n",
       "5463     24\n",
       "4063     24\n",
       "5162     24\n",
       "         ..\n",
       "11094     1\n",
       "9047      1\n",
       "8102      1\n",
       "7120      1\n",
       "7152      1\n",
       "3940      1\n",
       "10081     1\n",
       "9271      1\n",
       "3186      1\n",
       "11414     1\n",
       "7376      1\n",
       "8919      1\n",
       "2770      1\n",
       "4817      1\n",
       "10742     1\n",
       "211       1\n",
       "6373      1\n",
       "2482      1\n",
       "4561      1\n",
       "2183      1\n",
       "499       1\n",
       "10774     1\n",
       "10275     1\n",
       "4657      1\n",
       "10339     1\n",
       "8759      1\n",
       "6768      1\n",
       "10902     1\n",
       "8887      1\n",
       "1711      1\n",
       "Name: UPM_DIS, Length: 9840, dtype: int64"
      ]
     },
     "execution_count": 214,
     "metadata": {},
     "output_type": "execute_result"
    }
   ],
   "source": [
    "df_copy.UPM_DIS.value_counts()"
   ]
  },
  {
   "cell_type": "code",
   "execution_count": 215,
   "metadata": {},
   "outputs": [
    {
     "data": {
      "text/plain": [
       "U    30364\n",
       "C     9855\n",
       "R     4480\n",
       "Name: DOMINIO, dtype: int64"
      ]
     },
     "execution_count": 215,
     "metadata": {},
     "output_type": "execute_result"
    }
   ],
   "source": [
    "df_copy.DOMINIO.value_counts()"
   ]
  },
  {
   "cell_type": "code",
   "execution_count": 216,
   "metadata": {},
   "outputs": [
    {
     "data": {
      "text/plain": [
       "2    22800\n",
       "3    12643\n",
       "4     5711\n",
       "1     3545\n",
       "Name: ESTRATO, dtype: int64"
      ]
     },
     "execution_count": 216,
     "metadata": {},
     "output_type": "execute_result"
    }
   ],
   "source": [
    "df_copy.ESTRATO.value_counts()"
   ]
  },
  {
   "cell_type": "code",
   "execution_count": 218,
   "metadata": {},
   "outputs": [
    {
     "data": {
      "text/plain": [
       "0       20696\n",
       "192       116\n",
       "187        91\n",
       "188        88\n",
       "196        86\n",
       "190        82\n",
       "206        80\n",
       "199        78\n",
       "191        77\n",
       "326        74\n",
       "205        73\n",
       "209        73\n",
       "186        73\n",
       "398        72\n",
       "184        71\n",
       "410        71\n",
       "446        71\n",
       "444        70\n",
       "216        69\n",
       "180        69\n",
       "189        68\n",
       "210        67\n",
       "200        67\n",
       "213        66\n",
       "202        66\n",
       "182        65\n",
       "214        65\n",
       "197        65\n",
       "378        63\n",
       "228        63\n",
       "        ...  \n",
       "3000        1\n",
       "985         1\n",
       "2852        1\n",
       "3160        1\n",
       "1995        1\n",
       "76          1\n",
       "4374        1\n",
       "3256        1\n",
       "7206        1\n",
       "5223        1\n",
       "3652        1\n",
       "9345        1\n",
       "1573        1\n",
       "3620        1\n",
       "1509        1\n",
       "1451        1\n",
       "1413        1\n",
       "2904        1\n",
       "3396        1\n",
       "5415        1\n",
       "3530        1\n",
       "7656        1\n",
       "1253        1\n",
       "3626        1\n",
       "5319        1\n",
       "1221        1\n",
       "3268        1\n",
       "2517        1\n",
       "3236        1\n",
       "1983        1\n",
       "Name: FAC_DEL_AM, Length: 2649, dtype: int64"
      ]
     },
     "execution_count": 218,
     "metadata": {},
     "output_type": "execute_result"
    }
   ],
   "source": [
    "df_copy.FAC_DEL_AM.value_counts()"
   ]
  },
  {
   "cell_type": "code",
   "execution_count": 219,
   "metadata": {},
   "outputs": [],
   "source": [
    "df_copy.to_csv('2015.csv')"
   ]
  },
  {
   "cell_type": "code",
   "execution_count": null,
   "metadata": {},
   "outputs": [],
   "source": []
  }
 ],
 "metadata": {
  "kernelspec": {
   "display_name": "Python 3",
   "language": "python",
   "name": "python3"
  },
  "language_info": {
   "codemirror_mode": {
    "name": "ipython",
    "version": 3
   },
   "file_extension": ".py",
   "mimetype": "text/x-python",
   "name": "python",
   "nbconvert_exporter": "python",
   "pygments_lexer": "ipython3",
   "version": "3.6.5"
  }
 },
 "nbformat": 4,
 "nbformat_minor": 2
}
