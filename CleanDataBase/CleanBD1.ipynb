{
 "cells": [
  {
   "cell_type": "code",
   "execution_count": 1,
   "metadata": {},
   "outputs": [],
   "source": [
    "import pandas as pd\n",
    "import numpy as np"
   ]
  },
  {
   "cell_type": "code",
   "execution_count": 2,
   "metadata": {},
   "outputs": [],
   "source": [
    "df_ = 'C:/Users/chris/Documents/TRABAJO/PROYECTOS/PROGRAMA DELFIN/PROYECTOCRIMEN/2016/tmod_vic_envipe2016/conjunto_de_datos/tmod_vic_envipe2016.csv'"
   ]
  },
  {
   "cell_type": "code",
   "execution_count": 3,
   "metadata": {},
   "outputs": [],
   "source": [
    "df = pd.read_csv(df_,low_memory = False)\n",
    "df_copy = df"
   ]
  },
  {
   "cell_type": "code",
   "execution_count": 4,
   "metadata": {},
   "outputs": [
    {
     "data": {
      "text/plain": [
       "1     6260\n",
       "2     6071\n",
       "5     6054\n",
       "3     5997\n",
       "4     5850\n",
       "16     724\n",
       "6      688\n",
       "19     684\n",
       "17     676\n",
       "8      674\n",
       "15     668\n",
       "11     660\n",
       "7      652\n",
       "14     640\n",
       "13     632\n",
       "9      625\n",
       "12     606\n",
       "10     604\n",
       "20     593\n",
       "18     588\n",
       "21      53\n",
       "22      18\n",
       "23       7\n",
       "24       2\n",
       "Name: VIV_SEL, dtype: int64"
      ]
     },
     "execution_count": 4,
     "metadata": {},
     "output_type": "execute_result"
    }
   ],
   "source": [
    "df_copy.VIV_SEL.value_counts()"
   ]
  },
  {
   "cell_type": "code",
   "execution_count": 5,
   "metadata": {},
   "outputs": [
    {
     "data": {
      "text/plain": [
       "1    39428\n",
       "2      518\n",
       "3       69\n",
       "4       11\n",
       "Name: HOGAR, dtype: int64"
      ]
     },
     "execution_count": 5,
     "metadata": {},
     "output_type": "execute_result"
    }
   ],
   "source": [
    "df_copy.HOGAR.value_counts()"
   ]
  },
  {
   "cell_type": "code",
   "execution_count": 6,
   "metadata": {},
   "outputs": [
    {
     "data": {
      "text/plain": [
       "1    32422\n",
       "2     5307\n",
       "3     1547\n",
       "4      510\n",
       "5      240\n",
       "Name: ND_TIPO, dtype: int64"
      ]
     },
     "execution_count": 6,
     "metadata": {},
     "output_type": "execute_result"
    }
   ],
   "source": [
    "df_copy.ND_TIPO.value_counts()"
   ]
  },
  {
   "cell_type": "code",
   "execution_count": 7,
   "metadata": {},
   "outputs": [
    {
     "data": {
      "text/plain": [
       "1    27115\n",
       "2     7520\n",
       "3     3111\n",
       "5     1200\n",
       "4     1080\n",
       "Name: TD_TIPO, dtype: int64"
      ]
     },
     "execution_count": 7,
     "metadata": {},
     "output_type": "execute_result"
    }
   ],
   "source": [
    "df_copy.TD_TIPO.value_counts()"
   ]
  },
  {
   "cell_type": "code",
   "execution_count": 8,
   "metadata": {},
   "outputs": [
    {
     "data": {
      "text/plain": [
       "2     6679\n",
       "9     6655\n",
       "3     6443\n",
       "4     5598\n",
       "5     4839\n",
       "10    2531\n",
       "8     1623\n",
       "7     1550\n",
       "6     1202\n",
       "11    1134\n",
       "1      965\n",
       "13     561\n",
       "14      92\n",
       "15      91\n",
       "12      63\n",
       "Name: BPCOD, dtype: int64"
      ]
     },
     "execution_count": 8,
     "metadata": {},
     "output_type": "execute_result"
    }
   ],
   "source": [
    "df_copy.BPCOD.value_counts()"
   ]
  },
  {
   "cell_type": "code",
   "execution_count": 9,
   "metadata": {},
   "outputs": [
    {
     "data": {
      "text/plain": [
       "1     19848\n",
       "2     12869\n",
       "3      4736\n",
       "4      1745\n",
       "5       577\n",
       "6       152\n",
       "7        47\n",
       "8        24\n",
       "9        22\n",
       "11        3\n",
       "10        3\n",
       "Name: R_SEL, dtype: int64"
      ]
     },
     "execution_count": 9,
     "metadata": {},
     "output_type": "execute_result"
    }
   ],
   "source": [
    "df_copy.R_SEL.value_counts()"
   ]
  },
  {
   "cell_type": "code",
   "execution_count": 10,
   "metadata": {},
   "outputs": [
    {
     "data": {
      "text/plain": [
       "A\\r    40026\n",
       "Name: RESUL_H, dtype: int64"
      ]
     },
     "execution_count": 10,
     "metadata": {},
     "output_type": "execute_result"
    }
   ],
   "source": [
    "df_copy.RESUL_H.value_counts()"
   ]
  },
  {
   "cell_type": "code",
   "execution_count": 11,
   "metadata": {},
   "outputs": [
    {
     "data": {
      "text/plain": [
       "A    40026\n",
       "Name: RESUL_H, dtype: int64"
      ]
     },
     "execution_count": 11,
     "metadata": {},
     "output_type": "execute_result"
    }
   ],
   "source": [
    "df_copy.RESUL_H.replace({'A\\r':'A'}, inplace=True)\n",
    "df_copy.RESUL_H.value_counts()"
   ]
  },
  {
   "cell_type": "code",
   "execution_count": 12,
   "metadata": {},
   "outputs": [
    {
     "data": {
      "text/plain": [
       "\\r      17449\n",
       "01\\r     3132\n",
       "02\\r     1651\n",
       "36\\r     1278\n",
       "04\\r     1144\n",
       "14\\r     1112\n",
       "03\\r     1065\n",
       "29\\r     1039\n",
       "08\\r      980\n",
       "39\\r      829\n",
       "41\\r      758\n",
       "33\\r      742\n",
       "21\\r      690\n",
       "15\\r      634\n",
       "18\\r      618\n",
       "05\\r      599\n",
       "25\\r      579\n",
       "40\\r      537\n",
       "07\\r      533\n",
       "26\\r      526\n",
       "13\\r      506\n",
       "31\\r      424\n",
       "24\\r      398\n",
       "09\\r      389\n",
       "27\\r      357\n",
       "28\\r      330\n",
       "43\\r      327\n",
       "17\\r      301\n",
       "19\\r      265\n",
       "32\\r      226\n",
       "10\\r      224\n",
       "16\\r      208\n",
       "12\\r      176\n",
       "Name: AREAM_OCU, dtype: int64"
      ]
     },
     "execution_count": 12,
     "metadata": {},
     "output_type": "execute_result"
    }
   ],
   "source": [
    "df_copy.AREAM_OCU.value_counts()"
   ]
  },
  {
   "cell_type": "code",
   "execution_count": 13,
   "metadata": {},
   "outputs": [],
   "source": [
    "df_copy.AREAM_OCU.replace({'01\\r':1,'02\\r':2,'03\\r':3,'04\\r':4,\n",
    "                '29\\r':29,'14\\r':14,'36\\r':36,'21\\r':21,'06\\r':6,\n",
    "                '08\\r':8,'39\\r':39,'41\\r':41,'33\\r':33,'18\\r':18,\n",
    "                '40\\r':40,'25\\r':25,'05\\r':5,'26\\r':26,'09\\r':9,\n",
    "                '07\\r':7,'13\\r':13,'15\\r':15,'27\\r':27,'31\\r':31,\n",
    "                '19\\r':19,'28\\r':28,'24\\r':24,'10\\r':10,'43\\r':43,\n",
    "                '17\\r':17,'32\\r':32,'16\\r':16,'12\\r':12,'\\r':99}, inplace=True)"
   ]
  },
  {
   "cell_type": "code",
   "execution_count": 14,
   "metadata": {},
   "outputs": [
    {
     "data": {
      "text/plain": [
       "99    17449\n",
       "1      3132\n",
       "2      1651\n",
       "36     1278\n",
       "4      1144\n",
       "14     1112\n",
       "3      1065\n",
       "29     1039\n",
       "8       980\n",
       "39      829\n",
       "41      758\n",
       "33      742\n",
       "21      690\n",
       "15      634\n",
       "18      618\n",
       "5       599\n",
       "25      579\n",
       "40      537\n",
       "7       533\n",
       "26      526\n",
       "13      506\n",
       "31      424\n",
       "24      398\n",
       "9       389\n",
       "27      357\n",
       "28      330\n",
       "43      327\n",
       "17      301\n",
       "19      265\n",
       "32      226\n",
       "10      224\n",
       "16      208\n",
       "12      176\n",
       "Name: AREAM_OCU, dtype: int64"
      ]
     },
     "execution_count": 14,
     "metadata": {},
     "output_type": "execute_result"
    }
   ],
   "source": [
    "df_copy.AREAM_OCU.value_counts()"
   ]
  },
  {
   "cell_type": "code",
   "execution_count": 15,
   "metadata": {},
   "outputs": [
    {
     "data": {
      "text/plain": [
       "12    4647\n",
       "11    4278\n",
       "6     3771\n",
       "2     3272\n",
       "3     3264\n",
       "5     3204\n",
       "10    3051\n",
       "9     2941\n",
       "8     2827\n",
       "7     2691\n",
       "1     2570\n",
       "4     2457\n",
       "99    1053\n",
       "Name: BP1_1, dtype: int64"
      ]
     },
     "execution_count": 15,
     "metadata": {},
     "output_type": "execute_result"
    }
   ],
   "source": [
    "df_copy.BP1_1.value_counts()"
   ]
  },
  {
   "cell_type": "code",
   "execution_count": 16,
   "metadata": {},
   "outputs": [
    {
     "data": {
      "text/plain": [
       "15    2217\n",
       "14    2139\n",
       "17    1742\n",
       "21    1736\n",
       "12    1695\n",
       "22    1670\n",
       "2     1516\n",
       "16    1432\n",
       "23    1382\n",
       "9     1377\n",
       "11    1350\n",
       "27    1294\n",
       "8     1268\n",
       "31    1262\n",
       "6     1254\n",
       "3     1242\n",
       "1     1207\n",
       "25    1204\n",
       "19    1167\n",
       "26    1149\n",
       "30    1117\n",
       "10    1113\n",
       "29    1060\n",
       "20     994\n",
       "7      947\n",
       "28     940\n",
       "5      898\n",
       "13     858\n",
       "24     768\n",
       "4      742\n",
       "32     632\n",
       "18     631\n",
       "99      23\n",
       "Name: BP1_2C, dtype: int64"
      ]
     },
     "execution_count": 16,
     "metadata": {},
     "output_type": "execute_result"
    }
   ],
   "source": [
    "df_copy.BP1_2C.value_counts()"
   ]
  },
  {
   "cell_type": "code",
   "execution_count": 17,
   "metadata": {},
   "outputs": [
    {
     "data": {
      "text/plain": [
       "1      2386\n",
       "5      1963\n",
       "4      1820\n",
       "2      1774\n",
       "7      1498\n",
       "39     1392\n",
       "14     1337\n",
       "3      1205\n",
       "6      1157\n",
       "114    1020\n",
       "8       943\n",
       "50      938\n",
       "30      923\n",
       "17      886\n",
       "10      820\n",
       "20      796\n",
       "33      783\n",
       "37      724\n",
       "53      710\n",
       "35      633\n",
       "12      602\n",
       "28      570\n",
       "19      558\n",
       "11      543\n",
       "120     501\n",
       "9       465\n",
       "101     459\n",
       "18      455\n",
       "15      452\n",
       "67      421\n",
       "       ... \n",
       "203       2\n",
       "439       2\n",
       "513       2\n",
       "346       2\n",
       "399       2\n",
       "265       2\n",
       "545       1\n",
       "384       1\n",
       "90        1\n",
       "126       1\n",
       "145       1\n",
       "152       1\n",
       "278       1\n",
       "150       1\n",
       "309       1\n",
       "180       1\n",
       "179       1\n",
       "338       1\n",
       "209       1\n",
       "205       1\n",
       "163       1\n",
       "173       1\n",
       "201       1\n",
       "424       1\n",
       "135       1\n",
       "454       1\n",
       "485       1\n",
       "317       1\n",
       "419       1\n",
       "283       1\n",
       "Name: BP1_3C, Length: 238, dtype: int64"
      ]
     },
     "execution_count": 17,
     "metadata": {},
     "output_type": "execute_result"
    }
   ],
   "source": [
    "df_copy.BP1_3C.value_counts()"
   ]
  },
  {
   "cell_type": "code",
   "execution_count": 18,
   "metadata": {},
   "outputs": [
    {
     "data": {
      "text/plain": [
       "2    12273\n",
       "3    10540\n",
       "4     7924\n",
       "1     7695\n",
       "9     1594\n",
       "Name: BP1_4, dtype: int64"
      ]
     },
     "execution_count": 18,
     "metadata": {},
     "output_type": "execute_result"
    }
   ],
   "source": [
    "df_copy.BP1_4.value_counts()"
   ]
  },
  {
   "cell_type": "code",
   "execution_count": 19,
   "metadata": {},
   "outputs": [
    {
     "data": {
      "text/plain": [
       "2     12273\n",
       "3     10540\n",
       "4      7924\n",
       "1      7695\n",
       "99     1594\n",
       "Name: BP1_4, dtype: int64"
      ]
     },
     "execution_count": 19,
     "metadata": {},
     "output_type": "execute_result"
    }
   ],
   "source": [
    "df_copy.BP1_4.replace({9:99}, inplace=True)\n",
    "df_copy.BP1_4.value_counts()"
   ]
  },
  {
   "cell_type": "code",
   "execution_count": 20,
   "metadata": {},
   "outputs": [
    {
     "data": {
      "text/plain": [
       "2    18884\n",
       "1    13102\n",
       "4     2176\n",
       "3     1884\n",
       "5     1468\n",
       "6     1293\n",
       "8      760\n",
       "9      270\n",
       "7      189\n",
       "Name: BP1_5, dtype: int64"
      ]
     },
     "execution_count": 20,
     "metadata": {},
     "output_type": "execute_result"
    }
   ],
   "source": [
    "df_copy.BP1_5.value_counts()"
   ]
  },
  {
   "cell_type": "code",
   "execution_count": 21,
   "metadata": {},
   "outputs": [
    {
     "data": {
      "text/plain": [
       "2     18884\n",
       "1     13102\n",
       "4      2176\n",
       "3      1884\n",
       "5      1468\n",
       "6      1293\n",
       "8       760\n",
       "99      270\n",
       "7       189\n",
       "Name: BP1_5, dtype: int64"
      ]
     },
     "execution_count": 21,
     "metadata": {},
     "output_type": "execute_result"
    }
   ],
   "source": [
    "df_copy.BP1_5.replace({9:99}, inplace=True)\n",
    "df_copy.BP1_5.value_counts()"
   ]
  },
  {
   "cell_type": "code",
   "execution_count": 22,
   "metadata": {},
   "outputs": [
    {
     "data": {
      "text/plain": [
       "1\\r    18244\n",
       "2\\r    12166\n",
       "\\r      9616\n",
       "Name: BP1_6, dtype: int64"
      ]
     },
     "execution_count": 22,
     "metadata": {},
     "output_type": "execute_result"
    }
   ],
   "source": [
    "df_copy.BP1_6.value_counts()"
   ]
  },
  {
   "cell_type": "code",
   "execution_count": 23,
   "metadata": {},
   "outputs": [
    {
     "data": {
      "text/plain": [
       "1     18244\n",
       "2     12166\n",
       "99     9616\n",
       "Name: BP1_6, dtype: int64"
      ]
     },
     "execution_count": 23,
     "metadata": {},
     "output_type": "execute_result"
    }
   ],
   "source": [
    "df_copy.BP1_6.replace({'1\\r':1,'2\\r':2,'\\r':99}, inplace=True)\n",
    "df_copy.BP1_6.value_counts()"
   ]
  },
  {
   "cell_type": "code",
   "execution_count": 24,
   "metadata": {},
   "outputs": [
    {
     "data": {
      "text/plain": [
       "\\r     21782\n",
       "1\\r    14077\n",
       "2\\r     4167\n",
       "Name: BP1_7, dtype: int64"
      ]
     },
     "execution_count": 24,
     "metadata": {},
     "output_type": "execute_result"
    }
   ],
   "source": [
    "df_copy.BP1_7.value_counts()"
   ]
  },
  {
   "cell_type": "code",
   "execution_count": 25,
   "metadata": {},
   "outputs": [
    {
     "data": {
      "text/plain": [
       "99    21782\n",
       "1     14077\n",
       "2      4167\n",
       "Name: BP1_7, dtype: int64"
      ]
     },
     "execution_count": 25,
     "metadata": {},
     "output_type": "execute_result"
    }
   ],
   "source": [
    "df_copy.BP1_7.replace({'1\\r':1,'2\\r':2,'\\r':99}, inplace=True)\n",
    "df_copy.BP1_7.value_counts()"
   ]
  },
  {
   "cell_type": "code",
   "execution_count": 26,
   "metadata": {},
   "outputs": [
    {
     "data": {
      "text/plain": [
       "\\r     25949\n",
       "2\\r     7230\n",
       "1\\r     6847\n",
       "Name: BP1_8, dtype: int64"
      ]
     },
     "execution_count": 26,
     "metadata": {},
     "output_type": "execute_result"
    }
   ],
   "source": [
    "df_copy.BP1_8.value_counts()"
   ]
  },
  {
   "cell_type": "code",
   "execution_count": 27,
   "metadata": {},
   "outputs": [
    {
     "data": {
      "text/plain": [
       "99    25949\n",
       "2      7230\n",
       "1      6847\n",
       "Name: BP1_8, dtype: int64"
      ]
     },
     "execution_count": 27,
     "metadata": {},
     "output_type": "execute_result"
    }
   ],
   "source": [
    "df_copy.BP1_8.replace({'1\\r':1,'2\\r':2,'\\r':99}, inplace=True)\n",
    "df_copy.BP1_8.value_counts()"
   ]
  },
  {
   "cell_type": "code",
   "execution_count": 28,
   "metadata": {},
   "outputs": [
    {
     "data": {
      "text/plain": [
       "\\r     25949\n",
       "1\\r     7145\n",
       "2\\r     3769\n",
       "3\\r     1454\n",
       "9\\r      573\n",
       "4\\r      495\n",
       "6\\r      408\n",
       "5\\r      233\n",
       "Name: BP1_9, dtype: int64"
      ]
     },
     "execution_count": 28,
     "metadata": {},
     "output_type": "execute_result"
    }
   ],
   "source": [
    "df_copy.BP1_9.value_counts()"
   ]
  },
  {
   "cell_type": "code",
   "execution_count": 29,
   "metadata": {},
   "outputs": [],
   "source": [
    "df_copy.BP1_9.replace({'1\\r':1,'2\\r':2,'3\\r':3,'4\\r':4,\n",
    "                '5\\r':5,'6\\r':6,'9\\r':99,'\\r':99}, inplace=True)"
   ]
  },
  {
   "cell_type": "code",
   "execution_count": 30,
   "metadata": {},
   "outputs": [
    {
     "data": {
      "text/plain": [
       "99    26522\n",
       "1      7145\n",
       "2      3769\n",
       "3      1454\n",
       "4       495\n",
       "6       408\n",
       "5       233\n",
       "Name: BP1_9, dtype: int64"
      ]
     },
     "execution_count": 30,
     "metadata": {},
     "output_type": "execute_result"
    }
   ],
   "source": [
    "df_copy.BP1_9.value_counts()"
   ]
  },
  {
   "cell_type": "code",
   "execution_count": 31,
   "metadata": {},
   "outputs": [
    {
     "data": {
      "text/plain": [
       "\\r     25949\n",
       "1\\r    12796\n",
       "0\\r     1281\n",
       "Name: BP1_10_1, dtype: int64"
      ]
     },
     "execution_count": 31,
     "metadata": {},
     "output_type": "execute_result"
    }
   ],
   "source": [
    "df_copy.BP1_10_1.value_counts()"
   ]
  },
  {
   "cell_type": "code",
   "execution_count": 32,
   "metadata": {},
   "outputs": [],
   "source": [
    "df_copy.BP1_10_1.replace({'1\\r':1,'0\\r':0,'\\r':99}, inplace=True)"
   ]
  },
  {
   "cell_type": "code",
   "execution_count": 33,
   "metadata": {},
   "outputs": [
    {
     "data": {
      "text/plain": [
       "99    25949\n",
       "1     12796\n",
       "0      1281\n",
       "Name: BP1_10_1, dtype: int64"
      ]
     },
     "execution_count": 33,
     "metadata": {},
     "output_type": "execute_result"
    }
   ],
   "source": [
    "df_copy.BP1_10_1.value_counts()"
   ]
  },
  {
   "cell_type": "code",
   "execution_count": 34,
   "metadata": {},
   "outputs": [
    {
     "data": {
      "text/plain": [
       "\\r     25949\n",
       "0\\r    12055\n",
       "1\\r     2022\n",
       "Name: BP1_10_2, dtype: int64"
      ]
     },
     "execution_count": 34,
     "metadata": {},
     "output_type": "execute_result"
    }
   ],
   "source": [
    "df_copy.BP1_10_2.value_counts()"
   ]
  },
  {
   "cell_type": "code",
   "execution_count": 35,
   "metadata": {},
   "outputs": [
    {
     "data": {
      "text/plain": [
       "99    25949\n",
       "0     12055\n",
       "1      2022\n",
       "Name: BP1_10_2, dtype: int64"
      ]
     },
     "execution_count": 35,
     "metadata": {},
     "output_type": "execute_result"
    }
   ],
   "source": [
    "df_copy.BP1_10_2.replace({'1\\r':1,'0\\r':0,'\\r':99}, inplace=True)\n",
    "df_copy.BP1_10_2.value_counts()"
   ]
  },
  {
   "cell_type": "code",
   "execution_count": 36,
   "metadata": {},
   "outputs": [
    {
     "data": {
      "text/plain": [
       "\\r     25949\n",
       "0\\r    13700\n",
       "1\\r      377\n",
       "Name: BP1_10_9, dtype: int64"
      ]
     },
     "execution_count": 36,
     "metadata": {},
     "output_type": "execute_result"
    }
   ],
   "source": [
    "df_copy.BP1_10_9.value_counts()"
   ]
  },
  {
   "cell_type": "code",
   "execution_count": 37,
   "metadata": {},
   "outputs": [
    {
     "data": {
      "text/plain": [
       "99    25949\n",
       "0     13700\n",
       "1       377\n",
       "Name: BP1_10_9, dtype: int64"
      ]
     },
     "execution_count": 37,
     "metadata": {},
     "output_type": "execute_result"
    }
   ],
   "source": [
    "df_copy.BP1_10_9.replace({'1\\r':1,'0\\r':0,'\\r':99}, inplace=True)\n",
    "df_copy.BP1_10_9.value_counts()"
   ]
  },
  {
   "cell_type": "code",
   "execution_count": 38,
   "metadata": {},
   "outputs": [
    {
     "data": {
      "text/plain": [
       "\\r     25949\n",
       "4\\r     4216\n",
       "3\\r     3234\n",
       "5\\r     2544\n",
       "9\\r     2038\n",
       "6\\r      890\n",
       "8\\r      737\n",
       "2\\r      331\n",
       "7\\r       75\n",
       "1\\r       12\n",
       "Name: BP1_11, dtype: int64"
      ]
     },
     "execution_count": 38,
     "metadata": {},
     "output_type": "execute_result"
    }
   ],
   "source": [
    "df_copy.BP1_11.value_counts()"
   ]
  },
  {
   "cell_type": "code",
   "execution_count": 39,
   "metadata": {},
   "outputs": [
    {
     "data": {
      "text/plain": [
       "99    27987\n",
       "4      4216\n",
       "3      3234\n",
       "5      2544\n",
       "6       890\n",
       "8       737\n",
       "2       331\n",
       "7        75\n",
       "1        12\n",
       "Name: BP1_11, dtype: int64"
      ]
     },
     "execution_count": 39,
     "metadata": {},
     "output_type": "execute_result"
    }
   ],
   "source": [
    "df_copy.BP1_11.replace({'1\\r':1,'2\\r':2,'3\\r':3,'4\\r':4,'5\\r':5,'6\\r':6,'7\\r':7,'8\\r':8,'9\\r':99,'\\r':99}, inplace=True)\n",
    "df_copy.BP1_11.value_counts()"
   ]
  },
  {
   "cell_type": "code",
   "execution_count": 40,
   "metadata": {},
   "outputs": [
    {
     "data": {
      "text/plain": [
       "\\r     25949\n",
       "1\\r    10250\n",
       "0\\r     3827\n",
       "Name: BP1_12_1, dtype: int64"
      ]
     },
     "execution_count": 40,
     "metadata": {},
     "output_type": "execute_result"
    }
   ],
   "source": [
    "df_copy.BP1_12_1.value_counts()"
   ]
  },
  {
   "cell_type": "code",
   "execution_count": 41,
   "metadata": {},
   "outputs": [
    {
     "data": {
      "text/plain": [
       "99    25949\n",
       "1     10250\n",
       "0      3827\n",
       "Name: BP1_12_1, dtype: int64"
      ]
     },
     "execution_count": 41,
     "metadata": {},
     "output_type": "execute_result"
    }
   ],
   "source": [
    "df_copy.BP1_12_1.replace({'1\\r':1,'0\\r':0,'\\r':99}, inplace=True)\n",
    "df_copy.BP1_12_1.value_counts()"
   ]
  },
  {
   "cell_type": "code",
   "execution_count": 42,
   "metadata": {},
   "outputs": [
    {
     "data": {
      "text/plain": [
       "\\r     25949\n",
       "0\\r    12720\n",
       "1\\r     1357\n",
       "Name: BP1_12_2, dtype: int64"
      ]
     },
     "execution_count": 42,
     "metadata": {},
     "output_type": "execute_result"
    }
   ],
   "source": [
    "df_copy.BP1_12_2.value_counts()"
   ]
  },
  {
   "cell_type": "code",
   "execution_count": 43,
   "metadata": {},
   "outputs": [
    {
     "data": {
      "text/plain": [
       "99    25949\n",
       "0     12720\n",
       "1      1357\n",
       "Name: BP1_12_2, dtype: int64"
      ]
     },
     "execution_count": 43,
     "metadata": {},
     "output_type": "execute_result"
    }
   ],
   "source": [
    "df_copy.BP1_12_2.replace({'1\\r':1,'0\\r':0,'\\r':99}, inplace=True)\n",
    "df_copy.BP1_12_2.value_counts()"
   ]
  },
  {
   "cell_type": "code",
   "execution_count": 44,
   "metadata": {},
   "outputs": [
    {
     "data": {
      "text/plain": [
       "\\r     25949\n",
       "0\\r    13133\n",
       "1\\r      944\n",
       "Name: BP1_12_3, dtype: int64"
      ]
     },
     "execution_count": 44,
     "metadata": {},
     "output_type": "execute_result"
    }
   ],
   "source": [
    "df_copy.BP1_12_3.value_counts()"
   ]
  },
  {
   "cell_type": "code",
   "execution_count": 45,
   "metadata": {},
   "outputs": [
    {
     "data": {
      "text/plain": [
       "99    25949\n",
       "0     13133\n",
       "1       944\n",
       "Name: BP1_12_3, dtype: int64"
      ]
     },
     "execution_count": 45,
     "metadata": {},
     "output_type": "execute_result"
    }
   ],
   "source": [
    "df_copy.BP1_12_3.replace({'1\\r':1,'0\\r':0,'\\r':99}, inplace=True)\n",
    "df_copy.BP1_12_3.value_counts()"
   ]
  },
  {
   "cell_type": "code",
   "execution_count": 46,
   "metadata": {},
   "outputs": [
    {
     "data": {
      "text/plain": [
       "\\r     25949\n",
       "0\\r    13380\n",
       "1\\r      697\n",
       "Name: BP1_12_4, dtype: int64"
      ]
     },
     "execution_count": 46,
     "metadata": {},
     "output_type": "execute_result"
    }
   ],
   "source": [
    "df_copy.BP1_12_4.value_counts()"
   ]
  },
  {
   "cell_type": "code",
   "execution_count": 47,
   "metadata": {},
   "outputs": [
    {
     "data": {
      "text/plain": [
       "99    25949\n",
       "0     13380\n",
       "1       697\n",
       "Name: BP1_12_4, dtype: int64"
      ]
     },
     "execution_count": 47,
     "metadata": {},
     "output_type": "execute_result"
    }
   ],
   "source": [
    "df_copy.BP1_12_4.replace({'1\\r':1,'0\\r':0,'\\r':99}, inplace=True)\n",
    "df_copy.BP1_12_4.value_counts()"
   ]
  },
  {
   "cell_type": "code",
   "execution_count": 48,
   "metadata": {},
   "outputs": [
    {
     "data": {
      "text/plain": [
       "\\r     25949\n",
       "0\\r    13652\n",
       "1\\r      425\n",
       "Name: BP1_12_5, dtype: int64"
      ]
     },
     "execution_count": 48,
     "metadata": {},
     "output_type": "execute_result"
    }
   ],
   "source": [
    "df_copy.BP1_12_5.value_counts()"
   ]
  },
  {
   "cell_type": "code",
   "execution_count": 49,
   "metadata": {},
   "outputs": [
    {
     "data": {
      "text/plain": [
       "99    25949\n",
       "0     13652\n",
       "1       425\n",
       "Name: BP1_12_5, dtype: int64"
      ]
     },
     "execution_count": 49,
     "metadata": {},
     "output_type": "execute_result"
    }
   ],
   "source": [
    "df_copy.BP1_12_5.replace({'1\\r':1,'0\\r':0,'\\r':99}, inplace=True)\n",
    "df_copy.BP1_12_5.value_counts()"
   ]
  },
  {
   "cell_type": "code",
   "execution_count": 50,
   "metadata": {},
   "outputs": [
    {
     "data": {
      "text/plain": [
       "\\r     25949\n",
       "0\\r    13600\n",
       "1\\r      477\n",
       "Name: BP1_12_9, dtype: int64"
      ]
     },
     "execution_count": 50,
     "metadata": {},
     "output_type": "execute_result"
    }
   ],
   "source": [
    "df_copy.BP1_12_9.value_counts()"
   ]
  },
  {
   "cell_type": "code",
   "execution_count": 51,
   "metadata": {},
   "outputs": [
    {
     "data": {
      "text/plain": [
       "99    25949\n",
       "0     13600\n",
       "1       477\n",
       "Name: BP1_12_9, dtype: int64"
      ]
     },
     "execution_count": 51,
     "metadata": {},
     "output_type": "execute_result"
    }
   ],
   "source": [
    "df_copy.BP1_12_9.replace({'1\\r':1,'0\\r':0,'\\r':99}, inplace=True)\n",
    "df_copy.BP1_12_9.value_counts()"
   ]
  },
  {
   "cell_type": "code",
   "execution_count": 52,
   "metadata": {},
   "outputs": [
    {
     "data": {
      "text/plain": [
       "\\r     29766\n",
       "2\\r     7936\n",
       "1\\r     2324\n",
       "Name: BP1_13, dtype: int64"
      ]
     },
     "execution_count": 52,
     "metadata": {},
     "output_type": "execute_result"
    }
   ],
   "source": [
    "df_copy.BP1_13.value_counts()"
   ]
  },
  {
   "cell_type": "code",
   "execution_count": 53,
   "metadata": {},
   "outputs": [
    {
     "data": {
      "text/plain": [
       "99    29766\n",
       "2      7936\n",
       "1      2324\n",
       "Name: BP1_13, dtype: int64"
      ]
     },
     "execution_count": 53,
     "metadata": {},
     "output_type": "execute_result"
    }
   ],
   "source": [
    "df_copy.BP1_13.replace({'1\\r':1,'2\\r':2,'\\r':99}, inplace=True)\n",
    "df_copy.BP1_13.value_counts()"
   ]
  },
  {
   "cell_type": "code",
   "execution_count": 54,
   "metadata": {},
   "outputs": [
    {
     "data": {
      "text/plain": [
       "\\r     25949\n",
       "0\\r    11645\n",
       "1\\r     2432\n",
       "Name: BP1_14_1, dtype: int64"
      ]
     },
     "execution_count": 54,
     "metadata": {},
     "output_type": "execute_result"
    }
   ],
   "source": [
    "df_copy.BP1_14_1.value_counts()"
   ]
  },
  {
   "cell_type": "code",
   "execution_count": 55,
   "metadata": {},
   "outputs": [
    {
     "data": {
      "text/plain": [
       "99    25949\n",
       "0     11645\n",
       "1      2432\n",
       "Name: BP1_14_1, dtype: int64"
      ]
     },
     "execution_count": 55,
     "metadata": {},
     "output_type": "execute_result"
    }
   ],
   "source": [
    "df_copy.BP1_14_1.replace({'1\\r':1,'0\\r':0,'\\r':99}, inplace=True)\n",
    "df_copy.BP1_14_1.value_counts()"
   ]
  },
  {
   "cell_type": "code",
   "execution_count": 56,
   "metadata": {},
   "outputs": [
    {
     "data": {
      "text/plain": [
       "\\r     25949\n",
       "0\\r    12304\n",
       "1\\r     1773\n",
       "Name: BP1_14_2, dtype: int64"
      ]
     },
     "execution_count": 56,
     "metadata": {},
     "output_type": "execute_result"
    }
   ],
   "source": [
    "df_copy.BP1_14_2.value_counts()"
   ]
  },
  {
   "cell_type": "code",
   "execution_count": 57,
   "metadata": {},
   "outputs": [
    {
     "data": {
      "text/plain": [
       "99    25949\n",
       "0     12304\n",
       "1      1773\n",
       "Name: BP1_14_2, dtype: int64"
      ]
     },
     "execution_count": 57,
     "metadata": {},
     "output_type": "execute_result"
    }
   ],
   "source": [
    "df_copy.BP1_14_2.replace({'1\\r':1,'0\\r':0,'\\r':99}, inplace=True)\n",
    "df_copy.BP1_14_2.value_counts()"
   ]
  },
  {
   "cell_type": "code",
   "execution_count": 58,
   "metadata": {},
   "outputs": [
    {
     "data": {
      "text/plain": [
       "\\r     25949\n",
       "0\\r    14051\n",
       "1\\r       26\n",
       "Name: BP1_14_3, dtype: int64"
      ]
     },
     "execution_count": 58,
     "metadata": {},
     "output_type": "execute_result"
    }
   ],
   "source": [
    "df_copy.BP1_14_3.value_counts()"
   ]
  },
  {
   "cell_type": "code",
   "execution_count": 59,
   "metadata": {},
   "outputs": [
    {
     "data": {
      "text/plain": [
       "99    25949\n",
       "0     14051\n",
       "1        26\n",
       "Name: BP1_14_3, dtype: int64"
      ]
     },
     "execution_count": 59,
     "metadata": {},
     "output_type": "execute_result"
    }
   ],
   "source": [
    "df_copy.BP1_14_3.replace({'1\\r':1,'0\\r':0,'\\r':99}, inplace=True)\n",
    "df_copy.BP1_14_3.value_counts()"
   ]
  },
  {
   "cell_type": "code",
   "execution_count": 60,
   "metadata": {},
   "outputs": [
    {
     "data": {
      "text/plain": [
       "\\r     25949\n",
       "0\\r     7847\n",
       "1\\r     6230\n",
       "Name: BP1_14_4, dtype: int64"
      ]
     },
     "execution_count": 60,
     "metadata": {},
     "output_type": "execute_result"
    }
   ],
   "source": [
    "df_copy.BP1_14_4.value_counts()"
   ]
  },
  {
   "cell_type": "code",
   "execution_count": 61,
   "metadata": {},
   "outputs": [
    {
     "data": {
      "text/plain": [
       "99    25949\n",
       "0      7847\n",
       "1      6230\n",
       "Name: BP1_14_4, dtype: int64"
      ]
     },
     "execution_count": 61,
     "metadata": {},
     "output_type": "execute_result"
    }
   ],
   "source": [
    "df_copy.BP1_14_4.replace({'1\\r':1,'0\\r':0,'\\r':99}, inplace=True)\n",
    "df_copy.BP1_14_4.value_counts()"
   ]
  },
  {
   "cell_type": "code",
   "execution_count": 62,
   "metadata": {},
   "outputs": [
    {
     "data": {
      "text/plain": [
       "\\r     25949\n",
       "0\\r     9922\n",
       "1\\r     4155\n",
       "Name: BP1_14_9, dtype: int64"
      ]
     },
     "execution_count": 62,
     "metadata": {},
     "output_type": "execute_result"
    }
   ],
   "source": [
    "df_copy.BP1_14_9.value_counts()"
   ]
  },
  {
   "cell_type": "code",
   "execution_count": 63,
   "metadata": {},
   "outputs": [
    {
     "data": {
      "text/plain": [
       "99    25949\n",
       "0      9922\n",
       "1      4155\n",
       "Name: BP1_14_9, dtype: int64"
      ]
     },
     "execution_count": 63,
     "metadata": {},
     "output_type": "execute_result"
    }
   ],
   "source": [
    "df_copy.BP1_14_9.replace({'1\\r':1,'0\\r':0,'\\r':99}, inplace=True)\n",
    "df_copy.BP1_14_9.value_counts()"
   ]
  },
  {
   "cell_type": "code",
   "execution_count": 64,
   "metadata": {},
   "outputs": [
    {
     "data": {
      "text/plain": [
       "\\r     25949\n",
       "2\\r     6214\n",
       "1\\r     4832\n",
       "9\\r     3031\n",
       "Name: BP1_15, dtype: int64"
      ]
     },
     "execution_count": 64,
     "metadata": {},
     "output_type": "execute_result"
    }
   ],
   "source": [
    "df_copy.BP1_15.value_counts()"
   ]
  },
  {
   "cell_type": "code",
   "execution_count": 65,
   "metadata": {},
   "outputs": [
    {
     "data": {
      "text/plain": [
       "99    28980\n",
       "2      6214\n",
       "1      4832\n",
       "Name: BP1_15, dtype: int64"
      ]
     },
     "execution_count": 65,
     "metadata": {},
     "output_type": "execute_result"
    }
   ],
   "source": [
    "df_copy.BP1_15.replace({'1\\r':1,'2\\r':2,'9\\r':99,'\\r':99}, inplace=True)\n",
    "df_copy.BP1_15.value_counts()"
   ]
  },
  {
   "cell_type": "code",
   "execution_count": 66,
   "metadata": {},
   "outputs": [
    {
     "data": {
      "text/plain": [
       "\\r     35194\n",
       "1\\r     2728\n",
       "0\\r     2104\n",
       "Name: BP1_16_1, dtype: int64"
      ]
     },
     "execution_count": 66,
     "metadata": {},
     "output_type": "execute_result"
    }
   ],
   "source": [
    "df_copy.BP1_16_1.value_counts()"
   ]
  },
  {
   "cell_type": "code",
   "execution_count": 67,
   "metadata": {},
   "outputs": [
    {
     "data": {
      "text/plain": [
       "99    35194\n",
       "1      2728\n",
       "0      2104\n",
       "Name: BP1_16_1, dtype: int64"
      ]
     },
     "execution_count": 67,
     "metadata": {},
     "output_type": "execute_result"
    }
   ],
   "source": [
    "df_copy.BP1_16_1.replace({'1\\r':1,'0\\r':0,'\\r':99}, inplace=True)\n",
    "df_copy.BP1_16_1.value_counts()"
   ]
  },
  {
   "cell_type": "code",
   "execution_count": 68,
   "metadata": {},
   "outputs": [
    {
     "data": {
      "text/plain": [
       "\\r     35194\n",
       "0\\r     2650\n",
       "1\\r     2182\n",
       "Name: BP1_16_2, dtype: int64"
      ]
     },
     "execution_count": 68,
     "metadata": {},
     "output_type": "execute_result"
    }
   ],
   "source": [
    "df_copy.BP1_16_2.value_counts()"
   ]
  },
  {
   "cell_type": "code",
   "execution_count": 69,
   "metadata": {},
   "outputs": [
    {
     "data": {
      "text/plain": [
       "99    35194\n",
       "0      2650\n",
       "1      2182\n",
       "Name: BP1_16_2, dtype: int64"
      ]
     },
     "execution_count": 69,
     "metadata": {},
     "output_type": "execute_result"
    }
   ],
   "source": [
    "df_copy.BP1_16_2.replace({'1\\r':1,'0\\r':0,'\\r':99}, inplace=True)\n",
    "df_copy.BP1_16_2.value_counts()"
   ]
  },
  {
   "cell_type": "code",
   "execution_count": 70,
   "metadata": {},
   "outputs": [
    {
     "data": {
      "text/plain": [
       "\\r     35194\n",
       "0\\r     4628\n",
       "1\\r      204\n",
       "Name: BP1_16_3, dtype: int64"
      ]
     },
     "execution_count": 70,
     "metadata": {},
     "output_type": "execute_result"
    }
   ],
   "source": [
    "df_copy.BP1_16_3.value_counts()"
   ]
  },
  {
   "cell_type": "code",
   "execution_count": 71,
   "metadata": {},
   "outputs": [
    {
     "data": {
      "text/plain": [
       "99    35194\n",
       "0      4628\n",
       "1       204\n",
       "Name: BP1_16_3, dtype: int64"
      ]
     },
     "execution_count": 71,
     "metadata": {},
     "output_type": "execute_result"
    }
   ],
   "source": [
    "df_copy.BP1_16_3.replace({'1\\r':1,'0\\r':0,'\\r':99}, inplace=True)\n",
    "df_copy.BP1_16_3.value_counts()"
   ]
  },
  {
   "cell_type": "code",
   "execution_count": 72,
   "metadata": {},
   "outputs": [
    {
     "data": {
      "text/plain": [
       "\\r     35194\n",
       "0\\r     4786\n",
       "1\\r       46\n",
       "Name: BP1_16_4, dtype: int64"
      ]
     },
     "execution_count": 72,
     "metadata": {},
     "output_type": "execute_result"
    }
   ],
   "source": [
    "df_copy.BP1_16_4.value_counts()"
   ]
  },
  {
   "cell_type": "code",
   "execution_count": 73,
   "metadata": {},
   "outputs": [
    {
     "data": {
      "text/plain": [
       "99    35194\n",
       "0      4786\n",
       "1        46\n",
       "Name: BP1_16_4, dtype: int64"
      ]
     },
     "execution_count": 73,
     "metadata": {},
     "output_type": "execute_result"
    }
   ],
   "source": [
    "df_copy.BP1_16_4.replace({'1\\r':1,'0\\r':0,'\\r':99}, inplace=True)\n",
    "df_copy.BP1_16_4.value_counts()"
   ]
  },
  {
   "cell_type": "code",
   "execution_count": 74,
   "metadata": {},
   "outputs": [
    {
     "data": {
      "text/plain": [
       "\\r     35194\n",
       "0\\r     4780\n",
       "1\\r       52\n",
       "Name: BP1_16_9, dtype: int64"
      ]
     },
     "execution_count": 74,
     "metadata": {},
     "output_type": "execute_result"
    }
   ],
   "source": [
    "df_copy.BP1_16_9.value_counts()"
   ]
  },
  {
   "cell_type": "code",
   "execution_count": 75,
   "metadata": {},
   "outputs": [
    {
     "data": {
      "text/plain": [
       "99    35194\n",
       "0      4780\n",
       "1        52\n",
       "Name: BP1_16_9, dtype: int64"
      ]
     },
     "execution_count": 75,
     "metadata": {},
     "output_type": "execute_result"
    }
   ],
   "source": [
    "df_copy.BP1_16_9.replace({'1\\r':1,'0\\r':0,'\\r':99}, inplace=True)\n",
    "df_copy.BP1_16_9.value_counts()"
   ]
  },
  {
   "cell_type": "code",
   "execution_count": 76,
   "metadata": {},
   "outputs": [
    {
     "data": {
      "text/plain": [
       "\\r     35194\n",
       "2\\r     4441\n",
       "1\\r      386\n",
       "9\\r        5\n",
       "Name: BP1_17, dtype: int64"
      ]
     },
     "execution_count": 76,
     "metadata": {},
     "output_type": "execute_result"
    }
   ],
   "source": [
    "df_copy.BP1_17.value_counts()"
   ]
  },
  {
   "cell_type": "code",
   "execution_count": 77,
   "metadata": {},
   "outputs": [
    {
     "data": {
      "text/plain": [
       "99    35199\n",
       "2      4441\n",
       "1       386\n",
       "Name: BP1_17, dtype: int64"
      ]
     },
     "execution_count": 77,
     "metadata": {},
     "output_type": "execute_result"
    }
   ],
   "source": [
    "df_copy.BP1_17.replace({'1\\r':1,'2\\r':2,'9\\r':99,'\\r':99}, inplace=True)\n",
    "df_copy.BP1_17.value_counts()"
   ]
  },
  {
   "cell_type": "code",
   "execution_count": 78,
   "metadata": {},
   "outputs": [
    {
     "data": {
      "text/plain": [
       "\\r     26335\n",
       "2\\r    11014\n",
       "1\\r     2347\n",
       "9\\r      330\n",
       "Name: BP1_18, dtype: int64"
      ]
     },
     "execution_count": 78,
     "metadata": {},
     "output_type": "execute_result"
    }
   ],
   "source": [
    "df_copy.BP1_18.value_counts()"
   ]
  },
  {
   "cell_type": "code",
   "execution_count": 79,
   "metadata": {},
   "outputs": [
    {
     "data": {
      "text/plain": [
       "99    26665\n",
       "2     11014\n",
       "1      2347\n",
       "Name: BP1_18, dtype: int64"
      ]
     },
     "execution_count": 79,
     "metadata": {},
     "output_type": "execute_result"
    }
   ],
   "source": [
    "df_copy.BP1_18.replace({'1\\r':1,'2\\r':2,'9\\r':99,'\\r':99}, inplace=True)\n",
    "df_copy.BP1_18.value_counts()"
   ]
  },
  {
   "cell_type": "code",
   "execution_count": 80,
   "metadata": {},
   "outputs": [
    {
     "data": {
      "text/plain": [
       "\\r     37293\n",
       "1\\r     1962\n",
       "0\\r      771\n",
       "Name: BP1_19_1, dtype: int64"
      ]
     },
     "execution_count": 80,
     "metadata": {},
     "output_type": "execute_result"
    }
   ],
   "source": [
    "df_copy.BP1_19_1.value_counts()"
   ]
  },
  {
   "cell_type": "code",
   "execution_count": 81,
   "metadata": {},
   "outputs": [
    {
     "data": {
      "text/plain": [
       "99    37293\n",
       "1      1962\n",
       "0       771\n",
       "Name: BP1_19_1, dtype: int64"
      ]
     },
     "execution_count": 81,
     "metadata": {},
     "output_type": "execute_result"
    }
   ],
   "source": [
    "df_copy.BP1_19_1.replace({'1\\r':1,'0\\r':0,'\\r':99}, inplace=True)\n",
    "df_copy.BP1_19_1.value_counts()"
   ]
  },
  {
   "cell_type": "code",
   "execution_count": 82,
   "metadata": {},
   "outputs": [
    {
     "data": {
      "text/plain": [
       "\\r     37293\n",
       "0\\r     2302\n",
       "1\\r      431\n",
       "Name: BP1_19_2, dtype: int64"
      ]
     },
     "execution_count": 82,
     "metadata": {},
     "output_type": "execute_result"
    }
   ],
   "source": [
    "df_copy.BP1_19_2.value_counts()"
   ]
  },
  {
   "cell_type": "code",
   "execution_count": 83,
   "metadata": {},
   "outputs": [
    {
     "data": {
      "text/plain": [
       "99    37293\n",
       "0      2302\n",
       "1       431\n",
       "Name: BP1_19_2, dtype: int64"
      ]
     },
     "execution_count": 83,
     "metadata": {},
     "output_type": "execute_result"
    }
   ],
   "source": [
    "df_copy.BP1_19_2.replace({'1\\r':1,'0\\r':0,'\\r':99}, inplace=True)\n",
    "df_copy.BP1_19_2.value_counts()"
   ]
  },
  {
   "cell_type": "code",
   "execution_count": 84,
   "metadata": {},
   "outputs": [
    {
     "data": {
      "text/plain": [
       "\\r     37293\n",
       "0\\r     2643\n",
       "1\\r       90\n",
       "Name: BP1_19_3, dtype: int64"
      ]
     },
     "execution_count": 84,
     "metadata": {},
     "output_type": "execute_result"
    }
   ],
   "source": [
    "df_copy.BP1_19_3.value_counts()"
   ]
  },
  {
   "cell_type": "code",
   "execution_count": 85,
   "metadata": {},
   "outputs": [
    {
     "data": {
      "text/plain": [
       "99    37293\n",
       "0      2643\n",
       "1        90\n",
       "Name: BP1_19_3, dtype: int64"
      ]
     },
     "execution_count": 85,
     "metadata": {},
     "output_type": "execute_result"
    }
   ],
   "source": [
    "df_copy.BP1_19_3.replace({'1\\r':1,'0\\r':0,'\\r':99}, inplace=True)\n",
    "df_copy.BP1_19_3.value_counts()"
   ]
  },
  {
   "cell_type": "code",
   "execution_count": 86,
   "metadata": {},
   "outputs": [
    {
     "data": {
      "text/plain": [
       "\\r     37293\n",
       "0\\r     2577\n",
       "1\\r      156\n",
       "Name: BP1_19_4, dtype: int64"
      ]
     },
     "execution_count": 86,
     "metadata": {},
     "output_type": "execute_result"
    }
   ],
   "source": [
    "df_copy.BP1_19_4.value_counts()"
   ]
  },
  {
   "cell_type": "code",
   "execution_count": 87,
   "metadata": {},
   "outputs": [
    {
     "data": {
      "text/plain": [
       "99    37293\n",
       "0      2577\n",
       "1       156\n",
       "Name: BP1_19_4, dtype: int64"
      ]
     },
     "execution_count": 87,
     "metadata": {},
     "output_type": "execute_result"
    }
   ],
   "source": [
    "df_copy.BP1_19_4.replace({'1\\r':1,'0\\r':0,'\\r':99}, inplace=True)\n",
    "df_copy.BP1_19_4.value_counts()"
   ]
  },
  {
   "cell_type": "code",
   "execution_count": 88,
   "metadata": {},
   "outputs": [
    {
     "data": {
      "text/plain": [
       "\\r     37293\n",
       "0\\r     2727\n",
       "1\\r        6\n",
       "Name: BP1_19_5, dtype: int64"
      ]
     },
     "execution_count": 88,
     "metadata": {},
     "output_type": "execute_result"
    }
   ],
   "source": [
    "df_copy.BP1_19_5.value_counts()"
   ]
  },
  {
   "cell_type": "code",
   "execution_count": 89,
   "metadata": {},
   "outputs": [
    {
     "data": {
      "text/plain": [
       "99    37293\n",
       "0      2727\n",
       "1         6\n",
       "Name: BP1_19_5, dtype: int64"
      ]
     },
     "execution_count": 89,
     "metadata": {},
     "output_type": "execute_result"
    }
   ],
   "source": [
    "df_copy.BP1_19_5.replace({'1\\r':1,'0\\r':0,'\\r':99}, inplace=True)\n",
    "df_copy.BP1_19_5.value_counts()"
   ]
  },
  {
   "cell_type": "code",
   "execution_count": 90,
   "metadata": {},
   "outputs": [
    {
     "data": {
      "text/plain": [
       "\\r     37293\n",
       "0\\r     2640\n",
       "1\\r       93\n",
       "Name: BP1_19_6, dtype: int64"
      ]
     },
     "execution_count": 90,
     "metadata": {},
     "output_type": "execute_result"
    }
   ],
   "source": [
    "df_copy.BP1_19_6.value_counts()"
   ]
  },
  {
   "cell_type": "code",
   "execution_count": 91,
   "metadata": {},
   "outputs": [
    {
     "data": {
      "text/plain": [
       "99    37293\n",
       "0      2640\n",
       "1        93\n",
       "Name: BP1_19_6, dtype: int64"
      ]
     },
     "execution_count": 91,
     "metadata": {},
     "output_type": "execute_result"
    }
   ],
   "source": [
    "df_copy.BP1_19_6.replace({'1\\r':1,'0\\r':0,'\\r':99}, inplace=True)\n",
    "df_copy.BP1_19_6.value_counts()"
   ]
  },
  {
   "cell_type": "code",
   "execution_count": 92,
   "metadata": {},
   "outputs": [
    {
     "data": {
      "text/plain": [
       "\\r     37293\n",
       "0\\r     2689\n",
       "1\\r       44\n",
       "Name: BP1_19_7, dtype: int64"
      ]
     },
     "execution_count": 92,
     "metadata": {},
     "output_type": "execute_result"
    }
   ],
   "source": [
    "df_copy.BP1_19_7.value_counts()"
   ]
  },
  {
   "cell_type": "code",
   "execution_count": 93,
   "metadata": {},
   "outputs": [
    {
     "data": {
      "text/plain": [
       "99    37293\n",
       "0      2689\n",
       "1        44\n",
       "Name: BP1_19_7, dtype: int64"
      ]
     },
     "execution_count": 93,
     "metadata": {},
     "output_type": "execute_result"
    }
   ],
   "source": [
    "df_copy.BP1_19_7.replace({'1\\r':1,'0\\r':0,'\\r':99}, inplace=True)\n",
    "df_copy.BP1_19_7.value_counts()"
   ]
  },
  {
   "cell_type": "code",
   "execution_count": 94,
   "metadata": {},
   "outputs": [
    {
     "data": {
      "text/plain": [
       "\\r     37293\n",
       "0\\r     2203\n",
       "1\\r      530\n",
       "Name: BP1_19_8, dtype: int64"
      ]
     },
     "execution_count": 94,
     "metadata": {},
     "output_type": "execute_result"
    }
   ],
   "source": [
    "df_copy.BP1_19_8.value_counts()"
   ]
  },
  {
   "cell_type": "code",
   "execution_count": 95,
   "metadata": {},
   "outputs": [
    {
     "data": {
      "text/plain": [
       "99    37293\n",
       "0      2203\n",
       "1       530\n",
       "Name: BP1_19_8, dtype: int64"
      ]
     },
     "execution_count": 95,
     "metadata": {},
     "output_type": "execute_result"
    }
   ],
   "source": [
    "df_copy.BP1_19_8.replace({'1\\r':1,'0\\r':0,'\\r':99}, inplace=True)\n",
    "df_copy.BP1_19_8.value_counts()"
   ]
  },
  {
   "cell_type": "code",
   "execution_count": 96,
   "metadata": {},
   "outputs": [
    {
     "data": {
      "text/plain": [
       "2    35419\n",
       "1     4607\n",
       "Name: BP1_20, dtype: int64"
      ]
     },
     "execution_count": 96,
     "metadata": {},
     "output_type": "execute_result"
    }
   ],
   "source": [
    "df_copy.BP1_20.value_counts()"
   ]
  },
  {
   "cell_type": "code",
   "execution_count": 97,
   "metadata": {},
   "outputs": [
    {
     "data": {
      "text/plain": [
       "\\r     22880\n",
       "2\\r    16875\n",
       "9\\r      142\n",
       "1\\r      129\n",
       "Name: BP1_21, dtype: int64"
      ]
     },
     "execution_count": 97,
     "metadata": {},
     "output_type": "execute_result"
    }
   ],
   "source": [
    "df_copy.BP1_21.value_counts()"
   ]
  },
  {
   "cell_type": "code",
   "execution_count": 98,
   "metadata": {},
   "outputs": [
    {
     "data": {
      "text/plain": [
       "99    23022\n",
       "2     16875\n",
       "1       129\n",
       "Name: BP1_21, dtype: int64"
      ]
     },
     "execution_count": 98,
     "metadata": {},
     "output_type": "execute_result"
    }
   ],
   "source": [
    "df_copy.BP1_21.replace({'1\\r':1,'2\\r':2,'9\\r':99,'\\r':99}, inplace=True)\n",
    "df_copy.BP1_21.value_counts()"
   ]
  },
  {
   "cell_type": "code",
   "execution_count": 99,
   "metadata": {},
   "outputs": [
    {
     "data": {
      "text/plain": [
       "\\r     39897\n",
       "2\\r       98\n",
       "1\\r       31\n",
       "Name: BP1_22, dtype: int64"
      ]
     },
     "execution_count": 99,
     "metadata": {},
     "output_type": "execute_result"
    }
   ],
   "source": [
    "df_copy.BP1_22.value_counts()"
   ]
  },
  {
   "cell_type": "code",
   "execution_count": 100,
   "metadata": {},
   "outputs": [
    {
     "data": {
      "text/plain": [
       "99    39897\n",
       "2        98\n",
       "1        31\n",
       "Name: BP1_22, dtype: int64"
      ]
     },
     "execution_count": 100,
     "metadata": {},
     "output_type": "execute_result"
    }
   ],
   "source": [
    "df_copy.BP1_22.replace({'1\\r':1,'2\\r':2,'\\r':99}, inplace=True)\n",
    "df_copy.BP1_22.value_counts()"
   ]
  },
  {
   "cell_type": "code",
   "execution_count": 101,
   "metadata": {},
   "outputs": [
    {
     "data": {
      "text/plain": [
       "04\\r    11350\n",
       "06\\r     5479\n",
       "\\r       4736\n",
       "03\\r     4735\n",
       "07\\r     4316\n",
       "05\\r     2808\n",
       "09\\r     2769\n",
       "01\\r     2064\n",
       "08\\r     1293\n",
       "02\\r      246\n",
       "99\\r      230\n",
       "Name: BP1_23, dtype: int64"
      ]
     },
     "execution_count": 101,
     "metadata": {},
     "output_type": "execute_result"
    }
   ],
   "source": [
    "df_copy.BP1_23.value_counts()"
   ]
  },
  {
   "cell_type": "code",
   "execution_count": 102,
   "metadata": {},
   "outputs": [
    {
     "data": {
      "text/plain": [
       "4     11350\n",
       "6      5479\n",
       "99     4966\n",
       "3      4735\n",
       "7      4316\n",
       "5      2808\n",
       "9      2769\n",
       "1      2064\n",
       "8      1293\n",
       "2       246\n",
       "Name: BP1_23, dtype: int64"
      ]
     },
     "execution_count": 102,
     "metadata": {},
     "output_type": "execute_result"
    }
   ],
   "source": [
    "df_copy.BP1_23.replace({'01\\r':1,'02\\r':2,'03\\r':3,'04\\r':4,'05\\r':5,'06\\r':6,'07\\r':7,'08\\r':8,'09\\r':9,'99\\r':99,'\\r':99}, inplace=True)\n",
    "df_copy.BP1_23.value_counts()"
   ]
  },
  {
   "cell_type": "code",
   "execution_count": 103,
   "metadata": {},
   "outputs": [
    {
     "data": {
      "text/plain": [
       "\\r     35388\n",
       "1\\r     3038\n",
       "2\\r     1315\n",
       "9\\r      285\n",
       "Name: BP1_24, dtype: int64"
      ]
     },
     "execution_count": 103,
     "metadata": {},
     "output_type": "execute_result"
    }
   ],
   "source": [
    "df_copy.BP1_24.value_counts()"
   ]
  },
  {
   "cell_type": "code",
   "execution_count": 104,
   "metadata": {},
   "outputs": [
    {
     "data": {
      "text/plain": [
       "99    35673\n",
       "1      3038\n",
       "2      1315\n",
       "Name: BP1_24, dtype: int64"
      ]
     },
     "execution_count": 104,
     "metadata": {},
     "output_type": "execute_result"
    }
   ],
   "source": [
    "df_copy.BP1_24.replace({'1\\r':1,'2\\r':2,'\\r':99,'9\\r':99}, inplace=True)\n",
    "df_copy.BP1_24.value_counts()"
   ]
  },
  {
   "cell_type": "code",
   "execution_count": 105,
   "metadata": {},
   "outputs": [
    {
     "data": {
      "text/plain": [
       "\\r     36988\n",
       "6\\r     1564\n",
       "2\\r      598\n",
       "3\\r      301\n",
       "5\\r      194\n",
       "9\\r      117\n",
       "7\\r       93\n",
       "1\\r       86\n",
       "4\\r       85\n",
       "Name: BP1_25, dtype: int64"
      ]
     },
     "execution_count": 105,
     "metadata": {},
     "output_type": "execute_result"
    }
   ],
   "source": [
    "df_copy.BP1_25.value_counts()"
   ]
  },
  {
   "cell_type": "code",
   "execution_count": 106,
   "metadata": {},
   "outputs": [
    {
     "data": {
      "text/plain": [
       "99    37105\n",
       "6      1564\n",
       "2       598\n",
       "3       301\n",
       "5       194\n",
       "7        93\n",
       "1        86\n",
       "4        85\n",
       "Name: BP1_25, dtype: int64"
      ]
     },
     "execution_count": 106,
     "metadata": {},
     "output_type": "execute_result"
    }
   ],
   "source": [
    "df_copy.BP1_25.replace({'1\\r':1,'2\\r':2,'3\\r':3,'4\\r':4,'5\\r':5,'6\\r':6,'7\\r':7,'8\\r':8,'9\\r':99,'\\r':99}, inplace=True)\n",
    "df_copy.BP1_25.value_counts()"
   ]
  },
  {
   "cell_type": "code",
   "execution_count": 107,
   "metadata": {},
   "outputs": [
    {
     "data": {
      "text/plain": [
       "\\r     38711\n",
       "4\\r      427\n",
       "2\\r      339\n",
       "6\\r      144\n",
       "9\\r      126\n",
       "3\\r      120\n",
       "1\\r      101\n",
       "5\\r       58\n",
       "Name: BP1_26, dtype: int64"
      ]
     },
     "execution_count": 107,
     "metadata": {},
     "output_type": "execute_result"
    }
   ],
   "source": [
    "df_copy.BP1_26.value_counts()"
   ]
  },
  {
   "cell_type": "code",
   "execution_count": 108,
   "metadata": {},
   "outputs": [
    {
     "data": {
      "text/plain": [
       "99    38837\n",
       "4       427\n",
       "2       339\n",
       "6       144\n",
       "3       120\n",
       "1       101\n",
       "5        58\n",
       "Name: BP1_26, dtype: int64"
      ]
     },
     "execution_count": 108,
     "metadata": {},
     "output_type": "execute_result"
    }
   ],
   "source": [
    "df_copy.BP1_26.replace({'1\\r':1,'2\\r':2,'3\\r':3,'4\\r':4,'5\\r':5,'6\\r':6,'9\\r':99,'\\r':99}, inplace=True)\n",
    "df_copy.BP1_26.value_counts()"
   ]
  },
  {
   "cell_type": "code",
   "execution_count": 109,
   "metadata": {},
   "outputs": [
    {
     "data": {
      "text/plain": [
       "\\r     35388\n",
       "2\\r     1328\n",
       "5\\r     1144\n",
       "3\\r      828\n",
       "1\\r      802\n",
       "4\\r      536\n",
       "Name: BP1_27, dtype: int64"
      ]
     },
     "execution_count": 109,
     "metadata": {},
     "output_type": "execute_result"
    }
   ],
   "source": [
    "df_copy.BP1_27.value_counts()"
   ]
  },
  {
   "cell_type": "code",
   "execution_count": 110,
   "metadata": {},
   "outputs": [
    {
     "data": {
      "text/plain": [
       "99    35388\n",
       "2      1328\n",
       "5      1144\n",
       "3       828\n",
       "1       802\n",
       "4       536\n",
       "Name: BP1_27, dtype: int64"
      ]
     },
     "execution_count": 110,
     "metadata": {},
     "output_type": "execute_result"
    }
   ],
   "source": [
    "df_copy.BP1_27.replace({'1\\r':1,'2\\r':2,'3\\r':3,'4\\r':4,'5\\r':5,'\\r':99}, inplace=True)\n",
    "df_copy.BP1_27.value_counts()"
   ]
  },
  {
   "cell_type": "code",
   "execution_count": 111,
   "metadata": {},
   "outputs": [
    {
     "data": {
      "text/plain": [
       "\\r     35388\n",
       "3\\r     1719\n",
       "2\\r     1451\n",
       "5\\r      510\n",
       "4\\r      456\n",
       "6\\r      268\n",
       "1\\r      217\n",
       "9\\r       17\n",
       "Name: BP1_28, dtype: int64"
      ]
     },
     "execution_count": 111,
     "metadata": {},
     "output_type": "execute_result"
    }
   ],
   "source": [
    "df_copy.BP1_28.value_counts()"
   ]
  },
  {
   "cell_type": "code",
   "execution_count": 112,
   "metadata": {},
   "outputs": [
    {
     "data": {
      "text/plain": [
       "99    35405\n",
       "3      1719\n",
       "2      1451\n",
       "5       510\n",
       "4       456\n",
       "6       268\n",
       "1       217\n",
       "Name: BP1_28, dtype: int64"
      ]
     },
     "execution_count": 112,
     "metadata": {},
     "output_type": "execute_result"
    }
   ],
   "source": [
    "df_copy.BP1_28.replace({'1\\r':1,'2\\r':2,'3\\r':3,'4\\r':4,'5\\r':5,'6\\r':6,'9\\r':99,'\\r':99}, inplace=True)\n",
    "df_copy.BP1_28.value_counts()"
   ]
  },
  {
   "cell_type": "code",
   "execution_count": 113,
   "metadata": {},
   "outputs": [
    {
     "data": {
      "text/plain": [
       "\\r     35388\n",
       "2\\r     2144\n",
       "3\\r     1254\n",
       "4\\r      928\n",
       "1\\r      312\n",
       "Name: BP1_29, dtype: int64"
      ]
     },
     "execution_count": 113,
     "metadata": {},
     "output_type": "execute_result"
    }
   ],
   "source": [
    "df_copy.BP1_29.value_counts()"
   ]
  },
  {
   "cell_type": "code",
   "execution_count": 114,
   "metadata": {},
   "outputs": [
    {
     "data": {
      "text/plain": [
       "99    35388\n",
       "2      2144\n",
       "3      1254\n",
       "4       928\n",
       "1       312\n",
       "Name: BP1_29, dtype: int64"
      ]
     },
     "execution_count": 114,
     "metadata": {},
     "output_type": "execute_result"
    }
   ],
   "source": [
    "df_copy.BP1_29.replace({'1\\r':1,'2\\r':2,'3\\r':3,'4\\r':4,'\\r':99}, inplace=True)\n",
    "df_copy.BP1_29.value_counts()"
   ]
  },
  {
   "cell_type": "code",
   "execution_count": 115,
   "metadata": {},
   "outputs": [
    {
     "data": {
      "text/plain": [
       "2    36433\n",
       "1     3593\n",
       "Name: BP1_30, dtype: int64"
      ]
     },
     "execution_count": 115,
     "metadata": {},
     "output_type": "execute_result"
    }
   ],
   "source": [
    "df_copy.BP1_30.value_counts()"
   ]
  },
  {
   "cell_type": "code",
   "execution_count": 116,
   "metadata": {},
   "outputs": [
    {
     "data": {
      "text/plain": [
       "\\r     36433\n",
       "0\\r     3352\n",
       "1\\r      241\n",
       "Name: BP1_31_1, dtype: int64"
      ]
     },
     "execution_count": 116,
     "metadata": {},
     "output_type": "execute_result"
    }
   ],
   "source": [
    "df_copy.BP1_31_1.value_counts()"
   ]
  },
  {
   "cell_type": "code",
   "execution_count": 117,
   "metadata": {},
   "outputs": [
    {
     "data": {
      "text/plain": [
       "99    36433\n",
       "0      3352\n",
       "1       241\n",
       "Name: BP1_31_1, dtype: int64"
      ]
     },
     "execution_count": 117,
     "metadata": {},
     "output_type": "execute_result"
    }
   ],
   "source": [
    "df_copy.BP1_31_1.replace({'1\\r':1,'0\\r':0,'\\r':99}, inplace=True)\n",
    "df_copy.BP1_31_1.value_counts()"
   ]
  },
  {
   "cell_type": "code",
   "execution_count": 118,
   "metadata": {},
   "outputs": [
    {
     "data": {
      "text/plain": [
       "\\r     36433\n",
       "1\\r     1952\n",
       "0\\r     1641\n",
       "Name: BP1_31_2, dtype: int64"
      ]
     },
     "execution_count": 118,
     "metadata": {},
     "output_type": "execute_result"
    }
   ],
   "source": [
    "df_copy.BP1_31_2.value_counts()"
   ]
  },
  {
   "cell_type": "code",
   "execution_count": 119,
   "metadata": {},
   "outputs": [
    {
     "data": {
      "text/plain": [
       "99    36433\n",
       "1      1952\n",
       "0      1641\n",
       "Name: BP1_31_2, dtype: int64"
      ]
     },
     "execution_count": 119,
     "metadata": {},
     "output_type": "execute_result"
    }
   ],
   "source": [
    "df_copy.BP1_31_2.replace({'1\\r':1,'0\\r':0,'\\r':99}, inplace=True)\n",
    "df_copy.BP1_31_2.value_counts()"
   ]
  },
  {
   "cell_type": "code",
   "execution_count": 120,
   "metadata": {},
   "outputs": [
    {
     "data": {
      "text/plain": [
       "\\r     36433\n",
       "0\\r     3531\n",
       "1\\r       62\n",
       "Name: BP1_31_3, dtype: int64"
      ]
     },
     "execution_count": 120,
     "metadata": {},
     "output_type": "execute_result"
    }
   ],
   "source": [
    "df_copy.BP1_31_3.value_counts()"
   ]
  },
  {
   "cell_type": "code",
   "execution_count": 121,
   "metadata": {},
   "outputs": [
    {
     "data": {
      "text/plain": [
       "99    36433\n",
       "0      3531\n",
       "1        62\n",
       "Name: BP1_31_3, dtype: int64"
      ]
     },
     "execution_count": 121,
     "metadata": {},
     "output_type": "execute_result"
    }
   ],
   "source": [
    "df_copy.BP1_31_3.replace({'1\\r':1,'0\\r':0,'\\r':99}, inplace=True)\n",
    "df_copy.BP1_31_3.value_counts()"
   ]
  },
  {
   "cell_type": "code",
   "execution_count": 122,
   "metadata": {},
   "outputs": [
    {
     "data": {
      "text/plain": [
       "\\r     36433\n",
       "0\\r     3130\n",
       "1\\r      463\n",
       "Name: BP1_31_4, dtype: int64"
      ]
     },
     "execution_count": 122,
     "metadata": {},
     "output_type": "execute_result"
    }
   ],
   "source": [
    "df_copy.BP1_31_4.value_counts()"
   ]
  },
  {
   "cell_type": "code",
   "execution_count": 123,
   "metadata": {},
   "outputs": [
    {
     "data": {
      "text/plain": [
       "99    36433\n",
       "0      3130\n",
       "1       463\n",
       "Name: BP1_31_4, dtype: int64"
      ]
     },
     "execution_count": 123,
     "metadata": {},
     "output_type": "execute_result"
    }
   ],
   "source": [
    "df_copy.BP1_31_4.replace({'1\\r':1,'0\\r':0,'\\r':99}, inplace=True)\n",
    "df_copy.BP1_31_4.value_counts()"
   ]
  },
  {
   "cell_type": "code",
   "execution_count": 124,
   "metadata": {},
   "outputs": [
    {
     "data": {
      "text/plain": [
       "\\r     36433\n",
       "0\\r     3447\n",
       "1\\r      146\n",
       "Name: BP1_31_5, dtype: int64"
      ]
     },
     "execution_count": 124,
     "metadata": {},
     "output_type": "execute_result"
    }
   ],
   "source": [
    "df_copy.BP1_31_5.value_counts()"
   ]
  },
  {
   "cell_type": "code",
   "execution_count": 125,
   "metadata": {},
   "outputs": [
    {
     "data": {
      "text/plain": [
       "99    36433\n",
       "0      3447\n",
       "1       146\n",
       "Name: BP1_31_5, dtype: int64"
      ]
     },
     "execution_count": 125,
     "metadata": {},
     "output_type": "execute_result"
    }
   ],
   "source": [
    "df_copy.BP1_31_5.replace({'1\\r':1,'0\\r':0,'\\r':99}, inplace=True)\n",
    "df_copy.BP1_31_5.value_counts()"
   ]
  },
  {
   "cell_type": "code",
   "execution_count": 126,
   "metadata": {},
   "outputs": [
    {
     "data": {
      "text/plain": [
       "\\r     36433\n",
       "0\\r     3534\n",
       "1\\r       59\n",
       "Name: BP1_31_6, dtype: int64"
      ]
     },
     "execution_count": 126,
     "metadata": {},
     "output_type": "execute_result"
    }
   ],
   "source": [
    "df_copy.BP1_31_6.value_counts()"
   ]
  },
  {
   "cell_type": "code",
   "execution_count": 127,
   "metadata": {},
   "outputs": [
    {
     "data": {
      "text/plain": [
       "99    36433\n",
       "0      3534\n",
       "1        59\n",
       "Name: BP1_31_6, dtype: int64"
      ]
     },
     "execution_count": 127,
     "metadata": {},
     "output_type": "execute_result"
    }
   ],
   "source": [
    "df_copy.BP1_31_6.replace({'1\\r':1,'0\\r':0,'\\r':99}, inplace=True)\n",
    "df_copy.BP1_31_6.value_counts()"
   ]
  },
  {
   "cell_type": "code",
   "execution_count": 128,
   "metadata": {},
   "outputs": [
    {
     "data": {
      "text/plain": [
       "\\r     36433\n",
       "0\\r     3485\n",
       "1\\r      108\n",
       "Name: BP1_31_7, dtype: int64"
      ]
     },
     "execution_count": 128,
     "metadata": {},
     "output_type": "execute_result"
    }
   ],
   "source": [
    "df_copy.BP1_31_7.value_counts()"
   ]
  },
  {
   "cell_type": "code",
   "execution_count": 129,
   "metadata": {},
   "outputs": [
    {
     "data": {
      "text/plain": [
       "99    36433\n",
       "0      3485\n",
       "1       108\n",
       "Name: BP1_31_7, dtype: int64"
      ]
     },
     "execution_count": 129,
     "metadata": {},
     "output_type": "execute_result"
    }
   ],
   "source": [
    "df_copy.BP1_31_7.replace({'1\\r':1,'0\\r':0,'\\r':99}, inplace=True)\n",
    "df_copy.BP1_31_7.value_counts()"
   ]
  },
  {
   "cell_type": "code",
   "execution_count": 130,
   "metadata": {},
   "outputs": [
    {
     "data": {
      "text/plain": [
       "\\r     36433\n",
       "0\\r     3106\n",
       "1\\r      487\n",
       "Name: BP1_31_8, dtype: int64"
      ]
     },
     "execution_count": 130,
     "metadata": {},
     "output_type": "execute_result"
    }
   ],
   "source": [
    "df_copy.BP1_31_8.value_counts()"
   ]
  },
  {
   "cell_type": "code",
   "execution_count": 131,
   "metadata": {},
   "outputs": [
    {
     "data": {
      "text/plain": [
       "99    36433\n",
       "0      3106\n",
       "1       487\n",
       "Name: BP1_31_8, dtype: int64"
      ]
     },
     "execution_count": 131,
     "metadata": {},
     "output_type": "execute_result"
    }
   ],
   "source": [
    "df_copy.BP1_31_8.replace({'1\\r':1,'0\\r':0,'\\r':99}, inplace=True)\n",
    "df_copy.BP1_31_8.value_counts()"
   ]
  },
  {
   "cell_type": "code",
   "execution_count": 132,
   "metadata": {},
   "outputs": [
    {
     "data": {
      "text/plain": [
       "\\r     36433\n",
       "0\\r     3412\n",
       "1\\r      181\n",
       "Name: BP1_31_9, dtype: int64"
      ]
     },
     "execution_count": 132,
     "metadata": {},
     "output_type": "execute_result"
    }
   ],
   "source": [
    "df_copy.BP1_31_9.value_counts()"
   ]
  },
  {
   "cell_type": "code",
   "execution_count": 133,
   "metadata": {},
   "outputs": [
    {
     "data": {
      "text/plain": [
       "99    36433\n",
       "0      3412\n",
       "1       181\n",
       "Name: BP1_31_9, dtype: int64"
      ]
     },
     "execution_count": 133,
     "metadata": {},
     "output_type": "execute_result"
    }
   ],
   "source": [
    "df_copy.BP1_31_9.replace({'1\\r':1,'0\\r':0,'\\r':99}, inplace=True)\n",
    "df_copy.BP1_31_9.value_counts()"
   ]
  },
  {
   "cell_type": "code",
   "execution_count": 134,
   "metadata": {},
   "outputs": [
    {
     "data": {
      "text/plain": [
       "\\r     32517\n",
       "0\\r     5510\n",
       "1\\r     1999\n",
       "Name: BP1_32_1, dtype: int64"
      ]
     },
     "execution_count": 134,
     "metadata": {},
     "output_type": "execute_result"
    }
   ],
   "source": [
    "df_copy.BP1_32_1.value_counts()"
   ]
  },
  {
   "cell_type": "code",
   "execution_count": 135,
   "metadata": {},
   "outputs": [
    {
     "data": {
      "text/plain": [
       "99    32517\n",
       "0      5510\n",
       "1      1999\n",
       "Name: BP1_32_1, dtype: int64"
      ]
     },
     "execution_count": 135,
     "metadata": {},
     "output_type": "execute_result"
    }
   ],
   "source": [
    "df_copy.BP1_32_1.replace({'1\\r':1,'0\\r':0,'\\r':99}, inplace=True)\n",
    "df_copy.BP1_32_1.value_counts()"
   ]
  },
  {
   "cell_type": "code",
   "execution_count": 136,
   "metadata": {},
   "outputs": [
    {
     "data": {
      "text/plain": [
       "\\r     32517\n",
       "0\\r     7436\n",
       "1\\r       73\n",
       "Name: BP1_32_2, dtype: int64"
      ]
     },
     "execution_count": 136,
     "metadata": {},
     "output_type": "execute_result"
    }
   ],
   "source": [
    "df_copy.BP1_32_2.value_counts()"
   ]
  },
  {
   "cell_type": "code",
   "execution_count": 137,
   "metadata": {},
   "outputs": [
    {
     "data": {
      "text/plain": [
       "99    32517\n",
       "0      7436\n",
       "1        73\n",
       "Name: BP1_32_2, dtype: int64"
      ]
     },
     "execution_count": 137,
     "metadata": {},
     "output_type": "execute_result"
    }
   ],
   "source": [
    "df_copy.BP1_32_2.replace({'1\\r':1,'0\\r':0,'\\r':99}, inplace=True)\n",
    "df_copy.BP1_32_2.value_counts()"
   ]
  },
  {
   "cell_type": "code",
   "execution_count": 138,
   "metadata": {},
   "outputs": [
    {
     "data": {
      "text/plain": [
       "\\r     32517\n",
       "0\\r     7484\n",
       "1\\r       25\n",
       "Name: BP1_32_3, dtype: int64"
      ]
     },
     "execution_count": 138,
     "metadata": {},
     "output_type": "execute_result"
    }
   ],
   "source": [
    "df_copy.BP1_32_3.value_counts()"
   ]
  },
  {
   "cell_type": "code",
   "execution_count": 139,
   "metadata": {},
   "outputs": [
    {
     "data": {
      "text/plain": [
       "99    32517\n",
       "0      7484\n",
       "1        25\n",
       "Name: BP1_32_3, dtype: int64"
      ]
     },
     "execution_count": 139,
     "metadata": {},
     "output_type": "execute_result"
    }
   ],
   "source": [
    "df_copy.BP1_32_3.replace({'1\\r':1,'0\\r':0,'\\r':99}, inplace=True)\n",
    "df_copy.BP1_32_3.value_counts()"
   ]
  },
  {
   "cell_type": "code",
   "execution_count": 140,
   "metadata": {},
   "outputs": [
    {
     "data": {
      "text/plain": [
       "\\r     32517\n",
       "0\\r     7489\n",
       "1\\r       20\n",
       "Name: BP1_32_4, dtype: int64"
      ]
     },
     "execution_count": 140,
     "metadata": {},
     "output_type": "execute_result"
    }
   ],
   "source": [
    "df_copy.BP1_32_4.value_counts()"
   ]
  },
  {
   "cell_type": "code",
   "execution_count": 141,
   "metadata": {},
   "outputs": [
    {
     "data": {
      "text/plain": [
       "99    32517\n",
       "0      7489\n",
       "1        20\n",
       "Name: BP1_32_4, dtype: int64"
      ]
     },
     "execution_count": 141,
     "metadata": {},
     "output_type": "execute_result"
    }
   ],
   "source": [
    "df_copy.BP1_32_4.replace({'1\\r':1,'0\\r':0,'\\r':99}, inplace=True)\n",
    "df_copy.BP1_32_4.value_counts()"
   ]
  },
  {
   "cell_type": "code",
   "execution_count": 142,
   "metadata": {},
   "outputs": [
    {
     "data": {
      "text/plain": [
       "\\r     32517\n",
       "1\\r     5303\n",
       "0\\r     2206\n",
       "Name: BP1_32_5, dtype: int64"
      ]
     },
     "execution_count": 142,
     "metadata": {},
     "output_type": "execute_result"
    }
   ],
   "source": [
    "df_copy.BP1_32_5.value_counts()"
   ]
  },
  {
   "cell_type": "code",
   "execution_count": 143,
   "metadata": {},
   "outputs": [
    {
     "data": {
      "text/plain": [
       "99    32517\n",
       "1      5303\n",
       "0      2206\n",
       "Name: BP1_32_5, dtype: int64"
      ]
     },
     "execution_count": 143,
     "metadata": {},
     "output_type": "execute_result"
    }
   ],
   "source": [
    "df_copy.BP1_32_5.replace({'1\\r':1,'0\\r':0,'\\r':99}, inplace=True)\n",
    "df_copy.BP1_32_5.value_counts()"
   ]
  },
  {
   "cell_type": "code",
   "execution_count": 144,
   "metadata": {},
   "outputs": [
    {
     "data": {
      "text/plain": [
       "\\r     32517\n",
       "0\\r     7401\n",
       "1\\r      108\n",
       "Name: BP1_32_9, dtype: int64"
      ]
     },
     "execution_count": 144,
     "metadata": {},
     "output_type": "execute_result"
    }
   ],
   "source": [
    "df_copy.BP1_32_9.value_counts()"
   ]
  },
  {
   "cell_type": "code",
   "execution_count": 145,
   "metadata": {},
   "outputs": [
    {
     "data": {
      "text/plain": [
       "99    32517\n",
       "0      7401\n",
       "1       108\n",
       "Name: BP1_32_9, dtype: int64"
      ]
     },
     "execution_count": 145,
     "metadata": {},
     "output_type": "execute_result"
    }
   ],
   "source": [
    "df_copy.BP1_32_9.replace({'1\\r':1,'0\\r':0,'\\r':99}, inplace=True)\n",
    "df_copy.BP1_32_9.value_counts()"
   ]
  },
  {
   "cell_type": "code",
   "execution_count": 146,
   "metadata": {},
   "outputs": [
    {
     "data": {
      "text/plain": [
       "1    23547\n",
       "5     7693\n",
       "3     7380\n",
       "2     1159\n",
       "4      148\n",
       "9       99\n",
       "Name: BP1_33, dtype: int64"
      ]
     },
     "execution_count": 146,
     "metadata": {},
     "output_type": "execute_result"
    }
   ],
   "source": [
    "df_copy.BP1_33.value_counts()"
   ]
  },
  {
   "cell_type": "code",
   "execution_count": 147,
   "metadata": {},
   "outputs": [
    {
     "data": {
      "text/plain": [
       "1     23547\n",
       "5      7693\n",
       "3      7380\n",
       "2      1159\n",
       "4       148\n",
       "99       99\n",
       "Name: BP1_33, dtype: int64"
      ]
     },
     "execution_count": 147,
     "metadata": {},
     "output_type": "execute_result"
    }
   ],
   "source": [
    "df_copy.BP1_33.replace({9:99}, inplace=True)\n",
    "df_copy.BP1_33.value_counts()"
   ]
  },
  {
   "cell_type": "code",
   "execution_count": 148,
   "metadata": {},
   "outputs": [
    {
     "data": {
      "text/plain": [
       "\\r           7792\n",
       "0000000\\r    7361\n",
       "0002000\\r    1949\n",
       "0001000\\r    1861\n",
       "0000500\\r    1645\n",
       "0003000\\r    1604\n",
       "0001500\\r    1296\n",
       "0005000\\r    1246\n",
       "0000200\\r     953\n",
       "0000300\\r     926\n",
       "0004000\\r     786\n",
       "0010000\\r     683\n",
       "0000800\\r     679\n",
       "0000600\\r     588\n",
       "9999999\\r     570\n",
       "0002500\\r     566\n",
       "0001200\\r     562\n",
       "0000400\\r     505\n",
       "0006000\\r     503\n",
       "0000100\\r     479\n",
       "0015000\\r     431\n",
       "0008000\\r     430\n",
       "0020000\\r     393\n",
       "0000700\\r     387\n",
       "0007000\\r     364\n",
       "0003500\\r     312\n",
       "0030000\\r     266\n",
       "0000150\\r     207\n",
       "0001800\\r     207\n",
       "0000050\\r     187\n",
       "             ... \n",
       "0008100\\r       1\n",
       "0000613\\r       1\n",
       "0004750\\r       1\n",
       "0000260\\r       1\n",
       "0161000\\r       1\n",
       "0008400\\r       1\n",
       "0015500\\r       1\n",
       "0001080\\r       1\n",
       "0007400\\r       1\n",
       "0001170\\r       1\n",
       "0003950\\r       1\n",
       "0000011\\r       1\n",
       "0850000\\r       1\n",
       "0000055\\r       1\n",
       "0003650\\r       1\n",
       "0000185\\r       1\n",
       "0001930\\r       1\n",
       "0000680\\r       1\n",
       "0000085\\r       1\n",
       "0009200\\r       1\n",
       "0002140\\r       1\n",
       "0006100\\r       1\n",
       "0004696\\r       1\n",
       "0016700\\r       1\n",
       "0000865\\r       1\n",
       "0001570\\r       1\n",
       "0000195\\r       1\n",
       "0003890\\r       1\n",
       "0000370\\r       1\n",
       "0001140\\r       1\n",
       "Name: BP1_34, Length: 383, dtype: int64"
      ]
     },
     "execution_count": 148,
     "metadata": {},
     "output_type": "execute_result"
    }
   ],
   "source": [
    "df_copy.BP1_34.value_counts()\n",
    "#Pendiente"
   ]
  },
  {
   "cell_type": "code",
   "execution_count": 149,
   "metadata": {},
   "outputs": [
    {
     "data": {
      "text/plain": [
       "           7792\n",
       "0000000    7361\n",
       "0002000    1949\n",
       "0001000    1861\n",
       "0000500    1645\n",
       "0003000    1604\n",
       "0001500    1296\n",
       "0005000    1246\n",
       "0000200     953\n",
       "0000300     926\n",
       "0004000     786\n",
       "0010000     683\n",
       "0000800     679\n",
       "0000600     588\n",
       "9999999     570\n",
       "0002500     566\n",
       "0001200     562\n",
       "0000400     505\n",
       "0006000     503\n",
       "0000100     479\n",
       "0015000     431\n",
       "0008000     430\n",
       "0020000     393\n",
       "0000700     387\n",
       "0007000     364\n",
       "0003500     312\n",
       "0030000     266\n",
       "0000150     207\n",
       "0001800     207\n",
       "0000050     187\n",
       "           ... \n",
       "0013600       1\n",
       "0003250       1\n",
       "0163000       1\n",
       "0001280       1\n",
       "0000012       1\n",
       "0000368       1\n",
       "0900000       1\n",
       "0210000       1\n",
       "0056000       1\n",
       "0113000       1\n",
       "0000026       1\n",
       "0008100       1\n",
       "0098000       1\n",
       "0003460       1\n",
       "0004850       1\n",
       "0002847       1\n",
       "0000699       1\n",
       "0000990       1\n",
       "0001170       1\n",
       "0016360       1\n",
       "0002450       1\n",
       "0002365       1\n",
       "0028500       1\n",
       "0000997       1\n",
       "0006100       1\n",
       "0009200       1\n",
       "0001850       1\n",
       "0000195       1\n",
       "0083000       1\n",
       "0001950       1\n",
       "Name: BP1_34, Length: 383, dtype: int64"
      ]
     },
     "execution_count": 149,
     "metadata": {},
     "output_type": "execute_result"
    }
   ],
   "source": [
    "df_copy.BP1_34 =  df_copy.BP1_34.replace( '\\r', \"\", regex = True  )\n",
    "df_copy.BP1_34.value_counts()"
   ]
  },
  {
   "cell_type": "code",
   "execution_count": 150,
   "metadata": {},
   "outputs": [
    {
     "data": {
      "text/plain": [
       "0000000\\r    30164\n",
       "\\r            7792\n",
       "9999999\\r      251\n",
       "0000500\\r      182\n",
       "0001000\\r      181\n",
       "0002000\\r      162\n",
       "0000300\\r      119\n",
       "0003000\\r      106\n",
       "0005000\\r      100\n",
       "0001500\\r       94\n",
       "0000200\\r       86\n",
       "0000800\\r       61\n",
       "0000100\\r       57\n",
       "0000600\\r       53\n",
       "0010000\\r       52\n",
       "0000400\\r       41\n",
       "0004000\\r       37\n",
       "0006000\\r       32\n",
       "0002500\\r       30\n",
       "0000700\\r       26\n",
       "0015000\\r       21\n",
       "0007000\\r       21\n",
       "0000150\\r       20\n",
       "0001200\\r       20\n",
       "0003500\\r       20\n",
       "0030000\\r       16\n",
       "0000250\\r       15\n",
       "0008000\\r       15\n",
       "0000050\\r       15\n",
       "0025000\\r       13\n",
       "             ...  \n",
       "0024000\\r        1\n",
       "0000750\\r        1\n",
       "0000720\\r        1\n",
       "0022500\\r        1\n",
       "0002900\\r        1\n",
       "0000007\\r        1\n",
       "0031000\\r        1\n",
       "0011000\\r        1\n",
       "0000130\\r        1\n",
       "0385000\\r        1\n",
       "0090000\\r        1\n",
       "0000216\\r        1\n",
       "0000028\\r        1\n",
       "0003300\\r        1\n",
       "0000950\\r        1\n",
       "0400000\\r        1\n",
       "0120000\\r        1\n",
       "0000550\\r        1\n",
       "0005500\\r        1\n",
       "0000170\\r        1\n",
       "0047000\\r        1\n",
       "0000343\\r        1\n",
       "0002700\\r        1\n",
       "0000089\\r        1\n",
       "0007200\\r        1\n",
       "0001760\\r        1\n",
       "0007600\\r        1\n",
       "0000055\\r        1\n",
       "0004800\\r        1\n",
       "0000980\\r        1\n",
       "Name: BP1_35, Length: 114, dtype: int64"
      ]
     },
     "execution_count": 150,
     "metadata": {},
     "output_type": "execute_result"
    }
   ],
   "source": [
    "df_copy.BP1_35.value_counts()\n",
    "#Pendiente"
   ]
  },
  {
   "cell_type": "code",
   "execution_count": 151,
   "metadata": {},
   "outputs": [
    {
     "data": {
      "text/plain": [
       "           7792\n",
       "0000000    7361\n",
       "0002000    1949\n",
       "0001000    1861\n",
       "0000500    1645\n",
       "0003000    1604\n",
       "0001500    1296\n",
       "0005000    1246\n",
       "0000200     953\n",
       "0000300     926\n",
       "0004000     786\n",
       "0010000     683\n",
       "0000800     679\n",
       "0000600     588\n",
       "9999999     570\n",
       "0002500     566\n",
       "0001200     562\n",
       "0000400     505\n",
       "0006000     503\n",
       "0000100     479\n",
       "0015000     431\n",
       "0008000     430\n",
       "0020000     393\n",
       "0000700     387\n",
       "0007000     364\n",
       "0003500     312\n",
       "0030000     266\n",
       "0000150     207\n",
       "0001800     207\n",
       "0000050     187\n",
       "           ... \n",
       "0013600       1\n",
       "0003250       1\n",
       "0163000       1\n",
       "0001280       1\n",
       "0000012       1\n",
       "0000368       1\n",
       "0900000       1\n",
       "0210000       1\n",
       "0056000       1\n",
       "0113000       1\n",
       "0000026       1\n",
       "0008100       1\n",
       "0098000       1\n",
       "0003460       1\n",
       "0004850       1\n",
       "0002847       1\n",
       "0000699       1\n",
       "0000990       1\n",
       "0001170       1\n",
       "0016360       1\n",
       "0002450       1\n",
       "0002365       1\n",
       "0028500       1\n",
       "0000997       1\n",
       "0006100       1\n",
       "0009200       1\n",
       "0001850       1\n",
       "0000195       1\n",
       "0083000       1\n",
       "0001950       1\n",
       "Name: BP1_35, Length: 383, dtype: int64"
      ]
     },
     "execution_count": 151,
     "metadata": {},
     "output_type": "execute_result"
    }
   ],
   "source": [
    "df_copy.BP1_35 =  df_copy.BP1_34.replace( '\\r', \"\", regex = True  )\n",
    "df_copy.BP1_35.value_counts()"
   ]
  },
  {
   "cell_type": "code",
   "execution_count": 152,
   "metadata": {},
   "outputs": [
    {
     "data": {
      "text/plain": [
       "0\\r    16636\n",
       "\\r     16603\n",
       "1\\r     6787\n",
       "Name: BP1_36_01, dtype: int64"
      ]
     },
     "execution_count": 152,
     "metadata": {},
     "output_type": "execute_result"
    }
   ],
   "source": [
    "df_copy.BP1_36_01.value_counts()"
   ]
  },
  {
   "cell_type": "code",
   "execution_count": 153,
   "metadata": {},
   "outputs": [
    {
     "data": {
      "text/plain": [
       "0     16636\n",
       "99    16603\n",
       "1      6787\n",
       "Name: BP1_36_01, dtype: int64"
      ]
     },
     "execution_count": 153,
     "metadata": {},
     "output_type": "execute_result"
    }
   ],
   "source": [
    "df_copy.BP1_36_01.replace({'1\\r':1,'0\\r':0,'\\r':99}, inplace=True)\n",
    "df_copy.BP1_36_01.value_counts()"
   ]
  },
  {
   "cell_type": "code",
   "execution_count": 154,
   "metadata": {},
   "outputs": [
    {
     "data": {
      "text/plain": [
       "0\\r    17391\n",
       "\\r     16603\n",
       "1\\r     6032\n",
       "Name: BP1_36_02, dtype: int64"
      ]
     },
     "execution_count": 154,
     "metadata": {},
     "output_type": "execute_result"
    }
   ],
   "source": [
    "df_copy.BP1_36_02.value_counts()"
   ]
  },
  {
   "cell_type": "code",
   "execution_count": 155,
   "metadata": {},
   "outputs": [
    {
     "data": {
      "text/plain": [
       "0     17391\n",
       "99    16603\n",
       "1      6032\n",
       "Name: BP1_36_02, dtype: int64"
      ]
     },
     "execution_count": 155,
     "metadata": {},
     "output_type": "execute_result"
    }
   ],
   "source": [
    "df_copy.BP1_36_02.replace({'1\\r':1,'0\\r':0,'\\r':99}, inplace=True)\n",
    "df_copy.BP1_36_02.value_counts()"
   ]
  },
  {
   "cell_type": "code",
   "execution_count": 156,
   "metadata": {},
   "outputs": [
    {
     "data": {
      "text/plain": [
       "\\r     16603\n",
       "0\\r    15401\n",
       "1\\r     8022\n",
       "Name: BP1_36_03, dtype: int64"
      ]
     },
     "execution_count": 156,
     "metadata": {},
     "output_type": "execute_result"
    }
   ],
   "source": [
    "df_copy.BP1_36_03.value_counts()"
   ]
  },
  {
   "cell_type": "code",
   "execution_count": 157,
   "metadata": {},
   "outputs": [
    {
     "data": {
      "text/plain": [
       "99    16603\n",
       "0     15401\n",
       "1      8022\n",
       "Name: BP1_36_03, dtype: int64"
      ]
     },
     "execution_count": 157,
     "metadata": {},
     "output_type": "execute_result"
    }
   ],
   "source": [
    "df_copy.BP1_36_03.replace({'1\\r':1,'0\\r':0,'\\r':99}, inplace=True)\n",
    "df_copy.BP1_36_03.value_counts()"
   ]
  },
  {
   "cell_type": "code",
   "execution_count": 158,
   "metadata": {},
   "outputs": [
    {
     "data": {
      "text/plain": [
       "\\r     16603\n",
       "0\\r    14986\n",
       "1\\r     8437\n",
       "Name: BP1_36_04, dtype: int64"
      ]
     },
     "execution_count": 158,
     "metadata": {},
     "output_type": "execute_result"
    }
   ],
   "source": [
    "df_copy.BP1_36_04.value_counts()"
   ]
  },
  {
   "cell_type": "code",
   "execution_count": 159,
   "metadata": {},
   "outputs": [
    {
     "data": {
      "text/plain": [
       "99    16603\n",
       "0     14986\n",
       "1      8437\n",
       "Name: BP1_36_04, dtype: int64"
      ]
     },
     "execution_count": 159,
     "metadata": {},
     "output_type": "execute_result"
    }
   ],
   "source": [
    "df_copy.BP1_36_04.replace({'1\\r':1,'0\\r':0,'\\r':99}, inplace=True)\n",
    "df_copy.BP1_36_04.value_counts()"
   ]
  },
  {
   "cell_type": "code",
   "execution_count": 160,
   "metadata": {},
   "outputs": [
    {
     "data": {
      "text/plain": [
       "0\\r    21323\n",
       "\\r     16603\n",
       "1\\r     2100\n",
       "Name: BP1_36_05, dtype: int64"
      ]
     },
     "execution_count": 160,
     "metadata": {},
     "output_type": "execute_result"
    }
   ],
   "source": [
    "df_copy.BP1_36_05.value_counts()"
   ]
  },
  {
   "cell_type": "code",
   "execution_count": 161,
   "metadata": {},
   "outputs": [
    {
     "data": {
      "text/plain": [
       "0     21323\n",
       "99    16603\n",
       "1      2100\n",
       "Name: BP1_36_05, dtype: int64"
      ]
     },
     "execution_count": 161,
     "metadata": {},
     "output_type": "execute_result"
    }
   ],
   "source": [
    "df_copy.BP1_36_05.replace({'1\\r':1,'0\\r':0,'\\r':99}, inplace=True)\n",
    "df_copy.BP1_36_05.value_counts()"
   ]
  },
  {
   "cell_type": "code",
   "execution_count": 162,
   "metadata": {},
   "outputs": [
    {
     "data": {
      "text/plain": [
       "0\\r    18869\n",
       "\\r     16603\n",
       "1\\r     4554\n",
       "Name: BP1_36_06, dtype: int64"
      ]
     },
     "execution_count": 162,
     "metadata": {},
     "output_type": "execute_result"
    }
   ],
   "source": [
    "df_copy.BP1_36_06.value_counts()"
   ]
  },
  {
   "cell_type": "code",
   "execution_count": 163,
   "metadata": {},
   "outputs": [
    {
     "data": {
      "text/plain": [
       "0     18869\n",
       "99    16603\n",
       "1      4554\n",
       "Name: BP1_36_06, dtype: int64"
      ]
     },
     "execution_count": 163,
     "metadata": {},
     "output_type": "execute_result"
    }
   ],
   "source": [
    "df_copy.BP1_36_06.replace({'1\\r':1,'0\\r':0,'\\r':99}, inplace=True)\n",
    "df_copy.BP1_36_06.value_counts()"
   ]
  },
  {
   "cell_type": "code",
   "execution_count": 164,
   "metadata": {},
   "outputs": [
    {
     "data": {
      "text/plain": [
       "0\\r    19987\n",
       "\\r     16603\n",
       "1\\r     3436\n",
       "Name: BP1_36_07, dtype: int64"
      ]
     },
     "execution_count": 164,
     "metadata": {},
     "output_type": "execute_result"
    }
   ],
   "source": [
    "df_copy.BP1_36_07.value_counts()"
   ]
  },
  {
   "cell_type": "code",
   "execution_count": 165,
   "metadata": {},
   "outputs": [
    {
     "data": {
      "text/plain": [
       "0     19987\n",
       "99    16603\n",
       "1      3436\n",
       "Name: BP1_36_07, dtype: int64"
      ]
     },
     "execution_count": 165,
     "metadata": {},
     "output_type": "execute_result"
    }
   ],
   "source": [
    "df_copy.BP1_36_07.replace({'1\\r':1,'0\\r':0,'\\r':99}, inplace=True)\n",
    "df_copy.BP1_36_07.value_counts()"
   ]
  },
  {
   "cell_type": "code",
   "execution_count": 166,
   "metadata": {},
   "outputs": [
    {
     "data": {
      "text/plain": [
       "\\r     16603\n",
       "0\\r    14138\n",
       "1\\r     9285\n",
       "Name: BP1_36_08, dtype: int64"
      ]
     },
     "execution_count": 166,
     "metadata": {},
     "output_type": "execute_result"
    }
   ],
   "source": [
    "df_copy.BP1_36_08.value_counts()"
   ]
  },
  {
   "cell_type": "code",
   "execution_count": 167,
   "metadata": {},
   "outputs": [
    {
     "data": {
      "text/plain": [
       "99    16603\n",
       "0     14138\n",
       "1      9285\n",
       "Name: BP1_36_08, dtype: int64"
      ]
     },
     "execution_count": 167,
     "metadata": {},
     "output_type": "execute_result"
    }
   ],
   "source": [
    "df_copy.BP1_36_08.replace({'1\\r':1,'0\\r':0,'\\r':99}, inplace=True)\n",
    "df_copy.BP1_36_08.value_counts()"
   ]
  },
  {
   "cell_type": "code",
   "execution_count": 168,
   "metadata": {},
   "outputs": [
    {
     "data": {
      "text/plain": [
       "\\r     16603\n",
       "1\\r    12045\n",
       "0\\r    11378\n",
       "Name: BP1_36_09, dtype: int64"
      ]
     },
     "execution_count": 168,
     "metadata": {},
     "output_type": "execute_result"
    }
   ],
   "source": [
    "df_copy.BP1_36_09.value_counts()"
   ]
  },
  {
   "cell_type": "code",
   "execution_count": 169,
   "metadata": {},
   "outputs": [
    {
     "data": {
      "text/plain": [
       "99    16603\n",
       "1     12045\n",
       "0     11378\n",
       "Name: BP1_36_09, dtype: int64"
      ]
     },
     "execution_count": 169,
     "metadata": {},
     "output_type": "execute_result"
    }
   ],
   "source": [
    "df_copy.BP1_36_09.replace({'1\\r':1,'0\\r':0,'\\r':99}, inplace=True)\n",
    "df_copy.BP1_36_09.value_counts()"
   ]
  },
  {
   "cell_type": "code",
   "execution_count": 170,
   "metadata": {},
   "outputs": [
    {
     "data": {
      "text/plain": [
       "0\\r    22585\n",
       "\\r     16603\n",
       "1\\r      838\n",
       "Name: BP1_36_10, dtype: int64"
      ]
     },
     "execution_count": 170,
     "metadata": {},
     "output_type": "execute_result"
    }
   ],
   "source": [
    "df_copy.BP1_36_10.value_counts()"
   ]
  },
  {
   "cell_type": "code",
   "execution_count": 171,
   "metadata": {},
   "outputs": [
    {
     "data": {
      "text/plain": [
       "0     22585\n",
       "99    16603\n",
       "1       838\n",
       "Name: BP1_36_10, dtype: int64"
      ]
     },
     "execution_count": 171,
     "metadata": {},
     "output_type": "execute_result"
    }
   ],
   "source": [
    "df_copy.BP1_36_10.replace({'1\\r':1,'0\\r':0,'\\r':99}, inplace=True)\n",
    "df_copy.BP1_36_10.value_counts()"
   ]
  },
  {
   "cell_type": "code",
   "execution_count": 172,
   "metadata": {},
   "outputs": [
    {
     "data": {
      "text/plain": [
       "0\\r    22670\n",
       "\\r     16603\n",
       "1\\r      753\n",
       "Name: BP1_36_11, dtype: int64"
      ]
     },
     "execution_count": 172,
     "metadata": {},
     "output_type": "execute_result"
    }
   ],
   "source": [
    "df_copy.BP1_36_11.value_counts()"
   ]
  },
  {
   "cell_type": "code",
   "execution_count": 173,
   "metadata": {},
   "outputs": [
    {
     "data": {
      "text/plain": [
       "0     22670\n",
       "99    16603\n",
       "1       753\n",
       "Name: BP1_36_11, dtype: int64"
      ]
     },
     "execution_count": 173,
     "metadata": {},
     "output_type": "execute_result"
    }
   ],
   "source": [
    "df_copy.BP1_36_11.replace({'1\\r':1,'0\\r':0,'\\r':99}, inplace=True)\n",
    "df_copy.BP1_36_11.value_counts()"
   ]
  },
  {
   "cell_type": "code",
   "execution_count": 174,
   "metadata": {},
   "outputs": [
    {
     "data": {
      "text/plain": [
       "0\\r    23126\n",
       "\\r     16603\n",
       "1\\r      297\n",
       "Name: BP1_36_99, dtype: int64"
      ]
     },
     "execution_count": 174,
     "metadata": {},
     "output_type": "execute_result"
    }
   ],
   "source": [
    "df_copy.BP1_36_99.value_counts()"
   ]
  },
  {
   "cell_type": "code",
   "execution_count": 175,
   "metadata": {},
   "outputs": [
    {
     "data": {
      "text/plain": [
       "0     23126\n",
       "99    16603\n",
       "1       297\n",
       "Name: BP1_36_99, dtype: int64"
      ]
     },
     "execution_count": 175,
     "metadata": {},
     "output_type": "execute_result"
    }
   ],
   "source": [
    "df_copy.BP1_36_99.replace({'1\\r':1,'0\\r':0,'\\r':99}, inplace=True)\n",
    "df_copy.BP1_36_99.value_counts()"
   ]
  },
  {
   "cell_type": "code",
   "execution_count": 176,
   "metadata": {},
   "outputs": [
    {
     "data": {
      "text/plain": [
       "\\r     39061\n",
       "2\\r      669\n",
       "1\\r      288\n",
       "9\\r        8\n",
       "Name: BP2_1, dtype: int64"
      ]
     },
     "execution_count": 176,
     "metadata": {},
     "output_type": "execute_result"
    }
   ],
   "source": [
    "df_copy.BP2_1.value_counts()"
   ]
  },
  {
   "cell_type": "code",
   "execution_count": 177,
   "metadata": {},
   "outputs": [
    {
     "data": {
      "text/plain": [
       "99    39069\n",
       "2       669\n",
       "1       288\n",
       "Name: BP2_1, dtype: int64"
      ]
     },
     "execution_count": 177,
     "metadata": {},
     "output_type": "execute_result"
    }
   ],
   "source": [
    "df_copy.BP2_1.replace({'1\\r':1,'0\\r':0,'\\r':99,'2\\r':2,'9\\r':99}, inplace=True)\n",
    "df_copy.BP2_1.value_counts()"
   ]
  },
  {
   "cell_type": "code",
   "execution_count": 178,
   "metadata": {},
   "outputs": [
    {
     "data": {
      "text/plain": [
       "\\r     28387\n",
       "0\\r    11408\n",
       "1\\r      231\n",
       "Name: BP3_1_01, dtype: int64"
      ]
     },
     "execution_count": 178,
     "metadata": {},
     "output_type": "execute_result"
    }
   ],
   "source": [
    "df_copy.BP3_1_01.value_counts()"
   ]
  },
  {
   "cell_type": "code",
   "execution_count": 179,
   "metadata": {},
   "outputs": [
    {
     "data": {
      "text/plain": [
       "99    28387\n",
       "0     11408\n",
       "1       231\n",
       "Name: BP3_1_01, dtype: int64"
      ]
     },
     "execution_count": 179,
     "metadata": {},
     "output_type": "execute_result"
    }
   ],
   "source": [
    "df_copy.BP3_1_01.replace({'1\\r':1,'0\\r':0,'\\r':99}, inplace=True)\n",
    "df_copy.BP3_1_01.value_counts()"
   ]
  },
  {
   "cell_type": "code",
   "execution_count": 180,
   "metadata": {},
   "outputs": [
    {
     "data": {
      "text/plain": [
       "\\r     28387\n",
       "0\\r    11179\n",
       "1\\r      460\n",
       "Name: BP3_1_02, dtype: int64"
      ]
     },
     "execution_count": 180,
     "metadata": {},
     "output_type": "execute_result"
    }
   ],
   "source": [
    "df_copy.BP3_1_02.value_counts()"
   ]
  },
  {
   "cell_type": "code",
   "execution_count": 181,
   "metadata": {},
   "outputs": [
    {
     "data": {
      "text/plain": [
       "99    28387\n",
       "0     11179\n",
       "1       460\n",
       "Name: BP3_1_02, dtype: int64"
      ]
     },
     "execution_count": 181,
     "metadata": {},
     "output_type": "execute_result"
    }
   ],
   "source": [
    "df_copy.BP3_1_02.replace({'1\\r':1,'0\\r':0,'\\r':99}, inplace=True)\n",
    "df_copy.BP3_1_02.value_counts()"
   ]
  },
  {
   "cell_type": "code",
   "execution_count": 182,
   "metadata": {},
   "outputs": [
    {
     "data": {
      "text/plain": [
       "\\r     28387\n",
       "0\\r     9908\n",
       "1\\r     1731\n",
       "Name: BP3_1_03, dtype: int64"
      ]
     },
     "execution_count": 182,
     "metadata": {},
     "output_type": "execute_result"
    }
   ],
   "source": [
    "df_copy.BP3_1_03.value_counts()"
   ]
  },
  {
   "cell_type": "code",
   "execution_count": 183,
   "metadata": {},
   "outputs": [
    {
     "data": {
      "text/plain": [
       "99    28387\n",
       "0      9908\n",
       "1      1731\n",
       "Name: BP3_1_03, dtype: int64"
      ]
     },
     "execution_count": 183,
     "metadata": {},
     "output_type": "execute_result"
    }
   ],
   "source": [
    "df_copy.BP3_1_03.replace({'1\\r':1,'0\\r':0,'\\r':99}, inplace=True)\n",
    "df_copy.BP3_1_03.value_counts()"
   ]
  },
  {
   "cell_type": "code",
   "execution_count": 184,
   "metadata": {},
   "outputs": [
    {
     "data": {
      "text/plain": [
       "\\r     28387\n",
       "0\\r    10750\n",
       "1\\r      889\n",
       "Name: BP3_1_04, dtype: int64"
      ]
     },
     "execution_count": 184,
     "metadata": {},
     "output_type": "execute_result"
    }
   ],
   "source": [
    "df_copy.BP3_1_04.value_counts()"
   ]
  },
  {
   "cell_type": "code",
   "execution_count": 185,
   "metadata": {},
   "outputs": [
    {
     "data": {
      "text/plain": [
       "99    28387\n",
       "0     10750\n",
       "1       889\n",
       "Name: BP3_1_04, dtype: int64"
      ]
     },
     "execution_count": 185,
     "metadata": {},
     "output_type": "execute_result"
    }
   ],
   "source": [
    "df_copy.BP3_1_04.replace({'1\\r':1,'0\\r':0,'\\r':99}, inplace=True)\n",
    "df_copy.BP3_1_04.value_counts()"
   ]
  },
  {
   "cell_type": "code",
   "execution_count": 186,
   "metadata": {},
   "outputs": [
    {
     "data": {
      "text/plain": [
       "\\r     28387\n",
       "0\\r    10835\n",
       "1\\r      804\n",
       "Name: BP3_1_05, dtype: int64"
      ]
     },
     "execution_count": 186,
     "metadata": {},
     "output_type": "execute_result"
    }
   ],
   "source": [
    "df_copy.BP3_1_05.value_counts()"
   ]
  },
  {
   "cell_type": "code",
   "execution_count": 187,
   "metadata": {},
   "outputs": [
    {
     "data": {
      "text/plain": [
       "99    28387\n",
       "0     10835\n",
       "1       804\n",
       "Name: BP3_1_05, dtype: int64"
      ]
     },
     "execution_count": 187,
     "metadata": {},
     "output_type": "execute_result"
    }
   ],
   "source": [
    "df_copy.BP3_1_05.replace({'1\\r':1,'0\\r':0,'\\r':99}, inplace=True)\n",
    "df_copy.BP3_1_05.value_counts()"
   ]
  },
  {
   "cell_type": "code",
   "execution_count": 188,
   "metadata": {},
   "outputs": [
    {
     "data": {
      "text/plain": [
       "\\r     28387\n",
       "0\\r    10317\n",
       "1\\r     1322\n",
       "Name: BP3_1_06, dtype: int64"
      ]
     },
     "execution_count": 188,
     "metadata": {},
     "output_type": "execute_result"
    }
   ],
   "source": [
    "df_copy.BP3_1_06.value_counts()"
   ]
  },
  {
   "cell_type": "code",
   "execution_count": 189,
   "metadata": {},
   "outputs": [
    {
     "data": {
      "text/plain": [
       "99    28387\n",
       "0     10317\n",
       "1      1322\n",
       "Name: BP3_1_06, dtype: int64"
      ]
     },
     "execution_count": 189,
     "metadata": {},
     "output_type": "execute_result"
    }
   ],
   "source": [
    "df_copy.BP3_1_06.replace({'1\\r':1,'0\\r':0,'\\r':99}, inplace=True)\n",
    "df_copy.BP3_1_06.value_counts()"
   ]
  },
  {
   "cell_type": "code",
   "execution_count": 190,
   "metadata": {},
   "outputs": [
    {
     "data": {
      "text/plain": [
       "\\r     28387\n",
       "0\\r     7141\n",
       "1\\r     4498\n",
       "Name: BP3_1_07, dtype: int64"
      ]
     },
     "execution_count": 190,
     "metadata": {},
     "output_type": "execute_result"
    }
   ],
   "source": [
    "df_copy.BP3_1_07.value_counts()"
   ]
  },
  {
   "cell_type": "code",
   "execution_count": 191,
   "metadata": {},
   "outputs": [
    {
     "data": {
      "text/plain": [
       "99    28387\n",
       "0      7141\n",
       "1      4498\n",
       "Name: BP3_1_07, dtype: int64"
      ]
     },
     "execution_count": 191,
     "metadata": {},
     "output_type": "execute_result"
    }
   ],
   "source": [
    "df_copy.BP3_1_07.replace({'1\\r':1,'0\\r':0,'\\r':99}, inplace=True)\n",
    "df_copy.BP3_1_07.value_counts()"
   ]
  },
  {
   "cell_type": "code",
   "execution_count": 192,
   "metadata": {},
   "outputs": [
    {
     "data": {
      "text/plain": [
       "\\r     28387\n",
       "0\\r    11003\n",
       "1\\r      636\n",
       "Name: BP3_1_08, dtype: int64"
      ]
     },
     "execution_count": 192,
     "metadata": {},
     "output_type": "execute_result"
    }
   ],
   "source": [
    "df_copy.BP3_1_08.value_counts()"
   ]
  },
  {
   "cell_type": "code",
   "execution_count": 193,
   "metadata": {},
   "outputs": [
    {
     "data": {
      "text/plain": [
       "99    28387\n",
       "0     11003\n",
       "1       636\n",
       "Name: BP3_1_08, dtype: int64"
      ]
     },
     "execution_count": 193,
     "metadata": {},
     "output_type": "execute_result"
    }
   ],
   "source": [
    "df_copy.BP3_1_08.replace({'1\\r':1,'0\\r':0,'\\r':99}, inplace=True)\n",
    "df_copy.BP3_1_08.value_counts()"
   ]
  },
  {
   "cell_type": "code",
   "execution_count": 194,
   "metadata": {},
   "outputs": [
    {
     "data": {
      "text/plain": [
       "\\r     28387\n",
       "0\\r     8904\n",
       "1\\r     2735\n",
       "Name: BP3_1_09, dtype: int64"
      ]
     },
     "execution_count": 194,
     "metadata": {},
     "output_type": "execute_result"
    }
   ],
   "source": [
    "df_copy.BP3_1_09.value_counts()"
   ]
  },
  {
   "cell_type": "code",
   "execution_count": 195,
   "metadata": {},
   "outputs": [
    {
     "data": {
      "text/plain": [
       "99    28387\n",
       "0      8904\n",
       "1      2735\n",
       "Name: BP3_1_09, dtype: int64"
      ]
     },
     "execution_count": 195,
     "metadata": {},
     "output_type": "execute_result"
    }
   ],
   "source": [
    "df_copy.BP3_1_09.replace({'1\\r':1,'0\\r':0,'\\r':99}, inplace=True)\n",
    "df_copy.BP3_1_09.value_counts()"
   ]
  },
  {
   "cell_type": "code",
   "execution_count": 196,
   "metadata": {},
   "outputs": [
    {
     "data": {
      "text/plain": [
       "\\r     28387\n",
       "0\\r    11116\n",
       "1\\r      523\n",
       "Name: BP3_1_10, dtype: int64"
      ]
     },
     "execution_count": 196,
     "metadata": {},
     "output_type": "execute_result"
    }
   ],
   "source": [
    "df_copy.BP3_1_10.value_counts()"
   ]
  },
  {
   "cell_type": "code",
   "execution_count": 197,
   "metadata": {},
   "outputs": [
    {
     "data": {
      "text/plain": [
       "99    28387\n",
       "0     11116\n",
       "1       523\n",
       "Name: BP3_1_10, dtype: int64"
      ]
     },
     "execution_count": 197,
     "metadata": {},
     "output_type": "execute_result"
    }
   ],
   "source": [
    "df_copy.BP3_1_10.replace({'1\\r':1,'0\\r':0,'\\r':99}, inplace=True)\n",
    "df_copy.BP3_1_10.value_counts()"
   ]
  },
  {
   "cell_type": "code",
   "execution_count": 198,
   "metadata": {},
   "outputs": [
    {
     "data": {
      "text/plain": [
       "\\r     28387\n",
       "0\\r     9423\n",
       "1\\r     2216\n",
       "Name: BP3_1_11, dtype: int64"
      ]
     },
     "execution_count": 198,
     "metadata": {},
     "output_type": "execute_result"
    }
   ],
   "source": [
    "df_copy.BP3_1_11.value_counts()"
   ]
  },
  {
   "cell_type": "code",
   "execution_count": 199,
   "metadata": {},
   "outputs": [
    {
     "data": {
      "text/plain": [
       "99    28387\n",
       "0      9423\n",
       "1      2216\n",
       "Name: BP3_1_11, dtype: int64"
      ]
     },
     "execution_count": 199,
     "metadata": {},
     "output_type": "execute_result"
    }
   ],
   "source": [
    "df_copy.BP3_1_11.replace({'1\\r':1,'0\\r':0,'\\r':99}, inplace=True)\n",
    "df_copy.BP3_1_11.value_counts()"
   ]
  },
  {
   "cell_type": "code",
   "execution_count": 200,
   "metadata": {},
   "outputs": [
    {
     "data": {
      "text/plain": [
       "\\r     28387\n",
       "0\\r     9982\n",
       "1\\r     1657\n",
       "Name: BP3_1_12, dtype: int64"
      ]
     },
     "execution_count": 200,
     "metadata": {},
     "output_type": "execute_result"
    }
   ],
   "source": [
    "df_copy.BP3_1_12.value_counts()"
   ]
  },
  {
   "cell_type": "code",
   "execution_count": 201,
   "metadata": {},
   "outputs": [
    {
     "data": {
      "text/plain": [
       "99    28387\n",
       "0      9982\n",
       "1      1657\n",
       "Name: BP3_1_12, dtype: int64"
      ]
     },
     "execution_count": 201,
     "metadata": {},
     "output_type": "execute_result"
    }
   ],
   "source": [
    "df_copy.BP3_1_12.replace({'1\\r':1,'0\\r':0,'\\r':99}, inplace=True)\n",
    "df_copy.BP3_1_12.value_counts()"
   ]
  },
  {
   "cell_type": "code",
   "execution_count": 202,
   "metadata": {},
   "outputs": [
    {
     "data": {
      "text/plain": [
       "\\r     28387\n",
       "0\\r    11520\n",
       "1\\r      119\n",
       "Name: BP3_1_99, dtype: int64"
      ]
     },
     "execution_count": 202,
     "metadata": {},
     "output_type": "execute_result"
    }
   ],
   "source": [
    "df_copy.BP3_1_99.value_counts()"
   ]
  },
  {
   "cell_type": "code",
   "execution_count": 203,
   "metadata": {},
   "outputs": [
    {
     "data": {
      "text/plain": [
       "99    28387\n",
       "0     11520\n",
       "1       119\n",
       "Name: BP3_1_99, dtype: int64"
      ]
     },
     "execution_count": 203,
     "metadata": {},
     "output_type": "execute_result"
    }
   ],
   "source": [
    "df_copy.BP3_1_99.replace({'1\\r':1,'0\\r':0,'\\r':99}, inplace=True)\n",
    "df_copy.BP3_1_99.value_counts()"
   ]
  },
  {
   "cell_type": "code",
   "execution_count": 204,
   "metadata": {},
   "outputs": [
    {
     "data": {
      "text/plain": [
       "\\r     34428\n",
       "2\\r     3597\n",
       "1\\r     1912\n",
       "9\\r       89\n",
       "Name: BP3_2, dtype: int64"
      ]
     },
     "execution_count": 204,
     "metadata": {},
     "output_type": "execute_result"
    }
   ],
   "source": [
    "df_copy.BP3_2.value_counts()"
   ]
  },
  {
   "cell_type": "code",
   "execution_count": 205,
   "metadata": {},
   "outputs": [
    {
     "data": {
      "text/plain": [
       "99    34517\n",
       "2      3597\n",
       "1      1912\n",
       "Name: BP3_2, dtype: int64"
      ]
     },
     "execution_count": 205,
     "metadata": {},
     "output_type": "execute_result"
    }
   ],
   "source": [
    "df_copy.BP3_2.replace({'1\\r':1,'2\\r':2,'9\\r':99,'\\r':99}, inplace=True)\n",
    "df_copy.BP3_2.value_counts()"
   ]
  },
  {
   "cell_type": "code",
   "execution_count": 206,
   "metadata": {},
   "outputs": [
    {
     "data": {
      "text/plain": [
       "\\r     36853\n",
       "1\\r     1696\n",
       "4\\r     1069\n",
       "3\\r      287\n",
       "5\\r       42\n",
       "6\\r       31\n",
       "9\\r       30\n",
       "2\\r       18\n",
       "Name: BP4_1, dtype: int64"
      ]
     },
     "execution_count": 206,
     "metadata": {},
     "output_type": "execute_result"
    }
   ],
   "source": [
    "df_copy.BP4_1.value_counts()"
   ]
  },
  {
   "cell_type": "code",
   "execution_count": 207,
   "metadata": {},
   "outputs": [
    {
     "data": {
      "text/plain": [
       "99    36883\n",
       "1      1696\n",
       "4      1069\n",
       "3       287\n",
       "5        42\n",
       "6        31\n",
       "2        18\n",
       "Name: BP4_1, dtype: int64"
      ]
     },
     "execution_count": 207,
     "metadata": {},
     "output_type": "execute_result"
    }
   ],
   "source": [
    "df_copy.BP4_1.replace({'1\\r':1,'2\\r':2,'3\\r':3,'4\\r':4,'5\\r':5,'6\\r':6,'9\\r':99,'\\r':99}, inplace=True)\n",
    "df_copy.BP4_1.value_counts()"
   ]
  },
  {
   "cell_type": "code",
   "execution_count": 208,
   "metadata": {},
   "outputs": [
    {
     "data": {
      "text/plain": [
       "\\r     33371\n",
       "1\\r     6207\n",
       "4\\r      207\n",
       "7\\r       61\n",
       "9\\r       59\n",
       "5\\r       52\n",
       "2\\r       31\n",
       "6\\r       31\n",
       "3\\r        7\n",
       "Name: BP5_1, dtype: int64"
      ]
     },
     "execution_count": 208,
     "metadata": {},
     "output_type": "execute_result"
    }
   ],
   "source": [
    "df_copy.BP5_1.value_counts()"
   ]
  },
  {
   "cell_type": "code",
   "execution_count": 209,
   "metadata": {},
   "outputs": [
    {
     "data": {
      "text/plain": [
       "99    33430\n",
       "1      6207\n",
       "4       207\n",
       "7        61\n",
       "5        52\n",
       "6        31\n",
       "2        31\n",
       "3         7\n",
       "Name: BP5_1, dtype: int64"
      ]
     },
     "execution_count": 209,
     "metadata": {},
     "output_type": "execute_result"
    }
   ],
   "source": [
    "df_copy.BP5_1.replace({'1\\r':1,'2\\r':2,'3\\r':3,'4\\r':4,'5\\r':5,'6\\r':6,'7\\r':7,'9\\r':99,'\\r':99}, inplace=True)\n",
    "df_copy.BP5_1.value_counts()"
   ]
  },
  {
   "cell_type": "code",
   "execution_count": 210,
   "metadata": {},
   "outputs": [
    {
     "data": {
      "text/plain": [
       "\\r     33371\n",
       "1\\r     4824\n",
       "0\\r     1816\n",
       "9\\r       15\n",
       "Name: BP5_2_1, dtype: int64"
      ]
     },
     "execution_count": 210,
     "metadata": {},
     "output_type": "execute_result"
    }
   ],
   "source": [
    "df_copy.BP5_2_1.value_counts()"
   ]
  },
  {
   "cell_type": "code",
   "execution_count": 211,
   "metadata": {},
   "outputs": [
    {
     "data": {
      "text/plain": [
       "99    33386\n",
       "1      4824\n",
       "0      1816\n",
       "Name: BP5_2_1, dtype: int64"
      ]
     },
     "execution_count": 211,
     "metadata": {},
     "output_type": "execute_result"
    }
   ],
   "source": [
    "df_copy.BP5_2_1.replace({'1\\r':1,'0\\r':0,'\\r':99,'9\\r':99}, inplace=True)\n",
    "df_copy.BP5_2_1.value_counts()"
   ]
  },
  {
   "cell_type": "code",
   "execution_count": 212,
   "metadata": {},
   "outputs": [
    {
     "data": {
      "text/plain": [
       "\\r     33371\n",
       "0\\r     6455\n",
       "1\\r      185\n",
       "9\\r       15\n",
       "Name: BP5_2_2, dtype: int64"
      ]
     },
     "execution_count": 212,
     "metadata": {},
     "output_type": "execute_result"
    }
   ],
   "source": [
    "df_copy.BP5_2_2.value_counts()"
   ]
  },
  {
   "cell_type": "code",
   "execution_count": 213,
   "metadata": {},
   "outputs": [
    {
     "data": {
      "text/plain": [
       "99    33386\n",
       "0      6455\n",
       "1       185\n",
       "Name: BP5_2_2, dtype: int64"
      ]
     },
     "execution_count": 213,
     "metadata": {},
     "output_type": "execute_result"
    }
   ],
   "source": [
    "df_copy.BP5_2_2.replace({'1\\r':1,'0\\r':0,'\\r':99,'9\\r':99}, inplace=True)\n",
    "df_copy.BP5_2_2.value_counts()"
   ]
  },
  {
   "cell_type": "code",
   "execution_count": 214,
   "metadata": {},
   "outputs": [
    {
     "data": {
      "text/plain": [
       "\\r     33371\n",
       "0\\r     6397\n",
       "1\\r      243\n",
       "9\\r       15\n",
       "Name: BP5_2_3, dtype: int64"
      ]
     },
     "execution_count": 214,
     "metadata": {},
     "output_type": "execute_result"
    }
   ],
   "source": [
    "df_copy.BP5_2_3.value_counts()"
   ]
  },
  {
   "cell_type": "code",
   "execution_count": 215,
   "metadata": {},
   "outputs": [
    {
     "data": {
      "text/plain": [
       "99    33386\n",
       "0      6397\n",
       "1       243\n",
       "Name: BP5_2_3, dtype: int64"
      ]
     },
     "execution_count": 215,
     "metadata": {},
     "output_type": "execute_result"
    }
   ],
   "source": [
    "df_copy.BP5_2_3.replace({'1\\r':1,'0\\r':0,'\\r':99,'9\\r':99}, inplace=True)\n",
    "df_copy.BP5_2_3.value_counts()"
   ]
  },
  {
   "cell_type": "code",
   "execution_count": 216,
   "metadata": {},
   "outputs": [
    {
     "data": {
      "text/plain": [
       "\\r     33371\n",
       "0\\r     5151\n",
       "1\\r     1489\n",
       "9\\r       15\n",
       "Name: BP5_2_4, dtype: int64"
      ]
     },
     "execution_count": 216,
     "metadata": {},
     "output_type": "execute_result"
    }
   ],
   "source": [
    "df_copy.BP5_2_4.value_counts()"
   ]
  },
  {
   "cell_type": "code",
   "execution_count": 217,
   "metadata": {},
   "outputs": [
    {
     "data": {
      "text/plain": [
       "99    33386\n",
       "0      5151\n",
       "1      1489\n",
       "Name: BP5_2_4, dtype: int64"
      ]
     },
     "execution_count": 217,
     "metadata": {},
     "output_type": "execute_result"
    }
   ],
   "source": [
    "df_copy.BP5_2_4.replace({'1\\r':1,'0\\r':0,'\\r':99,'9\\r':99}, inplace=True)\n",
    "df_copy.BP5_2_4.value_counts()"
   ]
  },
  {
   "cell_type": "code",
   "execution_count": 218,
   "metadata": {},
   "outputs": [
    {
     "data": {
      "text/plain": [
       "\\r     34860\n",
       "3\\r     4767\n",
       "1\\r      253\n",
       "2\\r      117\n",
       "9\\r       29\n",
       "Name: BP5_3, dtype: int64"
      ]
     },
     "execution_count": 218,
     "metadata": {},
     "output_type": "execute_result"
    }
   ],
   "source": [
    "df_copy.BP5_3.value_counts()"
   ]
  },
  {
   "cell_type": "code",
   "execution_count": 219,
   "metadata": {},
   "outputs": [
    {
     "data": {
      "text/plain": [
       "99    34889\n",
       "3      4767\n",
       "1       253\n",
       "2       117\n",
       "Name: BP5_3, dtype: int64"
      ]
     },
     "execution_count": 219,
     "metadata": {},
     "output_type": "execute_result"
    }
   ],
   "source": [
    "df_copy.BP5_3.replace({'1\\r':1,'2\\r':2,'3\\r':3,'\\r':99,'9\\r':99}, inplace=True)\n",
    "df_copy.BP5_3.value_counts()"
   ]
  },
  {
   "cell_type": "code",
   "execution_count": 220,
   "metadata": {},
   "outputs": [
    {
     "data": {
      "text/plain": [
       "\\r     39963\n",
       "2\\r       19\n",
       "1\\r       18\n",
       "9\\r       11\n",
       "3\\r        8\n",
       "4\\r        7\n",
       "Name: BP6_1, dtype: int64"
      ]
     },
     "execution_count": 220,
     "metadata": {},
     "output_type": "execute_result"
    }
   ],
   "source": [
    "df_copy.BP6_1.value_counts()"
   ]
  },
  {
   "cell_type": "code",
   "execution_count": 221,
   "metadata": {},
   "outputs": [
    {
     "data": {
      "text/plain": [
       "99    39974\n",
       "2        19\n",
       "1        18\n",
       "3         8\n",
       "4         7\n",
       "Name: BP6_1, dtype: int64"
      ]
     },
     "execution_count": 221,
     "metadata": {},
     "output_type": "execute_result"
    }
   ],
   "source": [
    "df_copy.BP6_1.replace({'1\\r':1,'2\\r':2,'3\\r':3,'4\\r':4,'\\r':99,'9\\r':99}, inplace=True)\n",
    "df_copy.BP6_1.value_counts()"
   ]
  },
  {
   "cell_type": "code",
   "execution_count": 222,
   "metadata": {},
   "outputs": [
    {
     "data": {
      "text/plain": [
       "\\r     39963\n",
       "1\\r       27\n",
       "3\\r       11\n",
       "9\\r        9\n",
       "2\\r        8\n",
       "4\\r        8\n",
       "Name: BP6_2, dtype: int64"
      ]
     },
     "execution_count": 222,
     "metadata": {},
     "output_type": "execute_result"
    }
   ],
   "source": [
    "df_copy.BP6_2.value_counts()"
   ]
  },
  {
   "cell_type": "code",
   "execution_count": 223,
   "metadata": {},
   "outputs": [
    {
     "data": {
      "text/plain": [
       "99    39972\n",
       "1        27\n",
       "3        11\n",
       "4         8\n",
       "2         8\n",
       "Name: BP6_2, dtype: int64"
      ]
     },
     "execution_count": 223,
     "metadata": {},
     "output_type": "execute_result"
    }
   ],
   "source": [
    "df_copy.BP6_2.replace({'1\\r':1,'2\\r':2,'3\\r':3,'4\\r':4,'\\r':99,'9\\r':99}, inplace=True)\n",
    "df_copy.BP6_2.value_counts()"
   ]
  },
  {
   "cell_type": "code",
   "execution_count": 224,
   "metadata": {},
   "outputs": [
    {
     "data": {
      "text/plain": [
       "\\r     40014\n",
       "2\\r        6\n",
       "1\\r        5\n",
       "9\\r        1\n",
       "Name: BP6_3, dtype: int64"
      ]
     },
     "execution_count": 224,
     "metadata": {},
     "output_type": "execute_result"
    }
   ],
   "source": [
    "df_copy.BP6_3.value_counts()"
   ]
  },
  {
   "cell_type": "code",
   "execution_count": 225,
   "metadata": {},
   "outputs": [
    {
     "data": {
      "text/plain": [
       "99    40015\n",
       "2         6\n",
       "1         5\n",
       "Name: BP6_3, dtype: int64"
      ]
     },
     "execution_count": 225,
     "metadata": {},
     "output_type": "execute_result"
    }
   ],
   "source": [
    "df_copy.BP6_3.replace({'1\\r':1,'2\\r':2,'\\r':99,'9\\r':99}, inplace=True)\n",
    "df_copy.BP6_3.value_counts()"
   ]
  },
  {
   "cell_type": "code",
   "execution_count": 226,
   "metadata": {},
   "outputs": [
    {
     "data": {
      "text/plain": [
       "\\r     39465\n",
       "2\\r      243\n",
       "3\\r      177\n",
       "4\\r       79\n",
       "1\\r       49\n",
       "5\\r        7\n",
       "9\\r        6\n",
       "Name: BP7_1, dtype: int64"
      ]
     },
     "execution_count": 226,
     "metadata": {},
     "output_type": "execute_result"
    }
   ],
   "source": [
    "df_copy.BP7_1.value_counts()"
   ]
  },
  {
   "cell_type": "code",
   "execution_count": 227,
   "metadata": {},
   "outputs": [
    {
     "data": {
      "text/plain": [
       "99    39471\n",
       "2       243\n",
       "3       177\n",
       "4        79\n",
       "1        49\n",
       "5         7\n",
       "Name: BP7_1, dtype: int64"
      ]
     },
     "execution_count": 227,
     "metadata": {},
     "output_type": "execute_result"
    }
   ],
   "source": [
    "df_copy.BP7_1.replace({'1\\r':1,'2\\r':2,'3\\r':3,'4\\r':4,'5\\r':5,'\\r':99,'9\\r':99}, inplace=True)\n",
    "df_copy.BP7_1.value_counts()"
   ]
  },
  {
   "cell_type": "code",
   "execution_count": 228,
   "metadata": {},
   "outputs": [
    {
     "data": {
      "text/plain": [
       "192      157\n",
       "187      149\n",
       "191      146\n",
       "178      135\n",
       "185      129\n",
       "189      128\n",
       "188      112\n",
       "166      111\n",
       "179      110\n",
       "194      109\n",
       "176      107\n",
       "182      105\n",
       "180      105\n",
       "202      102\n",
       "197      101\n",
       "195      100\n",
       "200      100\n",
       "203       99\n",
       "169       98\n",
       "160       97\n",
       "205       97\n",
       "365       96\n",
       "405       96\n",
       "183       95\n",
       "335       95\n",
       "373       94\n",
       "184       94\n",
       "167       94\n",
       "193       93\n",
       "217       92\n",
       "        ... \n",
       "2489       1\n",
       "5127       1\n",
       "2039       1\n",
       "5863       1\n",
       "3094       1\n",
       "3844       1\n",
       "3083       1\n",
       "5205       1\n",
       "5160       1\n",
       "3222       1\n",
       "6373       1\n",
       "9491       1\n",
       "3115       1\n",
       "4260       1\n",
       "1431       1\n",
       "1463       1\n",
       "12416      1\n",
       "2151       1\n",
       "5192       1\n",
       "8258       1\n",
       "4132       1\n",
       "2021       1\n",
       "1989       1\n",
       "5959       1\n",
       "5749       1\n",
       "7974       1\n",
       "1751       1\n",
       "3876       1\n",
       "3830       1\n",
       "2015       1\n",
       "Name: FAC_DEL, Length: 3252, dtype: int64"
      ]
     },
     "execution_count": 228,
     "metadata": {},
     "output_type": "execute_result"
    }
   ],
   "source": [
    "df_copy.FAC_DEL.value_counts()"
   ]
  },
  {
   "cell_type": "code",
   "execution_count": 229,
   "metadata": {},
   "outputs": [
    {
     "data": {
      "text/plain": [
       "\\r          17449\n",
       "000185\\r      101\n",
       "000191\\r       95\n",
       "000192\\r       89\n",
       "000178\\r       89\n",
       "000187\\r       87\n",
       "000194\\r       85\n",
       "000182\\r       84\n",
       "000176\\r       83\n",
       "000195\\r       79\n",
       "000193\\r       78\n",
       "000180\\r       77\n",
       "000188\\r       76\n",
       "000166\\r       72\n",
       "000189\\r       71\n",
       "000203\\r       69\n",
       "000202\\r       66\n",
       "000214\\r       66\n",
       "000160\\r       65\n",
       "000205\\r       63\n",
       "000169\\r       62\n",
       "000183\\r       61\n",
       "000200\\r       60\n",
       "000155\\r       59\n",
       "000199\\r       58\n",
       "000384\\r       57\n",
       "000179\\r       57\n",
       "000168\\r       56\n",
       "000225\\r       56\n",
       "000181\\r       55\n",
       "            ...  \n",
       "002890\\r        1\n",
       "006847\\r        1\n",
       "001820\\r        1\n",
       "003513\\r        1\n",
       "003681\\r        1\n",
       "005418\\r        1\n",
       "001041\\r        1\n",
       "002867\\r        1\n",
       "002535\\r        1\n",
       "011187\\r        1\n",
       "006673\\r        1\n",
       "005469\\r        1\n",
       "005153\\r        1\n",
       "002564\\r        1\n",
       "001520\\r        1\n",
       "006176\\r        1\n",
       "003335\\r        1\n",
       "001461\\r        1\n",
       "000875\\r        1\n",
       "002316\\r        1\n",
       "002004\\r        1\n",
       "004227\\r        1\n",
       "007053\\r        1\n",
       "002750\\r        1\n",
       "002505\\r        1\n",
       "001482\\r        1\n",
       "001383\\r        1\n",
       "004212\\r        1\n",
       "001804\\r        1\n",
       "003630\\r        1\n",
       "Name: FAC_DEL_AM, Length: 2970, dtype: int64"
      ]
     },
     "execution_count": 229,
     "metadata": {},
     "output_type": "execute_result"
    }
   ],
   "source": [
    "df_copy.FAC_DEL_AM.value_counts()\n",
    "#Pendiente"
   ]
  },
  {
   "cell_type": "code",
   "execution_count": 230,
   "metadata": {},
   "outputs": [
    {
     "data": {
      "text/plain": [
       "          17449\n",
       "000185      101\n",
       "000191       95\n",
       "000192       89\n",
       "000178       89\n",
       "000187       87\n",
       "000194       85\n",
       "000182       84\n",
       "000176       83\n",
       "000195       79\n",
       "000193       78\n",
       "000180       77\n",
       "000188       76\n",
       "000166       72\n",
       "000189       71\n",
       "000203       69\n",
       "000214       66\n",
       "000202       66\n",
       "000160       65\n",
       "000205       63\n",
       "000169       62\n",
       "000183       61\n",
       "000200       60\n",
       "000155       59\n",
       "000199       58\n",
       "000179       57\n",
       "000384       57\n",
       "000168       56\n",
       "000225       56\n",
       "000181       55\n",
       "          ...  \n",
       "001800        1\n",
       "001438        1\n",
       "003807        1\n",
       "001167        1\n",
       "002267        1\n",
       "003366        1\n",
       "011138        1\n",
       "004701        1\n",
       "003744        1\n",
       "002950        1\n",
       "002737        1\n",
       "003107        1\n",
       "003699        1\n",
       "004364        1\n",
       "001258        1\n",
       "001320        1\n",
       "002105        1\n",
       "002543        1\n",
       "002375        1\n",
       "002564        1\n",
       "006841        1\n",
       "001828        1\n",
       "001592        1\n",
       "006402        1\n",
       "002440        1\n",
       "001366        1\n",
       "007285        1\n",
       "001804        1\n",
       "001065        1\n",
       "001892        1\n",
       "Name: FAC_DEL_AM, Length: 2970, dtype: int64"
      ]
     },
     "execution_count": 230,
     "metadata": {},
     "output_type": "execute_result"
    }
   ],
   "source": [
    "df_copy.FAC_DEL_AM =  df_copy.FAC_DEL_AM.replace( '\\r', \"\", regex = True  )\n",
    "df_copy.FAC_DEL_AM.value_counts()"
   ]
  },
  {
   "cell_type": "code",
   "execution_count": 231,
   "metadata": {},
   "outputs": [
    {
     "data": {
      "text/plain": [
       "U\\r    26712\n",
       "C\\r     8893\n",
       "R\\r     4421\n",
       "Name: DOMINIO, dtype: int64"
      ]
     },
     "execution_count": 231,
     "metadata": {},
     "output_type": "execute_result"
    }
   ],
   "source": [
    "df_copy.DOMINIO.value_counts()"
   ]
  },
  {
   "cell_type": "code",
   "execution_count": 232,
   "metadata": {},
   "outputs": [
    {
     "data": {
      "text/plain": [
       "U    26712\n",
       "C     8893\n",
       "R     4421\n",
       "Name: DOMINIO, dtype: int64"
      ]
     },
     "execution_count": 232,
     "metadata": {},
     "output_type": "execute_result"
    }
   ],
   "source": [
    "df_copy.DOMINIO.replace({'U\\r':'U','C\\r':'C','R\\r':'R'}, inplace=True)\n",
    "df_copy.DOMINIO.value_counts()"
   ]
  },
  {
   "cell_type": "code",
   "execution_count": 233,
   "metadata": {},
   "outputs": [
    {
     "data": {
      "text/plain": [
       "2    20282\n",
       "3    11284\n",
       "4     5076\n",
       "1     3384\n",
       "Name: ESTRATO, dtype: int64"
      ]
     },
     "execution_count": 233,
     "metadata": {},
     "output_type": "execute_result"
    }
   ],
   "source": [
    "df_copy.ESTRATO.value_counts()"
   ]
  },
  {
   "cell_type": "code",
   "execution_count": 234,
   "metadata": {},
   "outputs": [
    {
     "data": {
      "text/plain": [
       "246    911\n",
       "229    749\n",
       "2      541\n",
       "147    476\n",
       "374    472\n",
       "146    456\n",
       "391    422\n",
       "320    414\n",
       "247    402\n",
       "209    396\n",
       "354    359\n",
       "125    355\n",
       "321    336\n",
       "228    333\n",
       "355    321\n",
       "268    308\n",
       "289    298\n",
       "512    294\n",
       "192    293\n",
       "570    288\n",
       "509    286\n",
       "410    274\n",
       "569    272\n",
       "230    267\n",
       "13     263\n",
       "92     253\n",
       "154    253\n",
       "91     251\n",
       "288    250\n",
       "36     245\n",
       "      ... \n",
       "548      4\n",
       "139      4\n",
       "486      4\n",
       "557      4\n",
       "532      4\n",
       "551      4\n",
       "89       4\n",
       "101      3\n",
       "194      3\n",
       "217      3\n",
       "26       3\n",
       "422      3\n",
       "296      3\n",
       "17       3\n",
       "491      3\n",
       "418      3\n",
       "506      3\n",
       "84       3\n",
       "487      2\n",
       "22       2\n",
       "545      2\n",
       "457      2\n",
       "325      2\n",
       "210      2\n",
       "273      2\n",
       "113      2\n",
       "81       2\n",
       "542      1\n",
       "572      1\n",
       "575      1\n",
       "Name: EST_DIS, Length: 590, dtype: int64"
      ]
     },
     "execution_count": 234,
     "metadata": {},
     "output_type": "execute_result"
    }
   ],
   "source": [
    "df_copy.EST_DIS.value_counts()"
   ]
  },
  {
   "cell_type": "code",
   "execution_count": 235,
   "metadata": {},
   "outputs": [
    {
     "data": {
      "text/plain": [
       "4407     37\n",
       "5103     36\n",
       "10870    33\n",
       "4117     31\n",
       "1033     31\n",
       "4396     30\n",
       "6287     30\n",
       "1014     29\n",
       "4452     29\n",
       "9598     28\n",
       "7668     27\n",
       "4392     26\n",
       "7131     26\n",
       "4404     26\n",
       "6344     25\n",
       "155      25\n",
       "5721     24\n",
       "1025     24\n",
       "4410     23\n",
       "11236    23\n",
       "9447     23\n",
       "2928     23\n",
       "4393     23\n",
       "1583     22\n",
       "6346     22\n",
       "8044     22\n",
       "766      22\n",
       "4405     22\n",
       "5045     21\n",
       "7616     21\n",
       "         ..\n",
       "10765     1\n",
       "1175      1\n",
       "11442     1\n",
       "10733     1\n",
       "1207      1\n",
       "808       1\n",
       "4906      1\n",
       "7307      1\n",
       "7147      1\n",
       "8851      1\n",
       "663       1\n",
       "1128      1\n",
       "5194      1\n",
       "6836      1\n",
       "4789      1\n",
       "695       1\n",
       "11245     1\n",
       "9196      1\n",
       "7115      1\n",
       "7028      1\n",
       "3017      1\n",
       "2838      1\n",
       "11058     1\n",
       "9011      1\n",
       "11090     1\n",
       "5002      1\n",
       "2953      1\n",
       "9068      1\n",
       "7019      1\n",
       "2047      1\n",
       "Name: UPM_DIS, Length: 9922, dtype: int64"
      ]
     },
     "execution_count": 235,
     "metadata": {},
     "output_type": "execute_result"
    }
   ],
   "source": [
    "df_copy.UPM_DIS.value_counts()"
   ]
  },
  {
   "cell_type": "code",
   "execution_count": 237,
   "metadata": {},
   "outputs": [
    {
     "data": {
      "text/html": [
       "<div>\n",
       "<style scoped>\n",
       "    .dataframe tbody tr th:only-of-type {\n",
       "        vertical-align: middle;\n",
       "    }\n",
       "\n",
       "    .dataframe tbody tr th {\n",
       "        vertical-align: top;\n",
       "    }\n",
       "\n",
       "    .dataframe thead th {\n",
       "        text-align: right;\n",
       "    }\n",
       "</style>\n",
       "<table border=\"1\" class=\"dataframe\">\n",
       "  <thead>\n",
       "    <tr style=\"text-align: right;\">\n",
       "      <th></th>\n",
       "      <th>ID_VIV</th>\n",
       "      <th>ID_HOG</th>\n",
       "      <th>ID_PER</th>\n",
       "      <th>ID_DEL</th>\n",
       "      <th>UPM</th>\n",
       "      <th>VIV_SEL</th>\n",
       "      <th>HOGAR</th>\n",
       "      <th>ND_TIPO</th>\n",
       "      <th>TD_TIPO</th>\n",
       "      <th>BPCOD</th>\n",
       "      <th>...</th>\n",
       "      <th>BP6_1</th>\n",
       "      <th>BP6_2</th>\n",
       "      <th>BP6_3</th>\n",
       "      <th>BP7_1</th>\n",
       "      <th>FAC_DEL</th>\n",
       "      <th>FAC_DEL_AM</th>\n",
       "      <th>DOMINIO</th>\n",
       "      <th>ESTRATO</th>\n",
       "      <th>EST_DIS</th>\n",
       "      <th>UPM_DIS</th>\n",
       "    </tr>\n",
       "  </thead>\n",
       "  <tbody>\n",
       "    <tr>\n",
       "      <th>0</th>\n",
       "      <td>101318.05</td>\n",
       "      <td>0101318.05.01\\r</td>\n",
       "      <td>0101318.05.01.03\\r</td>\n",
       "      <td>0101318.05.01.03.03.1\\r</td>\n",
       "      <td>101318</td>\n",
       "      <td>5</td>\n",
       "      <td>1</td>\n",
       "      <td>1</td>\n",
       "      <td>1</td>\n",
       "      <td>3</td>\n",
       "      <td>...</td>\n",
       "      <td>99</td>\n",
       "      <td>99</td>\n",
       "      <td>99</td>\n",
       "      <td>99</td>\n",
       "      <td>206</td>\n",
       "      <td>000206</td>\n",
       "      <td>U</td>\n",
       "      <td>4</td>\n",
       "      <td>3</td>\n",
       "      <td>176</td>\n",
       "    </tr>\n",
       "    <tr>\n",
       "      <th>1</th>\n",
       "      <td>101989.02</td>\n",
       "      <td>0101989.02.01\\r</td>\n",
       "      <td>0101989.02.01.02\\r</td>\n",
       "      <td>0101989.02.01.02.02.1\\r</td>\n",
       "      <td>101989</td>\n",
       "      <td>2</td>\n",
       "      <td>1</td>\n",
       "      <td>1</td>\n",
       "      <td>1</td>\n",
       "      <td>2</td>\n",
       "      <td>...</td>\n",
       "      <td>99</td>\n",
       "      <td>99</td>\n",
       "      <td>99</td>\n",
       "      <td>99</td>\n",
       "      <td>286</td>\n",
       "      <td>000286</td>\n",
       "      <td>U</td>\n",
       "      <td>2</td>\n",
       "      <td>1</td>\n",
       "      <td>256</td>\n",
       "    </tr>\n",
       "    <tr>\n",
       "      <th>2</th>\n",
       "      <td>100777.01</td>\n",
       "      <td>0100777.01.02\\r</td>\n",
       "      <td>0100777.01.02.01\\r</td>\n",
       "      <td>0100777.01.02.01.02.2\\r</td>\n",
       "      <td>100777</td>\n",
       "      <td>1</td>\n",
       "      <td>2</td>\n",
       "      <td>2</td>\n",
       "      <td>2</td>\n",
       "      <td>2</td>\n",
       "      <td>...</td>\n",
       "      <td>99</td>\n",
       "      <td>99</td>\n",
       "      <td>99</td>\n",
       "      <td>99</td>\n",
       "      <td>195</td>\n",
       "      <td>000195</td>\n",
       "      <td>U</td>\n",
       "      <td>2</td>\n",
       "      <td>1</td>\n",
       "      <td>99</td>\n",
       "    </tr>\n",
       "    <tr>\n",
       "      <th>3</th>\n",
       "      <td>101318.03</td>\n",
       "      <td>0101318.03.01\\r</td>\n",
       "      <td>0101318.03.01.01\\r</td>\n",
       "      <td>0101318.03.01.01.04.1\\r</td>\n",
       "      <td>101318</td>\n",
       "      <td>3</td>\n",
       "      <td>1</td>\n",
       "      <td>1</td>\n",
       "      <td>1</td>\n",
       "      <td>4</td>\n",
       "      <td>...</td>\n",
       "      <td>99</td>\n",
       "      <td>99</td>\n",
       "      <td>99</td>\n",
       "      <td>99</td>\n",
       "      <td>206</td>\n",
       "      <td>000206</td>\n",
       "      <td>U</td>\n",
       "      <td>4</td>\n",
       "      <td>3</td>\n",
       "      <td>176</td>\n",
       "    </tr>\n",
       "    <tr>\n",
       "      <th>4</th>\n",
       "      <td>100457.03</td>\n",
       "      <td>0100457.03.01\\r</td>\n",
       "      <td>0100457.03.01.03\\r</td>\n",
       "      <td>0100457.03.01.03.02.3\\r</td>\n",
       "      <td>100457</td>\n",
       "      <td>3</td>\n",
       "      <td>1</td>\n",
       "      <td>3</td>\n",
       "      <td>3</td>\n",
       "      <td>2</td>\n",
       "      <td>...</td>\n",
       "      <td>99</td>\n",
       "      <td>99</td>\n",
       "      <td>99</td>\n",
       "      <td>99</td>\n",
       "      <td>202</td>\n",
       "      <td>000202</td>\n",
       "      <td>U</td>\n",
       "      <td>2</td>\n",
       "      <td>1</td>\n",
       "      <td>62</td>\n",
       "    </tr>\n",
       "  </tbody>\n",
       "</table>\n",
       "<p>5 rows × 127 columns</p>\n",
       "</div>"
      ],
      "text/plain": [
       "      ID_VIV           ID_HOG              ID_PER                   ID_DEL  \\\n",
       "0  101318.05  0101318.05.01\\r  0101318.05.01.03\\r  0101318.05.01.03.03.1\\r   \n",
       "1  101989.02  0101989.02.01\\r  0101989.02.01.02\\r  0101989.02.01.02.02.1\\r   \n",
       "2  100777.01  0100777.01.02\\r  0100777.01.02.01\\r  0100777.01.02.01.02.2\\r   \n",
       "3  101318.03  0101318.03.01\\r  0101318.03.01.01\\r  0101318.03.01.01.04.1\\r   \n",
       "4  100457.03  0100457.03.01\\r  0100457.03.01.03\\r  0100457.03.01.03.02.3\\r   \n",
       "\n",
       "      UPM  VIV_SEL  HOGAR  ND_TIPO  TD_TIPO  BPCOD   ...     BP6_1  BP6_2  \\\n",
       "0  101318        5      1        1        1      3   ...        99     99   \n",
       "1  101989        2      1        1        1      2   ...        99     99   \n",
       "2  100777        1      2        2        2      2   ...        99     99   \n",
       "3  101318        3      1        1        1      4   ...        99     99   \n",
       "4  100457        3      1        3        3      2   ...        99     99   \n",
       "\n",
       "  BP6_3  BP7_1  FAC_DEL  FAC_DEL_AM  DOMINIO  ESTRATO  EST_DIS  UPM_DIS  \n",
       "0    99     99      206      000206        U        4        3      176  \n",
       "1    99     99      286      000286        U        2        1      256  \n",
       "2    99     99      195      000195        U        2        1       99  \n",
       "3    99     99      206      000206        U        4        3      176  \n",
       "4    99     99      202      000202        U        2        1       62  \n",
       "\n",
       "[5 rows x 127 columns]"
      ]
     },
     "execution_count": 237,
     "metadata": {},
     "output_type": "execute_result"
    }
   ],
   "source": [
    "df_copy.head()"
   ]
  },
  {
   "cell_type": "code",
   "execution_count": 238,
   "metadata": {},
   "outputs": [],
   "source": [
    "df_copy.ID_HOG =  df_copy.ID_HOG.replace( '\\r', \"\", regex = True  )\n",
    "df_copy.ID_PER =  df_copy.ID_PER.replace( '\\r', \"\", regex = True  )\n",
    "df_copy.ID_DEL =  df_copy.ID_DEL.replace( '\\r', \"\", regex = True  )"
   ]
  },
  {
   "cell_type": "code",
   "execution_count": 239,
   "metadata": {},
   "outputs": [
    {
     "data": {
      "text/html": [
       "<div>\n",
       "<style scoped>\n",
       "    .dataframe tbody tr th:only-of-type {\n",
       "        vertical-align: middle;\n",
       "    }\n",
       "\n",
       "    .dataframe tbody tr th {\n",
       "        vertical-align: top;\n",
       "    }\n",
       "\n",
       "    .dataframe thead th {\n",
       "        text-align: right;\n",
       "    }\n",
       "</style>\n",
       "<table border=\"1\" class=\"dataframe\">\n",
       "  <thead>\n",
       "    <tr style=\"text-align: right;\">\n",
       "      <th></th>\n",
       "      <th>ID_VIV</th>\n",
       "      <th>ID_HOG</th>\n",
       "      <th>ID_PER</th>\n",
       "      <th>ID_DEL</th>\n",
       "      <th>UPM</th>\n",
       "      <th>VIV_SEL</th>\n",
       "      <th>HOGAR</th>\n",
       "      <th>ND_TIPO</th>\n",
       "      <th>TD_TIPO</th>\n",
       "      <th>BPCOD</th>\n",
       "      <th>...</th>\n",
       "      <th>BP6_1</th>\n",
       "      <th>BP6_2</th>\n",
       "      <th>BP6_3</th>\n",
       "      <th>BP7_1</th>\n",
       "      <th>FAC_DEL</th>\n",
       "      <th>FAC_DEL_AM</th>\n",
       "      <th>DOMINIO</th>\n",
       "      <th>ESTRATO</th>\n",
       "      <th>EST_DIS</th>\n",
       "      <th>UPM_DIS</th>\n",
       "    </tr>\n",
       "  </thead>\n",
       "  <tbody>\n",
       "    <tr>\n",
       "      <th>0</th>\n",
       "      <td>101318.05</td>\n",
       "      <td>0101318.05.01</td>\n",
       "      <td>0101318.05.01.03</td>\n",
       "      <td>0101318.05.01.03.03.1</td>\n",
       "      <td>101318</td>\n",
       "      <td>5</td>\n",
       "      <td>1</td>\n",
       "      <td>1</td>\n",
       "      <td>1</td>\n",
       "      <td>3</td>\n",
       "      <td>...</td>\n",
       "      <td>99</td>\n",
       "      <td>99</td>\n",
       "      <td>99</td>\n",
       "      <td>99</td>\n",
       "      <td>206</td>\n",
       "      <td>000206</td>\n",
       "      <td>U</td>\n",
       "      <td>4</td>\n",
       "      <td>3</td>\n",
       "      <td>176</td>\n",
       "    </tr>\n",
       "    <tr>\n",
       "      <th>1</th>\n",
       "      <td>101989.02</td>\n",
       "      <td>0101989.02.01</td>\n",
       "      <td>0101989.02.01.02</td>\n",
       "      <td>0101989.02.01.02.02.1</td>\n",
       "      <td>101989</td>\n",
       "      <td>2</td>\n",
       "      <td>1</td>\n",
       "      <td>1</td>\n",
       "      <td>1</td>\n",
       "      <td>2</td>\n",
       "      <td>...</td>\n",
       "      <td>99</td>\n",
       "      <td>99</td>\n",
       "      <td>99</td>\n",
       "      <td>99</td>\n",
       "      <td>286</td>\n",
       "      <td>000286</td>\n",
       "      <td>U</td>\n",
       "      <td>2</td>\n",
       "      <td>1</td>\n",
       "      <td>256</td>\n",
       "    </tr>\n",
       "    <tr>\n",
       "      <th>2</th>\n",
       "      <td>100777.01</td>\n",
       "      <td>0100777.01.02</td>\n",
       "      <td>0100777.01.02.01</td>\n",
       "      <td>0100777.01.02.01.02.2</td>\n",
       "      <td>100777</td>\n",
       "      <td>1</td>\n",
       "      <td>2</td>\n",
       "      <td>2</td>\n",
       "      <td>2</td>\n",
       "      <td>2</td>\n",
       "      <td>...</td>\n",
       "      <td>99</td>\n",
       "      <td>99</td>\n",
       "      <td>99</td>\n",
       "      <td>99</td>\n",
       "      <td>195</td>\n",
       "      <td>000195</td>\n",
       "      <td>U</td>\n",
       "      <td>2</td>\n",
       "      <td>1</td>\n",
       "      <td>99</td>\n",
       "    </tr>\n",
       "    <tr>\n",
       "      <th>3</th>\n",
       "      <td>101318.03</td>\n",
       "      <td>0101318.03.01</td>\n",
       "      <td>0101318.03.01.01</td>\n",
       "      <td>0101318.03.01.01.04.1</td>\n",
       "      <td>101318</td>\n",
       "      <td>3</td>\n",
       "      <td>1</td>\n",
       "      <td>1</td>\n",
       "      <td>1</td>\n",
       "      <td>4</td>\n",
       "      <td>...</td>\n",
       "      <td>99</td>\n",
       "      <td>99</td>\n",
       "      <td>99</td>\n",
       "      <td>99</td>\n",
       "      <td>206</td>\n",
       "      <td>000206</td>\n",
       "      <td>U</td>\n",
       "      <td>4</td>\n",
       "      <td>3</td>\n",
       "      <td>176</td>\n",
       "    </tr>\n",
       "    <tr>\n",
       "      <th>4</th>\n",
       "      <td>100457.03</td>\n",
       "      <td>0100457.03.01</td>\n",
       "      <td>0100457.03.01.03</td>\n",
       "      <td>0100457.03.01.03.02.3</td>\n",
       "      <td>100457</td>\n",
       "      <td>3</td>\n",
       "      <td>1</td>\n",
       "      <td>3</td>\n",
       "      <td>3</td>\n",
       "      <td>2</td>\n",
       "      <td>...</td>\n",
       "      <td>99</td>\n",
       "      <td>99</td>\n",
       "      <td>99</td>\n",
       "      <td>99</td>\n",
       "      <td>202</td>\n",
       "      <td>000202</td>\n",
       "      <td>U</td>\n",
       "      <td>2</td>\n",
       "      <td>1</td>\n",
       "      <td>62</td>\n",
       "    </tr>\n",
       "  </tbody>\n",
       "</table>\n",
       "<p>5 rows × 127 columns</p>\n",
       "</div>"
      ],
      "text/plain": [
       "      ID_VIV         ID_HOG            ID_PER                 ID_DEL     UPM  \\\n",
       "0  101318.05  0101318.05.01  0101318.05.01.03  0101318.05.01.03.03.1  101318   \n",
       "1  101989.02  0101989.02.01  0101989.02.01.02  0101989.02.01.02.02.1  101989   \n",
       "2  100777.01  0100777.01.02  0100777.01.02.01  0100777.01.02.01.02.2  100777   \n",
       "3  101318.03  0101318.03.01  0101318.03.01.01  0101318.03.01.01.04.1  101318   \n",
       "4  100457.03  0100457.03.01  0100457.03.01.03  0100457.03.01.03.02.3  100457   \n",
       "\n",
       "   VIV_SEL  HOGAR  ND_TIPO  TD_TIPO  BPCOD   ...     BP6_1  BP6_2 BP6_3  \\\n",
       "0        5      1        1        1      3   ...        99     99    99   \n",
       "1        2      1        1        1      2   ...        99     99    99   \n",
       "2        1      2        2        2      2   ...        99     99    99   \n",
       "3        3      1        1        1      4   ...        99     99    99   \n",
       "4        3      1        3        3      2   ...        99     99    99   \n",
       "\n",
       "   BP7_1  FAC_DEL  FAC_DEL_AM  DOMINIO  ESTRATO  EST_DIS  UPM_DIS  \n",
       "0     99      206      000206        U        4        3      176  \n",
       "1     99      286      000286        U        2        1      256  \n",
       "2     99      195      000195        U        2        1       99  \n",
       "3     99      206      000206        U        4        3      176  \n",
       "4     99      202      000202        U        2        1       62  \n",
       "\n",
       "[5 rows x 127 columns]"
      ]
     },
     "execution_count": 239,
     "metadata": {},
     "output_type": "execute_result"
    }
   ],
   "source": [
    "df_copy.head()"
   ]
  },
  {
   "cell_type": "code",
   "execution_count": 240,
   "metadata": {},
   "outputs": [],
   "source": [
    "df_copy.to_csv(\"2016.csv\")"
   ]
  },
  {
   "cell_type": "code",
   "execution_count": null,
   "metadata": {},
   "outputs": [],
   "source": []
  }
 ],
 "metadata": {
  "kernelspec": {
   "display_name": "Python 3",
   "language": "python",
   "name": "python3"
  },
  "language_info": {
   "codemirror_mode": {
    "name": "ipython",
    "version": 3
   },
   "file_extension": ".py",
   "mimetype": "text/x-python",
   "name": "python",
   "nbconvert_exporter": "python",
   "pygments_lexer": "ipython3",
   "version": "3.6.5"
  }
 },
 "nbformat": 4,
 "nbformat_minor": 2
}
