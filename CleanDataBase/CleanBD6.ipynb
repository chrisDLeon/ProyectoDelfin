{
 "cells": [
  {
   "cell_type": "code",
   "execution_count": 1,
   "metadata": {},
   "outputs": [],
   "source": [
    "import pandas as pd\n",
    "import numpy as np"
   ]
  },
  {
   "cell_type": "code",
   "execution_count": 2,
   "metadata": {},
   "outputs": [],
   "source": [
    "df_ = 'C:/Users/chris/Documents/TRABAJO/PROYECTOS/PROGRAMA DELFIN/PROYECTOCRIMEN/2011/tmod_vic2011.csv'"
   ]
  },
  {
   "cell_type": "code",
   "execution_count": 3,
   "metadata": {},
   "outputs": [],
   "source": [
    "df = pd.read_csv(df_,low_memory = False)\n",
    "df_copy = df"
   ]
  },
  {
   "cell_type": "code",
   "execution_count": 4,
   "metadata": {},
   "outputs": [
    {
     "data": {
      "text/plain": [
       "5     4252\n",
       "3     4051\n",
       "1     3927\n",
       "2     3891\n",
       "4     3886\n",
       "8      754\n",
       "6      746\n",
       "10     722\n",
       "7      722\n",
       "9      687\n",
       "12     325\n",
       "14     318\n",
       "15     308\n",
       "20     304\n",
       "13     304\n",
       "11     303\n",
       "17     300\n",
       "16     295\n",
       "19     284\n",
       "18     245\n",
       "21      78\n",
       "23      37\n",
       "22      33\n",
       "38      28\n",
       "29      28\n",
       "40      26\n",
       "27      22\n",
       "37      21\n",
       "32      21\n",
       "25      21\n",
       "      ... \n",
       "43       4\n",
       "58       4\n",
       "46       3\n",
       "57       3\n",
       "65       3\n",
       "54       3\n",
       "73       3\n",
       "66       2\n",
       "64       2\n",
       "56       2\n",
       "49       2\n",
       "81       2\n",
       "77       2\n",
       "75       2\n",
       "45       2\n",
       "51       2\n",
       "67       2\n",
       "84       2\n",
       "53       2\n",
       "91       1\n",
       "92       1\n",
       "93       1\n",
       "97       1\n",
       "72       1\n",
       "59       1\n",
       "68       1\n",
       "80       1\n",
       "48       1\n",
       "62       1\n",
       "47       1\n",
       "Name: VIV_SEL, Length: 77, dtype: int64"
      ]
     },
     "execution_count": 4,
     "metadata": {},
     "output_type": "execute_result"
    }
   ],
   "source": [
    "df_copy.VIV_SEL.value_counts()"
   ]
  },
  {
   "cell_type": "code",
   "execution_count": 5,
   "metadata": {},
   "outputs": [
    {
     "data": {
      "text/plain": [
       "1    26700\n",
       "2      391\n",
       "3       85\n",
       "4       10\n",
       "Name: HOGAR, dtype: int64"
      ]
     },
     "execution_count": 5,
     "metadata": {},
     "output_type": "execute_result"
    }
   ],
   "source": [
    "df_copy.HOGAR.value_counts()"
   ]
  },
  {
   "cell_type": "code",
   "execution_count": 6,
   "metadata": {},
   "outputs": [
    {
     "data": {
      "text/plain": [
       "1     14220\n",
       "2      8492\n",
       "3      2886\n",
       "4      1039\n",
       "5       351\n",
       "6       111\n",
       "7        55\n",
       "9        15\n",
       "8        12\n",
       "11        2\n",
       "10        2\n",
       "12        1\n",
       "Name: R_SEL, dtype: int64"
      ]
     },
     "execution_count": 6,
     "metadata": {},
     "output_type": "execute_result"
    }
   ],
   "source": [
    "df_copy.R_SEL.value_counts()"
   ]
  },
  {
   "cell_type": "code",
   "execution_count": 7,
   "metadata": {},
   "outputs": [
    {
     "data": {
      "text/plain": [
       "2     5642\n",
       "8     5067\n",
       "4     4126\n",
       "3     4067\n",
       "9     1658\n",
       "5     1470\n",
       "1     1232\n",
       "10     980\n",
       "7      958\n",
       "6      942\n",
       "12     580\n",
       "14     356\n",
       "11      86\n",
       "13      22\n",
       "Name: BPCOD, dtype: int64"
      ]
     },
     "execution_count": 7,
     "metadata": {},
     "output_type": "execute_result"
    }
   ],
   "source": [
    "df_copy.BPCOD.value_counts()"
   ]
  },
  {
   "cell_type": "code",
   "execution_count": 8,
   "metadata": {},
   "outputs": [
    {
     "data": {
      "text/plain": [
       "1    21545\n",
       "2     3868\n",
       "3     1143\n",
       "4      405\n",
       "5      225\n",
       "Name: ND_TIPO, dtype: int64"
      ]
     },
     "execution_count": 8,
     "metadata": {},
     "output_type": "execute_result"
    }
   ],
   "source": [
    "df_copy.ND_TIPO.value_counts()"
   ]
  },
  {
   "cell_type": "code",
   "execution_count": 9,
   "metadata": {},
   "outputs": [
    {
     "data": {
      "text/plain": [
       "12    3148\n",
       "11    3110\n",
       "6     2623\n",
       "10    2365\n",
       "3     2171\n",
       "9     2143\n",
       "8     2132\n",
       "2     2128\n",
       "5     2058\n",
       "7     1936\n",
       "4     1680\n",
       "1     1569\n",
       "88      75\n",
       "99      48\n",
       "Name: BP1_1, dtype: int64"
      ]
     },
     "execution_count": 9,
     "metadata": {},
     "output_type": "execute_result"
    }
   ],
   "source": [
    "df_copy.BP1_1.value_counts()"
   ]
  },
  {
   "cell_type": "code",
   "execution_count": 10,
   "metadata": {},
   "outputs": [
    {
     "data": {
      "text/plain": [
       "8     2245\n",
       "2     2188\n",
       "25    1839\n",
       "15    1658\n",
       "14    1304\n",
       "20    1224\n",
       "28    1211\n",
       "27    1207\n",
       "23    1125\n",
       "9     1119\n",
       "12    1000\n",
       "19     987\n",
       "17     894\n",
       "16     851\n",
       "5      775\n",
       "1      766\n",
       "26     637\n",
       "24     549\n",
       "32     536\n",
       "31     520\n",
       "18     489\n",
       "11     463\n",
       "21     450\n",
       "13     421\n",
       "3      416\n",
       "30     370\n",
       "7      358\n",
       "29     356\n",
       "10     323\n",
       "22     311\n",
       "4      308\n",
       "6      262\n",
       "99      24\n",
       "Name: BP1_2C, dtype: int64"
      ]
     },
     "execution_count": 10,
     "metadata": {},
     "output_type": "execute_result"
    }
   ],
   "source": [
    "df_copy.BP1_2C.value_counts()"
   ]
  },
  {
   "cell_type": "code",
   "execution_count": 11,
   "metadata": {},
   "outputs": [
    {
     "data": {
      "text/plain": [
       "4      2156\n",
       "2      1683\n",
       "6      1602\n",
       "1      1596\n",
       "5      1418\n",
       "37     1255\n",
       "39     1096\n",
       "19      914\n",
       "30      887\n",
       "67      876\n",
       "7       782\n",
       "27      758\n",
       "53      695\n",
       "3       658\n",
       "17      556\n",
       "106     540\n",
       "11      453\n",
       "28      364\n",
       "20      361\n",
       "120     347\n",
       "14      332\n",
       "50      302\n",
       "33      287\n",
       "48      287\n",
       "8       281\n",
       "13      270\n",
       "35      257\n",
       "18      253\n",
       "10      251\n",
       "9       246\n",
       "       ... \n",
       "105       3\n",
       "158       2\n",
       "318       2\n",
       "175       2\n",
       "334       2\n",
       "551       2\n",
       "194       2\n",
       "338       2\n",
       "498       2\n",
       "125       2\n",
       "403       2\n",
       "211       2\n",
       "324       2\n",
       "191       1\n",
       "374       1\n",
       "142       1\n",
       "427       1\n",
       "310       1\n",
       "377       1\n",
       "361       1\n",
       "169       1\n",
       "200       1\n",
       "133       1\n",
       "293       1\n",
       "453       1\n",
       "199       1\n",
       "502       1\n",
       "438       1\n",
       "214       1\n",
       "195       1\n",
       "Name: BP1_3C, Length: 203, dtype: int64"
      ]
     },
     "execution_count": 11,
     "metadata": {},
     "output_type": "execute_result"
    }
   ],
   "source": [
    "df_copy.BP1_3C.value_counts()"
   ]
  },
  {
   "cell_type": "code",
   "execution_count": 12,
   "metadata": {},
   "outputs": [
    {
     "data": {
      "text/plain": [
       "2    8923\n",
       "3    7062\n",
       "1    5437\n",
       "4    4400\n",
       "9    1314\n",
       "8      37\n",
       "7      13\n",
       "Name: BP1_4, dtype: int64"
      ]
     },
     "execution_count": 12,
     "metadata": {},
     "output_type": "execute_result"
    }
   ],
   "source": [
    "df_copy.BP1_4.value_counts()"
   ]
  },
  {
   "cell_type": "code",
   "execution_count": 13,
   "metadata": {},
   "outputs": [
    {
     "data": {
      "text/plain": [
       "2     8923\n",
       "3     7062\n",
       "1     5437\n",
       "4     4400\n",
       "99    1364\n",
       "Name: BP1_4, dtype: int64"
      ]
     },
     "execution_count": 13,
     "metadata": {},
     "output_type": "execute_result"
    }
   ],
   "source": [
    "df_copy.BP1_4.replace({9:99,8:99,7:99}, inplace=True)\n",
    "df_copy.BP1_4.value_counts()"
   ]
  },
  {
   "cell_type": "code",
   "execution_count": 14,
   "metadata": {},
   "outputs": [
    {
     "data": {
      "text/plain": [
       "2    11530\n",
       "1    10433\n",
       "4     1814\n",
       "3     1316\n",
       "6      920\n",
       "8      704\n",
       "5      211\n",
       "7      142\n",
       "9      116\n",
       "Name: BP1_5, dtype: int64"
      ]
     },
     "execution_count": 14,
     "metadata": {},
     "output_type": "execute_result"
    }
   ],
   "source": [
    "df_copy.BP1_5.value_counts()"
   ]
  },
  {
   "cell_type": "code",
   "execution_count": 15,
   "metadata": {},
   "outputs": [
    {
     "data": {
      "text/plain": [
       "2     11530\n",
       "1     10433\n",
       "4      1814\n",
       "3      1316\n",
       "6       920\n",
       "8       704\n",
       "5       211\n",
       "7       142\n",
       "99      116\n",
       "Name: BP1_5, dtype: int64"
      ]
     },
     "execution_count": 15,
     "metadata": {},
     "output_type": "execute_result"
    }
   ],
   "source": [
    "df_copy.BP1_5.replace({9:99}, inplace=True)\n",
    "df_copy.BP1_5.value_counts()"
   ]
  },
  {
   "cell_type": "code",
   "execution_count": 16,
   "metadata": {},
   "outputs": [
    {
     "data": {
      "text/plain": [
       "2.0    11299\n",
       "1.0     7372\n",
       "7.0      105\n",
       "Name: BP1_6, dtype: int64"
      ]
     },
     "execution_count": 16,
     "metadata": {},
     "output_type": "execute_result"
    }
   ],
   "source": [
    "df_copy.BP1_6.value_counts()"
   ]
  },
  {
   "cell_type": "code",
   "execution_count": 17,
   "metadata": {},
   "outputs": [
    {
     "data": {
      "text/plain": [
       "2     11299\n",
       "1      7372\n",
       "99      105\n",
       "Name: BP1_6, dtype: int64"
      ]
     },
     "execution_count": 17,
     "metadata": {},
     "output_type": "execute_result"
    }
   ],
   "source": [
    "df_copy.BP1_6.replace({2.0:'2',1.0:'1',7:99}, inplace=True)\n",
    "df_copy.BP1_6.value_counts()"
   ]
  },
  {
   "cell_type": "code",
   "execution_count": 18,
   "metadata": {},
   "outputs": [
    {
     "data": {
      "text/plain": [
       "1.0    8241\n",
       "2.0    7620\n",
       "7.0      26\n",
       "Name: BP1_7, dtype: int64"
      ]
     },
     "execution_count": 18,
     "metadata": {},
     "output_type": "execute_result"
    }
   ],
   "source": [
    "df_copy.BP1_7.value_counts()"
   ]
  },
  {
   "cell_type": "code",
   "execution_count": 19,
   "metadata": {},
   "outputs": [
    {
     "data": {
      "text/plain": [
       "1     8241\n",
       "2     7620\n",
       "99      26\n",
       "Name: BP1_7, dtype: int64"
      ]
     },
     "execution_count": 19,
     "metadata": {},
     "output_type": "execute_result"
    }
   ],
   "source": [
    "df_copy.BP1_7.replace({2.0:'2',1.0:'1',7:99}, inplace=True)\n",
    "df_copy.BP1_7.value_counts()"
   ]
  },
  {
   "cell_type": "code",
   "execution_count": 20,
   "metadata": {},
   "outputs": [
    {
     "data": {
      "text/plain": [
       "1.0    11426\n",
       "2.0     4435\n",
       "7.0       26\n",
       "Name: BP1_8, dtype: int64"
      ]
     },
     "execution_count": 20,
     "metadata": {},
     "output_type": "execute_result"
    }
   ],
   "source": [
    "df_copy.BP1_8.value_counts()"
   ]
  },
  {
   "cell_type": "code",
   "execution_count": 21,
   "metadata": {},
   "outputs": [
    {
     "data": {
      "text/plain": [
       "1     11426\n",
       "2      4435\n",
       "99       26\n",
       "Name: BP1_8, dtype: int64"
      ]
     },
     "execution_count": 21,
     "metadata": {},
     "output_type": "execute_result"
    }
   ],
   "source": [
    "df_copy.BP1_8.replace({2.0:'2',1.0:'1',7:99}, inplace=True)\n",
    "df_copy.BP1_8.value_counts()"
   ]
  },
  {
   "cell_type": "code",
   "execution_count": 22,
   "metadata": {},
   "outputs": [
    {
     "data": {
      "text/plain": [
       "1.0    5593\n",
       "2.0    2966\n",
       "3.0    1308\n",
       "4.0     487\n",
       "6.0     483\n",
       "9.0     391\n",
       "5.0     179\n",
       "7.0      26\n",
       "8.0      19\n",
       "Name: BP1_9, dtype: int64"
      ]
     },
     "execution_count": 22,
     "metadata": {},
     "output_type": "execute_result"
    }
   ],
   "source": [
    "df_copy.BP1_9.value_counts()"
   ]
  },
  {
   "cell_type": "code",
   "execution_count": 23,
   "metadata": {},
   "outputs": [
    {
     "data": {
      "text/plain": [
       "1     5593\n",
       "2     2966\n",
       "3     1308\n",
       "4      487\n",
       "6      483\n",
       "99     436\n",
       "5      179\n",
       "Name: BP1_9, dtype: int64"
      ]
     },
     "execution_count": 23,
     "metadata": {},
     "output_type": "execute_result"
    }
   ],
   "source": [
    "df_copy.BP1_9.replace({0.0:'0',1.0:'1',2.0:'2',3.0:'3',4.0:'4',5.0:'5',6.0:'6',7.0:'99',\n",
    "                          8.0:'99',9.0:'99'}, inplace=True)\n",
    "df_copy.BP1_9.value_counts()"
   ]
  },
  {
   "cell_type": "code",
   "execution_count": 24,
   "metadata": {},
   "outputs": [
    {
     "data": {
      "text/plain": [
       "1.0     5506\n",
       "2.0     2729\n",
       "3.0     1174\n",
       "0.0      600\n",
       "4.0      426\n",
       "6.0      164\n",
       "5.0      159\n",
       "10.0      59\n",
       "8.0       49\n",
       "7.0       40\n",
       "15.0      31\n",
       "98.0      31\n",
       "20.0      20\n",
       "12.0      18\n",
       "9.0       10\n",
       "11.0       6\n",
       "30.0       5\n",
       "14.0       3\n",
       "40.0       2\n",
       "13.0       2\n",
       "37.0       1\n",
       "16.0       1\n",
       "80.0       1\n",
       "50.0       1\n",
       "18.0       1\n",
       "17.0       1\n",
       "35.0       1\n",
       "25.0       1\n",
       "Name: BP1_10_1, dtype: int64"
      ]
     },
     "execution_count": 24,
     "metadata": {},
     "output_type": "execute_result"
    }
   ],
   "source": [
    "df_copy.BP1_10_1.value_counts()"
   ]
  },
  {
   "cell_type": "code",
   "execution_count": 25,
   "metadata": {},
   "outputs": [
    {
     "data": {
      "text/plain": [
       "1     5506\n",
       "2     2729\n",
       "3     1174\n",
       "0      600\n",
       "4      426\n",
       "6      164\n",
       "5      159\n",
       "10      59\n",
       "8       49\n",
       "7       40\n",
       "99      31\n",
       "15      31\n",
       "20      20\n",
       "12      18\n",
       "9       10\n",
       "11       6\n",
       "30       5\n",
       "14       3\n",
       "13       2\n",
       "40       2\n",
       "25       1\n",
       "50       1\n",
       "16       1\n",
       "18       1\n",
       "80       1\n",
       "37       1\n",
       "17       1\n",
       "35       1\n",
       "Name: BP1_10_1, dtype: int64"
      ]
     },
     "execution_count": 25,
     "metadata": {},
     "output_type": "execute_result"
    }
   ],
   "source": [
    "df_copy.BP1_10_1.replace({0.0:'0',1.0:'1',2.0:'2',3.0:'3',4.0:'4',5.0:'5',6.0:'6',7.0:'7',\n",
    "                          8.0:'8',9.0:'9',10.0:'10',11.0:'11',12.0:'12',\n",
    "                          13.0:'13',14.0:'14',15.0:'15',16.0:'16',17.0:'17',\n",
    "                          18.0:'18',19.0:'19',20.0:'20',21.0:'21',22.0:'22',\n",
    "                          23.0:'23',24.0:'24',25.0:'25',26.0:'26',27.0:'27',\n",
    "                          28.0:'28',29.0:'29',30.0:'30',31.0:'31',32.0:'32',\n",
    "                          33.0:'33',34.0:'34',35.0:'35',36.0:'36',37.0:'37',\n",
    "                          38.0:'38',39.0:'39',40.0:'40',41.0:'41',42.0:'42',\n",
    "                          43.0:'43',44.0:'44',45.0:'45',46.0:'46',47.0:'47',\n",
    "                          99.0:'99',98.0:'99',88.0:'99',50.0:'50',80.0:'80'}, inplace=True)\n",
    "df_copy.BP1_10_1.value_counts()"
   ]
  },
  {
   "cell_type": "code",
   "execution_count": 26,
   "metadata": {},
   "outputs": [
    {
     "data": {
      "text/plain": [
       "0.0     9731\n",
       "1.0      944\n",
       "2.0      197\n",
       "3.0       75\n",
       "98.0      31\n",
       "4.0       28\n",
       "5.0       14\n",
       "6.0        8\n",
       "10.0       6\n",
       "7.0        2\n",
       "9.0        2\n",
       "8.0        2\n",
       "15.0       1\n",
       "30.0       1\n",
       "Name: BP1_10_2, dtype: int64"
      ]
     },
     "execution_count": 26,
     "metadata": {},
     "output_type": "execute_result"
    }
   ],
   "source": [
    "df_copy.BP1_10_2.value_counts()"
   ]
  },
  {
   "cell_type": "code",
   "execution_count": 27,
   "metadata": {},
   "outputs": [
    {
     "data": {
      "text/plain": [
       "0     9731\n",
       "1      944\n",
       "2      197\n",
       "3       75\n",
       "99      31\n",
       "4       28\n",
       "5       14\n",
       "6        8\n",
       "10       6\n",
       "8        2\n",
       "9        2\n",
       "7        2\n",
       "30       1\n",
       "15       1\n",
       "Name: BP1_10_2, dtype: int64"
      ]
     },
     "execution_count": 27,
     "metadata": {},
     "output_type": "execute_result"
    }
   ],
   "source": [
    "df_copy.BP1_10_2.replace({0.0:'0',1.0:'1',2.0:'2',3.0:'3',4.0:'4',5.0:'5',6.0:'6',7.0:'7',\n",
    "                          8.0:'8',9.0:'9',10.0:'10',11.0:'11',12.0:'12',\n",
    "                          13.0:'13',14.0:'14',15.0:'15',16.0:'16',17.0:'17',\n",
    "                          18.0:'18',19.0:'19',20.0:'20',21.0:'21',22.0:'22',\n",
    "                          23.0:'23',24.0:'24',25.0:'25',26.0:'26',27.0:'27',\n",
    "                          28.0:'28',29.0:'29',30.0:'30',31.0:'31',32.0:'32',\n",
    "                          33.0:'33',34.0:'34',35.0:'35',36.0:'36',37.0:'37',\n",
    "                          38.0:'38',39.0:'39',40.0:'40',41.0:'41',42.0:'42',\n",
    "                          43.0:'43',44.0:'44',45.0:'45',46.0:'46',47.0:'47',\n",
    "                          99.0:'99',98.0:'99',88.0:'99',50.0:'50'}, inplace=True)\n",
    "df_copy.BP1_10_2.value_counts()"
   ]
  },
  {
   "cell_type": "code",
   "execution_count": 28,
   "metadata": {},
   "outputs": [
    {
     "data": {
      "text/plain": [
       "4.0     3291\n",
       "3.0     3087\n",
       "5.0     1968\n",
       "99.0    1282\n",
       "8.0      812\n",
       "6.0      553\n",
       "2.0      331\n",
       "7.0       72\n",
       "98.0      26\n",
       "88.0      23\n",
       "1.0        7\n",
       "Name: BP1_11, dtype: int64"
      ]
     },
     "execution_count": 28,
     "metadata": {},
     "output_type": "execute_result"
    }
   ],
   "source": [
    "df_copy.BP1_11.value_counts()"
   ]
  },
  {
   "cell_type": "code",
   "execution_count": 29,
   "metadata": {},
   "outputs": [
    {
     "data": {
      "text/plain": [
       "4     3291\n",
       "3     3087\n",
       "5     1968\n",
       "99    1331\n",
       "8      812\n",
       "6      553\n",
       "2      331\n",
       "7       72\n",
       "1        7\n",
       "Name: BP1_11, dtype: int64"
      ]
     },
     "execution_count": 29,
     "metadata": {},
     "output_type": "execute_result"
    }
   ],
   "source": [
    "df_copy.BP1_11.replace({0.0:'0',1.0:'1',2.0:'2',3.0:'3',4.0:'4',5.0:'5',6.0:'6',7.0:'7',\n",
    "                          8.0:'8',9.0:'9',10.0:'10',11.0:'11',12.0:'12',\n",
    "                          13.0:'13',14.0:'14',15.0:'15',16.0:'16',17.0:'17',\n",
    "                          18.0:'18',19.0:'19',20.0:'20',21.0:'21',22.0:'22',\n",
    "                          23.0:'23',24.0:'24',25.0:'25',26.0:'26',27.0:'27',\n",
    "                          28.0:'28',29.0:'29',30.0:'30',31.0:'31',32.0:'32',\n",
    "                          33.0:'33',34.0:'34',35.0:'35',36.0:'36',37.0:'37',\n",
    "                          38.0:'38',39.0:'39',40.0:'40',41.0:'41',42.0:'42',\n",
    "                          43.0:'43',44.0:'44',45.0:'45',46.0:'46',47.0:'47',\n",
    "                          99.0:'99',98.0:'99',88.0:'99',50.0:'50'}, inplace=True)\n",
    "df_copy.BP1_11.value_counts()"
   ]
  },
  {
   "cell_type": "code",
   "execution_count": 30,
   "metadata": {},
   "outputs": [
    {
     "data": {
      "text/plain": [
       "1.0    8774\n",
       "7.0      30\n",
       "Name: BP1_12_1, dtype: int64"
      ]
     },
     "execution_count": 30,
     "metadata": {},
     "output_type": "execute_result"
    }
   ],
   "source": [
    "df_copy.BP1_12_1.value_counts()"
   ]
  },
  {
   "cell_type": "code",
   "execution_count": 31,
   "metadata": {},
   "outputs": [
    {
     "data": {
      "text/plain": [
       "1     8774\n",
       "99      30\n",
       "Name: BP1_12_1, dtype: int64"
      ]
     },
     "execution_count": 31,
     "metadata": {},
     "output_type": "execute_result"
    }
   ],
   "source": [
    "df_copy.BP1_12_1.replace({0.0:'0',1.0:'1',7.0:'99'}, inplace=True)\n",
    "df_copy.BP1_12_1.value_counts()"
   ]
  },
  {
   "cell_type": "code",
   "execution_count": 32,
   "metadata": {},
   "outputs": [
    {
     "data": {
      "text/plain": [
       "2.0    1282\n",
       "Name: BP1_12_2, dtype: int64"
      ]
     },
     "execution_count": 32,
     "metadata": {},
     "output_type": "execute_result"
    }
   ],
   "source": [
    "df_copy.BP1_12_2.value_counts()"
   ]
  },
  {
   "cell_type": "code",
   "execution_count": 33,
   "metadata": {},
   "outputs": [
    {
     "data": {
      "text/plain": [
       "2    1282\n",
       "Name: BP1_12_2, dtype: int64"
      ]
     },
     "execution_count": 33,
     "metadata": {},
     "output_type": "execute_result"
    }
   ],
   "source": [
    "df_copy.BP1_12_2.replace({2.0:'2',1.0:'1',7.0:'99'}, inplace=True)\n",
    "df_copy.BP1_12_2.value_counts()"
   ]
  },
  {
   "cell_type": "code",
   "execution_count": 34,
   "metadata": {},
   "outputs": [
    {
     "data": {
      "text/plain": [
       "3.0    700\n",
       "Name: BP1_12_3, dtype: int64"
      ]
     },
     "execution_count": 34,
     "metadata": {},
     "output_type": "execute_result"
    }
   ],
   "source": [
    "df_copy.BP1_12_3.value_counts()"
   ]
  },
  {
   "cell_type": "code",
   "execution_count": 35,
   "metadata": {},
   "outputs": [
    {
     "data": {
      "text/plain": [
       "3    700\n",
       "Name: BP1_12_3, dtype: int64"
      ]
     },
     "execution_count": 35,
     "metadata": {},
     "output_type": "execute_result"
    }
   ],
   "source": [
    "df_copy.BP1_12_3.replace({3.0:'3',1.0:'1',7.0:'99'}, inplace=True)\n",
    "df_copy.BP1_12_3.value_counts()"
   ]
  },
  {
   "cell_type": "code",
   "execution_count": 36,
   "metadata": {},
   "outputs": [
    {
     "data": {
      "text/plain": [
       "4.0    462\n",
       "Name: BP1_12_4, dtype: int64"
      ]
     },
     "execution_count": 36,
     "metadata": {},
     "output_type": "execute_result"
    }
   ],
   "source": [
    "df_copy.BP1_12_4.value_counts()"
   ]
  },
  {
   "cell_type": "code",
   "execution_count": 37,
   "metadata": {},
   "outputs": [
    {
     "data": {
      "text/plain": [
       "4    462\n",
       "Name: BP1_12_4, dtype: int64"
      ]
     },
     "execution_count": 37,
     "metadata": {},
     "output_type": "execute_result"
    }
   ],
   "source": [
    "df_copy.BP1_12_4.replace({4.0:'4',1.0:'1',7.0:'99'}, inplace=True)\n",
    "df_copy.BP1_12_4.value_counts()"
   ]
  },
  {
   "cell_type": "code",
   "execution_count": 38,
   "metadata": {},
   "outputs": [
    {
     "data": {
      "text/plain": [
       "5.0    289\n",
       "Name: BP1_12_5, dtype: int64"
      ]
     },
     "execution_count": 38,
     "metadata": {},
     "output_type": "execute_result"
    }
   ],
   "source": [
    "df_copy.BP1_12_5.value_counts()"
   ]
  },
  {
   "cell_type": "code",
   "execution_count": 39,
   "metadata": {},
   "outputs": [
    {
     "data": {
      "text/plain": [
       "5    289\n",
       "Name: BP1_12_5, dtype: int64"
      ]
     },
     "execution_count": 39,
     "metadata": {},
     "output_type": "execute_result"
    }
   ],
   "source": [
    "df_copy.BP1_12_5.replace({5.0:'5',1.0:'1',7.0:'99'}, inplace=True)\n",
    "df_copy.BP1_12_5.value_counts()"
   ]
  },
  {
   "cell_type": "code",
   "execution_count": 40,
   "metadata": {},
   "outputs": [
    {
     "data": {
      "text/plain": [
       "2.0    6510\n",
       "1.0    2264\n",
       "Name: BP1_13, dtype: int64"
      ]
     },
     "execution_count": 40,
     "metadata": {},
     "output_type": "execute_result"
    }
   ],
   "source": [
    "df_copy.BP1_13.value_counts()"
   ]
  },
  {
   "cell_type": "code",
   "execution_count": 41,
   "metadata": {},
   "outputs": [
    {
     "data": {
      "text/plain": [
       "2    6510\n",
       "1    2264\n",
       "Name: BP1_13, dtype: int64"
      ]
     },
     "execution_count": 41,
     "metadata": {},
     "output_type": "execute_result"
    }
   ],
   "source": [
    "df_copy.BP1_13.replace({2.0:'2',1.0:'1',7.0:'99'}, inplace=True)\n",
    "df_copy.BP1_13.value_counts()"
   ]
  },
  {
   "cell_type": "code",
   "execution_count": 42,
   "metadata": {},
   "outputs": [
    {
     "data": {
      "text/plain": [
       "1.0    2011\n",
       "Name: BP1_14_1, dtype: int64"
      ]
     },
     "execution_count": 42,
     "metadata": {},
     "output_type": "execute_result"
    }
   ],
   "source": [
    "df_copy.BP1_14_1.value_counts()"
   ]
  },
  {
   "cell_type": "code",
   "execution_count": 43,
   "metadata": {},
   "outputs": [
    {
     "data": {
      "text/plain": [
       "1    2011\n",
       "Name: BP1_14_1, dtype: int64"
      ]
     },
     "execution_count": 43,
     "metadata": {},
     "output_type": "execute_result"
    }
   ],
   "source": [
    "df_copy.BP1_14_1.replace({2.0:'2',1.0:'1',7.0:'99'}, inplace=True)\n",
    "df_copy.BP1_14_1.value_counts()"
   ]
  },
  {
   "cell_type": "code",
   "execution_count": 44,
   "metadata": {},
   "outputs": [
    {
     "data": {
      "text/plain": [
       "2.0    1360\n",
       "Name: BP1_14_2, dtype: int64"
      ]
     },
     "execution_count": 44,
     "metadata": {},
     "output_type": "execute_result"
    }
   ],
   "source": [
    "df_copy.BP1_14_2.value_counts()"
   ]
  },
  {
   "cell_type": "code",
   "execution_count": 45,
   "metadata": {},
   "outputs": [
    {
     "data": {
      "text/plain": [
       "2    1360\n",
       "Name: BP1_14_2, dtype: int64"
      ]
     },
     "execution_count": 45,
     "metadata": {},
     "output_type": "execute_result"
    }
   ],
   "source": [
    "df_copy.BP1_14_2.replace({2.0:'2',1.0:'1',7.0:'99'}, inplace=True)\n",
    "df_copy.BP1_14_2.value_counts()"
   ]
  },
  {
   "cell_type": "code",
   "execution_count": 46,
   "metadata": {},
   "outputs": [
    {
     "data": {
      "text/plain": [
       "3.0    37\n",
       "Name: BP1_14_3, dtype: int64"
      ]
     },
     "execution_count": 46,
     "metadata": {},
     "output_type": "execute_result"
    }
   ],
   "source": [
    "df_copy.BP1_14_3.value_counts()"
   ]
  },
  {
   "cell_type": "code",
   "execution_count": 47,
   "metadata": {},
   "outputs": [
    {
     "data": {
      "text/plain": [
       "3    37\n",
       "Name: BP1_14_3, dtype: int64"
      ]
     },
     "execution_count": 47,
     "metadata": {},
     "output_type": "execute_result"
    }
   ],
   "source": [
    "df_copy.BP1_14_3.replace({3.0:'3',1.0:'1',7.0:'99'}, inplace=True)\n",
    "df_copy.BP1_14_3.value_counts()"
   ]
  },
  {
   "cell_type": "code",
   "execution_count": 48,
   "metadata": {},
   "outputs": [
    {
     "data": {
      "text/plain": [
       "4.0    5164\n",
       "Name: BP1_14_4, dtype: int64"
      ]
     },
     "execution_count": 48,
     "metadata": {},
     "output_type": "execute_result"
    }
   ],
   "source": [
    "df_copy.BP1_14_4.value_counts()"
   ]
  },
  {
   "cell_type": "code",
   "execution_count": 49,
   "metadata": {},
   "outputs": [
    {
     "data": {
      "text/plain": [
       "4    5164\n",
       "Name: BP1_14_4, dtype: int64"
      ]
     },
     "execution_count": 49,
     "metadata": {},
     "output_type": "execute_result"
    }
   ],
   "source": [
    "df_copy.BP1_14_4.replace({4.0:'4',1.0:'1',7.0:'99'}, inplace=True)\n",
    "df_copy.BP1_14_4.value_counts()"
   ]
  },
  {
   "cell_type": "code",
   "execution_count": 50,
   "metadata": {},
   "outputs": [
    {
     "data": {
      "text/plain": [
       "2.0    5185\n",
       "1.0    4124\n",
       "9.0    2092\n",
       "7.0      26\n",
       "8.0      25\n",
       "Name: BP1_15, dtype: int64"
      ]
     },
     "execution_count": 50,
     "metadata": {},
     "output_type": "execute_result"
    }
   ],
   "source": [
    "df_copy.BP1_15.value_counts()"
   ]
  },
  {
   "cell_type": "code",
   "execution_count": 51,
   "metadata": {},
   "outputs": [
    {
     "data": {
      "text/plain": [
       "2     5185\n",
       "1     4124\n",
       "99    2143\n",
       "Name: BP1_15, dtype: int64"
      ]
     },
     "execution_count": 51,
     "metadata": {},
     "output_type": "execute_result"
    }
   ],
   "source": [
    "df_copy.BP1_15.replace({0.0:'0',1.0:'1',2.0:'2',3.0:'3',4.0:'4',5.0:'5',6.0:'6',7.0:'99',\n",
    "                          8.0:'99',9.0:'99'}, inplace=True)\n",
    "df_copy.BP1_15.value_counts()"
   ]
  },
  {
   "cell_type": "code",
   "execution_count": 52,
   "metadata": {},
   "outputs": [
    {
     "data": {
      "text/plain": [
       "8.0    31\n",
       "7.0    27\n",
       "Name: BP1_14_8, dtype: int64"
      ]
     },
     "execution_count": 52,
     "metadata": {},
     "output_type": "execute_result"
    }
   ],
   "source": [
    "df_copy.BP1_14_8.value_counts()"
   ]
  },
  {
   "cell_type": "code",
   "execution_count": 53,
   "metadata": {},
   "outputs": [
    {
     "data": {
      "text/plain": [
       "99    58\n",
       "Name: BP1_14_8, dtype: int64"
      ]
     },
     "execution_count": 53,
     "metadata": {},
     "output_type": "execute_result"
    }
   ],
   "source": [
    "df_copy.BP1_14_8.replace({8.0:'99',7.0:'99'}, inplace=True)\n",
    "df_copy.BP1_14_8.value_counts()"
   ]
  },
  {
   "cell_type": "code",
   "execution_count": 54,
   "metadata": {},
   "outputs": [
    {
     "data": {
      "text/plain": [
       "9.0    3194\n",
       "Name: BP1_14_9, dtype: int64"
      ]
     },
     "execution_count": 54,
     "metadata": {},
     "output_type": "execute_result"
    }
   ],
   "source": [
    "df_copy.BP1_14_9.value_counts()"
   ]
  },
  {
   "cell_type": "code",
   "execution_count": 55,
   "metadata": {},
   "outputs": [
    {
     "data": {
      "text/plain": [
       "99    3194\n",
       "Name: BP1_14_9, dtype: int64"
      ]
     },
     "execution_count": 55,
     "metadata": {},
     "output_type": "execute_result"
    }
   ],
   "source": [
    "df_copy.BP1_14_9.replace({9.0:'99',7.0:'99'}, inplace=True)\n",
    "df_copy.BP1_14_9.value_counts()"
   ]
  },
  {
   "cell_type": "code",
   "execution_count": 56,
   "metadata": {},
   "outputs": [
    {
     "data": {
      "text/plain": [
       "1.0    2414\n",
       "Name: BP1_16_1, dtype: int64"
      ]
     },
     "execution_count": 56,
     "metadata": {},
     "output_type": "execute_result"
    }
   ],
   "source": [
    "df_copy.BP1_16_1.value_counts()"
   ]
  },
  {
   "cell_type": "code",
   "execution_count": 57,
   "metadata": {},
   "outputs": [
    {
     "data": {
      "text/plain": [
       "1    2414\n",
       "Name: BP1_16_1, dtype: int64"
      ]
     },
     "execution_count": 57,
     "metadata": {},
     "output_type": "execute_result"
    }
   ],
   "source": [
    "df_copy.BP1_16_1.replace({1.0:'1'}, inplace=True)\n",
    "df_copy.BP1_16_1.value_counts()"
   ]
  },
  {
   "cell_type": "code",
   "execution_count": 58,
   "metadata": {},
   "outputs": [
    {
     "data": {
      "text/plain": [
       "2.0    1811\n",
       "Name: BP1_16_2, dtype: int64"
      ]
     },
     "execution_count": 58,
     "metadata": {},
     "output_type": "execute_result"
    }
   ],
   "source": [
    "df_copy.BP1_16_2.value_counts()"
   ]
  },
  {
   "cell_type": "code",
   "execution_count": 59,
   "metadata": {},
   "outputs": [
    {
     "data": {
      "text/plain": [
       "1    2414\n",
       "Name: BP1_16_1, dtype: int64"
      ]
     },
     "execution_count": 59,
     "metadata": {},
     "output_type": "execute_result"
    }
   ],
   "source": [
    "df_copy.BP1_16_1.replace({2.0:'2'}, inplace=True)\n",
    "df_copy.BP1_16_1.value_counts()"
   ]
  },
  {
   "cell_type": "code",
   "execution_count": 60,
   "metadata": {},
   "outputs": [
    {
     "data": {
      "text/plain": [
       "3.0    167\n",
       "Name: BP1_16_3, dtype: int64"
      ]
     },
     "execution_count": 60,
     "metadata": {},
     "output_type": "execute_result"
    }
   ],
   "source": [
    "df_copy.BP1_16_3.value_counts()"
   ]
  },
  {
   "cell_type": "code",
   "execution_count": 61,
   "metadata": {},
   "outputs": [
    {
     "data": {
      "text/plain": [
       "3    167\n",
       "Name: BP1_16_3, dtype: int64"
      ]
     },
     "execution_count": 61,
     "metadata": {},
     "output_type": "execute_result"
    }
   ],
   "source": [
    "df_copy.BP1_16_3.replace({3.0:'3'}, inplace=True)\n",
    "df_copy.BP1_16_3.value_counts()"
   ]
  },
  {
   "cell_type": "code",
   "execution_count": 62,
   "metadata": {},
   "outputs": [
    {
     "data": {
      "text/plain": [
       "4.0    43\n",
       "Name: BP1_16_4, dtype: int64"
      ]
     },
     "execution_count": 62,
     "metadata": {},
     "output_type": "execute_result"
    }
   ],
   "source": [
    "df_copy.BP1_16_4.value_counts()"
   ]
  },
  {
   "cell_type": "code",
   "execution_count": 63,
   "metadata": {},
   "outputs": [
    {
     "data": {
      "text/plain": [
       "4    43\n",
       "Name: BP1_16_4, dtype: int64"
      ]
     },
     "execution_count": 63,
     "metadata": {},
     "output_type": "execute_result"
    }
   ],
   "source": [
    "df_copy.BP1_16_4.replace({4.0:'4'}, inplace=True)\n",
    "df_copy.BP1_16_4.value_counts()"
   ]
  },
  {
   "cell_type": "code",
   "execution_count": 64,
   "metadata": {},
   "outputs": [
    {
     "data": {
      "text/plain": [
       "7.0    26\n",
       "8.0     2\n",
       "Name: BP1_16_8, dtype: int64"
      ]
     },
     "execution_count": 64,
     "metadata": {},
     "output_type": "execute_result"
    }
   ],
   "source": [
    "df_copy.BP1_16_8.value_counts()"
   ]
  },
  {
   "cell_type": "code",
   "execution_count": 65,
   "metadata": {},
   "outputs": [
    {
     "data": {
      "text/plain": [
       "99    28\n",
       "Name: BP1_16_8, dtype: int64"
      ]
     },
     "execution_count": 65,
     "metadata": {},
     "output_type": "execute_result"
    }
   ],
   "source": [
    "df_copy.BP1_16_8.replace({7.0:'99',8.0:'99'}, inplace=True)\n",
    "df_copy.BP1_16_8.value_counts()"
   ]
  },
  {
   "cell_type": "code",
   "execution_count": 66,
   "metadata": {},
   "outputs": [
    {
     "data": {
      "text/plain": [
       "9.0    26\n",
       "Name: BP1_16_9, dtype: int64"
      ]
     },
     "execution_count": 66,
     "metadata": {},
     "output_type": "execute_result"
    }
   ],
   "source": [
    "df_copy.BP1_16_9.value_counts()"
   ]
  },
  {
   "cell_type": "code",
   "execution_count": 67,
   "metadata": {},
   "outputs": [
    {
     "data": {
      "text/plain": [
       "99    26\n",
       "Name: BP1_16_9, dtype: int64"
      ]
     },
     "execution_count": 67,
     "metadata": {},
     "output_type": "execute_result"
    }
   ],
   "source": [
    "df_copy.BP1_16_9.replace({9.0:'99',8.0:'99'}, inplace=True)\n",
    "df_copy.BP1_16_9.value_counts()"
   ]
  },
  {
   "cell_type": "code",
   "execution_count": 68,
   "metadata": {},
   "outputs": [
    {
     "data": {
      "text/plain": [
       "2.0    3126\n",
       "1.0     955\n",
       "9.0      42\n",
       "7.0      26\n",
       "8.0       1\n",
       "Name: BP1_17, dtype: int64"
      ]
     },
     "execution_count": 68,
     "metadata": {},
     "output_type": "execute_result"
    }
   ],
   "source": [
    "df_copy.BP1_17.value_counts()"
   ]
  },
  {
   "cell_type": "code",
   "execution_count": 69,
   "metadata": {},
   "outputs": [
    {
     "data": {
      "text/plain": [
       "2     3126\n",
       "1      955\n",
       "99      69\n",
       "Name: BP1_17, dtype: int64"
      ]
     },
     "execution_count": 69,
     "metadata": {},
     "output_type": "execute_result"
    }
   ],
   "source": [
    "df_copy.BP1_17.replace({1.0:'1',2.0:'2',7.0:'99',8.0:'99',9.0:'99'}, inplace=True)\n",
    "df_copy.BP1_17.value_counts()"
   ]
  },
  {
   "cell_type": "code",
   "execution_count": 70,
   "metadata": {},
   "outputs": [
    {
     "data": {
      "text/plain": [
       "2.0    7387\n",
       "1.0    4039\n",
       "7.0      26\n",
       "Name: BP1_18, dtype: int64"
      ]
     },
     "execution_count": 70,
     "metadata": {},
     "output_type": "execute_result"
    }
   ],
   "source": [
    "df_copy.BP1_18.value_counts()"
   ]
  },
  {
   "cell_type": "code",
   "execution_count": 71,
   "metadata": {},
   "outputs": [
    {
     "data": {
      "text/plain": [
       "2     7387\n",
       "1     4039\n",
       "99      26\n",
       "Name: BP1_18, dtype: int64"
      ]
     },
     "execution_count": 71,
     "metadata": {},
     "output_type": "execute_result"
    }
   ],
   "source": [
    "df_copy.BP1_18.replace({1.0:'1',2.0:'2',7.0:'99',8.0:'99',9.0:'99'}, inplace=True)\n",
    "df_copy.BP1_18.value_counts()"
   ]
  },
  {
   "cell_type": "code",
   "execution_count": 72,
   "metadata": {},
   "outputs": [
    {
     "data": {
      "text/plain": [
       "1.0    8776\n",
       "7.0     748\n",
       "Name: BP1_19_1, dtype: int64"
      ]
     },
     "execution_count": 72,
     "metadata": {},
     "output_type": "execute_result"
    }
   ],
   "source": [
    "df_copy.BP1_19_1.value_counts()"
   ]
  },
  {
   "cell_type": "code",
   "execution_count": 73,
   "metadata": {},
   "outputs": [
    {
     "data": {
      "text/plain": [
       "1     8776\n",
       "99     748\n",
       "Name: BP1_19_1, dtype: int64"
      ]
     },
     "execution_count": 73,
     "metadata": {},
     "output_type": "execute_result"
    }
   ],
   "source": [
    "df_copy.BP1_19_1.replace({1.0:'1',2.0:'2',7.0:'99',8.0:'99',9.0:'99'}, inplace=True)\n",
    "df_copy.BP1_19_1.value_counts()"
   ]
  },
  {
   "cell_type": "code",
   "execution_count": 74,
   "metadata": {},
   "outputs": [
    {
     "data": {
      "text/plain": [
       "2.0    1498\n",
       "Name: BP1_19_2, dtype: int64"
      ]
     },
     "execution_count": 74,
     "metadata": {},
     "output_type": "execute_result"
    }
   ],
   "source": [
    "df_copy.BP1_19_2.value_counts()"
   ]
  },
  {
   "cell_type": "code",
   "execution_count": 75,
   "metadata": {},
   "outputs": [
    {
     "data": {
      "text/plain": [
       "2    1498\n",
       "Name: BP1_19_2, dtype: int64"
      ]
     },
     "execution_count": 75,
     "metadata": {},
     "output_type": "execute_result"
    }
   ],
   "source": [
    "df_copy.BP1_19_2.replace({1.0:'1',2.0:'2',7.0:'99',8.0:'99',9.0:'99'}, inplace=True)\n",
    "df_copy.BP1_19_2.value_counts()"
   ]
  },
  {
   "cell_type": "code",
   "execution_count": 76,
   "metadata": {},
   "outputs": [
    {
     "data": {
      "text/plain": [
       "3.0    419\n",
       "Name: BP1_19_3, dtype: int64"
      ]
     },
     "execution_count": 76,
     "metadata": {},
     "output_type": "execute_result"
    }
   ],
   "source": [
    "df_copy.BP1_19_3.value_counts()"
   ]
  },
  {
   "cell_type": "code",
   "execution_count": 77,
   "metadata": {},
   "outputs": [
    {
     "data": {
      "text/plain": [
       "3    419\n",
       "Name: BP1_19_3, dtype: int64"
      ]
     },
     "execution_count": 77,
     "metadata": {},
     "output_type": "execute_result"
    }
   ],
   "source": [
    "df_copy.BP1_19_3.replace({3.0:'3',2.0:'2',7.0:'99',8.0:'99',9.0:'99'}, inplace=True)\n",
    "df_copy.BP1_19_3.value_counts()"
   ]
  },
  {
   "cell_type": "code",
   "execution_count": 78,
   "metadata": {},
   "outputs": [
    {
     "data": {
      "text/plain": [
       "4.0    86\n",
       "Name: BP1_19_4, dtype: int64"
      ]
     },
     "execution_count": 78,
     "metadata": {},
     "output_type": "execute_result"
    }
   ],
   "source": [
    "df_copy.BP1_19_4.value_counts()"
   ]
  },
  {
   "cell_type": "code",
   "execution_count": 79,
   "metadata": {},
   "outputs": [
    {
     "data": {
      "text/plain": [
       "4    86\n",
       "Name: BP1_19_4, dtype: int64"
      ]
     },
     "execution_count": 79,
     "metadata": {},
     "output_type": "execute_result"
    }
   ],
   "source": [
    "df_copy.BP1_19_4.replace({4.0:'4',2.0:'2',7.0:'99',8.0:'99',9.0:'99'}, inplace=True)\n",
    "df_copy.BP1_19_4.value_counts()"
   ]
  },
  {
   "cell_type": "code",
   "execution_count": 80,
   "metadata": {},
   "outputs": [
    {
     "data": {
      "text/plain": [
       "5.0    148\n",
       "Name: BP1_19_5, dtype: int64"
      ]
     },
     "execution_count": 80,
     "metadata": {},
     "output_type": "execute_result"
    }
   ],
   "source": [
    "df_copy.BP1_19_5.value_counts()"
   ]
  },
  {
   "cell_type": "code",
   "execution_count": 81,
   "metadata": {},
   "outputs": [
    {
     "data": {
      "text/plain": [
       "5    148\n",
       "Name: BP1_19_5, dtype: int64"
      ]
     },
     "execution_count": 81,
     "metadata": {},
     "output_type": "execute_result"
    }
   ],
   "source": [
    "df_copy.BP1_19_5.replace({5.0:'5',2.0:'2',7.0:'99',8.0:'99',9.0:'99'}, inplace=True)\n",
    "df_copy.BP1_19_5.value_counts()"
   ]
  },
  {
   "cell_type": "code",
   "execution_count": 82,
   "metadata": {},
   "outputs": [
    {
     "data": {
      "text/plain": [
       "6.0    7\n",
       "Name: BP1_19_6, dtype: int64"
      ]
     },
     "execution_count": 82,
     "metadata": {},
     "output_type": "execute_result"
    }
   ],
   "source": [
    "df_copy.BP1_19_6.value_counts()"
   ]
  },
  {
   "cell_type": "code",
   "execution_count": 83,
   "metadata": {},
   "outputs": [
    {
     "data": {
      "text/plain": [
       "6    7\n",
       "Name: BP1_19_6, dtype: int64"
      ]
     },
     "execution_count": 83,
     "metadata": {},
     "output_type": "execute_result"
    }
   ],
   "source": [
    "df_copy.BP1_19_6.replace({6.0:'6',2.0:'2',7.0:'99',8.0:'99',9.0:'99'}, inplace=True)\n",
    "df_copy.BP1_19_6.value_counts()"
   ]
  },
  {
   "cell_type": "code",
   "execution_count": 84,
   "metadata": {},
   "outputs": [
    {
     "data": {
      "text/plain": [
       "7.0    58\n",
       "Name: BP1_19_7, dtype: int64"
      ]
     },
     "execution_count": 84,
     "metadata": {},
     "output_type": "execute_result"
    }
   ],
   "source": [
    "df_copy.BP1_19_7.value_counts()"
   ]
  },
  {
   "cell_type": "code",
   "execution_count": 85,
   "metadata": {},
   "outputs": [
    {
     "data": {
      "text/plain": [
       "7    58\n",
       "Name: BP1_19_7, dtype: int64"
      ]
     },
     "execution_count": 85,
     "metadata": {},
     "output_type": "execute_result"
    }
   ],
   "source": [
    "df_copy.BP1_19_7.replace({7.0:'7',2.0:'2',8.0:'99',9.0:'99'}, inplace=True)\n",
    "df_copy.BP1_19_7.value_counts()"
   ]
  },
  {
   "cell_type": "code",
   "execution_count": 86,
   "metadata": {},
   "outputs": [
    {
     "data": {
      "text/plain": [
       "8.0    106\n",
       "Name: BP1_19_8, dtype: int64"
      ]
     },
     "execution_count": 86,
     "metadata": {},
     "output_type": "execute_result"
    }
   ],
   "source": [
    "df_copy.BP1_19_8.value_counts()"
   ]
  },
  {
   "cell_type": "code",
   "execution_count": 87,
   "metadata": {},
   "outputs": [
    {
     "data": {
      "text/plain": [
       "8    106\n",
       "Name: BP1_19_8, dtype: int64"
      ]
     },
     "execution_count": 87,
     "metadata": {},
     "output_type": "execute_result"
    }
   ],
   "source": [
    "df_copy.BP1_19_8.replace({8.0:'8'}, inplace=True)\n",
    "df_copy.BP1_19_8.value_counts()"
   ]
  },
  {
   "cell_type": "code",
   "execution_count": 88,
   "metadata": {},
   "outputs": [
    {
     "data": {
      "text/plain": [
       "2    22964\n",
       "1     4207\n",
       "7       15\n",
       "Name: BP1_20, dtype: int64"
      ]
     },
     "execution_count": 88,
     "metadata": {},
     "output_type": "execute_result"
    }
   ],
   "source": [
    "df_copy.BP1_20.value_counts()"
   ]
  },
  {
   "cell_type": "code",
   "execution_count": 89,
   "metadata": {},
   "outputs": [
    {
     "data": {
      "text/plain": [
       "2     22964\n",
       "1      4207\n",
       "99       15\n",
       "Name: BP1_20, dtype: int64"
      ]
     },
     "execution_count": 89,
     "metadata": {},
     "output_type": "execute_result"
    }
   ],
   "source": [
    "df_copy.BP1_20.replace({7:99}, inplace=True)\n",
    "df_copy.BP1_20.value_counts()"
   ]
  },
  {
   "cell_type": "code",
   "execution_count": 90,
   "metadata": {},
   "outputs": [
    {
     "data": {
      "text/plain": [
       "4.0     8322\n",
       "6.0     3363\n",
       "3.0     2571\n",
       "7.0     2266\n",
       "5.0     1851\n",
       "1.0     1779\n",
       "9.0     1301\n",
       "8.0      901\n",
       "99.0     435\n",
       "2.0      131\n",
       "88.0      44\n",
       "98.0      15\n",
       "Name: BP1_21, dtype: int64"
      ]
     },
     "execution_count": 90,
     "metadata": {},
     "output_type": "execute_result"
    }
   ],
   "source": [
    "df_copy.BP1_21.value_counts()"
   ]
  },
  {
   "cell_type": "code",
   "execution_count": 91,
   "metadata": {},
   "outputs": [
    {
     "data": {
      "text/plain": [
       "4     8322\n",
       "6     3363\n",
       "3     2571\n",
       "7     2266\n",
       "5     1851\n",
       "1     1779\n",
       "9     1301\n",
       "8      901\n",
       "99     494\n",
       "2      131\n",
       "Name: BP1_21, dtype: int64"
      ]
     },
     "execution_count": 91,
     "metadata": {},
     "output_type": "execute_result"
    }
   ],
   "source": [
    "df_copy.BP1_21.replace({0.0:'0',1.0:'1',2.0:'2',3.0:'3',4.0:'4',5.0:'5',6.0:'6',7.0:'7',\n",
    "                          8.0:'8',9.0:'9',10.0:'10',11.0:'11',12.0:'12',\n",
    "                          13.0:'13',14.0:'14',15.0:'15',16.0:'16',17.0:'17',\n",
    "                          18.0:'18',19.0:'19',20.0:'20',21.0:'21',22.0:'22',\n",
    "                          23.0:'23',24.0:'24',25.0:'25',26.0:'26',27.0:'27',\n",
    "                          28.0:'28',29.0:'29',30.0:'30',31.0:'31',32.0:'32',\n",
    "                          33.0:'33',34.0:'34',35.0:'35',36.0:'36',37.0:'37',\n",
    "                          38.0:'38',39.0:'39',40.0:'40',41.0:'41',42.0:'42',\n",
    "                          43.0:'43',44.0:'44',45.0:'45',46.0:'46',47.0:'47',\n",
    "                          99.0:'99',98.0:'99',88.0:'99',50.0:'50'}, inplace=True)\n",
    "df_copy.BP1_21.value_counts()"
   ]
  },
  {
   "cell_type": "code",
   "execution_count": 92,
   "metadata": {},
   "outputs": [
    {
     "data": {
      "text/plain": [
       "1.0    2952\n",
       "2.0     972\n",
       "9.0     283\n",
       "Name: BP1_22, dtype: int64"
      ]
     },
     "execution_count": 92,
     "metadata": {},
     "output_type": "execute_result"
    }
   ],
   "source": [
    "df_copy.BP1_22.value_counts()"
   ]
  },
  {
   "cell_type": "code",
   "execution_count": 93,
   "metadata": {},
   "outputs": [
    {
     "data": {
      "text/plain": [
       "1     2952\n",
       "2      972\n",
       "99     283\n",
       "Name: BP1_22, dtype: int64"
      ]
     },
     "execution_count": 93,
     "metadata": {},
     "output_type": "execute_result"
    }
   ],
   "source": [
    "df_copy.BP1_22.replace({9.0:'99',1.0:'1',2.0:'2'}, inplace=True)\n",
    "df_copy.BP1_22.value_counts()"
   ]
  },
  {
   "cell_type": "code",
   "execution_count": 94,
   "metadata": {},
   "outputs": [
    {
     "data": {
      "text/plain": [
       "11.0    437\n",
       "6.0     391\n",
       "12.0    382\n",
       "3.0     366\n",
       "5.0     351\n",
       "10.0    347\n",
       "8.0     337\n",
       "9.0     328\n",
       "4.0     328\n",
       "1.0     320\n",
       "2.0     315\n",
       "7.0     296\n",
       "99.0      6\n",
       "98.0      3\n",
       "Name: BP1_23_1, dtype: int64"
      ]
     },
     "execution_count": 94,
     "metadata": {},
     "output_type": "execute_result"
    }
   ],
   "source": [
    "df_copy.BP1_23_1.value_counts()"
   ]
  },
  {
   "cell_type": "code",
   "execution_count": 95,
   "metadata": {},
   "outputs": [
    {
     "data": {
      "text/plain": [
       "11    437\n",
       "6     391\n",
       "12    382\n",
       "3     366\n",
       "5     351\n",
       "10    347\n",
       "8     337\n",
       "9     328\n",
       "4     328\n",
       "1     320\n",
       "2     315\n",
       "7     296\n",
       "99      9\n",
       "Name: BP1_23_1, dtype: int64"
      ]
     },
     "execution_count": 95,
     "metadata": {},
     "output_type": "execute_result"
    }
   ],
   "source": [
    "df_copy.BP1_23_1.replace({0.0:'0',1.0:'1',2.0:'2',3.0:'3',4.0:'4',5.0:'5',6.0:'6',7.0:'7',\n",
    "                          8.0:'8',9.0:'9',10.0:'10',11.0:'11',12.0:'12',\n",
    "                          13.0:'13',14.0:'14',15.0:'15',16.0:'16',17.0:'17',\n",
    "                          18.0:'18',19.0:'19',20.0:'20',21.0:'21',22.0:'22',\n",
    "                          23.0:'23',24.0:'24',25.0:'25',26.0:'26',27.0:'27',\n",
    "                          28.0:'28',29.0:'29',30.0:'30',31.0:'31',32.0:'32',\n",
    "                          33.0:'33',34.0:'34',35.0:'35',36.0:'36',37.0:'37',\n",
    "                          38.0:'38',39.0:'39',40.0:'40',41.0:'41',42.0:'42',\n",
    "                          43.0:'43',44.0:'44',45.0:'45',46.0:'46',47.0:'47',\n",
    "                          99.0:'99',98.0:'99',88.0:'99',50.0:'50'}, inplace=True)\n",
    "df_copy.BP1_23_1.value_counts()"
   ]
  },
  {
   "cell_type": "code",
   "execution_count": 96,
   "metadata": {},
   "outputs": [
    {
     "data": {
      "text/plain": [
       "10.0    4083\n",
       "11.0     122\n",
       "98.0       2\n",
       "Name: BP1_23_2, dtype: int64"
      ]
     },
     "execution_count": 96,
     "metadata": {},
     "output_type": "execute_result"
    }
   ],
   "source": [
    "df_copy.BP1_23_2.value_counts()"
   ]
  },
  {
   "cell_type": "code",
   "execution_count": 97,
   "metadata": {},
   "outputs": [
    {
     "data": {
      "text/plain": [
       "10    4083\n",
       "11     122\n",
       "99       2\n",
       "Name: BP1_23_2, dtype: int64"
      ]
     },
     "execution_count": 97,
     "metadata": {},
     "output_type": "execute_result"
    }
   ],
   "source": [
    "df_copy.BP1_23_2.replace({0.0:'0',1.0:'1',2.0:'2',3.0:'3',4.0:'4',5.0:'5',6.0:'6',7.0:'7',\n",
    "                          8.0:'8',9.0:'9',10.0:'10',11.0:'11',12.0:'12',\n",
    "                          13.0:'13',14.0:'14',15.0:'15',16.0:'16',17.0:'17',\n",
    "                          18.0:'18',19.0:'19',20.0:'20',21.0:'21',22.0:'22',\n",
    "                          23.0:'23',24.0:'24',25.0:'25',26.0:'26',27.0:'27',\n",
    "                          28.0:'28',29.0:'29',30.0:'30',31.0:'31',32.0:'32',\n",
    "                          33.0:'33',34.0:'34',35.0:'35',36.0:'36',37.0:'37',\n",
    "                          38.0:'38',39.0:'39',40.0:'40',41.0:'41',42.0:'42',\n",
    "                          43.0:'43',44.0:'44',45.0:'45',46.0:'46',47.0:'47',\n",
    "                          99.0:'99',98.0:'99',88.0:'99',50.0:'50'}, inplace=True)\n",
    "df_copy.BP1_23_2.value_counts()"
   ]
  },
  {
   "cell_type": "code",
   "execution_count": 98,
   "metadata": {},
   "outputs": [
    {
     "data": {
      "text/plain": [
       "2.0    1583\n",
       "4.0     973\n",
       "1.0     886\n",
       "3.0     761\n",
       "7.0       4\n",
       "Name: BP1_24, dtype: int64"
      ]
     },
     "execution_count": 98,
     "metadata": {},
     "output_type": "execute_result"
    }
   ],
   "source": [
    "df_copy.BP1_24.value_counts()"
   ]
  },
  {
   "cell_type": "code",
   "execution_count": 99,
   "metadata": {},
   "outputs": [
    {
     "data": {
      "text/plain": [
       "2     1583\n",
       "4      973\n",
       "1      886\n",
       "3      761\n",
       "99       4\n",
       "Name: BP1_24, dtype: int64"
      ]
     },
     "execution_count": 99,
     "metadata": {},
     "output_type": "execute_result"
    }
   ],
   "source": [
    "df_copy.BP1_24.replace({0.0:'0',1.0:'1',2.0:'2',3.0:'3',4.0:'4',5.0:'5',6.0:'6',7.0:'99'}, inplace=True)\n",
    "df_copy.BP1_24.value_counts()"
   ]
  },
  {
   "cell_type": "code",
   "execution_count": 100,
   "metadata": {},
   "outputs": [
    {
     "data": {
      "text/plain": [
       "6.0    1334\n",
       "1.0    1127\n",
       "3.0     862\n",
       "4.0     334\n",
       "9.0     180\n",
       "5.0     161\n",
       "2.0     110\n",
       "7.0      95\n",
       "8.0       4\n",
       "Name: BP1_25, dtype: int64"
      ]
     },
     "execution_count": 100,
     "metadata": {},
     "output_type": "execute_result"
    }
   ],
   "source": [
    "df_copy.BP1_25.value_counts()"
   ]
  },
  {
   "cell_type": "code",
   "execution_count": 101,
   "metadata": {},
   "outputs": [
    {
     "data": {
      "text/plain": [
       "99    1518\n",
       "1     1127\n",
       "3      862\n",
       "4      334\n",
       "5      161\n",
       "2      110\n",
       "7       95\n",
       "Name: BP1_25, dtype: int64"
      ]
     },
     "execution_count": 101,
     "metadata": {},
     "output_type": "execute_result"
    }
   ],
   "source": [
    "df_copy.BP1_25.replace({0.0:'0',1.0:'1',2.0:'2',3.0:'3',4.0:'4',5.0:'5',6.0:'99',7.0:'7',8.0:'99',9.0:'99'}, inplace=True)\n",
    "df_copy.BP1_25.value_counts()"
   ]
  },
  {
   "cell_type": "code",
   "execution_count": 102,
   "metadata": {},
   "outputs": [
    {
     "data": {
      "text/plain": [
       "2.0    1537\n",
       "3.0    1486\n",
       "5.0     435\n",
       "4.0     429\n",
       "1.0     279\n",
       "9.0      32\n",
       "8.0       9\n",
       "Name: BP1_26, dtype: int64"
      ]
     },
     "execution_count": 102,
     "metadata": {},
     "output_type": "execute_result"
    }
   ],
   "source": [
    "df_copy.BP1_26.value_counts()"
   ]
  },
  {
   "cell_type": "code",
   "execution_count": 103,
   "metadata": {},
   "outputs": [
    {
     "data": {
      "text/plain": [
       "2     1537\n",
       "3     1486\n",
       "5      435\n",
       "4      429\n",
       "1      279\n",
       "99      41\n",
       "Name: BP1_26, dtype: int64"
      ]
     },
     "execution_count": 103,
     "metadata": {},
     "output_type": "execute_result"
    }
   ],
   "source": [
    "df_copy.BP1_26.replace({0.0:'0',1.0:'1',2.0:'2',3.0:'3',4.0:'4',5.0:'5',6.0:'99',7.0:'7',8.0:'99',9.0:'99'}, inplace=True)\n",
    "df_copy.BP1_26.value_counts()"
   ]
  },
  {
   "cell_type": "code",
   "execution_count": 104,
   "metadata": {},
   "outputs": [
    {
     "data": {
      "text/plain": [
       "2.0    1383\n",
       "3.0    1325\n",
       "4.0     816\n",
       "5.0     485\n",
       "1.0     197\n",
       "7.0       1\n",
       "Name: BP1_27, dtype: int64"
      ]
     },
     "execution_count": 104,
     "metadata": {},
     "output_type": "execute_result"
    }
   ],
   "source": [
    "df_copy.BP1_27.value_counts()"
   ]
  },
  {
   "cell_type": "code",
   "execution_count": 105,
   "metadata": {},
   "outputs": [
    {
     "data": {
      "text/plain": [
       "2     1383\n",
       "3     1325\n",
       "4      816\n",
       "5      485\n",
       "1      197\n",
       "99       1\n",
       "Name: BP1_27, dtype: int64"
      ]
     },
     "execution_count": 105,
     "metadata": {},
     "output_type": "execute_result"
    }
   ],
   "source": [
    "df_copy.BP1_27.replace({0.0:'0',1.0:'1',2.0:'2',3.0:'3',4.0:'4',5.0:'5',6.0:'99',7.0:'99',8.0:'99',9.0:'99'}, inplace=True)\n",
    "df_copy.BP1_27.value_counts()"
   ]
  },
  {
   "cell_type": "code",
   "execution_count": 106,
   "metadata": {},
   "outputs": [
    {
     "data": {
      "text/plain": [
       "2    23981\n",
       "1     3190\n",
       "7       15\n",
       "Name: BP1_28, dtype: int64"
      ]
     },
     "execution_count": 106,
     "metadata": {},
     "output_type": "execute_result"
    }
   ],
   "source": [
    "df_copy.BP1_28.value_counts()"
   ]
  },
  {
   "cell_type": "code",
   "execution_count": 107,
   "metadata": {},
   "outputs": [
    {
     "data": {
      "text/plain": [
       "2     23981\n",
       "1      3190\n",
       "99       15\n",
       "Name: BP1_28, dtype: int64"
      ]
     },
     "execution_count": 107,
     "metadata": {},
     "output_type": "execute_result"
    }
   ],
   "source": [
    "df_copy.BP1_28.replace({7:99}, inplace=True)\n",
    "df_copy.BP1_28.value_counts()"
   ]
  },
  {
   "cell_type": "code",
   "execution_count": 108,
   "metadata": {},
   "outputs": [
    {
     "data": {
      "text/plain": [
       "1.0    127\n",
       "Name: BP1_29_1, dtype: int64"
      ]
     },
     "execution_count": 108,
     "metadata": {},
     "output_type": "execute_result"
    }
   ],
   "source": [
    "df_copy.BP1_29_1.value_counts()"
   ]
  },
  {
   "cell_type": "code",
   "execution_count": 109,
   "metadata": {},
   "outputs": [
    {
     "data": {
      "text/plain": [
       "1    127\n",
       "Name: BP1_29_1, dtype: int64"
      ]
     },
     "execution_count": 109,
     "metadata": {},
     "output_type": "execute_result"
    }
   ],
   "source": [
    "df_copy.BP1_29_1.replace({1.0:'1'}, inplace=True)\n",
    "df_copy.BP1_29_1.value_counts()"
   ]
  },
  {
   "cell_type": "code",
   "execution_count": 110,
   "metadata": {},
   "outputs": [
    {
     "data": {
      "text/plain": [
       "2.0    1350\n",
       "Name: BP1_29_2, dtype: int64"
      ]
     },
     "execution_count": 110,
     "metadata": {},
     "output_type": "execute_result"
    }
   ],
   "source": [
    "df_copy.BP1_29_2.value_counts()"
   ]
  },
  {
   "cell_type": "code",
   "execution_count": 111,
   "metadata": {},
   "outputs": [
    {
     "data": {
      "text/plain": [
       "2    1350\n",
       "Name: BP1_29_2, dtype: int64"
      ]
     },
     "execution_count": 111,
     "metadata": {},
     "output_type": "execute_result"
    }
   ],
   "source": [
    "df_copy.BP1_29_2.replace({2.0:'2'}, inplace=True)\n",
    "df_copy.BP1_29_2.value_counts()"
   ]
  },
  {
   "cell_type": "code",
   "execution_count": 112,
   "metadata": {},
   "outputs": [
    {
     "data": {
      "text/plain": [
       "3.0    33\n",
       "Name: BP1_29_3, dtype: int64"
      ]
     },
     "execution_count": 112,
     "metadata": {},
     "output_type": "execute_result"
    }
   ],
   "source": [
    "df_copy.BP1_29_3.value_counts()"
   ]
  },
  {
   "cell_type": "code",
   "execution_count": 113,
   "metadata": {},
   "outputs": [
    {
     "data": {
      "text/plain": [
       "3    33\n",
       "Name: BP1_29_3, dtype: int64"
      ]
     },
     "execution_count": 113,
     "metadata": {},
     "output_type": "execute_result"
    }
   ],
   "source": [
    "df_copy.BP1_29_3.replace({3.0:'3'}, inplace=True)\n",
    "df_copy.BP1_29_3.value_counts()"
   ]
  },
  {
   "cell_type": "code",
   "execution_count": 114,
   "metadata": {},
   "outputs": [
    {
     "data": {
      "text/plain": [
       "4.0    350\n",
       "Name: BP1_29_4, dtype: int64"
      ]
     },
     "execution_count": 114,
     "metadata": {},
     "output_type": "execute_result"
    }
   ],
   "source": [
    "df_copy.BP1_29_4.value_counts()"
   ]
  },
  {
   "cell_type": "code",
   "execution_count": 115,
   "metadata": {},
   "outputs": [
    {
     "data": {
      "text/plain": [
       "4    350\n",
       "Name: BP1_29_4, dtype: int64"
      ]
     },
     "execution_count": 115,
     "metadata": {},
     "output_type": "execute_result"
    }
   ],
   "source": [
    "df_copy.BP1_29_4.replace({4.0:'4'}, inplace=True)\n",
    "df_copy.BP1_29_4.value_counts()"
   ]
  },
  {
   "cell_type": "code",
   "execution_count": 116,
   "metadata": {},
   "outputs": [
    {
     "data": {
      "text/plain": [
       "5.0    188\n",
       "Name: BP1_29_5, dtype: int64"
      ]
     },
     "execution_count": 116,
     "metadata": {},
     "output_type": "execute_result"
    }
   ],
   "source": [
    "df_copy.BP1_29_5.value_counts()"
   ]
  },
  {
   "cell_type": "code",
   "execution_count": 117,
   "metadata": {},
   "outputs": [
    {
     "data": {
      "text/plain": [
       "5    188\n",
       "Name: BP1_29_5, dtype: int64"
      ]
     },
     "execution_count": 117,
     "metadata": {},
     "output_type": "execute_result"
    }
   ],
   "source": [
    "df_copy.BP1_29_5.replace({5.0:'5'}, inplace=True)\n",
    "df_copy.BP1_29_5.value_counts()"
   ]
  },
  {
   "cell_type": "code",
   "execution_count": 118,
   "metadata": {},
   "outputs": [
    {
     "data": {
      "text/plain": [
       "6.0    56\n",
       "Name: BP1_29_6, dtype: int64"
      ]
     },
     "execution_count": 118,
     "metadata": {},
     "output_type": "execute_result"
    }
   ],
   "source": [
    "df_copy.BP1_29_6.value_counts()"
   ]
  },
  {
   "cell_type": "code",
   "execution_count": 119,
   "metadata": {},
   "outputs": [
    {
     "data": {
      "text/plain": [
       "6    56\n",
       "Name: BP1_29_6, dtype: int64"
      ]
     },
     "execution_count": 119,
     "metadata": {},
     "output_type": "execute_result"
    }
   ],
   "source": [
    "df_copy.BP1_29_6.replace({6.0:'6'}, inplace=True)\n",
    "df_copy.BP1_29_6.value_counts()"
   ]
  },
  {
   "cell_type": "code",
   "execution_count": 120,
   "metadata": {},
   "outputs": [
    {
     "data": {
      "text/plain": [
       "7.0    132\n",
       "Name: BP1_29_7, dtype: int64"
      ]
     },
     "execution_count": 120,
     "metadata": {},
     "output_type": "execute_result"
    }
   ],
   "source": [
    "df_copy.BP1_29_7.value_counts()"
   ]
  },
  {
   "cell_type": "code",
   "execution_count": 121,
   "metadata": {},
   "outputs": [
    {
     "data": {
      "text/plain": [
       "7    132\n",
       "Name: BP1_29_7, dtype: int64"
      ]
     },
     "execution_count": 121,
     "metadata": {},
     "output_type": "execute_result"
    }
   ],
   "source": [
    "df_copy.BP1_29_7.replace({7.0:'7'}, inplace=True)\n",
    "df_copy.BP1_29_7.value_counts()"
   ]
  },
  {
   "cell_type": "code",
   "execution_count": 122,
   "metadata": {},
   "outputs": [
    {
     "data": {
      "text/plain": [
       "8.0    71\n",
       "Name: BP1_29_8, dtype: int64"
      ]
     },
     "execution_count": 122,
     "metadata": {},
     "output_type": "execute_result"
    }
   ],
   "source": [
    "df_copy.BP1_29_8.value_counts()"
   ]
  },
  {
   "cell_type": "code",
   "execution_count": 123,
   "metadata": {},
   "outputs": [
    {
     "data": {
      "text/plain": [
       "8    71\n",
       "Name: BP1_29_8, dtype: int64"
      ]
     },
     "execution_count": 123,
     "metadata": {},
     "output_type": "execute_result"
    }
   ],
   "source": [
    "df_copy.BP1_29_8.replace({8.0:'8'}, inplace=True)\n",
    "df_copy.BP1_29_8.value_counts()"
   ]
  },
  {
   "cell_type": "code",
   "execution_count": 124,
   "metadata": {},
   "outputs": [
    {
     "data": {
      "text/plain": [
       "9.0    678\n",
       "Name: BP1_29_9, dtype: int64"
      ]
     },
     "execution_count": 124,
     "metadata": {},
     "output_type": "execute_result"
    }
   ],
   "source": [
    "df_copy.BP1_29_9.value_counts()"
   ]
  },
  {
   "cell_type": "code",
   "execution_count": 125,
   "metadata": {},
   "outputs": [
    {
     "data": {
      "text/plain": [
       "9    678\n",
       "Name: BP1_29_9, dtype: int64"
      ]
     },
     "execution_count": 125,
     "metadata": {},
     "output_type": "execute_result"
    }
   ],
   "source": [
    "df_copy.BP1_29_9.replace({9.0:'9'}, inplace=True)\n",
    "df_copy.BP1_29_9.value_counts()"
   ]
  },
  {
   "cell_type": "code",
   "execution_count": 126,
   "metadata": {},
   "outputs": [
    {
     "data": {
      "text/plain": [
       "98.0    15\n",
       "88.0     3\n",
       "Name: BP1_29_88, dtype: int64"
      ]
     },
     "execution_count": 126,
     "metadata": {},
     "output_type": "execute_result"
    }
   ],
   "source": [
    "df_copy.BP1_29_88.value_counts()"
   ]
  },
  {
   "cell_type": "code",
   "execution_count": 127,
   "metadata": {},
   "outputs": [
    {
     "data": {
      "text/plain": [
       "99    18\n",
       "Name: BP1_29_88, dtype: int64"
      ]
     },
     "execution_count": 127,
     "metadata": {},
     "output_type": "execute_result"
    }
   ],
   "source": [
    "df_copy.BP1_29_88.replace({98.0:'99',88.0:'99'}, inplace=True)\n",
    "df_copy.BP1_29_88.value_counts()"
   ]
  },
  {
   "cell_type": "code",
   "execution_count": 128,
   "metadata": {},
   "outputs": [
    {
     "data": {
      "text/plain": [
       "99.0    326\n",
       "Name: BP1_29_99, dtype: int64"
      ]
     },
     "execution_count": 128,
     "metadata": {},
     "output_type": "execute_result"
    }
   ],
   "source": [
    "df_copy.BP1_29_99.value_counts()"
   ]
  },
  {
   "cell_type": "code",
   "execution_count": 129,
   "metadata": {},
   "outputs": [
    {
     "data": {
      "text/plain": [
       "99    326\n",
       "Name: BP1_29_99, dtype: int64"
      ]
     },
     "execution_count": 129,
     "metadata": {},
     "output_type": "execute_result"
    }
   ],
   "source": [
    "df_copy.BP1_29_99.replace({99.0:'99',88.0:'99'}, inplace=True)\n",
    "df_copy.BP1_29_99.value_counts()"
   ]
  },
  {
   "cell_type": "code",
   "execution_count": 130,
   "metadata": {},
   "outputs": [
    {
     "data": {
      "text/plain": [
       "1.0    1671\n",
       "Name: BP1_30_1, dtype: int64"
      ]
     },
     "execution_count": 130,
     "metadata": {},
     "output_type": "execute_result"
    }
   ],
   "source": [
    "df_copy.BP1_30_1.value_counts()"
   ]
  },
  {
   "cell_type": "code",
   "execution_count": 131,
   "metadata": {},
   "outputs": [
    {
     "data": {
      "text/plain": [
       "1    1671\n",
       "Name: BP1_30_1, dtype: int64"
      ]
     },
     "execution_count": 131,
     "metadata": {},
     "output_type": "execute_result"
    }
   ],
   "source": [
    "df_copy.BP1_30_1.replace({1.0:'1'}, inplace=True)\n",
    "df_copy.BP1_30_1.value_counts()"
   ]
  },
  {
   "cell_type": "code",
   "execution_count": 132,
   "metadata": {},
   "outputs": [
    {
     "data": {
      "text/plain": [
       "2.0    48\n",
       "Name: BP1_30_2, dtype: int64"
      ]
     },
     "execution_count": 132,
     "metadata": {},
     "output_type": "execute_result"
    }
   ],
   "source": [
    "df_copy.BP1_30_2.value_counts()"
   ]
  },
  {
   "cell_type": "code",
   "execution_count": 133,
   "metadata": {},
   "outputs": [
    {
     "data": {
      "text/plain": [
       "2    48\n",
       "Name: BP1_30_2, dtype: int64"
      ]
     },
     "execution_count": 133,
     "metadata": {},
     "output_type": "execute_result"
    }
   ],
   "source": [
    "df_copy.BP1_30_2.replace({2.0:'2'}, inplace=True)\n",
    "df_copy.BP1_30_2.value_counts()"
   ]
  },
  {
   "cell_type": "code",
   "execution_count": 134,
   "metadata": {},
   "outputs": [
    {
     "data": {
      "text/plain": [
       "3.0    49\n",
       "Name: BP1_30_3, dtype: int64"
      ]
     },
     "execution_count": 134,
     "metadata": {},
     "output_type": "execute_result"
    }
   ],
   "source": [
    "df_copy.BP1_30_3.value_counts()"
   ]
  },
  {
   "cell_type": "code",
   "execution_count": 135,
   "metadata": {},
   "outputs": [
    {
     "data": {
      "text/plain": [
       "3    49\n",
       "Name: BP1_30_3, dtype: int64"
      ]
     },
     "execution_count": 135,
     "metadata": {},
     "output_type": "execute_result"
    }
   ],
   "source": [
    "df_copy.BP1_30_3.replace({3.0:'3'}, inplace=True)\n",
    "df_copy.BP1_30_3.value_counts()"
   ]
  },
  {
   "cell_type": "code",
   "execution_count": 136,
   "metadata": {},
   "outputs": [
    {
     "data": {
      "text/plain": [
       "4.0    14\n",
       "Name: BP1_30_4, dtype: int64"
      ]
     },
     "execution_count": 136,
     "metadata": {},
     "output_type": "execute_result"
    }
   ],
   "source": [
    "df_copy.BP1_30_4.value_counts()"
   ]
  },
  {
   "cell_type": "code",
   "execution_count": 137,
   "metadata": {},
   "outputs": [
    {
     "data": {
      "text/plain": [
       "4    14\n",
       "Name: BP1_30_4, dtype: int64"
      ]
     },
     "execution_count": 137,
     "metadata": {},
     "output_type": "execute_result"
    }
   ],
   "source": [
    "df_copy.BP1_30_4.replace({4.0:'4'}, inplace=True)\n",
    "df_copy.BP1_30_4.value_counts()"
   ]
  },
  {
   "cell_type": "code",
   "execution_count": 138,
   "metadata": {},
   "outputs": [
    {
     "data": {
      "text/plain": [
       "5.0    4822\n",
       "Name: BP1_30_5, dtype: int64"
      ]
     },
     "execution_count": 138,
     "metadata": {},
     "output_type": "execute_result"
    }
   ],
   "source": [
    "df_copy.BP1_30_5.value_counts()"
   ]
  },
  {
   "cell_type": "code",
   "execution_count": 139,
   "metadata": {},
   "outputs": [
    {
     "data": {
      "text/plain": [
       "5    4822\n",
       "Name: BP1_30_5, dtype: int64"
      ]
     },
     "execution_count": 139,
     "metadata": {},
     "output_type": "execute_result"
    }
   ],
   "source": [
    "df_copy.BP1_30_5.replace({5.0:'5'}, inplace=True)\n",
    "df_copy.BP1_30_5.value_counts()"
   ]
  },
  {
   "cell_type": "code",
   "execution_count": 140,
   "metadata": {},
   "outputs": [
    {
     "data": {
      "text/plain": [
       "7.0    15\n",
       "8.0     9\n",
       "Name: BP1_30_8, dtype: int64"
      ]
     },
     "execution_count": 140,
     "metadata": {},
     "output_type": "execute_result"
    }
   ],
   "source": [
    "df_copy.BP1_30_8.value_counts()"
   ]
  },
  {
   "cell_type": "code",
   "execution_count": 141,
   "metadata": {},
   "outputs": [
    {
     "data": {
      "text/plain": [
       "99    24\n",
       "Name: BP1_30_8, dtype: int64"
      ]
     },
     "execution_count": 141,
     "metadata": {},
     "output_type": "execute_result"
    }
   ],
   "source": [
    "df_copy.BP1_30_8.replace({7.0:'99',8.0:'99'}, inplace=True)\n",
    "df_copy.BP1_30_8.value_counts()"
   ]
  },
  {
   "cell_type": "code",
   "execution_count": 142,
   "metadata": {},
   "outputs": [
    {
     "data": {
      "text/plain": [
       "9.0    62\n",
       "Name: BP1_30_9, dtype: int64"
      ]
     },
     "execution_count": 142,
     "metadata": {},
     "output_type": "execute_result"
    }
   ],
   "source": [
    "df_copy.BP1_30_9.value_counts()"
   ]
  },
  {
   "cell_type": "code",
   "execution_count": 143,
   "metadata": {},
   "outputs": [
    {
     "data": {
      "text/plain": [
       "99    62\n",
       "Name: BP1_30_9, dtype: int64"
      ]
     },
     "execution_count": 143,
     "metadata": {},
     "output_type": "execute_result"
    }
   ],
   "source": [
    "df_copy.BP1_30_9.replace({9.0:'99',8.0:'99'}, inplace=True)\n",
    "df_copy.BP1_30_9.value_counts()"
   ]
  },
  {
   "cell_type": "code",
   "execution_count": 144,
   "metadata": {},
   "outputs": [
    {
     "data": {
      "text/plain": [
       "1.0    291\n",
       "Name: BP1_31_1, dtype: int64"
      ]
     },
     "execution_count": 144,
     "metadata": {},
     "output_type": "execute_result"
    }
   ],
   "source": [
    "df_copy.BP1_31_1.value_counts()"
   ]
  },
  {
   "cell_type": "code",
   "execution_count": 145,
   "metadata": {},
   "outputs": [
    {
     "data": {
      "text/plain": [
       "1    291\n",
       "Name: BP1_31_1, dtype: int64"
      ]
     },
     "execution_count": 145,
     "metadata": {},
     "output_type": "execute_result"
    }
   ],
   "source": [
    "df_copy.BP1_31_1.replace({1.0:'1'}, inplace=True)\n",
    "df_copy.BP1_31_1.value_counts()"
   ]
  },
  {
   "cell_type": "code",
   "execution_count": 146,
   "metadata": {},
   "outputs": [
    {
     "data": {
      "text/plain": [
       "2.0    1163\n",
       "Name: BP1_31_2, dtype: int64"
      ]
     },
     "execution_count": 146,
     "metadata": {},
     "output_type": "execute_result"
    }
   ],
   "source": [
    "df_copy.BP1_31_2.value_counts()"
   ]
  },
  {
   "cell_type": "code",
   "execution_count": 147,
   "metadata": {},
   "outputs": [
    {
     "data": {
      "text/plain": [
       "2    1163\n",
       "Name: BP1_31_2, dtype: int64"
      ]
     },
     "execution_count": 147,
     "metadata": {},
     "output_type": "execute_result"
    }
   ],
   "source": [
    "df_copy.BP1_31_2.replace({2.0:'2'}, inplace=True)\n",
    "df_copy.BP1_31_2.value_counts()"
   ]
  },
  {
   "cell_type": "code",
   "execution_count": 148,
   "metadata": {},
   "outputs": [
    {
     "data": {
      "text/plain": [
       "3.0    708\n",
       "Name: BP1_31_3, dtype: int64"
      ]
     },
     "execution_count": 148,
     "metadata": {},
     "output_type": "execute_result"
    }
   ],
   "source": [
    "df_copy.BP1_31_3.value_counts()"
   ]
  },
  {
   "cell_type": "code",
   "execution_count": 149,
   "metadata": {},
   "outputs": [
    {
     "data": {
      "text/plain": [
       "3    708\n",
       "Name: BP1_31_3, dtype: int64"
      ]
     },
     "execution_count": 149,
     "metadata": {},
     "output_type": "execute_result"
    }
   ],
   "source": [
    "df_copy.BP1_31_3.replace({3.0:'3'}, inplace=True)\n",
    "df_copy.BP1_31_3.value_counts()"
   ]
  },
  {
   "cell_type": "code",
   "execution_count": 150,
   "metadata": {},
   "outputs": [
    {
     "data": {
      "text/plain": [
       "4.0    956\n",
       "Name: BP1_31_4, dtype: int64"
      ]
     },
     "execution_count": 150,
     "metadata": {},
     "output_type": "execute_result"
    }
   ],
   "source": [
    "df_copy.BP1_31_4.value_counts()"
   ]
  },
  {
   "cell_type": "code",
   "execution_count": 151,
   "metadata": {},
   "outputs": [
    {
     "data": {
      "text/plain": [
       "4    956\n",
       "Name: BP1_31_4, dtype: int64"
      ]
     },
     "execution_count": 151,
     "metadata": {},
     "output_type": "execute_result"
    }
   ],
   "source": [
    "df_copy.BP1_31_4.replace({4.0:'4'}, inplace=True)\n",
    "df_copy.BP1_31_4.value_counts()"
   ]
  },
  {
   "cell_type": "code",
   "execution_count": 152,
   "metadata": {},
   "outputs": [
    {
     "data": {
      "text/plain": [
       "5.0    38\n",
       "Name: BP1_31_5, dtype: int64"
      ]
     },
     "execution_count": 152,
     "metadata": {},
     "output_type": "execute_result"
    }
   ],
   "source": [
    "df_copy.BP1_31_5.value_counts()"
   ]
  },
  {
   "cell_type": "code",
   "execution_count": 153,
   "metadata": {},
   "outputs": [
    {
     "data": {
      "text/plain": [
       "5    38\n",
       "Name: BP1_31_5, dtype: int64"
      ]
     },
     "execution_count": 153,
     "metadata": {},
     "output_type": "execute_result"
    }
   ],
   "source": [
    "df_copy.BP1_31_5.replace({5.0:'5'}, inplace=True)\n",
    "df_copy.BP1_31_5.value_counts()"
   ]
  },
  {
   "cell_type": "code",
   "execution_count": 154,
   "metadata": {},
   "outputs": [
    {
     "data": {
      "text/plain": [
       "6.0    110\n",
       "Name: BP1_31_6, dtype: int64"
      ]
     },
     "execution_count": 154,
     "metadata": {},
     "output_type": "execute_result"
    }
   ],
   "source": [
    "df_copy.BP1_31_6.value_counts()"
   ]
  },
  {
   "cell_type": "code",
   "execution_count": 155,
   "metadata": {},
   "outputs": [
    {
     "data": {
      "text/plain": [
       "6    110\n",
       "Name: BP1_31_6, dtype: int64"
      ]
     },
     "execution_count": 155,
     "metadata": {},
     "output_type": "execute_result"
    }
   ],
   "source": [
    "df_copy.BP1_31_6.replace({6.0:'6'}, inplace=True)\n",
    "df_copy.BP1_31_6.value_counts()"
   ]
  },
  {
   "cell_type": "code",
   "execution_count": 156,
   "metadata": {},
   "outputs": [
    {
     "data": {
      "text/plain": [
       "7.0    102\n",
       "Name: BP1_31_7, dtype: int64"
      ]
     },
     "execution_count": 156,
     "metadata": {},
     "output_type": "execute_result"
    }
   ],
   "source": [
    "df_copy.BP1_31_7.value_counts()"
   ]
  },
  {
   "cell_type": "code",
   "execution_count": 157,
   "metadata": {},
   "outputs": [
    {
     "data": {
      "text/plain": [
       "7    102\n",
       "Name: BP1_31_7, dtype: int64"
      ]
     },
     "execution_count": 157,
     "metadata": {},
     "output_type": "execute_result"
    }
   ],
   "source": [
    "df_copy.BP1_31_7.replace({7.0:'7'}, inplace=True)\n",
    "df_copy.BP1_31_7.value_counts()"
   ]
  },
  {
   "cell_type": "code",
   "execution_count": 158,
   "metadata": {},
   "outputs": [
    {
     "data": {
      "text/plain": [
       "8.0    364\n",
       "Name: BP1_31_8, dtype: int64"
      ]
     },
     "execution_count": 158,
     "metadata": {},
     "output_type": "execute_result"
    }
   ],
   "source": [
    "df_copy.BP1_31_8.value_counts()"
   ]
  },
  {
   "cell_type": "code",
   "execution_count": 159,
   "metadata": {},
   "outputs": [
    {
     "data": {
      "text/plain": [
       "8    364\n",
       "Name: BP1_31_8, dtype: int64"
      ]
     },
     "execution_count": 159,
     "metadata": {},
     "output_type": "execute_result"
    }
   ],
   "source": [
    "df_copy.BP1_31_8.replace({8.0:'8'}, inplace=True)\n",
    "df_copy.BP1_31_8.value_counts()"
   ]
  },
  {
   "cell_type": "code",
   "execution_count": 160,
   "metadata": {},
   "outputs": [
    {
     "data": {
      "text/plain": [
       "9.0    402\n",
       "Name: BP1_31_9, dtype: int64"
      ]
     },
     "execution_count": 160,
     "metadata": {},
     "output_type": "execute_result"
    }
   ],
   "source": [
    "df_copy.BP1_31_9.value_counts()"
   ]
  },
  {
   "cell_type": "code",
   "execution_count": 161,
   "metadata": {},
   "outputs": [
    {
     "data": {
      "text/plain": [
       "9    402\n",
       "Name: BP1_31_9, dtype: int64"
      ]
     },
     "execution_count": 161,
     "metadata": {},
     "output_type": "execute_result"
    }
   ],
   "source": [
    "df_copy.BP1_31_9.replace({9.0:'9'}, inplace=True)\n",
    "df_copy.BP1_31_9.value_counts()"
   ]
  },
  {
   "cell_type": "code",
   "execution_count": 162,
   "metadata": {},
   "outputs": [
    {
     "data": {
      "text/plain": [
       "10.0    144\n",
       "Name: BP1_31_10, dtype: int64"
      ]
     },
     "execution_count": 162,
     "metadata": {},
     "output_type": "execute_result"
    }
   ],
   "source": [
    "df_copy.BP1_31_10.value_counts()"
   ]
  },
  {
   "cell_type": "code",
   "execution_count": 163,
   "metadata": {},
   "outputs": [
    {
     "data": {
      "text/plain": [
       "10    144\n",
       "Name: BP1_31_10, dtype: int64"
      ]
     },
     "execution_count": 163,
     "metadata": {},
     "output_type": "execute_result"
    }
   ],
   "source": [
    "df_copy.BP1_31_10.replace({10.0:'10'}, inplace=True)\n",
    "df_copy.BP1_31_10.value_counts()"
   ]
  },
  {
   "cell_type": "code",
   "execution_count": 164,
   "metadata": {},
   "outputs": [
    {
     "data": {
      "text/plain": [
       "11.0    3121\n",
       "Name: BP1_31_11, dtype: int64"
      ]
     },
     "execution_count": 164,
     "metadata": {},
     "output_type": "execute_result"
    }
   ],
   "source": [
    "df_copy.BP1_31_11.value_counts()"
   ]
  },
  {
   "cell_type": "code",
   "execution_count": 165,
   "metadata": {},
   "outputs": [
    {
     "data": {
      "text/plain": [
       "11    3121\n",
       "Name: BP1_31_11, dtype: int64"
      ]
     },
     "execution_count": 165,
     "metadata": {},
     "output_type": "execute_result"
    }
   ],
   "source": [
    "df_copy.BP1_31_11.replace({11.0:'11'}, inplace=True)\n",
    "df_copy.BP1_31_11.value_counts()"
   ]
  },
  {
   "cell_type": "code",
   "execution_count": 166,
   "metadata": {},
   "outputs": [
    {
     "data": {
      "text/plain": [
       "98.0    15\n",
       "88.0    12\n",
       "Name: BP1_31_88, dtype: int64"
      ]
     },
     "execution_count": 166,
     "metadata": {},
     "output_type": "execute_result"
    }
   ],
   "source": [
    "df_copy.BP1_31_88.value_counts()"
   ]
  },
  {
   "cell_type": "code",
   "execution_count": 167,
   "metadata": {},
   "outputs": [
    {
     "data": {
      "text/plain": [
       "99    27\n",
       "Name: BP1_31_88, dtype: int64"
      ]
     },
     "execution_count": 167,
     "metadata": {},
     "output_type": "execute_result"
    }
   ],
   "source": [
    "df_copy.BP1_31_88.replace({98.0:'99',88.0:'99'}, inplace=True)\n",
    "df_copy.BP1_31_88.value_counts()"
   ]
  },
  {
   "cell_type": "code",
   "execution_count": 168,
   "metadata": {},
   "outputs": [
    {
     "data": {
      "text/plain": [
       "99.0    52\n",
       "Name: BP1_31_99, dtype: int64"
      ]
     },
     "execution_count": 168,
     "metadata": {},
     "output_type": "execute_result"
    }
   ],
   "source": [
    "df_copy.BP1_31_99.value_counts()"
   ]
  },
  {
   "cell_type": "code",
   "execution_count": 169,
   "metadata": {},
   "outputs": [
    {
     "data": {
      "text/plain": [
       "99    52\n",
       "Name: BP1_31_99, dtype: int64"
      ]
     },
     "execution_count": 169,
     "metadata": {},
     "output_type": "execute_result"
    }
   ],
   "source": [
    "df_copy.BP1_31_99.replace({99.0:'99',88.0:'99'}, inplace=True)\n",
    "df_copy.BP1_31_99.value_counts()"
   ]
  },
  {
   "cell_type": "code",
   "execution_count": 170,
   "metadata": {},
   "outputs": [
    {
     "data": {
      "text/plain": [
       "1.0    3788\n",
       "Name: BP1_32_1, dtype: int64"
      ]
     },
     "execution_count": 170,
     "metadata": {},
     "output_type": "execute_result"
    }
   ],
   "source": [
    "df_copy.BP1_32_1.value_counts()"
   ]
  },
  {
   "cell_type": "code",
   "execution_count": 171,
   "metadata": {},
   "outputs": [
    {
     "data": {
      "text/plain": [
       "1    3788\n",
       "Name: BP1_32_1, dtype: int64"
      ]
     },
     "execution_count": 171,
     "metadata": {},
     "output_type": "execute_result"
    }
   ],
   "source": [
    "df_copy.BP1_32_1.replace({1.0:'1'}, inplace=True)\n",
    "df_copy.BP1_32_1.value_counts()"
   ]
  },
  {
   "cell_type": "code",
   "execution_count": 172,
   "metadata": {},
   "outputs": [
    {
     "data": {
      "text/plain": [
       "2.0    4593\n",
       "Name: BP1_32_2, dtype: int64"
      ]
     },
     "execution_count": 172,
     "metadata": {},
     "output_type": "execute_result"
    }
   ],
   "source": [
    "df_copy.BP1_32_2.value_counts()"
   ]
  },
  {
   "cell_type": "code",
   "execution_count": 173,
   "metadata": {},
   "outputs": [
    {
     "data": {
      "text/plain": [
       "2    4593\n",
       "Name: BP1_32_2, dtype: int64"
      ]
     },
     "execution_count": 173,
     "metadata": {},
     "output_type": "execute_result"
    }
   ],
   "source": [
    "df_copy.BP1_32_2.replace({2.0:'2'}, inplace=True)\n",
    "df_copy.BP1_32_2.value_counts()"
   ]
  },
  {
   "cell_type": "code",
   "execution_count": 174,
   "metadata": {},
   "outputs": [
    {
     "data": {
      "text/plain": [
       "3.0    7018\n",
       "Name: BP1_32_3, dtype: int64"
      ]
     },
     "execution_count": 174,
     "metadata": {},
     "output_type": "execute_result"
    }
   ],
   "source": [
    "df_copy.BP1_32_3.value_counts()"
   ]
  },
  {
   "cell_type": "code",
   "execution_count": 175,
   "metadata": {},
   "outputs": [
    {
     "data": {
      "text/plain": [
       "3    7018\n",
       "Name: BP1_32_3, dtype: int64"
      ]
     },
     "execution_count": 175,
     "metadata": {},
     "output_type": "execute_result"
    }
   ],
   "source": [
    "df_copy.BP1_32_3.replace({3.0:'3'}, inplace=True)\n",
    "df_copy.BP1_32_3.value_counts()"
   ]
  },
  {
   "cell_type": "code",
   "execution_count": 176,
   "metadata": {},
   "outputs": [
    {
     "data": {
      "text/plain": [
       "4.0    7919\n",
       "Name: BP1_32_4, dtype: int64"
      ]
     },
     "execution_count": 176,
     "metadata": {},
     "output_type": "execute_result"
    }
   ],
   "source": [
    "df_copy.BP1_32_4.value_counts()"
   ]
  },
  {
   "cell_type": "code",
   "execution_count": 177,
   "metadata": {},
   "outputs": [
    {
     "data": {
      "text/plain": [
       "4    7919\n",
       "Name: BP1_32_4, dtype: int64"
      ]
     },
     "execution_count": 177,
     "metadata": {},
     "output_type": "execute_result"
    }
   ],
   "source": [
    "df_copy.BP1_32_4.replace({4.0:'4'}, inplace=True)\n",
    "df_copy.BP1_32_4.value_counts()"
   ]
  },
  {
   "cell_type": "code",
   "execution_count": 178,
   "metadata": {},
   "outputs": [
    {
     "data": {
      "text/plain": [
       "5.0    560\n",
       "Name: BP1_32_5, dtype: int64"
      ]
     },
     "execution_count": 178,
     "metadata": {},
     "output_type": "execute_result"
    }
   ],
   "source": [
    "df_copy.BP1_32_5.value_counts()"
   ]
  },
  {
   "cell_type": "code",
   "execution_count": 179,
   "metadata": {},
   "outputs": [
    {
     "data": {
      "text/plain": [
       "5    560\n",
       "Name: BP1_32_5, dtype: int64"
      ]
     },
     "execution_count": 179,
     "metadata": {},
     "output_type": "execute_result"
    }
   ],
   "source": [
    "df_copy.BP1_32_5.replace({5.0:'5'}, inplace=True)\n",
    "df_copy.BP1_32_5.value_counts()"
   ]
  },
  {
   "cell_type": "code",
   "execution_count": 180,
   "metadata": {},
   "outputs": [
    {
     "data": {
      "text/plain": [
       "6.0    1529\n",
       "Name: BP1_32_6, dtype: int64"
      ]
     },
     "execution_count": 180,
     "metadata": {},
     "output_type": "execute_result"
    }
   ],
   "source": [
    "df_copy.BP1_32_6.value_counts()"
   ]
  },
  {
   "cell_type": "code",
   "execution_count": 181,
   "metadata": {},
   "outputs": [
    {
     "data": {
      "text/plain": [
       "6    1529\n",
       "Name: BP1_32_6, dtype: int64"
      ]
     },
     "execution_count": 181,
     "metadata": {},
     "output_type": "execute_result"
    }
   ],
   "source": [
    "df_copy.BP1_32_6.replace({6.0:'6'}, inplace=True)\n",
    "df_copy.BP1_32_6.value_counts()"
   ]
  },
  {
   "cell_type": "code",
   "execution_count": 182,
   "metadata": {},
   "outputs": [
    {
     "data": {
      "text/plain": [
       "7.0    844\n",
       "Name: BP1_32_7, dtype: int64"
      ]
     },
     "execution_count": 182,
     "metadata": {},
     "output_type": "execute_result"
    }
   ],
   "source": [
    "df_copy.BP1_32_7.value_counts()"
   ]
  },
  {
   "cell_type": "code",
   "execution_count": 183,
   "metadata": {},
   "outputs": [
    {
     "data": {
      "text/plain": [
       "7    844\n",
       "Name: BP1_32_7, dtype: int64"
      ]
     },
     "execution_count": 183,
     "metadata": {},
     "output_type": "execute_result"
    }
   ],
   "source": [
    "df_copy.BP1_32_7.replace({7.0:'7'}, inplace=True)\n",
    "df_copy.BP1_32_7.value_counts()"
   ]
  },
  {
   "cell_type": "code",
   "execution_count": 184,
   "metadata": {},
   "outputs": [
    {
     "data": {
      "text/plain": [
       "8.0    3651\n",
       "Name: BP1_32_8, dtype: int64"
      ]
     },
     "execution_count": 184,
     "metadata": {},
     "output_type": "execute_result"
    }
   ],
   "source": [
    "df_copy.BP1_32_8.value_counts()"
   ]
  },
  {
   "cell_type": "code",
   "execution_count": 185,
   "metadata": {},
   "outputs": [
    {
     "data": {
      "text/plain": [
       "8    3651\n",
       "Name: BP1_32_8, dtype: int64"
      ]
     },
     "execution_count": 185,
     "metadata": {},
     "output_type": "execute_result"
    }
   ],
   "source": [
    "df_copy.BP1_32_8.replace({8.0:'8'}, inplace=True)\n",
    "df_copy.BP1_32_8.value_counts()"
   ]
  },
  {
   "cell_type": "code",
   "execution_count": 186,
   "metadata": {},
   "outputs": [
    {
     "data": {
      "text/plain": [
       "9.0    6712\n",
       "Name: BP1_32_9, dtype: int64"
      ]
     },
     "execution_count": 186,
     "metadata": {},
     "output_type": "execute_result"
    }
   ],
   "source": [
    "df_copy.BP1_32_9.value_counts()"
   ]
  },
  {
   "cell_type": "code",
   "execution_count": 187,
   "metadata": {},
   "outputs": [
    {
     "data": {
      "text/plain": [
       "9    6712\n",
       "Name: BP1_32_9, dtype: int64"
      ]
     },
     "execution_count": 187,
     "metadata": {},
     "output_type": "execute_result"
    }
   ],
   "source": [
    "df_copy.BP1_32_9.replace({9.0:'9'}, inplace=True)\n",
    "df_copy.BP1_32_9.value_counts()"
   ]
  },
  {
   "cell_type": "code",
   "execution_count": 188,
   "metadata": {},
   "outputs": [
    {
     "data": {
      "text/plain": [
       "10.0    2237\n",
       "Name: BP1_32_10, dtype: int64"
      ]
     },
     "execution_count": 188,
     "metadata": {},
     "output_type": "execute_result"
    }
   ],
   "source": [
    "df_copy.BP1_32_10.value_counts()"
   ]
  },
  {
   "cell_type": "code",
   "execution_count": 189,
   "metadata": {},
   "outputs": [
    {
     "data": {
      "text/plain": [
       "10    2237\n",
       "Name: BP1_32_10, dtype: int64"
      ]
     },
     "execution_count": 189,
     "metadata": {},
     "output_type": "execute_result"
    }
   ],
   "source": [
    "df_copy.BP1_32_10.replace({10.0:'10'}, inplace=True)\n",
    "df_copy.BP1_32_10.value_counts()"
   ]
  },
  {
   "cell_type": "code",
   "execution_count": 190,
   "metadata": {},
   "outputs": [
    {
     "data": {
      "text/plain": [
       "11.0    1508\n",
       "Name: BP1_32_11, dtype: int64"
      ]
     },
     "execution_count": 190,
     "metadata": {},
     "output_type": "execute_result"
    }
   ],
   "source": [
    "df_copy.BP1_32_11.value_counts()"
   ]
  },
  {
   "cell_type": "code",
   "execution_count": 191,
   "metadata": {},
   "outputs": [
    {
     "data": {
      "text/plain": [
       "11    1508\n",
       "Name: BP1_32_11, dtype: int64"
      ]
     },
     "execution_count": 191,
     "metadata": {},
     "output_type": "execute_result"
    }
   ],
   "source": [
    "df_copy.BP1_32_11.replace({11.0:'11'}, inplace=True)\n",
    "df_copy.BP1_32_11.value_counts()"
   ]
  },
  {
   "cell_type": "code",
   "execution_count": 192,
   "metadata": {},
   "outputs": [
    {
     "data": {
      "text/plain": [
       "88.0    77\n",
       "98.0    13\n",
       "Name: BP1_32_88, dtype: int64"
      ]
     },
     "execution_count": 192,
     "metadata": {},
     "output_type": "execute_result"
    }
   ],
   "source": [
    "df_copy.BP1_32_88.value_counts()"
   ]
  },
  {
   "cell_type": "code",
   "execution_count": 193,
   "metadata": {},
   "outputs": [
    {
     "data": {
      "text/plain": [
       "99    90\n",
       "Name: BP1_32_88, dtype: int64"
      ]
     },
     "execution_count": 193,
     "metadata": {},
     "output_type": "execute_result"
    }
   ],
   "source": [
    "df_copy.BP1_32_88.replace({98.0:'99',88.0:'99'}, inplace=True)\n",
    "df_copy.BP1_32_88.value_counts()"
   ]
  },
  {
   "cell_type": "code",
   "execution_count": 194,
   "metadata": {},
   "outputs": [
    {
     "data": {
      "text/plain": [
       "99.0    556\n",
       "Name: BP1_32_99, dtype: int64"
      ]
     },
     "execution_count": 194,
     "metadata": {},
     "output_type": "execute_result"
    }
   ],
   "source": [
    "df_copy.BP1_32_99.value_counts()"
   ]
  },
  {
   "cell_type": "code",
   "execution_count": 195,
   "metadata": {},
   "outputs": [
    {
     "data": {
      "text/plain": [
       "99    556\n",
       "Name: BP1_32_99, dtype: int64"
      ]
     },
     "execution_count": 195,
     "metadata": {},
     "output_type": "execute_result"
    }
   ],
   "source": [
    "df_copy.BP1_32_99.replace({99.0:'99',88.0:'99'}, inplace=True)\n",
    "df_copy.BP1_32_99.value_counts()"
   ]
  },
  {
   "cell_type": "code",
   "execution_count": 196,
   "metadata": {},
   "outputs": [
    {
     "data": {
      "text/plain": [
       "1    16703\n",
       "3     6505\n",
       "5     2692\n",
       "2     1050\n",
       "4      157\n",
       "9       46\n",
       "8       20\n",
       "7       13\n",
       "Name: BP1_33, dtype: int64"
      ]
     },
     "execution_count": 196,
     "metadata": {},
     "output_type": "execute_result"
    }
   ],
   "source": [
    "df_copy.BP1_33.value_counts()"
   ]
  },
  {
   "cell_type": "code",
   "execution_count": 197,
   "metadata": {},
   "outputs": [
    {
     "data": {
      "text/plain": [
       "1     16703\n",
       "3      6505\n",
       "5      2692\n",
       "2      1050\n",
       "4       157\n",
       "99       79\n",
       "Name: BP1_33, dtype: int64"
      ]
     },
     "execution_count": 197,
     "metadata": {},
     "output_type": "execute_result"
    }
   ],
   "source": [
    "df_copy.BP1_33.replace({7:99,8:99,9:99}, inplace=True)\n",
    "df_copy.BP1_33.value_counts()"
   ]
  },
  {
   "cell_type": "code",
   "execution_count": 198,
   "metadata": {},
   "outputs": [
    {
     "data": {
      "text/plain": [
       "0.0          5702\n",
       "2000.0       1470\n",
       "1000.0       1407\n",
       "3000.0       1339\n",
       "5000.0        960\n",
       "1500.0        959\n",
       "500.0         937\n",
       "4000.0        653\n",
       "10000.0       550\n",
       "800.0         535\n",
       "300.0         487\n",
       "2500.0        476\n",
       "600.0         440\n",
       "9999999.0     431\n",
       "6000.0        421\n",
       "200.0         420\n",
       "20000.0       391\n",
       "1200.0        363\n",
       "15000.0       357\n",
       "400.0         331\n",
       "8000.0        302\n",
       "700.0         300\n",
       "7000.0        292\n",
       "30000.0       291\n",
       "3500.0        254\n",
       "8888888.0     239\n",
       "100.0         193\n",
       "50000.0       182\n",
       "40000.0       161\n",
       "12000.0       158\n",
       "             ... \n",
       "124000.0        1\n",
       "5700.0          1\n",
       "4163.0          1\n",
       "21600.0         1\n",
       "15.0            1\n",
       "140.0           1\n",
       "7100.0          1\n",
       "4180.0          1\n",
       "135000.0        1\n",
       "2017.0          1\n",
       "29000.0         1\n",
       "11600.0         1\n",
       "275000.0        1\n",
       "4640.0          1\n",
       "122000.0        1\n",
       "72900.0         1\n",
       "308000.0        1\n",
       "1970.0          1\n",
       "195000.0        1\n",
       "63.0            1\n",
       "19.0            1\n",
       "480000.0        1\n",
       "118000.0        1\n",
       "890.0           1\n",
       "840.0           1\n",
       "110.0           1\n",
       "224000.0        1\n",
       "83300.0         1\n",
       "11900.0         1\n",
       "270000.0        1\n",
       "Name: BP1_34, Length: 362, dtype: int64"
      ]
     },
     "execution_count": 198,
     "metadata": {},
     "output_type": "execute_result"
    }
   ],
   "source": [
    "df_copy.BP1_34.value_counts()\n",
    "#Pendiente"
   ]
  },
  {
   "cell_type": "code",
   "execution_count": 199,
   "metadata": {},
   "outputs": [
    {
     "data": {
      "text/plain": [
       "0          5702\n",
       "nan        2758\n",
       "2000       1470\n",
       "1000       1407\n",
       "3000       1339\n",
       "5000        960\n",
       "1500        959\n",
       "500         937\n",
       "4000        653\n",
       "10000       550\n",
       "800         535\n",
       "300         487\n",
       "2500        476\n",
       "600         440\n",
       "9999999     431\n",
       "6000        421\n",
       "200         420\n",
       "20000       391\n",
       "1200        363\n",
       "15000       357\n",
       "400         331\n",
       "8000        302\n",
       "700         300\n",
       "7000        292\n",
       "30000       291\n",
       "3500        254\n",
       "8888888     239\n",
       "100         193\n",
       "50000       182\n",
       "40000       161\n",
       "           ... \n",
       "47600         1\n",
       "2000000       1\n",
       "1180          1\n",
       "5450          1\n",
       "6070          1\n",
       "210000        1\n",
       "125000        1\n",
       "18500         1\n",
       "2113          1\n",
       "10300         1\n",
       "92200         1\n",
       "2070          1\n",
       "63500         1\n",
       "2050          1\n",
       "2017          1\n",
       "3500000       1\n",
       "1970          1\n",
       "1450          1\n",
       "1950          1\n",
       "47000         1\n",
       "3000000       1\n",
       "9870          1\n",
       "1640          1\n",
       "5700          1\n",
       "1550          1\n",
       "9720          1\n",
       "280000        1\n",
       "209000        1\n",
       "5550          1\n",
       "83300         1\n",
       "Name: BP1_34, Length: 363, dtype: int64"
      ]
     },
     "execution_count": 199,
     "metadata": {},
     "output_type": "execute_result"
    }
   ],
   "source": [
    "l=[]\n",
    "for i in df_copy.BP1_34:\n",
    "    k = str(i)\n",
    "    if(k != \"nan\"):\n",
    "        k = int(eval(k))\n",
    "        l.append(k)\n",
    "    else:\n",
    "        l.append(k)\n",
    "df_copy.BP1_34 = l\n",
    "df_copy.BP1_34.value_counts()"
   ]
  },
  {
   "cell_type": "code",
   "execution_count": 200,
   "metadata": {},
   "outputs": [
    {
     "data": {
      "text/plain": [
       "0.0          22694\n",
       "9999999.0      173\n",
       "1000.0         170\n",
       "500.0          132\n",
       "3000.0         110\n",
       "2000.0         107\n",
       "300.0          104\n",
       "1500.0          88\n",
       "200.0           79\n",
       "5000.0          68\n",
       "10000.0         56\n",
       "800.0           50\n",
       "400.0           47\n",
       "600.0           46\n",
       "100.0           46\n",
       "8888888.0       32\n",
       "4000.0          31\n",
       "700.0           28\n",
       "6000.0          26\n",
       "20000.0         24\n",
       "150.0           19\n",
       "1200.0          17\n",
       "50.0            16\n",
       "15000.0         14\n",
       "30000.0         14\n",
       "8000.0          13\n",
       "7000.0          11\n",
       "2500.0          10\n",
       "750.0            9\n",
       "250.0            9\n",
       "             ...  \n",
       "385.0            1\n",
       "35.0             1\n",
       "220.0            1\n",
       "4100.0           1\n",
       "308000.0         1\n",
       "240.0            1\n",
       "480.0            1\n",
       "1600.0           1\n",
       "12.0             1\n",
       "70.0             1\n",
       "7500.0           1\n",
       "2400.0           1\n",
       "130.0            1\n",
       "200000.0         1\n",
       "13000.0          1\n",
       "120000.0         1\n",
       "746.0            1\n",
       "600000.0         1\n",
       "26000.0          1\n",
       "360.0            1\n",
       "5.0              1\n",
       "14400.0          1\n",
       "220000.0         1\n",
       "280.0            1\n",
       "40.0             1\n",
       "1000000.0        1\n",
       "150000.0         1\n",
       "3600.0           1\n",
       "650.0            1\n",
       "5500.0           1\n",
       "Name: BP1_35, Length: 101, dtype: int64"
      ]
     },
     "execution_count": 200,
     "metadata": {},
     "output_type": "execute_result"
    }
   ],
   "source": [
    "df_copy.BP1_35.value_counts()\n",
    "#Pendiente"
   ]
  },
  {
   "cell_type": "code",
   "execution_count": 201,
   "metadata": {},
   "outputs": [
    {
     "data": {
      "text/plain": [
       "0          22694\n",
       "nan         2758\n",
       "9999999      173\n",
       "1000         170\n",
       "500          132\n",
       "3000         110\n",
       "2000         107\n",
       "300          104\n",
       "1500          88\n",
       "200           79\n",
       "5000          68\n",
       "10000         56\n",
       "800           50\n",
       "400           47\n",
       "100           46\n",
       "600           46\n",
       "8888888       32\n",
       "4000          31\n",
       "700           28\n",
       "6000          26\n",
       "20000         24\n",
       "150           19\n",
       "1200          17\n",
       "50            16\n",
       "15000         14\n",
       "30000         14\n",
       "8000          13\n",
       "7000          11\n",
       "2500          10\n",
       "12000          9\n",
       "           ...  \n",
       "1600           1\n",
       "70             1\n",
       "2400           1\n",
       "26000          1\n",
       "35             1\n",
       "8400           1\n",
       "40             1\n",
       "746            1\n",
       "240            1\n",
       "220            1\n",
       "9000           1\n",
       "13000          1\n",
       "600000         1\n",
       "650            1\n",
       "308000         1\n",
       "2700           1\n",
       "580            1\n",
       "150000         1\n",
       "200000         1\n",
       "7500           1\n",
       "730            1\n",
       "480            1\n",
       "220000         1\n",
       "385            1\n",
       "380            1\n",
       "360            1\n",
       "120000         1\n",
       "3600           1\n",
       "280            1\n",
       "1000000        1\n",
       "Name: BP1_35, Length: 102, dtype: int64"
      ]
     },
     "execution_count": 201,
     "metadata": {},
     "output_type": "execute_result"
    }
   ],
   "source": [
    "l=[]\n",
    "for i in df_copy.BP1_35:\n",
    "    k = str(i)\n",
    "    if(k != \"nan\"):\n",
    "        k = int(eval(k))\n",
    "        l.append(k)\n",
    "    else:\n",
    "        l.append(k)\n",
    "df_copy.BP1_35 = l\n",
    "df_copy.BP1_35.value_counts()"
   ]
  },
  {
   "cell_type": "code",
   "execution_count": 202,
   "metadata": {},
   "outputs": [
    {
     "data": {
      "text/plain": [
       "1.0    5959\n",
       "2.0     881\n",
       "7.0      34\n",
       "Name: BP2_1, dtype: int64"
      ]
     },
     "execution_count": 202,
     "metadata": {},
     "output_type": "execute_result"
    }
   ],
   "source": [
    "df_copy.BP2_1.value_counts()"
   ]
  },
  {
   "cell_type": "code",
   "execution_count": 203,
   "metadata": {},
   "outputs": [
    {
     "data": {
      "text/plain": [
       "1     5959\n",
       "2      881\n",
       "99      34\n",
       "Name: BP2_1, dtype: int64"
      ]
     },
     "execution_count": 203,
     "metadata": {},
     "output_type": "execute_result"
    }
   ],
   "source": [
    "df_copy.BP2_1.replace({1.0:'1',2.0:'2',7.0:'99'}, inplace=True)\n",
    "df_copy.BP2_1.value_counts()"
   ]
  },
  {
   "cell_type": "code",
   "execution_count": 204,
   "metadata": {},
   "outputs": [
    {
     "data": {
      "text/plain": [
       "1.0    821\n",
       "2.0    383\n",
       "3.0     15\n",
       "7.0     13\n",
       "Name: BP2_2, dtype: int64"
      ]
     },
     "execution_count": 204,
     "metadata": {},
     "output_type": "execute_result"
    }
   ],
   "source": [
    "df_copy.BP2_2.value_counts()"
   ]
  },
  {
   "cell_type": "code",
   "execution_count": 205,
   "metadata": {},
   "outputs": [
    {
     "data": {
      "text/plain": [
       "1     821\n",
       "2     383\n",
       "3      15\n",
       "99     13\n",
       "Name: BP2_2, dtype: int64"
      ]
     },
     "execution_count": 205,
     "metadata": {},
     "output_type": "execute_result"
    }
   ],
   "source": [
    "df_copy.BP2_2.replace({1.0:'1',2.0:'2',3.0:'3',7.0:'99'}, inplace=True)\n",
    "df_copy.BP2_2.value_counts()"
   ]
  },
  {
   "cell_type": "code",
   "execution_count": 206,
   "metadata": {},
   "outputs": [
    {
     "data": {
      "text/plain": [
       "2.0    902\n",
       "1.0    317\n",
       "7.0     13\n",
       "Name: BP2_3, dtype: int64"
      ]
     },
     "execution_count": 206,
     "metadata": {},
     "output_type": "execute_result"
    }
   ],
   "source": [
    "df_copy.BP2_3.value_counts()"
   ]
  },
  {
   "cell_type": "code",
   "execution_count": 207,
   "metadata": {},
   "outputs": [
    {
     "data": {
      "text/plain": [
       "2     902\n",
       "1     317\n",
       "99     13\n",
       "Name: BP2_3, dtype: int64"
      ]
     },
     "execution_count": 207,
     "metadata": {},
     "output_type": "execute_result"
    }
   ],
   "source": [
    "df_copy.BP2_3.replace({1.0:'1',2.0:'2',3.0:'3',7.0:'99'}, inplace=True)\n",
    "df_copy.BP2_3.value_counts()"
   ]
  },
  {
   "cell_type": "code",
   "execution_count": 208,
   "metadata": {},
   "outputs": [
    {
     "data": {
      "text/plain": [
       "2.0    846\n",
       "1.0    373\n",
       "7.0     13\n",
       "Name: BP2_4, dtype: int64"
      ]
     },
     "execution_count": 208,
     "metadata": {},
     "output_type": "execute_result"
    }
   ],
   "source": [
    "df_copy.BP2_4.value_counts()"
   ]
  },
  {
   "cell_type": "code",
   "execution_count": 209,
   "metadata": {},
   "outputs": [
    {
     "data": {
      "text/plain": [
       "2     846\n",
       "1     373\n",
       "99     13\n",
       "Name: BP2_4, dtype: int64"
      ]
     },
     "execution_count": 209,
     "metadata": {},
     "output_type": "execute_result"
    }
   ],
   "source": [
    "df_copy.BP2_4.replace({1.0:'1',2.0:'2',3.0:'3',7.0:'99'}, inplace=True)\n",
    "df_copy.BP2_4.value_counts()"
   ]
  },
  {
   "cell_type": "code",
   "execution_count": 210,
   "metadata": {},
   "outputs": [
    {
     "data": {
      "text/plain": [
       "2.0    215\n",
       "1.0    158\n",
       "7.0     13\n",
       "Name: BP2_5, dtype: int64"
      ]
     },
     "execution_count": 210,
     "metadata": {},
     "output_type": "execute_result"
    }
   ],
   "source": [
    "df_copy.BP2_5.value_counts()"
   ]
  },
  {
   "cell_type": "code",
   "execution_count": 211,
   "metadata": {},
   "outputs": [
    {
     "data": {
      "text/plain": [
       "2     215\n",
       "1     158\n",
       "99     13\n",
       "Name: BP2_5, dtype: int64"
      ]
     },
     "execution_count": 211,
     "metadata": {},
     "output_type": "execute_result"
    }
   ],
   "source": [
    "df_copy.BP2_5.replace({1.0:'1',2.0:'2',3.0:'3',7.0:'99'}, inplace=True)\n",
    "df_copy.BP2_5.value_counts()"
   ]
  },
  {
   "cell_type": "code",
   "execution_count": 212,
   "metadata": {},
   "outputs": [
    {
     "data": {
      "text/plain": [
       "1.0    485\n",
       "Name: BP3_1_1, dtype: int64"
      ]
     },
     "execution_count": 212,
     "metadata": {},
     "output_type": "execute_result"
    }
   ],
   "source": [
    "df_copy.BP3_1_1.value_counts()"
   ]
  },
  {
   "cell_type": "code",
   "execution_count": 213,
   "metadata": {},
   "outputs": [
    {
     "data": {
      "text/plain": [
       "1    485\n",
       "Name: BP3_1_1, dtype: int64"
      ]
     },
     "execution_count": 213,
     "metadata": {},
     "output_type": "execute_result"
    }
   ],
   "source": [
    "df_copy.BP3_1_1.replace({1.0:'1'}, inplace=True)\n",
    "df_copy.BP3_1_1.value_counts()"
   ]
  },
  {
   "cell_type": "code",
   "execution_count": 214,
   "metadata": {},
   "outputs": [
    {
     "data": {
      "text/plain": [
       "2.0    1770\n",
       "Name: BP3_1_2, dtype: int64"
      ]
     },
     "execution_count": 214,
     "metadata": {},
     "output_type": "execute_result"
    }
   ],
   "source": [
    "df_copy.BP3_1_2.value_counts()"
   ]
  },
  {
   "cell_type": "code",
   "execution_count": 215,
   "metadata": {},
   "outputs": [
    {
     "data": {
      "text/plain": [
       "2    1770\n",
       "Name: BP3_1_2, dtype: int64"
      ]
     },
     "execution_count": 215,
     "metadata": {},
     "output_type": "execute_result"
    }
   ],
   "source": [
    "df_copy.BP3_1_2.replace({2.0:'2'}, inplace=True)\n",
    "df_copy.BP3_1_2.value_counts()"
   ]
  },
  {
   "cell_type": "code",
   "execution_count": 216,
   "metadata": {},
   "outputs": [
    {
     "data": {
      "text/plain": [
       "3.0    719\n",
       "Name: BP3_1_3, dtype: int64"
      ]
     },
     "execution_count": 216,
     "metadata": {},
     "output_type": "execute_result"
    }
   ],
   "source": [
    "df_copy.BP3_1_3.value_counts()"
   ]
  },
  {
   "cell_type": "code",
   "execution_count": 217,
   "metadata": {},
   "outputs": [
    {
     "data": {
      "text/plain": [
       "3    719\n",
       "Name: BP3_1_3, dtype: int64"
      ]
     },
     "execution_count": 217,
     "metadata": {},
     "output_type": "execute_result"
    }
   ],
   "source": [
    "df_copy.BP3_1_3.replace({3.0:'3'}, inplace=True)\n",
    "df_copy.BP3_1_3.value_counts()"
   ]
  },
  {
   "cell_type": "code",
   "execution_count": 218,
   "metadata": {},
   "outputs": [
    {
     "data": {
      "text/plain": [
       "4.0    683\n",
       "Name: BP3_1_4, dtype: int64"
      ]
     },
     "execution_count": 218,
     "metadata": {},
     "output_type": "execute_result"
    }
   ],
   "source": [
    "df_copy.BP3_1_4.value_counts()"
   ]
  },
  {
   "cell_type": "code",
   "execution_count": 219,
   "metadata": {},
   "outputs": [
    {
     "data": {
      "text/plain": [
       "4    683\n",
       "Name: BP3_1_4, dtype: int64"
      ]
     },
     "execution_count": 219,
     "metadata": {},
     "output_type": "execute_result"
    }
   ],
   "source": [
    "df_copy.BP3_1_4.replace({4.0:'4'}, inplace=True)\n",
    "df_copy.BP3_1_4.value_counts()"
   ]
  },
  {
   "cell_type": "code",
   "execution_count": 220,
   "metadata": {},
   "outputs": [
    {
     "data": {
      "text/plain": [
       "5.0    1779\n",
       "Name: BP3_1_5, dtype: int64"
      ]
     },
     "execution_count": 220,
     "metadata": {},
     "output_type": "execute_result"
    }
   ],
   "source": [
    "df_copy.BP3_1_5.value_counts()"
   ]
  },
  {
   "cell_type": "code",
   "execution_count": 221,
   "metadata": {},
   "outputs": [
    {
     "data": {
      "text/plain": [
       "5    1779\n",
       "Name: BP3_1_5, dtype: int64"
      ]
     },
     "execution_count": 221,
     "metadata": {},
     "output_type": "execute_result"
    }
   ],
   "source": [
    "df_copy.BP3_1_5.replace({5.0:'5'}, inplace=True)\n",
    "df_copy.BP3_1_5.value_counts()"
   ]
  },
  {
   "cell_type": "code",
   "execution_count": 222,
   "metadata": {},
   "outputs": [
    {
     "data": {
      "text/plain": [
       "6.0    110\n",
       "Name: BP3_1_6, dtype: int64"
      ]
     },
     "execution_count": 222,
     "metadata": {},
     "output_type": "execute_result"
    }
   ],
   "source": [
    "df_copy.BP3_1_6.value_counts()"
   ]
  },
  {
   "cell_type": "code",
   "execution_count": 223,
   "metadata": {},
   "outputs": [
    {
     "data": {
      "text/plain": [
       "6    110\n",
       "Name: BP3_1_6, dtype: int64"
      ]
     },
     "execution_count": 223,
     "metadata": {},
     "output_type": "execute_result"
    }
   ],
   "source": [
    "df_copy.BP3_1_6.replace({6.0:'6'}, inplace=True)\n",
    "df_copy.BP3_1_6.value_counts()"
   ]
  },
  {
   "cell_type": "code",
   "execution_count": 224,
   "metadata": {},
   "outputs": [
    {
     "data": {
      "text/plain": [
       "7.0    3861\n",
       "Name: BP3_1_7, dtype: int64"
      ]
     },
     "execution_count": 224,
     "metadata": {},
     "output_type": "execute_result"
    }
   ],
   "source": [
    "df_copy.BP3_1_7.value_counts()"
   ]
  },
  {
   "cell_type": "code",
   "execution_count": 225,
   "metadata": {},
   "outputs": [
    {
     "data": {
      "text/plain": [
       "7    3861\n",
       "Name: BP3_1_7, dtype: int64"
      ]
     },
     "execution_count": 225,
     "metadata": {},
     "output_type": "execute_result"
    }
   ],
   "source": [
    "df_copy.BP3_1_7.replace({7.0:'7'}, inplace=True)\n",
    "df_copy.BP3_1_7.value_counts()"
   ]
  },
  {
   "cell_type": "code",
   "execution_count": 226,
   "metadata": {},
   "outputs": [
    {
     "data": {
      "text/plain": [
       "8.0    556\n",
       "Name: BP3_1_8, dtype: int64"
      ]
     },
     "execution_count": 226,
     "metadata": {},
     "output_type": "execute_result"
    }
   ],
   "source": [
    "df_copy.BP3_1_8.value_counts()"
   ]
  },
  {
   "cell_type": "code",
   "execution_count": 227,
   "metadata": {},
   "outputs": [
    {
     "data": {
      "text/plain": [
       "8    556\n",
       "Name: BP3_1_8, dtype: int64"
      ]
     },
     "execution_count": 227,
     "metadata": {},
     "output_type": "execute_result"
    }
   ],
   "source": [
    "df_copy.BP3_1_8.replace({8.0:'8'}, inplace=True)\n",
    "df_copy.BP3_1_8.value_counts()"
   ]
  },
  {
   "cell_type": "code",
   "execution_count": 228,
   "metadata": {},
   "outputs": [
    {
     "data": {
      "text/plain": [
       "9.0    1680\n",
       "Name: BP3_1_9, dtype: int64"
      ]
     },
     "execution_count": 228,
     "metadata": {},
     "output_type": "execute_result"
    }
   ],
   "source": [
    "df_copy.BP3_1_9.value_counts()"
   ]
  },
  {
   "cell_type": "code",
   "execution_count": 229,
   "metadata": {},
   "outputs": [
    {
     "data": {
      "text/plain": [
       "9    1680\n",
       "Name: BP3_1_9, dtype: int64"
      ]
     },
     "execution_count": 229,
     "metadata": {},
     "output_type": "execute_result"
    }
   ],
   "source": [
    "df_copy.BP3_1_9.replace({9.0:'9'}, inplace=True)\n",
    "df_copy.BP3_1_9.value_counts()"
   ]
  },
  {
   "cell_type": "code",
   "execution_count": 230,
   "metadata": {},
   "outputs": [
    {
     "data": {
      "text/plain": [
       "10.0    379\n",
       "Name: BP3_1_10, dtype: int64"
      ]
     },
     "execution_count": 230,
     "metadata": {},
     "output_type": "execute_result"
    }
   ],
   "source": [
    "df_copy.BP3_1_10.value_counts()"
   ]
  },
  {
   "cell_type": "code",
   "execution_count": 231,
   "metadata": {},
   "outputs": [
    {
     "data": {
      "text/plain": [
       "10    379\n",
       "Name: BP3_1_10, dtype: int64"
      ]
     },
     "execution_count": 231,
     "metadata": {},
     "output_type": "execute_result"
    }
   ],
   "source": [
    "df_copy.BP3_1_10.replace({10.0:'10'}, inplace=True)\n",
    "df_copy.BP3_1_10.value_counts()"
   ]
  },
  {
   "cell_type": "code",
   "execution_count": 232,
   "metadata": {},
   "outputs": [
    {
     "data": {
      "text/plain": [
       "11.0    2287\n",
       "Name: BP3_1_11, dtype: int64"
      ]
     },
     "execution_count": 232,
     "metadata": {},
     "output_type": "execute_result"
    }
   ],
   "source": [
    "df_copy.BP3_1_11.value_counts()"
   ]
  },
  {
   "cell_type": "code",
   "execution_count": 233,
   "metadata": {},
   "outputs": [
    {
     "data": {
      "text/plain": [
       "11    2287\n",
       "Name: BP3_1_11, dtype: int64"
      ]
     },
     "execution_count": 233,
     "metadata": {},
     "output_type": "execute_result"
    }
   ],
   "source": [
    "df_copy.BP3_1_11.replace({11.0:'11'}, inplace=True)\n",
    "df_copy.BP3_1_11.value_counts()"
   ]
  },
  {
   "cell_type": "code",
   "execution_count": 234,
   "metadata": {},
   "outputs": [
    {
     "data": {
      "text/plain": [
       "98.0    103\n",
       "88.0     65\n",
       "Name: BP3_1_88, dtype: int64"
      ]
     },
     "execution_count": 234,
     "metadata": {},
     "output_type": "execute_result"
    }
   ],
   "source": [
    "df_copy.BP3_1_88.value_counts()"
   ]
  },
  {
   "cell_type": "code",
   "execution_count": 235,
   "metadata": {},
   "outputs": [
    {
     "data": {
      "text/plain": [
       "99    168\n",
       "Name: BP3_1_88, dtype: int64"
      ]
     },
     "execution_count": 235,
     "metadata": {},
     "output_type": "execute_result"
    }
   ],
   "source": [
    "df_copy.BP3_1_88.replace({88.0:'99',98.0:'99'}, inplace=True)\n",
    "df_copy.BP3_1_88.value_counts()"
   ]
  },
  {
   "cell_type": "code",
   "execution_count": 236,
   "metadata": {},
   "outputs": [
    {
     "data": {
      "text/plain": [
       "99.0    70\n",
       "Name: BP3_1_99, dtype: int64"
      ]
     },
     "execution_count": 236,
     "metadata": {},
     "output_type": "execute_result"
    }
   ],
   "source": [
    "df_copy.BP3_1_99.value_counts()"
   ]
  },
  {
   "cell_type": "code",
   "execution_count": 237,
   "metadata": {},
   "outputs": [
    {
     "data": {
      "text/plain": [
       "99    70\n",
       "Name: BP3_1_99, dtype: int64"
      ]
     },
     "execution_count": 237,
     "metadata": {},
     "output_type": "execute_result"
    }
   ],
   "source": [
    "df_copy.BP3_1_99.replace({88.0:'88',99.0:'99'}, inplace=True)\n",
    "df_copy.BP3_1_99.value_counts()"
   ]
  },
  {
   "cell_type": "code",
   "execution_count": 238,
   "metadata": {},
   "outputs": [
    {
     "data": {
      "text/plain": [
       "2.0    3069\n",
       "1.0     871\n",
       "7.0     127\n",
       "Name: BP3_2, dtype: int64"
      ]
     },
     "execution_count": 238,
     "metadata": {},
     "output_type": "execute_result"
    }
   ],
   "source": [
    "df_copy.BP3_2.value_counts()"
   ]
  },
  {
   "cell_type": "code",
   "execution_count": 239,
   "metadata": {},
   "outputs": [
    {
     "data": {
      "text/plain": [
       "2     3069\n",
       "1      871\n",
       "99     127\n",
       "Name: BP3_2, dtype: int64"
      ]
     },
     "execution_count": 239,
     "metadata": {},
     "output_type": "execute_result"
    }
   ],
   "source": [
    "df_copy.BP3_2.replace({1.0:'1',2.0:'2',7.0:'99'}, inplace=True)\n",
    "df_copy.BP3_2.value_counts()"
   ]
  },
  {
   "cell_type": "code",
   "execution_count": 240,
   "metadata": {},
   "outputs": [
    {
     "data": {
      "text/plain": [
       "2.0    810\n",
       "9.0     75\n",
       "3.0     35\n",
       "4.0     23\n",
       "1.0     15\n",
       "Name: BP4_1, dtype: int64"
      ]
     },
     "execution_count": 240,
     "metadata": {},
     "output_type": "execute_result"
    }
   ],
   "source": [
    "df_copy.BP4_1.value_counts()"
   ]
  },
  {
   "cell_type": "code",
   "execution_count": 241,
   "metadata": {},
   "outputs": [
    {
     "data": {
      "text/plain": [
       "2     810\n",
       "99     75\n",
       "3      35\n",
       "4      23\n",
       "1      15\n",
       "Name: BP4_1, dtype: int64"
      ]
     },
     "execution_count": 241,
     "metadata": {},
     "output_type": "execute_result"
    }
   ],
   "source": [
    "df_copy.BP4_1.replace({1.0:'1',2.0:'2',3.0:'3',4.0:'4',9.0:'99'}, inplace=True)\n",
    "df_copy.BP4_1.value_counts()"
   ]
  },
  {
   "cell_type": "code",
   "execution_count": 242,
   "metadata": {},
   "outputs": [
    {
     "data": {
      "text/plain": [
       "1.0    4643\n",
       "4.0     149\n",
       "5.0      69\n",
       "7.0      68\n",
       "9.0      67\n",
       "2.0      52\n",
       "6.0      14\n",
       "3.0       5\n",
       "Name: BP5_1, dtype: int64"
      ]
     },
     "execution_count": 242,
     "metadata": {},
     "output_type": "execute_result"
    }
   ],
   "source": [
    "df_copy.BP5_1.value_counts()"
   ]
  },
  {
   "cell_type": "code",
   "execution_count": 243,
   "metadata": {},
   "outputs": [
    {
     "data": {
      "text/plain": [
       "1     4643\n",
       "4      149\n",
       "5       69\n",
       "7       68\n",
       "99      67\n",
       "2       52\n",
       "6       14\n",
       "3        5\n",
       "Name: BP5_1, dtype: int64"
      ]
     },
     "execution_count": 243,
     "metadata": {},
     "output_type": "execute_result"
    }
   ],
   "source": [
    "df_copy.BP5_1.replace({1.0:'1',2.0:'2',3.0:'3',4.0:'4',5.0:'5',6.0:'6',7.0:'7',9.0:'99'}, inplace=True)\n",
    "df_copy.BP5_1.value_counts()"
   ]
  },
  {
   "cell_type": "code",
   "execution_count": 244,
   "metadata": {},
   "outputs": [
    {
     "data": {
      "text/plain": [
       "1.0    4345\n",
       "7.0     141\n",
       "Name: BP5_2_1, dtype: int64"
      ]
     },
     "execution_count": 244,
     "metadata": {},
     "output_type": "execute_result"
    }
   ],
   "source": [
    "df_copy.BP5_2_1.value_counts()"
   ]
  },
  {
   "cell_type": "code",
   "execution_count": 245,
   "metadata": {},
   "outputs": [
    {
     "data": {
      "text/plain": [
       "1    4345\n",
       "7     141\n",
       "Name: BP5_2_1, dtype: int64"
      ]
     },
     "execution_count": 245,
     "metadata": {},
     "output_type": "execute_result"
    }
   ],
   "source": [
    "df_copy.BP5_2_1.replace({1.0:'1',7.0:'7',9.0:'99'}, inplace=True)\n",
    "df_copy.BP5_2_1.value_counts()"
   ]
  },
  {
   "cell_type": "code",
   "execution_count": 246,
   "metadata": {},
   "outputs": [
    {
     "data": {
      "text/plain": [
       "2.0    327\n",
       "Name: BP5_2_2, dtype: int64"
      ]
     },
     "execution_count": 246,
     "metadata": {},
     "output_type": "execute_result"
    }
   ],
   "source": [
    "df_copy.BP5_2_2.value_counts()"
   ]
  },
  {
   "cell_type": "code",
   "execution_count": 247,
   "metadata": {},
   "outputs": [
    {
     "data": {
      "text/plain": [
       "2    327\n",
       "Name: BP5_2_2, dtype: int64"
      ]
     },
     "execution_count": 247,
     "metadata": {},
     "output_type": "execute_result"
    }
   ],
   "source": [
    "df_copy.BP5_2_2.replace({2.0:'2',7.0:'7',9.0:'99'}, inplace=True)\n",
    "df_copy.BP5_2_2.value_counts()"
   ]
  },
  {
   "cell_type": "code",
   "execution_count": 248,
   "metadata": {},
   "outputs": [
    {
     "data": {
      "text/plain": [
       "3.0    358\n",
       "Name: BP5_2_3, dtype: int64"
      ]
     },
     "execution_count": 248,
     "metadata": {},
     "output_type": "execute_result"
    }
   ],
   "source": [
    "df_copy.BP5_2_3.value_counts()"
   ]
  },
  {
   "cell_type": "code",
   "execution_count": 249,
   "metadata": {},
   "outputs": [
    {
     "data": {
      "text/plain": [
       "3    358\n",
       "Name: BP5_2_3, dtype: int64"
      ]
     },
     "execution_count": 249,
     "metadata": {},
     "output_type": "execute_result"
    }
   ],
   "source": [
    "df_copy.BP5_2_3.replace({3.0:'3',7.0:'7',9.0:'99'}, inplace=True)\n",
    "df_copy.BP5_2_3.value_counts()"
   ]
  },
  {
   "cell_type": "code",
   "execution_count": 250,
   "metadata": {},
   "outputs": [
    {
     "data": {
      "text/plain": [
       "2.0    4646\n",
       "1.0     387\n",
       "7.0      26\n",
       "8.0       8\n",
       "Name: BP5_3, dtype: int64"
      ]
     },
     "execution_count": 250,
     "metadata": {},
     "output_type": "execute_result"
    }
   ],
   "source": [
    "df_copy.BP5_3.value_counts()"
   ]
  },
  {
   "cell_type": "code",
   "execution_count": 251,
   "metadata": {},
   "outputs": [
    {
     "data": {
      "text/plain": [
       "2     4646\n",
       "1      387\n",
       "99      34\n",
       "Name: BP5_3, dtype: int64"
      ]
     },
     "execution_count": 251,
     "metadata": {},
     "output_type": "execute_result"
    }
   ],
   "source": [
    "df_copy.BP5_3.replace({1.0:'1',2.0:'2',7.0:'99',8.0:'99'}, inplace=True)\n",
    "df_copy.BP5_3.value_counts()"
   ]
  },
  {
   "cell_type": "code",
   "execution_count": 252,
   "metadata": {},
   "outputs": [
    {
     "data": {
      "text/plain": [
       "2.0    4597\n",
       "1.0      47\n",
       "7.0      26\n",
       "9.0       5\n",
       "8.0       5\n",
       "Name: BP5_4, dtype: int64"
      ]
     },
     "execution_count": 252,
     "metadata": {},
     "output_type": "execute_result"
    }
   ],
   "source": [
    "df_copy.BP5_4.value_counts()"
   ]
  },
  {
   "cell_type": "code",
   "execution_count": 253,
   "metadata": {},
   "outputs": [
    {
     "data": {
      "text/plain": [
       "2     4597\n",
       "1       47\n",
       "99      36\n",
       "Name: BP5_4, dtype: int64"
      ]
     },
     "execution_count": 253,
     "metadata": {},
     "output_type": "execute_result"
    }
   ],
   "source": [
    "df_copy.BP5_4.replace({1.0:'1',2.0:'2',7.0:'99',8.0:'99',9.0:'99'}, inplace=True)\n",
    "df_copy.BP5_4.value_counts()"
   ]
  },
  {
   "cell_type": "code",
   "execution_count": 254,
   "metadata": {},
   "outputs": [
    {
     "data": {
      "text/plain": [
       "2.0    266\n",
       "3.0    170\n",
       "4.0     99\n",
       "1.0     39\n",
       "5.0      3\n",
       "9.0      2\n",
       "8.0      1\n",
       "Name: BP6_1, dtype: int64"
      ]
     },
     "execution_count": 254,
     "metadata": {},
     "output_type": "execute_result"
    }
   ],
   "source": [
    "df_copy.BP6_1.value_counts()"
   ]
  },
  {
   "cell_type": "code",
   "execution_count": 255,
   "metadata": {},
   "outputs": [
    {
     "data": {
      "text/plain": [
       "2     266\n",
       "3     170\n",
       "4      99\n",
       "1      39\n",
       "5       3\n",
       "99      3\n",
       "Name: BP6_1, dtype: int64"
      ]
     },
     "execution_count": 255,
     "metadata": {},
     "output_type": "execute_result"
    }
   ],
   "source": [
    "df_copy.BP6_1.replace({1.0:'1',2.0:'2',3.0:'3',4.0:'4',5.0:'5',8.0:'99',9.0:'99'}, inplace=True)\n",
    "df_copy.BP6_1.value_counts()"
   ]
  },
  {
   "cell_type": "code",
   "execution_count": 256,
   "metadata": {},
   "outputs": [
    {
     "data": {
      "text/plain": [
       "1.0    32\n",
       "2.0    25\n",
       "8.0    13\n",
       "9.0    11\n",
       "7.0     5\n",
       "Name: BP7_1, dtype: int64"
      ]
     },
     "execution_count": 256,
     "metadata": {},
     "output_type": "execute_result"
    }
   ],
   "source": [
    "df_copy.BP7_1.value_counts()"
   ]
  },
  {
   "cell_type": "code",
   "execution_count": 257,
   "metadata": {},
   "outputs": [
    {
     "data": {
      "text/plain": [
       "1     32\n",
       "99    29\n",
       "2     25\n",
       "Name: BP7_1, dtype: int64"
      ]
     },
     "execution_count": 257,
     "metadata": {},
     "output_type": "execute_result"
    }
   ],
   "source": [
    "df_copy.BP7_1.replace({1.0:'1',2.0:'2',3.0:'3',4.0:'4',5.0:'5',7.0:'99',8.0:'99',9.0:'99'}, inplace=True)\n",
    "df_copy.BP7_1.value_counts()"
   ]
  },
  {
   "cell_type": "code",
   "execution_count": 258,
   "metadata": {},
   "outputs": [
    {
     "data": {
      "text/plain": [
       "1.0    42\n",
       "2.0    15\n",
       "3.0     9\n",
       "9.0     8\n",
       "8.0     7\n",
       "7.0     2\n",
       "5.0     2\n",
       "4.0     1\n",
       "Name: BP7_2, dtype: int64"
      ]
     },
     "execution_count": 258,
     "metadata": {},
     "output_type": "execute_result"
    }
   ],
   "source": [
    "df_copy.BP7_2.value_counts()"
   ]
  },
  {
   "cell_type": "code",
   "execution_count": 259,
   "metadata": {},
   "outputs": [
    {
     "data": {
      "text/plain": [
       "1     42\n",
       "99    17\n",
       "2     15\n",
       "3      9\n",
       "5      2\n",
       "4      1\n",
       "Name: BP7_2, dtype: int64"
      ]
     },
     "execution_count": 259,
     "metadata": {},
     "output_type": "execute_result"
    }
   ],
   "source": [
    "df_copy.BP7_2.replace({1.0:'1',2.0:'2',3.0:'3',4.0:'4',5.0:'5',7.0:'99',8.0:'99',9.0:'99'}, inplace=True)\n",
    "df_copy.BP7_2.value_counts()"
   ]
  },
  {
   "cell_type": "code",
   "execution_count": 260,
   "metadata": {},
   "outputs": [
    {
     "data": {
      "text/plain": [
       "266    551\n",
       "297    549\n",
       "317    508\n",
       "324    504\n",
       "309    492\n",
       "270    486\n",
       "298    475\n",
       "310    439\n",
       "320    435\n",
       "302    426\n",
       "96     424\n",
       "281    422\n",
       "294    417\n",
       "278    406\n",
       "318    388\n",
       "313    381\n",
       "325    368\n",
       "306    357\n",
       "271    344\n",
       "274    331\n",
       "275    311\n",
       "286    288\n",
       "293    273\n",
       "180    273\n",
       "289    265\n",
       "285    259\n",
       "303    256\n",
       "311    256\n",
       "305    255\n",
       "86     254\n",
       "      ... \n",
       "128      6\n",
       "260      6\n",
       "265      5\n",
       "53       5\n",
       "170      5\n",
       "296      5\n",
       "10       5\n",
       "24       5\n",
       "181      5\n",
       "232      5\n",
       "3        4\n",
       "91       4\n",
       "2        4\n",
       "78       4\n",
       "71       3\n",
       "284      3\n",
       "292      3\n",
       "18       3\n",
       "5        3\n",
       "269      2\n",
       "43       2\n",
       "33       2\n",
       "31       2\n",
       "45       2\n",
       "8        2\n",
       "27       1\n",
       "300      1\n",
       "243      1\n",
       "179      1\n",
       "19       1\n",
       "Name: EST, Length: 323, dtype: int64"
      ]
     },
     "execution_count": 260,
     "metadata": {},
     "output_type": "execute_result"
    }
   ],
   "source": [
    "df_copy.EST.value_counts()"
   ]
  },
  {
   "cell_type": "code",
   "execution_count": 261,
   "metadata": {
    "scrolled": true
   },
   "outputs": [
    {
     "data": {
      "text/plain": [
       "8345     41\n",
       "8389     37\n",
       "2348     33\n",
       "8320     33\n",
       "1368     31\n",
       "8343     30\n",
       "8324     30\n",
       "770      29\n",
       "8339     29\n",
       "9258     29\n",
       "8323     25\n",
       "8336     25\n",
       "6051     25\n",
       "8511     25\n",
       "116      25\n",
       "7226     24\n",
       "7874     24\n",
       "9699     23\n",
       "10007    23\n",
       "6515     23\n",
       "3758     22\n",
       "6493     22\n",
       "136      22\n",
       "109      21\n",
       "8954     21\n",
       "2310     20\n",
       "3129     20\n",
       "8521     20\n",
       "8357     20\n",
       "6947     20\n",
       "         ..\n",
       "4821      1\n",
       "4805      1\n",
       "8883      1\n",
       "7188      1\n",
       "3094      1\n",
       "7204      1\n",
       "7460      1\n",
       "3526      1\n",
       "5573      1\n",
       "7604      1\n",
       "7588      1\n",
       "5525      1\n",
       "5477      1\n",
       "9571      1\n",
       "5461      1\n",
       "5445      1\n",
       "5429      1\n",
       "7444      1\n",
       "7236      1\n",
       "9475      1\n",
       "3286      1\n",
       "3270      1\n",
       "5317      1\n",
       "9411      1\n",
       "1207      1\n",
       "5301      1\n",
       "3190      1\n",
       "5237      1\n",
       "7284      1\n",
       "2049      1\n",
       "Name: UPM, Length: 7855, dtype: int64"
      ]
     },
     "execution_count": 261,
     "metadata": {},
     "output_type": "execute_result"
    }
   ],
   "source": [
    "df_copy.UPM.value_counts()"
   ]
  },
  {
   "cell_type": "code",
   "execution_count": 262,
   "metadata": {},
   "outputs": [
    {
     "data": {
      "text/plain": [
       "24.0    1220\n",
       "20.0    1184\n",
       "2.0     1082\n",
       "44.0    1042\n",
       "31.0    1011\n",
       "0.0      935\n",
       "21.0     927\n",
       "18.0     895\n",
       "9.0      871\n",
       "3.0      856\n",
       "1.0      839\n",
       "41.0     837\n",
       "23.0     708\n",
       "13.0     697\n",
       "15.0     695\n",
       "29.0     689\n",
       "16.0     687\n",
       "Name: CIUDAD, dtype: int64"
      ]
     },
     "execution_count": 262,
     "metadata": {},
     "output_type": "execute_result"
    }
   ],
   "source": [
    "df_copy.CIUDAD.value_counts()"
   ]
  },
  {
   "cell_type": "code",
   "execution_count": 263,
   "metadata": {},
   "outputs": [
    {
     "data": {
      "text/plain": [
       "A    15175\n",
       "U     5707\n",
       "C     3357\n",
       "R     2947\n",
       "Name: DOM, dtype: int64"
      ]
     },
     "execution_count": 263,
     "metadata": {},
     "output_type": "execute_result"
    }
   ],
   "source": [
    "df_copy.DOM.value_counts()"
   ]
  },
  {
   "cell_type": "code",
   "execution_count": 264,
   "metadata": {},
   "outputs": [
    {
     "data": {
      "text/plain": [
       "130      106\n",
       "64        94\n",
       "121       90\n",
       "76        86\n",
       "273       85\n",
       "132       82\n",
       "233       82\n",
       "117       79\n",
       "61        78\n",
       "123       78\n",
       "154       77\n",
       "118       76\n",
       "126       75\n",
       "71        74\n",
       "136       74\n",
       "128       73\n",
       "112       71\n",
       "214       71\n",
       "124       70\n",
       "86        69\n",
       "120       68\n",
       "208       68\n",
       "149       67\n",
       "168       67\n",
       "138       67\n",
       "114       67\n",
       "135       66\n",
       "139       66\n",
       "62        65\n",
       "142       65\n",
       "        ... \n",
       "4126       1\n",
       "2468       1\n",
       "6159       1\n",
       "10223      1\n",
       "4567       1\n",
       "2027       1\n",
       "2011       1\n",
       "1995       1\n",
       "1979       1\n",
       "2205       1\n",
       "2221       1\n",
       "4359       1\n",
       "2493       1\n",
       "2068       1\n",
       "2100       1\n",
       "2116       1\n",
       "2132       1\n",
       "6607       1\n",
       "8648       1\n",
       "2164       1\n",
       "4215       1\n",
       "2308       1\n",
       "2413       1\n",
       "2244       1\n",
       "12586      1\n",
       "2333       1\n",
       "2317       1\n",
       "6358       1\n",
       "8449       1\n",
       "3029       1\n",
       "Name: FAC_DEL, Length: 3301, dtype: int64"
      ]
     },
     "execution_count": 264,
     "metadata": {},
     "output_type": "execute_result"
    }
   ],
   "source": [
    "df_copy.FAC_DEL.value_counts()"
   ]
  },
  {
   "cell_type": "code",
   "execution_count": 265,
   "metadata": {},
   "outputs": [],
   "source": [
    "df_copy.to_csv('2011.csv')"
   ]
  },
  {
   "cell_type": "code",
   "execution_count": null,
   "metadata": {},
   "outputs": [],
   "source": []
  }
 ],
 "metadata": {
  "kernelspec": {
   "display_name": "Python 3",
   "language": "python",
   "name": "python3"
  },
  "language_info": {
   "codemirror_mode": {
    "name": "ipython",
    "version": 3
   },
   "file_extension": ".py",
   "mimetype": "text/x-python",
   "name": "python",
   "nbconvert_exporter": "python",
   "pygments_lexer": "ipython3",
   "version": "3.6.5"
  }
 },
 "nbformat": 4,
 "nbformat_minor": 2
}
