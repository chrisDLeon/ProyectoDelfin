{
 "cells": [
  {
   "cell_type": "code",
   "execution_count": 1,
   "metadata": {},
   "outputs": [],
   "source": [
    "import pandas as pd\n",
    "import numpy as np"
   ]
  },
  {
   "cell_type": "code",
   "execution_count": 2,
   "metadata": {},
   "outputs": [],
   "source": [
    "df_ = 'C:/Users/chris/Documents/TRABAJO/PROYECTOS/PROGRAMA DELFIN/PROYECTOCRIMEN/2013/tmod_vic2013.csv'"
   ]
  },
  {
   "cell_type": "code",
   "execution_count": 3,
   "metadata": {},
   "outputs": [],
   "source": [
    "df = pd.read_csv(df_,low_memory = False)\n",
    "df_copy = df"
   ]
  },
  {
   "cell_type": "code",
   "execution_count": 4,
   "metadata": {},
   "outputs": [
    {
     "data": {
      "text/plain": [
       "1     7925\n",
       "3     7875\n",
       "2     7739\n",
       "5     7658\n",
       "4     7479\n",
       "6      599\n",
       "7      594\n",
       "9      584\n",
       "10     567\n",
       "8      566\n",
       "11     552\n",
       "13     525\n",
       "16     508\n",
       "18     493\n",
       "12     484\n",
       "17     463\n",
       "19     445\n",
       "20     430\n",
       "14     417\n",
       "15     416\n",
       "21      67\n",
       "22      60\n",
       "35      59\n",
       "25      55\n",
       "33      51\n",
       "28      51\n",
       "26      47\n",
       "29      41\n",
       "31      38\n",
       "40      38\n",
       "27      36\n",
       "30      35\n",
       "23      32\n",
       "37      31\n",
       "39      28\n",
       "38      28\n",
       "24      28\n",
       "34      24\n",
       "32      21\n",
       "36      17\n",
       "41       6\n",
       "42       3\n",
       "43       1\n",
       "44       1\n",
       "Name: VIV_SEL, dtype: int64"
      ]
     },
     "execution_count": 4,
     "metadata": {},
     "output_type": "execute_result"
    }
   ],
   "source": [
    "df_copy.VIV_SEL.value_counts()"
   ]
  },
  {
   "cell_type": "code",
   "execution_count": 5,
   "metadata": {},
   "outputs": [
    {
     "data": {
      "text/plain": [
       "1    46287\n",
       "2      695\n",
       "3      107\n",
       "4       24\n",
       "5        4\n",
       "Name: HOGAR, dtype: int64"
      ]
     },
     "execution_count": 5,
     "metadata": {},
     "output_type": "execute_result"
    }
   ],
   "source": [
    "df_copy.HOGAR.value_counts()"
   ]
  },
  {
   "cell_type": "code",
   "execution_count": 6,
   "metadata": {},
   "outputs": [
    {
     "data": {
      "text/plain": [
       "1    35297\n",
       "2     7730\n",
       "3     2613\n",
       "4      948\n",
       "5      521\n",
       "6        5\n",
       "9        1\n",
       "8        1\n",
       "7        1\n",
       "Name: ND_TIPO, dtype: int64"
      ]
     },
     "execution_count": 6,
     "metadata": {},
     "output_type": "execute_result"
    }
   ],
   "source": [
    "df_copy.ND_TIPO.value_counts()"
   ]
  },
  {
   "cell_type": "code",
   "execution_count": 7,
   "metadata": {},
   "outputs": [
    {
     "data": {
      "text/plain": [
       "1    27567\n",
       "2    10234\n",
       "3     4995\n",
       "5     2580\n",
       "4     1708\n",
       "6       24\n",
       "9        9\n",
       "Name: TD_TIPO, dtype: int64"
      ]
     },
     "execution_count": 7,
     "metadata": {},
     "output_type": "execute_result"
    }
   ],
   "source": [
    "df_copy.TD_TIPO.value_counts()"
   ]
  },
  {
   "cell_type": "code",
   "execution_count": 8,
   "metadata": {},
   "outputs": [
    {
     "data": {
      "text/plain": [
       "3     9857\n",
       "2     8726\n",
       "9     6388\n",
       "4     6266\n",
       "5     5821\n",
       "10    3038\n",
       "8     1707\n",
       "1     1588\n",
       "7     1551\n",
       "11    1012\n",
       "13     485\n",
       "6      434\n",
       "12      82\n",
       "15      81\n",
       "14      81\n",
       "Name: BPCOD, dtype: int64"
      ]
     },
     "execution_count": 8,
     "metadata": {},
     "output_type": "execute_result"
    }
   ],
   "source": [
    "df_copy.BPCOD.value_counts()"
   ]
  },
  {
   "cell_type": "code",
   "execution_count": 9,
   "metadata": {},
   "outputs": [
    {
     "data": {
      "text/plain": [
       "1     22719\n",
       "2     14963\n",
       "3      5710\n",
       "4      2373\n",
       "5       805\n",
       "6       340\n",
       "7       129\n",
       "8        44\n",
       "9        20\n",
       "10        9\n",
       "12        2\n",
       "11        2\n",
       "17        1\n",
       "Name: R_SEL, dtype: int64"
      ]
     },
     "execution_count": 9,
     "metadata": {},
     "output_type": "execute_result"
    }
   ],
   "source": [
    "df_copy.R_SEL.value_counts()"
   ]
  },
  {
   "cell_type": "code",
   "execution_count": 10,
   "metadata": {},
   "outputs": [
    {
     "data": {
      "text/plain": [
       "A    47117\n",
       "Name: RESUL_H, dtype: int64"
      ]
     },
     "execution_count": 10,
     "metadata": {},
     "output_type": "execute_result"
    }
   ],
   "source": [
    "df_copy.RESUL_H.value_counts()"
   ]
  },
  {
   "cell_type": "code",
   "execution_count": 11,
   "metadata": {},
   "outputs": [
    {
     "data": {
      "text/plain": [
       "12    5482\n",
       "11    4713\n",
       "2     4094\n",
       "3     4015\n",
       "6     3943\n",
       "8     3601\n",
       "5     3563\n",
       "10    3434\n",
       "7     3404\n",
       "9     3246\n",
       "1     3118\n",
       "4     2789\n",
       "99    1715\n",
       "Name: BP1_1, dtype: int64"
      ]
     },
     "execution_count": 11,
     "metadata": {},
     "output_type": "execute_result"
    }
   ],
   "source": [
    "df_copy.BP1_1.value_counts()"
   ]
  },
  {
   "cell_type": "code",
   "execution_count": 12,
   "metadata": {},
   "outputs": [
    {
     "data": {
      "text/plain": [
       "14    2671\n",
       "21    2626\n",
       "15    2363\n",
       "16    2086\n",
       "25    1933\n",
       "2     1930\n",
       "22    1747\n",
       "11    1638\n",
       "3     1625\n",
       "19    1602\n",
       "8     1589\n",
       "13    1523\n",
       "9     1515\n",
       "23    1468\n",
       "30    1458\n",
       "17    1449\n",
       "20    1446\n",
       "12    1410\n",
       "31    1318\n",
       "6     1300\n",
       "26    1299\n",
       "10    1279\n",
       "7     1276\n",
       "1     1234\n",
       "27    1202\n",
       "4     1116\n",
       "24    1092\n",
       "28    1009\n",
       "5      753\n",
       "29     753\n",
       "18     704\n",
       "32     682\n",
       "99      21\n",
       "Name: BP1_2C, dtype: int64"
      ]
     },
     "execution_count": 12,
     "metadata": {},
     "output_type": "execute_result"
    }
   ],
   "source": [
    "df_copy.BP1_2C.value_counts()"
   ]
  },
  {
   "cell_type": "code",
   "execution_count": 13,
   "metadata": {},
   "outputs": [
    {
     "data": {
      "text/plain": [
       "1      2992\n",
       "2      2462\n",
       "5      2422\n",
       "114    2138\n",
       "4      2117\n",
       "39     2105\n",
       "3      1880\n",
       "6      1835\n",
       "14     1624\n",
       "53     1587\n",
       "30     1488\n",
       "7      1305\n",
       "19     1286\n",
       "20     1191\n",
       "48     1166\n",
       "50     1018\n",
       "67     1000\n",
       "28      942\n",
       "101     839\n",
       "11      692\n",
       "120     652\n",
       "17      628\n",
       "10      627\n",
       "193     624\n",
       "8       600\n",
       "106     595\n",
       "33      539\n",
       "9       508\n",
       "38      434\n",
       "57      413\n",
       "       ... \n",
       "159       2\n",
       "447       2\n",
       "113       2\n",
       "392       2\n",
       "452       2\n",
       "232       2\n",
       "419       1\n",
       "161       1\n",
       "144       1\n",
       "202       1\n",
       "145       1\n",
       "192       1\n",
       "416       1\n",
       "207       1\n",
       "178       1\n",
       "338       1\n",
       "427       1\n",
       "301       1\n",
       "147       1\n",
       "163       1\n",
       "142       1\n",
       "88        1\n",
       "340       1\n",
       "468       1\n",
       "310       1\n",
       "500       1\n",
       "201       1\n",
       "397       1\n",
       "137       1\n",
       "551       1\n",
       "Name: BP1_3C, Length: 219, dtype: int64"
      ]
     },
     "execution_count": 13,
     "metadata": {},
     "output_type": "execute_result"
    }
   ],
   "source": [
    "df_copy.BP1_3C.value_counts()"
   ]
  },
  {
   "cell_type": "code",
   "execution_count": 14,
   "metadata": {},
   "outputs": [
    {
     "data": {
      "text/plain": [
       "2    13532\n",
       "3    12946\n",
       "4    10339\n",
       "1     8605\n",
       "9     1695\n",
       "Name: BP1_4, dtype: int64"
      ]
     },
     "execution_count": 14,
     "metadata": {},
     "output_type": "execute_result"
    }
   ],
   "source": [
    "df_copy.BP1_4.value_counts()"
   ]
  },
  {
   "cell_type": "code",
   "execution_count": 15,
   "metadata": {},
   "outputs": [],
   "source": [
    "df_copy.BP1_4.replace({9:99}, inplace=True)"
   ]
  },
  {
   "cell_type": "code",
   "execution_count": 16,
   "metadata": {},
   "outputs": [
    {
     "data": {
      "text/plain": [
       "2     13532\n",
       "3     12946\n",
       "4     10339\n",
       "1      8605\n",
       "99     1695\n",
       "Name: BP1_4, dtype: int64"
      ]
     },
     "execution_count": 16,
     "metadata": {},
     "output_type": "execute_result"
    }
   ],
   "source": [
    "df_copy.BP1_4.value_counts()"
   ]
  },
  {
   "cell_type": "code",
   "execution_count": 17,
   "metadata": {},
   "outputs": [
    {
     "data": {
      "text/plain": [
       "2    22517\n",
       "1    16352\n",
       "4     2588\n",
       "3     1910\n",
       "5     1394\n",
       "6     1228\n",
       "8      652\n",
       "9      242\n",
       "7      234\n",
       "Name: BP1_5, dtype: int64"
      ]
     },
     "execution_count": 17,
     "metadata": {},
     "output_type": "execute_result"
    }
   ],
   "source": [
    "df_copy.BP1_5.value_counts()"
   ]
  },
  {
   "cell_type": "code",
   "execution_count": 18,
   "metadata": {},
   "outputs": [],
   "source": [
    "df_copy.BP1_5.replace({9:99}, inplace=True)"
   ]
  },
  {
   "cell_type": "code",
   "execution_count": 19,
   "metadata": {},
   "outputs": [
    {
     "data": {
      "text/plain": [
       "2     22517\n",
       "1     16352\n",
       "4      2588\n",
       "3      1910\n",
       "5      1394\n",
       "6      1228\n",
       "8       652\n",
       "99      242\n",
       "7       234\n",
       "Name: BP1_5, dtype: int64"
      ]
     },
     "execution_count": 19,
     "metadata": {},
     "output_type": "execute_result"
    }
   ],
   "source": [
    "df_copy.BP1_5.value_counts()"
   ]
  },
  {
   "cell_type": "code",
   "execution_count": 20,
   "metadata": {},
   "outputs": [
    {
     "data": {
      "text/plain": [
       "1.0    19500\n",
       "2.0    14502\n",
       "Name: BP1_6, dtype: int64"
      ]
     },
     "execution_count": 20,
     "metadata": {},
     "output_type": "execute_result"
    }
   ],
   "source": [
    "df_copy.BP1_6.value_counts()"
   ]
  },
  {
   "cell_type": "code",
   "execution_count": 21,
   "metadata": {},
   "outputs": [
    {
     "data": {
      "text/plain": [
       "1    19500\n",
       "2    14502\n",
       "Name: BP1_6, dtype: int64"
      ]
     },
     "execution_count": 21,
     "metadata": {},
     "output_type": "execute_result"
    }
   ],
   "source": [
    "df_copy.BP1_6.replace({1.0:'1',2.0:'2'}, inplace=True)\n",
    "df_copy.BP1_6.value_counts()"
   ]
  },
  {
   "cell_type": "code",
   "execution_count": 22,
   "metadata": {},
   "outputs": [
    {
     "data": {
      "text/plain": [
       "1.0    15191\n",
       "2.0     4309\n",
       "Name: BP1_7, dtype: int64"
      ]
     },
     "execution_count": 22,
     "metadata": {},
     "output_type": "execute_result"
    }
   ],
   "source": [
    "df_copy.BP1_7.value_counts()"
   ]
  },
  {
   "cell_type": "code",
   "execution_count": 23,
   "metadata": {},
   "outputs": [
    {
     "data": {
      "text/plain": [
       "1    15191\n",
       "2     4309\n",
       "Name: BP1_7, dtype: int64"
      ]
     },
     "execution_count": 23,
     "metadata": {},
     "output_type": "execute_result"
    }
   ],
   "source": [
    "df_copy.BP1_7.replace({1.0:'1',2.0:'2'}, inplace=True)\n",
    "df_copy.BP1_7.value_counts()"
   ]
  },
  {
   "cell_type": "code",
   "execution_count": 24,
   "metadata": {},
   "outputs": [
    {
     "data": {
      "text/plain": [
       "2.0    7690\n",
       "1.0    7374\n",
       "9.0     127\n",
       "Name: BP1_8, dtype: int64"
      ]
     },
     "execution_count": 24,
     "metadata": {},
     "output_type": "execute_result"
    }
   ],
   "source": [
    "df_copy.BP1_8.value_counts()"
   ]
  },
  {
   "cell_type": "code",
   "execution_count": 25,
   "metadata": {},
   "outputs": [
    {
     "data": {
      "text/plain": [
       "2     7690\n",
       "1     7374\n",
       "99     127\n",
       "Name: BP1_8, dtype: int64"
      ]
     },
     "execution_count": 25,
     "metadata": {},
     "output_type": "execute_result"
    }
   ],
   "source": [
    "df_copy.BP1_8.replace({1.0:'1',2.0:'2',9.0:'99'}, inplace=True)\n",
    "df_copy.BP1_8.value_counts()"
   ]
  },
  {
   "cell_type": "code",
   "execution_count": 26,
   "metadata": {},
   "outputs": [
    {
     "data": {
      "text/plain": [
       "1.0    7427\n",
       "2.0    4056\n",
       "3.0    1646\n",
       "9.0     669\n",
       "4.0     627\n",
       "6.0     514\n",
       "5.0     252\n",
       "Name: BP1_9, dtype: int64"
      ]
     },
     "execution_count": 26,
     "metadata": {},
     "output_type": "execute_result"
    }
   ],
   "source": [
    "df_copy.BP1_9.value_counts()"
   ]
  },
  {
   "cell_type": "code",
   "execution_count": 27,
   "metadata": {},
   "outputs": [
    {
     "data": {
      "text/plain": [
       "1     7427\n",
       "2     4056\n",
       "3     1646\n",
       "99     669\n",
       "4      627\n",
       "6      514\n",
       "5      252\n",
       "Name: BP1_9, dtype: int64"
      ]
     },
     "execution_count": 27,
     "metadata": {},
     "output_type": "execute_result"
    }
   ],
   "source": [
    "df_copy.BP1_9.replace({1.0:'1',2.0:'2',3.0:'3',4.0:'4',5.0:'5',6.0:'6',9.0:'99'}, inplace=True)\n",
    "df_copy.BP1_9.value_counts()"
   ]
  },
  {
   "cell_type": "code",
   "execution_count": 28,
   "metadata": {},
   "outputs": [
    {
     "data": {
      "text/plain": [
       "1.0    13782\n",
       "0.0     1409\n",
       "Name: BP1_10_1, dtype: int64"
      ]
     },
     "execution_count": 28,
     "metadata": {},
     "output_type": "execute_result"
    }
   ],
   "source": [
    "df_copy.BP1_10_1.value_counts()"
   ]
  },
  {
   "cell_type": "code",
   "execution_count": 29,
   "metadata": {},
   "outputs": [
    {
     "data": {
      "text/plain": [
       "1    13782\n",
       "0     1409\n",
       "Name: BP1_10_1, dtype: int64"
      ]
     },
     "execution_count": 29,
     "metadata": {},
     "output_type": "execute_result"
    }
   ],
   "source": [
    "df_copy.BP1_10_1.replace({1.0:'1',0.0:'0'}, inplace=True)\n",
    "df_copy.BP1_10_1.value_counts()"
   ]
  },
  {
   "cell_type": "code",
   "execution_count": 30,
   "metadata": {},
   "outputs": [
    {
     "data": {
      "text/plain": [
       "0.0    13416\n",
       "1.0     1775\n",
       "Name: BP1_10_2, dtype: int64"
      ]
     },
     "execution_count": 30,
     "metadata": {},
     "output_type": "execute_result"
    }
   ],
   "source": [
    "df_copy.BP1_10_2.value_counts()"
   ]
  },
  {
   "cell_type": "code",
   "execution_count": 31,
   "metadata": {},
   "outputs": [
    {
     "data": {
      "text/plain": [
       "0    13416\n",
       "1     1775\n",
       "Name: BP1_10_2, dtype: int64"
      ]
     },
     "execution_count": 31,
     "metadata": {},
     "output_type": "execute_result"
    }
   ],
   "source": [
    "df_copy.BP1_10_2.replace({1.0:'1',0.0:'0'}, inplace=True)\n",
    "df_copy.BP1_10_2.value_counts()"
   ]
  },
  {
   "cell_type": "code",
   "execution_count": 32,
   "metadata": {},
   "outputs": [
    {
     "data": {
      "text/plain": [
       "0.0    14699\n",
       "1.0      492\n",
       "Name: BP1_10_9, dtype: int64"
      ]
     },
     "execution_count": 32,
     "metadata": {},
     "output_type": "execute_result"
    }
   ],
   "source": [
    "df_copy.BP1_10_9.value_counts()"
   ]
  },
  {
   "cell_type": "code",
   "execution_count": 33,
   "metadata": {},
   "outputs": [
    {
     "data": {
      "text/plain": [
       "0    14699\n",
       "1      492\n",
       "Name: BP1_10_9, dtype: int64"
      ]
     },
     "execution_count": 33,
     "metadata": {},
     "output_type": "execute_result"
    }
   ],
   "source": [
    "df_copy.BP1_10_9.replace({1.0:'1',0.0:'0'}, inplace=True)\n",
    "df_copy.BP1_10_9.value_counts()"
   ]
  },
  {
   "cell_type": "code",
   "execution_count": 34,
   "metadata": {},
   "outputs": [
    {
     "data": {
      "text/plain": [
       "4.0    4571\n",
       "3.0    4164\n",
       "5.0    2462\n",
       "9.0    1884\n",
       "8.0     825\n",
       "6.0     722\n",
       "2.0     459\n",
       "7.0      84\n",
       "1.0      20\n",
       "Name: BP1_11, dtype: int64"
      ]
     },
     "execution_count": 34,
     "metadata": {},
     "output_type": "execute_result"
    }
   ],
   "source": [
    "df_copy.BP1_11.value_counts()"
   ]
  },
  {
   "cell_type": "code",
   "execution_count": 35,
   "metadata": {},
   "outputs": [
    {
     "data": {
      "text/plain": [
       "4     4571\n",
       "3     4164\n",
       "5     2462\n",
       "99    1884\n",
       "8      825\n",
       "6      722\n",
       "2      459\n",
       "7       84\n",
       "1       20\n",
       "Name: BP1_11, dtype: int64"
      ]
     },
     "execution_count": 35,
     "metadata": {},
     "output_type": "execute_result"
    }
   ],
   "source": [
    "df_copy.BP1_11.replace({1.0:'1',2.0:'2',3.0:'3',4.0:'4',5.0:'5',6.0:'6',7.0:'7',8.0:'8',9.0:'99'}, inplace=True)\n",
    "df_copy.BP1_11.value_counts()"
   ]
  },
  {
   "cell_type": "code",
   "execution_count": 36,
   "metadata": {},
   "outputs": [
    {
     "data": {
      "text/plain": [
       "1.0    11367\n",
       "0.0     3824\n",
       "Name: BP1_12_1, dtype: int64"
      ]
     },
     "execution_count": 36,
     "metadata": {},
     "output_type": "execute_result"
    }
   ],
   "source": [
    "df_copy.BP1_12_1.value_counts()"
   ]
  },
  {
   "cell_type": "code",
   "execution_count": 37,
   "metadata": {},
   "outputs": [
    {
     "data": {
      "text/plain": [
       "1    11367\n",
       "0     3824\n",
       "Name: BP1_12_1, dtype: int64"
      ]
     },
     "execution_count": 37,
     "metadata": {},
     "output_type": "execute_result"
    }
   ],
   "source": [
    "df_copy.BP1_12_1.replace({1.0:'1',0.0:'0'}, inplace=True)\n",
    "df_copy.BP1_12_1.value_counts()"
   ]
  },
  {
   "cell_type": "code",
   "execution_count": 38,
   "metadata": {},
   "outputs": [
    {
     "data": {
      "text/plain": [
       "0.0    13649\n",
       "1.0     1542\n",
       "Name: BP1_12_2, dtype: int64"
      ]
     },
     "execution_count": 38,
     "metadata": {},
     "output_type": "execute_result"
    }
   ],
   "source": [
    "df_copy.BP1_12_2.value_counts()"
   ]
  },
  {
   "cell_type": "code",
   "execution_count": 39,
   "metadata": {},
   "outputs": [
    {
     "data": {
      "text/plain": [
       "0    13649\n",
       "1     1542\n",
       "Name: BP1_12_2, dtype: int64"
      ]
     },
     "execution_count": 39,
     "metadata": {},
     "output_type": "execute_result"
    }
   ],
   "source": [
    "df_copy.BP1_12_2.replace({1.0:'1',0.0:'0'}, inplace=True)\n",
    "df_copy.BP1_12_2.value_counts()"
   ]
  },
  {
   "cell_type": "code",
   "execution_count": 40,
   "metadata": {},
   "outputs": [
    {
     "data": {
      "text/plain": [
       "0.0    14339\n",
       "1.0      852\n",
       "Name: BP1_12_3, dtype: int64"
      ]
     },
     "execution_count": 40,
     "metadata": {},
     "output_type": "execute_result"
    }
   ],
   "source": [
    "df_copy.BP1_12_3.value_counts()"
   ]
  },
  {
   "cell_type": "code",
   "execution_count": 41,
   "metadata": {},
   "outputs": [
    {
     "data": {
      "text/plain": [
       "0    14339\n",
       "1      852\n",
       "Name: BP1_12_3, dtype: int64"
      ]
     },
     "execution_count": 41,
     "metadata": {},
     "output_type": "execute_result"
    }
   ],
   "source": [
    "df_copy.BP1_12_3.replace({1.0:'1',0.0:'0'}, inplace=True)\n",
    "df_copy.BP1_12_3.value_counts()"
   ]
  },
  {
   "cell_type": "code",
   "execution_count": 42,
   "metadata": {},
   "outputs": [
    {
     "data": {
      "text/plain": [
       "0.0    14509\n",
       "1.0      682\n",
       "Name: BP1_12_4, dtype: int64"
      ]
     },
     "execution_count": 42,
     "metadata": {},
     "output_type": "execute_result"
    }
   ],
   "source": [
    "df_copy.BP1_12_4.value_counts()"
   ]
  },
  {
   "cell_type": "code",
   "execution_count": 43,
   "metadata": {},
   "outputs": [
    {
     "data": {
      "text/plain": [
       "0    14509\n",
       "1      682\n",
       "Name: BP1_12_4, dtype: int64"
      ]
     },
     "execution_count": 43,
     "metadata": {},
     "output_type": "execute_result"
    }
   ],
   "source": [
    "df_copy.BP1_12_4.replace({1.0:'1',0.0:'0'}, inplace=True)\n",
    "df_copy.BP1_12_4.value_counts()"
   ]
  },
  {
   "cell_type": "code",
   "execution_count": 44,
   "metadata": {},
   "outputs": [
    {
     "data": {
      "text/plain": [
       "0.0    14796\n",
       "1.0      395\n",
       "Name: BP1_12_5, dtype: int64"
      ]
     },
     "execution_count": 44,
     "metadata": {},
     "output_type": "execute_result"
    }
   ],
   "source": [
    "df_copy.BP1_12_5.value_counts()"
   ]
  },
  {
   "cell_type": "code",
   "execution_count": 45,
   "metadata": {},
   "outputs": [
    {
     "data": {
      "text/plain": [
       "0    14796\n",
       "1      395\n",
       "Name: BP1_12_5, dtype: int64"
      ]
     },
     "execution_count": 45,
     "metadata": {},
     "output_type": "execute_result"
    }
   ],
   "source": [
    "df_copy.BP1_12_5.replace({1.0:'1',0.0:'0'}, inplace=True)\n",
    "df_copy.BP1_12_5.value_counts()"
   ]
  },
  {
   "cell_type": "code",
   "execution_count": 46,
   "metadata": {},
   "outputs": [
    {
     "data": {
      "text/plain": [
       "0.0    14713\n",
       "1.0      478\n",
       "Name: BP1_12_9, dtype: int64"
      ]
     },
     "execution_count": 46,
     "metadata": {},
     "output_type": "execute_result"
    }
   ],
   "source": [
    "df_copy.BP1_12_9.value_counts()"
   ]
  },
  {
   "cell_type": "code",
   "execution_count": 47,
   "metadata": {},
   "outputs": [
    {
     "data": {
      "text/plain": [
       "0    14713\n",
       "1      478\n",
       "Name: BP1_12_9, dtype: int64"
      ]
     },
     "execution_count": 47,
     "metadata": {},
     "output_type": "execute_result"
    }
   ],
   "source": [
    "df_copy.BP1_12_9.replace({1.0:'1',0.0:'0'}, inplace=True)\n",
    "df_copy.BP1_12_9.value_counts()"
   ]
  },
  {
   "cell_type": "code",
   "execution_count": 48,
   "metadata": {},
   "outputs": [
    {
     "data": {
      "text/plain": [
       "2.0    8664\n",
       "1.0    2703\n",
       "Name: BP1_13, dtype: int64"
      ]
     },
     "execution_count": 48,
     "metadata": {},
     "output_type": "execute_result"
    }
   ],
   "source": [
    "df_copy.BP1_13.value_counts()"
   ]
  },
  {
   "cell_type": "code",
   "execution_count": 49,
   "metadata": {},
   "outputs": [
    {
     "data": {
      "text/plain": [
       "2    8664\n",
       "1    2703\n",
       "Name: BP1_13, dtype: int64"
      ]
     },
     "execution_count": 49,
     "metadata": {},
     "output_type": "execute_result"
    }
   ],
   "source": [
    "df_copy.BP1_13.replace({1.0:'1',2.0:'2'}, inplace=True)\n",
    "df_copy.BP1_13.value_counts()"
   ]
  },
  {
   "cell_type": "code",
   "execution_count": 50,
   "metadata": {},
   "outputs": [
    {
     "data": {
      "text/plain": [
       "0.0    12402\n",
       "1.0     2789\n",
       "Name: BP1_14_1, dtype: int64"
      ]
     },
     "execution_count": 50,
     "metadata": {},
     "output_type": "execute_result"
    }
   ],
   "source": [
    "df_copy.BP1_14_1.value_counts()"
   ]
  },
  {
   "cell_type": "code",
   "execution_count": 51,
   "metadata": {},
   "outputs": [
    {
     "data": {
      "text/plain": [
       "0    12402\n",
       "1     2789\n",
       "Name: BP1_14_1, dtype: int64"
      ]
     },
     "execution_count": 51,
     "metadata": {},
     "output_type": "execute_result"
    }
   ],
   "source": [
    "df_copy.BP1_14_1.replace({1.0:'1',0.0:'0'}, inplace=True)\n",
    "df_copy.BP1_14_1.value_counts()"
   ]
  },
  {
   "cell_type": "code",
   "execution_count": 52,
   "metadata": {},
   "outputs": [
    {
     "data": {
      "text/plain": [
       "0.0    13281\n",
       "1.0     1910\n",
       "Name: BP1_14_2, dtype: int64"
      ]
     },
     "execution_count": 52,
     "metadata": {},
     "output_type": "execute_result"
    }
   ],
   "source": [
    "df_copy.BP1_14_2.value_counts()"
   ]
  },
  {
   "cell_type": "code",
   "execution_count": 53,
   "metadata": {},
   "outputs": [
    {
     "data": {
      "text/plain": [
       "0    13281\n",
       "1     1910\n",
       "Name: BP1_14_2, dtype: int64"
      ]
     },
     "execution_count": 53,
     "metadata": {},
     "output_type": "execute_result"
    }
   ],
   "source": [
    "df_copy.BP1_14_2.replace({1.0:'1',0.0:'0'}, inplace=True)\n",
    "df_copy.BP1_14_2.value_counts()"
   ]
  },
  {
   "cell_type": "code",
   "execution_count": 54,
   "metadata": {},
   "outputs": [
    {
     "data": {
      "text/plain": [
       "0.0    15172\n",
       "1.0       19\n",
       "Name: BP1_14_3, dtype: int64"
      ]
     },
     "execution_count": 54,
     "metadata": {},
     "output_type": "execute_result"
    }
   ],
   "source": [
    "df_copy.BP1_14_3.value_counts()"
   ]
  },
  {
   "cell_type": "code",
   "execution_count": 55,
   "metadata": {},
   "outputs": [
    {
     "data": {
      "text/plain": [
       "0    15172\n",
       "1       19\n",
       "Name: BP1_14_3, dtype: int64"
      ]
     },
     "execution_count": 55,
     "metadata": {},
     "output_type": "execute_result"
    }
   ],
   "source": [
    "df_copy.BP1_14_3.replace({1.0:'1',0.0:'0'}, inplace=True)\n",
    "df_copy.BP1_14_3.value_counts()"
   ]
  },
  {
   "cell_type": "code",
   "execution_count": 56,
   "metadata": {},
   "outputs": [
    {
     "data": {
      "text/plain": [
       "1.0    7699\n",
       "0.0    7492\n",
       "Name: BP1_14_4, dtype: int64"
      ]
     },
     "execution_count": 56,
     "metadata": {},
     "output_type": "execute_result"
    }
   ],
   "source": [
    "df_copy.BP1_14_4.value_counts()"
   ]
  },
  {
   "cell_type": "code",
   "execution_count": 57,
   "metadata": {},
   "outputs": [
    {
     "data": {
      "text/plain": [
       "1    7699\n",
       "0    7492\n",
       "Name: BP1_14_4, dtype: int64"
      ]
     },
     "execution_count": 57,
     "metadata": {},
     "output_type": "execute_result"
    }
   ],
   "source": [
    "df_copy.BP1_14_4.replace({1.0:'1',0.0:'0'}, inplace=True)\n",
    "df_copy.BP1_14_4.value_counts()"
   ]
  },
  {
   "cell_type": "code",
   "execution_count": 58,
   "metadata": {},
   "outputs": [
    {
     "data": {
      "text/plain": [
       "0.0    11852\n",
       "1.0     3339\n",
       "Name: BP1_14_9, dtype: int64"
      ]
     },
     "execution_count": 58,
     "metadata": {},
     "output_type": "execute_result"
    }
   ],
   "source": [
    "df_copy.BP1_14_9.value_counts()"
   ]
  },
  {
   "cell_type": "code",
   "execution_count": 59,
   "metadata": {},
   "outputs": [
    {
     "data": {
      "text/plain": [
       "0    11852\n",
       "1     3339\n",
       "Name: BP1_14_9, dtype: int64"
      ]
     },
     "execution_count": 59,
     "metadata": {},
     "output_type": "execute_result"
    }
   ],
   "source": [
    "df_copy.BP1_14_9.replace({1.0:'1',0.0:'0'}, inplace=True)\n",
    "df_copy.BP1_14_9.value_counts()"
   ]
  },
  {
   "cell_type": "code",
   "execution_count": 60,
   "metadata": {},
   "outputs": [
    {
     "data": {
      "text/plain": [
       "2.0    6956\n",
       "1.0    5474\n",
       "9.0    2761\n",
       "Name: BP1_15, dtype: int64"
      ]
     },
     "execution_count": 60,
     "metadata": {},
     "output_type": "execute_result"
    }
   ],
   "source": [
    "df_copy.BP1_15.value_counts()"
   ]
  },
  {
   "cell_type": "code",
   "execution_count": 61,
   "metadata": {},
   "outputs": [
    {
     "data": {
      "text/plain": [
       "2     6956\n",
       "1     5474\n",
       "99    2761\n",
       "Name: BP1_15, dtype: int64"
      ]
     },
     "execution_count": 61,
     "metadata": {},
     "output_type": "execute_result"
    }
   ],
   "source": [
    "df_copy.BP1_15.replace({1.0:'1',2.0:'2',9.0:'99'}, inplace=True)\n",
    "df_copy.BP1_15.value_counts()"
   ]
  },
  {
   "cell_type": "code",
   "execution_count": 62,
   "metadata": {},
   "outputs": [
    {
     "data": {
      "text/plain": [
       "1.0    3112\n",
       "0.0    2362\n",
       "Name: BP1_16_1, dtype: int64"
      ]
     },
     "execution_count": 62,
     "metadata": {},
     "output_type": "execute_result"
    }
   ],
   "source": [
    "df_copy.BP1_16_1.value_counts()"
   ]
  },
  {
   "cell_type": "code",
   "execution_count": 63,
   "metadata": {},
   "outputs": [
    {
     "data": {
      "text/plain": [
       "1    3112\n",
       "0    2362\n",
       "Name: BP1_16_1, dtype: int64"
      ]
     },
     "execution_count": 63,
     "metadata": {},
     "output_type": "execute_result"
    }
   ],
   "source": [
    "df_copy.BP1_16_1.replace({1.0:'1',0.0:'0'}, inplace=True)\n",
    "df_copy.BP1_16_1.value_counts()"
   ]
  },
  {
   "cell_type": "code",
   "execution_count": 64,
   "metadata": {},
   "outputs": [
    {
     "data": {
      "text/plain": [
       "0.0    3011\n",
       "1.0    2463\n",
       "Name: BP1_16_2, dtype: int64"
      ]
     },
     "execution_count": 64,
     "metadata": {},
     "output_type": "execute_result"
    }
   ],
   "source": [
    "df_copy.BP1_16_2.value_counts()"
   ]
  },
  {
   "cell_type": "code",
   "execution_count": 65,
   "metadata": {},
   "outputs": [
    {
     "data": {
      "text/plain": [
       "0    3011\n",
       "1    2463\n",
       "Name: BP1_16_2, dtype: int64"
      ]
     },
     "execution_count": 65,
     "metadata": {},
     "output_type": "execute_result"
    }
   ],
   "source": [
    "df_copy.BP1_16_2.replace({1.0:'1',0.0:'0'}, inplace=True)\n",
    "df_copy.BP1_16_2.value_counts()"
   ]
  },
  {
   "cell_type": "code",
   "execution_count": 66,
   "metadata": {},
   "outputs": [
    {
     "data": {
      "text/plain": [
       "0.0    5237\n",
       "1.0     237\n",
       "Name: BP1_16_3, dtype: int64"
      ]
     },
     "execution_count": 66,
     "metadata": {},
     "output_type": "execute_result"
    }
   ],
   "source": [
    "df_copy.BP1_16_3.value_counts()"
   ]
  },
  {
   "cell_type": "code",
   "execution_count": 67,
   "metadata": {},
   "outputs": [
    {
     "data": {
      "text/plain": [
       "0    5237\n",
       "1     237\n",
       "Name: BP1_16_3, dtype: int64"
      ]
     },
     "execution_count": 67,
     "metadata": {},
     "output_type": "execute_result"
    }
   ],
   "source": [
    "df_copy.BP1_16_3.replace({1.0:'1',0.0:'0'}, inplace=True)\n",
    "df_copy.BP1_16_3.value_counts()"
   ]
  },
  {
   "cell_type": "code",
   "execution_count": 68,
   "metadata": {},
   "outputs": [
    {
     "data": {
      "text/plain": [
       "0.0    5419\n",
       "1.0      55\n",
       "Name: BP1_16_4, dtype: int64"
      ]
     },
     "execution_count": 68,
     "metadata": {},
     "output_type": "execute_result"
    }
   ],
   "source": [
    "df_copy.BP1_16_4.value_counts()"
   ]
  },
  {
   "cell_type": "code",
   "execution_count": 69,
   "metadata": {},
   "outputs": [
    {
     "data": {
      "text/plain": [
       "0    5419\n",
       "1      55\n",
       "Name: BP1_16_4, dtype: int64"
      ]
     },
     "execution_count": 69,
     "metadata": {},
     "output_type": "execute_result"
    }
   ],
   "source": [
    "df_copy.BP1_16_4.replace({1.0:'1',0.0:'0'}, inplace=True)\n",
    "df_copy.BP1_16_4.value_counts()"
   ]
  },
  {
   "cell_type": "code",
   "execution_count": 70,
   "metadata": {},
   "outputs": [
    {
     "data": {
      "text/plain": [
       "0.0    5448\n",
       "1.0      26\n",
       "Name: BP1_16_9, dtype: int64"
      ]
     },
     "execution_count": 70,
     "metadata": {},
     "output_type": "execute_result"
    }
   ],
   "source": [
    "df_copy.BP1_16_9.value_counts()"
   ]
  },
  {
   "cell_type": "code",
   "execution_count": 71,
   "metadata": {},
   "outputs": [
    {
     "data": {
      "text/plain": [
       "0    5448\n",
       "1      26\n",
       "Name: BP1_16_9, dtype: int64"
      ]
     },
     "execution_count": 71,
     "metadata": {},
     "output_type": "execute_result"
    }
   ],
   "source": [
    "df_copy.BP1_16_9.replace({1.0:'1',0.0:'0'}, inplace=True)\n",
    "df_copy.BP1_16_9.value_counts()"
   ]
  },
  {
   "cell_type": "code",
   "execution_count": 72,
   "metadata": {},
   "outputs": [
    {
     "data": {
      "text/plain": [
       "2.0    4749\n",
       "1.0     722\n",
       "9.0       3\n",
       "Name: BP1_17, dtype: int64"
      ]
     },
     "execution_count": 72,
     "metadata": {},
     "output_type": "execute_result"
    }
   ],
   "source": [
    "df_copy.BP1_17.value_counts()"
   ]
  },
  {
   "cell_type": "code",
   "execution_count": 73,
   "metadata": {},
   "outputs": [
    {
     "data": {
      "text/plain": [
       "2     4749\n",
       "1      722\n",
       "99       3\n",
       "Name: BP1_17, dtype: int64"
      ]
     },
     "execution_count": 73,
     "metadata": {},
     "output_type": "execute_result"
    }
   ],
   "source": [
    "df_copy.BP1_17.replace({1.0:'1',2.0:'2',9.0:'99'}, inplace=True)\n",
    "df_copy.BP1_17.value_counts()"
   ]
  },
  {
   "cell_type": "code",
   "execution_count": 74,
   "metadata": {},
   "outputs": [
    {
     "data": {
      "text/plain": [
       "2.0    11727\n",
       "1.0     2107\n",
       "9.0      635\n",
       "Name: BP1_18, dtype: int64"
      ]
     },
     "execution_count": 74,
     "metadata": {},
     "output_type": "execute_result"
    }
   ],
   "source": [
    "df_copy.BP1_18.value_counts()"
   ]
  },
  {
   "cell_type": "code",
   "execution_count": 75,
   "metadata": {},
   "outputs": [
    {
     "data": {
      "text/plain": [
       "2     11727\n",
       "1      2107\n",
       "99      635\n",
       "Name: BP1_18, dtype: int64"
      ]
     },
     "execution_count": 75,
     "metadata": {},
     "output_type": "execute_result"
    }
   ],
   "source": [
    "df_copy.BP1_18.replace({1.0:'1',2.0:'2',9.0:'99'}, inplace=True)\n",
    "df_copy.BP1_18.value_counts()"
   ]
  },
  {
   "cell_type": "code",
   "execution_count": 76,
   "metadata": {},
   "outputs": [
    {
     "data": {
      "text/plain": [
       "1.0    2022\n",
       "0.0     807\n",
       "Name: BP1_19_1, dtype: int64"
      ]
     },
     "execution_count": 76,
     "metadata": {},
     "output_type": "execute_result"
    }
   ],
   "source": [
    "df_copy.BP1_19_1.value_counts()"
   ]
  },
  {
   "cell_type": "code",
   "execution_count": 77,
   "metadata": {},
   "outputs": [
    {
     "data": {
      "text/plain": [
       "1    2022\n",
       "0     807\n",
       "Name: BP1_19_1, dtype: int64"
      ]
     },
     "execution_count": 77,
     "metadata": {},
     "output_type": "execute_result"
    }
   ],
   "source": [
    "df_copy.BP1_19_1.replace({1.0:'1',0.0:'0'}, inplace=True)\n",
    "df_copy.BP1_19_1.value_counts()"
   ]
  },
  {
   "cell_type": "code",
   "execution_count": 78,
   "metadata": {},
   "outputs": [
    {
     "data": {
      "text/plain": [
       "0.0    2296\n",
       "1.0     533\n",
       "Name: BP1_19_2, dtype: int64"
      ]
     },
     "execution_count": 78,
     "metadata": {},
     "output_type": "execute_result"
    }
   ],
   "source": [
    "df_copy.BP1_19_2.value_counts()"
   ]
  },
  {
   "cell_type": "code",
   "execution_count": 79,
   "metadata": {},
   "outputs": [
    {
     "data": {
      "text/plain": [
       "0    2296\n",
       "1     533\n",
       "Name: BP1_19_2, dtype: int64"
      ]
     },
     "execution_count": 79,
     "metadata": {},
     "output_type": "execute_result"
    }
   ],
   "source": [
    "df_copy.BP1_19_2.replace({1.0:'1',0.0:'0'}, inplace=True)\n",
    "df_copy.BP1_19_2.value_counts()"
   ]
  },
  {
   "cell_type": "code",
   "execution_count": 80,
   "metadata": {},
   "outputs": [
    {
     "data": {
      "text/plain": [
       "0.0    2731\n",
       "1.0      98\n",
       "Name: BP1_19_3, dtype: int64"
      ]
     },
     "execution_count": 80,
     "metadata": {},
     "output_type": "execute_result"
    }
   ],
   "source": [
    "df_copy.BP1_19_3.value_counts()"
   ]
  },
  {
   "cell_type": "code",
   "execution_count": 81,
   "metadata": {},
   "outputs": [
    {
     "data": {
      "text/plain": [
       "0    2731\n",
       "1      98\n",
       "Name: BP1_19_3, dtype: int64"
      ]
     },
     "execution_count": 81,
     "metadata": {},
     "output_type": "execute_result"
    }
   ],
   "source": [
    "df_copy.BP1_19_3.replace({1.0:'1',0.0:'0'}, inplace=True)\n",
    "df_copy.BP1_19_3.value_counts()"
   ]
  },
  {
   "cell_type": "code",
   "execution_count": 82,
   "metadata": {},
   "outputs": [
    {
     "data": {
      "text/plain": [
       "0.0    2658\n",
       "1.0     171\n",
       "Name: BP1_19_4, dtype: int64"
      ]
     },
     "execution_count": 82,
     "metadata": {},
     "output_type": "execute_result"
    }
   ],
   "source": [
    "df_copy.BP1_19_4.value_counts()"
   ]
  },
  {
   "cell_type": "code",
   "execution_count": 83,
   "metadata": {},
   "outputs": [
    {
     "data": {
      "text/plain": [
       "0    2658\n",
       "1     171\n",
       "Name: BP1_19_4, dtype: int64"
      ]
     },
     "execution_count": 83,
     "metadata": {},
     "output_type": "execute_result"
    }
   ],
   "source": [
    "df_copy.BP1_19_4.replace({1.0:'1',0.0:'0'}, inplace=True)\n",
    "df_copy.BP1_19_4.value_counts()"
   ]
  },
  {
   "cell_type": "code",
   "execution_count": 84,
   "metadata": {},
   "outputs": [
    {
     "data": {
      "text/plain": [
       "0.0    2821\n",
       "1.0       8\n",
       "Name: BP1_19_5, dtype: int64"
      ]
     },
     "execution_count": 84,
     "metadata": {},
     "output_type": "execute_result"
    }
   ],
   "source": [
    "df_copy.BP1_19_5.value_counts()"
   ]
  },
  {
   "cell_type": "code",
   "execution_count": 85,
   "metadata": {},
   "outputs": [
    {
     "data": {
      "text/plain": [
       "0    2821\n",
       "1       8\n",
       "Name: BP1_19_5, dtype: int64"
      ]
     },
     "execution_count": 85,
     "metadata": {},
     "output_type": "execute_result"
    }
   ],
   "source": [
    "df_copy.BP1_19_5.replace({1.0:'1',0.0:'0'}, inplace=True)\n",
    "df_copy.BP1_19_5.value_counts()"
   ]
  },
  {
   "cell_type": "code",
   "execution_count": 86,
   "metadata": {},
   "outputs": [
    {
     "data": {
      "text/plain": [
       "0.0    2735\n",
       "1.0      94\n",
       "Name: BP1_19_6, dtype: int64"
      ]
     },
     "execution_count": 86,
     "metadata": {},
     "output_type": "execute_result"
    }
   ],
   "source": [
    "df_copy.BP1_19_6.value_counts()"
   ]
  },
  {
   "cell_type": "code",
   "execution_count": 87,
   "metadata": {},
   "outputs": [
    {
     "data": {
      "text/plain": [
       "0    2735\n",
       "1      94\n",
       "Name: BP1_19_6, dtype: int64"
      ]
     },
     "execution_count": 87,
     "metadata": {},
     "output_type": "execute_result"
    }
   ],
   "source": [
    "df_copy.BP1_19_6.replace({1.0:'1',0.0:'0'}, inplace=True)\n",
    "df_copy.BP1_19_6.value_counts()"
   ]
  },
  {
   "cell_type": "code",
   "execution_count": 88,
   "metadata": {},
   "outputs": [
    {
     "data": {
      "text/plain": [
       "0.0    2351\n",
       "1.0     478\n",
       "Name: BP1_19_7, dtype: int64"
      ]
     },
     "execution_count": 88,
     "metadata": {},
     "output_type": "execute_result"
    }
   ],
   "source": [
    "df_copy.BP1_19_7.value_counts()"
   ]
  },
  {
   "cell_type": "code",
   "execution_count": 89,
   "metadata": {},
   "outputs": [
    {
     "data": {
      "text/plain": [
       "0    2351\n",
       "1     478\n",
       "Name: BP1_19_7, dtype: int64"
      ]
     },
     "execution_count": 89,
     "metadata": {},
     "output_type": "execute_result"
    }
   ],
   "source": [
    "df_copy.BP1_19_7.replace({1.0:'1',0.0:'0'}, inplace=True)\n",
    "df_copy.BP1_19_7.value_counts()"
   ]
  },
  {
   "cell_type": "code",
   "execution_count": 90,
   "metadata": {},
   "outputs": [
    {
     "data": {
      "text/plain": [
       "2    41248\n",
       "1     5869\n",
       "Name: BP1_20, dtype: int64"
      ]
     },
     "execution_count": 90,
     "metadata": {},
     "output_type": "execute_result"
    }
   ],
   "source": [
    "df_copy.BP1_20.value_counts()"
   ]
  },
  {
   "cell_type": "code",
   "execution_count": 91,
   "metadata": {},
   "outputs": [
    {
     "data": {
      "text/plain": [
       "2.0    22117\n",
       "9.0      636\n",
       "1.0      162\n",
       "Name: BP1_21, dtype: int64"
      ]
     },
     "execution_count": 91,
     "metadata": {},
     "output_type": "execute_result"
    }
   ],
   "source": [
    "df_copy.BP1_21.value_counts()"
   ]
  },
  {
   "cell_type": "code",
   "execution_count": 92,
   "metadata": {},
   "outputs": [
    {
     "data": {
      "text/plain": [
       "2     22117\n",
       "99      636\n",
       "1       162\n",
       "Name: BP1_21, dtype: int64"
      ]
     },
     "execution_count": 92,
     "metadata": {},
     "output_type": "execute_result"
    }
   ],
   "source": [
    "df_copy.BP1_21.replace({1.0:'1',2.0:'2',9.0:'99'}, inplace=True)\n",
    "df_copy.BP1_21.value_counts()"
   ]
  },
  {
   "cell_type": "code",
   "execution_count": 93,
   "metadata": {},
   "outputs": [
    {
     "data": {
      "text/plain": [
       "2.0    122\n",
       "1.0     40\n",
       "Name: BP1_22, dtype: int64"
      ]
     },
     "execution_count": 93,
     "metadata": {},
     "output_type": "execute_result"
    }
   ],
   "source": [
    "df_copy.BP1_22.value_counts()"
   ]
  },
  {
   "cell_type": "code",
   "execution_count": 94,
   "metadata": {},
   "outputs": [
    {
     "data": {
      "text/plain": [
       "2    122\n",
       "1     40\n",
       "Name: BP1_22, dtype: int64"
      ]
     },
     "execution_count": 94,
     "metadata": {},
     "output_type": "execute_result"
    }
   ],
   "source": [
    "df_copy.BP1_22.replace({1.0:'1',2.0:'2',9.0:'99'}, inplace=True)\n",
    "df_copy.BP1_22.value_counts()"
   ]
  },
  {
   "cell_type": "code",
   "execution_count": 95,
   "metadata": {},
   "outputs": [
    {
     "data": {
      "text/plain": [
       "4.0     13861\n",
       "6.0      6052\n",
       "3.0      5226\n",
       "7.0      4735\n",
       "5.0      3618\n",
       "9.0      2955\n",
       "1.0      2655\n",
       "8.0      1558\n",
       "2.0       229\n",
       "99.0      197\n",
       "Name: BP1_23, dtype: int64"
      ]
     },
     "execution_count": 95,
     "metadata": {},
     "output_type": "execute_result"
    }
   ],
   "source": [
    "df_copy.BP1_23.value_counts()"
   ]
  },
  {
   "cell_type": "code",
   "execution_count": 96,
   "metadata": {},
   "outputs": [
    {
     "data": {
      "text/plain": [
       "4     13861\n",
       "6      6052\n",
       "3      5226\n",
       "7      4735\n",
       "5      3618\n",
       "9      2955\n",
       "1      2655\n",
       "8      1558\n",
       "2       229\n",
       "99      197\n",
       "Name: BP1_23, dtype: int64"
      ]
     },
     "execution_count": 96,
     "metadata": {},
     "output_type": "execute_result"
    }
   ],
   "source": [
    "df_copy.BP1_23.replace({1.0:'1',2.0:'2',3.0:'3',4.0:'4',5.0:'5',6.0:'6',7.0:'7',8.0:'8',9.0:'9',99.0:'99'}, inplace=True)\n",
    "df_copy.BP1_23.value_counts()"
   ]
  },
  {
   "cell_type": "code",
   "execution_count": 97,
   "metadata": {},
   "outputs": [
    {
     "data": {
      "text/plain": [
       "1.0    4138\n",
       "2.0    1537\n",
       "9.0     234\n",
       "Name: BP1_24, dtype: int64"
      ]
     },
     "execution_count": 97,
     "metadata": {},
     "output_type": "execute_result"
    }
   ],
   "source": [
    "df_copy.BP1_24.value_counts()"
   ]
  },
  {
   "cell_type": "code",
   "execution_count": 98,
   "metadata": {},
   "outputs": [
    {
     "data": {
      "text/plain": [
       "1     4138\n",
       "2     1537\n",
       "99     234\n",
       "Name: BP1_24, dtype: int64"
      ]
     },
     "execution_count": 98,
     "metadata": {},
     "output_type": "execute_result"
    }
   ],
   "source": [
    "df_copy.BP1_24.replace({1.0:'1',2.0:'2',9.0:'99'}, inplace=True)\n",
    "df_copy.BP1_24.value_counts()"
   ]
  },
  {
   "cell_type": "code",
   "execution_count": 99,
   "metadata": {},
   "outputs": [
    {
     "data": {
      "text/plain": [
       "5.0    2126\n",
       "2.0     935\n",
       "3.0     518\n",
       "4.0     260\n",
       "1.0     113\n",
       "9.0     103\n",
       "6.0      83\n",
       "Name: BP1_25, dtype: int64"
      ]
     },
     "execution_count": 99,
     "metadata": {},
     "output_type": "execute_result"
    }
   ],
   "source": [
    "df_copy.BP1_25.value_counts()"
   ]
  },
  {
   "cell_type": "code",
   "execution_count": 100,
   "metadata": {},
   "outputs": [
    {
     "data": {
      "text/plain": [
       "5     2126\n",
       "2      935\n",
       "3      518\n",
       "4      260\n",
       "1      113\n",
       "99     103\n",
       "6       83\n",
       "Name: BP1_25, dtype: int64"
      ]
     },
     "execution_count": 100,
     "metadata": {},
     "output_type": "execute_result"
    }
   ],
   "source": [
    "df_copy.BP1_25.replace({1.0:'1',2.0:'2',3.0:'3',4.0:'4',5.0:'5',6.0:'6',7.0:'7',8.0:'8',9.0:'99',99.0:'99'}, inplace=True)\n",
    "df_copy.BP1_25.value_counts()"
   ]
  },
  {
   "cell_type": "code",
   "execution_count": 101,
   "metadata": {},
   "outputs": [
    {
     "data": {
      "text/plain": [
       "4.0    560\n",
       "2.0    444\n",
       "9.0    245\n",
       "1.0    179\n",
       "6.0    149\n",
       "3.0    137\n",
       "5.0     57\n",
       "Name: BP1_26, dtype: int64"
      ]
     },
     "execution_count": 101,
     "metadata": {},
     "output_type": "execute_result"
    }
   ],
   "source": [
    "df_copy.BP1_26.value_counts()"
   ]
  },
  {
   "cell_type": "code",
   "execution_count": 102,
   "metadata": {},
   "outputs": [
    {
     "data": {
      "text/plain": [
       "4     560\n",
       "2     444\n",
       "99    245\n",
       "1     179\n",
       "6     149\n",
       "3     137\n",
       "5      57\n",
       "Name: BP1_26, dtype: int64"
      ]
     },
     "execution_count": 102,
     "metadata": {},
     "output_type": "execute_result"
    }
   ],
   "source": [
    "df_copy.BP1_26.replace({1.0:'1',2.0:'2',3.0:'3',4.0:'4',5.0:'5',6.0:'6',7.0:'7',8.0:'8',9.0:'99',99.0:'99'}, inplace=True)\n",
    "df_copy.BP1_26.value_counts()"
   ]
  },
  {
   "cell_type": "code",
   "execution_count": 103,
   "metadata": {},
   "outputs": [
    {
     "data": {
      "text/plain": [
       "2.0    1909\n",
       "4.0    1589\n",
       "3.0    1225\n",
       "1.0    1186\n",
       "Name: BP1_27, dtype: int64"
      ]
     },
     "execution_count": 103,
     "metadata": {},
     "output_type": "execute_result"
    }
   ],
   "source": [
    "df_copy.BP1_27.value_counts()"
   ]
  },
  {
   "cell_type": "code",
   "execution_count": 104,
   "metadata": {},
   "outputs": [
    {
     "data": {
      "text/plain": [
       "2    1909\n",
       "4    1589\n",
       "3    1225\n",
       "1    1186\n",
       "Name: BP1_27, dtype: int64"
      ]
     },
     "execution_count": 104,
     "metadata": {},
     "output_type": "execute_result"
    }
   ],
   "source": [
    "df_copy.BP1_27.replace({1.0:'1',2.0:'2',3.0:'3',4.0:'4',5.0:'5',6.0:'6',7.0:'7',8.0:'8',9.0:'99',99.0:'99'}, inplace=True)\n",
    "df_copy.BP1_27.value_counts()"
   ]
  },
  {
   "cell_type": "code",
   "execution_count": 105,
   "metadata": {},
   "outputs": [
    {
     "data": {
      "text/plain": [
       "3.0    2100\n",
       "2.0    2099\n",
       "4.0     581\n",
       "5.0     547\n",
       "1.0     297\n",
       "6.0     247\n",
       "9.0      38\n",
       "Name: BP1_28, dtype: int64"
      ]
     },
     "execution_count": 105,
     "metadata": {},
     "output_type": "execute_result"
    }
   ],
   "source": [
    "df_copy.BP1_28.value_counts()"
   ]
  },
  {
   "cell_type": "code",
   "execution_count": 106,
   "metadata": {},
   "outputs": [
    {
     "data": {
      "text/plain": [
       "3     2100\n",
       "2     2099\n",
       "4      581\n",
       "5      547\n",
       "1      297\n",
       "6      247\n",
       "99      38\n",
       "Name: BP1_28, dtype: int64"
      ]
     },
     "execution_count": 106,
     "metadata": {},
     "output_type": "execute_result"
    }
   ],
   "source": [
    "df_copy.BP1_28.replace({1.0:'1',2.0:'2',3.0:'3',4.0:'4',5.0:'5',6.0:'6',7.0:'7',8.0:'8',9.0:'99',99.0:'99'}, inplace=True)\n",
    "df_copy.BP1_28.value_counts()"
   ]
  },
  {
   "cell_type": "code",
   "execution_count": 107,
   "metadata": {},
   "outputs": [
    {
     "data": {
      "text/plain": [
       "2.0    2931\n",
       "3.0    1640\n",
       "4.0     997\n",
       "1.0     341\n",
       "Name: BP1_29, dtype: int64"
      ]
     },
     "execution_count": 107,
     "metadata": {},
     "output_type": "execute_result"
    }
   ],
   "source": [
    "df_copy.BP1_29.value_counts()"
   ]
  },
  {
   "cell_type": "code",
   "execution_count": 108,
   "metadata": {},
   "outputs": [
    {
     "data": {
      "text/plain": [
       "2    2931\n",
       "3    1640\n",
       "4     997\n",
       "1     341\n",
       "Name: BP1_29, dtype: int64"
      ]
     },
     "execution_count": 108,
     "metadata": {},
     "output_type": "execute_result"
    }
   ],
   "source": [
    "df_copy.BP1_29.replace({1.0:'1',2.0:'2',3.0:'3',4.0:'4',5.0:'5',6.0:'6',7.0:'7',8.0:'8',9.0:'99',99.0:'99'}, inplace=True)\n",
    "df_copy.BP1_29.value_counts()"
   ]
  },
  {
   "cell_type": "code",
   "execution_count": 109,
   "metadata": {},
   "outputs": [
    {
     "data": {
      "text/plain": [
       "2    43350\n",
       "1     3767\n",
       "Name: BP1_30, dtype: int64"
      ]
     },
     "execution_count": 109,
     "metadata": {},
     "output_type": "execute_result"
    }
   ],
   "source": [
    "df_copy.BP1_30.value_counts()"
   ]
  },
  {
   "cell_type": "code",
   "execution_count": 110,
   "metadata": {},
   "outputs": [
    {
     "data": {
      "text/plain": [
       "0.0    3589\n",
       "1.0     178\n",
       "Name: BP1_31_1, dtype: int64"
      ]
     },
     "execution_count": 110,
     "metadata": {},
     "output_type": "execute_result"
    }
   ],
   "source": [
    "df_copy.BP1_31_1.value_counts()"
   ]
  },
  {
   "cell_type": "code",
   "execution_count": 111,
   "metadata": {},
   "outputs": [
    {
     "data": {
      "text/plain": [
       "0    3589\n",
       "1     178\n",
       "Name: BP1_31_1, dtype: int64"
      ]
     },
     "execution_count": 111,
     "metadata": {},
     "output_type": "execute_result"
    }
   ],
   "source": [
    "df_copy.BP1_31_1.replace({1.0:'1',0.0:'0'}, inplace=True)\n",
    "df_copy.BP1_31_1.value_counts()"
   ]
  },
  {
   "cell_type": "code",
   "execution_count": 112,
   "metadata": {},
   "outputs": [
    {
     "data": {
      "text/plain": [
       "1.0    2029\n",
       "0.0    1738\n",
       "Name: BP1_31_2, dtype: int64"
      ]
     },
     "execution_count": 112,
     "metadata": {},
     "output_type": "execute_result"
    }
   ],
   "source": [
    "df_copy.BP1_31_2.value_counts()"
   ]
  },
  {
   "cell_type": "code",
   "execution_count": 113,
   "metadata": {},
   "outputs": [
    {
     "data": {
      "text/plain": [
       "1    2029\n",
       "0    1738\n",
       "Name: BP1_31_2, dtype: int64"
      ]
     },
     "execution_count": 113,
     "metadata": {},
     "output_type": "execute_result"
    }
   ],
   "source": [
    "df_copy.BP1_31_2.replace({1.0:'1',0.0:'0'}, inplace=True)\n",
    "df_copy.BP1_31_2.value_counts()"
   ]
  },
  {
   "cell_type": "code",
   "execution_count": 114,
   "metadata": {},
   "outputs": [
    {
     "data": {
      "text/plain": [
       "0.0    3653\n",
       "1.0     114\n",
       "Name: BP1_31_3, dtype: int64"
      ]
     },
     "execution_count": 114,
     "metadata": {},
     "output_type": "execute_result"
    }
   ],
   "source": [
    "df_copy.BP1_31_3.value_counts()"
   ]
  },
  {
   "cell_type": "code",
   "execution_count": 115,
   "metadata": {},
   "outputs": [
    {
     "data": {
      "text/plain": [
       "0    3653\n",
       "1     114\n",
       "Name: BP1_31_3, dtype: int64"
      ]
     },
     "execution_count": 115,
     "metadata": {},
     "output_type": "execute_result"
    }
   ],
   "source": [
    "df_copy.BP1_31_3.replace({1.0:'1',0.0:'0'}, inplace=True)\n",
    "df_copy.BP1_31_3.value_counts()"
   ]
  },
  {
   "cell_type": "code",
   "execution_count": 116,
   "metadata": {},
   "outputs": [
    {
     "data": {
      "text/plain": [
       "0.0    3402\n",
       "1.0     365\n",
       "Name: BP1_31_4, dtype: int64"
      ]
     },
     "execution_count": 116,
     "metadata": {},
     "output_type": "execute_result"
    }
   ],
   "source": [
    "df_copy.BP1_31_4.value_counts()"
   ]
  },
  {
   "cell_type": "code",
   "execution_count": 117,
   "metadata": {},
   "outputs": [
    {
     "data": {
      "text/plain": [
       "0    3402\n",
       "1     365\n",
       "Name: BP1_31_4, dtype: int64"
      ]
     },
     "execution_count": 117,
     "metadata": {},
     "output_type": "execute_result"
    }
   ],
   "source": [
    "df_copy.BP1_31_4.replace({1.0:'1',0.0:'0'}, inplace=True)\n",
    "df_copy.BP1_31_4.value_counts()"
   ]
  },
  {
   "cell_type": "code",
   "execution_count": 118,
   "metadata": {},
   "outputs": [
    {
     "data": {
      "text/plain": [
       "0.0    3543\n",
       "1.0     224\n",
       "Name: BP1_31_5, dtype: int64"
      ]
     },
     "execution_count": 118,
     "metadata": {},
     "output_type": "execute_result"
    }
   ],
   "source": [
    "df_copy.BP1_31_5.value_counts()"
   ]
  },
  {
   "cell_type": "code",
   "execution_count": 119,
   "metadata": {},
   "outputs": [
    {
     "data": {
      "text/plain": [
       "0    3543\n",
       "1     224\n",
       "Name: BP1_31_5, dtype: int64"
      ]
     },
     "execution_count": 119,
     "metadata": {},
     "output_type": "execute_result"
    }
   ],
   "source": [
    "df_copy.BP1_31_5.replace({1.0:'1',0.0:'0'}, inplace=True)\n",
    "df_copy.BP1_31_5.value_counts()"
   ]
  },
  {
   "cell_type": "code",
   "execution_count": 120,
   "metadata": {},
   "outputs": [
    {
     "data": {
      "text/plain": [
       "0.0    3612\n",
       "1.0     155\n",
       "Name: BP1_31_6, dtype: int64"
      ]
     },
     "execution_count": 120,
     "metadata": {},
     "output_type": "execute_result"
    }
   ],
   "source": [
    "df_copy.BP1_31_6.value_counts()"
   ]
  },
  {
   "cell_type": "code",
   "execution_count": 121,
   "metadata": {},
   "outputs": [
    {
     "data": {
      "text/plain": [
       "0    3612\n",
       "1     155\n",
       "Name: BP1_31_6, dtype: int64"
      ]
     },
     "execution_count": 121,
     "metadata": {},
     "output_type": "execute_result"
    }
   ],
   "source": [
    "df_copy.BP1_31_6.replace({1.0:'1',0.0:'0'}, inplace=True)\n",
    "df_copy.BP1_31_6.value_counts()"
   ]
  },
  {
   "cell_type": "code",
   "execution_count": 122,
   "metadata": {},
   "outputs": [
    {
     "data": {
      "text/plain": [
       "0.0    3632\n",
       "1.0     135\n",
       "Name: BP1_31_7, dtype: int64"
      ]
     },
     "execution_count": 122,
     "metadata": {},
     "output_type": "execute_result"
    }
   ],
   "source": [
    "df_copy.BP1_31_7.value_counts()"
   ]
  },
  {
   "cell_type": "code",
   "execution_count": 123,
   "metadata": {},
   "outputs": [
    {
     "data": {
      "text/plain": [
       "0    3632\n",
       "1     135\n",
       "Name: BP1_31_7, dtype: int64"
      ]
     },
     "execution_count": 123,
     "metadata": {},
     "output_type": "execute_result"
    }
   ],
   "source": [
    "df_copy.BP1_31_7.replace({1.0:'1',0.0:'0'}, inplace=True)\n",
    "df_copy.BP1_31_7.value_counts()"
   ]
  },
  {
   "cell_type": "code",
   "execution_count": 124,
   "metadata": {},
   "outputs": [
    {
     "data": {
      "text/plain": [
       "0.0    3310\n",
       "1.0     457\n",
       "Name: BP1_31_8, dtype: int64"
      ]
     },
     "execution_count": 124,
     "metadata": {},
     "output_type": "execute_result"
    }
   ],
   "source": [
    "df_copy.BP1_31_8.value_counts()"
   ]
  },
  {
   "cell_type": "code",
   "execution_count": 125,
   "metadata": {},
   "outputs": [
    {
     "data": {
      "text/plain": [
       "0    3310\n",
       "1     457\n",
       "Name: BP1_31_8, dtype: int64"
      ]
     },
     "execution_count": 125,
     "metadata": {},
     "output_type": "execute_result"
    }
   ],
   "source": [
    "df_copy.BP1_31_8.replace({1.0:'1',0.0:'0'}, inplace=True)\n",
    "df_copy.BP1_31_8.value_counts()"
   ]
  },
  {
   "cell_type": "code",
   "execution_count": 126,
   "metadata": {},
   "outputs": [
    {
     "data": {
      "text/plain": [
       "0.0    3481\n",
       "1.0     286\n",
       "Name: BP1_31_9, dtype: int64"
      ]
     },
     "execution_count": 126,
     "metadata": {},
     "output_type": "execute_result"
    }
   ],
   "source": [
    "df_copy.BP1_31_9.value_counts()"
   ]
  },
  {
   "cell_type": "code",
   "execution_count": 127,
   "metadata": {},
   "outputs": [
    {
     "data": {
      "text/plain": [
       "0    3481\n",
       "1     286\n",
       "Name: BP1_31_9, dtype: int64"
      ]
     },
     "execution_count": 127,
     "metadata": {},
     "output_type": "execute_result"
    }
   ],
   "source": [
    "df_copy.BP1_31_9.replace({1.0:'1',0.0:'0'}, inplace=True)\n",
    "df_copy.BP1_31_9.value_counts()"
   ]
  },
  {
   "cell_type": "code",
   "execution_count": 128,
   "metadata": {},
   "outputs": [
    {
     "data": {
      "text/plain": [
       "0.0    6149\n",
       "1.0    2694\n",
       "Name: BP1_32_1, dtype: int64"
      ]
     },
     "execution_count": 128,
     "metadata": {},
     "output_type": "execute_result"
    }
   ],
   "source": [
    "df_copy.BP1_32_1.value_counts()"
   ]
  },
  {
   "cell_type": "code",
   "execution_count": 129,
   "metadata": {},
   "outputs": [
    {
     "data": {
      "text/plain": [
       "0    6149\n",
       "1    2694\n",
       "Name: BP1_32_1, dtype: int64"
      ]
     },
     "execution_count": 129,
     "metadata": {},
     "output_type": "execute_result"
    }
   ],
   "source": [
    "df_copy.BP1_32_1.replace({1.0:'1',0.0:'0'}, inplace=True)\n",
    "df_copy.BP1_32_1.value_counts()"
   ]
  },
  {
   "cell_type": "code",
   "execution_count": 130,
   "metadata": {},
   "outputs": [
    {
     "data": {
      "text/plain": [
       "0.0    8759\n",
       "1.0      84\n",
       "Name: BP1_32_2, dtype: int64"
      ]
     },
     "execution_count": 130,
     "metadata": {},
     "output_type": "execute_result"
    }
   ],
   "source": [
    "df_copy.BP1_32_2.value_counts()"
   ]
  },
  {
   "cell_type": "code",
   "execution_count": 131,
   "metadata": {},
   "outputs": [
    {
     "data": {
      "text/plain": [
       "0    8759\n",
       "1      84\n",
       "Name: BP1_32_2, dtype: int64"
      ]
     },
     "execution_count": 131,
     "metadata": {},
     "output_type": "execute_result"
    }
   ],
   "source": [
    "df_copy.BP1_32_2.replace({1.0:'1',0.0:'0'}, inplace=True)\n",
    "df_copy.BP1_32_2.value_counts()"
   ]
  },
  {
   "cell_type": "code",
   "execution_count": 132,
   "metadata": {},
   "outputs": [
    {
     "data": {
      "text/plain": [
       "0.0    8792\n",
       "1.0      51\n",
       "Name: BP1_32_3, dtype: int64"
      ]
     },
     "execution_count": 132,
     "metadata": {},
     "output_type": "execute_result"
    }
   ],
   "source": [
    "df_copy.BP1_32_3.value_counts()"
   ]
  },
  {
   "cell_type": "code",
   "execution_count": 133,
   "metadata": {},
   "outputs": [
    {
     "data": {
      "text/plain": [
       "0    8792\n",
       "1      51\n",
       "Name: BP1_32_3, dtype: int64"
      ]
     },
     "execution_count": 133,
     "metadata": {},
     "output_type": "execute_result"
    }
   ],
   "source": [
    "df_copy.BP1_32_3.replace({1.0:'1',0.0:'0'}, inplace=True)\n",
    "df_copy.BP1_32_3.value_counts()"
   ]
  },
  {
   "cell_type": "code",
   "execution_count": 134,
   "metadata": {},
   "outputs": [
    {
     "data": {
      "text/plain": [
       "0.0    8805\n",
       "1.0      38\n",
       "Name: BP1_32_4, dtype: int64"
      ]
     },
     "execution_count": 134,
     "metadata": {},
     "output_type": "execute_result"
    }
   ],
   "source": [
    "df_copy.BP1_32_4.value_counts()"
   ]
  },
  {
   "cell_type": "code",
   "execution_count": 135,
   "metadata": {},
   "outputs": [
    {
     "data": {
      "text/plain": [
       "0    8805\n",
       "1      38\n",
       "Name: BP1_32_4, dtype: int64"
      ]
     },
     "execution_count": 135,
     "metadata": {},
     "output_type": "execute_result"
    }
   ],
   "source": [
    "df_copy.BP1_32_4.replace({1.0:'1',0.0:'0'}, inplace=True)\n",
    "df_copy.BP1_32_4.value_counts()"
   ]
  },
  {
   "cell_type": "code",
   "execution_count": 136,
   "metadata": {},
   "outputs": [
    {
     "data": {
      "text/plain": [
       "1.0    5958\n",
       "0.0    2885\n",
       "Name: BP1_32_5, dtype: int64"
      ]
     },
     "execution_count": 136,
     "metadata": {},
     "output_type": "execute_result"
    }
   ],
   "source": [
    "df_copy.BP1_32_5.value_counts()"
   ]
  },
  {
   "cell_type": "code",
   "execution_count": 137,
   "metadata": {},
   "outputs": [
    {
     "data": {
      "text/plain": [
       "1    5958\n",
       "0    2885\n",
       "Name: BP1_32_5, dtype: int64"
      ]
     },
     "execution_count": 137,
     "metadata": {},
     "output_type": "execute_result"
    }
   ],
   "source": [
    "df_copy.BP1_32_5.replace({1.0:'1',0.0:'0'}, inplace=True)\n",
    "df_copy.BP1_32_5.value_counts()"
   ]
  },
  {
   "cell_type": "code",
   "execution_count": 138,
   "metadata": {},
   "outputs": [
    {
     "data": {
      "text/plain": [
       "0.0    8750\n",
       "1.0      93\n",
       "Name: BP1_32_9, dtype: int64"
      ]
     },
     "execution_count": 138,
     "metadata": {},
     "output_type": "execute_result"
    }
   ],
   "source": [
    "df_copy.BP1_32_9.value_counts()"
   ]
  },
  {
   "cell_type": "code",
   "execution_count": 139,
   "metadata": {},
   "outputs": [
    {
     "data": {
      "text/plain": [
       "0    8750\n",
       "1      93\n",
       "Name: BP1_32_9, dtype: int64"
      ]
     },
     "execution_count": 139,
     "metadata": {},
     "output_type": "execute_result"
    }
   ],
   "source": [
    "df_copy.BP1_32_9.replace({1.0:'1',0.0:'0'}, inplace=True)\n",
    "df_copy.BP1_32_9.value_counts()"
   ]
  },
  {
   "cell_type": "code",
   "execution_count": 140,
   "metadata": {},
   "outputs": [
    {
     "data": {
      "text/plain": [
       "1    29561\n",
       "3     8202\n",
       "5     7734\n",
       "2     1320\n",
       "4      191\n",
       "9      109\n",
       "Name: BP1_33, dtype: int64"
      ]
     },
     "execution_count": 140,
     "metadata": {},
     "output_type": "execute_result"
    }
   ],
   "source": [
    "df_copy.BP1_33.value_counts()"
   ]
  },
  {
   "cell_type": "code",
   "execution_count": 141,
   "metadata": {},
   "outputs": [
    {
     "data": {
      "text/plain": [
       "1     29561\n",
       "3      8202\n",
       "5      7734\n",
       "2      1320\n",
       "4       191\n",
       "99      109\n",
       "Name: BP1_33, dtype: int64"
      ]
     },
     "execution_count": 141,
     "metadata": {},
     "output_type": "execute_result"
    }
   ],
   "source": [
    "df_copy.BP1_33.replace({9:'99'}, inplace=True)\n",
    "df_copy.BP1_33.value_counts()"
   ]
  },
  {
   "cell_type": "code",
   "execution_count": 142,
   "metadata": {},
   "outputs": [
    {
     "data": {
      "text/plain": [
       "0.0          8239\n",
       "1000.0       2560\n",
       "2000.0       2270\n",
       "500.0        2001\n",
       "3000.0       1965\n",
       "1500.0       1562\n",
       "5000.0       1529\n",
       "300.0        1368\n",
       "200.0        1351\n",
       "4000.0        922\n",
       "800.0         817\n",
       "10000.0       796\n",
       "600.0         785\n",
       "100.0         763\n",
       "400.0         669\n",
       "1200.0        668\n",
       "2500.0        615\n",
       "6000.0        554\n",
       "20000.0       516\n",
       "15000.0       511\n",
       "700.0         487\n",
       "8000.0        465\n",
       "9999999.0     456\n",
       "7000.0        456\n",
       "3500.0        356\n",
       "30000.0       340\n",
       "150.0         293\n",
       "50000.0       240\n",
       "50.0          238\n",
       "1800.0        233\n",
       "             ... \n",
       "7300.0          1\n",
       "28.0            1\n",
       "375.0           1\n",
       "241.0           1\n",
       "208.0           1\n",
       "10700.0         1\n",
       "9850.0          1\n",
       "860.0           1\n",
       "282000.0        1\n",
       "33500.0         1\n",
       "190000.0        1\n",
       "1995.0          1\n",
       "600000.0        1\n",
       "530.0           1\n",
       "7970.0          1\n",
       "6400.0          1\n",
       "136.0           1\n",
       "1860.0          1\n",
       "10200.0         1\n",
       "132000.0        1\n",
       "9400.0          1\n",
       "820000.0        1\n",
       "3.0             1\n",
       "6200.0          1\n",
       "863.0           1\n",
       "13800.0         1\n",
       "76000.0         1\n",
       "47000.0         1\n",
       "185.0           1\n",
       "68000.0         1\n",
       "Name: BP1_34, Length: 392, dtype: int64"
      ]
     },
     "execution_count": 142,
     "metadata": {},
     "output_type": "execute_result"
    }
   ],
   "source": [
    "df_copy.BP1_34.value_counts()\n",
    "#Pendiente"
   ]
  },
  {
   "cell_type": "code",
   "execution_count": 224,
   "metadata": {},
   "outputs": [
    {
     "data": {
      "text/plain": [
       "0          8239\n",
       "nan        7843\n",
       "1000       2560\n",
       "2000       2270\n",
       "500        2001\n",
       "3000       1965\n",
       "1500       1562\n",
       "5000       1529\n",
       "300        1368\n",
       "200        1351\n",
       "4000        922\n",
       "800         817\n",
       "10000       796\n",
       "600         785\n",
       "100         763\n",
       "400         669\n",
       "1200        668\n",
       "2500        615\n",
       "6000        554\n",
       "20000       516\n",
       "15000       511\n",
       "700         487\n",
       "8000        465\n",
       "7000        456\n",
       "9999999     456\n",
       "3500        356\n",
       "30000       340\n",
       "150         293\n",
       "50000       240\n",
       "50          238\n",
       "           ... \n",
       "386           1\n",
       "375           1\n",
       "9850          1\n",
       "21600         1\n",
       "366           1\n",
       "2220          1\n",
       "357           1\n",
       "156000        1\n",
       "1375          1\n",
       "340           1\n",
       "1995          1\n",
       "490           1\n",
       "600000        1\n",
       "530           1\n",
       "5400          1\n",
       "800000        1\n",
       "22200         1\n",
       "640           1\n",
       "630           1\n",
       "96000         1\n",
       "1720          1\n",
       "580           1\n",
       "1746          1\n",
       "570           1\n",
       "553           1\n",
       "5900          1\n",
       "547           1\n",
       "1860          1\n",
       "535           1\n",
       "104000        1\n",
       "Name: BP1_34, Length: 393, dtype: int64"
      ]
     },
     "execution_count": 224,
     "metadata": {},
     "output_type": "execute_result"
    }
   ],
   "source": [
    "l=[]\n",
    "for i in df_copy.BP1_34:\n",
    "    k = str(i)\n",
    "    if(k != \"nan\"):\n",
    "        k = int(eval(k))\n",
    "        l.append(k)\n",
    "    else:\n",
    "        l.append(k)\n",
    "df_copy.BP1_34 = l\n",
    "df_copy.BP1_34.value_counts()"
   ]
  },
  {
   "cell_type": "code",
   "execution_count": 143,
   "metadata": {},
   "outputs": [
    {
     "data": {
      "text/plain": [
       "0.0          37067\n",
       "1000.0         241\n",
       "500.0          196\n",
       "2000.0         190\n",
       "9.0            153\n",
       "3000.0         146\n",
       "300.0          114\n",
       "9999999.0      112\n",
       "200.0           95\n",
       "5000.0          86\n",
       "1500.0          79\n",
       "100.0           61\n",
       "400.0           53\n",
       "600.0           52\n",
       "800.0           45\n",
       "700.0           43\n",
       "10000.0         43\n",
       "1200.0          34\n",
       "4000.0          33\n",
       "2500.0          26\n",
       "20000.0         25\n",
       "50.0            22\n",
       "150.0           21\n",
       "15000.0         20\n",
       "8000.0          17\n",
       "7000.0          16\n",
       "250.0           16\n",
       "6000.0          15\n",
       "30000.0         15\n",
       "12000.0         12\n",
       "             ...  \n",
       "5500.0           1\n",
       "385.0            1\n",
       "2700.0           1\n",
       "512.0            1\n",
       "8.0              1\n",
       "780.0            1\n",
       "65000.0          1\n",
       "900000.0         1\n",
       "3.0              1\n",
       "220.0            1\n",
       "70.0             1\n",
       "1440.0           1\n",
       "160000.0         1\n",
       "160.0            1\n",
       "470.0            1\n",
       "105.0            1\n",
       "700000.0         1\n",
       "330.0            1\n",
       "2450.0           1\n",
       "850.0            1\n",
       "300000.0         1\n",
       "14600.0          1\n",
       "7200.0           1\n",
       "2300.0           1\n",
       "480.0            1\n",
       "527.0            1\n",
       "7500.0           1\n",
       "180000.0         1\n",
       "26000.0          1\n",
       "290.0            1\n",
       "Name: BP1_35, Length: 117, dtype: int64"
      ]
     },
     "execution_count": 143,
     "metadata": {},
     "output_type": "execute_result"
    }
   ],
   "source": [
    "df_copy.BP1_35.value_counts()\n",
    "#Pendiente"
   ]
  },
  {
   "cell_type": "code",
   "execution_count": 225,
   "metadata": {},
   "outputs": [
    {
     "data": {
      "text/plain": [
       "0          8239\n",
       "nan        7843\n",
       "1000       2560\n",
       "2000       2270\n",
       "500        2001\n",
       "3000       1965\n",
       "1500       1562\n",
       "5000       1529\n",
       "300        1368\n",
       "200        1351\n",
       "4000        922\n",
       "800         817\n",
       "10000       796\n",
       "600         785\n",
       "100         763\n",
       "400         669\n",
       "1200        668\n",
       "2500        615\n",
       "6000        554\n",
       "20000       516\n",
       "15000       511\n",
       "700         487\n",
       "8000        465\n",
       "7000        456\n",
       "9999999     456\n",
       "3500        356\n",
       "30000       340\n",
       "150         293\n",
       "50000       240\n",
       "50          238\n",
       "           ... \n",
       "386           1\n",
       "375           1\n",
       "9850          1\n",
       "21600         1\n",
       "366           1\n",
       "2220          1\n",
       "357           1\n",
       "156000        1\n",
       "1375          1\n",
       "340           1\n",
       "1995          1\n",
       "490           1\n",
       "600000        1\n",
       "530           1\n",
       "5400          1\n",
       "800000        1\n",
       "22200         1\n",
       "640           1\n",
       "630           1\n",
       "96000         1\n",
       "1720          1\n",
       "580           1\n",
       "1746          1\n",
       "570           1\n",
       "553           1\n",
       "5900          1\n",
       "547           1\n",
       "1860          1\n",
       "535           1\n",
       "104000        1\n",
       "Name: BP1_34, Length: 393, dtype: int64"
      ]
     },
     "execution_count": 225,
     "metadata": {},
     "output_type": "execute_result"
    }
   ],
   "source": [
    "l=[]\n",
    "for i in df_copy.BP1_35:\n",
    "    k = str(i)\n",
    "    if(k != \"nan\"):\n",
    "        k = int(eval(k))\n",
    "        l.append(k)\n",
    "    else:\n",
    "        l.append(k)\n",
    "df_copy.BP1_35 = l\n",
    "df_copy.BP1_35.value_counts()"
   ]
  },
  {
   "cell_type": "code",
   "execution_count": 145,
   "metadata": {},
   "outputs": [
    {
     "data": {
      "text/plain": [
       "0.0    18701\n",
       "1.0     6181\n",
       "Name: BP1_36_01, dtype: int64"
      ]
     },
     "execution_count": 145,
     "metadata": {},
     "output_type": "execute_result"
    }
   ],
   "source": [
    "df_copy.BP1_36_01.value_counts()"
   ]
  },
  {
   "cell_type": "code",
   "execution_count": 146,
   "metadata": {},
   "outputs": [
    {
     "data": {
      "text/plain": [
       "0    18701\n",
       "1     6181\n",
       "Name: BP1_36_01, dtype: int64"
      ]
     },
     "execution_count": 146,
     "metadata": {},
     "output_type": "execute_result"
    }
   ],
   "source": [
    "df_copy.BP1_36_01.replace({1.0:'1',0.0:'0'}, inplace=True)\n",
    "df_copy.BP1_36_01.value_counts()"
   ]
  },
  {
   "cell_type": "code",
   "execution_count": 147,
   "metadata": {},
   "outputs": [
    {
     "data": {
      "text/plain": [
       "0.0    19428\n",
       "1.0     5454\n",
       "Name: BP1_36_02, dtype: int64"
      ]
     },
     "execution_count": 147,
     "metadata": {},
     "output_type": "execute_result"
    }
   ],
   "source": [
    "df_copy.BP1_36_02.value_counts()"
   ]
  },
  {
   "cell_type": "code",
   "execution_count": 148,
   "metadata": {},
   "outputs": [
    {
     "data": {
      "text/plain": [
       "0    19428\n",
       "1     5454\n",
       "Name: BP1_36_02, dtype: int64"
      ]
     },
     "execution_count": 148,
     "metadata": {},
     "output_type": "execute_result"
    }
   ],
   "source": [
    "df_copy.BP1_36_02.replace({1.0:'1',0.0:'0'}, inplace=True)\n",
    "df_copy.BP1_36_02.value_counts()"
   ]
  },
  {
   "cell_type": "code",
   "execution_count": 149,
   "metadata": {},
   "outputs": [
    {
     "data": {
      "text/plain": [
       "0.0    16559\n",
       "1.0     8323\n",
       "Name: BP1_36_03, dtype: int64"
      ]
     },
     "execution_count": 149,
     "metadata": {},
     "output_type": "execute_result"
    }
   ],
   "source": [
    "df_copy.BP1_36_03.value_counts()"
   ]
  },
  {
   "cell_type": "code",
   "execution_count": 150,
   "metadata": {},
   "outputs": [
    {
     "data": {
      "text/plain": [
       "0    16559\n",
       "1     8323\n",
       "Name: BP1_36_03, dtype: int64"
      ]
     },
     "execution_count": 150,
     "metadata": {},
     "output_type": "execute_result"
    }
   ],
   "source": [
    "df_copy.BP1_36_03.replace({1.0:'1',0.0:'0'}, inplace=True)\n",
    "df_copy.BP1_36_03.value_counts()"
   ]
  },
  {
   "cell_type": "code",
   "execution_count": 151,
   "metadata": {},
   "outputs": [
    {
     "data": {
      "text/plain": [
       "0.0    16448\n",
       "1.0     8434\n",
       "Name: BP1_36_04, dtype: int64"
      ]
     },
     "execution_count": 151,
     "metadata": {},
     "output_type": "execute_result"
    }
   ],
   "source": [
    "df_copy.BP1_36_04.value_counts()"
   ]
  },
  {
   "cell_type": "code",
   "execution_count": 152,
   "metadata": {},
   "outputs": [
    {
     "data": {
      "text/plain": [
       "0    16448\n",
       "1     8434\n",
       "Name: BP1_36_04, dtype: int64"
      ]
     },
     "execution_count": 152,
     "metadata": {},
     "output_type": "execute_result"
    }
   ],
   "source": [
    "df_copy.BP1_36_04.replace({1.0:'1',0.0:'0'}, inplace=True)\n",
    "df_copy.BP1_36_04.value_counts()"
   ]
  },
  {
   "cell_type": "code",
   "execution_count": 153,
   "metadata": {},
   "outputs": [
    {
     "data": {
      "text/plain": [
       "0.0    23678\n",
       "1.0     1204\n",
       "Name: BP1_36_05, dtype: int64"
      ]
     },
     "execution_count": 153,
     "metadata": {},
     "output_type": "execute_result"
    }
   ],
   "source": [
    "df_copy.BP1_36_05.value_counts()"
   ]
  },
  {
   "cell_type": "code",
   "execution_count": 154,
   "metadata": {},
   "outputs": [
    {
     "data": {
      "text/plain": [
       "0    23678\n",
       "1     1204\n",
       "Name: BP1_36_05, dtype: int64"
      ]
     },
     "execution_count": 154,
     "metadata": {},
     "output_type": "execute_result"
    }
   ],
   "source": [
    "df_copy.BP1_36_05.replace({1.0:'1',0.0:'0'}, inplace=True)\n",
    "df_copy.BP1_36_05.value_counts()"
   ]
  },
  {
   "cell_type": "code",
   "execution_count": 155,
   "metadata": {},
   "outputs": [
    {
     "data": {
      "text/plain": [
       "0.0    21153\n",
       "1.0     3729\n",
       "Name: BP1_36_06, dtype: int64"
      ]
     },
     "execution_count": 155,
     "metadata": {},
     "output_type": "execute_result"
    }
   ],
   "source": [
    "df_copy.BP1_36_06.value_counts()"
   ]
  },
  {
   "cell_type": "code",
   "execution_count": 156,
   "metadata": {},
   "outputs": [
    {
     "data": {
      "text/plain": [
       "0    21153\n",
       "1     3729\n",
       "Name: BP1_36_06, dtype: int64"
      ]
     },
     "execution_count": 156,
     "metadata": {},
     "output_type": "execute_result"
    }
   ],
   "source": [
    "df_copy.BP1_36_06.replace({1.0:'1',0.0:'0'}, inplace=True)\n",
    "df_copy.BP1_36_06.value_counts()"
   ]
  },
  {
   "cell_type": "code",
   "execution_count": 157,
   "metadata": {},
   "outputs": [
    {
     "data": {
      "text/plain": [
       "0.0    22303\n",
       "1.0     2579\n",
       "Name: BP1_36_07, dtype: int64"
      ]
     },
     "execution_count": 157,
     "metadata": {},
     "output_type": "execute_result"
    }
   ],
   "source": [
    "df_copy.BP1_36_07.value_counts()"
   ]
  },
  {
   "cell_type": "code",
   "execution_count": 158,
   "metadata": {},
   "outputs": [
    {
     "data": {
      "text/plain": [
       "0    22303\n",
       "1     2579\n",
       "Name: BP1_36_07, dtype: int64"
      ]
     },
     "execution_count": 158,
     "metadata": {},
     "output_type": "execute_result"
    }
   ],
   "source": [
    "df_copy.BP1_36_07.replace({1.0:'1',0.0:'0'}, inplace=True)\n",
    "df_copy.BP1_36_07.value_counts()"
   ]
  },
  {
   "cell_type": "code",
   "execution_count": 159,
   "metadata": {},
   "outputs": [
    {
     "data": {
      "text/plain": [
       "0.0    17574\n",
       "1.0     7308\n",
       "Name: BP1_36_08, dtype: int64"
      ]
     },
     "execution_count": 159,
     "metadata": {},
     "output_type": "execute_result"
    }
   ],
   "source": [
    "df_copy.BP1_36_08.value_counts()"
   ]
  },
  {
   "cell_type": "code",
   "execution_count": 160,
   "metadata": {},
   "outputs": [
    {
     "data": {
      "text/plain": [
       "0    17574\n",
       "1     7308\n",
       "Name: BP1_36_08, dtype: int64"
      ]
     },
     "execution_count": 160,
     "metadata": {},
     "output_type": "execute_result"
    }
   ],
   "source": [
    "df_copy.BP1_36_08.replace({1.0:'1',0.0:'0'}, inplace=True)\n",
    "df_copy.BP1_36_08.value_counts()"
   ]
  },
  {
   "cell_type": "code",
   "execution_count": 161,
   "metadata": {},
   "outputs": [
    {
     "data": {
      "text/plain": [
       "0.0    15289\n",
       "1.0     9593\n",
       "Name: BP1_36_09, dtype: int64"
      ]
     },
     "execution_count": 161,
     "metadata": {},
     "output_type": "execute_result"
    }
   ],
   "source": [
    "df_copy.BP1_36_09.value_counts()"
   ]
  },
  {
   "cell_type": "code",
   "execution_count": 162,
   "metadata": {},
   "outputs": [
    {
     "data": {
      "text/plain": [
       "0    15289\n",
       "1     9593\n",
       "Name: BP1_36_09, dtype: int64"
      ]
     },
     "execution_count": 162,
     "metadata": {},
     "output_type": "execute_result"
    }
   ],
   "source": [
    "df_copy.BP1_36_09.replace({1.0:'1',0.0:'0'}, inplace=True)\n",
    "df_copy.BP1_36_09.value_counts()"
   ]
  },
  {
   "cell_type": "code",
   "execution_count": 163,
   "metadata": {},
   "outputs": [
    {
     "data": {
      "text/plain": [
       "0.0    24071\n",
       "1.0      811\n",
       "Name: BP1_36_10, dtype: int64"
      ]
     },
     "execution_count": 163,
     "metadata": {},
     "output_type": "execute_result"
    }
   ],
   "source": [
    "df_copy.BP1_36_10.value_counts()"
   ]
  },
  {
   "cell_type": "code",
   "execution_count": 164,
   "metadata": {},
   "outputs": [
    {
     "data": {
      "text/plain": [
       "0    24071\n",
       "1      811\n",
       "Name: BP1_36_10, dtype: int64"
      ]
     },
     "execution_count": 164,
     "metadata": {},
     "output_type": "execute_result"
    }
   ],
   "source": [
    "df_copy.BP1_36_10.replace({1.0:'1',0.0:'0'}, inplace=True)\n",
    "df_copy.BP1_36_10.value_counts()"
   ]
  },
  {
   "cell_type": "code",
   "execution_count": 165,
   "metadata": {},
   "outputs": [
    {
     "data": {
      "text/plain": [
       "0    24391\n",
       "1      491\n",
       "Name: BP1_36_11, dtype: int64"
      ]
     },
     "execution_count": 165,
     "metadata": {},
     "output_type": "execute_result"
    }
   ],
   "source": [
    "df_copy.BP1_36_11.replace({1.0:'1',0.0:'0'}, inplace=True)\n",
    "df_copy.BP1_36_11.value_counts()"
   ]
  },
  {
   "cell_type": "code",
   "execution_count": 166,
   "metadata": {},
   "outputs": [
    {
     "data": {
      "text/plain": [
       "0.0    24661\n",
       "1.0      221\n",
       "Name: BP1_36_99, dtype: int64"
      ]
     },
     "execution_count": 166,
     "metadata": {},
     "output_type": "execute_result"
    }
   ],
   "source": [
    "df_copy.BP1_36_99.value_counts()"
   ]
  },
  {
   "cell_type": "code",
   "execution_count": 167,
   "metadata": {},
   "outputs": [
    {
     "data": {
      "text/plain": [
       "0    24661\n",
       "1      221\n",
       "Name: BP1_36_99, dtype: int64"
      ]
     },
     "execution_count": 167,
     "metadata": {},
     "output_type": "execute_result"
    }
   ],
   "source": [
    "df_copy.BP1_36_99.replace({1.0:'1',0.0:'0'}, inplace=True)\n",
    "df_copy.BP1_36_99.value_counts()"
   ]
  },
  {
   "cell_type": "code",
   "execution_count": 168,
   "metadata": {},
   "outputs": [
    {
     "data": {
      "text/plain": [
       "2.0    1108\n",
       "1.0     464\n",
       "9.0      16\n",
       "Name: BP2_1, dtype: int64"
      ]
     },
     "execution_count": 168,
     "metadata": {},
     "output_type": "execute_result"
    }
   ],
   "source": [
    "df_copy.BP2_1.value_counts()"
   ]
  },
  {
   "cell_type": "code",
   "execution_count": 169,
   "metadata": {},
   "outputs": [
    {
     "data": {
      "text/plain": [
       "2     1108\n",
       "1      464\n",
       "99      16\n",
       "Name: BP2_1, dtype: int64"
      ]
     },
     "execution_count": 169,
     "metadata": {},
     "output_type": "execute_result"
    }
   ],
   "source": [
    "df_copy.BP2_1.replace({1.0:'1',2.0:'2',9.0:'99'}, inplace=True)\n",
    "df_copy.BP2_1.value_counts()"
   ]
  },
  {
   "cell_type": "code",
   "execution_count": 170,
   "metadata": {},
   "outputs": [
    {
     "data": {
      "text/plain": [
       "0.0    12088\n",
       "1.0      433\n",
       "Name: BP3_1_01, dtype: int64"
      ]
     },
     "execution_count": 170,
     "metadata": {},
     "output_type": "execute_result"
    }
   ],
   "source": [
    "df_copy.BP3_1_01.value_counts()"
   ]
  },
  {
   "cell_type": "code",
   "execution_count": 171,
   "metadata": {},
   "outputs": [
    {
     "data": {
      "text/plain": [
       "0    12088\n",
       "1      433\n",
       "Name: BP3_1_01, dtype: int64"
      ]
     },
     "execution_count": 171,
     "metadata": {},
     "output_type": "execute_result"
    }
   ],
   "source": [
    "df_copy.BP3_1_01.replace({1.0:'1',0.0:'0'}, inplace=True)\n",
    "df_copy.BP3_1_01.value_counts()"
   ]
  },
  {
   "cell_type": "code",
   "execution_count": 172,
   "metadata": {},
   "outputs": [
    {
     "data": {
      "text/plain": [
       "0.0    11981\n",
       "1.0      540\n",
       "Name: BP3_1_02, dtype: int64"
      ]
     },
     "execution_count": 172,
     "metadata": {},
     "output_type": "execute_result"
    }
   ],
   "source": [
    "df_copy.BP3_1_02.value_counts()"
   ]
  },
  {
   "cell_type": "code",
   "execution_count": 173,
   "metadata": {},
   "outputs": [
    {
     "data": {
      "text/plain": [
       "0    11981\n",
       "1      540\n",
       "Name: BP3_1_02, dtype: int64"
      ]
     },
     "execution_count": 173,
     "metadata": {},
     "output_type": "execute_result"
    }
   ],
   "source": [
    "df_copy.BP3_1_02.replace({1.0:'1',0.0:'0'}, inplace=True)\n",
    "df_copy.BP3_1_02.value_counts()"
   ]
  },
  {
   "cell_type": "code",
   "execution_count": 174,
   "metadata": {},
   "outputs": [
    {
     "data": {
      "text/plain": [
       "0.0    10621\n",
       "1.0     1900\n",
       "Name: BP3_1_03, dtype: int64"
      ]
     },
     "execution_count": 174,
     "metadata": {},
     "output_type": "execute_result"
    }
   ],
   "source": [
    "df_copy.BP3_1_03.value_counts()"
   ]
  },
  {
   "cell_type": "code",
   "execution_count": 175,
   "metadata": {},
   "outputs": [
    {
     "data": {
      "text/plain": [
       "0    10621\n",
       "1     1900\n",
       "Name: BP3_1_03, dtype: int64"
      ]
     },
     "execution_count": 175,
     "metadata": {},
     "output_type": "execute_result"
    }
   ],
   "source": [
    "df_copy.BP3_1_03.replace({1.0:'1',0.0:'0'}, inplace=True)\n",
    "df_copy.BP3_1_03.value_counts()"
   ]
  },
  {
   "cell_type": "code",
   "execution_count": 176,
   "metadata": {},
   "outputs": [
    {
     "data": {
      "text/plain": [
       "0.0    11679\n",
       "1.0      842\n",
       "Name: BP3_1_04, dtype: int64"
      ]
     },
     "execution_count": 176,
     "metadata": {},
     "output_type": "execute_result"
    }
   ],
   "source": [
    "df_copy.BP3_1_04.value_counts()"
   ]
  },
  {
   "cell_type": "code",
   "execution_count": 177,
   "metadata": {},
   "outputs": [
    {
     "data": {
      "text/plain": [
       "0    11679\n",
       "1      842\n",
       "Name: BP3_1_04, dtype: int64"
      ]
     },
     "execution_count": 177,
     "metadata": {},
     "output_type": "execute_result"
    }
   ],
   "source": [
    "df_copy.BP3_1_04.replace({1.0:'1',0.0:'0'}, inplace=True)\n",
    "df_copy.BP3_1_04.value_counts()"
   ]
  },
  {
   "cell_type": "code",
   "execution_count": 178,
   "metadata": {},
   "outputs": [
    {
     "data": {
      "text/plain": [
       "0.0    11650\n",
       "1.0      871\n",
       "Name: BP3_1_05, dtype: int64"
      ]
     },
     "execution_count": 178,
     "metadata": {},
     "output_type": "execute_result"
    }
   ],
   "source": [
    "df_copy.BP3_1_05.value_counts()"
   ]
  },
  {
   "cell_type": "code",
   "execution_count": 179,
   "metadata": {},
   "outputs": [
    {
     "data": {
      "text/plain": [
       "0    11650\n",
       "1      871\n",
       "Name: BP3_1_05, dtype: int64"
      ]
     },
     "execution_count": 179,
     "metadata": {},
     "output_type": "execute_result"
    }
   ],
   "source": [
    "df_copy.BP3_1_05.replace({1.0:'1',0.0:'0'}, inplace=True)\n",
    "df_copy.BP3_1_05.value_counts()"
   ]
  },
  {
   "cell_type": "code",
   "execution_count": 180,
   "metadata": {},
   "outputs": [
    {
     "data": {
      "text/plain": [
       "0.0    10589\n",
       "1.0     1932\n",
       "Name: BP3_1_06, dtype: int64"
      ]
     },
     "execution_count": 180,
     "metadata": {},
     "output_type": "execute_result"
    }
   ],
   "source": [
    "df_copy.BP3_1_06.value_counts()"
   ]
  },
  {
   "cell_type": "code",
   "execution_count": 181,
   "metadata": {},
   "outputs": [
    {
     "data": {
      "text/plain": [
       "0    10589\n",
       "1     1932\n",
       "Name: BP3_1_06, dtype: int64"
      ]
     },
     "execution_count": 181,
     "metadata": {},
     "output_type": "execute_result"
    }
   ],
   "source": [
    "df_copy.BP3_1_06.replace({1.0:'1',0.0:'0'}, inplace=True)\n",
    "df_copy.BP3_1_06.value_counts()"
   ]
  },
  {
   "cell_type": "code",
   "execution_count": 182,
   "metadata": {},
   "outputs": [
    {
     "data": {
      "text/plain": [
       "0.0    7555\n",
       "1.0    4966\n",
       "Name: BP3_1_07, dtype: int64"
      ]
     },
     "execution_count": 182,
     "metadata": {},
     "output_type": "execute_result"
    }
   ],
   "source": [
    "df_copy.BP3_1_07.value_counts()"
   ]
  },
  {
   "cell_type": "code",
   "execution_count": 183,
   "metadata": {},
   "outputs": [
    {
     "data": {
      "text/plain": [
       "0    7555\n",
       "1    4966\n",
       "Name: BP3_1_07, dtype: int64"
      ]
     },
     "execution_count": 183,
     "metadata": {},
     "output_type": "execute_result"
    }
   ],
   "source": [
    "df_copy.BP3_1_07.replace({1.0:'1',0.0:'0'}, inplace=True)\n",
    "df_copy.BP3_1_07.value_counts()"
   ]
  },
  {
   "cell_type": "code",
   "execution_count": 184,
   "metadata": {},
   "outputs": [
    {
     "data": {
      "text/plain": [
       "0.0    11877\n",
       "1.0      644\n",
       "Name: BP3_1_08, dtype: int64"
      ]
     },
     "execution_count": 184,
     "metadata": {},
     "output_type": "execute_result"
    }
   ],
   "source": [
    "df_copy.BP3_1_08.value_counts()"
   ]
  },
  {
   "cell_type": "code",
   "execution_count": 185,
   "metadata": {},
   "outputs": [
    {
     "data": {
      "text/plain": [
       "0    11877\n",
       "1      644\n",
       "Name: BP3_1_08, dtype: int64"
      ]
     },
     "execution_count": 185,
     "metadata": {},
     "output_type": "execute_result"
    }
   ],
   "source": [
    "df_copy.BP3_1_08.replace({1.0:'1',0.0:'0'}, inplace=True)\n",
    "df_copy.BP3_1_08.value_counts()"
   ]
  },
  {
   "cell_type": "code",
   "execution_count": 186,
   "metadata": {},
   "outputs": [
    {
     "data": {
      "text/plain": [
       "0.0    9972\n",
       "1.0    2549\n",
       "Name: BP3_1_09, dtype: int64"
      ]
     },
     "execution_count": 186,
     "metadata": {},
     "output_type": "execute_result"
    }
   ],
   "source": [
    "df_copy.BP3_1_09.value_counts()"
   ]
  },
  {
   "cell_type": "code",
   "execution_count": 187,
   "metadata": {},
   "outputs": [
    {
     "data": {
      "text/plain": [
       "0    9972\n",
       "1    2549\n",
       "Name: BP3_1_09, dtype: int64"
      ]
     },
     "execution_count": 187,
     "metadata": {},
     "output_type": "execute_result"
    }
   ],
   "source": [
    "df_copy.BP3_1_09.replace({1.0:'1',0.0:'0'}, inplace=True)\n",
    "df_copy.BP3_1_09.value_counts()"
   ]
  },
  {
   "cell_type": "code",
   "execution_count": 188,
   "metadata": {},
   "outputs": [
    {
     "data": {
      "text/plain": [
       "0    12089\n",
       "1      432\n",
       "Name: BP3_1_10, dtype: int64"
      ]
     },
     "execution_count": 188,
     "metadata": {},
     "output_type": "execute_result"
    }
   ],
   "source": [
    "df_copy.BP3_1_10.replace({1.0:'1',0.0:'0'}, inplace=True)\n",
    "df_copy.BP3_1_10.value_counts()"
   ]
  },
  {
   "cell_type": "code",
   "execution_count": 189,
   "metadata": {},
   "outputs": [
    {
     "data": {
      "text/plain": [
       "0.0    9798\n",
       "1.0    2723\n",
       "Name: BP3_1_11, dtype: int64"
      ]
     },
     "execution_count": 189,
     "metadata": {},
     "output_type": "execute_result"
    }
   ],
   "source": [
    "df_copy.BP3_1_11.value_counts()"
   ]
  },
  {
   "cell_type": "code",
   "execution_count": 190,
   "metadata": {},
   "outputs": [
    {
     "data": {
      "text/plain": [
       "0    9798\n",
       "1    2723\n",
       "Name: BP3_1_11, dtype: int64"
      ]
     },
     "execution_count": 190,
     "metadata": {},
     "output_type": "execute_result"
    }
   ],
   "source": [
    "df_copy.BP3_1_11.replace({1.0:'1',0.0:'0'}, inplace=True)\n",
    "df_copy.BP3_1_11.value_counts()"
   ]
  },
  {
   "cell_type": "code",
   "execution_count": 191,
   "metadata": {},
   "outputs": [
    {
     "data": {
      "text/plain": [
       "0.0    11820\n",
       "1.0      701\n",
       "Name: BP3_1_99, dtype: int64"
      ]
     },
     "execution_count": 191,
     "metadata": {},
     "output_type": "execute_result"
    }
   ],
   "source": [
    "df_copy.BP3_1_99.value_counts()"
   ]
  },
  {
   "cell_type": "code",
   "execution_count": 192,
   "metadata": {},
   "outputs": [
    {
     "data": {
      "text/plain": [
       "0    11820\n",
       "1      701\n",
       "Name: BP3_1_99, dtype: int64"
      ]
     },
     "execution_count": 192,
     "metadata": {},
     "output_type": "execute_result"
    }
   ],
   "source": [
    "df_copy.BP3_1_99.replace({1.0:'1',0.0:'0'}, inplace=True)\n",
    "df_copy.BP3_1_99.value_counts()"
   ]
  },
  {
   "cell_type": "code",
   "execution_count": 193,
   "metadata": {},
   "outputs": [
    {
     "data": {
      "text/plain": [
       "2.0    3970\n",
       "1.0    1785\n",
       "9.0     511\n",
       "Name: BP3_2, dtype: int64"
      ]
     },
     "execution_count": 193,
     "metadata": {},
     "output_type": "execute_result"
    }
   ],
   "source": [
    "df_copy.BP3_2.value_counts()"
   ]
  },
  {
   "cell_type": "code",
   "execution_count": 194,
   "metadata": {},
   "outputs": [
    {
     "data": {
      "text/plain": [
       "2     3970\n",
       "1     1785\n",
       "99     511\n",
       "Name: BP3_2, dtype: int64"
      ]
     },
     "execution_count": 194,
     "metadata": {},
     "output_type": "execute_result"
    }
   ],
   "source": [
    "df_copy.BP3_2.replace({1.0:'1',2.0:'2',9.0:'99'}, inplace=True)\n",
    "df_copy.BP3_2.value_counts()"
   ]
  },
  {
   "cell_type": "code",
   "execution_count": 195,
   "metadata": {},
   "outputs": [
    {
     "data": {
      "text/plain": [
       "3.0    1428\n",
       "4.0    1200\n",
       "2.0     224\n",
       "6.0     192\n",
       "9.0      88\n",
       "5.0      79\n",
       "1.0      47\n",
       "Name: BP4_1, dtype: int64"
      ]
     },
     "execution_count": 195,
     "metadata": {},
     "output_type": "execute_result"
    }
   ],
   "source": [
    "df_copy.BP4_1.value_counts()"
   ]
  },
  {
   "cell_type": "code",
   "execution_count": 196,
   "metadata": {},
   "outputs": [
    {
     "data": {
      "text/plain": [
       "3     1428\n",
       "4     1200\n",
       "2      224\n",
       "6      192\n",
       "99      88\n",
       "5       79\n",
       "1       47\n",
       "Name: BP4_1, dtype: int64"
      ]
     },
     "execution_count": 196,
     "metadata": {},
     "output_type": "execute_result"
    }
   ],
   "source": [
    "df_copy.BP4_1.replace({1.0:'1',2.0:'2',3.0:'3',4.0:'4',5.0:'5',6.0:'6',9.0:'99'}, inplace=True)\n",
    "df_copy.BP4_1.value_counts()"
   ]
  },
  {
   "cell_type": "code",
   "execution_count": 197,
   "metadata": {},
   "outputs": [
    {
     "data": {
      "text/plain": [
       "1.0    5811\n",
       "4.0     236\n",
       "5.0      94\n",
       "9.0      91\n",
       "7.0      57\n",
       "2.0      46\n",
       "6.0      30\n",
       "3.0      23\n",
       "Name: BP5_1, dtype: int64"
      ]
     },
     "execution_count": 197,
     "metadata": {},
     "output_type": "execute_result"
    }
   ],
   "source": [
    "df_copy.BP5_1.value_counts()"
   ]
  },
  {
   "cell_type": "code",
   "execution_count": 198,
   "metadata": {},
   "outputs": [
    {
     "data": {
      "text/plain": [
       "1     5811\n",
       "4      236\n",
       "5       94\n",
       "99      91\n",
       "7       57\n",
       "2       46\n",
       "6       30\n",
       "3       23\n",
       "Name: BP5_1, dtype: int64"
      ]
     },
     "execution_count": 198,
     "metadata": {},
     "output_type": "execute_result"
    }
   ],
   "source": [
    "df_copy.BP5_1.replace({1.0:'1',2.0:'2',3.0:'3',4.0:'4',5.0:'5',6.0:'6',7.0:'7',9.0:'99'}, inplace=True)\n",
    "df_copy.BP5_1.value_counts()"
   ]
  },
  {
   "cell_type": "code",
   "execution_count": 199,
   "metadata": {},
   "outputs": [
    {
     "data": {
      "text/plain": [
       "1.0    4775\n",
       "0.0    1613\n",
       "Name: BP5_2_1, dtype: int64"
      ]
     },
     "execution_count": 199,
     "metadata": {},
     "output_type": "execute_result"
    }
   ],
   "source": [
    "df_copy.BP5_2_1.value_counts()"
   ]
  },
  {
   "cell_type": "code",
   "execution_count": 200,
   "metadata": {},
   "outputs": [
    {
     "data": {
      "text/plain": [
       "1    4775\n",
       "0    1613\n",
       "Name: BP5_2_1, dtype: int64"
      ]
     },
     "execution_count": 200,
     "metadata": {},
     "output_type": "execute_result"
    }
   ],
   "source": [
    "df_copy.BP5_2_1.replace({1.0:'1',0.0:'0'}, inplace=True)\n",
    "df_copy.BP5_2_1.value_counts()"
   ]
  },
  {
   "cell_type": "code",
   "execution_count": 201,
   "metadata": {},
   "outputs": [
    {
     "data": {
      "text/plain": [
       "0.0    6134\n",
       "1.0     254\n",
       "Name: BP5_2_2, dtype: int64"
      ]
     },
     "execution_count": 201,
     "metadata": {},
     "output_type": "execute_result"
    }
   ],
   "source": [
    "df_copy.BP5_2_2.value_counts()"
   ]
  },
  {
   "cell_type": "code",
   "execution_count": 202,
   "metadata": {},
   "outputs": [
    {
     "data": {
      "text/plain": [
       "0    6134\n",
       "1     254\n",
       "Name: BP5_2_2, dtype: int64"
      ]
     },
     "execution_count": 202,
     "metadata": {},
     "output_type": "execute_result"
    }
   ],
   "source": [
    "df_copy.BP5_2_2.replace({1.0:'1',0.0:'0'}, inplace=True)\n",
    "df_copy.BP5_2_2.value_counts()"
   ]
  },
  {
   "cell_type": "code",
   "execution_count": 203,
   "metadata": {},
   "outputs": [
    {
     "data": {
      "text/plain": [
       "0.0    6091\n",
       "1.0     297\n",
       "Name: BP5_2_3, dtype: int64"
      ]
     },
     "execution_count": 203,
     "metadata": {},
     "output_type": "execute_result"
    }
   ],
   "source": [
    "df_copy.BP5_2_3.value_counts()"
   ]
  },
  {
   "cell_type": "code",
   "execution_count": 204,
   "metadata": {},
   "outputs": [
    {
     "data": {
      "text/plain": [
       "0    6091\n",
       "1     297\n",
       "Name: BP5_2_3, dtype: int64"
      ]
     },
     "execution_count": 204,
     "metadata": {},
     "output_type": "execute_result"
    }
   ],
   "source": [
    "df_copy.BP5_2_3.replace({1.0:'1',0.0:'0'}, inplace=True)\n",
    "df_copy.BP5_2_3.value_counts()"
   ]
  },
  {
   "cell_type": "code",
   "execution_count": 205,
   "metadata": {},
   "outputs": [
    {
     "data": {
      "text/plain": [
       "0.0    5229\n",
       "1.0    1159\n",
       "Name: BP5_2_4, dtype: int64"
      ]
     },
     "execution_count": 205,
     "metadata": {},
     "output_type": "execute_result"
    }
   ],
   "source": [
    "df_copy.BP5_2_4.value_counts()"
   ]
  },
  {
   "cell_type": "code",
   "execution_count": 206,
   "metadata": {},
   "outputs": [
    {
     "data": {
      "text/plain": [
       "0    5229\n",
       "1    1159\n",
       "Name: BP5_2_4, dtype: int64"
      ]
     },
     "execution_count": 206,
     "metadata": {},
     "output_type": "execute_result"
    }
   ],
   "source": [
    "df_copy.BP5_2_4.replace({1.0:'1',0.0:'0'}, inplace=True)\n",
    "df_copy.BP5_2_4.value_counts()"
   ]
  },
  {
   "cell_type": "code",
   "execution_count": 207,
   "metadata": {},
   "outputs": [
    {
     "data": {
      "text/plain": [
       "3.0    4659\n",
       "1.0     369\n",
       "2.0     140\n",
       "9.0      61\n",
       "Name: BP5_3, dtype: int64"
      ]
     },
     "execution_count": 207,
     "metadata": {},
     "output_type": "execute_result"
    }
   ],
   "source": [
    "df_copy.BP5_3.value_counts()"
   ]
  },
  {
   "cell_type": "code",
   "execution_count": 208,
   "metadata": {},
   "outputs": [
    {
     "data": {
      "text/plain": [
       "3     4659\n",
       "1      369\n",
       "2      140\n",
       "99      61\n",
       "Name: BP5_3, dtype: int64"
      ]
     },
     "execution_count": 208,
     "metadata": {},
     "output_type": "execute_result"
    }
   ],
   "source": [
    "df_copy.BP5_3.replace({1.0:'1',2.0:'2',3.0:'3',4.0:'4',5.0:'5',6.0:'6',7.0:'7',9.0:'99'}, inplace=True)\n",
    "df_copy.BP5_3.value_counts()"
   ]
  },
  {
   "cell_type": "code",
   "execution_count": 209,
   "metadata": {},
   "outputs": [
    {
     "data": {
      "text/plain": [
       "1.0    42\n",
       "2.0    19\n",
       "9.0    11\n",
       "3.0     4\n",
       "4.0     4\n",
       "6.0     1\n",
       "5.0     1\n",
       "Name: BP6_1, dtype: int64"
      ]
     },
     "execution_count": 209,
     "metadata": {},
     "output_type": "execute_result"
    }
   ],
   "source": [
    "df_copy.BP6_1.value_counts()"
   ]
  },
  {
   "cell_type": "code",
   "execution_count": 210,
   "metadata": {},
   "outputs": [
    {
     "data": {
      "text/plain": [
       "1     42\n",
       "2     19\n",
       "99    11\n",
       "3      4\n",
       "4      4\n",
       "6      1\n",
       "5      1\n",
       "Name: BP6_1, dtype: int64"
      ]
     },
     "execution_count": 210,
     "metadata": {},
     "output_type": "execute_result"
    }
   ],
   "source": [
    "df_copy.BP6_1.replace({1.0:'1',2.0:'2',3.0:'3',4.0:'4',5.0:'5',6.0:'6',7.0:'7',9.0:'99'}, inplace=True)\n",
    "df_copy.BP6_1.value_counts()"
   ]
  },
  {
   "cell_type": "code",
   "execution_count": 211,
   "metadata": {},
   "outputs": [
    {
     "data": {
      "text/plain": [
       "1.0    32\n",
       "2.0    26\n",
       "9.0    24\n",
       "Name: BP6_2, dtype: int64"
      ]
     },
     "execution_count": 211,
     "metadata": {},
     "output_type": "execute_result"
    }
   ],
   "source": [
    "df_copy.BP6_2.value_counts()"
   ]
  },
  {
   "cell_type": "code",
   "execution_count": 212,
   "metadata": {},
   "outputs": [
    {
     "data": {
      "text/plain": [
       "1     32\n",
       "2     26\n",
       "99    24\n",
       "Name: BP6_2, dtype: int64"
      ]
     },
     "execution_count": 212,
     "metadata": {},
     "output_type": "execute_result"
    }
   ],
   "source": [
    "df_copy.BP6_2.replace({1.0:'1',2.0:'2',3.0:'3',4.0:'4',5.0:'5',6.0:'6',7.0:'7',9.0:'99'}, inplace=True)\n",
    "df_copy.BP6_2.value_counts()"
   ]
  },
  {
   "cell_type": "code",
   "execution_count": 213,
   "metadata": {},
   "outputs": [
    {
     "data": {
      "text/plain": [
       "1.0    40\n",
       "3.0    23\n",
       "9.0    11\n",
       "2.0     8\n",
       "Name: BP6_3, dtype: int64"
      ]
     },
     "execution_count": 213,
     "metadata": {},
     "output_type": "execute_result"
    }
   ],
   "source": [
    "df_copy.BP6_3.value_counts()"
   ]
  },
  {
   "cell_type": "code",
   "execution_count": 214,
   "metadata": {},
   "outputs": [
    {
     "data": {
      "text/plain": [
       "1     40\n",
       "3     23\n",
       "99    11\n",
       "2      8\n",
       "Name: BP6_3, dtype: int64"
      ]
     },
     "execution_count": 214,
     "metadata": {},
     "output_type": "execute_result"
    }
   ],
   "source": [
    "df_copy.BP6_3.replace({1.0:'1',2.0:'2',3.0:'3',4.0:'4',5.0:'5',6.0:'6',7.0:'7',9.0:'99'}, inplace=True)\n",
    "df_copy.BP6_3.value_counts()"
   ]
  },
  {
   "cell_type": "code",
   "execution_count": 215,
   "metadata": {},
   "outputs": [
    {
     "data": {
      "text/plain": [
       "1.0    8\n",
       "2.0    8\n",
       "9.0    1\n",
       "Name: BP6_4, dtype: int64"
      ]
     },
     "execution_count": 215,
     "metadata": {},
     "output_type": "execute_result"
    }
   ],
   "source": [
    "df_copy.BP6_4.value_counts()"
   ]
  },
  {
   "cell_type": "code",
   "execution_count": 216,
   "metadata": {},
   "outputs": [
    {
     "data": {
      "text/plain": [
       "2     8\n",
       "1     8\n",
       "99    1\n",
       "Name: BP6_4, dtype: int64"
      ]
     },
     "execution_count": 216,
     "metadata": {},
     "output_type": "execute_result"
    }
   ],
   "source": [
    "df_copy.BP6_4.replace({1.0:'1',2.0:'2',3.0:'3',4.0:'4',5.0:'5',6.0:'6',7.0:'7',9.0:'99'}, inplace=True)\n",
    "df_copy.BP6_4.value_counts()"
   ]
  },
  {
   "cell_type": "code",
   "execution_count": 217,
   "metadata": {},
   "outputs": [
    {
     "data": {
      "text/plain": [
       "2.0    195\n",
       "3.0    133\n",
       "4.0    102\n",
       "1.0     44\n",
       "9.0     10\n",
       "5.0      1\n",
       "Name: BP7_1, dtype: int64"
      ]
     },
     "execution_count": 217,
     "metadata": {},
     "output_type": "execute_result"
    }
   ],
   "source": [
    "df_copy.BP7_1.value_counts()"
   ]
  },
  {
   "cell_type": "code",
   "execution_count": 218,
   "metadata": {},
   "outputs": [
    {
     "data": {
      "text/plain": [
       "2     195\n",
       "3     133\n",
       "4     102\n",
       "1      44\n",
       "99     10\n",
       "5       1\n",
       "Name: BP7_1, dtype: int64"
      ]
     },
     "execution_count": 218,
     "metadata": {},
     "output_type": "execute_result"
    }
   ],
   "source": [
    "df_copy.BP7_1.replace({1.0:'1',2.0:'2',3.0:'3',4.0:'4',5.0:'5',6.0:'6',7.0:'7',9.0:'99'}, inplace=True)\n",
    "df_copy.BP7_1.value_counts()"
   ]
  },
  {
   "cell_type": "code",
   "execution_count": 219,
   "metadata": {},
   "outputs": [
    {
     "data": {
      "text/plain": [
       "146      157\n",
       "131      154\n",
       "168      154\n",
       "182      153\n",
       "152      149\n",
       "148      144\n",
       "150      141\n",
       "126      141\n",
       "143      139\n",
       "173      138\n",
       "71       137\n",
       "174      136\n",
       "202      135\n",
       "214      135\n",
       "158      134\n",
       "151      133\n",
       "312      132\n",
       "162      130\n",
       "170      130\n",
       "180      129\n",
       "178      128\n",
       "58       128\n",
       "172      128\n",
       "166      127\n",
       "139      125\n",
       "176      124\n",
       "278      122\n",
       "184      121\n",
       "115      120\n",
       "112      118\n",
       "        ... \n",
       "2715       1\n",
       "4824       1\n",
       "3175       1\n",
       "2065       1\n",
       "10530      1\n",
       "3438       1\n",
       "7290       1\n",
       "1359       1\n",
       "3558       1\n",
       "1319       1\n",
       "3214       1\n",
       "1191       1\n",
       "1095       1\n",
       "3110       1\n",
       "3078       1\n",
       "2898       1\n",
       "3246       1\n",
       "1241       1\n",
       "3352       1\n",
       "4965       1\n",
       "9015       1\n",
       "1369       1\n",
       "3480       1\n",
       "4773       1\n",
       "3608       1\n",
       "3640       1\n",
       "2598       1\n",
       "3374       1\n",
       "3672       1\n",
       "3696       1\n",
       "Name: FAC_DEL, Length: 2842, dtype: int64"
      ]
     },
     "execution_count": 219,
     "metadata": {},
     "output_type": "execute_result"
    }
   ],
   "source": [
    "df_copy.FAC_DEL.value_counts()"
   ]
  },
  {
   "cell_type": "code",
   "execution_count": 220,
   "metadata": {},
   "outputs": [
    {
     "data": {
      "text/plain": [
       "U    37147\n",
       "C     6980\n",
       "R     2990\n",
       "Name: DOM, dtype: int64"
      ]
     },
     "execution_count": 220,
     "metadata": {},
     "output_type": "execute_result"
    }
   ],
   "source": [
    "df_copy.DOM.value_counts()"
   ]
  },
  {
   "cell_type": "code",
   "execution_count": 221,
   "metadata": {},
   "outputs": [
    {
     "data": {
      "text/plain": [
       "114    1198\n",
       "166    1159\n",
       "106    1063\n",
       "107     829\n",
       "167     780\n",
       "90      768\n",
       "14      750\n",
       "124     733\n",
       "123     711\n",
       "203     667\n",
       "176     656\n",
       "132     646\n",
       "81      633\n",
       "64      597\n",
       "183     592\n",
       "23      574\n",
       "148     569\n",
       "100     559\n",
       "258     542\n",
       "157     539\n",
       "61      523\n",
       "115     512\n",
       "149     505\n",
       "249     482\n",
       "158     482\n",
       "213     481\n",
       "6       475\n",
       "52      475\n",
       "108     474\n",
       "99      469\n",
       "       ... \n",
       "224      16\n",
       "41       16\n",
       "182      15\n",
       "226      15\n",
       "240      14\n",
       "122      14\n",
       "68       13\n",
       "146      13\n",
       "174      12\n",
       "33       12\n",
       "159      11\n",
       "144      11\n",
       "80       11\n",
       "50       11\n",
       "88       11\n",
       "169      11\n",
       "228      11\n",
       "256      10\n",
       "261      10\n",
       "11        9\n",
       "191       8\n",
       "145       6\n",
       "92        5\n",
       "244       5\n",
       "36        5\n",
       "237       4\n",
       "75        4\n",
       "3         2\n",
       "147       2\n",
       "155       1\n",
       "Name: EST, Length: 268, dtype: int64"
      ]
     },
     "execution_count": 221,
     "metadata": {},
     "output_type": "execute_result"
    }
   ],
   "source": [
    "df_copy.EST.value_counts()"
   ]
  },
  {
   "cell_type": "code",
   "execution_count": 222,
   "metadata": {},
   "outputs": [
    {
     "data": {
      "text/plain": [
       "1023     47\n",
       "12535    46\n",
       "4385     45\n",
       "10729    42\n",
       "10355    40\n",
       "13072    37\n",
       "6662     36\n",
       "10415    35\n",
       "3564     35\n",
       "5245     35\n",
       "3714     34\n",
       "9808     33\n",
       "1018     32\n",
       "1036     30\n",
       "8180     30\n",
       "7353     29\n",
       "1062     29\n",
       "632      28\n",
       "8302     28\n",
       "5240     28\n",
       "6215     28\n",
       "638      28\n",
       "7136     28\n",
       "5461     26\n",
       "5287     26\n",
       "5331     26\n",
       "10393    25\n",
       "3225     25\n",
       "10540    25\n",
       "704      25\n",
       "         ..\n",
       "10026     1\n",
       "1070      1\n",
       "1806      1\n",
       "9962      1\n",
       "5836      1\n",
       "3727      1\n",
       "1646      1\n",
       "5740      1\n",
       "11883     1\n",
       "11819     1\n",
       "1550      1\n",
       "9738      1\n",
       "1518      1\n",
       "3535      1\n",
       "1486      1\n",
       "3503      1\n",
       "9578      1\n",
       "11595     1\n",
       "3375      1\n",
       "5420      1\n",
       "11563     1\n",
       "3343      1\n",
       "11531     1\n",
       "5324      1\n",
       "3247      1\n",
       "7341      1\n",
       "11371     1\n",
       "1102      1\n",
       "11339     1\n",
       "2049      1\n",
       "Name: UPM, Length: 11052, dtype: int64"
      ]
     },
     "execution_count": 222,
     "metadata": {},
     "output_type": "execute_result"
    }
   ],
   "source": [
    "df_copy.UPM.value_counts()"
   ]
  },
  {
   "cell_type": "code",
   "execution_count": 223,
   "metadata": {},
   "outputs": [
    {
     "data": {
      "text/plain": [
       "2    21824\n",
       "3    15951\n",
       "4     6319\n",
       "1     3023\n",
       "Name: EST_SOC, dtype: int64"
      ]
     },
     "execution_count": 223,
     "metadata": {},
     "output_type": "execute_result"
    }
   ],
   "source": [
    "df_copy.EST_SOC.value_counts()"
   ]
  },
  {
   "cell_type": "code",
   "execution_count": 226,
   "metadata": {},
   "outputs": [],
   "source": [
    "df_copy.to_csv('2013.csv')"
   ]
  },
  {
   "cell_type": "code",
   "execution_count": null,
   "metadata": {},
   "outputs": [],
   "source": []
  }
 ],
 "metadata": {
  "kernelspec": {
   "display_name": "Python 3",
   "language": "python",
   "name": "python3"
  },
  "language_info": {
   "codemirror_mode": {
    "name": "ipython",
    "version": 3
   },
   "file_extension": ".py",
   "mimetype": "text/x-python",
   "name": "python",
   "nbconvert_exporter": "python",
   "pygments_lexer": "ipython3",
   "version": "3.6.5"
  }
 },
 "nbformat": 4,
 "nbformat_minor": 2
}
